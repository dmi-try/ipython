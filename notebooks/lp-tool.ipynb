{
 "cells": [
  {
   "cell_type": "markdown",
   "metadata": {},
   "source": [
    "# Gists for work with Launchpad"
   ]
  },
  {
   "cell_type": "markdown",
   "metadata": {},
   "source": [
    "You can find Launchpad API documentation here: https://launchpad.net/+apidoc/devel.html#specification"
   ]
  },
  {
   "cell_type": "markdown",
   "metadata": {},
   "source": [
    "## Initialise launchpad connection"
   ]
  },
  {
   "cell_type": "code",
   "execution_count": 2,
   "metadata": {
    "collapsed": false
   },
   "outputs": [
    {
     "data": {
      "text/html": [
       "1449086 <a href=https://bugs.launchpad.net/bugs/1449086>Deploy button still shows \"Deploy Changes\" after provisioning was started from CLI</a><br>- Confirmed / Medium / fuel-python / 10.0<br>- [area-python <i>covered-by-bp</i> known-issue module-nailgun ui]"
      ],
      "text/plain": [
       "<IPython.core.display.HTML object>"
      ]
     },
     "metadata": {},
     "output_type": "display_data"
    }
   ],
   "source": [
    "from IPython.core.display import display, HTML\n",
    "from launchpadlib.launchpad import Launchpad\n",
    "lp = Launchpad.login_with('lp-report-bot', 'production', version='devel')\n",
    "prj = lp.projects['fuel']\n",
    "\n",
    "dev_focus = prj.development_focus\n",
    "cur_ms = prj.getMilestone(name='10.0')\n",
    "\n",
    "open_statuses = ['New', 'Confirmed', 'Triaged', 'In Progress']\n",
    "\n",
    "important_tags = ['customer-found', 'support', 'swarm-blocker', 'long-haul-testing']\n",
    "excluded_tags = ['feature', 'covered-by-bp', 'need-bp', 'needs-bp', 'system-tests', 'devops', 'docs']\n",
    "\n",
    "high_priority = ['Critical', 'High']\n",
    "low_priority = ['Medium', 'Low', 'Wishlist']\n",
    "\n",
    "def display_bug(bug):\n",
    "    def html_tag(t):\n",
    "        if t in important_tags:\n",
    "            return \"<b>%s</b>\" % t\n",
    "        if t in excluded_tags:\n",
    "            return \"<i>%s</i>\" %t\n",
    "        return t\n",
    "    display(HTML(\"{id} <a href={link}>{title}</a><br>- {status} / {priority} / {assignee} / {ms}<br>- [{tags}]\".format(\n",
    "        id=bug.id, link=bug.web_link, title=bug.title, status=bug.bug_tasks[0].status,\n",
    "        assignee=bug.bug_tasks[0].assignee.name, ms=bug.bug_tasks[0].milestone.name,\n",
    "        priority=bug.bug_tasks[0].importance,\n",
    "        tags=' '.join(map(html_tag, bug.tags))\n",
    "    )))\n",
    "\n",
    "bug = lp.bugs[1449086]\n",
    "\n",
    "display_bug(bug)"
   ]
  },
  {
   "cell_type": "markdown",
   "metadata": {},
   "source": [
    "## Find all open tasks on current series and replace them with default tasks"
   ]
  },
  {
   "cell_type": "code",
   "execution_count": 3,
   "metadata": {
    "collapsed": false
   },
   "outputs": [
    {
     "name": "stdout",
     "output_type": "stream",
     "text": [
      "https://bugs.launchpad.net/bugs/1594443\n",
      "[u'https://bugs.launchpad.net/fuel/+bug/1594443', u'In Progress', u'Critical', <milestone at https://api.launchpad.net/devel/fuel/+milestone/10.0>, <person at https://api.launchpad.net/devel/~sslypushenko>]\n",
      "[u'https://bugs.launchpad.net/fuel/newton/+bug/1594443', u'In Progress', u'Critical', <milestone at https://api.launchpad.net/devel/fuel/+milestone/10.0>, <person at https://api.launchpad.net/devel/~sslypushenko>]\n",
      "Deleting task on series 8.0.x\n",
      "https://bugs.launchpad.net/bugs/1535831\n",
      "[u'https://bugs.launchpad.net/fuel/+bug/1535831', u'Confirmed', u'High', <milestone at https://api.launchpad.net/devel/fuel/+milestone/9.0-updates>, <team at https://api.launchpad.net/devel/~mos-maintenance>]\n",
      "[u'https://bugs.launchpad.net/fuel/newton/+bug/1535831', u'Confirmed', u'High', <milestone at https://api.launchpad.net/devel/fuel/+milestone/10.0>, <team at https://api.launchpad.net/devel/~mos-maintenance>]\n",
      "Tasks mismatch\n",
      "https://bugs.launchpad.net/bugs/1484162\n",
      "[u'https://bugs.launchpad.net/fuel/+bug/1484162', u'Confirmed', u'High', <milestone at https://api.launchpad.net/devel/fuel/+milestone/8.0>, <team at https://api.launchpad.net/devel/~mos-packaging>]\n",
      "[u'https://bugs.launchpad.net/fuel/newton/+bug/1484162', u'Confirmed', u'High', <milestone at https://api.launchpad.net/devel/fuel/+milestone/10.0>, <team at https://api.launchpad.net/devel/~mos-packaging>]\n",
      "Tasks mismatch\n",
      "https://bugs.launchpad.net/bugs/1556930\n",
      "[u'https://bugs.launchpad.net/fuel/+bug/1556930', u\"Won't Fix\", u'High', <milestone at https://api.launchpad.net/devel/fuel/+milestone/9.0>, <team at https://api.launchpad.net/devel/~fuel-ui>]\n",
      "[u'https://bugs.launchpad.net/fuel/newton/+bug/1556930', u'Confirmed', u'High', <milestone at https://api.launchpad.net/devel/fuel/+milestone/10.0>, <team at https://api.launchpad.net/devel/~fuel-ui>]\n",
      "Tasks mismatch\n",
      "https://bugs.launchpad.net/bugs/1419713\n",
      "[u'https://bugs.launchpad.net/fuel/+bug/1419713', u'Confirmed', u'High', <milestone at https://api.launchpad.net/devel/fuel/+milestone/10.0>, <team at https://api.launchpad.net/devel/~fuel-qa>]\n",
      "[u'https://bugs.launchpad.net/fuel/newton/+bug/1419713', u'Confirmed', u'High', <milestone at https://api.launchpad.net/devel/fuel/+milestone/10.0>, <team at https://api.launchpad.net/devel/~fuel-qa>]\n",
      "Deleting task on series 8.0.x\n",
      "https://bugs.launchpad.net/bugs/1564919\n",
      "[u'https://bugs.launchpad.net/fuel/+bug/1564919', u'Confirmed', u'High', <milestone at https://api.launchpad.net/devel/fuel/+milestone/10.0>, <person at https://api.launchpad.net/devel/~idv1985>]\n",
      "[u'https://bugs.launchpad.net/fuel/newton/+bug/1564919', u'Confirmed', u'High', <milestone at https://api.launchpad.net/devel/fuel/+milestone/10.0>, <person at https://api.launchpad.net/devel/~idv1985>]\n",
      "Deleting task on series 8.0.x\n",
      "https://bugs.launchpad.net/bugs/1559136\n",
      "[u'https://bugs.launchpad.net/fuel/+bug/1559136', u'In Progress', u'High', <milestone at https://api.launchpad.net/devel/fuel/+milestone/10.0>, <person at https://api.launchpad.net/devel/~dmitrymex>]\n",
      "[u'https://bugs.launchpad.net/fuel/newton/+bug/1559136', u'In Progress', u'High', <milestone at https://api.launchpad.net/devel/fuel/+milestone/10.0>, <person at https://api.launchpad.net/devel/~dmitrymex>]\n",
      "Deleting task on series 8.0.x\n",
      "https://bugs.launchpad.net/bugs/1568037\n",
      "[u'https://bugs.launchpad.net/fuel/+bug/1568037', u'Confirmed', u'High', <milestone at https://api.launchpad.net/devel/fuel/+milestone/10.0>, <team at https://api.launchpad.net/devel/~fuel-ui>]\n",
      "[u'https://bugs.launchpad.net/fuel/newton/+bug/1568037', u'Confirmed', u'High', <milestone at https://api.launchpad.net/devel/fuel/+milestone/10.0>, <team at https://api.launchpad.net/devel/~fuel-ui>]\n",
      "Deleting task on series 8.0.x\n",
      "https://bugs.launchpad.net/bugs/1541849\n",
      "[u'https://bugs.launchpad.net/fuel/+bug/1541849', u'In Progress', u'High', <milestone at https://api.launchpad.net/devel/fuel/+milestone/10.0>, <person at https://api.launchpad.net/devel/~aarzhanov>]\n",
      "[u'https://bugs.launchpad.net/fuel/newton/+bug/1541849', u'In Progress', u'High', <milestone at https://api.launchpad.net/devel/fuel/+milestone/10.0>, <person at https://api.launchpad.net/devel/~aarzhanov>]\n",
      "Deleting task on series 8.0.x\n",
      "https://bugs.launchpad.net/bugs/1566171\n",
      "[u'https://bugs.launchpad.net/fuel/+bug/1566171', u'Confirmed', u'High', <milestone at https://api.launchpad.net/devel/fuel/+milestone/10.0>, <person at https://api.launchpad.net/devel/~izinovik>]\n",
      "[u'https://bugs.launchpad.net/fuel/newton/+bug/1566171', u'Confirmed', u'High', <milestone at https://api.launchpad.net/devel/fuel/+milestone/10.0>, <person at https://api.launchpad.net/devel/~izinovik>]\n",
      "Deleting task on series 8.0.x\n",
      "https://bugs.launchpad.net/bugs/1564796\n",
      "[u'https://bugs.launchpad.net/fuel/+bug/1564796', u'New', u'High', <milestone at https://api.launchpad.net/devel/fuel/+milestone/10.0>, <team at https://api.launchpad.net/devel/~fuel-partner-engineering>]\n",
      "[u'https://bugs.launchpad.net/fuel/newton/+bug/1564796', u'New', u'High', <milestone at https://api.launchpad.net/devel/fuel/+milestone/10.0>, <team at https://api.launchpad.net/devel/~fuel-partner-engineering>]\n",
      "Deleting task on series 8.0.x\n",
      "https://bugs.launchpad.net/bugs/1524781\n",
      "[u'https://bugs.launchpad.net/fuel/+bug/1524781', u'Confirmed', u'High', <milestone at https://api.launchpad.net/devel/fuel/+milestone/10.0>, <team at https://api.launchpad.net/devel/~fuel-ui>]\n",
      "[u'https://bugs.launchpad.net/fuel/newton/+bug/1524781', u'Confirmed', u'High', <milestone at https://api.launchpad.net/devel/fuel/+milestone/10.0>, <team at https://api.launchpad.net/devel/~fuel-ui>]\n",
      "Deleting task on series 8.0.x\n",
      "https://bugs.launchpad.net/bugs/1571741\n",
      "[u'https://bugs.launchpad.net/fuel/+bug/1571741', u'Confirmed', u'High', <milestone at https://api.launchpad.net/devel/fuel/+milestone/10.0>, <team at https://api.launchpad.net/devel/~fuel-qa>]\n",
      "[u'https://bugs.launchpad.net/fuel/newton/+bug/1571741', u'Confirmed', u'High', <milestone at https://api.launchpad.net/devel/fuel/+milestone/10.0>, <team at https://api.launchpad.net/devel/~fuel-qa>]\n",
      "Deleting task on series 8.0.x\n",
      "https://bugs.launchpad.net/bugs/1572689\n",
      "[u'https://bugs.launchpad.net/fuel/+bug/1572689', u'In Progress', u'High', <milestone at https://api.launchpad.net/devel/fuel/+milestone/10.0>, <person at https://api.launchpad.net/devel/~velovec>]\n",
      "[u'https://bugs.launchpad.net/fuel/newton/+bug/1572689', u'In Progress', u'High', <milestone at https://api.launchpad.net/devel/fuel/+milestone/10.0>, <person at https://api.launchpad.net/devel/~velovec>]\n",
      "Deleting task on series 8.0.x\n",
      "https://bugs.launchpad.net/bugs/1573653\n",
      "[u'https://bugs.launchpad.net/fuel/+bug/1573653', u'In Progress', u'High', <milestone at https://api.launchpad.net/devel/fuel/+milestone/10.0>, <person at https://api.launchpad.net/devel/~sabramov>]\n",
      "[u'https://bugs.launchpad.net/fuel/newton/+bug/1573653', u'In Progress', u'High', <milestone at https://api.launchpad.net/devel/fuel/+milestone/10.0>, <person at https://api.launchpad.net/devel/~sabramov>]\n",
      "Deleting task on series 8.0.x\n",
      "https://bugs.launchpad.net/bugs/1575065\n",
      "[u'https://bugs.launchpad.net/fuel/+bug/1575065', u'Confirmed', u'High', <milestone at https://api.launchpad.net/devel/fuel/+milestone/10.0>, <person at https://api.launchpad.net/devel/~amihura>]\n",
      "[u'https://bugs.launchpad.net/fuel/newton/+bug/1575065', u'Confirmed', u'High', <milestone at https://api.launchpad.net/devel/fuel/+milestone/10.0>, <person at https://api.launchpad.net/devel/~amihura>]\n",
      "Deleting task on series 8.0.x\n",
      "https://bugs.launchpad.net/bugs/1580983\n",
      "[u'https://bugs.launchpad.net/fuel/+bug/1580983', u'Confirmed', u'High', <milestone at https://api.launchpad.net/devel/fuel/+milestone/10.0>, <team at https://api.launchpad.net/devel/~mos-linux>]\n",
      "[u'https://bugs.launchpad.net/fuel/newton/+bug/1580983', u'Confirmed', u'High', <milestone at https://api.launchpad.net/devel/fuel/+milestone/10.0>, <team at https://api.launchpad.net/devel/~mos-linux>]\n",
      "Deleting task on series 8.0.x\n",
      "https://bugs.launchpad.net/bugs/1580587\n",
      "[u'https://bugs.launchpad.net/fuel/+bug/1580587', u'Confirmed', u'High', <milestone at https://api.launchpad.net/devel/fuel/+milestone/10.0>, <team at https://api.launchpad.net/devel/~registry>]\n",
      "[u'https://bugs.launchpad.net/fuel/newton/+bug/1580587', u'Confirmed', u'High', <milestone at https://api.launchpad.net/devel/fuel/+milestone/10.0>, <team at https://api.launchpad.net/devel/~registry>]\n",
      "Deleting task on series 8.0.x\n",
      "https://bugs.launchpad.net/bugs/1581611\n",
      "[u'https://bugs.launchpad.net/fuel/+bug/1581611', u'Confirmed', u'High', <milestone at https://api.launchpad.net/devel/fuel/+milestone/10.0>, <person at https://api.launchpad.net/devel/~mivanov>]\n",
      "[u'https://bugs.launchpad.net/fuel/newton/+bug/1581611', u'Confirmed', u'High', <milestone at https://api.launchpad.net/devel/fuel/+milestone/10.0>, <person at https://api.launchpad.net/devel/~mivanov>]\n",
      "Deleting task on series 8.0.x\n",
      "https://bugs.launchpad.net/bugs/1583077\n",
      "[u'https://bugs.launchpad.net/fuel/+bug/1583077', u'Confirmed', u'High', <milestone at https://api.launchpad.net/devel/fuel/+milestone/10.0>, <team at https://api.launchpad.net/devel/~mos-scale>]\n",
      "[u'https://bugs.launchpad.net/fuel/newton/+bug/1583077', u'Confirmed', u'High', <milestone at https://api.launchpad.net/devel/fuel/+milestone/10.0>, <team at https://api.launchpad.net/devel/~mos-scale>]\n",
      "Deleting task on series 8.0.x\n",
      "https://bugs.launchpad.net/bugs/1582614\n",
      "[u'https://bugs.launchpad.net/fuel/+bug/1582614', u\"Won't Fix\", u'High', <milestone at https://api.launchpad.net/devel/fuel/+milestone/10.0>, <team at https://api.launchpad.net/devel/~fuel-ci>]\n",
      "[u'https://bugs.launchpad.net/fuel/newton/+bug/1582614', u'Confirmed', u'High', <milestone at https://api.launchpad.net/devel/fuel/+milestone/10.0>, <team at https://api.launchpad.net/devel/~fuel-ci>]\n",
      "Tasks mismatch\n",
      "https://bugs.launchpad.net/bugs/1582640\n",
      "[u'https://bugs.launchpad.net/fuel/+bug/1582640', u'Confirmed', u'High', <milestone at https://api.launchpad.net/devel/fuel/+milestone/10.0>, <person at https://api.launchpad.net/devel/~zubchick>]\n",
      "[u'https://bugs.launchpad.net/fuel/newton/+bug/1582640', u'Confirmed', u'High', <milestone at https://api.launchpad.net/devel/fuel/+milestone/10.0>, <person at https://api.launchpad.net/devel/~zubchick>]\n",
      "Deleting task on series 8.0.x\n",
      "https://bugs.launchpad.net/bugs/1584190\n",
      "[u'https://bugs.launchpad.net/fuel/+bug/1584190', u'Confirmed', u'High', <milestone at https://api.launchpad.net/devel/fuel/+milestone/10.0>, <person at https://api.launchpad.net/devel/~tnurlygayanov>]\n",
      "[u'https://bugs.launchpad.net/fuel/newton/+bug/1584190', u'Confirmed', u'High', <milestone at https://api.launchpad.net/devel/fuel/+milestone/10.0>, <person at https://api.launchpad.net/devel/~tnurlygayanov>]\n",
      "Deleting task on series 8.0.x\n",
      "https://bugs.launchpad.net/bugs/1585115\n",
      "[u'https://bugs.launchpad.net/fuel/+bug/1585115', u'In Progress', u'High', <milestone at https://api.launchpad.net/devel/fuel/+milestone/10.0>, <person at https://api.launchpad.net/devel/~velovec>]\n",
      "[u'https://bugs.launchpad.net/fuel/newton/+bug/1585115', u'In Progress', u'High', <milestone at https://api.launchpad.net/devel/fuel/+milestone/10.0>, <person at https://api.launchpad.net/devel/~velovec>]\n",
      "Deleting task on series 8.0.x\n",
      "https://bugs.launchpad.net/bugs/1585676\n",
      "[u'https://bugs.launchpad.net/fuel/+bug/1585676', u'In Progress', u'High', <milestone at https://api.launchpad.net/devel/fuel/+milestone/10.0>, <person at https://api.launchpad.net/devel/~ashtokolov>]\n",
      "[u'https://bugs.launchpad.net/fuel/newton/+bug/1585676', u'In Progress', u'High', <milestone at https://api.launchpad.net/devel/fuel/+milestone/10.0>, <person at https://api.launchpad.net/devel/~ashtokolov>]\n",
      "Deleting task on series 8.0.x\n",
      "https://bugs.launchpad.net/bugs/1584658\n",
      "[u'https://bugs.launchpad.net/fuel/+bug/1584658', u'In Progress', u'High', <milestone at https://api.launchpad.net/devel/fuel/+milestone/10.0>, <person at https://api.launchpad.net/devel/~sabramov>]\n",
      "[u'https://bugs.launchpad.net/fuel/newton/+bug/1584658', u'In Progress', u'High', <milestone at https://api.launchpad.net/devel/fuel/+milestone/10.0>, <person at https://api.launchpad.net/devel/~sabramov>]\n",
      "Deleting task on series 8.0.x\n",
      "https://bugs.launchpad.net/bugs/1584097\n",
      "[u'https://bugs.launchpad.net/fuel/+bug/1584097', u'Confirmed', u'High', <milestone at https://api.launchpad.net/devel/fuel/+milestone/10.0>, <team at https://api.launchpad.net/devel/~fuel-qa>]\n",
      "[u'https://bugs.launchpad.net/fuel/newton/+bug/1584097', u'Confirmed', u'High', <milestone at https://api.launchpad.net/devel/fuel/+milestone/10.0>, <team at https://api.launchpad.net/devel/~fuel-qa>]\n",
      "Deleting task on series 8.0.x\n",
      "https://bugs.launchpad.net/bugs/1586974\n",
      "[u'https://bugs.launchpad.net/fuel/+bug/1586974', u'In Progress', u'High', <milestone at https://api.launchpad.net/devel/fuel/+milestone/10.0>, <person at https://api.launchpad.net/devel/~dkruglov>]\n",
      "[u'https://bugs.launchpad.net/fuel/newton/+bug/1586974', u'In Progress', u'High', <milestone at https://api.launchpad.net/devel/fuel/+milestone/10.0>, <person at https://api.launchpad.net/devel/~dkruglov>]\n",
      "Deleting task on series 8.0.x\n",
      "https://bugs.launchpad.net/bugs/1568782\n",
      "[u'https://bugs.launchpad.net/fuel/+bug/1568782', u'Confirmed', u'High', <milestone at https://api.launchpad.net/devel/fuel/+milestone/10.0>, <person at https://api.launchpad.net/devel/~akscram>]\n",
      "[u'https://bugs.launchpad.net/fuel/newton/+bug/1568782', u'Confirmed', u'High', <milestone at https://api.launchpad.net/devel/fuel/+milestone/10.0>, <person at https://api.launchpad.net/devel/~akscram>]\n",
      "Deleting task on series 8.0.x\n",
      "https://bugs.launchpad.net/bugs/1585960\n",
      "[u'https://bugs.launchpad.net/fuel/+bug/1585960', u'Confirmed', u'High', <milestone at https://api.launchpad.net/devel/fuel/+milestone/10.0>, <team at https://api.launchpad.net/devel/~fuel-octane-team>]\n",
      "[u'https://bugs.launchpad.net/fuel/newton/+bug/1585960', u'Confirmed', u'High', <milestone at https://api.launchpad.net/devel/fuel/+milestone/10.0>, <team at https://api.launchpad.net/devel/~fuel-octane-team>]\n",
      "Deleting task on series 8.0.x\n",
      "https://bugs.launchpad.net/bugs/1587801\n",
      "[u'https://bugs.launchpad.net/fuel/+bug/1587801', u'Confirmed', u'High', <milestone at https://api.launchpad.net/devel/fuel/+milestone/10.0>, <team at https://api.launchpad.net/devel/~fuel-docs>]\n",
      "[u'https://bugs.launchpad.net/fuel/newton/+bug/1587801', u'Confirmed', u'High', <milestone at https://api.launchpad.net/devel/fuel/+milestone/10.0>, <team at https://api.launchpad.net/devel/~fuel-docs>]\n",
      "Deleting task on series 8.0.x\n",
      "https://bugs.launchpad.net/bugs/1589454\n",
      "[u'https://bugs.launchpad.net/fuel/+bug/1589454', u'Confirmed', u'High', <milestone at https://api.launchpad.net/devel/fuel/+milestone/10.0>, <team at https://api.launchpad.net/devel/~l23network>]\n",
      "[u'https://bugs.launchpad.net/fuel/newton/+bug/1589454', u'Confirmed', u'High', <milestone at https://api.launchpad.net/devel/fuel/+milestone/10.0>, <team at https://api.launchpad.net/devel/~l23network>]\n",
      "Deleting task on series 8.0.x\n",
      "https://bugs.launchpad.net/bugs/1590705\n",
      "[u'https://bugs.launchpad.net/fuel/+bug/1590705', u'Confirmed', u'High', <milestone at https://api.launchpad.net/devel/fuel/+milestone/10.0>, <team at https://api.launchpad.net/devel/~fuel-qa-telco>]\n",
      "[u'https://bugs.launchpad.net/fuel/newton/+bug/1590705', u'Confirmed', u'High', <milestone at https://api.launchpad.net/devel/fuel/+milestone/10.0>, <team at https://api.launchpad.net/devel/~fuel-qa-telco>]\n",
      "Deleting task on series 8.0.x\n",
      "https://bugs.launchpad.net/bugs/1587341\n",
      "[u'https://bugs.launchpad.net/fuel/+bug/1587341', u'Confirmed', u'High', <milestone at https://api.launchpad.net/devel/fuel/+milestone/10.0>, <team at https://api.launchpad.net/devel/~fuel-qa-telco>]\n",
      "[u'https://bugs.launchpad.net/fuel/newton/+bug/1587341', u'Confirmed', u'High', <milestone at https://api.launchpad.net/devel/fuel/+milestone/10.0>, <team at https://api.launchpad.net/devel/~fuel-qa-telco>]\n",
      "Deleting task on series 8.0.x\n",
      "https://bugs.launchpad.net/bugs/1590794\n",
      "[u'https://bugs.launchpad.net/fuel/+bug/1590794', u'Confirmed', u'High', <milestone at https://api.launchpad.net/devel/fuel/+milestone/10.0>, <person at https://api.launchpad.net/devel/~akurenyshev>]\n",
      "[u'https://bugs.launchpad.net/fuel/newton/+bug/1590794', u'Confirmed', u'High', <milestone at https://api.launchpad.net/devel/fuel/+milestone/10.0>, <person at https://api.launchpad.net/devel/~akurenyshev>]\n",
      "Deleting task on series 8.0.x\n",
      "https://bugs.launchpad.net/bugs/1590482\n",
      "[u'https://bugs.launchpad.net/fuel/+bug/1590482', u'In Progress', u'High', <milestone at https://api.launchpad.net/devel/fuel/+milestone/10.0>, <person at https://api.launchpad.net/devel/~gelbuhos>]\n",
      "[u'https://bugs.launchpad.net/fuel/newton/+bug/1590482', u'In Progress', u'High', <milestone at https://api.launchpad.net/devel/fuel/+milestone/10.0>, <person at https://api.launchpad.net/devel/~gelbuhos>]\n",
      "Deleting task on series 8.0.x\n",
      "https://bugs.launchpad.net/bugs/1591244\n",
      "[u'https://bugs.launchpad.net/fuel/+bug/1591244', u'Confirmed', u'High', <milestone at https://api.launchpad.net/devel/fuel/+milestone/10.0>, <team at https://api.launchpad.net/devel/~mos-oslo>]\n",
      "[u'https://bugs.launchpad.net/fuel/newton/+bug/1591244', u'Confirmed', u'High', <milestone at https://api.launchpad.net/devel/fuel/+milestone/10.0>, <team at https://api.launchpad.net/devel/~mos-oslo>]\n",
      "Deleting task on series 8.0.x\n",
      "https://bugs.launchpad.net/bugs/1588877\n",
      "[u'https://bugs.launchpad.net/fuel/+bug/1588877', u'In Progress', u'High', <milestone at https://api.launchpad.net/devel/fuel/+milestone/10.0>, <person at https://api.launchpad.net/devel/~unbelll>]\n",
      "[u'https://bugs.launchpad.net/fuel/newton/+bug/1588877', u'In Progress', u'High', <milestone at https://api.launchpad.net/devel/fuel/+milestone/10.0>, <person at https://api.launchpad.net/devel/~unbelll>]\n",
      "Deleting task on series 8.0.x\n",
      "https://bugs.launchpad.net/bugs/1591327\n",
      "[u'https://bugs.launchpad.net/fuel/+bug/1591327', u'Confirmed', u'High', <milestone at https://api.launchpad.net/devel/fuel/+milestone/10.0>, <person at https://api.launchpad.net/devel/~gluk12189>]\n",
      "[u'https://bugs.launchpad.net/fuel/newton/+bug/1591327', u'Confirmed', u'High', <milestone at https://api.launchpad.net/devel/fuel/+milestone/10.0>, <person at https://api.launchpad.net/devel/~gluk12189>]\n",
      "Deleting task on series 8.0.x\n",
      "https://bugs.launchpad.net/bugs/1590872\n",
      "[u'https://bugs.launchpad.net/fuel/+bug/1590872', u'In Progress', u'High', <milestone at https://api.launchpad.net/devel/fuel/+milestone/10.0>, <person at https://api.launchpad.net/devel/~bgaifullin>]\n",
      "[u'https://bugs.launchpad.net/fuel/newton/+bug/1590872', u'In Progress', u'High', <milestone at https://api.launchpad.net/devel/fuel/+milestone/10.0>, <person at https://api.launchpad.net/devel/~bgaifullin>]\n",
      "Deleting task on series 8.0.x\n",
      "https://bugs.launchpad.net/bugs/1593190\n",
      "[u'https://bugs.launchpad.net/fuel/+bug/1593190', u'In Progress', u'High', <milestone at https://api.launchpad.net/devel/fuel/+milestone/10.0>, <person at https://api.launchpad.net/devel/~xenolog>]\n",
      "[u'https://bugs.launchpad.net/fuel/newton/+bug/1593190', u'In Progress', u'High', <milestone at https://api.launchpad.net/devel/fuel/+milestone/10.0>, <person at https://api.launchpad.net/devel/~xenolog>]\n",
      "Deleting task on series 8.0.x\n",
      "https://bugs.launchpad.net/bugs/1563851\n",
      "[u'https://bugs.launchpad.net/fuel/+bug/1563851', u'Confirmed', u'High', <milestone at https://api.launchpad.net/devel/fuel/+milestone/10.0>, <person at https://api.launchpad.net/devel/~ikutukov>]\n",
      "[u'https://bugs.launchpad.net/fuel/newton/+bug/1563851', u'Confirmed', u'High', <milestone at https://api.launchpad.net/devel/fuel/+milestone/10.0>, <person at https://api.launchpad.net/devel/~ikutukov>]\n",
      "Deleting task on series 8.0.x\n",
      "https://bugs.launchpad.net/bugs/1589342\n",
      "[u'https://bugs.launchpad.net/fuel/+bug/1589342', u'Confirmed', u'High', <milestone at https://api.launchpad.net/devel/fuel/+milestone/10.0>, <team at https://api.launchpad.net/devel/~fuel-ui>]\n",
      "[u'https://bugs.launchpad.net/fuel/newton/+bug/1589342', u'Confirmed', u'High', <milestone at https://api.launchpad.net/devel/fuel/+milestone/10.0>, <team at https://api.launchpad.net/devel/~fuel-ui>]\n",
      "Deleting task on series 8.0.x\n",
      "https://bugs.launchpad.net/bugs/1592876\n",
      "[u'https://bugs.launchpad.net/fuel/+bug/1592876', u'Confirmed', u'High', <milestone at https://api.launchpad.net/devel/fuel/+milestone/10.0>, <team at https://api.launchpad.net/devel/~fuel-qa>]\n",
      "[u'https://bugs.launchpad.net/fuel/newton/+bug/1592876', u'Confirmed', u'High', <milestone at https://api.launchpad.net/devel/fuel/+milestone/10.0>, <team at https://api.launchpad.net/devel/~fuel-qa>]\n",
      "Deleting task on series 8.0.x\n",
      "https://bugs.launchpad.net/bugs/1526203\n",
      "[u'https://bugs.launchpad.net/fuel/+bug/1526203', u'Confirmed', u'High', <milestone at https://api.launchpad.net/devel/fuel/+milestone/10.0>, <team at https://api.launchpad.net/devel/~mos-puppet>]\n",
      "[u'https://bugs.launchpad.net/fuel/newton/+bug/1526203', u'Confirmed', u'High', <milestone at https://api.launchpad.net/devel/fuel/+milestone/10.0>, <team at https://api.launchpad.net/devel/~mos-puppet>]\n",
      "Deleting task on series 8.0.x\n",
      "https://bugs.launchpad.net/bugs/1262313\n",
      "[u'https://bugs.launchpad.net/fuel/+bug/1262313', u'Confirmed', u'Medium', <milestone at https://api.launchpad.net/devel/fuel/+milestone/10.0>, <team at https://api.launchpad.net/devel/~fuel-python>]\n",
      "[u'https://bugs.launchpad.net/fuel/newton/+bug/1262313', u'Confirmed', u'Medium', <milestone at https://api.launchpad.net/devel/fuel/+milestone/10.0>, <team at https://api.launchpad.net/devel/~fuel-python>]\n",
      "Deleting task on series 8.0.x\n",
      "https://bugs.launchpad.net/bugs/1273006\n",
      "[u'https://bugs.launchpad.net/fuel/+bug/1273006', u'Triaged', u'Medium', <milestone at https://api.launchpad.net/devel/fuel/+milestone/10.0>, <team at https://api.launchpad.net/devel/~fuel-python>]\n",
      "[u'https://bugs.launchpad.net/fuel/newton/+bug/1273006', u'Triaged', u'Medium', <milestone at https://api.launchpad.net/devel/fuel/+milestone/10.0>, <team at https://api.launchpad.net/devel/~fuel-python>]\n",
      "Deleting task on series 8.0.x\n",
      "https://bugs.launchpad.net/bugs/1284120\n",
      "[u'https://bugs.launchpad.net/fuel/+bug/1284120', u'Triaged', u'Medium', <milestone at https://api.launchpad.net/devel/fuel/+milestone/10.0>, <team at https://api.launchpad.net/devel/~fuel-python>]\n",
      "[u'https://bugs.launchpad.net/fuel/newton/+bug/1284120', u'Triaged', u'Medium', <milestone at https://api.launchpad.net/devel/fuel/+milestone/10.0>, <team at https://api.launchpad.net/devel/~fuel-python>]\n",
      "Deleting task on series 8.0.x\n",
      "https://bugs.launchpad.net/bugs/1303762\n",
      "[u'https://bugs.launchpad.net/fuel/+bug/1303762', u'Confirmed', u'Medium', <milestone at https://api.launchpad.net/devel/fuel/+milestone/10.0>, <team at https://api.launchpad.net/devel/~fuel-sustaining-team>]\n",
      "[u'https://bugs.launchpad.net/fuel/newton/+bug/1303762', u'Confirmed', u'Medium', <milestone at https://api.launchpad.net/devel/fuel/+milestone/10.0>, <team at https://api.launchpad.net/devel/~fuel-sustaining-team>]\n",
      "Deleting task on series 8.0.x\n",
      "https://bugs.launchpad.net/bugs/1477967\n",
      "[u'https://bugs.launchpad.net/fuel/+bug/1477967', u'In Progress', u'Medium', <milestone at https://api.launchpad.net/devel/fuel/+milestone/10.0>, <person at https://api.launchpad.net/devel/~velovec>]\n",
      "[u'https://bugs.launchpad.net/fuel/newton/+bug/1477967', u'In Progress', u'Medium', <milestone at https://api.launchpad.net/devel/fuel/+milestone/10.0>, <person at https://api.launchpad.net/devel/~velovec>]\n",
      "Deleting task on series 8.0.x\n",
      "https://bugs.launchpad.net/bugs/1513736\n",
      "[u'https://bugs.launchpad.net/fuel/+bug/1513736', u'In Progress', u'Medium', <milestone at https://api.launchpad.net/devel/fuel/+milestone/10.0>, <person at https://api.launchpad.net/devel/~velovec>]\n",
      "[u'https://bugs.launchpad.net/fuel/newton/+bug/1513736', u'In Progress', u'Medium', <milestone at https://api.launchpad.net/devel/fuel/+milestone/10.0>, <person at https://api.launchpad.net/devel/~velovec>]\n",
      "Deleting task on series 8.0.x\n",
      "https://bugs.launchpad.net/bugs/1390099\n",
      "[u'https://bugs.launchpad.net/fuel/+bug/1390099', u\"Won't Fix\", u'Medium', <milestone at https://api.launchpad.net/devel/fuel/+milestone/10.0>, <person at https://api.launchpad.net/devel/~velovec>]\n",
      "[u'https://bugs.launchpad.net/fuel/newton/+bug/1390099', u'In Progress', u'Medium', <milestone at https://api.launchpad.net/devel/fuel/+milestone/10.0>, <person at https://api.launchpad.net/devel/~velovec>]\n",
      "Tasks mismatch\n",
      "https://bugs.launchpad.net/bugs/1406506\n",
      "[u'https://bugs.launchpad.net/fuel/+bug/1406506', u'Confirmed', u'Medium', <milestone at https://api.launchpad.net/devel/fuel/+milestone/10.0>, <team at https://api.launchpad.net/devel/~fuel-python>]\n",
      "[u'https://bugs.launchpad.net/fuel/newton/+bug/1406506', u'Confirmed', u'Medium', <milestone at https://api.launchpad.net/devel/fuel/+milestone/10.0>, <team at https://api.launchpad.net/devel/~fuel-python>]\n",
      "Deleting task on series 8.0.x\n",
      "https://bugs.launchpad.net/bugs/1398052\n",
      "[u'https://bugs.launchpad.net/fuel/+bug/1398052', u'Confirmed', u'Medium', <milestone at https://api.launchpad.net/devel/fuel/+milestone/10.0>, <team at https://api.launchpad.net/devel/~fuel-python>]\n",
      "[u'https://bugs.launchpad.net/fuel/newton/+bug/1398052', u'Confirmed', u'Medium', <milestone at https://api.launchpad.net/devel/fuel/+milestone/10.0>, <team at https://api.launchpad.net/devel/~fuel-python>]\n",
      "Deleting task on series 8.0.x\n",
      "https://bugs.launchpad.net/bugs/1427569\n",
      "[u'https://bugs.launchpad.net/fuel/+bug/1427569', u'Confirmed', u'Medium', <milestone at https://api.launchpad.net/devel/fuel/+milestone/10.0>, <team at https://api.launchpad.net/devel/~fuel-ui>]\n",
      "[u'https://bugs.launchpad.net/fuel/newton/+bug/1427569', u'Confirmed', u'Medium', <milestone at https://api.launchpad.net/devel/fuel/+milestone/10.0>, <team at https://api.launchpad.net/devel/~fuel-ui>]\n",
      "Deleting task on series 8.0.x\n",
      "https://bugs.launchpad.net/bugs/1397384\n",
      "[u'https://bugs.launchpad.net/fuel/+bug/1397384', u'Confirmed', u'Medium', <milestone at https://api.launchpad.net/devel/fuel/+milestone/10.0>, <team at https://api.launchpad.net/devel/~fuel-python>]\n",
      "[u'https://bugs.launchpad.net/fuel/newton/+bug/1397384', u'Confirmed', u'Medium', <milestone at https://api.launchpad.net/devel/fuel/+milestone/10.0>, <team at https://api.launchpad.net/devel/~fuel-python>]\n",
      "Deleting task on series 8.0.x\n",
      "https://bugs.launchpad.net/bugs/1399785\n",
      "[u'https://bugs.launchpad.net/fuel/+bug/1399785', u'Confirmed', u'Medium', <milestone at https://api.launchpad.net/devel/fuel/+milestone/10.0>, <team at https://api.launchpad.net/devel/~fuel-python>]\n",
      "[u'https://bugs.launchpad.net/fuel/newton/+bug/1399785', u'Confirmed', u'Medium', <milestone at https://api.launchpad.net/devel/fuel/+milestone/10.0>, <team at https://api.launchpad.net/devel/~fuel-python>]\n",
      "Deleting task on series 8.0.x\n",
      "https://bugs.launchpad.net/bugs/1427563\n",
      "[u'https://bugs.launchpad.net/fuel/+bug/1427563', u'Confirmed', u'Medium', <milestone at https://api.launchpad.net/devel/fuel/+milestone/10.0>, <team at https://api.launchpad.net/devel/~fuel-python>]\n",
      "[u'https://bugs.launchpad.net/fuel/newton/+bug/1427563', u'Confirmed', u'Medium', <milestone at https://api.launchpad.net/devel/fuel/+milestone/10.0>, <team at https://api.launchpad.net/devel/~fuel-python>]\n",
      "Deleting task on series 8.0.x\n",
      "https://bugs.launchpad.net/bugs/1423916\n",
      "[u'https://bugs.launchpad.net/fuel/+bug/1423916', u'Confirmed', u'Medium', <milestone at https://api.launchpad.net/devel/fuel/+milestone/10.0>, <team at https://api.launchpad.net/devel/~fuel-python>]\n",
      "[u'https://bugs.launchpad.net/fuel/newton/+bug/1423916', u'Confirmed', u'Medium', <milestone at https://api.launchpad.net/devel/fuel/+milestone/10.0>, <team at https://api.launchpad.net/devel/~fuel-python>]\n",
      "Deleting task on series 8.0.x\n",
      "https://bugs.launchpad.net/bugs/1372466\n",
      "[u'https://bugs.launchpad.net/fuel/+bug/1372466', u'Confirmed', u'Medium', <milestone at https://api.launchpad.net/devel/fuel/+milestone/10.0>, <team at https://api.launchpad.net/devel/~fuel-python>]\n",
      "[u'https://bugs.launchpad.net/fuel/newton/+bug/1372466', u'Confirmed', u'Medium', <milestone at https://api.launchpad.net/devel/fuel/+milestone/10.0>, <team at https://api.launchpad.net/devel/~fuel-python>]\n",
      "Deleting task on series 8.0.x\n",
      "https://bugs.launchpad.net/bugs/1399608\n",
      "[u'https://bugs.launchpad.net/fuel/+bug/1399608', u'Confirmed', u'Medium', <milestone at https://api.launchpad.net/devel/fuel/+milestone/10.0>, <person at https://api.launchpad.net/devel/~vsharshov>]\n",
      "[u'https://bugs.launchpad.net/fuel/newton/+bug/1399608', u'Confirmed', u'Medium', <milestone at https://api.launchpad.net/devel/fuel/+milestone/10.0>, <person at https://api.launchpad.net/devel/~vsharshov>]\n",
      "Deleting task on series 8.0.x\n",
      "https://bugs.launchpad.net/bugs/1401898\n",
      "[u'https://bugs.launchpad.net/fuel/+bug/1401898', u'Confirmed', u'Medium', <milestone at https://api.launchpad.net/devel/fuel/+milestone/10.0>, <team at https://api.launchpad.net/devel/~fuel-python>]\n",
      "[u'https://bugs.launchpad.net/fuel/newton/+bug/1401898', u'Confirmed', u'Medium', <milestone at https://api.launchpad.net/devel/fuel/+milestone/10.0>, <team at https://api.launchpad.net/devel/~fuel-python>]\n",
      "Deleting task on series 8.0.x\n",
      "https://bugs.launchpad.net/bugs/1423511\n",
      "[u'https://bugs.launchpad.net/fuel/+bug/1423511', u'Confirmed', u'Medium', <milestone at https://api.launchpad.net/devel/fuel/+milestone/10.0>, <person at https://api.launchpad.net/devel/~afedorova>]\n",
      "[u'https://bugs.launchpad.net/fuel/newton/+bug/1423511', u'Confirmed', u'Medium', <milestone at https://api.launchpad.net/devel/fuel/+milestone/10.0>, <person at https://api.launchpad.net/devel/~afedorova>]\n",
      "Deleting task on series 8.0.x\n",
      "https://bugs.launchpad.net/bugs/1367256\n",
      "[u'https://bugs.launchpad.net/fuel/+bug/1367256', u'Confirmed', u'Medium', <milestone at https://api.launchpad.net/devel/fuel/+milestone/10.0>, <team at https://api.launchpad.net/devel/~fuel-python>]\n",
      "[u'https://bugs.launchpad.net/fuel/newton/+bug/1367256', u'Confirmed', u'Medium', <milestone at https://api.launchpad.net/devel/fuel/+milestone/10.0>, <team at https://api.launchpad.net/devel/~fuel-python>]\n",
      "Deleting task on series 8.0.x\n",
      "https://bugs.launchpad.net/bugs/1419833\n",
      "[u'https://bugs.launchpad.net/fuel/+bug/1419833', u'Confirmed', u'Medium', <milestone at https://api.launchpad.net/devel/fuel/+milestone/10.0>, <team at https://api.launchpad.net/devel/~fuel-qa>]\n",
      "[u'https://bugs.launchpad.net/fuel/newton/+bug/1419833', u'Confirmed', u'Medium', <milestone at https://api.launchpad.net/devel/fuel/+milestone/10.0>, <team at https://api.launchpad.net/devel/~fuel-qa>]\n",
      "Deleting task on series 8.0.x\n",
      "https://bugs.launchpad.net/bugs/1410810\n",
      "[u'https://bugs.launchpad.net/fuel/+bug/1410810', u'Confirmed', u'Medium', <milestone at https://api.launchpad.net/devel/fuel/+milestone/10.0>, <team at https://api.launchpad.net/devel/~fuel-python>]\n",
      "[u'https://bugs.launchpad.net/fuel/newton/+bug/1410810', u'Confirmed', u'Medium', <milestone at https://api.launchpad.net/devel/fuel/+milestone/10.0>, <team at https://api.launchpad.net/devel/~fuel-python>]\n",
      "Deleting task on series 8.0.x\n",
      "https://bugs.launchpad.net/bugs/1367259\n",
      "[u'https://bugs.launchpad.net/fuel/+bug/1367259', u'Confirmed', u'Medium', <milestone at https://api.launchpad.net/devel/fuel/+milestone/10.0>, <team at https://api.launchpad.net/devel/~fuel-python>]\n",
      "[u'https://bugs.launchpad.net/fuel/newton/+bug/1367259', u'Confirmed', u'Medium', <milestone at https://api.launchpad.net/devel/fuel/+milestone/10.0>, <team at https://api.launchpad.net/devel/~fuel-python>]\n",
      "Deleting task on series 8.0.x\n",
      "https://bugs.launchpad.net/bugs/1401661\n",
      "[u'https://bugs.launchpad.net/fuel/+bug/1401661', u'Confirmed', u'Medium', <milestone at https://api.launchpad.net/devel/fuel/+milestone/10.0>, <team at https://api.launchpad.net/devel/~fuel-python>]\n",
      "[u'https://bugs.launchpad.net/fuel/newton/+bug/1401661', u'Confirmed', u'Medium', <milestone at https://api.launchpad.net/devel/fuel/+milestone/10.0>, <team at https://api.launchpad.net/devel/~fuel-python>]\n",
      "Deleting task on series 8.0.x\n",
      "https://bugs.launchpad.net/bugs/1419201\n",
      "[u'https://bugs.launchpad.net/fuel/+bug/1419201', u'Triaged', u'Medium', <milestone at https://api.launchpad.net/devel/fuel/+milestone/10.0>, <team at https://api.launchpad.net/devel/~fuel-python>]\n",
      "[u'https://bugs.launchpad.net/fuel/newton/+bug/1419201', u'Triaged', u'Medium', <milestone at https://api.launchpad.net/devel/fuel/+milestone/10.0>, <team at https://api.launchpad.net/devel/~fuel-python>]\n",
      "Deleting task on series 8.0.x\n",
      "https://bugs.launchpad.net/bugs/1410287\n",
      "[u'https://bugs.launchpad.net/fuel/+bug/1410287', u'Triaged', u'Medium', <milestone at https://api.launchpad.net/devel/fuel/+milestone/10.0>, <team at https://api.launchpad.net/devel/~fuel-python>]\n",
      "[u'https://bugs.launchpad.net/fuel/newton/+bug/1410287', u'Triaged', u'Medium', <milestone at https://api.launchpad.net/devel/fuel/+milestone/10.0>, <team at https://api.launchpad.net/devel/~fuel-python>]\n",
      "Deleting task on series 8.0.x\n",
      "https://bugs.launchpad.net/bugs/1395674\n",
      "[u'https://bugs.launchpad.net/fuel/+bug/1395674', u'Triaged', u'Medium', <milestone at https://api.launchpad.net/devel/fuel/+milestone/10.0>, <team at https://api.launchpad.net/devel/~fuel-python>]\n",
      "[u'https://bugs.launchpad.net/fuel/newton/+bug/1395674', u'Triaged', u'Medium', <milestone at https://api.launchpad.net/devel/fuel/+milestone/10.0>, <team at https://api.launchpad.net/devel/~fuel-python>]\n",
      "Deleting task on series 8.0.x\n",
      "https://bugs.launchpad.net/bugs/1393148\n",
      "[u'https://bugs.launchpad.net/fuel/+bug/1393148', u'Triaged', u'Medium', <milestone at https://api.launchpad.net/devel/fuel/+milestone/10.0>, <team at https://api.launchpad.net/devel/~fuel-python>]\n",
      "[u'https://bugs.launchpad.net/fuel/newton/+bug/1393148', u'Triaged', u'Medium', <milestone at https://api.launchpad.net/devel/fuel/+milestone/10.0>, <team at https://api.launchpad.net/devel/~fuel-python>]\n",
      "Deleting task on series 8.0.x\n",
      "https://bugs.launchpad.net/bugs/1427581\n",
      "[u'https://bugs.launchpad.net/fuel/+bug/1427581', u'Confirmed', u'Medium', <milestone at https://api.launchpad.net/devel/fuel/+milestone/10.0>, <person at https://api.launchpad.net/devel/~igajsin>]\n",
      "[u'https://bugs.launchpad.net/fuel/newton/+bug/1427581', u'Confirmed', u'Medium', <milestone at https://api.launchpad.net/devel/fuel/+milestone/10.0>, <person at https://api.launchpad.net/devel/~igajsin>]\n",
      "Deleting task on series 8.0.x\n",
      "https://bugs.launchpad.net/bugs/1521682\n",
      "[u'https://bugs.launchpad.net/fuel/+bug/1521682', u'Confirmed', u'Medium', <milestone at https://api.launchpad.net/devel/fuel/+milestone/10.0>, <team at https://api.launchpad.net/devel/~registry>]\n",
      "[u'https://bugs.launchpad.net/fuel/newton/+bug/1521682', u'Confirmed', u'Medium', <milestone at https://api.launchpad.net/devel/fuel/+milestone/10.0>, <team at https://api.launchpad.net/devel/~registry>]\n",
      "Deleting task on series 8.0.x\n",
      "https://bugs.launchpad.net/bugs/1515547\n",
      "[u'https://bugs.launchpad.net/fuel/+bug/1515547', u'Confirmed', u'Medium', <milestone at https://api.launchpad.net/devel/fuel/+milestone/10.0>, <team at https://api.launchpad.net/devel/~fuel-ci>]\n",
      "[u'https://bugs.launchpad.net/fuel/newton/+bug/1515547', u'Confirmed', u'Medium', <milestone at https://api.launchpad.net/devel/fuel/+milestone/10.0>, <team at https://api.launchpad.net/devel/~fuel-ci>]\n",
      "Deleting task on series 8.0.x\n",
      "https://bugs.launchpad.net/bugs/1488945\n",
      "[u'https://bugs.launchpad.net/fuel/+bug/1488945', u'Triaged', u'Medium', <milestone at https://api.launchpad.net/devel/fuel/+milestone/10.0>, <team at https://api.launchpad.net/devel/~fuel-python>]\n",
      "[u'https://bugs.launchpad.net/fuel/newton/+bug/1488945', u'Triaged', u'Medium', <milestone at https://api.launchpad.net/devel/fuel/+milestone/10.0>, <team at https://api.launchpad.net/devel/~fuel-python>]\n",
      "Deleting task on series 8.0.x\n",
      "https://bugs.launchpad.net/bugs/1466428\n",
      "[u'https://bugs.launchpad.net/fuel/+bug/1466428', u'Confirmed', u'Medium', <milestone at https://api.launchpad.net/devel/fuel/+milestone/10.0>, <team at https://api.launchpad.net/devel/~fuel-python>]\n",
      "[u'https://bugs.launchpad.net/fuel/newton/+bug/1466428', u'Confirmed', u'Medium', <milestone at https://api.launchpad.net/devel/fuel/+milestone/10.0>, <team at https://api.launchpad.net/devel/~fuel-python>]\n",
      "Deleting task on series 8.0.x\n",
      "https://bugs.launchpad.net/bugs/1466431\n",
      "[u'https://bugs.launchpad.net/fuel/+bug/1466431', u'Confirmed', u'Medium', <milestone at https://api.launchpad.net/devel/fuel/+milestone/10.0>, <team at https://api.launchpad.net/devel/~fuel-python>]\n",
      "[u'https://bugs.launchpad.net/fuel/newton/+bug/1466431', u'Confirmed', u'Medium', <milestone at https://api.launchpad.net/devel/fuel/+milestone/10.0>, <team at https://api.launchpad.net/devel/~fuel-python>]\n",
      "Deleting task on series 8.0.x\n",
      "https://bugs.launchpad.net/bugs/1509444\n",
      "[u'https://bugs.launchpad.net/fuel/+bug/1509444', u'Confirmed', u'Medium', <milestone at https://api.launchpad.net/devel/fuel/+milestone/10.0>, <team at https://api.launchpad.net/devel/~fuel-plugins-bugs>]\n",
      "[u'https://bugs.launchpad.net/fuel/newton/+bug/1509444', u'Confirmed', u'Medium', <milestone at https://api.launchpad.net/devel/fuel/+milestone/10.0>, <team at https://api.launchpad.net/devel/~fuel-plugins-bugs>]\n",
      "Deleting task on series 8.0.x\n",
      "https://bugs.launchpad.net/bugs/1493061\n",
      "[u'https://bugs.launchpad.net/fuel/+bug/1493061', u'Confirmed', u'Medium', <milestone at https://api.launchpad.net/devel/fuel/+milestone/10.0>, <team at https://api.launchpad.net/devel/~fuel-python>]\n",
      "[u'https://bugs.launchpad.net/fuel/newton/+bug/1493061', u'Confirmed', u'Medium', <milestone at https://api.launchpad.net/devel/fuel/+milestone/10.0>, <team at https://api.launchpad.net/devel/~fuel-python>]\n",
      "Deleting task on series 8.0.x\n",
      "https://bugs.launchpad.net/bugs/1488980\n",
      "[u'https://bugs.launchpad.net/fuel/+bug/1488980', u'Confirmed', u'Medium', <milestone at https://api.launchpad.net/devel/fuel/+milestone/10.0>, <team at https://api.launchpad.net/devel/~fuel-python>]\n",
      "[u'https://bugs.launchpad.net/fuel/newton/+bug/1488980', u'Confirmed', u'Medium', <milestone at https://api.launchpad.net/devel/fuel/+milestone/10.0>, <team at https://api.launchpad.net/devel/~fuel-python>]\n",
      "Deleting task on series 8.0.x\n",
      "https://bugs.launchpad.net/bugs/1515618\n",
      "[u'https://bugs.launchpad.net/fuel/+bug/1515618', u'Confirmed', u'Medium', <milestone at https://api.launchpad.net/devel/fuel/+milestone/10.0>, <team at https://api.launchpad.net/devel/~fuel-python>]\n",
      "[u'https://bugs.launchpad.net/fuel/newton/+bug/1515618', u'Confirmed', u'Medium', <milestone at https://api.launchpad.net/devel/fuel/+milestone/10.0>, <team at https://api.launchpad.net/devel/~fuel-python>]\n",
      "Deleting task on series 8.0.x\n",
      "https://bugs.launchpad.net/bugs/1566833\n",
      "[u'https://bugs.launchpad.net/fuel/+bug/1566833', u'Confirmed', u'Medium', <milestone at https://api.launchpad.net/devel/fuel/+milestone/10.0>, <person at https://api.launchpad.net/devel/~musichenko>]\n",
      "[u'https://bugs.launchpad.net/fuel/newton/+bug/1566833', u'Confirmed', u'Medium', <milestone at https://api.launchpad.net/devel/fuel/+milestone/10.0>, <person at https://api.launchpad.net/devel/~musichenko>]\n",
      "Deleting task on series 8.0.x\n",
      "https://bugs.launchpad.net/bugs/1484929\n",
      "[u'https://bugs.launchpad.net/fuel/+bug/1484929', u'Confirmed', u'Medium', <milestone at https://api.launchpad.net/devel/fuel/+milestone/10.0>, <team at https://api.launchpad.net/devel/~fuel-python>]\n",
      "[u'https://bugs.launchpad.net/fuel/newton/+bug/1484929', u'Confirmed', u'Medium', <milestone at https://api.launchpad.net/devel/fuel/+milestone/10.0>, <team at https://api.launchpad.net/devel/~fuel-python>]\n",
      "Deleting task on series 8.0.x\n",
      "https://bugs.launchpad.net/bugs/1480846\n",
      "[u'https://bugs.launchpad.net/fuel/+bug/1480846', u'Confirmed', u'Medium', <milestone at https://api.launchpad.net/devel/fuel/+milestone/10.0>, <team at https://api.launchpad.net/devel/~fuel-python>]\n",
      "[u'https://bugs.launchpad.net/fuel/newton/+bug/1480846', u'Confirmed', u'Medium', <milestone at https://api.launchpad.net/devel/fuel/+milestone/10.0>, <team at https://api.launchpad.net/devel/~fuel-python>]\n",
      "Deleting task on series 8.0.x\n",
      "https://bugs.launchpad.net/bugs/1521816\n",
      "[u'https://bugs.launchpad.net/fuel/+bug/1521816', u'Confirmed', u'Medium', <milestone at https://api.launchpad.net/devel/fuel/+milestone/10.0>, <person at https://api.launchpad.net/devel/~vsharshov>]\n",
      "[u'https://bugs.launchpad.net/fuel/newton/+bug/1521816', u'Confirmed', u'Medium', <milestone at https://api.launchpad.net/devel/fuel/+milestone/10.0>, <person at https://api.launchpad.net/devel/~vsharshov>]\n",
      "Deleting task on series 8.0.x\n",
      "https://bugs.launchpad.net/bugs/1441954\n",
      "[u'https://bugs.launchpad.net/fuel/+bug/1441954', u'Confirmed', u'Medium', <milestone at https://api.launchpad.net/devel/fuel/+milestone/10.0>, <team at https://api.launchpad.net/devel/~fuel-python>]\n",
      "[u'https://bugs.launchpad.net/fuel/newton/+bug/1441954', u'Confirmed', u'Medium', <milestone at https://api.launchpad.net/devel/fuel/+milestone/10.0>, <team at https://api.launchpad.net/devel/~fuel-python>]\n"
     ]
    },
    {
     "ename": "KeyboardInterrupt",
     "evalue": "",
     "output_type": "error",
     "traceback": [
      "\u001b[1;31m---------------------------------------------------------------------------\u001b[0m",
      "\u001b[1;31mKeyboardInterrupt\u001b[0m                         Traceback (most recent call last)",
      "\u001b[1;32m<ipython-input-3-bbf82bd8aef0>\u001b[0m in \u001b[0;36m<module>\u001b[1;34m()\u001b[0m\n\u001b[0;32m     13\u001b[0m     \u001b[1;32mif\u001b[0m \u001b[0mbt0\u001b[0m\u001b[1;33m.\u001b[0m\u001b[0mtarget\u001b[0m \u001b[1;33m!=\u001b[0m \u001b[0mprj\u001b[0m\u001b[1;33m:\u001b[0m\u001b[1;33m\u001b[0m\u001b[0m\n\u001b[0;32m     14\u001b[0m         \u001b[1;32mraise\u001b[0m \u001b[0mException\u001b[0m\u001b[1;33m(\u001b[0m\u001b[1;34m\"Wrong project\"\u001b[0m\u001b[1;33m)\u001b[0m\u001b[1;33m\u001b[0m\u001b[0m\n\u001b[1;32m---> 15\u001b[1;33m     \u001b[1;32mif\u001b[0m \u001b[0mbt1\u001b[0m\u001b[1;33m.\u001b[0m\u001b[0mtarget\u001b[0m \u001b[1;33m!=\u001b[0m \u001b[0mdev_focus\u001b[0m\u001b[1;33m:\u001b[0m\u001b[1;33m\u001b[0m\u001b[0m\n\u001b[0m\u001b[0;32m     16\u001b[0m         \u001b[1;32mraise\u001b[0m \u001b[0mException\u001b[0m\u001b[1;33m(\u001b[0m\u001b[1;34m\"Wrong series\"\u001b[0m\u001b[1;33m)\u001b[0m\u001b[1;33m\u001b[0m\u001b[0m\n\u001b[0;32m     17\u001b[0m     if (\n",
      "\u001b[1;32m/home/dpyzhov/migrate/ipython/venv/local/lib/python2.7/site-packages/lazr/restfulclient/resource.pyc\u001b[0m in \u001b[0;36m__ne__\u001b[1;34m(self, other)\u001b[0m\n\u001b[0;32m    383\u001b[0m     \u001b[1;32mdef\u001b[0m \u001b[0m__ne__\u001b[0m\u001b[1;33m(\u001b[0m\u001b[0mself\u001b[0m\u001b[1;33m,\u001b[0m \u001b[0mother\u001b[0m\u001b[1;33m)\u001b[0m\u001b[1;33m:\u001b[0m\u001b[1;33m\u001b[0m\u001b[0m\n\u001b[0;32m    384\u001b[0m         \u001b[1;34m\"\"\"Inequality operator.\"\"\"\u001b[0m\u001b[1;33m\u001b[0m\u001b[0m\n\u001b[1;32m--> 385\u001b[1;33m         \u001b[1;32mreturn\u001b[0m \u001b[1;32mnot\u001b[0m \u001b[0mself\u001b[0m \u001b[1;33m==\u001b[0m \u001b[0mother\u001b[0m\u001b[1;33m\u001b[0m\u001b[0m\n\u001b[0m\u001b[0;32m    386\u001b[0m \u001b[1;33m\u001b[0m\u001b[0m\n\u001b[0;32m    387\u001b[0m \u001b[1;33m\u001b[0m\u001b[0m\n",
      "\u001b[1;32m/home/dpyzhov/migrate/ipython/venv/local/lib/python2.7/site-packages/lazr/restfulclient/resource.pyc\u001b[0m in \u001b[0;36m__eq__\u001b[1;34m(self, other)\u001b[0m\n\u001b[0;32m    721\u001b[0m         return (\n\u001b[0;32m    722\u001b[0m             \u001b[0mother\u001b[0m \u001b[1;32mis\u001b[0m \u001b[1;32mnot\u001b[0m \u001b[0mNone\u001b[0m \u001b[1;32mand\u001b[0m\u001b[1;33m\u001b[0m\u001b[0m\n\u001b[1;32m--> 723\u001b[1;33m             \u001b[0mself\u001b[0m\u001b[1;33m.\u001b[0m\u001b[0mself_link\u001b[0m \u001b[1;33m==\u001b[0m \u001b[0mother\u001b[0m\u001b[1;33m.\u001b[0m\u001b[0mself_link\u001b[0m \u001b[1;32mand\u001b[0m\u001b[1;33m\u001b[0m\u001b[0m\n\u001b[0m\u001b[0;32m    724\u001b[0m             \u001b[0mself\u001b[0m\u001b[1;33m.\u001b[0m\u001b[0mhttp_etag\u001b[0m \u001b[1;33m==\u001b[0m \u001b[0mother\u001b[0m\u001b[1;33m.\u001b[0m\u001b[0mhttp_etag\u001b[0m \u001b[1;32mand\u001b[0m\u001b[1;33m\u001b[0m\u001b[0m\n\u001b[0;32m    725\u001b[0m             self._dirty_attributes == other._dirty_attributes)\n",
      "\u001b[1;32m/home/dpyzhov/migrate/ipython/venv/local/lib/python2.7/site-packages/lazr/restfulclient/resource.pyc\u001b[0m in \u001b[0;36m__getattr__\u001b[1;34m(self, name)\u001b[0m\n\u001b[0;32m    703\u001b[0m             \u001b[1;32mif\u001b[0m \u001b[0mname\u001b[0m \u001b[1;32min\u001b[0m \u001b[0mself\u001b[0m\u001b[1;33m.\u001b[0m\u001b[0m_dirty_attributes\u001b[0m\u001b[1;33m:\u001b[0m\u001b[1;33m\u001b[0m\u001b[0m\n\u001b[0;32m    704\u001b[0m                 \u001b[1;32mreturn\u001b[0m \u001b[0mself\u001b[0m\u001b[1;33m.\u001b[0m\u001b[0m_dirty_attributes\u001b[0m\u001b[1;33m[\u001b[0m\u001b[0mname\u001b[0m\u001b[1;33m]\u001b[0m\u001b[1;33m\u001b[0m\u001b[0m\n\u001b[1;32m--> 705\u001b[1;33m         \u001b[1;32mreturn\u001b[0m \u001b[0msuper\u001b[0m\u001b[1;33m(\u001b[0m\u001b[0mEntry\u001b[0m\u001b[1;33m,\u001b[0m \u001b[0mself\u001b[0m\u001b[1;33m)\u001b[0m\u001b[1;33m.\u001b[0m\u001b[0m__getattr__\u001b[0m\u001b[1;33m(\u001b[0m\u001b[0mname\u001b[0m\u001b[1;33m)\u001b[0m\u001b[1;33m\u001b[0m\u001b[0m\n\u001b[0m\u001b[0;32m    706\u001b[0m \u001b[1;33m\u001b[0m\u001b[0m\n\u001b[0;32m    707\u001b[0m     \u001b[1;32mdef\u001b[0m \u001b[0m__setattr__\u001b[0m\u001b[1;33m(\u001b[0m\u001b[0mself\u001b[0m\u001b[1;33m,\u001b[0m \u001b[0mname\u001b[0m\u001b[1;33m,\u001b[0m \u001b[0mvalue\u001b[0m\u001b[1;33m)\u001b[0m\u001b[1;33m:\u001b[0m\u001b[1;33m\u001b[0m\u001b[0m\n",
      "\u001b[1;32m/home/dpyzhov/migrate/ipython/venv/local/lib/python2.7/site-packages/lazr/restfulclient/resource.pyc\u001b[0m in \u001b[0;36m__getattr__\u001b[1;34m(self, attr)\u001b[0m\n\u001b[0;32m    333\u001b[0m             \u001b[1;32mpass\u001b[0m\u001b[1;33m\u001b[0m\u001b[0m\n\u001b[0;32m    334\u001b[0m         \u001b[1;32mtry\u001b[0m\u001b[1;33m:\u001b[0m\u001b[1;33m\u001b[0m\u001b[0m\n\u001b[1;32m--> 335\u001b[1;33m             \u001b[1;32mreturn\u001b[0m \u001b[0mself\u001b[0m\u001b[1;33m.\u001b[0m\u001b[0mlp_get_parameter\u001b[0m\u001b[1;33m(\u001b[0m\u001b[0mattr\u001b[0m\u001b[1;33m)\u001b[0m\u001b[1;33m\u001b[0m\u001b[0m\n\u001b[0m\u001b[0;32m    336\u001b[0m         \u001b[1;32mexcept\u001b[0m \u001b[0mKeyError\u001b[0m\u001b[1;33m:\u001b[0m\u001b[1;33m\u001b[0m\u001b[0m\n\u001b[0;32m    337\u001b[0m             raise AttributeError(\"%s object has no attribute '%s'\"\n",
      "\u001b[1;32m/home/dpyzhov/migrate/ipython/venv/local/lib/python2.7/site-packages/lazr/restfulclient/resource.pyc\u001b[0m in \u001b[0;36mlp_get_parameter\u001b[1;34m(self, param_name)\u001b[0m\n\u001b[0;32m    217\u001b[0m                  \u001b[0mrepresentation\u001b[0m\u001b[1;33m,\u001b[0m \u001b[1;32mif\u001b[0m \u001b[0mthe\u001b[0m \u001b[0mparameter\u001b[0m \u001b[1;32mis\u001b[0m \u001b[0ma\u001b[0m \u001b[0mlink\u001b[0m\u001b[1;33m.\u001b[0m\u001b[1;33m\u001b[0m\u001b[0m\n\u001b[0;32m    218\u001b[0m         \"\"\"\n\u001b[1;32m--> 219\u001b[1;33m         \u001b[0mself\u001b[0m\u001b[1;33m.\u001b[0m\u001b[0m_ensure_representation\u001b[0m\u001b[1;33m(\u001b[0m\u001b[1;33m)\u001b[0m\u001b[1;33m\u001b[0m\u001b[0m\n\u001b[0m\u001b[0;32m    220\u001b[0m         \u001b[1;32mfor\u001b[0m \u001b[0msuffix\u001b[0m \u001b[1;32min\u001b[0m \u001b[1;33m[\u001b[0m\u001b[1;34m'_link'\u001b[0m\u001b[1;33m,\u001b[0m \u001b[1;34m'_collection_link'\u001b[0m\u001b[1;33m]\u001b[0m\u001b[1;33m:\u001b[0m\u001b[1;33m\u001b[0m\u001b[0m\n\u001b[0;32m    221\u001b[0m             param = self._wadl_resource.get_parameter(\n",
      "\u001b[1;32m/home/dpyzhov/migrate/ipython/venv/local/lib/python2.7/site-packages/lazr/restfulclient/resource.pyc\u001b[0m in \u001b[0;36m_ensure_representation\u001b[1;34m(self)\u001b[0m\n\u001b[0;32m    359\u001b[0m         \u001b[1;32mif\u001b[0m \u001b[0mself\u001b[0m\u001b[1;33m.\u001b[0m\u001b[0m_wadl_resource\u001b[0m\u001b[1;33m.\u001b[0m\u001b[0mrepresentation\u001b[0m \u001b[1;32mis\u001b[0m \u001b[0mNone\u001b[0m\u001b[1;33m:\u001b[0m\u001b[1;33m\u001b[0m\u001b[0m\n\u001b[0;32m    360\u001b[0m             \u001b[1;31m# Get a representation of the linked resource.\u001b[0m\u001b[1;33m\u001b[0m\u001b[1;33m\u001b[0m\u001b[0m\n\u001b[1;32m--> 361\u001b[1;33m             \u001b[0mrepresentation\u001b[0m \u001b[1;33m=\u001b[0m \u001b[0mself\u001b[0m\u001b[1;33m.\u001b[0m\u001b[0m_root\u001b[0m\u001b[1;33m.\u001b[0m\u001b[0m_browser\u001b[0m\u001b[1;33m.\u001b[0m\u001b[0mget\u001b[0m\u001b[1;33m(\u001b[0m\u001b[0mself\u001b[0m\u001b[1;33m.\u001b[0m\u001b[0m_wadl_resource\u001b[0m\u001b[1;33m)\u001b[0m\u001b[1;33m\u001b[0m\u001b[0m\n\u001b[0m\u001b[0;32m    362\u001b[0m             \u001b[0mrepresentation\u001b[0m \u001b[1;33m=\u001b[0m \u001b[0msimplejson\u001b[0m\u001b[1;33m.\u001b[0m\u001b[0mloads\u001b[0m\u001b[1;33m(\u001b[0m\u001b[0municode\u001b[0m\u001b[1;33m(\u001b[0m\u001b[0mrepresentation\u001b[0m\u001b[1;33m)\u001b[0m\u001b[1;33m)\u001b[0m\u001b[1;33m\u001b[0m\u001b[0m\n\u001b[0;32m    363\u001b[0m \u001b[1;33m\u001b[0m\u001b[0m\n",
      "\u001b[1;32m/home/dpyzhov/migrate/ipython/venv/local/lib/python2.7/site-packages/lazr/restfulclient/_browser.pyc\u001b[0m in \u001b[0;36mget\u001b[1;34m(self, resource_or_uri, headers, return_response)\u001b[0m\n\u001b[0;32m    409\u001b[0m             \u001b[0mmethod\u001b[0m \u001b[1;33m=\u001b[0m \u001b[0mresource_or_uri\u001b[0m\u001b[1;33m.\u001b[0m\u001b[0mget_method\u001b[0m\u001b[1;33m(\u001b[0m\u001b[1;34m'get'\u001b[0m\u001b[1;33m)\u001b[0m\u001b[1;33m\u001b[0m\u001b[0m\n\u001b[0;32m    410\u001b[0m             \u001b[0murl\u001b[0m \u001b[1;33m=\u001b[0m \u001b[0mmethod\u001b[0m\u001b[1;33m.\u001b[0m\u001b[0mbuild_request_url\u001b[0m\u001b[1;33m(\u001b[0m\u001b[1;33m)\u001b[0m\u001b[1;33m\u001b[0m\u001b[0m\n\u001b[1;32m--> 411\u001b[1;33m         \u001b[0mresponse\u001b[0m\u001b[1;33m,\u001b[0m \u001b[0mcontent\u001b[0m \u001b[1;33m=\u001b[0m \u001b[0mself\u001b[0m\u001b[1;33m.\u001b[0m\u001b[0m_request\u001b[0m\u001b[1;33m(\u001b[0m\u001b[0murl\u001b[0m\u001b[1;33m,\u001b[0m \u001b[0mextra_headers\u001b[0m\u001b[1;33m=\u001b[0m\u001b[0mheaders\u001b[0m\u001b[1;33m)\u001b[0m\u001b[1;33m\u001b[0m\u001b[0m\n\u001b[0m\u001b[0;32m    412\u001b[0m         \u001b[1;32mif\u001b[0m \u001b[0mreturn_response\u001b[0m\u001b[1;33m:\u001b[0m\u001b[1;33m\u001b[0m\u001b[0m\n\u001b[0;32m    413\u001b[0m             \u001b[1;32mreturn\u001b[0m \u001b[1;33m(\u001b[0m\u001b[0mresponse\u001b[0m\u001b[1;33m,\u001b[0m \u001b[0mcontent\u001b[0m\u001b[1;33m)\u001b[0m\u001b[1;33m\u001b[0m\u001b[0m\n",
      "\u001b[1;32m/home/dpyzhov/migrate/ipython/venv/local/lib/python2.7/site-packages/lazr/restfulclient/_browser.pyc\u001b[0m in \u001b[0;36m_request\u001b[1;34m(self, url, data, method, media_type, extra_headers)\u001b[0m\n\u001b[0;32m    352\u001b[0m         \u001b[1;32mtry\u001b[0m\u001b[1;33m:\u001b[0m\u001b[1;33m\u001b[0m\u001b[0m\n\u001b[0;32m    353\u001b[0m             response, content = self._request_and_retry(\n\u001b[1;32m--> 354\u001b[1;33m                 str(url), method=method, body=data, headers=headers)\n\u001b[0m\u001b[0;32m    355\u001b[0m         \u001b[1;32mexcept\u001b[0m \u001b[0mSSLHandshakeError\u001b[0m\u001b[1;33m,\u001b[0m \u001b[0me\u001b[0m\u001b[1;33m:\u001b[0m\u001b[1;33m\u001b[0m\u001b[0m\n\u001b[0;32m    356\u001b[0m             \u001b[0mmsg\u001b[0m \u001b[1;33m=\u001b[0m \u001b[0mstr\u001b[0m\u001b[1;33m(\u001b[0m\u001b[0me\u001b[0m\u001b[1;33m)\u001b[0m\u001b[1;33m\u001b[0m\u001b[0m\n",
      "\u001b[1;32m/home/dpyzhov/migrate/ipython/venv/local/lib/python2.7/site-packages/lazr/restfulclient/_browser.pyc\u001b[0m in \u001b[0;36m_request_and_retry\u001b[1;34m(self, url, method, body, headers)\u001b[0m\n\u001b[0;32m    320\u001b[0m         \u001b[1;32mfor\u001b[0m \u001b[0mretry_count\u001b[0m \u001b[1;32min\u001b[0m \u001b[0mrange\u001b[0m\u001b[1;33m(\u001b[0m\u001b[1;36m0\u001b[0m\u001b[1;33m,\u001b[0m \u001b[0mself\u001b[0m\u001b[1;33m.\u001b[0m\u001b[0mmax_retries\u001b[0m\u001b[1;33m+\u001b[0m\u001b[1;36m1\u001b[0m\u001b[1;33m)\u001b[0m\u001b[1;33m:\u001b[0m\u001b[1;33m\u001b[0m\u001b[0m\n\u001b[0;32m    321\u001b[0m             response, content = self._connection.request(\n\u001b[1;32m--> 322\u001b[1;33m                 url, method=method, body=body, headers=headers)\n\u001b[0m\u001b[0;32m    323\u001b[0m             if (response.status in [502, 503]\n\u001b[0;32m    324\u001b[0m                 and retry_count < self.max_retries):\n",
      "\u001b[1;32m/home/dpyzhov/migrate/ipython/venv/local/lib/python2.7/site-packages/httplib2/__init__.pyc\u001b[0m in \u001b[0;36mrequest\u001b[1;34m(self, uri, method, body, headers, redirections, connection_type)\u001b[0m\n\u001b[0;32m   1577\u001b[0m                         \u001b[1;32mpass\u001b[0m\u001b[1;33m\u001b[0m\u001b[0m\n\u001b[0;32m   1578\u001b[0m \u001b[1;33m\u001b[0m\u001b[0m\n\u001b[1;32m-> 1579\u001b[1;33m                     \u001b[1;33m(\u001b[0m\u001b[0mresponse\u001b[0m\u001b[1;33m,\u001b[0m \u001b[0mnew_content\u001b[0m\u001b[1;33m)\u001b[0m \u001b[1;33m=\u001b[0m \u001b[0mself\u001b[0m\u001b[1;33m.\u001b[0m\u001b[0m_request\u001b[0m\u001b[1;33m(\u001b[0m\u001b[0mconn\u001b[0m\u001b[1;33m,\u001b[0m \u001b[0mauthority\u001b[0m\u001b[1;33m,\u001b[0m \u001b[0muri\u001b[0m\u001b[1;33m,\u001b[0m \u001b[0mrequest_uri\u001b[0m\u001b[1;33m,\u001b[0m \u001b[0mmethod\u001b[0m\u001b[1;33m,\u001b[0m \u001b[0mbody\u001b[0m\u001b[1;33m,\u001b[0m \u001b[0mheaders\u001b[0m\u001b[1;33m,\u001b[0m \u001b[0mredirections\u001b[0m\u001b[1;33m,\u001b[0m \u001b[0mcachekey\u001b[0m\u001b[1;33m)\u001b[0m\u001b[1;33m\u001b[0m\u001b[0m\n\u001b[0m\u001b[0;32m   1580\u001b[0m \u001b[1;33m\u001b[0m\u001b[0m\n\u001b[0;32m   1581\u001b[0m                 \u001b[1;32mif\u001b[0m \u001b[0mresponse\u001b[0m\u001b[1;33m.\u001b[0m\u001b[0mstatus\u001b[0m \u001b[1;33m==\u001b[0m \u001b[1;36m304\u001b[0m \u001b[1;32mand\u001b[0m \u001b[0mmethod\u001b[0m \u001b[1;33m==\u001b[0m \u001b[1;34m\"GET\"\u001b[0m\u001b[1;33m:\u001b[0m\u001b[1;33m\u001b[0m\u001b[0m\n",
      "\u001b[1;32m/home/dpyzhov/migrate/ipython/venv/local/lib/python2.7/site-packages/launchpadlib/launchpad.pyc\u001b[0m in \u001b[0;36m_request\u001b[1;34m(self, *args)\u001b[0m\n\u001b[0;32m    129\u001b[0m     \u001b[1;32mdef\u001b[0m \u001b[0m_request\u001b[0m\u001b[1;33m(\u001b[0m\u001b[0mself\u001b[0m\u001b[1;33m,\u001b[0m \u001b[1;33m*\u001b[0m\u001b[0margs\u001b[0m\u001b[1;33m)\u001b[0m\u001b[1;33m:\u001b[0m\u001b[1;33m\u001b[0m\u001b[0m\n\u001b[0;32m    130\u001b[0m         response, content = super(\n\u001b[1;32m--> 131\u001b[1;33m             LaunchpadOAuthAwareHttp, self)._request(*args)\n\u001b[0m\u001b[0;32m    132\u001b[0m         \u001b[1;32mreturn\u001b[0m \u001b[0mself\u001b[0m\u001b[1;33m.\u001b[0m\u001b[0mretry_on_bad_token\u001b[0m\u001b[1;33m(\u001b[0m\u001b[0mresponse\u001b[0m\u001b[1;33m,\u001b[0m \u001b[0mcontent\u001b[0m\u001b[1;33m,\u001b[0m \u001b[1;33m*\u001b[0m\u001b[0margs\u001b[0m\u001b[1;33m)\u001b[0m\u001b[1;33m\u001b[0m\u001b[0m\n\u001b[0;32m    133\u001b[0m \u001b[1;33m\u001b[0m\u001b[0m\n",
      "\u001b[1;32m/home/dpyzhov/migrate/ipython/venv/local/lib/python2.7/site-packages/lazr/restfulclient/_browser.pyc\u001b[0m in \u001b[0;36m_request\u001b[1;34m(self, conn, host, absolute_uri, request_uri, method, body, headers, redirections, cachekey)\u001b[0m\n\u001b[0;32m    147\u001b[0m         return super(RestfulHttp, self)._request(\n\u001b[0;32m    148\u001b[0m             \u001b[0mconn\u001b[0m\u001b[1;33m,\u001b[0m \u001b[0mhost\u001b[0m\u001b[1;33m,\u001b[0m \u001b[0mabsolute_uri\u001b[0m\u001b[1;33m,\u001b[0m \u001b[0mrequest_uri\u001b[0m\u001b[1;33m,\u001b[0m \u001b[0mmethod\u001b[0m\u001b[1;33m,\u001b[0m \u001b[0mbody\u001b[0m\u001b[1;33m,\u001b[0m \u001b[0mheaders\u001b[0m\u001b[1;33m,\u001b[0m\u001b[1;33m\u001b[0m\u001b[0m\n\u001b[1;32m--> 149\u001b[1;33m             redirections, cachekey)\n\u001b[0m\u001b[0;32m    150\u001b[0m \u001b[1;33m\u001b[0m\u001b[0m\n\u001b[0;32m    151\u001b[0m     \u001b[1;32mdef\u001b[0m \u001b[0m_getCachedHeader\u001b[0m\u001b[1;33m(\u001b[0m\u001b[0mself\u001b[0m\u001b[1;33m,\u001b[0m \u001b[0muri\u001b[0m\u001b[1;33m,\u001b[0m \u001b[0mheader\u001b[0m\u001b[1;33m)\u001b[0m\u001b[1;33m:\u001b[0m\u001b[1;33m\u001b[0m\u001b[0m\n",
      "\u001b[1;32m/home/dpyzhov/migrate/ipython/venv/local/lib/python2.7/site-packages/httplib2/__init__.pyc\u001b[0m in \u001b[0;36m_request\u001b[1;34m(self, conn, host, absolute_uri, request_uri, method, body, headers, redirections, cachekey)\u001b[0m\n\u001b[0;32m   1349\u001b[0m             \u001b[0mauth\u001b[0m\u001b[1;33m.\u001b[0m\u001b[0mrequest\u001b[0m\u001b[1;33m(\u001b[0m\u001b[0mmethod\u001b[0m\u001b[1;33m,\u001b[0m \u001b[0mrequest_uri\u001b[0m\u001b[1;33m,\u001b[0m \u001b[0mheaders\u001b[0m\u001b[1;33m,\u001b[0m \u001b[0mbody\u001b[0m\u001b[1;33m)\u001b[0m\u001b[1;33m\u001b[0m\u001b[0m\n\u001b[0;32m   1350\u001b[0m \u001b[1;33m\u001b[0m\u001b[0m\n\u001b[1;32m-> 1351\u001b[1;33m         \u001b[1;33m(\u001b[0m\u001b[0mresponse\u001b[0m\u001b[1;33m,\u001b[0m \u001b[0mcontent\u001b[0m\u001b[1;33m)\u001b[0m \u001b[1;33m=\u001b[0m \u001b[0mself\u001b[0m\u001b[1;33m.\u001b[0m\u001b[0m_conn_request\u001b[0m\u001b[1;33m(\u001b[0m\u001b[0mconn\u001b[0m\u001b[1;33m,\u001b[0m \u001b[0mrequest_uri\u001b[0m\u001b[1;33m,\u001b[0m \u001b[0mmethod\u001b[0m\u001b[1;33m,\u001b[0m \u001b[0mbody\u001b[0m\u001b[1;33m,\u001b[0m \u001b[0mheaders\u001b[0m\u001b[1;33m)\u001b[0m\u001b[1;33m\u001b[0m\u001b[0m\n\u001b[0m\u001b[0;32m   1352\u001b[0m \u001b[1;33m\u001b[0m\u001b[0m\n\u001b[0;32m   1353\u001b[0m         \u001b[1;32mif\u001b[0m \u001b[0mauth\u001b[0m\u001b[1;33m:\u001b[0m\u001b[1;33m\u001b[0m\u001b[0m\n",
      "\u001b[1;32m/home/dpyzhov/migrate/ipython/venv/local/lib/python2.7/site-packages/httplib2/__init__.pyc\u001b[0m in \u001b[0;36m_conn_request\u001b[1;34m(self, conn, request_uri, method, body, headers)\u001b[0m\n\u001b[0;32m   1305\u001b[0m                     \u001b[1;32mcontinue\u001b[0m\u001b[1;33m\u001b[0m\u001b[0m\n\u001b[0;32m   1306\u001b[0m             \u001b[1;32mtry\u001b[0m\u001b[1;33m:\u001b[0m\u001b[1;33m\u001b[0m\u001b[0m\n\u001b[1;32m-> 1307\u001b[1;33m                 \u001b[0mresponse\u001b[0m \u001b[1;33m=\u001b[0m \u001b[0mconn\u001b[0m\u001b[1;33m.\u001b[0m\u001b[0mgetresponse\u001b[0m\u001b[1;33m(\u001b[0m\u001b[1;33m)\u001b[0m\u001b[1;33m\u001b[0m\u001b[0m\n\u001b[0m\u001b[0;32m   1308\u001b[0m             \u001b[1;32mexcept\u001b[0m \u001b[0mhttplib\u001b[0m\u001b[1;33m.\u001b[0m\u001b[0mBadStatusLine\u001b[0m\u001b[1;33m:\u001b[0m\u001b[1;33m\u001b[0m\u001b[0m\n\u001b[0;32m   1309\u001b[0m                 \u001b[1;31m# If we get a BadStatusLine on the first try then that means\u001b[0m\u001b[1;33m\u001b[0m\u001b[1;33m\u001b[0m\u001b[0m\n",
      "\u001b[1;32m/usr/lib/python2.7/httplib.pyc\u001b[0m in \u001b[0;36mgetresponse\u001b[1;34m(self, buffering)\u001b[0m\n\u001b[0;32m   1129\u001b[0m \u001b[1;33m\u001b[0m\u001b[0m\n\u001b[0;32m   1130\u001b[0m         \u001b[1;32mtry\u001b[0m\u001b[1;33m:\u001b[0m\u001b[1;33m\u001b[0m\u001b[0m\n\u001b[1;32m-> 1131\u001b[1;33m             \u001b[0mresponse\u001b[0m\u001b[1;33m.\u001b[0m\u001b[0mbegin\u001b[0m\u001b[1;33m(\u001b[0m\u001b[1;33m)\u001b[0m\u001b[1;33m\u001b[0m\u001b[0m\n\u001b[0m\u001b[0;32m   1132\u001b[0m             \u001b[1;32massert\u001b[0m \u001b[0mresponse\u001b[0m\u001b[1;33m.\u001b[0m\u001b[0mwill_close\u001b[0m \u001b[1;33m!=\u001b[0m \u001b[0m_UNKNOWN\u001b[0m\u001b[1;33m\u001b[0m\u001b[0m\n\u001b[0;32m   1133\u001b[0m             \u001b[0mself\u001b[0m\u001b[1;33m.\u001b[0m\u001b[0m__state\u001b[0m \u001b[1;33m=\u001b[0m \u001b[0m_CS_IDLE\u001b[0m\u001b[1;33m\u001b[0m\u001b[0m\n",
      "\u001b[1;32m/usr/lib/python2.7/httplib.pyc\u001b[0m in \u001b[0;36mbegin\u001b[1;34m(self)\u001b[0m\n\u001b[0;32m    451\u001b[0m         \u001b[1;31m# read until we get a non-100 response\u001b[0m\u001b[1;33m\u001b[0m\u001b[1;33m\u001b[0m\u001b[0m\n\u001b[0;32m    452\u001b[0m         \u001b[1;32mwhile\u001b[0m \u001b[0mTrue\u001b[0m\u001b[1;33m:\u001b[0m\u001b[1;33m\u001b[0m\u001b[0m\n\u001b[1;32m--> 453\u001b[1;33m             \u001b[0mversion\u001b[0m\u001b[1;33m,\u001b[0m \u001b[0mstatus\u001b[0m\u001b[1;33m,\u001b[0m \u001b[0mreason\u001b[0m \u001b[1;33m=\u001b[0m \u001b[0mself\u001b[0m\u001b[1;33m.\u001b[0m\u001b[0m_read_status\u001b[0m\u001b[1;33m(\u001b[0m\u001b[1;33m)\u001b[0m\u001b[1;33m\u001b[0m\u001b[0m\n\u001b[0m\u001b[0;32m    454\u001b[0m             \u001b[1;32mif\u001b[0m \u001b[0mstatus\u001b[0m \u001b[1;33m!=\u001b[0m \u001b[0mCONTINUE\u001b[0m\u001b[1;33m:\u001b[0m\u001b[1;33m\u001b[0m\u001b[0m\n\u001b[0;32m    455\u001b[0m                 \u001b[1;32mbreak\u001b[0m\u001b[1;33m\u001b[0m\u001b[0m\n",
      "\u001b[1;32m/usr/lib/python2.7/httplib.pyc\u001b[0m in \u001b[0;36m_read_status\u001b[1;34m(self)\u001b[0m\n\u001b[0;32m    407\u001b[0m     \u001b[1;32mdef\u001b[0m \u001b[0m_read_status\u001b[0m\u001b[1;33m(\u001b[0m\u001b[0mself\u001b[0m\u001b[1;33m)\u001b[0m\u001b[1;33m:\u001b[0m\u001b[1;33m\u001b[0m\u001b[0m\n\u001b[0;32m    408\u001b[0m         \u001b[1;31m# Initialize with Simple-Response defaults\u001b[0m\u001b[1;33m\u001b[0m\u001b[1;33m\u001b[0m\u001b[0m\n\u001b[1;32m--> 409\u001b[1;33m         \u001b[0mline\u001b[0m \u001b[1;33m=\u001b[0m \u001b[0mself\u001b[0m\u001b[1;33m.\u001b[0m\u001b[0mfp\u001b[0m\u001b[1;33m.\u001b[0m\u001b[0mreadline\u001b[0m\u001b[1;33m(\u001b[0m\u001b[0m_MAXLINE\u001b[0m \u001b[1;33m+\u001b[0m \u001b[1;36m1\u001b[0m\u001b[1;33m)\u001b[0m\u001b[1;33m\u001b[0m\u001b[0m\n\u001b[0m\u001b[0;32m    410\u001b[0m         \u001b[1;32mif\u001b[0m \u001b[0mlen\u001b[0m\u001b[1;33m(\u001b[0m\u001b[0mline\u001b[0m\u001b[1;33m)\u001b[0m \u001b[1;33m>\u001b[0m \u001b[0m_MAXLINE\u001b[0m\u001b[1;33m:\u001b[0m\u001b[1;33m\u001b[0m\u001b[0m\n\u001b[0;32m    411\u001b[0m             \u001b[1;32mraise\u001b[0m \u001b[0mLineTooLong\u001b[0m\u001b[1;33m(\u001b[0m\u001b[1;34m\"header line\"\u001b[0m\u001b[1;33m)\u001b[0m\u001b[1;33m\u001b[0m\u001b[0m\n",
      "\u001b[1;32m/usr/lib/python2.7/socket.pyc\u001b[0m in \u001b[0;36mreadline\u001b[1;34m(self, size)\u001b[0m\n\u001b[0;32m    478\u001b[0m             \u001b[1;32mwhile\u001b[0m \u001b[0mTrue\u001b[0m\u001b[1;33m:\u001b[0m\u001b[1;33m\u001b[0m\u001b[0m\n\u001b[0;32m    479\u001b[0m                 \u001b[1;32mtry\u001b[0m\u001b[1;33m:\u001b[0m\u001b[1;33m\u001b[0m\u001b[0m\n\u001b[1;32m--> 480\u001b[1;33m                     \u001b[0mdata\u001b[0m \u001b[1;33m=\u001b[0m \u001b[0mself\u001b[0m\u001b[1;33m.\u001b[0m\u001b[0m_sock\u001b[0m\u001b[1;33m.\u001b[0m\u001b[0mrecv\u001b[0m\u001b[1;33m(\u001b[0m\u001b[0mself\u001b[0m\u001b[1;33m.\u001b[0m\u001b[0m_rbufsize\u001b[0m\u001b[1;33m)\u001b[0m\u001b[1;33m\u001b[0m\u001b[0m\n\u001b[0m\u001b[0;32m    481\u001b[0m                 \u001b[1;32mexcept\u001b[0m \u001b[0merror\u001b[0m\u001b[1;33m,\u001b[0m \u001b[0me\u001b[0m\u001b[1;33m:\u001b[0m\u001b[1;33m\u001b[0m\u001b[0m\n\u001b[0;32m    482\u001b[0m                     \u001b[1;32mif\u001b[0m \u001b[0me\u001b[0m\u001b[1;33m.\u001b[0m\u001b[0margs\u001b[0m\u001b[1;33m[\u001b[0m\u001b[1;36m0\u001b[0m\u001b[1;33m]\u001b[0m \u001b[1;33m==\u001b[0m \u001b[0mEINTR\u001b[0m\u001b[1;33m:\u001b[0m\u001b[1;33m\u001b[0m\u001b[0m\n",
      "\u001b[1;32m/usr/lib/python2.7/ssl.pyc\u001b[0m in \u001b[0;36mrecv\u001b[1;34m(self, buflen, flags)\u001b[0m\n\u001b[0;32m    732\u001b[0m                     \u001b[1;34m\"non-zero flags not allowed in calls to recv() on %s\"\u001b[0m \u001b[1;33m%\u001b[0m\u001b[1;33m\u001b[0m\u001b[0m\n\u001b[0;32m    733\u001b[0m                     self.__class__)\n\u001b[1;32m--> 734\u001b[1;33m             \u001b[1;32mreturn\u001b[0m \u001b[0mself\u001b[0m\u001b[1;33m.\u001b[0m\u001b[0mread\u001b[0m\u001b[1;33m(\u001b[0m\u001b[0mbuflen\u001b[0m\u001b[1;33m)\u001b[0m\u001b[1;33m\u001b[0m\u001b[0m\n\u001b[0m\u001b[0;32m    735\u001b[0m         \u001b[1;32melse\u001b[0m\u001b[1;33m:\u001b[0m\u001b[1;33m\u001b[0m\u001b[0m\n\u001b[0;32m    736\u001b[0m             \u001b[1;32mreturn\u001b[0m \u001b[0mself\u001b[0m\u001b[1;33m.\u001b[0m\u001b[0m_sock\u001b[0m\u001b[1;33m.\u001b[0m\u001b[0mrecv\u001b[0m\u001b[1;33m(\u001b[0m\u001b[0mbuflen\u001b[0m\u001b[1;33m,\u001b[0m \u001b[0mflags\u001b[0m\u001b[1;33m)\u001b[0m\u001b[1;33m\u001b[0m\u001b[0m\n",
      "\u001b[1;32m/usr/lib/python2.7/ssl.pyc\u001b[0m in \u001b[0;36mread\u001b[1;34m(self, len, buffer)\u001b[0m\n\u001b[0;32m    619\u001b[0m                 \u001b[0mv\u001b[0m \u001b[1;33m=\u001b[0m \u001b[0mself\u001b[0m\u001b[1;33m.\u001b[0m\u001b[0m_sslobj\u001b[0m\u001b[1;33m.\u001b[0m\u001b[0mread\u001b[0m\u001b[1;33m(\u001b[0m\u001b[0mlen\u001b[0m\u001b[1;33m,\u001b[0m \u001b[0mbuffer\u001b[0m\u001b[1;33m)\u001b[0m\u001b[1;33m\u001b[0m\u001b[0m\n\u001b[0;32m    620\u001b[0m             \u001b[1;32melse\u001b[0m\u001b[1;33m:\u001b[0m\u001b[1;33m\u001b[0m\u001b[0m\n\u001b[1;32m--> 621\u001b[1;33m                 \u001b[0mv\u001b[0m \u001b[1;33m=\u001b[0m \u001b[0mself\u001b[0m\u001b[1;33m.\u001b[0m\u001b[0m_sslobj\u001b[0m\u001b[1;33m.\u001b[0m\u001b[0mread\u001b[0m\u001b[1;33m(\u001b[0m\u001b[0mlen\u001b[0m \u001b[1;32mor\u001b[0m \u001b[1;36m1024\u001b[0m\u001b[1;33m)\u001b[0m\u001b[1;33m\u001b[0m\u001b[0m\n\u001b[0m\u001b[0;32m    622\u001b[0m             \u001b[1;32mreturn\u001b[0m \u001b[0mv\u001b[0m\u001b[1;33m\u001b[0m\u001b[0m\n\u001b[0;32m    623\u001b[0m         \u001b[1;32mexcept\u001b[0m \u001b[0mSSLError\u001b[0m \u001b[1;32mas\u001b[0m \u001b[0mx\u001b[0m\u001b[1;33m:\u001b[0m\u001b[1;33m\u001b[0m\u001b[0m\n",
      "\u001b[1;31mKeyboardInterrupt\u001b[0m: "
     ]
    }
   ],
   "source": [
    "dry_run = True\n",
    "\n",
    "for bug_task in dev_focus.searchTasks(milestone=cur_ms, status=open_statuses):\n",
    "    bug = bug_task.bug\n",
    "    print bug.web_link\n",
    "    bt0 = bug.bug_tasks[0]\n",
    "    bt1 = None\n",
    "    for bt in bug.bug_tasks:\n",
    "        if bt.target == dev_focus:\n",
    "            bt1 = bt\n",
    "    print [bt0.web_link, bt0.status, bt0.importance, bt0.milestone, bt0.assignee]\n",
    "    print [bt1.web_link, bt1.status, bt1.importance, bt1.milestone, bt1.assignee]\n",
    "    if bt0.target != prj:\n",
    "        raise Exception(\"Wrong project\")\n",
    "    if bt1.target != dev_focus:\n",
    "        raise Exception(\"Wrong series\")\n",
    "    if (\n",
    "        bt0.status == bt1.status and\n",
    "        bt0.importance == bt1.importance and\n",
    "        bt0.milestone == bt1.milestone and\n",
    "        bt0.assignee == bt1.assignee):\n",
    "        print \"Deleting task on series\"\n",
    "    else:\n",
    "        print \"Tasks mismatch\"\n",
    "        [bt0.status, bt0.importance, bt0.milestone, bt0.assignee] = [bt1.status, bt1.importance, bt1.milestone, bt1.assignee]\n",
    "        \n",
    "    if not dry_run:\n",
    "        bt0.lp_save()\n",
    "        print \"Root task updated\"\n",
    "        rbt = lp.bugs[bug.id].bug_tasks[0]\n",
    "        if (\n",
    "            rbt.status == bt1.status and\n",
    "            rbt.importance == bt1.importance and\n",
    "            rbt.milestone == bt1.milestone and\n",
    "            rbt.assignee == bt1.assignee):\n",
    "            bt1.lp_delete()\n",
    "            print \"Series task deleted\"\n",
    "        else:\n",
    "            raise Exception(\"Recheck failed!\")"
   ]
  },
  {
   "cell_type": "markdown",
   "metadata": {},
   "source": [
    "## Move bugs from fuel-python to fuel-sustaining-team"
   ]
  },
  {
   "cell_type": "code",
   "execution_count": 21,
   "metadata": {
    "collapsed": false,
    "scrolled": false
   },
   "outputs": [
    {
     "ename": "KeyError",
     "evalue": "'l23-network'",
     "output_type": "error",
     "traceback": [
      "\u001b[1;31m---------------------------------------------------------------------------\u001b[0m",
      "\u001b[1;31mKeyError\u001b[0m                                  Traceback (most recent call last)",
      "\u001b[1;32m<ipython-input-21-46b8fedeb988>\u001b[0m in \u001b[0;36m<module>\u001b[1;34m()\u001b[0m\n\u001b[0;32m      3\u001b[0m \u001b[0mteam_person\u001b[0m \u001b[1;33m=\u001b[0m \u001b[0mlp\u001b[0m\u001b[1;33m.\u001b[0m\u001b[0mpeople\u001b[0m\u001b[1;33m[\u001b[0m\u001b[1;34m'l23network'\u001b[0m\u001b[1;33m]\u001b[0m\u001b[1;33m\u001b[0m\u001b[0m\n\u001b[0;32m      4\u001b[0m \u001b[1;33m\u001b[0m\u001b[0m\n\u001b[1;32m----> 5\u001b[1;33m \u001b[1;32mfor\u001b[0m \u001b[0mbug_task\u001b[0m \u001b[1;32min\u001b[0m \u001b[0mprj\u001b[0m\u001b[1;33m.\u001b[0m\u001b[0msearchTasks\u001b[0m\u001b[1;33m(\u001b[0m\u001b[0mmilestone\u001b[0m\u001b[1;33m=\u001b[0m\u001b[0mcur_ms\u001b[0m\u001b[1;33m,\u001b[0m \u001b[0mstatus\u001b[0m\u001b[1;33m=\u001b[0m\u001b[0mopen_statuses\u001b[0m\u001b[1;33m,\u001b[0m \u001b[0massignee\u001b[0m\u001b[1;33m=\u001b[0m\u001b[0mlp\u001b[0m\u001b[1;33m.\u001b[0m\u001b[0mpeople\u001b[0m\u001b[1;33m[\u001b[0m\u001b[1;34m'l23-network'\u001b[0m\u001b[1;33m]\u001b[0m\u001b[1;33m)\u001b[0m\u001b[1;33m:\u001b[0m\u001b[1;33m\u001b[0m\u001b[0m\n\u001b[0m\u001b[0;32m      6\u001b[0m     \u001b[0mbug\u001b[0m \u001b[1;33m=\u001b[0m \u001b[0mbug_task\u001b[0m\u001b[1;33m.\u001b[0m\u001b[0mbug\u001b[0m\u001b[1;33m\u001b[0m\u001b[0m\n\u001b[0;32m      7\u001b[0m     \u001b[1;32mprint\u001b[0m \u001b[0mbug\u001b[0m\u001b[1;33m.\u001b[0m\u001b[0mweb_link\u001b[0m\u001b[1;33m\u001b[0m\u001b[0m\n",
      "\u001b[1;32m/home/dpyzhov/migrate/ipython/venv/local/lib/python2.7/site-packages/lazr/restfulclient/resource.pyc\u001b[0m in \u001b[0;36m__getitem__\u001b[1;34m(self, key)\u001b[0m\n\u001b[0;32m    966\u001b[0m         \u001b[1;32mexcept\u001b[0m \u001b[0mHTTPError\u001b[0m\u001b[1;33m,\u001b[0m \u001b[0me\u001b[0m\u001b[1;33m:\u001b[0m\u001b[1;33m\u001b[0m\u001b[0m\n\u001b[0;32m    967\u001b[0m             \u001b[1;32mif\u001b[0m \u001b[0me\u001b[0m\u001b[1;33m.\u001b[0m\u001b[0mresponse\u001b[0m\u001b[1;33m.\u001b[0m\u001b[0mstatus\u001b[0m \u001b[1;33m==\u001b[0m \u001b[1;36m404\u001b[0m\u001b[1;33m:\u001b[0m\u001b[1;33m\u001b[0m\u001b[0m\n\u001b[1;32m--> 968\u001b[1;33m                 \u001b[1;32mraise\u001b[0m \u001b[0mKeyError\u001b[0m\u001b[1;33m(\u001b[0m\u001b[0mkey\u001b[0m\u001b[1;33m)\u001b[0m\u001b[1;33m\u001b[0m\u001b[0m\n\u001b[0m\u001b[0;32m    969\u001b[0m             \u001b[1;32melse\u001b[0m\u001b[1;33m:\u001b[0m\u001b[1;33m\u001b[0m\u001b[0m\n\u001b[0;32m    970\u001b[0m                 \u001b[1;32mraise\u001b[0m\u001b[1;33m\u001b[0m\u001b[0m\n",
      "\u001b[1;31mKeyError\u001b[0m: 'l23-network'"
     ]
    }
   ],
   "source": [
    "dry_run = True\n",
    "\n",
    "team_person = lp.people['l23network']\n",
    "\n",
    "for bug_task in prj.searchTasks(milestone=cur_ms, status=open_statuses, assignee=lp.people['l23-network']):\n",
    "    bug = bug_task.bug\n",
    "    print bug.web_link\n",
    "    bug_task.assignee = team_person\n",
    "    bug_task.lp_save()\n",
    "    print \"Moved to team_person\""
   ]
  },
  {
   "cell_type": "markdown",
   "metadata": {},
   "source": [
    "## Find all support/swarm-blocker/long-haul-testing bugs that are hidden in excluded tags"
   ]
  },
  {
   "cell_type": "code",
   "execution_count": 25,
   "metadata": {
    "collapsed": false
   },
   "outputs": [
    {
     "data": {
      "text/html": [
       "1442532 <a href=https://bugs.launchpad.net/bugs/1442532>[Doc] We should use fixed minimal width of the pages</a><br>- Confirmed / evkonstantinov / 8.0<br>- [<i>docs</i> qa-agree-7.0 <b>support</b>]"
      ],
      "text/plain": [
       "<IPython.core.display.HTML at 0x113c44890>"
      ]
     },
     "metadata": {},
     "output_type": "display_data"
    },
    {
     "data": {
      "text/html": [
       "1474362 <a href=https://bugs.launchpad.net/bugs/1474362>[Docs] Please add documentation how-to restore plugins</a><br>- Confirmed / ogusarenko / 8.0<br>- [<i>docs</i> feature-plugins <b>support</b>]"
      ],
      "text/plain": [
       "<IPython.core.display.HTML at 0x113c6fb50>"
      ]
     },
     "metadata": {},
     "output_type": "display_data"
    },
    {
     "data": {
      "text/html": [
       "1485600 <a href=https://bugs.launchpad.net/bugs/1485600>[Docs] We have no description about default user for instances, created by Murano and Heat</a><br>- Confirmed / fuel-docs / 8.0<br>- [<b>customer-found</b> <i>docs</i> heat murano <b>support</b>]"
      ],
      "text/plain": [
       "<IPython.core.display.HTML at 0x113c7c990>"
      ]
     },
     "metadata": {},
     "output_type": "display_data"
    },
    {
     "data": {
      "text/html": [
       "1490597 <a href=https://bugs.launchpad.net/bugs/1490597>[volume allocation] Default disk partitioning logic is not optimal: we have unallocated disk space</a><br>- Confirmed / fuel-python / 8.0<br>- [<i>covered-by-bp</i> <b>long-haul-testing</b> release-notes tricky]"
      ],
      "text/plain": [
       "<IPython.core.display.HTML at 0x113cba490>"
      ]
     },
     "metadata": {},
     "output_type": "display_data"
    },
    {
     "data": {
      "text/html": [
       "1493520 <a href=https://bugs.launchpad.net/bugs/1493520>OpenStack is down after filling the root filesystem</a><br>- Triaged / alex-schultz / 8.0<br>- [<b>customer-found</b> <i>feature</i> <b>long-haul-testing</b> <b>support</b>]"
      ],
      "text/plain": [
       "<IPython.core.display.HTML at 0x113cd21d0>"
      ]
     },
     "metadata": {},
     "output_type": "display_data"
    },
    {
     "data": {
      "text/html": [
       "1504074 <a href=https://bugs.launchpad.net/bugs/1504074>[system-tests] test_failover_base.ha_haproxy_termination - incorrect usage of context manager</a><br>- Confirmed / fuel-qa / 8.0<br>- [<b>swarm-blocker</b> <i>system-tests</i>]"
      ],
      "text/plain": [
       "<IPython.core.display.HTML at 0x113c441d0>"
      ]
     },
     "metadata": {},
     "output_type": "display_data"
    }
   ],
   "source": [
    "search_tags = list(important_tags)\n",
    "search_tags.remove('customer-found')\n",
    "for bt in prj.searchTasks(milestone=cur_ms, status=open_statuses, tags=search_tags):\n",
    "    if set(bt.bug.tags).intersection(excluded_tags):\n",
    "        display_bug(bt.bug)"
   ]
  },
  {
   "cell_type": "markdown",
   "metadata": {},
   "source": [
    "## Find all covered-by-bp bugs"
   ]
  },
  {
   "cell_type": "code",
   "execution_count": 19,
   "metadata": {
    "collapsed": false
   },
   "outputs": [
    {
     "data": {
      "text/html": [
       "1306792 <a href=https://bugs.launchpad.net/bugs/1306792>[volumes-refactoring] Fuel Default Disk Partion Scheme is very sub-optimal</a><br>- Confirmed / fuel-python / 8.0<br>- [blocked-by-bp <i>covered-by-bp</i> customer-found module-volumes qa-agree-8.0]"
      ],
      "text/plain": [
       "<IPython.core.display.HTML at 0x1129d5e90>"
      ]
     },
     "metadata": {},
     "output_type": "display_data"
    },
    {
     "data": {
      "text/html": [
       "1350623 <a href=https://bugs.launchpad.net/bugs/1350623>network verification checker should test for ovs vlan issues</a><br>- Triaged / fuel-python / 8.0<br>- [<i>covered-by-bp</i> customer-found module-netcheck qa-agree-7.0]"
      ],
      "text/plain": [
       "<IPython.core.display.HTML at 0x1129d5390>"
      ]
     },
     "metadata": {},
     "output_type": "display_data"
    },
    {
     "data": {
      "text/html": [
       "1435610 <a href=https://bugs.launchpad.net/bugs/1435610>upload_cirros failed and marked all nodes failed</a><br>- Triaged / fuel-python / 8.0<br>- [<i>covered-by-bp</i> <i>feature</i> known-issue module-tasks qa-agree-8.0]"
      ],
      "text/plain": [
       "<IPython.core.display.HTML at 0x113c34d50>"
      ]
     },
     "metadata": {},
     "output_type": "display_data"
    },
    {
     "data": {
      "text/html": [
       "1439776 <a href=https://bugs.launchpad.net/bugs/1439776>\"ready\" status while post_deploy tasks still running</a><br>- Confirmed / fuel-python / 8.0<br>- [<i>covered-by-bp</i> module-tasks qa-agree-8.0 release-notes]"
      ],
      "text/plain": [
       "<IPython.core.display.HTML at 0x113c34650>"
      ]
     },
     "metadata": {},
     "output_type": "display_data"
    },
    {
     "data": {
      "text/html": [
       "1485758 <a href=https://bugs.launchpad.net/bugs/1485758>fuel-createmirror requires internet access to docker repository and fails by default if it can't access it</a><br>- Confirmed / bgaifullin / 8.0<br>- [<i>covered-by-bp</i> customer-found fuel-createmirror]"
      ],
      "text/plain": [
       "<IPython.core.display.HTML at 0x1112e8690>"
      ]
     },
     "metadata": {},
     "output_type": "display_data"
    },
    {
     "data": {
      "text/html": [
       "1490597 <a href=https://bugs.launchpad.net/bugs/1490597>[volume allocation] Default disk partitioning logic is not optimal: we have unallocated disk space</a><br>- Confirmed / fuel-python / 8.0<br>- [<i>covered-by-bp</i> <b>long-haul-testing</b> release-notes tricky]"
      ],
      "text/plain": [
       "<IPython.core.display.HTML at 0x113c36310>"
      ]
     },
     "metadata": {},
     "output_type": "display_data"
    },
    {
     "data": {
      "text/html": [
       "1491416 <a href=https://bugs.launchpad.net/bugs/1491416>fuel-createmirror: Creation of MOS mirror FAILED</a><br>- Triaged / bgaifullin / 8.0<br>- [<i>covered-by-bp</i> fuel-createmirror]"
      ],
      "text/plain": [
       "<IPython.core.display.HTML at 0x113c36990>"
      ]
     },
     "metadata": {},
     "output_type": "display_data"
    },
    {
     "data": {
      "text/html": [
       "1497000 <a href=https://bugs.launchpad.net/bugs/1497000>Unusual behaviour of script fuel-createmirror is seen during local repo creation on a remote ubuntu machine</a><br>- Confirmed / bgaifullin / 8.0<br>- [<i>covered-by-bp</i> fuel-createmirror]"
      ],
      "text/plain": [
       "<IPython.core.display.HTML at 0x113c4d210>"
      ]
     },
     "metadata": {},
     "output_type": "display_data"
    },
    {
     "data": {
      "text/html": [
       "1392387 <a href=https://bugs.launchpad.net/bugs/1392387>Incorrect status of progress bar on nodes from not default nodegroup</a><br>- Triaged / vsharshov / 8.0<br>- [<i>covered-by-bp</i> <i>feature</i> feature-multi-l2 feature-nodegroup feature-progress-bar]"
      ],
      "text/plain": [
       "<IPython.core.display.HTML at 0x113c4da50>"
      ]
     },
     "metadata": {},
     "output_type": "display_data"
    },
    {
     "data": {
      "text/html": [
       "1403440 <a href=https://bugs.launchpad.net/bugs/1403440>[nailgun] gateway address should be validated during network setup</a><br>- Triaged / fuel-python / 8.0<br>- [<i>covered-by-bp</i> feature-advanced-networking feature-validation]"
      ],
      "text/plain": [
       "<IPython.core.display.HTML at 0x113c633d0>"
      ]
     },
     "metadata": {},
     "output_type": "display_data"
    },
    {
     "data": {
      "text/html": [
       "1443808 <a href=https://bugs.launchpad.net/bugs/1443808>Web UI progress bar doesn't consider a fuel-plugin progress</a><br>- Confirmed / fuel-python / 8.0<br>- [<i>covered-by-bp</i> customer-found feature-progress-bar plugin release-notes]"
      ],
      "text/plain": [
       "<IPython.core.display.HTML at 0x113c4da50>"
      ]
     },
     "metadata": {},
     "output_type": "display_data"
    },
    {
     "data": {
      "text/html": [
       "1449086 <a href=https://bugs.launchpad.net/bugs/1449086>Deploy button still shows \"Deploy Changes\" after provisioning was started from CLI</a><br>- Confirmed / fuel-python / 8.0<br>- [<i>covered-by-bp</i> known-issue module-nailgun release-notes ui]"
      ],
      "text/plain": [
       "<IPython.core.display.HTML at 0x113c4d990>"
      ]
     },
     "metadata": {},
     "output_type": "display_data"
    },
    {
     "data": {
      "text/html": [
       "1453885 <a href=https://bugs.launchpad.net/bugs/1453885>It's possible to assign role(s) to a node that can't meet default disk allocation minimums</a><br>- Confirmed / fuel-python / 8.0<br>- [<i>covered-by-bp</i> customer-found module-nailgun module-volumes ui]"
      ],
      "text/plain": [
       "<IPython.core.display.HTML at 0x1112e8ed0>"
      ]
     },
     "metadata": {},
     "output_type": "display_data"
    },
    {
     "data": {
      "text/html": [
       "1454325 <a href=https://bugs.launchpad.net/bugs/1454325>Progress bar is broken for multiroles with operating system</a><br>- Confirmed / fuel-python / 8.0<br>- [<i>covered-by-bp</i> feature-progress-bar module-astute qa-agree-7.0]"
      ],
      "text/plain": [
       "<IPython.core.display.HTML at 0x1112e8110>"
      ]
     },
     "metadata": {},
     "output_type": "display_data"
    },
    {
     "data": {
      "text/html": [
       "1466428 <a href=https://bugs.launchpad.net/bugs/1466428>fuel 6.x ceph low disk space warning on controller</a><br>- Confirmed / fuel-python / 8.0<br>- [ceph <i>covered-by-bp</i> module-volumes]"
      ],
      "text/plain": [
       "<IPython.core.display.HTML at 0x11129ad90>"
      ]
     },
     "metadata": {},
     "output_type": "display_data"
    },
    {
     "data": {
      "text/html": [
       "1466431 <a href=https://bugs.launchpad.net/bugs/1466431>\"Stop deployment\" action works incorrectly at the end of deployment process</a><br>- Confirmed / fuel-python / 8.0<br>- [<i>covered-by-bp</i> module-nailgun release-notes]"
      ],
      "text/plain": [
       "<IPython.core.display.HTML at 0x113c34a50>"
      ]
     },
     "metadata": {},
     "output_type": "display_data"
    },
    {
     "data": {
      "text/html": [
       "1467403 <a href=https://bugs.launchpad.net/bugs/1467403>fuel-createmirror should support mos-updates repository for Centos the same as for Ubuntu</a><br>- Confirmed / bgaifullin / 8.0<br>- [<i>covered-by-bp</i> fuel-createmirror]"
      ],
      "text/plain": [
       "<IPython.core.display.HTML at 0x10d484cd0>"
      ]
     },
     "metadata": {},
     "output_type": "display_data"
    },
    {
     "data": {
      "text/html": [
       "1468764 <a href=https://bugs.launchpad.net/bugs/1468764>fuel-createmirror: wrong log level for \"fail messages\"</a><br>- Confirmed / bgaifullin / 8.0<br>- [<i>covered-by-bp</i> tech-debt]"
      ],
      "text/plain": [
       "<IPython.core.display.HTML at 0x1129c7490>"
      ]
     },
     "metadata": {},
     "output_type": "display_data"
    },
    {
     "data": {
      "text/html": [
       "1469236 <a href=https://bugs.launchpad.net/bugs/1469236>fuel-createmirror --dry-run prints not all commands required for manual execution</a><br>- Confirmed / fuel-python / 8.0<br>- [<i>covered-by-bp</i> fuel-createmirror]"
      ],
      "text/plain": [
       "<IPython.core.display.HTML at 0x1129d5810>"
      ]
     },
     "metadata": {},
     "output_type": "display_data"
    },
    {
     "data": {
      "text/html": [
       "1472303 <a href=https://bugs.launchpad.net/bugs/1472303>nodegroup ID/name missing under network tab</a><br>- Confirmed / fuel-ui / 8.0<br>- [<i>covered-by-bp</i> customer-found feature-nodegroup ui]"
      ],
      "text/plain": [
       "<IPython.core.display.HTML at 0x10ed1d310>"
      ]
     },
     "metadata": {},
     "output_type": "display_data"
    },
    {
     "data": {
      "text/html": [
       "1473047 <a href=https://bugs.launchpad.net/bugs/1473047>not possible to share networks between nodegroups</a><br>- Confirmed / fuel-python / 8.0<br>- [<i>covered-by-bp</i> customer-found feature-nodegroup module-networks]"
      ],
      "text/plain": [
       "<IPython.core.display.HTML at 0x1112d3150>"
      ]
     },
     "metadata": {},
     "output_type": "display_data"
    },
    {
     "data": {
      "text/html": [
       "1494165 <a href=https://bugs.launchpad.net/bugs/1494165>100% progress bar during reinstall on primary-controller</a><br>- Triaged / fuel-python / 8.0<br>- [<i>covered-by-bp</i> feature-progress-bar]"
      ],
      "text/plain": [
       "<IPython.core.display.HTML at 0x113c63a90>"
      ]
     },
     "metadata": {},
     "output_type": "display_data"
    },
    {
     "data": {
      "text/html": [
       "1500840 <a href=https://bugs.launchpad.net/bugs/1500840>fuel-createmirror fails to generate ubuntu repo on external host</a><br>- Confirmed / fuel-python / 8.0<br>- [<i>covered-by-bp</i>]"
      ],
      "text/plain": [
       "<IPython.core.display.HTML at 0x113c63790>"
      ]
     },
     "metadata": {},
     "output_type": "display_data"
    },
    {
     "data": {
      "text/html": [
       "1255426 <a href=https://bugs.launchpad.net/bugs/1255426>Progress shows 100% for deploy while there is one more task is in progress</a><br>- Confirmed / fuel-python / 8.0<br>- [<i>covered-by-bp</i> feature-progress-bar module-astute]"
      ],
      "text/plain": [
       "<IPython.core.display.HTML at 0x113c445d0>"
      ]
     },
     "metadata": {},
     "output_type": "display_data"
    },
    {
     "data": {
      "text/html": [
       "1401676 <a href=https://bugs.launchpad.net/bugs/1401676>Deployment progress bar inaccurate</a><br>- Confirmed / fuel-python / 8.0<br>- [<i>covered-by-bp</i> feature-progress-bar]"
      ],
      "text/plain": [
       "<IPython.core.display.HTML at 0x113c44950>"
      ]
     },
     "metadata": {},
     "output_type": "display_data"
    },
    {
     "data": {
      "text/html": [
       "1458379 <a href=https://bugs.launchpad.net/bugs/1458379>progress bar immediately jumped to 42%</a><br>- Triaged / fuel-python / 8.0<br>- [<i>covered-by-bp</i> <i>feature</i> feature-progress-bar module-astute]"
      ],
      "text/plain": [
       "<IPython.core.display.HTML at 0x113c44850>"
      ]
     },
     "metadata": {},
     "output_type": "display_data"
    },
    {
     "data": {
      "text/html": [
       "1347540 <a href=https://bugs.launchpad.net/bugs/1347540>Multicast verification has failed if you configure bonding</a><br>- Confirmed / fuel-python / 8.0<br>- [<i>covered-by-bp</i> module-netcheck release-notes]"
      ],
      "text/plain": [
       "<IPython.core.display.HTML at 0x113c63110>"
      ]
     },
     "metadata": {},
     "output_type": "display_data"
    }
   ],
   "source": [
    "search_tags = ['covered-by-bp']\n",
    "for bt in prj.searchTasks(milestone=cur_ms, status=open_statuses, tags=search_tags):\n",
    "    display_bug(bt.bug)"
   ]
  },
  {
   "cell_type": "markdown",
   "metadata": {},
   "source": [
    "## Top priority bugs"
   ]
  },
  {
   "cell_type": "code",
   "execution_count": 21,
   "metadata": {
    "collapsed": false
   },
   "outputs": [
    {
     "data": {
      "text/html": [
       "1479862 <a href=https://bugs.launchpad.net/bugs/1479862>[Ceph] Fuel must update (all) ceph.conf [mons] on ceph monitor re-deploy</a><br>- Confirmed / kdanylov / 8.0<br>- [ceph customer-found <b>support</b>]"
      ],
      "text/plain": [
       "<IPython.core.display.HTML at 0x113c44890>"
      ]
     },
     "metadata": {},
     "output_type": "display_data"
    },
    {
     "data": {
      "text/html": [
       "1484080 <a href=https://bugs.launchpad.net/bugs/1484080>qemu2.0.0 should be upgraded to 2.4 on Jenkins Product CI</a><br>- Confirmed / fuel-devops / 8.0<br>- [<b>swarm-blocker</b>]"
      ],
      "text/plain": [
       "<IPython.core.display.HTML at 0x1112d3990>"
      ]
     },
     "metadata": {},
     "output_type": "display_data"
    },
    {
     "data": {
      "text/html": [
       "1487996 <a href=https://bugs.launchpad.net/bugs/1487996>Network verification passes successfully even if not enough IPs are allocated</a><br>- In Progress / romcheg / 8.0<br>- [customer-found release-notes <b>support</b> tricky]"
      ],
      "text/plain": [
       "<IPython.core.display.HTML at 0x1112d35d0>"
      ]
     },
     "metadata": {},
     "output_type": "display_data"
    },
    {
     "data": {
      "text/html": [
       "1493391 <a href=https://bugs.launchpad.net/bugs/1493391>Network verification fails with networking template when adding new node to operational cluster: 'Some untagged networks are assigned to the same physical interface.'</a><br>- In Progress / rmoe / 8.0<br>- [feature-network-template module-netcheck <b>swarm-blocker</b>]"
      ],
      "text/plain": [
       "<IPython.core.display.HTML at 0x10dbd6e10>"
      ]
     },
     "metadata": {},
     "output_type": "display_data"
    },
    {
     "data": {
      "text/html": [
       "1496000 <a href=https://bugs.launchpad.net/bugs/1496000>Volumes stays  in creating status  after node with keystone was shutdown</a><br>- Confirmed / dmitrymex / 8.0<br>- [cinder customer-found operations <b>support</b>]"
      ],
      "text/plain": [
       "<IPython.core.display.HTML at 0x11129ab10>"
      ]
     },
     "metadata": {},
     "output_type": "display_data"
    },
    {
     "data": {
      "text/html": [
       "1500730 <a href=https://bugs.launchpad.net/bugs/1500730>Deployment based on ubuntu bootrap failed on provisining  due to missed package oslo.config</a><br>- Confirmed / kozhukalov / 8.0<br>- [module-build regression-8.0 <b>swarm-blocker</b>]"
      ],
      "text/plain": [
       "<IPython.core.display.HTML at 0x1129d5350>"
      ]
     },
     "metadata": {},
     "output_type": "display_data"
    },
    {
     "data": {
      "text/html": [
       "1502195 <a href=https://bugs.launchpad.net/bugs/1502195>NVMe separator not considered during Ceph deployment</a><br>- In Progress / kgalanov / 8.0<br>- [customer-found <b>support</b>]"
      ],
      "text/plain": [
       "<IPython.core.display.HTML at 0x113c342d0>"
      ]
     },
     "metadata": {},
     "output_type": "display_data"
    },
    {
     "data": {
      "text/html": [
       "1502239 <a href=https://bugs.launchpad.net/bugs/1502239>[fuel-createmirror] Fails because of unmet dependencies for nova-scheduler</a><br>- Confirmed / fuel-build / 8.0<br>- [<b>swarm-blocker</b>]"
      ],
      "text/plain": [
       "<IPython.core.display.HTML at 0x1112e8510>"
      ]
     },
     "metadata": {},
     "output_type": "display_data"
    },
    {
     "data": {
      "text/html": [
       "1502936 <a href=https://bugs.launchpad.net/bugs/1502936>A lot of processes '/usr/bin/openstack' stuck on controllers during deployment, that leads to OOM</a><br>- Confirmed / mos-packaging / 8.0<br>- [<b>swarm-blocker</b>]"
      ],
      "text/plain": [
       "<IPython.core.display.HTML at 0x1112e8090>"
      ]
     },
     "metadata": {},
     "output_type": "display_data"
    },
    {
     "data": {
      "text/html": [
       "1503657 <a href=https://bugs.launchpad.net/bugs/1503657>Fuel should correctly process situations when net-provider is not defined at the config</a><br>- Confirmed / ikalnitsky / 8.0<br>- [<b>swarm-blocker</b>]"
      ],
      "text/plain": [
       "<IPython.core.display.HTML at 0x113c4df50>"
      ]
     },
     "metadata": {},
     "output_type": "display_data"
    },
    {
     "data": {
      "text/html": [
       "1504625 <a href=https://bugs.launchpad.net/bugs/1504625>Fuel plugin builder cannot create plugins for 8.0</a><br>- In Progress / vsharshov / 8.0<br>- [<b>swarm-blocker</b>]"
      ],
      "text/plain": [
       "<IPython.core.display.HTML at 0x113c4d490>"
      ]
     },
     "metadata": {},
     "output_type": "display_data"
    },
    {
     "data": {
      "text/html": [
       "1505210 <a href=https://bugs.launchpad.net/bugs/1505210>Upgrade failed due to an issue with availability of python-virtualenv package.</a><br>- In Progress / skulanov / 8.0<br>- [<b>swarm-blocker</b>]"
      ],
      "text/plain": [
       "<IPython.core.display.HTML at 0x1112e88d0>"
      ]
     },
     "metadata": {},
     "output_type": "display_data"
    },
    {
     "data": {
      "text/html": [
       "1420658 <a href=https://bugs.launchpad.net/bugs/1420658>Fuel can create several nodegroup with the same name for  the same environment.</a><br>- In Progress / atykhonov / 8.0<br>- [customer-found feature-multi-l2 feature-nodegroup low-hanging-fruit size-s <b>support</b>]"
      ],
      "text/plain": [
       "<IPython.core.display.HTML at 0x1112e8790>"
      ]
     },
     "metadata": {},
     "output_type": "display_data"
    },
    {
     "data": {
      "text/html": [
       "1439087 <a href=https://bugs.launchpad.net/bugs/1439087>We do not have documentation about enabling nova quota if cluster deployed without it.</a><br>- In Progress / evkonstantinov / 8.0<br>- [fuel-docs <b>support</b>]"
      ],
      "text/plain": [
       "<IPython.core.display.HTML at 0x11129ad90>"
      ]
     },
     "metadata": {},
     "output_type": "display_data"
    },
    {
     "data": {
      "text/html": [
       "1453662 <a href=https://bugs.launchpad.net/bugs/1453662>Check whether network is correct before deployment start</a><br>- Confirmed / raytrac3r / 8.0<br>- [customer-found neutron scale <b>support</b>]"
      ],
      "text/plain": [
       "<IPython.core.display.HTML at 0x113c34890>"
      ]
     },
     "metadata": {},
     "output_type": "display_data"
    },
    {
     "data": {
      "text/html": [
       "1498867 <a href=https://bugs.launchpad.net/bugs/1498867>Nova becomes slow after controller shutdown because 1 of memcached servers is unavailable</a><br>- Confirmed / mos-keystone / 8.0<br>- [<b>long-haul-testing</b> memcached nova]"
      ],
      "text/plain": [
       "<IPython.core.display.HTML at 0x1129d5c50>"
      ]
     },
     "metadata": {},
     "output_type": "display_data"
    },
    {
     "data": {
      "text/html": [
       "1502970 <a href=https://bugs.launchpad.net/bugs/1502970>Fuel start to redeploy nodes in Ready state</a><br>- Confirmed / fuel-library / 8.0<br>- [<b>support</b>]"
      ],
      "text/plain": [
       "<IPython.core.display.HTML at 0x10d484f10>"
      ]
     },
     "metadata": {},
     "output_type": "display_data"
    },
    {
     "data": {
      "text/html": [
       "1503303 <a href=https://bugs.launchpad.net/bugs/1503303>Fuel 7.0 different output for \"state\" column  \"fuel release\" into CLI and UI</a><br>- Confirmed / maciej-iai / 8.0<br>- [<b>support</b>]"
      ],
      "text/plain": [
       "<IPython.core.display.HTML at 0x10ed1d1d0>"
      ]
     },
     "metadata": {},
     "output_type": "display_data"
    }
   ],
   "source": [
    "for bt in prj.searchTasks(milestone=cur_ms, status=open_statuses, tags=important_tags):\n",
    "    if not set(bt.bug.tags).intersection(excluded_tags):\n",
    "        display_bug(bt.bug)"
   ]
  },
  {
   "cell_type": "markdown",
   "metadata": {},
   "source": [
    "## Critical/High bugs"
   ]
  },
  {
   "cell_type": "code",
   "execution_count": 34,
   "metadata": {
    "collapsed": false
   },
   "outputs": [
    {
     "data": {
      "text/html": [
       "1493372 <a href=https://bugs.launchpad.net/bugs/1493372>Command: 'openstack service create --format shell identity --name keystone --description OpenStack Identity Service' has been running for more than 10 seconds!</a><br>- Confirmed / Critical / vsaienko / 8.0<br>- []"
      ],
      "text/plain": [
       "<IPython.core.display.HTML at 0x113865f90>"
      ]
     },
     "metadata": {},
     "output_type": "display_data"
    },
    {
     "data": {
      "text/html": [
       "1499905 <a href=https://bugs.launchpad.net/bugs/1499905>Prepare for Fuel repositories migration from stackforge/ to openstack/ namespace on OpenStack Infra</a><br>- In Progress / Critical / afedorova / 8.0<br>- [fuel-ci]"
      ],
      "text/plain": [
       "<IPython.core.display.HTML at 0x10ffc5850>"
      ]
     },
     "metadata": {},
     "output_type": "display_data"
    },
    {
     "data": {
      "text/html": [
       "1501348 <a href=https://bugs.launchpad.net/bugs/1501348>[osci] Gates are broken for 6.0-updates branch for most of the components</a><br>- Confirmed / Critical / asilenkov / 8.0<br>- [osci]"
      ],
      "text/plain": [
       "<IPython.core.display.HTML at 0x1138bc150>"
      ]
     },
     "metadata": {},
     "output_type": "display_data"
    },
    {
     "data": {
      "text/html": [
       "1502242 <a href=https://bugs.launchpad.net/bugs/1502242>fuellib_review_pkgs_master_node does not use packages built as part of change</a><br>- Confirmed / Critical / fuel-library / 8.0<br>- []"
      ],
      "text/plain": [
       "<IPython.core.display.HTML at 0x1138bcfd0>"
      ]
     },
     "metadata": {},
     "output_type": "display_data"
    },
    {
     "data": {
      "text/html": [
       "1504094 <a href=https://bugs.launchpad.net/bugs/1504094>Openvswitch 2.3.2  RPM failed to compile in PRSTRK. </a><br>- Triaged / Critical / dburmistrov / 8.0<br>- []"
      ],
      "text/plain": [
       "<IPython.core.display.HTML at 0x1138d4650>"
      ]
     },
     "metadata": {},
     "output_type": "display_data"
    },
    {
     "data": {
      "text/html": [
       "1349702 <a href=https://bugs.launchpad.net/bugs/1349702>Use more descriptive names for networks in Neutron</a><br>- In Progress / High / raytrac3r / 8.0<br>- [qa-agree-7.0 qa-agree-8.0 tricky]"
      ],
      "text/plain": [
       "<IPython.core.display.HTML at 0x11396b210>"
      ]
     },
     "metadata": {},
     "output_type": "display_data"
    },
    {
     "data": {
      "text/html": [
       "1423511 <a href=https://bugs.launchpad.net/bugs/1423511>Change test group for ubuntu deployment on Fuel-CI</a><br>- Confirmed / High / afedorova / 8.0<br>- [fuel-ci non-release]"
      ],
      "text/plain": [
       "<IPython.core.display.HTML at 0x11396bb10>"
      ]
     },
     "metadata": {},
     "output_type": "display_data"
    },
    {
     "data": {
      "text/html": [
       "1447488 <a href=https://bugs.launchpad.net/bugs/1447488>[system-tests] Enhance the logrotate testcase</a><br>- Confirmed / High / fuel-qa / 8.0<br>- [logging non-release]"
      ],
      "text/plain": [
       "<IPython.core.display.HTML at 0x11396ba10>"
      ]
     },
     "metadata": {},
     "output_type": "display_data"
    },
    {
     "data": {
      "text/html": [
       "1447957 <a href=https://bugs.launchpad.net/bugs/1447957>[QA] Add test to check that S3 API works out of the box</a><br>- Confirmed / High / mos-qa / 8.0<br>- [non-release]"
      ],
      "text/plain": [
       "<IPython.core.display.HTML at 0x11396b410>"
      ]
     },
     "metadata": {},
     "output_type": "display_data"
    },
    {
     "data": {
      "text/html": [
       "1450100 <a href=https://bugs.launchpad.net/bugs/1450100>Disk configuration is not reset to default after changing Glance backend</a><br>- Confirmed / High / fuel-python / 8.0<br>- [module-nailgun release-notes tricky]"
      ],
      "text/plain": [
       "<IPython.core.display.HTML at 0x1138d4bd0>"
      ]
     },
     "metadata": {},
     "output_type": "display_data"
    },
    {
     "data": {
      "text/html": [
       "1450105 <a href=https://bugs.launchpad.net/bugs/1450105>Synchronization of mirrors is fail when short-time network issues had place during syncronization </a><br>- Triaged / High / mrasskazov / 8.0<br>- []"
      ],
      "text/plain": [
       "<IPython.core.display.HTML at 0x1138d4650>"
      ]
     },
     "metadata": {},
     "output_type": "display_data"
    },
    {
     "data": {
      "text/html": [
       "1455847 <a href=https://bugs.launchpad.net/bugs/1455847>fix fuel-library unit tests</a><br>- In Progress / High / adidenko / 8.0<br>- [tech-debt]"
      ],
      "text/plain": [
       "<IPython.core.display.HTML at 0x10fff4450>"
      ]
     },
     "metadata": {},
     "output_type": "display_data"
    },
    {
     "data": {
      "text/html": [
       "1466897 <a href=https://bugs.launchpad.net/bugs/1466897>trigger test for python-fuel-client on commit/merge to fuel-web</a><br>- Confirmed / High / fuel-ci / 8.0<br>- [fuel-ci]"
      ],
      "text/plain": [
       "<IPython.core.display.HTML at 0x113865f90>"
      ]
     },
     "metadata": {},
     "output_type": "display_data"
    },
    {
     "data": {
      "text/html": [
       "1469045 <a href=https://bugs.launchpad.net/bugs/1469045>Align requirements in all projects to global-requirements</a><br>- Triaged / High / fuel-python / 8.0<br>- [qa-agree-8.0 tech-debt]"
      ],
      "text/plain": [
       "<IPython.core.display.HTML at 0x113982890>"
      ]
     },
     "metadata": {},
     "output_type": "display_data"
    },
    {
     "data": {
      "text/html": [
       "1470408 <a href=https://bugs.launchpad.net/bugs/1470408>Wrong dependencies when building packages</a><br>- Triaged / High / asilenkov / 8.0<br>- []"
      ],
      "text/plain": [
       "<IPython.core.display.HTML at 0x113982210>"
      ]
     },
     "metadata": {},
     "output_type": "display_data"
    },
    {
     "data": {
      "text/html": [
       "1470823 <a href=https://bugs.launchpad.net/bugs/1470823>Network is suffering slow speed and unreachable</a><br>- Triaged / High / asilenkov / 8.0<br>- []"
      ],
      "text/plain": [
       "<IPython.core.display.HTML at 0x113985710>"
      ]
     },
     "metadata": {},
     "output_type": "display_data"
    },
    {
     "data": {
      "text/html": [
       "1470846 <a href=https://bugs.launchpad.net/bugs/1470846>Broken link in fuel-6.1/release-notes.html</a><br>- Confirmed / High / ipovolotskaya / 8.0<br>- [seo usability]"
      ],
      "text/plain": [
       "<IPython.core.display.HTML at 0x113985b50>"
      ]
     },
     "metadata": {},
     "output_type": "display_data"
    },
    {
     "data": {
      "text/html": [
       "1474791 <a href=https://bugs.launchpad.net/bugs/1474791>[Testrail]Current procedure of publishing test results to TestRail needs to be re-configured</a><br>- In Progress / High / ishamrai / 8.0<br>- [non-release testrail]"
      ],
      "text/plain": [
       "<IPython.core.display.HTML at 0x113996210>"
      ]
     },
     "metadata": {},
     "output_type": "display_data"
    },
    {
     "data": {
      "text/html": [
       "1476565 <a href=https://bugs.launchpad.net/bugs/1476565>JS-related entries in fuel-web:nailgun.spec and  fuel-main:requirements-rpm.txt should be autogenerated</a><br>- Confirmed / High / asilenkov / 8.0<br>- [non-release]"
      ],
      "text/plain": [
       "<IPython.core.display.HTML at 0x1139f1290>"
      ]
     },
     "metadata": {},
     "output_type": "display_data"
    },
    {
     "data": {
      "text/html": [
       "1477223 <a href=https://bugs.launchpad.net/bugs/1477223>Please add virtualenv cleanup for python jobs on master branches</a><br>- Confirmed / High / fuel-ci / 8.0<br>- []"
      ],
      "text/plain": [
       "<IPython.core.display.HTML at 0x113996610>"
      ]
     },
     "metadata": {},
     "output_type": "display_data"
    },
    {
     "data": {
      "text/html": [
       "1479403 <a href=https://bugs.launchpad.net/bugs/1479403>Documentation links on Fuel dashboard are wrong</a><br>- Confirmed / High / fuel-docs / 8.0<br>- [ui]"
      ],
      "text/plain": [
       "<IPython.core.display.HTML at 0x113996bd0>"
      ]
     },
     "metadata": {},
     "output_type": "display_data"
    },
    {
     "data": {
      "text/html": [
       "1480224 <a href=https://bugs.launchpad.net/bugs/1480224>Add tests for python-fuelclient into BVT tests</a><br>- Confirmed / High / fuel-qa / 8.0<br>- [fuel-qa non-release]"
      ],
      "text/plain": [
       "<IPython.core.display.HTML at 0x113982b90>"
      ]
     },
     "metadata": {},
     "output_type": "display_data"
    },
    {
     "data": {
      "text/html": [
       "1480294 <a href=https://bugs.launchpad.net/bugs/1480294>[cisco-aci-plugin] the network created during connectivity check test is not removed after test</a><br>- Confirmed / High / fuel-plugins-bugs / 8.0<br>- [non-release]"
      ],
      "text/plain": [
       "<IPython.core.display.HTML at 0x112877f90>"
      ]
     },
     "metadata": {},
     "output_type": "display_data"
    },
    {
     "data": {
      "text/html": [
       "1481299 <a href=https://bugs.launchpad.net/bugs/1481299>[devops] zabbix check when there is <7GB free memory on the slave</a><br>- Triaged / High / fuel-devops / 8.0<br>- [fuel-devops]"
      ],
      "text/plain": [
       "<IPython.core.display.HTML at 0x113865810>"
      ]
     },
     "metadata": {},
     "output_type": "display_data"
    },
    {
     "data": {
      "text/html": [
       "1482117 <a href=https://bugs.launchpad.net/bugs/1482117>Fuel migrate doesn't work</a><br>- Triaged / High / fuel-ci / 8.0<br>- [fuel-ci non-release]"
      ],
      "text/plain": [
       "<IPython.core.display.HTML at 0x10ffc5b90>"
      ]
     },
     "metadata": {},
     "output_type": "display_data"
    },
    {
     "data": {
      "text/html": [
       "1483286 <a href=https://bugs.launchpad.net/bugs/1483286>Update and purge YAML file sample in the noop tests</a><br>- Confirmed / High / idv1985 / 8.0<br>- [tech-debt]"
      ],
      "text/plain": [
       "<IPython.core.display.HTML at 0x1138d43d0>"
      ]
     },
     "metadata": {},
     "output_type": "display_data"
    },
    {
     "data": {
      "text/html": [
       "1483803 <a href=https://bugs.launchpad.net/bugs/1483803>Add ability to download files to 7.0.custom_system_test</a><br>- Confirmed / High / fuel-ci / 8.0<br>- [fuel-ci non-release]"
      ],
      "text/plain": [
       "<IPython.core.display.HTML at 0x1138d4210>"
      ]
     },
     "metadata": {},
     "output_type": "display_data"
    },
    {
     "data": {
      "text/html": [
       "1484008 <a href=https://bugs.launchpad.net/bugs/1484008>Address space intersection error after creating a node group</a><br>- Confirmed / High / fuel-python / 8.0<br>- [feature-nodegroup known-issue module-nailgun release-notes]"
      ],
      "text/plain": [
       "<IPython.core.display.HTML at 0x11396b650>"
      ]
     },
     "metadata": {},
     "output_type": "display_data"
    },
    {
     "data": {
      "text/html": [
       "1484162 <a href=https://bugs.launchpad.net/bugs/1484162>package upstream puppet modules as build dependencies</a><br>- Triaged / High / mos-puppet / 8.0<br>- []"
      ],
      "text/plain": [
       "<IPython.core.display.HTML at 0x1139f1610>"
      ]
     },
     "metadata": {},
     "output_type": "display_data"
    },
    {
     "data": {
      "text/html": [
       "1484554 <a href=https://bugs.launchpad.net/bugs/1484554>Documentation for configuring networks using Fuel CLI should be supplemented</a><br>- Confirmed / High / fuel-docs / 8.0<br>- [feature-advanced-networking feature-network-template]"
      ],
      "text/plain": [
       "<IPython.core.display.HTML at 0x1139f1310>"
      ]
     },
     "metadata": {},
     "output_type": "display_data"
    },
    {
     "data": {
      "text/html": [
       "1484604 <a href=https://bugs.launchpad.net/bugs/1484604>Verify test groups in repositories</a><br>- Confirmed / High / fuel-ci / 8.0<br>- [fuel-ci non-release]"
      ],
      "text/plain": [
       "<IPython.core.display.HTML at 0x1138de4d0>"
      ]
     },
     "metadata": {},
     "output_type": "display_data"
    },
    {
     "data": {
      "text/html": [
       "1484824 <a href=https://bugs.launchpad.net/bugs/1484824>    Run cinder-api as active/standby</a><br>- Confirmed / High / fuel-docs / 8.0<br>- [fuel-library]"
      ],
      "text/plain": [
       "<IPython.core.display.HTML at 0x1138defd0>"
      ]
     },
     "metadata": {},
     "output_type": "display_data"
    },
    {
     "data": {
      "text/html": [
       "1484973 <a href=https://bugs.launchpad.net/bugs/1484973>Change assigned IP addresses representation from string</a><br>- Confirmed / High / smurashov / 8.0<br>- [module-nailgun tech-debt]"
      ],
      "text/plain": [
       "<IPython.core.display.HTML at 0x1138dee90>"
      ]
     },
     "metadata": {},
     "output_type": "display_data"
    },
    {
     "data": {
      "text/html": [
       "1486586 <a href=https://bugs.launchpad.net/bugs/1486586>    Tox to manage all test environments on its own</a><br>- Confirmed / High / fuel-docs / 8.0<br>- [python-fuelclient]"
      ],
      "text/plain": [
       "<IPython.core.display.HTML at 0x1139f1250>"
      ]
     },
     "metadata": {},
     "output_type": "display_data"
    },
    {
     "data": {
      "text/html": [
       "1486681 <a href=https://bugs.launchpad.net/bugs/1486681>[OSTF] Sahara test for launching a simple Vanilla2 cluster error</a><br>- Confirmed / High / mos-sahara / 8.0<br>- [ostf sahara]"
      ],
      "text/plain": [
       "<IPython.core.display.HTML at 0x11396be10>"
      ]
     },
     "metadata": {},
     "output_type": "display_data"
    },
    {
     "data": {
      "text/html": [
       "1486992 <a href=https://bugs.launchpad.net/bugs/1486992>Put perestroika builder jobs in non-voting mode for stackforge/fuel packages</a><br>- Confirmed / High / fuel-ci / 8.0<br>- []"
      ],
      "text/plain": [
       "<IPython.core.display.HTML at 0x11396bb50>"
      ]
     },
     "metadata": {},
     "output_type": "display_data"
    },
    {
     "data": {
      "text/html": [
       "1487397 <a href=https://bugs.launchpad.net/bugs/1487397>Network verification stopped responding.</a><br>- Confirmed / High / fuel-python / 8.0<br>- [tricky]"
      ],
      "text/plain": [
       "<IPython.core.display.HTML at 0x1138d4d90>"
      ]
     },
     "metadata": {},
     "output_type": "display_data"
    },
    {
     "data": {
      "text/html": [
       "1487482 <a href=https://bugs.launchpad.net/bugs/1487482>[VIPs] VIPs names should be unique</a><br>- In Progress / High / aroma-x / 8.0<br>- [feature-validation module-nailgun module-networks]"
      ],
      "text/plain": [
       "<IPython.core.display.HTML at 0x10ffc57d0>"
      ]
     },
     "metadata": {},
     "output_type": "display_data"
    },
    {
     "data": {
      "text/html": [
       "1488550 <a href=https://bugs.launchpad.net/bugs/1488550>django_openstack_auth needs to be updated</a><br>- In Progress / High / vsakharov / 8.0<br>- []"
      ],
      "text/plain": [
       "<IPython.core.display.HTML at 0x113ce7390>"
      ]
     },
     "metadata": {},
     "output_type": "display_data"
    },
    {
     "data": {
      "text/html": [
       "1489152 <a href=https://bugs.launchpad.net/bugs/1489152>Remove Mirantis Style Guide from the fuel-docs repository</a><br>- In Progress / High / skarslioglu / 8.0<br>- [non-release]"
      ],
      "text/plain": [
       "<IPython.core.display.HTML at 0x10fff4350>"
      ]
     },
     "metadata": {},
     "output_type": "display_data"
    },
    {
     "data": {
      "text/html": [
       "1489862 <a href=https://bugs.launchpad.net/bugs/1489862>run CI for mos-requirements repository</a><br>- Triaged / High / fuel-ci / 8.0<br>- [fuel-ci]"
      ],
      "text/plain": [
       "<IPython.core.display.HTML at 0x1139822d0>"
      ]
     },
     "metadata": {},
     "output_type": "display_data"
    },
    {
     "data": {
      "text/html": [
       "1490305 <a href=https://bugs.launchpad.net/bugs/1490305>vSphere cluster can't be added when new compute-vmware node was added to environment</a><br>- Confirmed / High / fuel-partner-core / 8.0<br>- [vcenter]"
      ],
      "text/plain": [
       "<IPython.core.display.HTML at 0x113982dd0>"
      ]
     },
     "metadata": {},
     "output_type": "display_data"
    },
    {
     "data": {
      "text/html": [
       "1490536 <a href=https://bugs.launchpad.net/bugs/1490536>Network verification hangs with network template</a><br>- Confirmed / High / fuel-python / 8.0<br>- [feature-network-template module-netcheck]"
      ],
      "text/plain": [
       "<IPython.core.display.HTML at 0x113996a90>"
      ]
     },
     "metadata": {},
     "output_type": "display_data"
    },
    {
     "data": {
      "text/html": [
       "1490915 <a href=https://bugs.launchpad.net/bugs/1490915>[QA][TestImpact] Cover case with sevaral public floating ip ranges</a><br>- Confirmed / High / mos-qa / 8.0<br>- [non-release]"
      ],
      "text/plain": [
       "<IPython.core.display.HTML at 0x113996fd0>"
      ]
     },
     "metadata": {},
     "output_type": "display_data"
    },
    {
     "data": {
      "text/html": [
       "1490943 <a href=https://bugs.launchpad.net/bugs/1490943>Backup for CI jenkins servers</a><br>- In Progress / High / pbrzozowski / 8.0<br>- [fuel-ci]"
      ],
      "text/plain": [
       "<IPython.core.display.HTML at 0x113996bd0>"
      ]
     },
     "metadata": {},
     "output_type": "display_data"
    },
    {
     "data": {
      "text/html": [
       "1491327 <a href=https://bugs.launchpad.net/bugs/1491327>    Change protocol and hostname for novncproxy</a><br>- Confirmed / High / fuel-docs / 8.0<br>- [fuel-library]"
      ],
      "text/plain": [
       "<IPython.core.display.HTML at 0x113982650>"
      ]
     },
     "metadata": {},
     "output_type": "display_data"
    },
    {
     "data": {
      "text/html": [
       "1491820 <a href=https://bugs.launchpad.net/bugs/1491820>[devops] VMs are not destroyed when tests job is terminated by timeout </a><br>- Confirmed / High / fuel-ci / 8.0<br>- []"
      ],
      "text/plain": [
       "<IPython.core.display.HTML at 0x113ce7d10>"
      ]
     },
     "metadata": {},
     "output_type": "display_data"
    },
    {
     "data": {
      "text/html": [
       "1492199 <a href=https://bugs.launchpad.net/bugs/1492199> fuel-agent failed to apply new partitioning scheme if upgrade from 5.1 to 7.0 happened and partition preservation was enabled</a><br>- Confirmed / High / fuel-octane / 8.0<br>- [feature-image-based feature-upgrade tricky]"
      ],
      "text/plain": [
       "<IPython.core.display.HTML at 0x10fff43d0>"
      ]
     },
     "metadata": {},
     "output_type": "display_data"
    },
    {
     "data": {
      "text/html": [
       "1492744 <a href=https://bugs.launchpad.net/bugs/1492744>Network templates are ignored by cluster_upgrade extension</a><br>- Confirmed / High / fuel-octane / 8.0<br>- [feature-advanced-networking feature-upgrade l23network]"
      ],
      "text/plain": [
       "<IPython.core.display.HTML at 0x10ffc5fd0>"
      ]
     },
     "metadata": {},
     "output_type": "display_data"
    },
    {
     "data": {
      "text/html": [
       "1493297 <a href=https://bugs.launchpad.net/bugs/1493297>After rabbit not master node failover instance in error state with message in compute.log: NeutronClientException: Authentication required</a><br>- Confirmed / High / bbobrov / 8.0<br>- []"
      ],
      "text/plain": [
       "<IPython.core.display.HTML at 0x1138d4c50>"
      ]
     },
     "metadata": {},
     "output_type": "display_data"
    },
    {
     "data": {
      "text/html": [
       "1493867 <a href=https://bugs.launchpad.net/bugs/1493867>[packaging-ci.infra] [ci-status.vm] Services are not available</a><br>- In Progress / High / sotpuschennikov / 8.0<br>- [ci-status.vm non-release packaging-ci.infra]"
      ],
      "text/plain": [
       "<IPython.core.display.HTML at 0x1138d4750>"
      ]
     },
     "metadata": {},
     "output_type": "display_data"
    },
    {
     "data": {
      "text/html": [
       "1494223 <a href=https://bugs.launchpad.net/bugs/1494223>Hard-coded interface names (ethX) is using in fuel-main code</a><br>- In Progress / High / asyriy / 8.0<br>- [module-fuelmenu module-master-node-installation module-networks mos-linux]"
      ],
      "text/plain": [
       "<IPython.core.display.HTML at 0x11396b450>"
      ]
     },
     "metadata": {},
     "output_type": "display_data"
    },
    {
     "data": {
      "text/html": [
       "1494274 <a href=https://bugs.launchpad.net/bugs/1494274>[infra] Sometimes tests fail because slave node is overloaded, need to increase CPU number</a><br>- Confirmed / High / fuel-ci / 8.0<br>- [non-release]"
      ],
      "text/plain": [
       "<IPython.core.display.HTML at 0x1139f14d0>"
      ]
     },
     "metadata": {},
     "output_type": "display_data"
    },
    {
     "data": {
      "text/html": [
       "1494280 <a href=https://bugs.launchpad.net/bugs/1494280>describe publishing release artifacts</a><br>- Confirmed / High / fuel-devops / 8.0<br>- [fuel-devops non-release]"
      ],
      "text/plain": [
       "<IPython.core.display.HTML at 0x1138de310>"
      ]
     },
     "metadata": {},
     "output_type": "display_data"
    },
    {
     "data": {
      "text/html": [
       "1494284 <a href=https://bugs.launchpad.net/bugs/1494284>Some packages must be updated in order to achieve py3 compatibility</a><br>- Triaged / High / amogylchenko / 8.0<br>- [module-build module-client module-nailgun]"
      ],
      "text/plain": [
       "<IPython.core.display.HTML at 0x1138deed0>"
      ]
     },
     "metadata": {},
     "output_type": "display_data"
    },
    {
     "data": {
      "text/html": [
       "1494507 <a href=https://bugs.launchpad.net/bugs/1494507>New controller can not be added to the ready cluster</a><br>- In Progress / High / gelbuhos / 8.0<br>- [feature-upgrade module-octane]"
      ],
      "text/plain": [
       "<IPython.core.display.HTML at 0x1138ded50>"
      ]
     },
     "metadata": {},
     "output_type": "display_data"
    },
    {
     "data": {
      "text/html": [
       "1494684 <a href=https://bugs.launchpad.net/bugs/1494684>/var/log/upstart is masked by the mapping of /dev/mapper/logs-log on controllers</a><br>- Confirmed / High / kozhukalov / 8.0<br>- []"
      ],
      "text/plain": [
       "<IPython.core.display.HTML at 0x1139f1b50>"
      ]
     },
     "metadata": {},
     "output_type": "display_data"
    },
    {
     "data": {
      "text/html": [
       "1494779 <a href=https://bugs.launchpad.net/bugs/1494779>Setting passwords for openstack services in HEX string format breaks deployment: 'err: 12380245 is not a string. It looks to be a Fixnum'</a><br>- Confirmed / High / fzhadaev / 8.0<br>- [hiera module-astute release-notes ruby]"
      ],
      "text/plain": [
       "<IPython.core.display.HTML at 0x1139f1cd0>"
      ]
     },
     "metadata": {},
     "output_type": "display_data"
    },
    {
     "data": {
      "text/html": [
       "1495699 <a href=https://bugs.launchpad.net/bugs/1495699>[Murano] Time limit exceeded while waiting for Check that needed ports are opened to finish</a><br>- Triaged / High / vryzhenkin / 8.0<br>- [ostf]"
      ],
      "text/plain": [
       "<IPython.core.display.HTML at 0x11396bdd0>"
      ]
     },
     "metadata": {},
     "output_type": "display_data"
    },
    {
     "data": {
      "text/html": [
       "1495925 <a href=https://bugs.launchpad.net/bugs/1495925>Horizon doesn't show down state for vCenter</a><br>- Confirmed / High / fuel-partner-engineering / 8.0<br>- [vcenter]"
      ],
      "text/plain": [
       "<IPython.core.display.HTML at 0x1138d4590>"
      ]
     },
     "metadata": {},
     "output_type": "display_data"
    },
    {
     "data": {
      "text/html": [
       "1495987 <a href=https://bugs.launchpad.net/bugs/1495987>After cluster cloning management network rages are different </a><br>- Confirmed / High / akscram / 8.0<br>- []"
      ],
      "text/plain": [
       "<IPython.core.display.HTML at 0x113d15b90>"
      ]
     },
     "metadata": {},
     "output_type": "display_data"
    },
    {
     "data": {
      "text/html": [
       "1496009 <a href=https://bugs.launchpad.net/bugs/1496009>Cinder-vmware daemon does not restart if it can't connect to vCenter</a><br>- Confirmed / High / fuel-partner-engineering / 8.0<br>- [cinder-vmware vcenter]"
      ],
      "text/plain": [
       "<IPython.core.display.HTML at 0x112877290>"
      ]
     },
     "metadata": {},
     "output_type": "display_data"
    },
    {
     "data": {
      "text/html": [
       "1496072 <a href=https://bugs.launchpad.net/bugs/1496072>[Build] Correct CI-checks to verify projects.yaml</a><br>- Triaged / High / fuel-build / 8.0<br>- []"
      ],
      "text/plain": [
       "<IPython.core.display.HTML at 0x113865990>"
      ]
     },
     "metadata": {},
     "output_type": "display_data"
    },
    {
     "data": {
      "text/html": [
       "1496279 <a href=https://bugs.launchpad.net/bugs/1496279>[nailgun] Bonding conf is inconsistent after cloud ops</a><br>- In Progress / High / mpolenchuk / 8.0<br>- []"
      ],
      "text/plain": [
       "<IPython.core.display.HTML at 0x10fff4290>"
      ]
     },
     "metadata": {},
     "output_type": "display_data"
    },
    {
     "data": {
      "text/html": [
       "1496411 <a href=https://bugs.launchpad.net/bugs/1496411>Waiting timeout was reached but it value was from previous deploy</a><br>- Confirmed / High / vsharshov / 8.0<br>- [module-astute]"
      ],
      "text/plain": [
       "<IPython.core.display.HTML at 0x113982150>"
      ]
     },
     "metadata": {},
     "output_type": "display_data"
    },
    {
     "data": {
      "text/html": [
       "1496516 <a href=https://bugs.launchpad.net/bugs/1496516>Too few ceph pgs on rally tests</a><br>- Confirmed / High / mos-ceph / 8.0<br>- [scale]"
      ],
      "text/plain": [
       "<IPython.core.display.HTML at 0x113996450>"
      ]
     },
     "metadata": {},
     "output_type": "display_data"
    },
    {
     "data": {
      "text/html": [
       "1496521 <a href=https://bugs.launchpad.net/bugs/1496521>[vcenter] deleting of compute-vmware node has failed with an error</a><br>- Confirmed / High / fuel-partner-engineering / 8.0<br>- [vcenter]"
      ],
      "text/plain": [
       "<IPython.core.display.HTML at 0x1139966d0>"
      ]
     },
     "metadata": {},
     "output_type": "display_data"
    },
    {
     "data": {
      "text/html": [
       "1496622 <a href=https://bugs.launchpad.net/bugs/1496622>Test against Ubuntu proposed build is broken</a><br>- In Progress / High / vparakhin / 8.0<br>- []"
      ],
      "text/plain": [
       "<IPython.core.display.HTML at 0x113996d10>"
      ]
     },
     "metadata": {},
     "output_type": "display_data"
    },
    {
     "data": {
      "text/html": [
       "1496766 <a href=https://bugs.launchpad.net/bugs/1496766>Environment with vCenter only can't be created</a><br>- Confirmed / High / fuel-partner-engineering / 8.0<br>- [vcenter]"
      ],
      "text/plain": [
       "<IPython.core.display.HTML at 0x113982410>"
      ]
     },
     "metadata": {},
     "output_type": "display_data"
    },
    {
     "data": {
      "text/html": [
       "1496945 <a href=https://bugs.launchpad.net/bugs/1496945>create jjb-lint job to verify JJB configs</a><br>- Confirmed / High / fuel-ci / 8.0<br>- [fuel-ci]"
      ],
      "text/plain": [
       "<IPython.core.display.HTML at 0x113982390>"
      ]
     },
     "metadata": {},
     "output_type": "display_data"
    },
    {
     "data": {
      "text/html": [
       "1497195 <a href=https://bugs.launchpad.net/bugs/1497195>Security vulnerability in Fuel : TLS Protocol Initialization Vector Implementation Information Disclosure Vulnerability (BEAST)</a><br>- In Progress / High / kgalanov / 8.0<br>- [low-hanging-fruit]"
      ],
      "text/plain": [
       "<IPython.core.display.HTML at 0x113ce7510>"
      ]
     },
     "metadata": {},
     "output_type": "display_data"
    },
    {
     "data": {
      "text/html": [
       "1497226 <a href=https://bugs.launchpad.net/bugs/1497226>Build debian package from atlassian-jwt-auth and pyzabbix eggs</a><br>- In Progress / High / sotpuschennikov / 8.0<br>- []"
      ],
      "text/plain": [
       "<IPython.core.display.HTML at 0x10fff40d0>"
      ]
     },
     "metadata": {},
     "output_type": "display_data"
    },
    {
     "data": {
      "text/html": [
       "1497227 <a href=https://bugs.launchpad.net/bugs/1497227>(/Stage[main]/Sahara_templates::Create_templates/Sahara_node_group_template[cdh-5-manager]) Could not evaluate: Oops - not sure what happened</a><br>- Confirmed / High / mos-sahara / 8.0<br>- []"
      ],
      "text/plain": [
       "<IPython.core.display.HTML at 0x10ffc5ad0>"
      ]
     },
     "metadata": {},
     "output_type": "display_data"
    },
    {
     "data": {
      "text/html": [
       "1497467 <a href=https://bugs.launchpad.net/bugs/1497467>Horizon URL should use FQDN when HTTPS enabled</a><br>- In Progress / High / astepanchuk / 8.0<br>- []"
      ],
      "text/plain": [
       "<IPython.core.display.HTML at 0x1138d4950>"
      ]
     },
     "metadata": {},
     "output_type": "display_data"
    },
    {
     "data": {
      "text/html": [
       "1498015 <a href=https://bugs.launchpad.net/bugs/1498015>We have a weird behavior of the lpassigner.py script</a><br>- Triaged / High / fuel-devops / 8.0<br>- []"
      ],
      "text/plain": [
       "<IPython.core.display.HTML at 0x11396bd90>"
      ]
     },
     "metadata": {},
     "output_type": "display_data"
    },
    {
     "data": {
      "text/html": [
       "1498088 <a href=https://bugs.launchpad.net/bugs/1498088>Some manifests contain hard-coded bridge names</a><br>- In Progress / High / rmoe / 8.0<br>- [library]"
      ],
      "text/plain": [
       "<IPython.core.display.HTML at 0x11396bf90>"
      ]
     },
     "metadata": {},
     "output_type": "display_data"
    },
    {
     "data": {
      "text/html": [
       "1498160 <a href=https://bugs.launchpad.net/bugs/1498160>[TestImpact][system-tests] Test change pacemaker parameter does not break RabbitMQ</a><br>- Confirmed / High / fuel-qa / 8.0<br>- []"
      ],
      "text/plain": [
       "<IPython.core.display.HTML at 0x1139f1a50>"
      ]
     },
     "metadata": {},
     "output_type": "display_data"
    },
    {
     "data": {
      "text/html": [
       "1498365 <a href=https://bugs.launchpad.net/bugs/1498365>nailgun perfomance test fails due to ClusterOperationsLoadTest.test_put_deploy_selected_nodes taking too long</a><br>- In Progress / High / akislitsky / 8.0<br>- [module-nailgun tech-debt]"
      ],
      "text/plain": [
       "<IPython.core.display.HTML at 0x1138de190>"
      ]
     },
     "metadata": {},
     "output_type": "display_data"
    },
    {
     "data": {
      "text/html": [
       "1499007 <a href=https://bugs.launchpad.net/bugs/1499007>nailgun-agent reports wrong _master_ip_and_mac on multirack envs</a><br>- In Progress / High / xenolog / 8.0<br>- [feature-nodegroup module-nailgun-agent]"
      ],
      "text/plain": [
       "<IPython.core.display.HTML at 0x1138dea10>"
      ]
     },
     "metadata": {},
     "output_type": "display_data"
    },
    {
     "data": {
      "text/html": [
       "1499291 <a href=https://bugs.launchpad.net/bugs/1499291>Nailgun returns 500 if plugin's network roles has intersection by name or id</a><br>- Confirmed / High / fuel-python / 8.0<br>- [module-nailgun]"
      ],
      "text/plain": [
       "<IPython.core.display.HTML at 0x1138deb10>"
      ]
     },
     "metadata": {},
     "output_type": "display_data"
    },
    {
     "data": {
      "text/html": [
       "1499649 <a href=https://bugs.launchpad.net/bugs/1499649>ARP responder not enabled on Compute nodes with DVR</a><br>- Triaged / High / skolekonov / 8.0<br>- []"
      ],
      "text/plain": [
       "<IPython.core.display.HTML at 0x1139f12d0>"
      ]
     },
     "metadata": {},
     "output_type": "display_data"
    },
    {
     "data": {
      "text/html": [
       "1499652 <a href=https://bugs.launchpad.net/bugs/1499652>Update the ISO that is used for fuel-library deployment tests</a><br>- In Progress / High / afedorova / 8.0<br>- []"
      ],
      "text/plain": [
       "<IPython.core.display.HTML at 0x11396b590>"
      ]
     },
     "metadata": {},
     "output_type": "display_data"
    },
    {
     "ename": "KeyboardInterrupt",
     "evalue": "",
     "output_type": "error",
     "traceback": [
      "\u001b[0;31m---------------------------------------------------------------------------\u001b[0m\n\u001b[0;31mKeyboardInterrupt\u001b[0m                         Traceback (most recent call last)",
      "\u001b[0;32m<ipython-input-34-2be762065ef5>\u001b[0m in \u001b[0;36m<module>\u001b[0;34m()\u001b[0m\n\u001b[1;32m      1\u001b[0m \u001b[0msearch_tags\u001b[0m \u001b[0;34m=\u001b[0m \u001b[0mmap\u001b[0m\u001b[0;34m(\u001b[0m\u001b[0;32mlambda\u001b[0m \u001b[0mx\u001b[0m\u001b[0;34m:\u001b[0m \u001b[0;34m\"-\"\u001b[0m \u001b[0;34m+\u001b[0m \u001b[0mx\u001b[0m\u001b[0;34m,\u001b[0m \u001b[0mimportant_tags\u001b[0m \u001b[0;34m+\u001b[0m \u001b[0mexcluded_tags\u001b[0m\u001b[0;34m)\u001b[0m\u001b[0;34m\u001b[0m\u001b[0m\n\u001b[1;32m      2\u001b[0m \u001b[0;32mfor\u001b[0m \u001b[0mbt\u001b[0m \u001b[0;32min\u001b[0m \u001b[0mprj\u001b[0m\u001b[0;34m.\u001b[0m\u001b[0msearchTasks\u001b[0m\u001b[0;34m(\u001b[0m\u001b[0mmilestone\u001b[0m\u001b[0;34m=\u001b[0m\u001b[0mcur_ms\u001b[0m\u001b[0;34m,\u001b[0m \u001b[0mstatus\u001b[0m\u001b[0;34m=\u001b[0m\u001b[0mopen_statuses\u001b[0m\u001b[0;34m,\u001b[0m \u001b[0mtags\u001b[0m\u001b[0;34m=\u001b[0m\u001b[0msearch_tags\u001b[0m\u001b[0;34m,\u001b[0m \u001b[0mtags_combinator\u001b[0m\u001b[0;34m=\u001b[0m\u001b[0;34m'All'\u001b[0m\u001b[0;34m,\u001b[0m \u001b[0mimportance\u001b[0m\u001b[0;34m=\u001b[0m\u001b[0mhigh_priority\u001b[0m\u001b[0;34m)\u001b[0m\u001b[0;34m:\u001b[0m\u001b[0;34m\u001b[0m\u001b[0m\n\u001b[0;32m----> 3\u001b[0;31m     \u001b[0mdisplay_bug\u001b[0m\u001b[0;34m(\u001b[0m\u001b[0mbt\u001b[0m\u001b[0;34m.\u001b[0m\u001b[0mbug\u001b[0m\u001b[0;34m)\u001b[0m\u001b[0;34m\u001b[0m\u001b[0m\n\u001b[0m",
      "\u001b[0;32m<ipython-input-33-badbcc88f503>\u001b[0m in \u001b[0;36mdisplay_bug\u001b[0;34m(bug)\u001b[0m\n\u001b[1;32m     25\u001b[0m         \u001b[0mid\u001b[0m\u001b[0;34m=\u001b[0m\u001b[0mbug\u001b[0m\u001b[0;34m.\u001b[0m\u001b[0mid\u001b[0m\u001b[0;34m,\u001b[0m \u001b[0mlink\u001b[0m\u001b[0;34m=\u001b[0m\u001b[0mbug\u001b[0m\u001b[0;34m.\u001b[0m\u001b[0mweb_link\u001b[0m\u001b[0;34m,\u001b[0m \u001b[0mtitle\u001b[0m\u001b[0;34m=\u001b[0m\u001b[0mbug\u001b[0m\u001b[0;34m.\u001b[0m\u001b[0mtitle\u001b[0m\u001b[0;34m,\u001b[0m \u001b[0mstatus\u001b[0m\u001b[0;34m=\u001b[0m\u001b[0mbug\u001b[0m\u001b[0;34m.\u001b[0m\u001b[0mbug_tasks\u001b[0m\u001b[0;34m[\u001b[0m\u001b[0;36m0\u001b[0m\u001b[0;34m]\u001b[0m\u001b[0;34m.\u001b[0m\u001b[0mstatus\u001b[0m\u001b[0;34m,\u001b[0m\u001b[0;34m\u001b[0m\u001b[0m\n\u001b[1;32m     26\u001b[0m         \u001b[0massignee\u001b[0m\u001b[0;34m=\u001b[0m\u001b[0mbug\u001b[0m\u001b[0;34m.\u001b[0m\u001b[0mbug_tasks\u001b[0m\u001b[0;34m[\u001b[0m\u001b[0;36m0\u001b[0m\u001b[0;34m]\u001b[0m\u001b[0;34m.\u001b[0m\u001b[0massignee\u001b[0m\u001b[0;34m.\u001b[0m\u001b[0mname\u001b[0m\u001b[0;34m,\u001b[0m \u001b[0mms\u001b[0m\u001b[0;34m=\u001b[0m\u001b[0mbug\u001b[0m\u001b[0;34m.\u001b[0m\u001b[0mbug_tasks\u001b[0m\u001b[0;34m[\u001b[0m\u001b[0;36m0\u001b[0m\u001b[0;34m]\u001b[0m\u001b[0;34m.\u001b[0m\u001b[0mmilestone\u001b[0m\u001b[0;34m.\u001b[0m\u001b[0mname\u001b[0m\u001b[0;34m,\u001b[0m\u001b[0;34m\u001b[0m\u001b[0m\n\u001b[0;32m---> 27\u001b[0;31m         \u001b[0mpriority\u001b[0m\u001b[0;34m=\u001b[0m\u001b[0mbug\u001b[0m\u001b[0;34m.\u001b[0m\u001b[0mbug_tasks\u001b[0m\u001b[0;34m[\u001b[0m\u001b[0;36m0\u001b[0m\u001b[0;34m]\u001b[0m\u001b[0;34m.\u001b[0m\u001b[0mimportance\u001b[0m\u001b[0;34m,\u001b[0m\u001b[0;34m\u001b[0m\u001b[0m\n\u001b[0m\u001b[1;32m     28\u001b[0m         \u001b[0mtags\u001b[0m\u001b[0;34m=\u001b[0m\u001b[0;34m' '\u001b[0m\u001b[0;34m.\u001b[0m\u001b[0mjoin\u001b[0m\u001b[0;34m(\u001b[0m\u001b[0mmap\u001b[0m\u001b[0;34m(\u001b[0m\u001b[0mhtml_tag\u001b[0m\u001b[0;34m,\u001b[0m \u001b[0mbug\u001b[0m\u001b[0;34m.\u001b[0m\u001b[0mtags\u001b[0m\u001b[0;34m)\u001b[0m\u001b[0;34m)\u001b[0m\u001b[0;34m\u001b[0m\u001b[0m\n\u001b[1;32m     29\u001b[0m     )))\n",
      "\u001b[0;32m/Users/dima/.venv/lib/python2.7/site-packages/lazr/restfulclient/resource.pyc\u001b[0m in \u001b[0;36m__getitem__\u001b[0;34m(self, key)\u001b[0m\n\u001b[1;32m    817\u001b[0m         \u001b[0;32melse\u001b[0m\u001b[0;34m:\u001b[0m\u001b[0;34m\u001b[0m\u001b[0m\n\u001b[1;32m    818\u001b[0m             \u001b[0;31m# Look up a single item by its position in the list.\u001b[0m\u001b[0;34m\u001b[0m\u001b[0;34m\u001b[0m\u001b[0m\n\u001b[0;32m--> 819\u001b[0;31m             \u001b[0mfound_slice\u001b[0m \u001b[0;34m=\u001b[0m \u001b[0mself\u001b[0m\u001b[0;34m.\u001b[0m\u001b[0m_get_slice\u001b[0m\u001b[0;34m(\u001b[0m\u001b[0mslice\u001b[0m\u001b[0;34m(\u001b[0m\u001b[0mkey\u001b[0m\u001b[0;34m,\u001b[0m \u001b[0mkey\u001b[0m \u001b[0;34m+\u001b[0m \u001b[0;36m1\u001b[0m\u001b[0;34m)\u001b[0m\u001b[0;34m)\u001b[0m\u001b[0;34m\u001b[0m\u001b[0m\n\u001b[0m\u001b[1;32m    820\u001b[0m             \u001b[0;32mif\u001b[0m \u001b[0mlen\u001b[0m\u001b[0;34m(\u001b[0m\u001b[0mfound_slice\u001b[0m\u001b[0;34m)\u001b[0m \u001b[0;34m!=\u001b[0m \u001b[0;36m1\u001b[0m\u001b[0;34m:\u001b[0m\u001b[0;34m\u001b[0m\u001b[0m\n\u001b[1;32m    821\u001b[0m                 \u001b[0;32mraise\u001b[0m \u001b[0mIndexError\u001b[0m\u001b[0;34m(\u001b[0m\u001b[0;34m\"list index out of range\"\u001b[0m\u001b[0;34m)\u001b[0m\u001b[0;34m\u001b[0m\u001b[0m\n",
      "\u001b[0;32m/Users/dima/.venv/lib/python2.7/site-packages/lazr/restfulclient/resource.pyc\u001b[0m in \u001b[0;36m_get_slice\u001b[0;34m(self, slice)\u001b[0m\n\u001b[1;32m    875\u001b[0m         \u001b[0;32mwhile\u001b[0m \u001b[0mmore_needed\u001b[0m \u001b[0;34m>\u001b[0m \u001b[0;36m0\u001b[0m \u001b[0;32mand\u001b[0m \u001b[0mpage_url\u001b[0m \u001b[0;32mis\u001b[0m \u001b[0;32mnot\u001b[0m \u001b[0mNone\u001b[0m\u001b[0;34m:\u001b[0m\u001b[0;34m\u001b[0m\u001b[0m\n\u001b[1;32m    876\u001b[0m             representation = simplejson.loads(\n\u001b[0;32m--> 877\u001b[0;31m                 unicode(self._root._browser.get(page_url)))\n\u001b[0m\u001b[1;32m    878\u001b[0m             \u001b[0mcurrent_page_entries\u001b[0m \u001b[0;34m=\u001b[0m \u001b[0mrepresentation\u001b[0m\u001b[0;34m[\u001b[0m\u001b[0;34m'entries'\u001b[0m\u001b[0;34m]\u001b[0m\u001b[0;34m\u001b[0m\u001b[0m\n\u001b[1;32m    879\u001b[0m             \u001b[0mentry_dicts\u001b[0m \u001b[0;34m+=\u001b[0m \u001b[0mcurrent_page_entries\u001b[0m\u001b[0;34m[\u001b[0m\u001b[0;34m:\u001b[0m\u001b[0mmore_needed\u001b[0m\u001b[0;34m]\u001b[0m\u001b[0;34m\u001b[0m\u001b[0m\n",
      "\u001b[0;32m/Users/dima/.venv/lib/python2.7/site-packages/lazr/restfulclient/_browser.pyc\u001b[0m in \u001b[0;36mget\u001b[0;34m(self, resource_or_uri, headers, return_response)\u001b[0m\n\u001b[1;32m    416\u001b[0m             \u001b[0mmethod\u001b[0m \u001b[0;34m=\u001b[0m \u001b[0mresource_or_uri\u001b[0m\u001b[0;34m.\u001b[0m\u001b[0mget_method\u001b[0m\u001b[0;34m(\u001b[0m\u001b[0;34m'get'\u001b[0m\u001b[0;34m)\u001b[0m\u001b[0;34m\u001b[0m\u001b[0m\n\u001b[1;32m    417\u001b[0m             \u001b[0murl\u001b[0m \u001b[0;34m=\u001b[0m \u001b[0mmethod\u001b[0m\u001b[0;34m.\u001b[0m\u001b[0mbuild_request_url\u001b[0m\u001b[0;34m(\u001b[0m\u001b[0;34m)\u001b[0m\u001b[0;34m\u001b[0m\u001b[0m\n\u001b[0;32m--> 418\u001b[0;31m         \u001b[0mresponse\u001b[0m\u001b[0;34m,\u001b[0m \u001b[0mcontent\u001b[0m \u001b[0;34m=\u001b[0m \u001b[0mself\u001b[0m\u001b[0;34m.\u001b[0m\u001b[0m_request\u001b[0m\u001b[0;34m(\u001b[0m\u001b[0murl\u001b[0m\u001b[0;34m,\u001b[0m \u001b[0mextra_headers\u001b[0m\u001b[0;34m=\u001b[0m\u001b[0mheaders\u001b[0m\u001b[0;34m)\u001b[0m\u001b[0;34m\u001b[0m\u001b[0m\n\u001b[0m\u001b[1;32m    419\u001b[0m         \u001b[0;32mif\u001b[0m \u001b[0mreturn_response\u001b[0m\u001b[0;34m:\u001b[0m\u001b[0;34m\u001b[0m\u001b[0m\n\u001b[1;32m    420\u001b[0m             \u001b[0;32mreturn\u001b[0m \u001b[0;34m(\u001b[0m\u001b[0mresponse\u001b[0m\u001b[0;34m,\u001b[0m \u001b[0mcontent\u001b[0m\u001b[0;34m)\u001b[0m\u001b[0;34m\u001b[0m\u001b[0m\n",
      "\u001b[0;32m/Users/dima/.venv/lib/python2.7/site-packages/lazr/restfulclient/_browser.pyc\u001b[0m in \u001b[0;36m_request\u001b[0;34m(self, url, data, method, media_type, extra_headers)\u001b[0m\n\u001b[1;32m    359\u001b[0m         \u001b[0;32mtry\u001b[0m\u001b[0;34m:\u001b[0m\u001b[0;34m\u001b[0m\u001b[0m\n\u001b[1;32m    360\u001b[0m             response, content = self._request_and_retry(\n\u001b[0;32m--> 361\u001b[0;31m                 str(url), method=method, body=data, headers=headers)\n\u001b[0m\u001b[1;32m    362\u001b[0m         \u001b[0;32mexcept\u001b[0m \u001b[0mSSLHandshakeError\u001b[0m\u001b[0;34m,\u001b[0m \u001b[0me\u001b[0m\u001b[0;34m:\u001b[0m\u001b[0;34m\u001b[0m\u001b[0m\n\u001b[1;32m    363\u001b[0m             \u001b[0mmsg\u001b[0m \u001b[0;34m=\u001b[0m \u001b[0mstr\u001b[0m\u001b[0;34m(\u001b[0m\u001b[0me\u001b[0m\u001b[0;34m)\u001b[0m\u001b[0;34m\u001b[0m\u001b[0m\n",
      "\u001b[0;32m/Users/dima/.venv/lib/python2.7/site-packages/lazr/restfulclient/_browser.pyc\u001b[0m in \u001b[0;36m_request_and_retry\u001b[0;34m(self, url, method, body, headers)\u001b[0m\n\u001b[1;32m    327\u001b[0m         \u001b[0;32mfor\u001b[0m \u001b[0mretry_count\u001b[0m \u001b[0;32min\u001b[0m \u001b[0mrange\u001b[0m\u001b[0;34m(\u001b[0m\u001b[0;36m0\u001b[0m\u001b[0;34m,\u001b[0m \u001b[0mself\u001b[0m\u001b[0;34m.\u001b[0m\u001b[0mmax_retries\u001b[0m\u001b[0;34m+\u001b[0m\u001b[0;36m1\u001b[0m\u001b[0;34m)\u001b[0m\u001b[0;34m:\u001b[0m\u001b[0;34m\u001b[0m\u001b[0m\n\u001b[1;32m    328\u001b[0m             response, content = self._connection.request(\n\u001b[0;32m--> 329\u001b[0;31m                 url, method=method, body=body, headers=headers)\n\u001b[0m\u001b[1;32m    330\u001b[0m             if (response.status in [502, 503]\n\u001b[1;32m    331\u001b[0m                 and retry_count < self.max_retries):\n",
      "\u001b[0;32m/Users/dima/.venv/lib/python2.7/site-packages/httplib2/__init__.pyc\u001b[0m in \u001b[0;36mrequest\u001b[0;34m(self, uri, method, body, headers, redirections, connection_type)\u001b[0m\n\u001b[1;32m   1576\u001b[0m                         \u001b[0;32mpass\u001b[0m\u001b[0;34m\u001b[0m\u001b[0m\n\u001b[1;32m   1577\u001b[0m \u001b[0;34m\u001b[0m\u001b[0m\n\u001b[0;32m-> 1578\u001b[0;31m                     \u001b[0;34m(\u001b[0m\u001b[0mresponse\u001b[0m\u001b[0;34m,\u001b[0m \u001b[0mnew_content\u001b[0m\u001b[0;34m)\u001b[0m \u001b[0;34m=\u001b[0m \u001b[0mself\u001b[0m\u001b[0;34m.\u001b[0m\u001b[0m_request\u001b[0m\u001b[0;34m(\u001b[0m\u001b[0mconn\u001b[0m\u001b[0;34m,\u001b[0m \u001b[0mauthority\u001b[0m\u001b[0;34m,\u001b[0m \u001b[0muri\u001b[0m\u001b[0;34m,\u001b[0m \u001b[0mrequest_uri\u001b[0m\u001b[0;34m,\u001b[0m \u001b[0mmethod\u001b[0m\u001b[0;34m,\u001b[0m \u001b[0mbody\u001b[0m\u001b[0;34m,\u001b[0m \u001b[0mheaders\u001b[0m\u001b[0;34m,\u001b[0m \u001b[0mredirections\u001b[0m\u001b[0;34m,\u001b[0m \u001b[0mcachekey\u001b[0m\u001b[0;34m)\u001b[0m\u001b[0;34m\u001b[0m\u001b[0m\n\u001b[0m\u001b[1;32m   1579\u001b[0m \u001b[0;34m\u001b[0m\u001b[0m\n\u001b[1;32m   1580\u001b[0m                 \u001b[0;32mif\u001b[0m \u001b[0mresponse\u001b[0m\u001b[0;34m.\u001b[0m\u001b[0mstatus\u001b[0m \u001b[0;34m==\u001b[0m \u001b[0;36m304\u001b[0m \u001b[0;32mand\u001b[0m \u001b[0mmethod\u001b[0m \u001b[0;34m==\u001b[0m \u001b[0;34m\"GET\"\u001b[0m\u001b[0;34m:\u001b[0m\u001b[0;34m\u001b[0m\u001b[0m\n",
      "\u001b[0;32m/Users/dima/.venv/lib/python2.7/site-packages/launchpadlib/launchpad.pyc\u001b[0m in \u001b[0;36m_request\u001b[0;34m(self, *args)\u001b[0m\n\u001b[1;32m    124\u001b[0m     \u001b[0;32mdef\u001b[0m \u001b[0m_request\u001b[0m\u001b[0;34m(\u001b[0m\u001b[0mself\u001b[0m\u001b[0;34m,\u001b[0m \u001b[0;34m*\u001b[0m\u001b[0margs\u001b[0m\u001b[0;34m)\u001b[0m\u001b[0;34m:\u001b[0m\u001b[0;34m\u001b[0m\u001b[0m\n\u001b[1;32m    125\u001b[0m         response, content = super(\n\u001b[0;32m--> 126\u001b[0;31m             LaunchpadOAuthAwareHttp, self)._request(*args)\n\u001b[0m\u001b[1;32m    127\u001b[0m         \u001b[0;32mreturn\u001b[0m \u001b[0mself\u001b[0m\u001b[0;34m.\u001b[0m\u001b[0mretry_on_bad_token\u001b[0m\u001b[0;34m(\u001b[0m\u001b[0mresponse\u001b[0m\u001b[0;34m,\u001b[0m \u001b[0mcontent\u001b[0m\u001b[0;34m,\u001b[0m \u001b[0;34m*\u001b[0m\u001b[0margs\u001b[0m\u001b[0;34m)\u001b[0m\u001b[0;34m\u001b[0m\u001b[0m\n\u001b[1;32m    128\u001b[0m \u001b[0;34m\u001b[0m\u001b[0m\n",
      "\u001b[0;32m/Users/dima/.venv/lib/python2.7/site-packages/lazr/restfulclient/_browser.pyc\u001b[0m in \u001b[0;36m_request\u001b[0;34m(self, conn, host, absolute_uri, request_uri, method, body, headers, redirections, cachekey)\u001b[0m\n\u001b[1;32m    154\u001b[0m         return super(RestfulHttp, self)._request(\n\u001b[1;32m    155\u001b[0m             \u001b[0mconn\u001b[0m\u001b[0;34m,\u001b[0m \u001b[0mhost\u001b[0m\u001b[0;34m,\u001b[0m \u001b[0mabsolute_uri\u001b[0m\u001b[0;34m,\u001b[0m \u001b[0mrequest_uri\u001b[0m\u001b[0;34m,\u001b[0m \u001b[0mmethod\u001b[0m\u001b[0;34m,\u001b[0m \u001b[0mbody\u001b[0m\u001b[0;34m,\u001b[0m \u001b[0mheaders\u001b[0m\u001b[0;34m,\u001b[0m\u001b[0;34m\u001b[0m\u001b[0m\n\u001b[0;32m--> 156\u001b[0;31m             redirections, cachekey)\n\u001b[0m\u001b[1;32m    157\u001b[0m \u001b[0;34m\u001b[0m\u001b[0m\n\u001b[1;32m    158\u001b[0m     \u001b[0;32mdef\u001b[0m \u001b[0m_getCachedHeader\u001b[0m\u001b[0;34m(\u001b[0m\u001b[0mself\u001b[0m\u001b[0;34m,\u001b[0m \u001b[0muri\u001b[0m\u001b[0;34m,\u001b[0m \u001b[0mheader\u001b[0m\u001b[0;34m)\u001b[0m\u001b[0;34m:\u001b[0m\u001b[0;34m\u001b[0m\u001b[0m\n",
      "\u001b[0;32m/Users/dima/.venv/lib/python2.7/site-packages/httplib2/__init__.pyc\u001b[0m in \u001b[0;36m_request\u001b[0;34m(self, conn, host, absolute_uri, request_uri, method, body, headers, redirections, cachekey)\u001b[0m\n\u001b[1;32m   1348\u001b[0m             \u001b[0mauth\u001b[0m\u001b[0;34m.\u001b[0m\u001b[0mrequest\u001b[0m\u001b[0;34m(\u001b[0m\u001b[0mmethod\u001b[0m\u001b[0;34m,\u001b[0m \u001b[0mrequest_uri\u001b[0m\u001b[0;34m,\u001b[0m \u001b[0mheaders\u001b[0m\u001b[0;34m,\u001b[0m \u001b[0mbody\u001b[0m\u001b[0;34m)\u001b[0m\u001b[0;34m\u001b[0m\u001b[0m\n\u001b[1;32m   1349\u001b[0m \u001b[0;34m\u001b[0m\u001b[0m\n\u001b[0;32m-> 1350\u001b[0;31m         \u001b[0;34m(\u001b[0m\u001b[0mresponse\u001b[0m\u001b[0;34m,\u001b[0m \u001b[0mcontent\u001b[0m\u001b[0;34m)\u001b[0m \u001b[0;34m=\u001b[0m \u001b[0mself\u001b[0m\u001b[0;34m.\u001b[0m\u001b[0m_conn_request\u001b[0m\u001b[0;34m(\u001b[0m\u001b[0mconn\u001b[0m\u001b[0;34m,\u001b[0m \u001b[0mrequest_uri\u001b[0m\u001b[0;34m,\u001b[0m \u001b[0mmethod\u001b[0m\u001b[0;34m,\u001b[0m \u001b[0mbody\u001b[0m\u001b[0;34m,\u001b[0m \u001b[0mheaders\u001b[0m\u001b[0;34m)\u001b[0m\u001b[0;34m\u001b[0m\u001b[0m\n\u001b[0m\u001b[1;32m   1351\u001b[0m \u001b[0;34m\u001b[0m\u001b[0m\n\u001b[1;32m   1352\u001b[0m         \u001b[0;32mif\u001b[0m \u001b[0mauth\u001b[0m\u001b[0;34m:\u001b[0m\u001b[0;34m\u001b[0m\u001b[0m\n",
      "\u001b[0;32m/Users/dima/.venv/lib/python2.7/site-packages/httplib2/__init__.pyc\u001b[0m in \u001b[0;36m_conn_request\u001b[0;34m(self, conn, request_uri, method, body, headers)\u001b[0m\n\u001b[1;32m   1304\u001b[0m                     \u001b[0;32mcontinue\u001b[0m\u001b[0;34m\u001b[0m\u001b[0m\n\u001b[1;32m   1305\u001b[0m             \u001b[0;32mtry\u001b[0m\u001b[0;34m:\u001b[0m\u001b[0;34m\u001b[0m\u001b[0m\n\u001b[0;32m-> 1306\u001b[0;31m                 \u001b[0mresponse\u001b[0m \u001b[0;34m=\u001b[0m \u001b[0mconn\u001b[0m\u001b[0;34m.\u001b[0m\u001b[0mgetresponse\u001b[0m\u001b[0;34m(\u001b[0m\u001b[0;34m)\u001b[0m\u001b[0;34m\u001b[0m\u001b[0m\n\u001b[0m\u001b[1;32m   1307\u001b[0m             \u001b[0;32mexcept\u001b[0m \u001b[0mhttplib\u001b[0m\u001b[0;34m.\u001b[0m\u001b[0mBadStatusLine\u001b[0m\u001b[0;34m:\u001b[0m\u001b[0;34m\u001b[0m\u001b[0m\n\u001b[1;32m   1308\u001b[0m                 \u001b[0;31m# If we get a BadStatusLine on the first try then that means\u001b[0m\u001b[0;34m\u001b[0m\u001b[0;34m\u001b[0m\u001b[0m\n",
      "\u001b[0;32m/System/Library/Frameworks/Python.framework/Versions/2.7/lib/python2.7/httplib.pyc\u001b[0m in \u001b[0;36mgetresponse\u001b[0;34m(self, buffering)\u001b[0m\n\u001b[1;32m   1130\u001b[0m \u001b[0;34m\u001b[0m\u001b[0m\n\u001b[1;32m   1131\u001b[0m         \u001b[0;32mtry\u001b[0m\u001b[0;34m:\u001b[0m\u001b[0;34m\u001b[0m\u001b[0m\n\u001b[0;32m-> 1132\u001b[0;31m             \u001b[0mresponse\u001b[0m\u001b[0;34m.\u001b[0m\u001b[0mbegin\u001b[0m\u001b[0;34m(\u001b[0m\u001b[0;34m)\u001b[0m\u001b[0;34m\u001b[0m\u001b[0m\n\u001b[0m\u001b[1;32m   1133\u001b[0m             \u001b[0;32massert\u001b[0m \u001b[0mresponse\u001b[0m\u001b[0;34m.\u001b[0m\u001b[0mwill_close\u001b[0m \u001b[0;34m!=\u001b[0m \u001b[0m_UNKNOWN\u001b[0m\u001b[0;34m\u001b[0m\u001b[0m\n\u001b[1;32m   1134\u001b[0m             \u001b[0mself\u001b[0m\u001b[0;34m.\u001b[0m\u001b[0m__state\u001b[0m \u001b[0;34m=\u001b[0m \u001b[0m_CS_IDLE\u001b[0m\u001b[0;34m\u001b[0m\u001b[0m\n",
      "\u001b[0;32m/System/Library/Frameworks/Python.framework/Versions/2.7/lib/python2.7/httplib.pyc\u001b[0m in \u001b[0;36mbegin\u001b[0;34m(self)\u001b[0m\n\u001b[1;32m    451\u001b[0m         \u001b[0;31m# read until we get a non-100 response\u001b[0m\u001b[0;34m\u001b[0m\u001b[0;34m\u001b[0m\u001b[0m\n\u001b[1;32m    452\u001b[0m         \u001b[0;32mwhile\u001b[0m \u001b[0mTrue\u001b[0m\u001b[0;34m:\u001b[0m\u001b[0;34m\u001b[0m\u001b[0m\n\u001b[0;32m--> 453\u001b[0;31m             \u001b[0mversion\u001b[0m\u001b[0;34m,\u001b[0m \u001b[0mstatus\u001b[0m\u001b[0;34m,\u001b[0m \u001b[0mreason\u001b[0m \u001b[0;34m=\u001b[0m \u001b[0mself\u001b[0m\u001b[0;34m.\u001b[0m\u001b[0m_read_status\u001b[0m\u001b[0;34m(\u001b[0m\u001b[0;34m)\u001b[0m\u001b[0;34m\u001b[0m\u001b[0m\n\u001b[0m\u001b[1;32m    454\u001b[0m             \u001b[0;32mif\u001b[0m \u001b[0mstatus\u001b[0m \u001b[0;34m!=\u001b[0m \u001b[0mCONTINUE\u001b[0m\u001b[0;34m:\u001b[0m\u001b[0;34m\u001b[0m\u001b[0m\n\u001b[1;32m    455\u001b[0m                 \u001b[0;32mbreak\u001b[0m\u001b[0;34m\u001b[0m\u001b[0m\n",
      "\u001b[0;32m/System/Library/Frameworks/Python.framework/Versions/2.7/lib/python2.7/httplib.pyc\u001b[0m in \u001b[0;36m_read_status\u001b[0;34m(self)\u001b[0m\n\u001b[1;32m    407\u001b[0m     \u001b[0;32mdef\u001b[0m \u001b[0m_read_status\u001b[0m\u001b[0;34m(\u001b[0m\u001b[0mself\u001b[0m\u001b[0;34m)\u001b[0m\u001b[0;34m:\u001b[0m\u001b[0;34m\u001b[0m\u001b[0m\n\u001b[1;32m    408\u001b[0m         \u001b[0;31m# Initialize with Simple-Response defaults\u001b[0m\u001b[0;34m\u001b[0m\u001b[0;34m\u001b[0m\u001b[0m\n\u001b[0;32m--> 409\u001b[0;31m         \u001b[0mline\u001b[0m \u001b[0;34m=\u001b[0m \u001b[0mself\u001b[0m\u001b[0;34m.\u001b[0m\u001b[0mfp\u001b[0m\u001b[0;34m.\u001b[0m\u001b[0mreadline\u001b[0m\u001b[0;34m(\u001b[0m\u001b[0m_MAXLINE\u001b[0m \u001b[0;34m+\u001b[0m \u001b[0;36m1\u001b[0m\u001b[0;34m)\u001b[0m\u001b[0;34m\u001b[0m\u001b[0m\n\u001b[0m\u001b[1;32m    410\u001b[0m         \u001b[0;32mif\u001b[0m \u001b[0mlen\u001b[0m\u001b[0;34m(\u001b[0m\u001b[0mline\u001b[0m\u001b[0;34m)\u001b[0m \u001b[0;34m>\u001b[0m \u001b[0m_MAXLINE\u001b[0m\u001b[0;34m:\u001b[0m\u001b[0;34m\u001b[0m\u001b[0m\n\u001b[1;32m    411\u001b[0m             \u001b[0;32mraise\u001b[0m \u001b[0mLineTooLong\u001b[0m\u001b[0;34m(\u001b[0m\u001b[0;34m\"header line\"\u001b[0m\u001b[0;34m)\u001b[0m\u001b[0;34m\u001b[0m\u001b[0m\n",
      "\u001b[0;32m/System/Library/Frameworks/Python.framework/Versions/2.7/lib/python2.7/socket.pyc\u001b[0m in \u001b[0;36mreadline\u001b[0;34m(self, size)\u001b[0m\n\u001b[1;32m    478\u001b[0m             \u001b[0;32mwhile\u001b[0m \u001b[0mTrue\u001b[0m\u001b[0;34m:\u001b[0m\u001b[0;34m\u001b[0m\u001b[0m\n\u001b[1;32m    479\u001b[0m                 \u001b[0;32mtry\u001b[0m\u001b[0;34m:\u001b[0m\u001b[0;34m\u001b[0m\u001b[0m\n\u001b[0;32m--> 480\u001b[0;31m                     \u001b[0mdata\u001b[0m \u001b[0;34m=\u001b[0m \u001b[0mself\u001b[0m\u001b[0;34m.\u001b[0m\u001b[0m_sock\u001b[0m\u001b[0;34m.\u001b[0m\u001b[0mrecv\u001b[0m\u001b[0;34m(\u001b[0m\u001b[0mself\u001b[0m\u001b[0;34m.\u001b[0m\u001b[0m_rbufsize\u001b[0m\u001b[0;34m)\u001b[0m\u001b[0;34m\u001b[0m\u001b[0m\n\u001b[0m\u001b[1;32m    481\u001b[0m                 \u001b[0;32mexcept\u001b[0m \u001b[0merror\u001b[0m\u001b[0;34m,\u001b[0m \u001b[0me\u001b[0m\u001b[0;34m:\u001b[0m\u001b[0;34m\u001b[0m\u001b[0m\n\u001b[1;32m    482\u001b[0m                     \u001b[0;32mif\u001b[0m \u001b[0me\u001b[0m\u001b[0;34m.\u001b[0m\u001b[0margs\u001b[0m\u001b[0;34m[\u001b[0m\u001b[0;36m0\u001b[0m\u001b[0;34m]\u001b[0m \u001b[0;34m==\u001b[0m \u001b[0mEINTR\u001b[0m\u001b[0;34m:\u001b[0m\u001b[0;34m\u001b[0m\u001b[0m\n",
      "\u001b[0;32m/System/Library/Frameworks/Python.framework/Versions/2.7/lib/python2.7/ssl.pyc\u001b[0m in \u001b[0;36mrecv\u001b[0;34m(self, buflen, flags)\u001b[0m\n\u001b[1;32m    732\u001b[0m                     \u001b[0;34m\"non-zero flags not allowed in calls to recv() on %s\"\u001b[0m \u001b[0;34m%\u001b[0m\u001b[0;34m\u001b[0m\u001b[0m\n\u001b[1;32m    733\u001b[0m                     self.__class__)\n\u001b[0;32m--> 734\u001b[0;31m             \u001b[0;32mreturn\u001b[0m \u001b[0mself\u001b[0m\u001b[0;34m.\u001b[0m\u001b[0mread\u001b[0m\u001b[0;34m(\u001b[0m\u001b[0mbuflen\u001b[0m\u001b[0;34m)\u001b[0m\u001b[0;34m\u001b[0m\u001b[0m\n\u001b[0m\u001b[1;32m    735\u001b[0m         \u001b[0;32melse\u001b[0m\u001b[0;34m:\u001b[0m\u001b[0;34m\u001b[0m\u001b[0m\n\u001b[1;32m    736\u001b[0m             \u001b[0;32mreturn\u001b[0m \u001b[0mself\u001b[0m\u001b[0;34m.\u001b[0m\u001b[0m_sock\u001b[0m\u001b[0;34m.\u001b[0m\u001b[0mrecv\u001b[0m\u001b[0;34m(\u001b[0m\u001b[0mbuflen\u001b[0m\u001b[0;34m,\u001b[0m \u001b[0mflags\u001b[0m\u001b[0;34m)\u001b[0m\u001b[0;34m\u001b[0m\u001b[0m\n",
      "\u001b[0;32m/System/Library/Frameworks/Python.framework/Versions/2.7/lib/python2.7/ssl.pyc\u001b[0m in \u001b[0;36mread\u001b[0;34m(self, len, buffer)\u001b[0m\n\u001b[1;32m    619\u001b[0m                 \u001b[0mv\u001b[0m \u001b[0;34m=\u001b[0m \u001b[0mself\u001b[0m\u001b[0;34m.\u001b[0m\u001b[0m_sslobj\u001b[0m\u001b[0;34m.\u001b[0m\u001b[0mread\u001b[0m\u001b[0;34m(\u001b[0m\u001b[0mlen\u001b[0m\u001b[0;34m,\u001b[0m \u001b[0mbuffer\u001b[0m\u001b[0;34m)\u001b[0m\u001b[0;34m\u001b[0m\u001b[0m\n\u001b[1;32m    620\u001b[0m             \u001b[0;32melse\u001b[0m\u001b[0;34m:\u001b[0m\u001b[0;34m\u001b[0m\u001b[0m\n\u001b[0;32m--> 621\u001b[0;31m                 \u001b[0mv\u001b[0m \u001b[0;34m=\u001b[0m \u001b[0mself\u001b[0m\u001b[0;34m.\u001b[0m\u001b[0m_sslobj\u001b[0m\u001b[0;34m.\u001b[0m\u001b[0mread\u001b[0m\u001b[0;34m(\u001b[0m\u001b[0mlen\u001b[0m \u001b[0;32mor\u001b[0m \u001b[0;36m1024\u001b[0m\u001b[0;34m)\u001b[0m\u001b[0;34m\u001b[0m\u001b[0m\n\u001b[0m\u001b[1;32m    622\u001b[0m             \u001b[0;32mreturn\u001b[0m \u001b[0mv\u001b[0m\u001b[0;34m\u001b[0m\u001b[0m\n\u001b[1;32m    623\u001b[0m         \u001b[0;32mexcept\u001b[0m \u001b[0mSSLError\u001b[0m \u001b[0;32mas\u001b[0m \u001b[0mx\u001b[0m\u001b[0;34m:\u001b[0m\u001b[0;34m\u001b[0m\u001b[0m\n",
      "\u001b[0;31mKeyboardInterrupt\u001b[0m: "
     ]
    }
   ],
   "source": [
    "search_tags = map(lambda x: \"-\" + x, important_tags + excluded_tags)\n",
    "for bt in prj.searchTasks(milestone=cur_ms, status=open_statuses, tags=search_tags, tags_combinator='All', importance=high_priority):\n",
    "    display_bug(bt.bug)"
   ]
  },
  {
   "cell_type": "markdown",
   "metadata": {},
   "source": [
    "## Medium/Low/Wishlist bugs (without tech-debt)"
   ]
  },
  {
   "cell_type": "code",
   "execution_count": 37,
   "metadata": {
    "collapsed": false
   },
   "outputs": [
    {
     "data": {
      "text/html": [
       "1295717 <a href=https://bugs.launchpad.net/bugs/1295717>[provision] Controller has unallocated space, by default,  using ceph as image backend</a><br>- Confirmed / Medium / fuel-python / 8.0<br>- [ceph module-volumes qa-agree-7.0 release-notes]"
      ],
      "text/plain": [
       "<IPython.core.display.HTML at 0x11396b590>"
      ]
     },
     "metadata": {},
     "output_type": "display_data"
    },
    {
     "data": {
      "text/html": [
       "1307495 <a href=https://bugs.launchpad.net/bugs/1307495>[devops] Recheck no bug doesn't retrigger Fuel CI</a><br>- Confirmed / Medium / fuel-ci / 8.0<br>- [fuel-ci non-release]"
      ],
      "text/plain": [
       "<IPython.core.display.HTML at 0x11396bdd0>"
      ]
     },
     "metadata": {},
     "output_type": "display_data"
    },
    {
     "data": {
      "text/html": [
       "1324297 <a href=https://bugs.launchpad.net/bugs/1324297>[provision] master iso smoke test failed with anaconda error</a><br>- Confirmed / Medium / mos-linux / 8.0<br>- [mos-linux release-notes]"
      ],
      "text/plain": [
       "<IPython.core.display.HTML at 0x1138de410>"
      ]
     },
     "metadata": {},
     "output_type": "display_data"
    },
    {
     "data": {
      "text/html": [
       "1330875 <a href=https://bugs.launchpad.net/bugs/1330875>Create and sync DB entities only at primary-controller</a><br>- Triaged / Medium / mos-puppet / 8.0<br>- [ha release-notes-done]"
      ],
      "text/plain": [
       "<IPython.core.display.HTML at 0x1139f1e50>"
      ]
     },
     "metadata": {},
     "output_type": "display_data"
    },
    {
     "data": {
      "text/html": [
       "1331554 <a href=https://bugs.launchpad.net/bugs/1331554>[library] Raise max file descriptors and process file limits for radosgw</a><br>- Triaged / Medium / mos-ceph / 8.0<br>- [ceph release-notes]"
      ],
      "text/plain": [
       "<IPython.core.display.HTML at 0x1138d4890>"
      ]
     },
     "metadata": {},
     "output_type": "display_data"
    },
    {
     "data": {
      "text/html": [
       "1342684 <a href=https://bugs.launchpad.net/bugs/1342684>[ui] [settings] Invalid settings after Load Defaults</a><br>- Confirmed / Medium / fuel-ui / 8.0<br>- [qa-agree-7.0 tricky ui]"
      ],
      "text/plain": [
       "<IPython.core.display.HTML at 0x11286fa90>"
      ]
     },
     "metadata": {},
     "output_type": "display_data"
    },
    {
     "data": {
      "text/html": [
       "1349819 <a href=https://bugs.launchpad.net/bugs/1349819>Need to create some simple useful security groups  for each new Openstack cluster</a><br>- Confirmed / Medium / sbogatkin / 8.0<br>- [non-release qa-agree-7.0 tricky]"
      ],
      "text/plain": [
       "<IPython.core.display.HTML at 0x1138d45d0>"
      ]
     },
     "metadata": {},
     "output_type": "display_data"
    },
    {
     "data": {
      "text/html": [
       "1361358 <a href=https://bugs.launchpad.net/bugs/1361358>Install of Fuel fails on RAID 1 disk (C602 drive controller)</a><br>- Confirmed / Medium / fuel-python / 8.0<br>- [ibp raid release-notes]"
      ],
      "text/plain": [
       "<IPython.core.display.HTML at 0x10ffc5fd0>"
      ]
     },
     "metadata": {},
     "output_type": "display_data"
    },
    {
     "data": {
      "text/html": [
       "1373471 <a href=https://bugs.launchpad.net/bugs/1373471>Fuel Env List outputs Json under Changes which breaks formatting</a><br>- Confirmed / Medium / fuel-python / 8.0<br>- [known-issue module-client qa-agree-7.0]"
      ],
      "text/plain": [
       "<IPython.core.display.HTML at 0x10ffc5750>"
      ]
     },
     "metadata": {},
     "output_type": "display_data"
    },
    {
     "data": {
      "text/html": [
       "1375750 <a href=https://bugs.launchpad.net/bugs/1375750>Controller CPU/RAM are counted as cloud's capacity</a><br>- Confirmed / Medium / fuel-ui / 8.0<br>- [qa-agree-7.0 ui]"
      ],
      "text/plain": [
       "<IPython.core.display.HTML at 0x113ce7a50>"
      ]
     },
     "metadata": {},
     "output_type": "display_data"
    },
    {
     "data": {
      "text/html": [
       "1384260 <a href=https://bugs.launchpad.net/bugs/1384260>You can click button \"Stop Tests\" many times and it's behaviour is strange</a><br>- Confirmed / Medium / fuel-python / 8.0<br>- [module-nailgun ostf qa-agree-7.0 ui]"
      ],
      "text/plain": [
       "<IPython.core.display.HTML at 0x112877e90>"
      ]
     },
     "metadata": {},
     "output_type": "display_data"
    },
    {
     "data": {
      "text/html": [
       "1386657 <a href=https://bugs.launchpad.net/bugs/1386657>    Added base classes for Load Tests and profiler</a><br>- Triaged / Medium / fuel-docs / 8.0<br>- [fuel-web]"
      ],
      "text/plain": [
       "<IPython.core.display.HTML at 0x113865690>"
      ]
     },
     "metadata": {},
     "output_type": "display_data"
    },
    {
     "data": {
      "text/html": [
       "1387258 <a href=https://bugs.launchpad.net/bugs/1387258>JS or server errors in most cases are invisible for user</a><br>- Confirmed / Medium / fuel-ui / 8.0<br>- [ui]"
      ],
      "text/plain": [
       "<IPython.core.display.HTML at 0x113982110>"
      ]
     },
     "metadata": {},
     "output_type": "display_data"
    },
    {
     "data": {
      "text/html": [
       "1390099 <a href=https://bugs.launchpad.net/bugs/1390099>Need to fix deprecated Puppet parameters</a><br>- Confirmed / Medium / igajsin / 8.0<br>- []"
      ],
      "text/plain": [
       "<IPython.core.display.HTML at 0x112877b90>"
      ]
     },
     "metadata": {},
     "output_type": "display_data"
    },
    {
     "data": {
      "text/html": [
       "1391459 <a href=https://bugs.launchpad.net/bugs/1391459>IP address autocompletion feature is useless</a><br>- Confirmed / Medium / fuel-ui / 8.0<br>- [qa-agree-7.0 ui ui-feature]"
      ],
      "text/plain": [
       "<IPython.core.display.HTML at 0x113ce7c90>"
      ]
     },
     "metadata": {},
     "output_type": "display_data"
    },
    {
     "data": {
      "text/html": [
       "1391481 <a href=https://bugs.launchpad.net/bugs/1391481>There are no descriptions for network parameters</a><br>- Confirmed / Medium / fuel-ui / 8.0<br>- [ui]"
      ],
      "text/plain": [
       "<IPython.core.display.HTML at 0x113ce7350>"
      ]
     },
     "metadata": {},
     "output_type": "display_data"
    },
    {
     "data": {
      "text/html": [
       "1392242 <a href=https://bugs.launchpad.net/bugs/1392242>Error on applying interface configuration on nodes from different nodegroups (multiple cluster networks)</a><br>- Confirmed / Medium / fuel-python / 8.0<br>- [feature-multi-l2 qa-agree-7.0]"
      ],
      "text/plain": [
       "<IPython.core.display.HTML at 0x11286fcd0>"
      ]
     },
     "metadata": {},
     "output_type": "display_data"
    },
    {
     "data": {
      "text/html": [
       "1392314 <a href=https://bugs.launchpad.net/bugs/1392314>Generation of diagnostic snapshot failed: \"exit code: 139 stderr: sh: line 1:   393 Segmentation fault\"</a><br>- Confirmed / Medium / fuel-python / 8.0<br>- [module-shotgun size-l]"
      ],
      "text/plain": [
       "<IPython.core.display.HTML at 0x113c6f510>"
      ]
     },
     "metadata": {},
     "output_type": "display_data"
    },
    {
     "data": {
      "text/html": [
       "1393369 <a href=https://bugs.launchpad.net/bugs/1393369>default disk size for MongoDB is too small</a><br>- Triaged / Medium / fuel-python / 8.0<br>- [feature-mongo module-volumes scale]"
      ],
      "text/plain": [
       "<IPython.core.display.HTML at 0x10fff4a10>"
      ]
     },
     "metadata": {},
     "output_type": "display_data"
    },
    {
     "data": {
      "text/html": [
       "1393766 <a href=https://bugs.launchpad.net/bugs/1393766>    Basic profiling facilities for CLI</a><br>- Triaged / Medium / fuel-docs / 8.0<br>- [fuel-web]"
      ],
      "text/plain": [
       "<IPython.core.display.HTML at 0x113865750>"
      ]
     },
     "metadata": {},
     "output_type": "display_data"
    },
    {
     "data": {
      "text/html": [
       "1394173 <a href=https://bugs.launchpad.net/bugs/1394173>    Do not fail if client config file is not readable</a><br>- Triaged / Medium / fuel-docs / 8.0<br>- [fuel-web]"
      ],
      "text/plain": [
       "<IPython.core.display.HTML at 0x1138de5d0>"
      ]
     },
     "metadata": {},
     "output_type": "display_data"
    },
    {
     "data": {
      "text/html": [
       "1396085 <a href=https://bugs.launchpad.net/bugs/1396085>dhcpcheck discover fails when there is no interface specified</a><br>- Triaged / Medium / fuel-python / 8.0<br>- [module-netcheck]"
      ],
      "text/plain": [
       "<IPython.core.display.HTML at 0x1139f1150>"
      ]
     },
     "metadata": {},
     "output_type": "display_data"
    },
    {
     "data": {
      "text/html": [
       "1398221 <a href=https://bugs.launchpad.net/bugs/1398221>failure of a 'critical' role marks all role members as failed</a><br>- Confirmed / Medium / fuel-python / 8.0<br>- [module-astute qa-agree-7.0]"
      ],
      "text/plain": [
       "<IPython.core.display.HTML at 0x1139f16d0>"
      ]
     },
     "metadata": {},
     "output_type": "display_data"
    },
    {
     "data": {
      "text/html": [
       "1398816 <a href=https://bugs.launchpad.net/bugs/1398816>Move scale lab jenkins jobs</a><br>- In Progress / Medium / sgalkin / 8.0<br>- [jenkins non-release qa-agree-7.0]"
      ],
      "text/plain": [
       "<IPython.core.display.HTML at 0x11396bdd0>"
      ]
     },
     "metadata": {},
     "output_type": "display_data"
    },
    {
     "data": {
      "text/html": [
       "1399154 <a href=https://bugs.launchpad.net/bugs/1399154>    Disable auto-reload</a><br>- Triaged / Medium / fuel-docs / 8.0<br>- [fuel-web]"
      ],
      "text/plain": [
       "<IPython.core.display.HTML at 0x113982bd0>"
      ]
     },
     "metadata": {},
     "output_type": "display_data"
    },
    {
     "data": {
      "text/html": [
       "1399569 <a href=https://bugs.launchpad.net/bugs/1399569>Cant stop net_probe.py execution</a><br>- Confirmed / Medium / fuel-python / 8.0<br>- [known-issue module-netcheck qa-agree-7.0]"
      ],
      "text/plain": [
       "<IPython.core.display.HTML at 0x113982310>"
      ]
     },
     "metadata": {},
     "output_type": "display_data"
    },
    {
     "data": {
      "text/html": [
       "1399608 <a href=https://bugs.launchpad.net/bugs/1399608>Fuel CLI failed to execute 'fuel --fuel-version' if keystone password was changed from default</a><br>- Confirmed / Medium / vsharshov / 8.0<br>- [module-client release-notes]"
      ],
      "text/plain": [
       "<IPython.core.display.HTML at 0x11396bcd0>"
      ]
     },
     "metadata": {},
     "output_type": "display_data"
    },
    {
     "data": {
      "text/html": [
       "1401562 <a href=https://bugs.launchpad.net/bugs/1401562>Atop binary file corruption after the node recieved a hot shutdown</a><br>- Triaged / Medium / fuel-docs / 8.0<br>- [release-notes]"
      ],
      "text/plain": [
       "<IPython.core.display.HTML at 0x11396b110>"
      ]
     },
     "metadata": {},
     "output_type": "display_data"
    },
    {
     "data": {
      "text/html": [
       "1403036 <a href=https://bugs.launchpad.net/bugs/1403036>[docs] No Python version info in the documentation</a><br>- Confirmed / Medium / fuel-qa / 8.0<br>- [non-release]"
      ],
      "text/plain": [
       "<IPython.core.display.HTML at 0x1139f1cd0>"
      ]
     },
     "metadata": {},
     "output_type": "display_data"
    },
    {
     "data": {
      "text/html": [
       "1403939 <a href=https://bugs.launchpad.net/bugs/1403939>Button \"Deploy Changes\" is enabled after deployment. If you click on it - 400 bad request</a><br>- Confirmed / Medium / fuel-python / 8.0<br>- [feature-hardware-change known-issue qa-agree-7.0]"
      ],
      "text/plain": [
       "<IPython.core.display.HTML at 0x1138de150>"
      ]
     },
     "metadata": {},
     "output_type": "display_data"
    },
    {
     "data": {
      "text/html": [
       "1404847 <a href=https://bugs.launchpad.net/bugs/1404847>Monitor jenkins connectivity with it's swarm slaves</a><br>- Confirmed / Medium / fuel-ci / 8.0<br>- [jenkins monitoring non-release puppet]"
      ],
      "text/plain": [
       "<IPython.core.display.HTML at 0x1138de950>"
      ]
     },
     "metadata": {},
     "output_type": "display_data"
    },
    {
     "data": {
      "text/html": [
       "1405265 <a href=https://bugs.launchpad.net/bugs/1405265>nailgun agent with multipath stops working</a><br>- Confirmed / Medium / fuel-python / 8.0<br>- []"
      ],
      "text/plain": [
       "<IPython.core.display.HTML at 0x1129c78d0>"
      ]
     },
     "metadata": {},
     "output_type": "display_data"
    },
    {
     "data": {
      "text/html": [
       "1405391 <a href=https://bugs.launchpad.net/bugs/1405391>[VBox] Boot failed: press a key to retry or wait to reset</a><br>- Confirmed / Medium / sovsianikov / 8.0<br>- []"
      ],
      "text/plain": [
       "<IPython.core.display.HTML at 0x10fff4790>"
      ]
     },
     "metadata": {},
     "output_type": "display_data"
    },
    {
     "data": {
      "text/html": [
       "1406313 <a href=https://bugs.launchpad.net/bugs/1406313>[doc] We should decribe how to manually recover ha cluster with 3 controllers if 2 of them die</a><br>- Triaged / Medium / fuel-docs / 8.0<br>- []"
      ],
      "text/plain": [
       "<IPython.core.display.HTML at 0x113d15f90>"
      ]
     },
     "metadata": {},
     "output_type": "display_data"
    },
    {
     "data": {
      "text/html": [
       "1407307 <a href=https://bugs.launchpad.net/bugs/1407307>Ceph backed openstack without selecting \"use qcow images\" still deploys cirros image in qcow format.</a><br>- Confirmed / Medium / mos-ceph / 8.0<br>- []"
      ],
      "text/plain": [
       "<IPython.core.display.HTML at 0x10ffc5b90>"
      ]
     },
     "metadata": {},
     "output_type": "display_data"
    },
    {
     "data": {
      "text/html": [
       "1408792 <a href=https://bugs.launchpad.net/bugs/1408792>Gaps in the documentation regarding MOS security</a><br>- Confirmed / Medium / fuel-docs / 8.0<br>- [qa-agree-7.0]"
      ],
      "text/plain": [
       "<IPython.core.display.HTML at 0x113ce77d0>"
      ]
     },
     "metadata": {},
     "output_type": "display_data"
    },
    {
     "data": {
      "text/html": [
       "1410316 <a href=https://bugs.launchpad.net/bugs/1410316>[ui] At least one controller is required to redeploy environment</a><br>- Confirmed / Medium / fuel-ui / 8.0<br>- [qa-agree-7.0 release-notes ui]"
      ],
      "text/plain": [
       "<IPython.core.display.HTML at 0x113ce7c50>"
      ]
     },
     "metadata": {},
     "output_type": "display_data"
    },
    {
     "data": {
      "text/html": [
       "1412828 <a href=https://bugs.launchpad.net/bugs/1412828>Create mirrors.</a><br>- Confirmed / Medium / mrasskazov / 8.0<br>- [mirrors non-release osci]"
      ],
      "text/plain": [
       "<IPython.core.display.HTML at 0x112877950>"
      ]
     },
     "metadata": {},
     "output_type": "display_data"
    },
    {
     "data": {
      "text/html": [
       "1413157 <a href=https://bugs.launchpad.net/bugs/1413157>Package iptstate is missing from CentOS repository</a><br>- Triaged / Medium / amogylchenko / 8.0<br>- [zabbix]"
      ],
      "text/plain": [
       "<IPython.core.display.HTML at 0x113ce70d0>"
      ]
     },
     "metadata": {},
     "output_type": "display_data"
    },
    {
     "data": {
      "text/html": [
       "1414034 <a href=https://bugs.launchpad.net/bugs/1414034>Packaging workflow - revert is not possible without manual intervention</a><br>- Triaged / Medium / fuel-build / 8.0<br>- []"
      ],
      "text/plain": [
       "<IPython.core.display.HTML at 0x10ffc5b50>"
      ]
     },
     "metadata": {},
     "output_type": "display_data"
    },
    {
     "data": {
      "text/html": [
       "1415425 <a href=https://bugs.launchpad.net/bugs/1415425>Update and verify BASE_VERSION parameter in all stable branches</a><br>- Confirmed / Medium / fuel-build / 8.0<br>- [known-issue module-build non-release]"
      ],
      "text/plain": [
       "<IPython.core.display.HTML at 0x113d15590>"
      ]
     },
     "metadata": {},
     "output_type": "display_data"
    },
    {
     "data": {
      "text/html": [
       "1415552 <a href=https://bugs.launchpad.net/bugs/1415552>Public still shows as a network in Configure Interfaces for Computes even when disabled in settings</a><br>- Confirmed / Medium / fuel-python / 8.0<br>- [feature-advanced-networking known-issue qa-agree-7.0 release-notes]"
      ],
      "text/plain": [
       "<IPython.core.display.HTML at 0x113c6fed0>"
      ]
     },
     "metadata": {},
     "output_type": "display_data"
    },
    {
     "data": {
      "text/html": [
       "1417571 <a href=https://bugs.launchpad.net/bugs/1417571>Log formatters aren't applied when Syslog logging is enabled</a><br>- Triaged / Medium / fuel-library / 8.0<br>- [feature-logging known-issue]"
      ],
      "text/plain": [
       "<IPython.core.display.HTML at 0x113865850>"
      ]
     },
     "metadata": {},
     "output_type": "display_data"
    },
    {
     "data": {
      "text/html": [
       "1417946 <a href=https://bugs.launchpad.net/bugs/1417946>    Add 'notifications' argument</a><br>- Triaged / Medium / fuel-docs / 8.0<br>- [python-fuelclient]"
      ],
      "text/plain": [
       "<IPython.core.display.HTML at 0x1138de210>"
      ]
     },
     "metadata": {},
     "output_type": "display_data"
    },
    {
     "data": {
      "text/html": [
       "1418409 <a href=https://bugs.launchpad.net/bugs/1418409>    Add 'token' option for easy token retrieval</a><br>- Triaged / Medium / fuel-docs / 8.0<br>- [python-fuelclient]"
      ],
      "text/plain": [
       "<IPython.core.display.HTML at 0x1138de050>"
      ]
     },
     "metadata": {},
     "output_type": "display_data"
    },
    {
     "data": {
      "text/html": [
       "1419201 <a href=https://bugs.launchpad.net/bugs/1419201>deploying single-controller-ha doesn't generate primary-controller in hiera</a><br>- Triaged / Medium / fuel-python / 8.0<br>- [module-serialization release-notes]"
      ],
      "text/plain": [
       "<IPython.core.display.HTML at 0x1139f1e90>"
      ]
     },
     "metadata": {},
     "output_type": "display_data"
    },
    {
     "data": {
      "text/html": [
       "1419826 <a href=https://bugs.launchpad.net/bugs/1419826>[osci] Jenkins jobs doesn't exist in repo</a><br>- Triaged / Medium / asilenkov / 8.0<br>- [non-release osci]"
      ],
      "text/plain": [
       "<IPython.core.display.HTML at 0x11396b710>"
      ]
     },
     "metadata": {},
     "output_type": "display_data"
    },
    {
     "data": {
      "text/html": [
       "1420701 <a href=https://bugs.launchpad.net/bugs/1420701>Fuel CLI settings download/upload. File not parsed for syntax and data</a><br>- Confirmed / Medium / fuel-python / 8.0<br>- [feature-validation known-issue module-client qa-agree-7.0 release-notes]"
      ],
      "text/plain": [
       "<IPython.core.display.HTML at 0x11396b6d0>"
      ]
     },
     "metadata": {},
     "output_type": "display_data"
    },
    {
     "data": {
      "text/html": [
       "1421179 <a href=https://bugs.launchpad.net/bugs/1421179>Docs. No description of  heat-engine in reference-architecture.html#multi-node-with-ha-deployment</a><br>- Triaged / Medium / fuel-docs / 8.0<br>- [ha]"
      ],
      "text/plain": [
       "<IPython.core.display.HTML at 0x113982e50>"
      ]
     },
     "metadata": {},
     "output_type": "display_data"
    },
    {
     "data": {
      "text/html": [
       "1422435 <a href=https://bugs.launchpad.net/bugs/1422435>No feedback between fuel ui and granular deployment</a><br>- Confirmed / Medium / fuel-python / 8.0<br>- [known-issue module-tasks qa-agree-7.0 release-notes]"
      ],
      "text/plain": [
       "<IPython.core.display.HTML at 0x113982890>"
      ]
     },
     "metadata": {},
     "output_type": "display_data"
    },
    {
     "data": {
      "text/html": [
       "1423505 <a href=https://bugs.launchpad.net/bugs/1423505>    Added --tenant option for keystone authentication</a><br>- Triaged / Medium / fuel-docs / 8.0<br>- [python-fuelclient]"
      ],
      "text/plain": [
       "<IPython.core.display.HTML at 0x11396b310>"
      ]
     },
     "metadata": {},
     "output_type": "display_data"
    },
    {
     "data": {
      "text/html": [
       "1423846 <a href=https://bugs.launchpad.net/bugs/1423846>Include nailgun performance tests into BVT</a><br>- Triaged / Medium / fuel-qa / 8.0<br>- [bvt fuel-ci non-release qa-agree-7.0]"
      ],
      "text/plain": [
       "<IPython.core.display.HTML at 0x11396bf10>"
      ]
     },
     "metadata": {},
     "output_type": "display_data"
    },
    {
     "data": {
      "text/html": [
       "1424295 <a href=https://bugs.launchpad.net/bugs/1424295>granular graph re-runs completed tasks with multiple roles</a><br>- Confirmed / Medium / fuel-python / 8.0<br>- [known-issue module-tasks qa-agree-7.0 release-notes]"
      ],
      "text/plain": [
       "<IPython.core.display.HTML at 0x1139f1e50>"
      ]
     },
     "metadata": {},
     "output_type": "display_data"
    },
    {
     "data": {
      "text/html": [
       "1424654 <a href=https://bugs.launchpad.net/bugs/1424654>    Add way to run Python tests</a><br>- Triaged / Medium / fuel-docs / 8.0<br>- [fuel-library]"
      ],
      "text/plain": [
       "<IPython.core.display.HTML at 0x1138de590>"
      ]
     },
     "metadata": {},
     "output_type": "display_data"
    },
    {
     "data": {
      "text/html": [
       "1427563 <a href=https://bugs.launchpad.net/bugs/1427563>[ui] It is possible to get network verification result for the one node only</a><br>- Confirmed / Medium / fuel-ui / 8.0<br>- [module-netcheck qa-agree-7.0 tricky ui]"
      ],
      "text/plain": [
       "<IPython.core.display.HTML at 0x113865c50>"
      ]
     },
     "metadata": {},
     "output_type": "display_data"
    },
    {
     "data": {
      "text/html": [
       "1427569 <a href=https://bugs.launchpad.net/bugs/1427569>[ui] Unexpected deletion of network verification task result</a><br>- Confirmed / Medium / fuel-ui / 8.0<br>- [module-netcheck qa-agree-7.0 tricky ui]"
      ],
      "text/plain": [
       "<IPython.core.display.HTML at 0x1129c7f50>"
      ]
     },
     "metadata": {},
     "output_type": "display_data"
    },
    {
     "data": {
      "text/html": [
       "1427579 <a href=https://bugs.launchpad.net/bugs/1427579>[doc] Frontend part for verification tasks change</a><br>- Triaged / Medium / fuel-docs / 8.0<br>- [fuel-web]"
      ],
      "text/plain": [
       "<IPython.core.display.HTML at 0x10fff43d0>"
      ]
     },
     "metadata": {},
     "output_type": "display_data"
    },
    {
     "data": {
      "text/html": [
       "1427581 <a href=https://bugs.launchpad.net/bugs/1427581>It is need to create tests for post deploy vcenter hook</a><br>- Confirmed / Medium / igajsin / 8.0<br>- [fuel-library non-release partner python script]"
      ],
      "text/plain": [
       "<IPython.core.display.HTML at 0x10ffc5550>"
      ]
     },
     "metadata": {},
     "output_type": "display_data"
    },
    {
     "ename": "KeyboardInterrupt",
     "evalue": "",
     "output_type": "error",
     "traceback": [
      "\u001b[0;31m---------------------------------------------------------------------------\u001b[0m\n\u001b[0;31mKeyboardInterrupt\u001b[0m                         Traceback (most recent call last)",
      "\u001b[0;32m<ipython-input-37-3b9729a76c4f>\u001b[0m in \u001b[0;36m<module>\u001b[0;34m()\u001b[0m\n\u001b[1;32m      1\u001b[0m \u001b[0msearch_tags\u001b[0m \u001b[0;34m=\u001b[0m \u001b[0mmap\u001b[0m\u001b[0;34m(\u001b[0m\u001b[0;32mlambda\u001b[0m \u001b[0mx\u001b[0m\u001b[0;34m:\u001b[0m \u001b[0;34m\"-\"\u001b[0m \u001b[0;34m+\u001b[0m \u001b[0mx\u001b[0m\u001b[0;34m,\u001b[0m \u001b[0mimportant_tags\u001b[0m \u001b[0;34m+\u001b[0m \u001b[0mexcluded_tags\u001b[0m \u001b[0;34m+\u001b[0m \u001b[0;34m[\u001b[0m\u001b[0;34m'tech-debt'\u001b[0m\u001b[0;34m]\u001b[0m\u001b[0;34m)\u001b[0m\u001b[0;34m\u001b[0m\u001b[0m\n\u001b[1;32m      2\u001b[0m \u001b[0;32mfor\u001b[0m \u001b[0mbt\u001b[0m \u001b[0;32min\u001b[0m \u001b[0mprj\u001b[0m\u001b[0;34m.\u001b[0m\u001b[0msearchTasks\u001b[0m\u001b[0;34m(\u001b[0m\u001b[0mmilestone\u001b[0m\u001b[0;34m=\u001b[0m\u001b[0mcur_ms\u001b[0m\u001b[0;34m,\u001b[0m \u001b[0mstatus\u001b[0m\u001b[0;34m=\u001b[0m\u001b[0mopen_statuses\u001b[0m\u001b[0;34m,\u001b[0m \u001b[0mtags\u001b[0m\u001b[0;34m=\u001b[0m\u001b[0msearch_tags\u001b[0m\u001b[0;34m,\u001b[0m \u001b[0mtags_combinator\u001b[0m\u001b[0;34m=\u001b[0m\u001b[0;34m'All'\u001b[0m\u001b[0;34m,\u001b[0m \u001b[0mimportance\u001b[0m\u001b[0;34m=\u001b[0m\u001b[0mlow_priority\u001b[0m\u001b[0;34m)\u001b[0m\u001b[0;34m:\u001b[0m\u001b[0;34m\u001b[0m\u001b[0m\n\u001b[0;32m----> 3\u001b[0;31m     \u001b[0mdisplay_bug\u001b[0m\u001b[0;34m(\u001b[0m\u001b[0mbt\u001b[0m\u001b[0;34m.\u001b[0m\u001b[0mbug\u001b[0m\u001b[0;34m)\u001b[0m\u001b[0;34m\u001b[0m\u001b[0m\n\u001b[0m",
      "\u001b[0;32m<ipython-input-33-badbcc88f503>\u001b[0m in \u001b[0;36mdisplay_bug\u001b[0;34m(bug)\u001b[0m\n\u001b[1;32m     23\u001b[0m         \u001b[0;32mreturn\u001b[0m \u001b[0mt\u001b[0m\u001b[0;34m\u001b[0m\u001b[0m\n\u001b[1;32m     24\u001b[0m     display(HTML(\"{id} <a href={link}>{title}</a><br>- {status} / {priority} / {assignee} / {ms}<br>- [{tags}]\".format(\n\u001b[0;32m---> 25\u001b[0;31m         \u001b[0mid\u001b[0m\u001b[0;34m=\u001b[0m\u001b[0mbug\u001b[0m\u001b[0;34m.\u001b[0m\u001b[0mid\u001b[0m\u001b[0;34m,\u001b[0m \u001b[0mlink\u001b[0m\u001b[0;34m=\u001b[0m\u001b[0mbug\u001b[0m\u001b[0;34m.\u001b[0m\u001b[0mweb_link\u001b[0m\u001b[0;34m,\u001b[0m \u001b[0mtitle\u001b[0m\u001b[0;34m=\u001b[0m\u001b[0mbug\u001b[0m\u001b[0;34m.\u001b[0m\u001b[0mtitle\u001b[0m\u001b[0;34m,\u001b[0m \u001b[0mstatus\u001b[0m\u001b[0;34m=\u001b[0m\u001b[0mbug\u001b[0m\u001b[0;34m.\u001b[0m\u001b[0mbug_tasks\u001b[0m\u001b[0;34m[\u001b[0m\u001b[0;36m0\u001b[0m\u001b[0;34m]\u001b[0m\u001b[0;34m.\u001b[0m\u001b[0mstatus\u001b[0m\u001b[0;34m,\u001b[0m\u001b[0;34m\u001b[0m\u001b[0m\n\u001b[0m\u001b[1;32m     26\u001b[0m         \u001b[0massignee\u001b[0m\u001b[0;34m=\u001b[0m\u001b[0mbug\u001b[0m\u001b[0;34m.\u001b[0m\u001b[0mbug_tasks\u001b[0m\u001b[0;34m[\u001b[0m\u001b[0;36m0\u001b[0m\u001b[0;34m]\u001b[0m\u001b[0;34m.\u001b[0m\u001b[0massignee\u001b[0m\u001b[0;34m.\u001b[0m\u001b[0mname\u001b[0m\u001b[0;34m,\u001b[0m \u001b[0mms\u001b[0m\u001b[0;34m=\u001b[0m\u001b[0mbug\u001b[0m\u001b[0;34m.\u001b[0m\u001b[0mbug_tasks\u001b[0m\u001b[0;34m[\u001b[0m\u001b[0;36m0\u001b[0m\u001b[0;34m]\u001b[0m\u001b[0;34m.\u001b[0m\u001b[0mmilestone\u001b[0m\u001b[0;34m.\u001b[0m\u001b[0mname\u001b[0m\u001b[0;34m,\u001b[0m\u001b[0;34m\u001b[0m\u001b[0m\n\u001b[1;32m     27\u001b[0m         \u001b[0mpriority\u001b[0m\u001b[0;34m=\u001b[0m\u001b[0mbug\u001b[0m\u001b[0;34m.\u001b[0m\u001b[0mbug_tasks\u001b[0m\u001b[0;34m[\u001b[0m\u001b[0;36m0\u001b[0m\u001b[0;34m]\u001b[0m\u001b[0;34m.\u001b[0m\u001b[0mimportance\u001b[0m\u001b[0;34m,\u001b[0m\u001b[0;34m\u001b[0m\u001b[0m\n",
      "\u001b[0;32m/Users/dima/.venv/lib/python2.7/site-packages/lazr/restfulclient/resource.pyc\u001b[0m in \u001b[0;36m__getitem__\u001b[0;34m(self, key)\u001b[0m\n\u001b[1;32m    817\u001b[0m         \u001b[0;32melse\u001b[0m\u001b[0;34m:\u001b[0m\u001b[0;34m\u001b[0m\u001b[0m\n\u001b[1;32m    818\u001b[0m             \u001b[0;31m# Look up a single item by its position in the list.\u001b[0m\u001b[0;34m\u001b[0m\u001b[0;34m\u001b[0m\u001b[0m\n\u001b[0;32m--> 819\u001b[0;31m             \u001b[0mfound_slice\u001b[0m \u001b[0;34m=\u001b[0m \u001b[0mself\u001b[0m\u001b[0;34m.\u001b[0m\u001b[0m_get_slice\u001b[0m\u001b[0;34m(\u001b[0m\u001b[0mslice\u001b[0m\u001b[0;34m(\u001b[0m\u001b[0mkey\u001b[0m\u001b[0;34m,\u001b[0m \u001b[0mkey\u001b[0m \u001b[0;34m+\u001b[0m \u001b[0;36m1\u001b[0m\u001b[0;34m)\u001b[0m\u001b[0;34m)\u001b[0m\u001b[0;34m\u001b[0m\u001b[0m\n\u001b[0m\u001b[1;32m    820\u001b[0m             \u001b[0;32mif\u001b[0m \u001b[0mlen\u001b[0m\u001b[0;34m(\u001b[0m\u001b[0mfound_slice\u001b[0m\u001b[0;34m)\u001b[0m \u001b[0;34m!=\u001b[0m \u001b[0;36m1\u001b[0m\u001b[0;34m:\u001b[0m\u001b[0;34m\u001b[0m\u001b[0m\n\u001b[1;32m    821\u001b[0m                 \u001b[0;32mraise\u001b[0m \u001b[0mIndexError\u001b[0m\u001b[0;34m(\u001b[0m\u001b[0;34m\"list index out of range\"\u001b[0m\u001b[0;34m)\u001b[0m\u001b[0;34m\u001b[0m\u001b[0m\n",
      "\u001b[0;32m/Users/dima/.venv/lib/python2.7/site-packages/lazr/restfulclient/resource.pyc\u001b[0m in \u001b[0;36m_get_slice\u001b[0;34m(self, slice)\u001b[0m\n\u001b[1;32m    875\u001b[0m         \u001b[0;32mwhile\u001b[0m \u001b[0mmore_needed\u001b[0m \u001b[0;34m>\u001b[0m \u001b[0;36m0\u001b[0m \u001b[0;32mand\u001b[0m \u001b[0mpage_url\u001b[0m \u001b[0;32mis\u001b[0m \u001b[0;32mnot\u001b[0m \u001b[0mNone\u001b[0m\u001b[0;34m:\u001b[0m\u001b[0;34m\u001b[0m\u001b[0m\n\u001b[1;32m    876\u001b[0m             representation = simplejson.loads(\n\u001b[0;32m--> 877\u001b[0;31m                 unicode(self._root._browser.get(page_url)))\n\u001b[0m\u001b[1;32m    878\u001b[0m             \u001b[0mcurrent_page_entries\u001b[0m \u001b[0;34m=\u001b[0m \u001b[0mrepresentation\u001b[0m\u001b[0;34m[\u001b[0m\u001b[0;34m'entries'\u001b[0m\u001b[0;34m]\u001b[0m\u001b[0;34m\u001b[0m\u001b[0m\n\u001b[1;32m    879\u001b[0m             \u001b[0mentry_dicts\u001b[0m \u001b[0;34m+=\u001b[0m \u001b[0mcurrent_page_entries\u001b[0m\u001b[0;34m[\u001b[0m\u001b[0;34m:\u001b[0m\u001b[0mmore_needed\u001b[0m\u001b[0;34m]\u001b[0m\u001b[0;34m\u001b[0m\u001b[0m\n",
      "\u001b[0;32m/Users/dima/.venv/lib/python2.7/site-packages/lazr/restfulclient/_browser.pyc\u001b[0m in \u001b[0;36mget\u001b[0;34m(self, resource_or_uri, headers, return_response)\u001b[0m\n\u001b[1;32m    416\u001b[0m             \u001b[0mmethod\u001b[0m \u001b[0;34m=\u001b[0m \u001b[0mresource_or_uri\u001b[0m\u001b[0;34m.\u001b[0m\u001b[0mget_method\u001b[0m\u001b[0;34m(\u001b[0m\u001b[0;34m'get'\u001b[0m\u001b[0;34m)\u001b[0m\u001b[0;34m\u001b[0m\u001b[0m\n\u001b[1;32m    417\u001b[0m             \u001b[0murl\u001b[0m \u001b[0;34m=\u001b[0m \u001b[0mmethod\u001b[0m\u001b[0;34m.\u001b[0m\u001b[0mbuild_request_url\u001b[0m\u001b[0;34m(\u001b[0m\u001b[0;34m)\u001b[0m\u001b[0;34m\u001b[0m\u001b[0m\n\u001b[0;32m--> 418\u001b[0;31m         \u001b[0mresponse\u001b[0m\u001b[0;34m,\u001b[0m \u001b[0mcontent\u001b[0m \u001b[0;34m=\u001b[0m \u001b[0mself\u001b[0m\u001b[0;34m.\u001b[0m\u001b[0m_request\u001b[0m\u001b[0;34m(\u001b[0m\u001b[0murl\u001b[0m\u001b[0;34m,\u001b[0m \u001b[0mextra_headers\u001b[0m\u001b[0;34m=\u001b[0m\u001b[0mheaders\u001b[0m\u001b[0;34m)\u001b[0m\u001b[0;34m\u001b[0m\u001b[0m\n\u001b[0m\u001b[1;32m    419\u001b[0m         \u001b[0;32mif\u001b[0m \u001b[0mreturn_response\u001b[0m\u001b[0;34m:\u001b[0m\u001b[0;34m\u001b[0m\u001b[0m\n\u001b[1;32m    420\u001b[0m             \u001b[0;32mreturn\u001b[0m \u001b[0;34m(\u001b[0m\u001b[0mresponse\u001b[0m\u001b[0;34m,\u001b[0m \u001b[0mcontent\u001b[0m\u001b[0;34m)\u001b[0m\u001b[0;34m\u001b[0m\u001b[0m\n",
      "\u001b[0;32m/Users/dima/.venv/lib/python2.7/site-packages/lazr/restfulclient/_browser.pyc\u001b[0m in \u001b[0;36m_request\u001b[0;34m(self, url, data, method, media_type, extra_headers)\u001b[0m\n\u001b[1;32m    359\u001b[0m         \u001b[0;32mtry\u001b[0m\u001b[0;34m:\u001b[0m\u001b[0;34m\u001b[0m\u001b[0m\n\u001b[1;32m    360\u001b[0m             response, content = self._request_and_retry(\n\u001b[0;32m--> 361\u001b[0;31m                 str(url), method=method, body=data, headers=headers)\n\u001b[0m\u001b[1;32m    362\u001b[0m         \u001b[0;32mexcept\u001b[0m \u001b[0mSSLHandshakeError\u001b[0m\u001b[0;34m,\u001b[0m \u001b[0me\u001b[0m\u001b[0;34m:\u001b[0m\u001b[0;34m\u001b[0m\u001b[0m\n\u001b[1;32m    363\u001b[0m             \u001b[0mmsg\u001b[0m \u001b[0;34m=\u001b[0m \u001b[0mstr\u001b[0m\u001b[0;34m(\u001b[0m\u001b[0me\u001b[0m\u001b[0;34m)\u001b[0m\u001b[0;34m\u001b[0m\u001b[0m\n",
      "\u001b[0;32m/Users/dima/.venv/lib/python2.7/site-packages/lazr/restfulclient/_browser.pyc\u001b[0m in \u001b[0;36m_request_and_retry\u001b[0;34m(self, url, method, body, headers)\u001b[0m\n\u001b[1;32m    327\u001b[0m         \u001b[0;32mfor\u001b[0m \u001b[0mretry_count\u001b[0m \u001b[0;32min\u001b[0m \u001b[0mrange\u001b[0m\u001b[0;34m(\u001b[0m\u001b[0;36m0\u001b[0m\u001b[0;34m,\u001b[0m \u001b[0mself\u001b[0m\u001b[0;34m.\u001b[0m\u001b[0mmax_retries\u001b[0m\u001b[0;34m+\u001b[0m\u001b[0;36m1\u001b[0m\u001b[0;34m)\u001b[0m\u001b[0;34m:\u001b[0m\u001b[0;34m\u001b[0m\u001b[0m\n\u001b[1;32m    328\u001b[0m             response, content = self._connection.request(\n\u001b[0;32m--> 329\u001b[0;31m                 url, method=method, body=body, headers=headers)\n\u001b[0m\u001b[1;32m    330\u001b[0m             if (response.status in [502, 503]\n\u001b[1;32m    331\u001b[0m                 and retry_count < self.max_retries):\n",
      "\u001b[0;32m/Users/dima/.venv/lib/python2.7/site-packages/httplib2/__init__.pyc\u001b[0m in \u001b[0;36mrequest\u001b[0;34m(self, uri, method, body, headers, redirections, connection_type)\u001b[0m\n\u001b[1;32m   1576\u001b[0m                         \u001b[0;32mpass\u001b[0m\u001b[0;34m\u001b[0m\u001b[0m\n\u001b[1;32m   1577\u001b[0m \u001b[0;34m\u001b[0m\u001b[0m\n\u001b[0;32m-> 1578\u001b[0;31m                     \u001b[0;34m(\u001b[0m\u001b[0mresponse\u001b[0m\u001b[0;34m,\u001b[0m \u001b[0mnew_content\u001b[0m\u001b[0;34m)\u001b[0m \u001b[0;34m=\u001b[0m \u001b[0mself\u001b[0m\u001b[0;34m.\u001b[0m\u001b[0m_request\u001b[0m\u001b[0;34m(\u001b[0m\u001b[0mconn\u001b[0m\u001b[0;34m,\u001b[0m \u001b[0mauthority\u001b[0m\u001b[0;34m,\u001b[0m \u001b[0muri\u001b[0m\u001b[0;34m,\u001b[0m \u001b[0mrequest_uri\u001b[0m\u001b[0;34m,\u001b[0m \u001b[0mmethod\u001b[0m\u001b[0;34m,\u001b[0m \u001b[0mbody\u001b[0m\u001b[0;34m,\u001b[0m \u001b[0mheaders\u001b[0m\u001b[0;34m,\u001b[0m \u001b[0mredirections\u001b[0m\u001b[0;34m,\u001b[0m \u001b[0mcachekey\u001b[0m\u001b[0;34m)\u001b[0m\u001b[0;34m\u001b[0m\u001b[0m\n\u001b[0m\u001b[1;32m   1579\u001b[0m \u001b[0;34m\u001b[0m\u001b[0m\n\u001b[1;32m   1580\u001b[0m                 \u001b[0;32mif\u001b[0m \u001b[0mresponse\u001b[0m\u001b[0;34m.\u001b[0m\u001b[0mstatus\u001b[0m \u001b[0;34m==\u001b[0m \u001b[0;36m304\u001b[0m \u001b[0;32mand\u001b[0m \u001b[0mmethod\u001b[0m \u001b[0;34m==\u001b[0m \u001b[0;34m\"GET\"\u001b[0m\u001b[0;34m:\u001b[0m\u001b[0;34m\u001b[0m\u001b[0m\n",
      "\u001b[0;32m/Users/dima/.venv/lib/python2.7/site-packages/launchpadlib/launchpad.pyc\u001b[0m in \u001b[0;36m_request\u001b[0;34m(self, *args)\u001b[0m\n\u001b[1;32m    124\u001b[0m     \u001b[0;32mdef\u001b[0m \u001b[0m_request\u001b[0m\u001b[0;34m(\u001b[0m\u001b[0mself\u001b[0m\u001b[0;34m,\u001b[0m \u001b[0;34m*\u001b[0m\u001b[0margs\u001b[0m\u001b[0;34m)\u001b[0m\u001b[0;34m:\u001b[0m\u001b[0;34m\u001b[0m\u001b[0m\n\u001b[1;32m    125\u001b[0m         response, content = super(\n\u001b[0;32m--> 126\u001b[0;31m             LaunchpadOAuthAwareHttp, self)._request(*args)\n\u001b[0m\u001b[1;32m    127\u001b[0m         \u001b[0;32mreturn\u001b[0m \u001b[0mself\u001b[0m\u001b[0;34m.\u001b[0m\u001b[0mretry_on_bad_token\u001b[0m\u001b[0;34m(\u001b[0m\u001b[0mresponse\u001b[0m\u001b[0;34m,\u001b[0m \u001b[0mcontent\u001b[0m\u001b[0;34m,\u001b[0m \u001b[0;34m*\u001b[0m\u001b[0margs\u001b[0m\u001b[0;34m)\u001b[0m\u001b[0;34m\u001b[0m\u001b[0m\n\u001b[1;32m    128\u001b[0m \u001b[0;34m\u001b[0m\u001b[0m\n",
      "\u001b[0;32m/Users/dima/.venv/lib/python2.7/site-packages/lazr/restfulclient/_browser.pyc\u001b[0m in \u001b[0;36m_request\u001b[0;34m(self, conn, host, absolute_uri, request_uri, method, body, headers, redirections, cachekey)\u001b[0m\n\u001b[1;32m    154\u001b[0m         return super(RestfulHttp, self)._request(\n\u001b[1;32m    155\u001b[0m             \u001b[0mconn\u001b[0m\u001b[0;34m,\u001b[0m \u001b[0mhost\u001b[0m\u001b[0;34m,\u001b[0m \u001b[0mabsolute_uri\u001b[0m\u001b[0;34m,\u001b[0m \u001b[0mrequest_uri\u001b[0m\u001b[0;34m,\u001b[0m \u001b[0mmethod\u001b[0m\u001b[0;34m,\u001b[0m \u001b[0mbody\u001b[0m\u001b[0;34m,\u001b[0m \u001b[0mheaders\u001b[0m\u001b[0;34m,\u001b[0m\u001b[0;34m\u001b[0m\u001b[0m\n\u001b[0;32m--> 156\u001b[0;31m             redirections, cachekey)\n\u001b[0m\u001b[1;32m    157\u001b[0m \u001b[0;34m\u001b[0m\u001b[0m\n\u001b[1;32m    158\u001b[0m     \u001b[0;32mdef\u001b[0m \u001b[0m_getCachedHeader\u001b[0m\u001b[0;34m(\u001b[0m\u001b[0mself\u001b[0m\u001b[0;34m,\u001b[0m \u001b[0muri\u001b[0m\u001b[0;34m,\u001b[0m \u001b[0mheader\u001b[0m\u001b[0;34m)\u001b[0m\u001b[0;34m:\u001b[0m\u001b[0;34m\u001b[0m\u001b[0m\n",
      "\u001b[0;32m/Users/dima/.venv/lib/python2.7/site-packages/httplib2/__init__.pyc\u001b[0m in \u001b[0;36m_request\u001b[0;34m(self, conn, host, absolute_uri, request_uri, method, body, headers, redirections, cachekey)\u001b[0m\n\u001b[1;32m   1348\u001b[0m             \u001b[0mauth\u001b[0m\u001b[0;34m.\u001b[0m\u001b[0mrequest\u001b[0m\u001b[0;34m(\u001b[0m\u001b[0mmethod\u001b[0m\u001b[0;34m,\u001b[0m \u001b[0mrequest_uri\u001b[0m\u001b[0;34m,\u001b[0m \u001b[0mheaders\u001b[0m\u001b[0;34m,\u001b[0m \u001b[0mbody\u001b[0m\u001b[0;34m)\u001b[0m\u001b[0;34m\u001b[0m\u001b[0m\n\u001b[1;32m   1349\u001b[0m \u001b[0;34m\u001b[0m\u001b[0m\n\u001b[0;32m-> 1350\u001b[0;31m         \u001b[0;34m(\u001b[0m\u001b[0mresponse\u001b[0m\u001b[0;34m,\u001b[0m \u001b[0mcontent\u001b[0m\u001b[0;34m)\u001b[0m \u001b[0;34m=\u001b[0m \u001b[0mself\u001b[0m\u001b[0;34m.\u001b[0m\u001b[0m_conn_request\u001b[0m\u001b[0;34m(\u001b[0m\u001b[0mconn\u001b[0m\u001b[0;34m,\u001b[0m \u001b[0mrequest_uri\u001b[0m\u001b[0;34m,\u001b[0m \u001b[0mmethod\u001b[0m\u001b[0;34m,\u001b[0m \u001b[0mbody\u001b[0m\u001b[0;34m,\u001b[0m \u001b[0mheaders\u001b[0m\u001b[0;34m)\u001b[0m\u001b[0;34m\u001b[0m\u001b[0m\n\u001b[0m\u001b[1;32m   1351\u001b[0m \u001b[0;34m\u001b[0m\u001b[0m\n\u001b[1;32m   1352\u001b[0m         \u001b[0;32mif\u001b[0m \u001b[0mauth\u001b[0m\u001b[0;34m:\u001b[0m\u001b[0;34m\u001b[0m\u001b[0m\n",
      "\u001b[0;32m/Users/dima/.venv/lib/python2.7/site-packages/httplib2/__init__.pyc\u001b[0m in \u001b[0;36m_conn_request\u001b[0;34m(self, conn, request_uri, method, body, headers)\u001b[0m\n\u001b[1;32m   1304\u001b[0m                     \u001b[0;32mcontinue\u001b[0m\u001b[0;34m\u001b[0m\u001b[0m\n\u001b[1;32m   1305\u001b[0m             \u001b[0;32mtry\u001b[0m\u001b[0;34m:\u001b[0m\u001b[0;34m\u001b[0m\u001b[0m\n\u001b[0;32m-> 1306\u001b[0;31m                 \u001b[0mresponse\u001b[0m \u001b[0;34m=\u001b[0m \u001b[0mconn\u001b[0m\u001b[0;34m.\u001b[0m\u001b[0mgetresponse\u001b[0m\u001b[0;34m(\u001b[0m\u001b[0;34m)\u001b[0m\u001b[0;34m\u001b[0m\u001b[0m\n\u001b[0m\u001b[1;32m   1307\u001b[0m             \u001b[0;32mexcept\u001b[0m \u001b[0mhttplib\u001b[0m\u001b[0;34m.\u001b[0m\u001b[0mBadStatusLine\u001b[0m\u001b[0;34m:\u001b[0m\u001b[0;34m\u001b[0m\u001b[0m\n\u001b[1;32m   1308\u001b[0m                 \u001b[0;31m# If we get a BadStatusLine on the first try then that means\u001b[0m\u001b[0;34m\u001b[0m\u001b[0;34m\u001b[0m\u001b[0m\n",
      "\u001b[0;32m/System/Library/Frameworks/Python.framework/Versions/2.7/lib/python2.7/httplib.pyc\u001b[0m in \u001b[0;36mgetresponse\u001b[0;34m(self, buffering)\u001b[0m\n\u001b[1;32m   1130\u001b[0m \u001b[0;34m\u001b[0m\u001b[0m\n\u001b[1;32m   1131\u001b[0m         \u001b[0;32mtry\u001b[0m\u001b[0;34m:\u001b[0m\u001b[0;34m\u001b[0m\u001b[0m\n\u001b[0;32m-> 1132\u001b[0;31m             \u001b[0mresponse\u001b[0m\u001b[0;34m.\u001b[0m\u001b[0mbegin\u001b[0m\u001b[0;34m(\u001b[0m\u001b[0;34m)\u001b[0m\u001b[0;34m\u001b[0m\u001b[0m\n\u001b[0m\u001b[1;32m   1133\u001b[0m             \u001b[0;32massert\u001b[0m \u001b[0mresponse\u001b[0m\u001b[0;34m.\u001b[0m\u001b[0mwill_close\u001b[0m \u001b[0;34m!=\u001b[0m \u001b[0m_UNKNOWN\u001b[0m\u001b[0;34m\u001b[0m\u001b[0m\n\u001b[1;32m   1134\u001b[0m             \u001b[0mself\u001b[0m\u001b[0;34m.\u001b[0m\u001b[0m__state\u001b[0m \u001b[0;34m=\u001b[0m \u001b[0m_CS_IDLE\u001b[0m\u001b[0;34m\u001b[0m\u001b[0m\n",
      "\u001b[0;32m/System/Library/Frameworks/Python.framework/Versions/2.7/lib/python2.7/httplib.pyc\u001b[0m in \u001b[0;36mbegin\u001b[0;34m(self)\u001b[0m\n\u001b[1;32m    451\u001b[0m         \u001b[0;31m# read until we get a non-100 response\u001b[0m\u001b[0;34m\u001b[0m\u001b[0;34m\u001b[0m\u001b[0m\n\u001b[1;32m    452\u001b[0m         \u001b[0;32mwhile\u001b[0m \u001b[0mTrue\u001b[0m\u001b[0;34m:\u001b[0m\u001b[0;34m\u001b[0m\u001b[0m\n\u001b[0;32m--> 453\u001b[0;31m             \u001b[0mversion\u001b[0m\u001b[0;34m,\u001b[0m \u001b[0mstatus\u001b[0m\u001b[0;34m,\u001b[0m \u001b[0mreason\u001b[0m \u001b[0;34m=\u001b[0m \u001b[0mself\u001b[0m\u001b[0;34m.\u001b[0m\u001b[0m_read_status\u001b[0m\u001b[0;34m(\u001b[0m\u001b[0;34m)\u001b[0m\u001b[0;34m\u001b[0m\u001b[0m\n\u001b[0m\u001b[1;32m    454\u001b[0m             \u001b[0;32mif\u001b[0m \u001b[0mstatus\u001b[0m \u001b[0;34m!=\u001b[0m \u001b[0mCONTINUE\u001b[0m\u001b[0;34m:\u001b[0m\u001b[0;34m\u001b[0m\u001b[0m\n\u001b[1;32m    455\u001b[0m                 \u001b[0;32mbreak\u001b[0m\u001b[0;34m\u001b[0m\u001b[0m\n",
      "\u001b[0;32m/System/Library/Frameworks/Python.framework/Versions/2.7/lib/python2.7/httplib.pyc\u001b[0m in \u001b[0;36m_read_status\u001b[0;34m(self)\u001b[0m\n\u001b[1;32m    407\u001b[0m     \u001b[0;32mdef\u001b[0m \u001b[0m_read_status\u001b[0m\u001b[0;34m(\u001b[0m\u001b[0mself\u001b[0m\u001b[0;34m)\u001b[0m\u001b[0;34m:\u001b[0m\u001b[0;34m\u001b[0m\u001b[0m\n\u001b[1;32m    408\u001b[0m         \u001b[0;31m# Initialize with Simple-Response defaults\u001b[0m\u001b[0;34m\u001b[0m\u001b[0;34m\u001b[0m\u001b[0m\n\u001b[0;32m--> 409\u001b[0;31m         \u001b[0mline\u001b[0m \u001b[0;34m=\u001b[0m \u001b[0mself\u001b[0m\u001b[0;34m.\u001b[0m\u001b[0mfp\u001b[0m\u001b[0;34m.\u001b[0m\u001b[0mreadline\u001b[0m\u001b[0;34m(\u001b[0m\u001b[0m_MAXLINE\u001b[0m \u001b[0;34m+\u001b[0m \u001b[0;36m1\u001b[0m\u001b[0;34m)\u001b[0m\u001b[0;34m\u001b[0m\u001b[0m\n\u001b[0m\u001b[1;32m    410\u001b[0m         \u001b[0;32mif\u001b[0m \u001b[0mlen\u001b[0m\u001b[0;34m(\u001b[0m\u001b[0mline\u001b[0m\u001b[0;34m)\u001b[0m \u001b[0;34m>\u001b[0m \u001b[0m_MAXLINE\u001b[0m\u001b[0;34m:\u001b[0m\u001b[0;34m\u001b[0m\u001b[0m\n\u001b[1;32m    411\u001b[0m             \u001b[0;32mraise\u001b[0m \u001b[0mLineTooLong\u001b[0m\u001b[0;34m(\u001b[0m\u001b[0;34m\"header line\"\u001b[0m\u001b[0;34m)\u001b[0m\u001b[0;34m\u001b[0m\u001b[0m\n",
      "\u001b[0;32m/System/Library/Frameworks/Python.framework/Versions/2.7/lib/python2.7/socket.pyc\u001b[0m in \u001b[0;36mreadline\u001b[0;34m(self, size)\u001b[0m\n\u001b[1;32m    478\u001b[0m             \u001b[0;32mwhile\u001b[0m \u001b[0mTrue\u001b[0m\u001b[0;34m:\u001b[0m\u001b[0;34m\u001b[0m\u001b[0m\n\u001b[1;32m    479\u001b[0m                 \u001b[0;32mtry\u001b[0m\u001b[0;34m:\u001b[0m\u001b[0;34m\u001b[0m\u001b[0m\n\u001b[0;32m--> 480\u001b[0;31m                     \u001b[0mdata\u001b[0m \u001b[0;34m=\u001b[0m \u001b[0mself\u001b[0m\u001b[0;34m.\u001b[0m\u001b[0m_sock\u001b[0m\u001b[0;34m.\u001b[0m\u001b[0mrecv\u001b[0m\u001b[0;34m(\u001b[0m\u001b[0mself\u001b[0m\u001b[0;34m.\u001b[0m\u001b[0m_rbufsize\u001b[0m\u001b[0;34m)\u001b[0m\u001b[0;34m\u001b[0m\u001b[0m\n\u001b[0m\u001b[1;32m    481\u001b[0m                 \u001b[0;32mexcept\u001b[0m \u001b[0merror\u001b[0m\u001b[0;34m,\u001b[0m \u001b[0me\u001b[0m\u001b[0;34m:\u001b[0m\u001b[0;34m\u001b[0m\u001b[0m\n\u001b[1;32m    482\u001b[0m                     \u001b[0;32mif\u001b[0m \u001b[0me\u001b[0m\u001b[0;34m.\u001b[0m\u001b[0margs\u001b[0m\u001b[0;34m[\u001b[0m\u001b[0;36m0\u001b[0m\u001b[0;34m]\u001b[0m \u001b[0;34m==\u001b[0m \u001b[0mEINTR\u001b[0m\u001b[0;34m:\u001b[0m\u001b[0;34m\u001b[0m\u001b[0m\n",
      "\u001b[0;32m/System/Library/Frameworks/Python.framework/Versions/2.7/lib/python2.7/ssl.pyc\u001b[0m in \u001b[0;36mrecv\u001b[0;34m(self, buflen, flags)\u001b[0m\n\u001b[1;32m    732\u001b[0m                     \u001b[0;34m\"non-zero flags not allowed in calls to recv() on %s\"\u001b[0m \u001b[0;34m%\u001b[0m\u001b[0;34m\u001b[0m\u001b[0m\n\u001b[1;32m    733\u001b[0m                     self.__class__)\n\u001b[0;32m--> 734\u001b[0;31m             \u001b[0;32mreturn\u001b[0m \u001b[0mself\u001b[0m\u001b[0;34m.\u001b[0m\u001b[0mread\u001b[0m\u001b[0;34m(\u001b[0m\u001b[0mbuflen\u001b[0m\u001b[0;34m)\u001b[0m\u001b[0;34m\u001b[0m\u001b[0m\n\u001b[0m\u001b[1;32m    735\u001b[0m         \u001b[0;32melse\u001b[0m\u001b[0;34m:\u001b[0m\u001b[0;34m\u001b[0m\u001b[0m\n\u001b[1;32m    736\u001b[0m             \u001b[0;32mreturn\u001b[0m \u001b[0mself\u001b[0m\u001b[0;34m.\u001b[0m\u001b[0m_sock\u001b[0m\u001b[0;34m.\u001b[0m\u001b[0mrecv\u001b[0m\u001b[0;34m(\u001b[0m\u001b[0mbuflen\u001b[0m\u001b[0;34m,\u001b[0m \u001b[0mflags\u001b[0m\u001b[0;34m)\u001b[0m\u001b[0;34m\u001b[0m\u001b[0m\n",
      "\u001b[0;32m/System/Library/Frameworks/Python.framework/Versions/2.7/lib/python2.7/ssl.pyc\u001b[0m in \u001b[0;36mread\u001b[0;34m(self, len, buffer)\u001b[0m\n\u001b[1;32m    619\u001b[0m                 \u001b[0mv\u001b[0m \u001b[0;34m=\u001b[0m \u001b[0mself\u001b[0m\u001b[0;34m.\u001b[0m\u001b[0m_sslobj\u001b[0m\u001b[0;34m.\u001b[0m\u001b[0mread\u001b[0m\u001b[0;34m(\u001b[0m\u001b[0mlen\u001b[0m\u001b[0;34m,\u001b[0m \u001b[0mbuffer\u001b[0m\u001b[0;34m)\u001b[0m\u001b[0;34m\u001b[0m\u001b[0m\n\u001b[1;32m    620\u001b[0m             \u001b[0;32melse\u001b[0m\u001b[0;34m:\u001b[0m\u001b[0;34m\u001b[0m\u001b[0m\n\u001b[0;32m--> 621\u001b[0;31m                 \u001b[0mv\u001b[0m \u001b[0;34m=\u001b[0m \u001b[0mself\u001b[0m\u001b[0;34m.\u001b[0m\u001b[0m_sslobj\u001b[0m\u001b[0;34m.\u001b[0m\u001b[0mread\u001b[0m\u001b[0;34m(\u001b[0m\u001b[0mlen\u001b[0m \u001b[0;32mor\u001b[0m \u001b[0;36m1024\u001b[0m\u001b[0;34m)\u001b[0m\u001b[0;34m\u001b[0m\u001b[0m\n\u001b[0m\u001b[1;32m    622\u001b[0m             \u001b[0;32mreturn\u001b[0m \u001b[0mv\u001b[0m\u001b[0;34m\u001b[0m\u001b[0m\n\u001b[1;32m    623\u001b[0m         \u001b[0;32mexcept\u001b[0m \u001b[0mSSLError\u001b[0m \u001b[0;32mas\u001b[0m \u001b[0mx\u001b[0m\u001b[0;34m:\u001b[0m\u001b[0;34m\u001b[0m\u001b[0m\n",
      "\u001b[0;31mKeyboardInterrupt\u001b[0m: "
     ]
    }
   ],
   "source": [
    "search_tags = map(lambda x: \"-\" + x, important_tags + excluded_tags + ['tech-debt'])\n",
    "for bt in prj.searchTasks(milestone=cur_ms, status=open_statuses, tags=search_tags, tags_combinator='All', importance=low_priority):\n",
    "    display_bug(bt.bug)"
   ]
  },
  {
   "cell_type": "markdown",
   "metadata": {},
   "source": [
    "## Medium/Low/Wishlist tech-deb"
   ]
  },
  {
   "cell_type": "code",
   "execution_count": 39,
   "metadata": {
    "collapsed": false
   },
   "outputs": [
    {
     "data": {
      "text/html": [
       "1310646 <a href=https://bugs.launchpad.net/bugs/1310646>[library] unit-tests for l23network new resources not avalaible</a><br>- In Progress / Medium / xenolog / 8.0<br>- [l23network non-release tech-debt]"
      ],
      "text/plain": [
       "<IPython.core.display.HTML at 0x1139969d0>"
      ]
     },
     "metadata": {},
     "output_type": "display_data"
    },
    {
     "data": {
      "text/html": [
       "1365391 <a href=https://bugs.launchpad.net/bugs/1365391>FuelMenu: Write tests for it</a><br>- In Progress / Medium / prmtl / 8.0<br>- [module-fuelmenu size-l tech-debt]"
      ],
      "text/plain": [
       "<IPython.core.display.HTML at 0x113996b10>"
      ]
     },
     "metadata": {},
     "output_type": "display_data"
    },
    {
     "data": {
      "text/html": [
       "1395674 <a href=https://bugs.launchpad.net/bugs/1395674>Change MAC representation in nailgun</a><br>- Triaged / Medium / fuel-python / 8.0<br>- [module-networks tech-debt]"
      ],
      "text/plain": [
       "<IPython.core.display.HTML at 0x112877b50>"
      ]
     },
     "metadata": {},
     "output_type": "display_data"
    },
    {
     "data": {
      "text/html": [
       "1398043 <a href=https://bugs.launchpad.net/bugs/1398043>[nailgun][tests] Teach Environment() methods to accept entities via parameters</a><br>- Confirmed / Medium / fuel-python / 8.0<br>- [tech-debt]"
      ],
      "text/plain": [
       "<IPython.core.display.HTML at 0x113ce7410>"
      ]
     },
     "metadata": {},
     "output_type": "display_data"
    },
    {
     "data": {
      "text/html": [
       "1398052 <a href=https://bugs.launchpad.net/bugs/1398052>[nailgun][tests] Add path tracing into TestTasksLogging.check_keys_included</a><br>- Confirmed / Medium / fuel-python / 8.0<br>- [qa-agree-7.0 tech-debt]"
      ],
      "text/plain": [
       "<IPython.core.display.HTML at 0x113d32750>"
      ]
     },
     "metadata": {},
     "output_type": "display_data"
    },
    {
     "data": {
      "text/html": [
       "1406506 <a href=https://bugs.launchpad.net/bugs/1406506>Integration tests for Nailgun operate internal objects</a><br>- Confirmed / Medium / fuel-python / 8.0<br>- [qa-agree-7.0 tech-debt]"
      ],
      "text/plain": [
       "<IPython.core.display.HTML at 0x113865f10>"
      ]
     },
     "metadata": {},
     "output_type": "display_data"
    },
    {
     "data": {
      "text/html": [
       "1410810 <a href=https://bugs.launchpad.net/bugs/1410810>Update hacking for Python projects</a><br>- In Progress / Medium / maciej-iai / 8.0<br>- [low-hanging-fruit module-client tech-debt]"
      ],
      "text/plain": [
       "<IPython.core.display.HTML at 0x113865b90>"
      ]
     },
     "metadata": {},
     "output_type": "display_data"
    },
    {
     "data": {
      "text/html": [
       "1414583 <a href=https://bugs.launchpad.net/bugs/1414583>Fix rspecs for custom pacemaker providers</a><br>- Confirmed / Medium / idv1985 / 8.0<br>- [tech-debt]"
      ],
      "text/plain": [
       "<IPython.core.display.HTML at 0x1138de8d0>"
      ]
     },
     "metadata": {},
     "output_type": "display_data"
    },
    {
     "data": {
      "text/html": [
       "1421599 <a href=https://bugs.launchpad.net/bugs/1421599>Remove fake mode from DeletionTask</a><br>- Confirmed / Medium / fuel-python / 8.0<br>- [low-hanging-fruit qa-agree-7.0 tech-debt]"
      ],
      "text/plain": [
       "<IPython.core.display.HTML at 0x1139f1bd0>"
      ]
     },
     "metadata": {},
     "output_type": "display_data"
    },
    {
     "data": {
      "text/html": [
       "1423916 <a href=https://bugs.launchpad.net/bugs/1423916>[nailgun] Refactor network configuration handlers</a><br>- Confirmed / Medium / fuel-python / 8.0<br>- [tech-debt]"
      ],
      "text/plain": [
       "<IPython.core.display.HTML at 0x1139f1c90>"
      ]
     },
     "metadata": {},
     "output_type": "display_data"
    },
    {
     "data": {
      "text/html": [
       "1435229 <a href=https://bugs.launchpad.net/bugs/1435229>Expand test coverage for OSTF adapter</a><br>- In Progress / Medium / aroma-x / 8.0<br>- [module-ostf tech-debt]"
      ],
      "text/plain": [
       "<IPython.core.display.HTML at 0x11396b0d0>"
      ]
     },
     "metadata": {},
     "output_type": "display_data"
    },
    {
     "data": {
      "text/html": [
       "1435236 <a href=https://bugs.launchpad.net/bugs/1435236>Refactor functional tests for ostf-adapter</a><br>- Triaged / Medium / fuel-python / 8.0<br>- [module-ostf tech-debt]"
      ],
      "text/plain": [
       "<IPython.core.display.HTML at 0x11396ba50>"
      ]
     },
     "metadata": {},
     "output_type": "display_data"
    },
    {
     "data": {
      "text/html": [
       "1437232 <a href=https://bugs.launchpad.net/bugs/1437232>Random fails of TestTaskManagers.test_deployment_task_managers </a><br>- Confirmed / Medium / fuel-python / 8.0<br>- [qa-agree-7.0 tech-debt]"
      ],
      "text/plain": [
       "<IPython.core.display.HTML at 0x1139f1dd0>"
      ]
     },
     "metadata": {},
     "output_type": "display_data"
    },
    {
     "data": {
      "text/html": [
       "1440671 <a href=https://bugs.launchpad.net/bugs/1440671>Get rid of fake tasks where they are not required</a><br>- Confirmed / Medium / fuel-python / 8.0<br>- [module-nailgun qa-agree-7.0 tech-debt]"
      ],
      "text/plain": [
       "<IPython.core.display.HTML at 0x1139f1110>"
      ]
     },
     "metadata": {},
     "output_type": "display_data"
    },
    {
     "data": {
      "text/html": [
       "1440807 <a href=https://bugs.launchpad.net/bugs/1440807> deployment_mode with additional command and not passing it to create</a><br>- Confirmed / Medium / fuel-python / 8.0<br>- [module-client qa-agree-7.0 tech-debt]"
      ],
      "text/plain": [
       "<IPython.core.display.HTML at 0x1138de910>"
      ]
     },
     "metadata": {},
     "output_type": "display_data"
    },
    {
     "data": {
      "text/html": [
       "1441129 <a href=https://bugs.launchpad.net/bugs/1441129>fuelclient: ha and ha_compact misunderstanding</a><br>- Confirmed / Medium / fuel-python / 8.0<br>- [module-client qa-agree-7.0 tech-debt]"
      ],
      "text/plain": [
       "<IPython.core.display.HTML at 0x113c6fcd0>"
      ]
     },
     "metadata": {},
     "output_type": "display_data"
    },
    {
     "data": {
      "text/html": [
       "1441282 <a href=https://bugs.launchpad.net/bugs/1441282>Port rabbitmq retry functions to upstream</a><br>- Confirmed / Medium / idv1985 / 8.0<br>- [non-release qa-agree-7.0 tech-debt]"
      ],
      "text/plain": [
       "<IPython.core.display.HTML at 0x113d94a50>"
      ]
     },
     "metadata": {},
     "output_type": "display_data"
    },
    {
     "data": {
      "text/html": [
       "1444090 <a href=https://bugs.launchpad.net/bugs/1444090>IBP Split do_build_image method into a set of smaller ones</a><br>- Triaged / Medium / fuel-python / 8.0<br>- [feature-image-based ibp tech-debt]"
      ],
      "text/plain": [
       "<IPython.core.display.HTML at 0x113d15810>"
      ]
     },
     "metadata": {},
     "output_type": "display_data"
    },
    {
     "data": {
      "text/html": [
       "1445480 <a href=https://bugs.launchpad.net/bugs/1445480>Wrong http handler is called in test_add_delete_nodes test</a><br>- Triaged / Medium / fuel-python / 8.0<br>- [module-nailgun tech-debt]"
      ],
      "text/plain": [
       "<IPython.core.display.HTML at 0x113d15290>"
      ]
     },
     "metadata": {},
     "output_type": "display_data"
    },
    {
     "data": {
      "text/html": [
       "1449512 <a href=https://bugs.launchpad.net/bugs/1449512>Send cluster id for pre provision task obviously</a><br>- Confirmed / Medium / fuel-python / 8.0<br>- [feature-image-based feature-progress-bar ibp tech-debt]"
      ],
      "text/plain": [
       "<IPython.core.display.HTML at 0x113ce7990>"
      ]
     },
     "metadata": {},
     "output_type": "display_data"
    },
    {
     "data": {
      "text/html": [
       "1449542 <a href=https://bugs.launchpad.net/bugs/1449542>MySQL RA OCF should use a timeout wrapper instead of sleep commands</a><br>- Triaged / Medium / fuel-library / 8.0<br>- [ha tech-debt]"
      ],
      "text/plain": [
       "<IPython.core.display.HTML at 0x1128774d0>"
      ]
     },
     "metadata": {},
     "output_type": "display_data"
    },
    {
     "data": {
      "text/html": [
       "1451903 <a href=https://bugs.launchpad.net/bugs/1451903>need to sync device filtering patterns in fuel-agent and nailgun-agent</a><br>- Confirmed / Medium / fuel-python / 8.0<br>- [module-volumes tech-debt]"
      ],
      "text/plain": [
       "<IPython.core.display.HTML at 0x113996290>"
      ]
     },
     "metadata": {},
     "output_type": "display_data"
    },
    {
     "data": {
      "text/html": [
       "1453773 <a href=https://bugs.launchpad.net/bugs/1453773>Fix bad changes in corosync/pacemaker modules and contribute changes upstream</a><br>- Confirmed / Medium / idv1985 / 8.0<br>- [corosync non-release pacemaker tech-debt]"
      ],
      "text/plain": [
       "<IPython.core.display.HTML at 0x113996e90>"
      ]
     },
     "metadata": {},
     "output_type": "display_data"
    },
    {
     "data": {
      "text/html": [
       "1454345 <a href=https://bugs.launchpad.net/bugs/1454345>[fuel-pythonclient] Can not pass parameters to APIclient __init__</a><br>- Confirmed / Medium / fuel-python / 8.0<br>- [module-client tech-debt]"
      ],
      "text/plain": [
       "<IPython.core.display.HTML at 0x113982f10>"
      ]
     },
     "metadata": {},
     "output_type": "display_data"
    },
    {
     "data": {
      "text/html": [
       "1454347 <a href=https://bugs.launchpad.net/bugs/1454347>[fuel-pythonclient] Client uses singletone for APIClient</a><br>- Confirmed / Medium / fuel-python / 8.0<br>- [module-client tech-debt]"
      ],
      "text/plain": [
       "<IPython.core.display.HTML at 0x113996d50>"
      ]
     },
     "metadata": {},
     "output_type": "display_data"
    },
    {
     "data": {
      "text/html": [
       "1454377 <a href=https://bugs.launchpad.net/bugs/1454377>'check_ceph' parameter in orchestrator should be renamed</a><br>- Confirmed / Medium / rmoe / 8.0<br>- [module-astute module-nailgun tech-debt]"
      ],
      "text/plain": [
       "<IPython.core.display.HTML at 0x113996390>"
      ]
     },
     "metadata": {},
     "output_type": "display_data"
    },
    {
     "data": {
      "text/html": [
       "1455664 <a href=https://bugs.launchpad.net/bugs/1455664>zabbix in experimetnal doesn't deploy</a><br>- Confirmed / Medium / fuel-python / 8.0<br>- [tech-debt]"
      ],
      "text/plain": [
       "<IPython.core.display.HTML at 0x10ffbce50>"
      ]
     },
     "metadata": {},
     "output_type": "display_data"
    },
    {
     "data": {
      "text/html": [
       "1457887 <a href=https://bugs.launchpad.net/bugs/1457887>[fuel-astute][fuel-web] Don't use retries for puppet deployments by default</a><br>- In Progress / Medium / vsharshov / 8.0<br>- [module-astute tech-debt]"
      ],
      "text/plain": [
       "<IPython.core.display.HTML at 0x113ce7090>"
      ]
     },
     "metadata": {},
     "output_type": "display_data"
    },
    {
     "data": {
      "text/html": [
       "1466121 <a href=https://bugs.launchpad.net/bugs/1466121>Refactor filtration of nodes private metadata </a><br>- Confirmed / Medium / fuel-python / 8.0<br>- [feature-stats module-nailgun tech-debt]"
      ],
      "text/plain": [
       "<IPython.core.display.HTML at 0x10eca9dd0>"
      ]
     },
     "metadata": {},
     "output_type": "display_data"
    },
    {
     "data": {
      "text/html": [
       "1468343 <a href=https://bugs.launchpad.net/bugs/1468343>WARN: Cache retrieving from task with uuid ... failed due to deletion of corresponding row from db. Empty data will be provided for action log updating routine.</a><br>- Confirmed / Medium / fuel-python / 8.0<br>- [module-nailgun tech-debt]"
      ],
      "text/plain": [
       "<IPython.core.display.HTML at 0x113d15c50>"
      ]
     },
     "metadata": {},
     "output_type": "display_data"
    },
    {
     "data": {
      "text/html": [
       "1470026 <a href=https://bugs.launchpad.net/bugs/1470026>Remove deprecated attributes and values from Fuel Client</a><br>- Confirmed / Medium / fuel-python / 8.0<br>- [module-client tech-debt]"
      ],
      "text/plain": [
       "<IPython.core.display.HTML at 0x113865590>"
      ]
     },
     "metadata": {},
     "output_type": "display_data"
    },
    {
     "data": {
      "text/html": [
       "1471763 <a href=https://bugs.launchpad.net/bugs/1471763>Move Fuel UI to a separate repository fuel-ui</a><br>- Confirmed / Medium / kozhukalov / 8.0<br>- [tech-debt]"
      ],
      "text/plain": [
       "<IPython.core.display.HTML at 0x1138de8d0>"
      ]
     },
     "metadata": {},
     "output_type": "display_data"
    },
    {
     "data": {
      "text/html": [
       "1472254 <a href=https://bugs.launchpad.net/bugs/1472254>Fuel Agent: Get rid of log module from oslo-incubator</a><br>- Confirmed / Medium / fuel-python / 8.0<br>- [feature-image-based ibp tech-debt]"
      ],
      "text/plain": [
       "<IPython.core.display.HTML at 0x1138de410>"
      ]
     },
     "metadata": {},
     "output_type": "display_data"
    },
    {
     "data": {
      "text/html": [
       "1475197 <a href=https://bugs.launchpad.net/bugs/1475197>[nailgun] use factory for objects</a><br>- Confirmed / Medium / fuel-python / 8.0<br>- [module-nailgun tech-debt]"
      ],
      "text/plain": [
       "<IPython.core.display.HTML at 0x1139f1090>"
      ]
     },
     "metadata": {},
     "output_type": "display_data"
    },
    {
     "data": {
      "text/html": [
       "1475219 <a href=https://bugs.launchpad.net/bugs/1475219>Move fuel_upgrade_system to a separate git repository</a><br>- Confirmed / Medium / kozhukalov / 8.0<br>- [non-release tech-debt]"
      ],
      "text/plain": [
       "<IPython.core.display.HTML at 0x11396bd50>"
      ]
     },
     "metadata": {},
     "output_type": "display_data"
    },
    {
     "data": {
      "text/html": [
       "1475946 <a href=https://bugs.launchpad.net/bugs/1475946>fuel-library version of puppetlabs-haproxy is out of sync with the upstream</a><br>- Confirmed / Medium / fuel-library / 8.0<br>- [non-release tech-debt]"
      ],
      "text/plain": [
       "<IPython.core.display.HTML at 0x11396b590>"
      ]
     },
     "metadata": {},
     "output_type": "display_data"
    },
    {
     "data": {
      "text/html": [
       "1476205 <a href=https://bugs.launchpad.net/bugs/1476205>[fuel-agent] Refactor code for partition preservation feature</a><br>- Confirmed / Medium / asvechnikov / 8.0<br>- [feature-image-based ibp tech-debt]"
      ],
      "text/plain": [
       "<IPython.core.display.HTML at 0x1139f1310>"
      ]
     },
     "metadata": {},
     "output_type": "display_data"
    },
    {
     "data": {
      "text/html": [
       "1476807 <a href=https://bugs.launchpad.net/bugs/1476807>python-fuelclient should have an official OpenStack Infra python unit test jobs</a><br>- Confirmed / Medium / kozhukalov / 8.0<br>- [non-release tech-debt]"
      ],
      "text/plain": [
       "<IPython.core.display.HTML at 0x1138de350>"
      ]
     },
     "metadata": {},
     "output_type": "display_data"
    },
    {
     "data": {
      "text/html": [
       "1477231 <a href=https://bugs.launchpad.net/bugs/1477231>remove un-used parts of ceph module</a><br>- Confirmed / Medium / fuel-library / 8.0<br>- [ceph tech-debt]"
      ],
      "text/plain": [
       "<IPython.core.display.HTML at 0x1138de910>"
      ]
     },
     "metadata": {},
     "output_type": "display_data"
    },
    {
     "data": {
      "text/html": [
       "1477248 <a href=https://bugs.launchpad.net/bugs/1477248>fuel-devops needs to track uuid of some of the libvirt objcets</a><br>- In Progress / Medium / xarses / 8.0<br>- [fuel-devops non-release tech-debt]"
      ],
      "text/plain": [
       "<IPython.core.display.HTML at 0x113d94f50>"
      ]
     },
     "metadata": {},
     "output_type": "display_data"
    },
    {
     "data": {
      "text/html": [
       "1477648 <a href=https://bugs.launchpad.net/bugs/1477648>[nailgun] Fix comments in https://review.openstack.org/201217/</a><br>- Confirmed / Medium / alekseyk-ru / 8.0<br>- [module-nailgun tech-debt]"
      ],
      "text/plain": [
       "<IPython.core.display.HTML at 0x1129c77d0>"
      ]
     },
     "metadata": {},
     "output_type": "display_data"
    },
    {
     "data": {
      "text/html": [
       "1479785 <a href=https://bugs.launchpad.net/bugs/1479785>Make fuel-plugins project restructuring </a><br>- Confirmed / Medium / fuel-python / 8.0<br>- [feature-plugins tech-debt]"
      ],
      "text/plain": [
       "<IPython.core.display.HTML at 0x10ffbce50>"
      ]
     },
     "metadata": {},
     "output_type": "display_data"
    },
    {
     "data": {
      "text/html": [
       "1480254 <a href=https://bugs.launchpad.net/bugs/1480254>Cleanup globals from duplicate values</a><br>- Confirmed / Medium / fuel-library / 8.0<br>- [tech-debt]"
      ],
      "text/plain": [
       "<IPython.core.display.HTML at 0x10ffc5e50>"
      ]
     },
     "metadata": {},
     "output_type": "display_data"
    },
    {
     "data": {
      "text/html": [
       "1480846 <a href=https://bugs.launchpad.net/bugs/1480846>Inconsistent implementation of setting networks ranges</a><br>- Confirmed / Medium / fuel-python / 8.0<br>- [module-nailgun module-networks tech-debt]"
      ],
      "text/plain": [
       "<IPython.core.display.HTML at 0x112877890>"
      ]
     },
     "metadata": {},
     "output_type": "display_data"
    },
    {
     "data": {
      "text/html": [
       "1481297 <a href=https://bugs.launchpad.net/bugs/1481297>FA: align python requirements for oslo.config and oslo.serialization</a><br>- Triaged / Medium / fuel-python / 8.0<br>- [feature-image-based ibp tech-debt]"
      ],
      "text/plain": [
       "<IPython.core.display.HTML at 0x113ce7510>"
      ]
     },
     "metadata": {},
     "output_type": "display_data"
    },
    {
     "data": {
      "text/html": [
       "1481419 <a href=https://bugs.launchpad.net/bugs/1481419>virtual_ips task should have noop tests</a><br>- Confirmed / Medium / idv1985 / 8.0<br>- [non-release tech-debt]"
      ],
      "text/plain": [
       "<IPython.core.display.HTML at 0x113996b10>"
      ]
     },
     "metadata": {},
     "output_type": "display_data"
    },
    {
     "data": {
      "text/html": [
       "1481935 <a href=https://bugs.launchpad.net/bugs/1481935>pre-deployment actions moved to fuel-library are still in fuel-astute</a><br>- Confirmed / Medium / fuel-python / 8.0<br>- [module-astute tech-debt]"
      ],
      "text/plain": [
       "<IPython.core.display.HTML at 0x113982910>"
      ]
     },
     "metadata": {},
     "output_type": "display_data"
    },
    {
     "data": {
      "text/html": [
       "1482232 <a href=https://bugs.launchpad.net/bugs/1482232>Make dockerfiles more readable</a><br>- Confirmed / Medium / raytrac3r / 8.0<br>- [tech-debt]"
      ],
      "text/plain": [
       "<IPython.core.display.HTML at 0x113982f10>"
      ]
     },
     "metadata": {},
     "output_type": "display_data"
    },
    {
     "data": {
      "text/html": [
       "1482248 <a href=https://bugs.launchpad.net/bugs/1482248>Migrate pacemaker_wrappers to upstream module with librarian puppet</a><br>- Confirmed / Medium / idv1985 / 8.0<br>- [tech-debt]"
      ],
      "text/plain": [
       "<IPython.core.display.HTML at 0x113996310>"
      ]
     },
     "metadata": {},
     "output_type": "display_data"
    },
    {
     "data": {
      "text/html": [
       "1482515 <a href=https://bugs.launchpad.net/bugs/1482515>Do not get parser directly from ShowOne in fuel2 client</a><br>- Confirmed / Medium / fuel-python / 8.0<br>- [module-client tech-debt]"
      ],
      "text/plain": [
       "<IPython.core.display.HTML at 0x112877a50>"
      ]
     },
     "metadata": {},
     "output_type": "display_data"
    },
    {
     "data": {
      "text/html": [
       "1483284 <a href=https://bugs.launchpad.net/bugs/1483284>Rspec Noop test are cosuming a lot of memory</a><br>- Confirmed / Medium / idv1985 / 8.0<br>- [non-release tech-debt]"
      ],
      "text/plain": [
       "<IPython.core.display.HTML at 0x113ce7e90>"
      ]
     },
     "metadata": {},
     "output_type": "display_data"
    },
    {
     "data": {
      "text/html": [
       "1483539 <a href=https://bugs.launchpad.net/bugs/1483539>Unused schema in nailgun objects adding to technical debt of code</a><br>- Confirmed / Medium / fuel-python / 8.0<br>- [module-nailgun nailgun tech-debt]"
      ],
      "text/plain": [
       "<IPython.core.display.HTML at 0x113ce7a50>"
      ]
     },
     "metadata": {},
     "output_type": "display_data"
    },
    {
     "data": {
      "text/html": [
       "1486928 <a href=https://bugs.launchpad.net/bugs/1486928>Package repository locations are hardcoded in many Fuel components and build scripts</a><br>- Confirmed / Medium / kozhukalov / 8.0<br>- [non-release tech-debt]"
      ],
      "text/plain": [
       "<IPython.core.display.HTML at 0x11286fa90>"
      ]
     },
     "metadata": {},
     "output_type": "display_data"
    },
    {
     "data": {
      "text/html": [
       "1488883 <a href=https://bugs.launchpad.net/bugs/1488883>If unkown version of Ceph is used, assert exception is raised</a><br>- Confirmed / Medium / fuel-python / 8.0<br>- [module-nailgun tech-debt]"
      ],
      "text/plain": [
       "<IPython.core.display.HTML at 0x113865b50>"
      ]
     },
     "metadata": {},
     "output_type": "display_data"
    },
    {
     "data": {
      "text/html": [
       "1488945 <a href=https://bugs.launchpad.net/bugs/1488945>Ceph get_pool_pg_count calculation requires refactoring</a><br>- Triaged / Medium / fuel-python / 8.0<br>- [module-nailgun tech-debt]"
      ],
      "text/plain": [
       "<IPython.core.display.HTML at 0x10fff4210>"
      ]
     },
     "metadata": {},
     "output_type": "display_data"
    },
    {
     "data": {
      "text/html": [
       "1488980 <a href=https://bugs.launchpad.net/bugs/1488980>[nailgun] Refactor generate_network_scheme methods in orchestrator serializer</a><br>- Confirmed / Medium / fuel-python / 8.0<br>- [module-nailgun module-networks tech-debt]"
      ],
      "text/plain": [
       "<IPython.core.display.HTML at 0x1138dead0>"
      ]
     },
     "metadata": {},
     "output_type": "display_data"
    },
    {
     "data": {
      "text/html": [
       "1491805 <a href=https://bugs.launchpad.net/bugs/1491805>Provided by user SSL certificates should be saved into filesystem</a><br>- Confirmed / Medium / fuel-python / 8.0<br>- [feature-stats module-nailgun tech-debt]"
      ],
      "text/plain": [
       "<IPython.core.display.HTML at 0x1138dea50>"
      ]
     },
     "metadata": {},
     "output_type": "display_data"
    },
    {
     "data": {
      "text/html": [
       "1491821 <a href=https://bugs.launchpad.net/bugs/1491821>Enable SSL validation in stats collectors</a><br>- Triaged / Medium / fuel-python / 8.0<br>- [feature-stats module-nailgun tech-debt]"
      ],
      "text/plain": [
       "<IPython.core.display.HTML at 0x1139f1310>"
      ]
     },
     "metadata": {},
     "output_type": "display_data"
    },
    {
     "data": {
      "text/html": [
       "1492243 <a href=https://bugs.launchpad.net/bugs/1492243>[ibp] non removed yaml with data about target images after env removal</a><br>- Confirmed / Medium / fuel-python / 8.0<br>- [feature-image-based ibp low-hanging-fruit tech-debt]"
      ],
      "text/plain": [
       "<IPython.core.display.HTML at 0x11396b8d0>"
      ]
     },
     "metadata": {},
     "output_type": "display_data"
    },
    {
     "data": {
      "text/html": [
       "1493061 <a href=https://bugs.launchpad.net/bugs/1493061> Switch to use package mock of version 1.1.0 or greater</a><br>- Confirmed / Medium / fuel-python / 8.0<br>- [tech-debt]"
      ],
      "text/plain": [
       "<IPython.core.display.HTML at 0x11396b250>"
      ]
     },
     "metadata": {},
     "output_type": "display_data"
    },
    {
     "data": {
      "text/html": [
       "1493738 <a href=https://bugs.launchpad.net/bugs/1493738>Different input data types in network validators</a><br>- Confirmed / Medium / fuel-python / 8.0<br>- [module-nailgun tech-debt]"
      ],
      "text/plain": [
       "<IPython.core.display.HTML at 0x1139f1850>"
      ]
     },
     "metadata": {},
     "output_type": "display_data"
    },
    {
     "data": {
      "text/html": [
       "1496806 <a href=https://bugs.launchpad.net/bugs/1496806>[main]stop patch yumdownloader</a><br>- Confirmed / Medium / fuel-build / 8.0<br>- [tech-debt]"
      ],
      "text/plain": [
       "<IPython.core.display.HTML at 0x1138dee90>"
      ]
     },
     "metadata": {},
     "output_type": "display_data"
    },
    {
     "data": {
      "text/html": [
       "1498382 <a href=https://bugs.launchpad.net/bugs/1498382>Remove NoCacheQuery from nailgun</a><br>- Confirmed / Medium / fuel-python / 8.0<br>- [tech-debt]"
      ],
      "text/plain": [
       "<IPython.core.display.HTML at 0x1138de690>"
      ]
     },
     "metadata": {},
     "output_type": "display_data"
    },
    {
     "data": {
      "text/html": [
       "1500825 <a href=https://bugs.launchpad.net/bugs/1500825>mounts fact should be an array</a><br>- In Progress / Medium / bpiotrowski / 8.0<br>- [regression-8.0 tech-debt]"
      ],
      "text/plain": [
       "<IPython.core.display.HTML at 0x1138de750>"
      ]
     },
     "metadata": {},
     "output_type": "display_data"
    },
    {
     "data": {
      "text/html": [
       "1500872 <a href=https://bugs.launchpad.net/bugs/1500872>version.yaml should be a relative link</a><br>- In Progress / Medium / kozhukalov / 8.0<br>- [tech-debt]"
      ],
      "text/plain": [
       "<IPython.core.display.HTML at 0x1138651d0>"
      ]
     },
     "metadata": {},
     "output_type": "display_data"
    },
    {
     "data": {
      "text/html": [
       "1500879 <a href=https://bugs.launchpad.net/bugs/1500879>Fix autocompletion file generation in fuel2 complete utility</a><br>- Confirmed / Medium / fuel-python / 8.0<br>- [module-client tech-debt]"
      ],
      "text/plain": [
       "<IPython.core.display.HTML at 0x1129c7810>"
      ]
     },
     "metadata": {},
     "output_type": "display_data"
    },
    {
     "data": {
      "text/html": [
       "1504352 <a href=https://bugs.launchpad.net/bugs/1504352>PEP8 exclusions must be removed</a><br>- Confirmed / Medium / fuel-python / 8.0<br>- [low-hanging-fruit module-client tech-debt]"
      ],
      "text/plain": [
       "<IPython.core.display.HTML at 0x113ce7dd0>"
      ]
     },
     "metadata": {},
     "output_type": "display_data"
    },
    {
     "data": {
      "text/html": [
       "1393789 <a href=https://bugs.launchpad.net/bugs/1393789>[upgrade] Refactoring of fuel_upgrade.config.Config</a><br>- Confirmed / Low / fuel-python / 8.0<br>- [size-l tech-debt]"
      ],
      "text/plain": [
       "<IPython.core.display.HTML at 0x1128779d0>"
      ]
     },
     "metadata": {},
     "output_type": "display_data"
    },
    {
     "data": {
      "text/html": [
       "1404866 <a href=https://bugs.launchpad.net/bugs/1404866>OSTF should use enums for constant values</a><br>- Triaged / Low / fuel-python / 8.0<br>- [low-hanging-fruit module-ostf size-s tech-debt]"
      ],
      "text/plain": [
       "<IPython.core.display.HTML at 0x112877990>"
      ]
     },
     "metadata": {},
     "output_type": "display_data"
    },
    {
     "data": {
      "text/html": [
       "1408274 <a href=https://bugs.launchpad.net/bugs/1408274>Update tox in Python modules/projects</a><br>- Confirmed / Low / fuel-python / 8.0<br>- [low-hanging-fruit size-s tech-debt]"
      ],
      "text/plain": [
       "<IPython.core.display.HTML at 0x1139965d0>"
      ]
     },
     "metadata": {},
     "output_type": "display_data"
    },
    {
     "data": {
      "text/html": [
       "1413200 <a href=https://bugs.launchpad.net/bugs/1413200>Use env vars to controll performance tests in nailgun</a><br>- Confirmed / Low / fuel-python / 8.0<br>- [non-release performance size-s tech-debt]"
      ],
      "text/plain": [
       "<IPython.core.display.HTML at 0x113982190>"
      ]
     },
     "metadata": {},
     "output_type": "display_data"
    },
    {
     "data": {
      "text/html": [
       "1415688 <a href=https://bugs.launchpad.net/bugs/1415688>Outdated README.md in virtualbox scripts folder</a><br>- Confirmed / Low / sovsianikov / 8.0<br>- [tech-debt]"
      ],
      "text/plain": [
       "<IPython.core.display.HTML at 0x113982810>"
      ]
     },
     "metadata": {},
     "output_type": "display_data"
    },
    {
     "data": {
      "text/html": [
       "1453039 <a href=https://bugs.launchpad.net/bugs/1453039>Do not use fixed timeouts for image building</a><br>- Triaged / Low / fuel-python / 8.0<br>- [feature-image-based ibp tech-debt]"
      ],
      "text/plain": [
       "<IPython.core.display.HTML at 0x113996650>"
      ]
     },
     "metadata": {},
     "output_type": "display_data"
    },
    {
     "data": {
      "text/html": [
       "1471805 <a href=https://bugs.launchpad.net/bugs/1471805>[Nailgun] Get rid of SQL queries in migration tests</a><br>- Triaged / Low / fuel-python / 8.0<br>- [module-nailgun tech-debt]"
      ],
      "text/plain": [
       "<IPython.core.display.HTML at 0x113ce79d0>"
      ]
     },
     "metadata": {},
     "output_type": "display_data"
    },
    {
     "data": {
      "text/html": [
       "1482658 <a href=https://bugs.launchpad.net/bugs/1482658>JSON field doesn't update field after partial update of dict</a><br>- Triaged / Low / fuel-python / 8.0<br>- [module-nailgun tech-debt]"
      ],
      "text/plain": [
       "<IPython.core.display.HTML at 0x113ce70d0>"
      ]
     },
     "metadata": {},
     "output_type": "display_data"
    },
    {
     "data": {
      "text/html": [
       "1488518 <a href=https://bugs.launchpad.net/bugs/1488518>DRY code in network validation tests</a><br>- Confirmed / Low / fuel-python / 8.0<br>- [tech-debt]"
      ],
      "text/plain": [
       "<IPython.core.display.HTML at 0x112877b90>"
      ]
     },
     "metadata": {},
     "output_type": "display_data"
    },
    {
     "data": {
      "text/html": [
       "1488946 <a href=https://bugs.launchpad.net/bugs/1488946>Refactor url_access_checker/api.py to use idiomatic python instead of list of tuples.</a><br>- Confirmed / Low / fuel-python / 8.0<br>- [module-netcheck tech-debt]"
      ],
      "text/plain": [
       "<IPython.core.display.HTML at 0x10eca9dd0>"
      ]
     },
     "metadata": {},
     "output_type": "display_data"
    },
    {
     "data": {
      "text/html": [
       "1489984 <a href=https://bugs.launchpad.net/bugs/1489984>fuel-package-updates should pull fuel version from api</a><br>- Confirmed / Low / fuel-python / 8.0<br>- [tech-debt]"
      ],
      "text/plain": [
       "<IPython.core.display.HTML at 0x113d15710>"
      ]
     },
     "metadata": {},
     "output_type": "display_data"
    },
    {
     "data": {
      "text/html": [
       "1498989 <a href=https://bugs.launchpad.net/bugs/1498989>Move top level config to service hash in hiera</a><br>- Confirmed / Low / fuel-library / 8.0<br>- [module-library puppet tech-debt]"
      ],
      "text/plain": [
       "<IPython.core.display.HTML at 0x113865f10>"
      ]
     },
     "metadata": {},
     "output_type": "display_data"
    },
    {
     "data": {
      "text/html": [
       "1502110 <a href=https://bugs.launchpad.net/bugs/1502110>fuelmenu saveonly should share class vars with main app</a><br>- Confirmed / Low / raytrac3r / 8.0<br>- [tech-debt]"
      ],
      "text/plain": [
       "<IPython.core.display.HTML at 0x1138dea10>"
      ]
     },
     "metadata": {},
     "output_type": "display_data"
    },
    {
     "data": {
      "text/html": [
       "1502844 <a href=https://bugs.launchpad.net/bugs/1502844>Remove default repo configuration from fuelmenu</a><br>- Confirmed / Low / fuel-python / 8.0<br>- [module-fuelmenu tech-debt]"
      ],
      "text/plain": [
       "<IPython.core.display.HTML at 0x1138decd0>"
      ]
     },
     "metadata": {},
     "output_type": "display_data"
    },
    {
     "data": {
      "text/html": [
       "1268278 <a href=https://bugs.launchpad.net/bugs/1268278>[nailgun] Provide more debugging info for nailgun model entities</a><br>- Confirmed / Wishlist / fuel-python / 8.0<br>- [size-s tech-debt]"
      ],
      "text/plain": [
       "<IPython.core.display.HTML at 0x11396bf10>"
      ]
     },
     "metadata": {},
     "output_type": "display_data"
    },
    {
     "data": {
      "text/html": [
       "1322073 <a href=https://bugs.launchpad.net/bugs/1322073>[nailgun] Need to redefine network ext_net_data property</a><br>- Confirmed / Wishlist / alekseyk-ru / 8.0<br>- [size-s tech-debt]"
      ],
      "text/plain": [
       "<IPython.core.display.HTML at 0x1139f1cd0>"
      ]
     },
     "metadata": {},
     "output_type": "display_data"
    },
    {
     "data": {
      "text/html": [
       "1459678 <a href=https://bugs.launchpad.net/bugs/1459678>Revise ns related OCF</a><br>- Confirmed / Wishlist / fuel-library / 8.0<br>- [non-release tech-debt]"
      ],
      "text/plain": [
       "<IPython.core.display.HTML at 0x11396b8d0>"
      ]
     },
     "metadata": {},
     "output_type": "display_data"
    },
    {
     "data": {
      "text/html": [
       "1461091 <a href=https://bugs.launchpad.net/bugs/1461091>[Fuel-OSTF] 'assert' in test.py is needless</a><br>- Confirmed / Wishlist / tnurlygayanov / 8.0<br>- [tech-debt]"
      ],
      "text/plain": [
       "<IPython.core.display.HTML at 0x1139f1990>"
      ]
     },
     "metadata": {},
     "output_type": "display_data"
    },
    {
     "data": {
      "text/html": [
       "1462339 <a href=https://bugs.launchpad.net/bugs/1462339>Need support _.property callback style for collection methods</a><br>- Confirmed / Wishlist / fuel-ui / 8.0<br>- [tech-debt ui]"
      ],
      "text/plain": [
       "<IPython.core.display.HTML at 0x1138de050>"
      ]
     },
     "metadata": {},
     "output_type": "display_data"
    },
    {
     "data": {
      "text/html": [
       "1494689 <a href=https://bugs.launchpad.net/bugs/1494689>Refactor FPB tests</a><br>- Confirmed / Wishlist / fuel-python / 8.0<br>- [fuel-plugin-builder tech-debt]"
      ],
      "text/plain": [
       "<IPython.core.display.HTML at 0x113865e50>"
      ]
     },
     "metadata": {},
     "output_type": "display_data"
    },
    {
     "data": {
      "text/html": [
       "1499468 <a href=https://bugs.launchpad.net/bugs/1499468>remove bootstrap_admin_node.sh (not docker one)</a><br>- Confirmed / Wishlist / raytrac3r / 8.0<br>- [tech-debt]"
      ],
      "text/plain": [
       "<IPython.core.display.HTML at 0x113d94a50>"
      ]
     },
     "metadata": {},
     "output_type": "display_data"
    }
   ],
   "source": [
    "search_tags = map(lambda x: \"-\" + x, important_tags + excluded_tags) + ['tech-debt']\n",
    "for bt in prj.searchTasks(milestone=cur_ms, status=open_statuses, tags=search_tags, tags_combinator='All', importance=low_priority):\n",
    "    display_bug(bt.bug)"
   ]
  },
  {
   "cell_type": "code",
   "execution_count": 2,
   "metadata": {
    "collapsed": false
   },
   "outputs": [],
   "source": [
    "untriaged_bug_statuses = [\n",
    "    'New',\n",
    "]\n",
    "\n",
    "open_bug_statuses = [\n",
    "    'Incomplete', 'Confirmed', 'Triaged', 'In Progress',\n",
    "    'Incomplete (with response)', 'Incomplete (without response)',\n",
    "]\n",
    "\n",
    "rejected_bug_statuses = [\n",
    "    'Opinion', 'Invalid', 'Won\\'t Fix', 'Expired',\n",
    "]\n",
    "\n",
    "closed_bug_statuses = [\n",
    "    'Fix Committed', 'Fix Released',\n",
    "] + rejected_bug_statuses\n",
    "\n",
    "all_bug_statuses = (\n",
    "    untriaged_bug_statuses + open_bug_statuses + closed_bug_statuses\n",
    ")"
   ]
  },
  {
   "cell_type": "code",
   "execution_count": 20,
   "metadata": {
    "collapsed": false
   },
   "outputs": [
    {
     "name": "stdout",
     "output_type": "stream",
     "text": [
      "New changes:\n",
      "1/11: 1322573\n",
      "2/11: 1375287\n",
      "3/11: 1375683\n",
      "4/11: 1372495\n",
      "5/11: 1373440\n",
      "6/11: 1375614\n",
      "7/11: 1376616\n",
      "8/11: 1376667\n",
      "9/11: 1375823\n",
      "10/11: 1376654\n",
      "11/11: 1376655\n",
      "Fails from previous run:\n",
      "Failed to download 0 entries\n",
      "Updating database\n"
     ]
    },
    {
     "data": {
      "text/plain": [
       "True"
      ]
     },
     "execution_count": 20,
     "metadata": {},
     "output_type": "execute_result"
    }
   ],
   "source": [
    "import pickledb\n",
    "import traceback\n",
    "import dateutil.parser\n",
    "\n",
    "db = pickledb.load('pickle.db', False)\n",
    "\n",
    "timestamp = dateutil.parser.parse(db.get('timestamp')) or None\n",
    "failed_bugs = db.get('failed_bugs') or []\n",
    "new_failed_bugs = []\n",
    "\n",
    "bug_tasks = prj.searchTasks(status=all_bug_statuses, modified_since=timestamp)\n",
    "\n",
    "total = len(bug_tasks) + len(failed_bugs)\n",
    "i = 1\n",
    "\n",
    "print \"New changes:\"\n",
    "\n",
    "for bug_task in bug_tasks:\n",
    "    bug = bug_task.bug\n",
    "    print \"%d/%d: %d\" % (i, total, bug.id)\n",
    "    try:\n",
    "        if (timestamp is None) or (timestamp < bug.date_last_updated):\n",
    "            timestamp = bug.date_last_updated\n",
    "        db.set('bug:%s' % bug.id, bug._wadl_resource.representation)\n",
    "        db.set('act:%s' % bug.id, map(\n",
    "            lambda x: x._wadl_resource.representation, bug.activity))\n",
    "        db.set('cmt:%s' % bug.id, map(\n",
    "            lambda x: x._wadl_resource.representation, bug.messages))\n",
    "    except:\n",
    "        traceback.print_exc()\n",
    "        new_failed_bugs.append(bug.id)\n",
    "    i += 1\n",
    "\n",
    "print \"Fails from previous run:\"\n",
    "\n",
    "for bug_task in failed_bugs:\n",
    "    bug = lp.bugs[bug_task]\n",
    "    print \"%d/%d: %d\" % (i, total, bug.id)\n",
    "    try:\n",
    "        if (timestamp is None) or (timestamp < bug.date_last_updated):\n",
    "            timestamp = bug.date_last_updated\n",
    "        db.set('bug:%s' % bug.id, bug._wadl_resource.representation)\n",
    "        db.set('act:%s' % bug.id, map(\n",
    "            lambda x: x._wadl_resource.representation, bug.activity))\n",
    "        db.set('cmt:%s' % bug.id, map(\n",
    "            lambda x: x._wadl_resource.representation, bug.messages))\n",
    "    except:\n",
    "        traceback.print_exc()\n",
    "        new_failed_bugs.append(bug.id)\n",
    "    i += 1\n",
    "\n",
    "print \"Failed to download %d entries\" % len(new_failed_bugs)\n",
    "print \"Updating database\"\n",
    "db.set('failed_bugs', new_failed_bugs)\n",
    "db.set('timestamp', str(timestamp))\n",
    "# db.loco = db.loco + '.new'\n",
    "db.dump()\n"
   ]
  },
  {
   "cell_type": "code",
   "execution_count": 20,
   "metadata": {
    "collapsed": false
   },
   "outputs": [
    {
     "ename": "NameError",
     "evalue": "name 'db' is not defined",
     "output_type": "error",
     "traceback": [
      "\u001b[0;31m---------------------------------------------------------------------------\u001b[0m\n\u001b[0;31mNameError\u001b[0m                                 Traceback (most recent call last)",
      "\u001b[0;32m<ipython-input-20-46a4adc67324>\u001b[0m in \u001b[0;36m<module>\u001b[0;34m()\u001b[0m\n\u001b[1;32m      1\u001b[0m \u001b[0mi\u001b[0m\u001b[0;34m=\u001b[0m\u001b[0;36m0\u001b[0m\u001b[0;34m\u001b[0m\u001b[0m\n\u001b[0;32m----> 2\u001b[0;31m \u001b[0;32mfor\u001b[0m \u001b[0mkey\u001b[0m \u001b[0;32min\u001b[0m \u001b[0mdb\u001b[0m\u001b[0;34m.\u001b[0m\u001b[0mdb\u001b[0m\u001b[0;34m.\u001b[0m\u001b[0mkeys\u001b[0m\u001b[0;34m(\u001b[0m\u001b[0;34m)\u001b[0m\u001b[0;34m:\u001b[0m\u001b[0;34m\u001b[0m\u001b[0m\n\u001b[0m\u001b[1;32m      3\u001b[0m     \u001b[0;32mif\u001b[0m \u001b[0mkey\u001b[0m\u001b[0;34m.\u001b[0m\u001b[0mstartswith\u001b[0m\u001b[0;34m(\u001b[0m\u001b[0;34m'act'\u001b[0m\u001b[0;34m)\u001b[0m \u001b[0;32mand\u001b[0m \u001b[0mi\u001b[0m\u001b[0;34m<\u001b[0m\u001b[0;36m10\u001b[0m\u001b[0;34m:\u001b[0m\u001b[0;34m\u001b[0m\u001b[0m\n\u001b[1;32m      4\u001b[0m         \u001b[0mi\u001b[0m\u001b[0;34m+=\u001b[0m\u001b[0;36m1\u001b[0m\u001b[0;34m\u001b[0m\u001b[0m\n\u001b[1;32m      5\u001b[0m         \u001b[0;32mprint\u001b[0m \u001b[0mkey\u001b[0m\u001b[0;34m\u001b[0m\u001b[0m\n",
      "\u001b[0;31mNameError\u001b[0m: name 'db' is not defined"
     ]
    }
   ],
   "source": [
    "i=0\n",
    "for key in db.db.keys():\n",
    "    if key.startswith('act') and i<10:\n",
    "        i+=1\n",
    "        print key\n",
    "        for act in db.get(key):\n",
    "            print act['whatchanged']\n",
    "        "
   ]
  },
  {
   "cell_type": "code",
   "execution_count": 64,
   "metadata": {
    "collapsed": false
   },
   "outputs": [
    {
     "name": "stdout",
     "output_type": "stream",
     "text": [
      "{u'activity_collection_link': u'https://api.launchpad.net/devel/bugs/1315455/activity',\n",
      " u'attachments_collection_link': u'https://api.launchpad.net/devel/bugs/1315455/attachments',\n",
      " u'bug_tasks_collection_link': u'https://api.launchpad.net/devel/bugs/1315455/bug_tasks',\n",
      " u'bug_watches_collection_link': u'https://api.launchpad.net/devel/bugs/1315455/bug_watches',\n",
      " u'cves_collection_link': u'https://api.launchpad.net/devel/bugs/1315455/cves',\n",
      " u'date_created': u'2014-05-02T17:12:55.514538+00:00',\n",
      " u'date_last_message': u'2014-05-05T06:51:51.091755+00:00',\n",
      " u'date_last_updated': u'2014-05-05T06:52:11.973303+00:00',\n",
      " u'date_made_private': u'2014-05-02T17:12:55.514538+00:00',\n",
      " u'description': u\"I had to reboot this host because docker stopped accepting commands. Much to our dismay, the ssh daemon wasn't set to auto start. We can't ssh in and none of us have the ipmi credentials. Our wiki shows this page exists https://mirantis.jira.com/wiki/display/PRD/Hardware+for+Fuel but I don't have access.\\n\\nThe host is mc0n4-msk.msk.mirantis.net. Can you log in via ipmi, start ssh daemon, and enable it on boot automatically?\\n\\nThis is  urgent because it's impairing end of cycle development.\",\n",
      " u'duplicate_of_link': None,\n",
      " u'duplicates_collection_link': u'https://api.launchpad.net/devel/bugs/1315455/duplicates',\n",
      " u'heat': 156,\n",
      " u'http_etag': u'\"81b1b5a3d9c1103ce856eb4fb1691ce7a95f60a4-f73d614b94daee240e04b6f71eef57b6a25210d7\"',\n",
      " u'id': 1315455,\n",
      " u'information_type': u'Private',\n",
      " u'latest_patch_uploaded': None,\n",
      " u'linked_branches_collection_link': u'https://api.launchpad.net/devel/bugs/1315455/linked_branches',\n",
      " u'message_count': 2,\n",
      " u'messages_collection_link': u'https://api.launchpad.net/devel/bugs/1315455/messages',\n",
      " u'name': None,\n",
      " u'number_of_duplicates': 0,\n",
      " u'other_users_affected_count_with_dupes': 1,\n",
      " u'owner_link': u'https://api.launchpad.net/devel/~raytrac3r',\n",
      " u'private': True,\n",
      " u'resource_type_link': u'https://api.launchpad.net/devel/#bug',\n",
      " u'security_related': False,\n",
      " u'self_link': u'https://api.launchpad.net/devel/bugs/1315455',\n",
      " u'subscriptions_collection_link': u'https://api.launchpad.net/devel/bugs/1315455/subscriptions',\n",
      " u'tags': [u'devops'],\n",
      " u'title': u\"mc0n4-msk was rebooted and ssh isn't running\",\n",
      " u'users_affected_collection_link': u'https://api.launchpad.net/devel/bugs/1315455/users_affected',\n",
      " u'users_affected_count': 1,\n",
      " u'users_affected_count_with_dupes': 1,\n",
      " u'users_affected_with_dupes_collection_link': u'https://api.launchpad.net/devel/bugs/1315455/users_affected_with_dupes',\n",
      " u'users_unaffected_collection_link': u'https://api.launchpad.net/devel/bugs/1315455/users_unaffected',\n",
      " u'users_unaffected_count': 0,\n",
      " u'web_link': u'https://bugs.launchpad.net/bugs/1315455',\n",
      " u'who_made_private_link': u'https://api.launchpad.net/devel/~raytrac3r'}\n"
     ]
    }
   ],
   "source": [
    "from pprint import pprint\n",
    "for key in db.db.keys():\n",
    "    if key.startswith('bug'):\n",
    "        pass #print key\n",
    "pprint(db.get(\"bug:1315455\"))"
   ]
  },
  {
   "cell_type": "code",
   "execution_count": 19,
   "metadata": {
    "collapsed": false
   },
   "outputs": [],
   "source": [
    "import pandas as pd"
   ]
  },
  {
   "cell_type": "code",
   "execution_count": 21,
   "metadata": {
    "collapsed": false
   },
   "outputs": [
    {
     "data": {
      "text/plain": [
       "[{u'bug_link': u'https://api.launchpad.net/devel/bugs/1358144',\n",
       "  u'datechanged': u'2014-08-18T07:06:52.743089+00:00',\n",
       "  u'http_etag': u'\"84c1b140bf35ea05ba4e7ad2816a6d278fa00ea9-c607ca46c77b9673130a54553f81fd2595304c96\"',\n",
       "  u'message': u'added bug',\n",
       "  u'newvalue': None,\n",
       "  u'oldvalue': None,\n",
       "  u'person_link': u'https://api.launchpad.net/devel/~asledzinskiy',\n",
       "  u'resource_type_link': u'https://api.launchpad.net/devel/#bug_activity',\n",
       "  u'self_link': u'https://api.launchpad.net/devel/bugs/1358144/activity',\n",
       "  u'web_link': u'https://bugs.launchpad.net/bugs/1358144/activity',\n",
       "  u'whatchanged': u'bug'},\n",
       " {u'bug_link': u'https://api.launchpad.net/devel/bugs/1358144',\n",
       "  u'datechanged': u'2014-08-18T07:17:06.034077+00:00',\n",
       "  u'http_etag': u'\"618ae2e102f78db50448f5ba54be878867939295-c607ca46c77b9673130a54553f81fd2595304c96\"',\n",
       "  u'message': None,\n",
       "  u'newvalue': u'fuel-upgrade-failed-18-08-2014.tar https://bugs.launchpad.net/fuel/+bug/1358144/+attachment/4180302/+files/fuel-upgrade-failed-18-08-2014.tar',\n",
       "  u'oldvalue': None,\n",
       "  u'person_link': u'https://api.launchpad.net/devel/~asledzinskiy',\n",
       "  u'resource_type_link': u'https://api.launchpad.net/devel/#bug_activity',\n",
       "  u'self_link': u'https://api.launchpad.net/devel/bugs/1358144/activity',\n",
       "  u'web_link': u'https://bugs.launchpad.net/bugs/1358144/activity',\n",
       "  u'whatchanged': u'attachment added'},\n",
       " {u'bug_link': u'https://api.launchpad.net/devel/bugs/1358144',\n",
       "  u'datechanged': u'2014-08-18T08:34:52.903461+00:00',\n",
       "  u'http_etag': u'\"81a76ce6a9c1ef81a1b1be1795e53d868966ff90-c607ca46c77b9673130a54553f81fd2595304c96\"',\n",
       "  u'message': None,\n",
       "  u'newvalue': u'Confirmed',\n",
       "  u'oldvalue': u'New',\n",
       "  u'person_link': u'https://api.launchpad.net/devel/~ikalnitsky',\n",
       "  u'resource_type_link': u'https://api.launchpad.net/devel/#bug_activity',\n",
       "  u'self_link': u'https://api.launchpad.net/devel/bugs/1358144/activity',\n",
       "  u'web_link': u'https://bugs.launchpad.net/bugs/1358144/activity',\n",
       "  u'whatchanged': u'fuel: status'},\n",
       " {u'bug_link': u'https://api.launchpad.net/devel/bugs/1358144',\n",
       "  u'datechanged': u'2014-08-18T08:34:57.235487+00:00',\n",
       "  u'http_etag': u'\"634444bbede9fab918b01948ef40761bd33cdb00-c607ca46c77b9673130a54553f81fd2595304c96\"',\n",
       "  u'message': None,\n",
       "  u'newvalue': u'Igor Kalnitsky (ikalnitsky)',\n",
       "  u'oldvalue': u'Fuel Python Team (fuel-python)',\n",
       "  u'person_link': u'https://api.launchpad.net/devel/~ikalnitsky',\n",
       "  u'resource_type_link': u'https://api.launchpad.net/devel/#bug_activity',\n",
       "  u'self_link': u'https://api.launchpad.net/devel/bugs/1358144/activity',\n",
       "  u'web_link': u'https://bugs.launchpad.net/bugs/1358144/activity',\n",
       "  u'whatchanged': u'fuel: assignee'},\n",
       " {u'bug_link': u'https://api.launchpad.net/devel/bugs/1358144',\n",
       "  u'datechanged': u'2014-08-18T08:45:25.789037+00:00',\n",
       "  u'http_etag': u'\"be9d357eae685aca0c4eb1e10e4bfe26a778b10b-c607ca46c77b9673130a54553f81fd2595304c96\"',\n",
       "  u'message': None,\n",
       "  u'newvalue': u'Fuel Library Team (fuel-library)',\n",
       "  u'oldvalue': u'Igor Kalnitsky (ikalnitsky)',\n",
       "  u'person_link': u'https://api.launchpad.net/devel/~ikalnitsky',\n",
       "  u'resource_type_link': u'https://api.launchpad.net/devel/#bug_activity',\n",
       "  u'self_link': u'https://api.launchpad.net/devel/bugs/1358144/activity',\n",
       "  u'web_link': u'https://bugs.launchpad.net/bugs/1358144/activity',\n",
       "  u'whatchanged': u'fuel: assignee'},\n",
       " {u'bug_link': u'https://api.launchpad.net/devel/bugs/1358144',\n",
       "  u'datechanged': u'2014-08-18T09:14:56.277316+00:00',\n",
       "  u'http_etag': u'\"806a25e9d68c01eb282221c00d62dc6ce8d73003-c607ca46c77b9673130a54553f81fd2595304c96\"',\n",
       "  u'message': None,\n",
       "  u'newvalue': u'Matthew Mosesohn (raytrac3r)',\n",
       "  u'oldvalue': u'Fuel Library Team (fuel-library)',\n",
       "  u'person_link': u'https://api.launchpad.net/devel/~ikalnitsky',\n",
       "  u'resource_type_link': u'https://api.launchpad.net/devel/#bug_activity',\n",
       "  u'self_link': u'https://api.launchpad.net/devel/bugs/1358144/activity',\n",
       "  u'web_link': u'https://bugs.launchpad.net/bugs/1358144/activity',\n",
       "  u'whatchanged': u'fuel: assignee'},\n",
       " {u'bug_link': u'https://api.launchpad.net/devel/bugs/1358144',\n",
       "  u'datechanged': u'2014-08-18T09:15:01.160715+00:00',\n",
       "  u'http_etag': u'\"ed5bcd04181b5612437f03ce17468f3b6dcffecb-c607ca46c77b9673130a54553f81fd2595304c96\"',\n",
       "  u'message': None,\n",
       "  u'newvalue': u'In Progress',\n",
       "  u'oldvalue': u'Confirmed',\n",
       "  u'person_link': u'https://api.launchpad.net/devel/~ikalnitsky',\n",
       "  u'resource_type_link': u'https://api.launchpad.net/devel/#bug_activity',\n",
       "  u'self_link': u'https://api.launchpad.net/devel/bugs/1358144/activity',\n",
       "  u'web_link': u'https://bugs.launchpad.net/bugs/1358144/activity',\n",
       "  u'whatchanged': u'fuel: status'},\n",
       " {u'bug_link': u'https://api.launchpad.net/devel/bugs/1358144',\n",
       "  u'datechanged': u'2014-08-19T11:29:38.704581+00:00',\n",
       "  u'http_etag': u'\"377008645cbe1ef00a25a690be13f0e4995be72b-c607ca46c77b9673130a54553f81fd2595304c96\"',\n",
       "  u'message': None,\n",
       "  u'newvalue': u'Fix Committed',\n",
       "  u'oldvalue': u'In Progress',\n",
       "  u'person_link': u'https://api.launchpad.net/devel/~dburmistrov',\n",
       "  u'resource_type_link': u'https://api.launchpad.net/devel/#bug_activity',\n",
       "  u'self_link': u'https://api.launchpad.net/devel/bugs/1358144/activity',\n",
       "  u'web_link': u'https://bugs.launchpad.net/bugs/1358144/activity',\n",
       "  u'whatchanged': u'fuel: status'},\n",
       " {u'bug_link': u'https://api.launchpad.net/devel/bugs/1358144',\n",
       "  u'datechanged': u'2014-08-19T11:29:49.056350+00:00',\n",
       "  u'http_etag': u'\"133d3bc6353eee355b2f134e39514b28ec6ad06f-c607ca46c77b9673130a54553f81fd2595304c96\"',\n",
       "  u'message': None,\n",
       "  u'newvalue': u'In Progress',\n",
       "  u'oldvalue': u'Fix Committed',\n",
       "  u'person_link': u'https://api.launchpad.net/devel/~dburmistrov',\n",
       "  u'resource_type_link': u'https://api.launchpad.net/devel/#bug_activity',\n",
       "  u'self_link': u'https://api.launchpad.net/devel/bugs/1358144/activity',\n",
       "  u'web_link': u'https://bugs.launchpad.net/bugs/1358144/activity',\n",
       "  u'whatchanged': u'fuel: status'},\n",
       " {u'bug_link': u'https://api.launchpad.net/devel/bugs/1358144',\n",
       "  u'datechanged': u'2014-08-20T15:40:59.105158+00:00',\n",
       "  u'http_etag': u'\"1044a600db2ae1273738489933dae2e2beac99db-c607ca46c77b9673130a54553f81fd2595304c96\"',\n",
       "  u'message': None,\n",
       "  u'newvalue': u'Fix Committed',\n",
       "  u'oldvalue': u'In Progress',\n",
       "  u'person_link': u'https://api.launchpad.net/devel/~hudson-openstack',\n",
       "  u'resource_type_link': u'https://api.launchpad.net/devel/#bug_activity',\n",
       "  u'self_link': u'https://api.launchpad.net/devel/bugs/1358144/activity',\n",
       "  u'web_link': u'https://bugs.launchpad.net/bugs/1358144/activity',\n",
       "  u'whatchanged': u'fuel: status'},\n",
       " {u'bug_link': u'https://api.launchpad.net/devel/bugs/1358144',\n",
       "  u'datechanged': u'2014-08-21T15:02:32.064861+00:00',\n",
       "  u'http_etag': u'\"f4b3cd8bab091fe643168cbf7e89b9768ab41677-c607ca46c77b9673130a54553f81fd2595304c96\"',\n",
       "  u'message': None,\n",
       "  u'newvalue': u'Fix Released',\n",
       "  u'oldvalue': u'Fix Committed',\n",
       "  u'person_link': u'https://api.launchpad.net/devel/~asledzinskiy',\n",
       "  u'resource_type_link': u'https://api.launchpad.net/devel/#bug_activity',\n",
       "  u'self_link': u'https://api.launchpad.net/devel/bugs/1358144/activity',\n",
       "  u'web_link': u'https://bugs.launchpad.net/bugs/1358144/activity',\n",
       "  u'whatchanged': u'fuel: status'}]"
      ]
     },
     "execution_count": 21,
     "metadata": {},
     "output_type": "execute_result"
    }
   ],
   "source": [
    "db.get('act:1358144')"
   ]
  },
  {
   "cell_type": "code",
   "execution_count": 22,
   "metadata": {
    "collapsed": false
   },
   "outputs": [],
   "source": [
    "import numpy as np\n",
    "import matplotlib.pyplot as plt"
   ]
  },
  {
   "cell_type": "code",
   "execution_count": 23,
   "metadata": {
    "collapsed": false
   },
   "outputs": [],
   "source": [
    "x = np.linspace(0, 2*np.pi, 200)"
   ]
  },
  {
   "cell_type": "code",
   "execution_count": 24,
   "metadata": {
    "collapsed": false
   },
   "outputs": [
    {
     "data": {
      "text/plain": [
       "[<matplotlib.lines.Line2D at 0x1128980d0>]"
      ]
     },
     "execution_count": 24,
     "metadata": {},
     "output_type": "execute_result"
    },
    {
     "data": {
      "image/png": "[encoded data removed]",
      "text/plain": [
       "<matplotlib.figure.Figure at 0x1128a09d0>"
      ]
     },
     "metadata": {},
     "output_type": "display_data"
    }
   ],
   "source": [
    "%matplotlib inline\n",
    "fig = plt.figure()\n",
    "axes = fig.add_axes([0.1, 0.1, 0.8, 0.8])\n",
    "axes.set_xlabel('x')\n",
    "axes.set_ylabel('y')\n",
    "axes.set_title('title')\n",
    "#axes.plot(x, np.sin(x), 'r')\n",
    "#axes.plot(x, np.cos(x), 'g')\n",
    "axes.plot(x, np.sin(x)**2, 'b')\n",
    "axes.plot(x, np.cos(x)**2, 'y')\n",
    "axes.plot(x, np.abs(np.sin(x)), 'g')\n",
    "axes.plot(x, np.abs(np.cos(x)), 'p')\n",
    "axes.plot(x, np.sin(x)**2 + np.cos(x)**2, 'r')"
   ]
  },
  {
   "cell_type": "code",
   "execution_count": 101,
   "metadata": {
    "collapsed": false
   },
   "outputs": [
    {
     "data": {
      "image/png": "[encoded data removed]",
      "text/plain": [
       "<matplotlib.figure.Figure at 0x12510a550>"
      ]
     },
     "metadata": {},
     "output_type": "display_data"
    }
   ],
   "source": [
    "fig = plt.figure(figsize=(20,20))\n",
    "ax = fig.add_axes([0.0, 0.0, .6, .6], polar=True)\n",
    "for i in range(0, 9):\n",
    "    n = 2**i\n",
    "    size = np.pi / (i / 2 + 1) ** 2\n",
    "    size = np.pi / n\n",
    "    shift = size / 2\n",
    "    t1 = np.linspace(i + 2, i+2, 5)\n",
    "    for j in range (0, n):\n",
    "        t = np.linspace(0 + shift+size*2*j, size*(2*j+1) + shift, 5)\n",
    "        ax.plot(t, t1, color='blue', lw=3);\n",
    "t1 = np.linspace(1, 1, 5)\n",
    "t = np.linspace(0, np.pi, 5)\n",
    "ax.plot(t, t1, color='blue', lw=3);\n",
    "# fig.savefig('graph.png')"
   ]
  },
  {
   "cell_type": "code",
   "execution_count": 87,
   "metadata": {
    "collapsed": false
   },
   "outputs": [],
   "source": []
  },
  {
   "cell_type": "code",
   "execution_count": null,
   "metadata": {
    "collapsed": false
   },
   "outputs": [],
   "source": []
  }
 ],
 "metadata": {
  "kernelspec": {
   "display_name": "Python 2",
   "language": "python",
   "name": "python2"
  },
  "language_info": {
   "codemirror_mode": {
    "name": "ipython",
    "version": 2
   },
   "file_extension": ".py",
   "mimetype": "text/x-python",
   "name": "python",
   "nbconvert_exporter": "python",
   "pygments_lexer": "ipython2",
   "version": "2.7.10"
  }
 },
 "nbformat": 4,
 "nbformat_minor": 0
}
