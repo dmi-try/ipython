{
 "cells": [
  {
   "cell_type": "markdown",
   "metadata": {},
   "source": [
    "# Gists for work with Launchpad"
   ]
  },
  {
   "cell_type": "markdown",
   "metadata": {},
   "source": [
    "You can find Launchpad API documentation here: https://launchpad.net/+apidoc/devel.html\n",
    "\n",
    "Gerrit API documentation is here: https://gerrit-review.googlesource.com/Documentation/rest-api-changes.html"
   ]
  },
  {
   "cell_type": "markdown",
   "metadata": {},
   "source": [
    "## Initialise launchpad connection"
   ]
  },
  {
   "cell_type": "code",
   "execution_count": 2,
   "metadata": {
    "collapsed": false
   },
   "outputs": [
    {
     "name": "stdout",
     "output_type": "stream",
     "text": [
      "Example of bug output:\n"
     ]
    },
    {
     "data": {
      "text/html": [
       "<span style='background-color: blue; color: white'>B 1484080</span> <a href=https://bugs.launchpad.net/bugs/1484080>qemu2.0.0 should be upgraded to 2.4 on Jenkins Product CI</a> <span style='background-color: red; color: white'>2015-08-12</span>/<span style='background-color: red; color: white'>2015-11-10</span><br>- Fix Released / High / mmatuszkowiak / 8.0<br>- [area-devops <i>devops</i> <b>swarm-blocker</b>]"
      ],
      "text/plain": [
       "<IPython.core.display.HTML object>"
      ]
     },
     "metadata": {},
     "output_type": "display_data"
    },
    {
     "data": {
      "text/html": [
       "- <a href='https://review.fuel-infra.org/11303'>https://review.fuel-infra.org/11303</a>"
      ],
      "text/plain": [
       "<IPython.core.display.HTML object>"
      ]
     },
     "metadata": {},
     "output_type": "display_data"
    },
    {
     "data": {
      "text/html": [
       "- <a href='https://review.fuel-infra.org/11435'>https://review.fuel-infra.org/11435</a>"
      ],
      "text/plain": [
       "<IPython.core.display.HTML object>"
      ]
     },
     "metadata": {},
     "output_type": "display_data"
    },
    {
     "data": {
      "text/html": [
       "- <a href='https://review.fuel-infra.org/11169'>https://review.fuel-infra.org/11169</a>"
      ],
      "text/plain": [
       "<IPython.core.display.HTML object>"
      ]
     },
     "metadata": {},
     "output_type": "display_data"
    },
    {
     "data": {
      "text/html": [
       "- <a href='https://review.fuel-infra.org/11274'>https://review.fuel-infra.org/11274</a>"
      ],
      "text/plain": [
       "<IPython.core.display.HTML object>"
      ]
     },
     "metadata": {},
     "output_type": "display_data"
    },
    {
     "data": {
      "text/html": [
       "- <span style='background-color: lightgreen; color: black'>R 13683</span> fuel-infra/puppet-manifests master MERGED <a href='https://review.fuel-infra.org/13683'>Adding stub for qemu=2.4 missed modprobe file</a> Igor Shishkin 2015-11-05/2015-11-05"
      ],
      "text/plain": [
       "<IPython.core.display.HTML object>"
      ]
     },
     "metadata": {},
     "output_type": "display_data"
    },
    {
     "data": {
      "text/html": [
       "- <a href='https://review.fuel-infra.org/11518'>https://review.fuel-infra.org/11518</a>"
      ],
      "text/plain": [
       "<IPython.core.display.HTML object>"
      ]
     },
     "metadata": {},
     "output_type": "display_data"
    },
    {
     "data": {
      "text/html": [
       "- <a href='https://review.fuel-infra.org/11241'>https://review.fuel-infra.org/11241</a>"
      ],
      "text/plain": [
       "<IPython.core.display.HTML object>"
      ]
     },
     "metadata": {},
     "output_type": "display_data"
    },
    {
     "data": {
      "text/html": [
       "- <a href='https://review.fuel-infra.org/11248'>https://review.fuel-infra.org/11248</a>"
      ],
      "text/plain": [
       "<IPython.core.display.HTML object>"
      ]
     },
     "metadata": {},
     "output_type": "display_data"
    },
    {
     "name": "stdout",
     "output_type": "stream",
     "text": [
      "Example of review output:\n"
     ]
    },
    {
     "ename": "KeyError",
     "evalue": "'name'",
     "output_type": "error",
     "traceback": [
      "\u001b[1;31m---------------------------------------------------------------------------\u001b[0m",
      "\u001b[1;31mKeyError\u001b[0m                                  Traceback (most recent call last)",
      "\u001b[1;32m<ipython-input-2-b7678f1f1baa>\u001b[0m in \u001b[0;36m<module>\u001b[1;34m()\u001b[0m\n\u001b[0;32m    113\u001b[0m \u001b[0mchange\u001b[0m \u001b[1;33m=\u001b[0m \u001b[0mrests\u001b[0m\u001b[1;33m[\u001b[0m\u001b[1;36m0\u001b[0m\u001b[1;33m]\u001b[0m\u001b[1;33m.\u001b[0m\u001b[0mget\u001b[0m\u001b[1;33m(\u001b[0m\u001b[1;34m'/changes/%d'\u001b[0m \u001b[1;33m%\u001b[0m \u001b[1;36m225941\u001b[0m\u001b[1;33m)\u001b[0m\u001b[1;33m\u001b[0m\u001b[0m\n\u001b[0;32m    114\u001b[0m \u001b[1;32mprint\u001b[0m \u001b[1;34m\"Example of review output:\"\u001b[0m\u001b[1;33m\u001b[0m\u001b[0m\n\u001b[1;32m--> 115\u001b[1;33m \u001b[0mdisplay_change\u001b[0m\u001b[1;33m(\u001b[0m\u001b[0mgerrits\u001b[0m\u001b[1;33m[\u001b[0m\u001b[1;36m0\u001b[0m\u001b[1;33m]\u001b[0m\u001b[1;33m,\u001b[0m \u001b[0mchange\u001b[0m\u001b[1;33m)\u001b[0m\u001b[1;33m\u001b[0m\u001b[0m\n\u001b[0m",
      "\u001b[1;32m<ipython-input-2-b7678f1f1baa>\u001b[0m in \u001b[0;36mdisplay_change\u001b[1;34m(rest_url, change)\u001b[0m\n\u001b[0;32m     99\u001b[0m         \u001b[0msubject\u001b[0m\u001b[1;33m=\u001b[0m\u001b[0mchange\u001b[0m\u001b[1;33m[\u001b[0m\u001b[1;34m'subject'\u001b[0m\u001b[1;33m]\u001b[0m\u001b[1;33m,\u001b[0m\u001b[1;33m\u001b[0m\u001b[0m\n\u001b[0;32m    100\u001b[0m         \u001b[0mstatus\u001b[0m\u001b[1;33m=\u001b[0m\u001b[0mchange\u001b[0m\u001b[1;33m[\u001b[0m\u001b[1;34m'status'\u001b[0m\u001b[1;33m]\u001b[0m\u001b[1;33m,\u001b[0m\u001b[1;33m\u001b[0m\u001b[0m\n\u001b[1;32m--> 101\u001b[1;33m         \u001b[0mowner\u001b[0m\u001b[1;33m=\u001b[0m\u001b[0mchange\u001b[0m\u001b[1;33m[\u001b[0m\u001b[1;34m'owner'\u001b[0m\u001b[1;33m]\u001b[0m\u001b[1;33m[\u001b[0m\u001b[1;34m'name'\u001b[0m\u001b[1;33m]\u001b[0m\u001b[1;33m,\u001b[0m\u001b[1;33m\u001b[0m\u001b[0m\n\u001b[0m\u001b[0;32m    102\u001b[0m         \u001b[0mproject\u001b[0m\u001b[1;33m=\u001b[0m\u001b[0mchange\u001b[0m\u001b[1;33m[\u001b[0m\u001b[1;34m'project'\u001b[0m\u001b[1;33m]\u001b[0m\u001b[1;33m,\u001b[0m\u001b[1;33m\u001b[0m\u001b[0m\n\u001b[0;32m    103\u001b[0m         \u001b[0mbranch\u001b[0m\u001b[1;33m=\u001b[0m\u001b[0mchange\u001b[0m\u001b[1;33m[\u001b[0m\u001b[1;34m'branch'\u001b[0m\u001b[1;33m]\u001b[0m\u001b[1;33m,\u001b[0m\u001b[1;33m\u001b[0m\u001b[0m\n",
      "\u001b[1;31mKeyError\u001b[0m: 'name'"
     ]
    }
   ],
   "source": [
    "from IPython.core.display import display, HTML\n",
    "import pandas as pd\n",
    "import numpy as np\n",
    "#import matplotlib.pyplot as plt\n",
    "import re\n",
    "import datetime\n",
    "\n",
    "\n",
    "from launchpadlib.launchpad import Launchpad\n",
    "from pygerrit.rest import GerritRestAPI\n",
    "\n",
    "gerrits = ['https://review.openstack.org/', 'https://review.fuel-infra.org/']\n",
    "rests = map(lambda x: GerritRestAPI(x), gerrits)\n",
    "\n",
    "lp = Launchpad.login_with('lp-report-bot', 'production', version='devel')\n",
    "prj = lp.projects['fuel']\n",
    "\n",
    "dev_focus = prj.development_focus\n",
    "cur_ms = prj.getMilestone(name='10.0')\n",
    "\n",
    "open_statuses = ['New', 'Confirmed', 'Triaged', 'In Progress']\n",
    "\n",
    "important_tags = ['customer-found', 'support', 'swarm-blocker', 'long-haul-testing']\n",
    "excluded_tags = [\n",
    "    'feature', 'covered-by-bp', 'need-bp', 'needs-bp',\n",
    "    'system-tests', 'docs',\n",
    "    'devops', 'fuel-ci', 'fuel-build']\n",
    "\n",
    "area_tags = ['library', 'ui', 'fuel-python', 'system-tests', 'docs', 'devops', 'fuel-ci', 'fuel-build']\n",
    "\n",
    "high_priority = ['Critical', 'High']\n",
    "low_priority = ['Medium', 'Low', 'Wishlist']\n",
    "\n",
    "def display_url(url):\n",
    "    display(HTML(\"- <a href='{link}'>{link}</a>\".format(link=url)))\n",
    "\n",
    "def display_date(date, highlight_old_in_days=False):\n",
    "    delta = (datetime.date.today() - datetime.datetime.strptime(date, \"%Y-%m-%d\").date()).days\n",
    "    if highlight_old_in_days and highlight_old_in_days < delta:\n",
    "        return \"<span style='background-color: red; color: white'>%s</span>\" % date\n",
    "    return date\n",
    "    \n",
    "def display_bug(bug, highlight_teams=False):\n",
    "    def html_tag(t):\n",
    "        if t in important_tags:\n",
    "            return \"<b>%s</b>\" % t\n",
    "        if t in excluded_tags:\n",
    "            return \"<i>%s</i>\" %t\n",
    "        return t\n",
    "    if highlight_teams:\n",
    "        highlight_date = 3\n",
    "    else:\n",
    "        highlight_date = False\n",
    "    if bug.bug_tasks[0].assignee is None:\n",
    "        assignee_name = 'None'\n",
    "    else:\n",
    "        assignee_name = bug.bug_tasks[0].assignee.name\n",
    "        if not bug.bug_tasks[0].assignee.is_team:\n",
    "            highlight_date = 3\n",
    "    if bug.bug_tasks[0].milestone is None:\n",
    "        ms_name = 'None'\n",
    "    else:\n",
    "        ms_name = bug.bug_tasks[0].milestone.name\n",
    "    display(HTML(\"<span style='background-color: blue; color: white'>B {id}</span> <a href={link}>{title}</a> {created}/{updated}<br>- {status} / {priority} / {assignee} / {ms}<br>- [{tags}]\".format(\n",
    "        id=bug.id, link=bug.web_link, title=bug.title, status=bug.bug_tasks[0].status,\n",
    "        assignee=assignee_name, ms=ms_name,\n",
    "        priority=bug.bug_tasks[0].importance,\n",
    "        tags=' '.join(map(html_tag, bug.tags)),\n",
    "        created=display_date(bug.date_created.strftime(\"%Y-%m-%d\"), 120),\n",
    "        updated=display_date(bug.date_last_updated.strftime(\"%Y-%m-%d\"), highlight_date)\n",
    "    )))\n",
    "    reviews = []\n",
    "    for msg in bug.messages:\n",
    "        for g in gerrits:\n",
    "            reviews += re.findall(g + '\\d+', msg.content)\n",
    "            long_reviews = re.findall(g + '#/c/\\d+/', msg.content)\n",
    "            for u in long_reviews:\n",
    "                reviews += [u.replace('#/c/', '').rstrip('/')]\n",
    "\n",
    "    for rev_url in set(reviews):\n",
    "        [base_url, id] = rev_url.rsplit('/', 1)\n",
    "        rest = GerritRestAPI(base_url)\n",
    "        try:\n",
    "            review = rest.get('/changes/' + id)\n",
    "            display_change(base_url, review)\n",
    "        except:\n",
    "            display_url(rev_url)\n",
    "\n",
    "\n",
    "    \n",
    "def display_change(rest_url, change):\n",
    "    highlight_date = False\n",
    "    if change['status'] == 'NEW':\n",
    "        highlight_date = 3\n",
    "        \n",
    "    display(HTML(\"- <span style='background-color: lightgreen; color: black'>R {number}</span> {project} {branch} {status} <a href='{link}'>{subject}</a> {owner} {created}/{updated}\".format(\n",
    "        number=change['_number'],\n",
    "        link=\"%s/%d\" % (rest_url, change['_number']),\n",
    "        subject=change['subject'],\n",
    "        status=change['status'],\n",
    "        owner=change['owner']['name'],\n",
    "        project=change['project'],\n",
    "        branch=change['branch'],\n",
    "        created=change['created'][:10],\n",
    "        updated=display_date(change['updated'][:10], highlight_date)\n",
    "    )))\n",
    "\n",
    "bug = lp.bugs[1484080]\n",
    "\n",
    "print \"Example of bug output:\"\n",
    "display_bug(bug)\n",
    "\n",
    "change = rests[0].get('/changes/%d' % 225941)\n",
    "print \"Example of review output:\"\n",
    "display_change(gerrits[0], change)"
   ]
  },
  {
   "cell_type": "markdown",
   "metadata": {},
   "source": [
    "## Find all open tasks on current series and replace them with default tasks"
   ]
  },
  {
   "cell_type": "code",
   "execution_count": 2,
   "metadata": {
    "collapsed": true
   },
   "outputs": [
    {
     "name": "stdout",
     "output_type": "stream",
     "text": [
      "Done\n"
     ]
    }
   ],
   "source": [
    "dry_run = False\n",
    "\n",
    "for bug_task in dev_focus.searchTasks(milestone=cur_ms, status=open_statuses):\n",
    "    bug = bug_task.bug\n",
    "    print bug.web_link\n",
    "    bt0 = bug.bug_tasks[0]\n",
    "    bt1 = None\n",
    "    for bt in bug.bug_tasks:\n",
    "        if bt.target == dev_focus:\n",
    "            bt1 = bt\n",
    "    print [bt0.web_link, bt0.status, bt0.importance, bt0.milestone, bt0.assignee]\n",
    "    print [bt1.web_link, bt1.status, bt1.importance, bt1.milestone, bt1.assignee]\n",
    "    if bt0.target != prj:\n",
    "        raise Exception(\"Wrong project\")\n",
    "    if bt1.target != dev_focus:\n",
    "        raise Exception(\"Wrong series\")\n",
    "    if (\n",
    "        bt0.status == bt1.status and\n",
    "        bt0.importance == bt1.importance and\n",
    "        bt0.milestone == bt1.milestone and\n",
    "        bt0.assignee == bt1.assignee):\n",
    "        print \"Deleting task on series 8.0.x\"\n",
    "    else:\n",
    "        print \"Tasks mismatch\"\n",
    "        [bt0.status, bt0.importance, bt0.milestone, bt0.assignee] = [bt1.status, bt1.importance, bt1.milestone, bt1.assignee]\n",
    "        \n",
    "    if not dry_run:\n",
    "        bt0.lp_save()\n",
    "        print \"Root task updated\"\n",
    "        rbt = lp.bugs[bug.id].bug_tasks[0]\n",
    "        if (\n",
    "            rbt.status == bt1.status and\n",
    "            rbt.importance == bt1.importance and\n",
    "            rbt.milestone == bt1.milestone and\n",
    "            rbt.assignee == bt1.assignee):\n",
    "            bt1.lp_delete()\n",
    "            print \"Series task deleted\"\n",
    "        else:\n",
    "            raise Exception(\"Recheck failed!\")\n",
    "\n",
    "print \"Done\""
   ]
  },
  {
   "cell_type": "markdown",
   "metadata": {},
   "source": [
    "## Find all support/swarm-blocker/long-haul-testing bugs that are hidden in excluded tags"
   ]
  },
  {
   "cell_type": "code",
   "execution_count": 151,
   "metadata": {
    "collapsed": true
   },
   "outputs": [
    {
     "data": {
      "text/html": [
       "<span style='background-color: blue; color: white'>B 1442532</span> <a href=https://bugs.launchpad.net/bugs/1442532>[Doc] We should use fixed minimal width of the pages</a> <span style='background-color: red; color: white'>2015-04-10</span>/<span style='background-color: red; color: white'>2015-10-08</span><br>- Confirmed / High / evkonstantinov / 8.0<br>- [<i>docs</i> qa-agree-7.0 <b>support</b>]"
      ],
      "text/plain": [
       "<IPython.core.display.HTML at 0x1166acc50>"
      ]
     },
     "metadata": {},
     "output_type": "display_data"
    },
    {
     "data": {
      "text/html": [
       "<span style='background-color: blue; color: white'>B 1474362</span> <a href=https://bugs.launchpad.net/bugs/1474362>[Docs] Please add documentation how-to restore plugins</a> 2015-07-14/<span style='background-color: red; color: white'>2015-10-08</span><br>- Confirmed / High / ogusarenko / 8.0<br>- [<i>docs</i> feature-plugins <b>support</b>]"
      ],
      "text/plain": [
       "<IPython.core.display.HTML at 0x1166d1050>"
      ]
     },
     "metadata": {},
     "output_type": "display_data"
    },
    {
     "data": {
      "text/html": [
       "<span style='background-color: blue; color: white'>B 1485600</span> <a href=https://bugs.launchpad.net/bugs/1485600>[Docs] We have no description about default user for instances, created by Murano and Heat</a> 2015-08-17/2015-10-08<br>- Confirmed / High / fuel-docs / 8.0<br>- [<b>customer-found</b> <i>docs</i> heat murano <b>support</b>]"
      ],
      "text/plain": [
       "<IPython.core.display.HTML at 0x1166a1890>"
      ]
     },
     "metadata": {},
     "output_type": "display_data"
    },
    {
     "data": {
      "text/html": [
       "<span style='background-color: blue; color: white'>B 1490597</span> <a href=https://bugs.launchpad.net/bugs/1490597>[volume allocation] Default disk partitioning logic is not optimal: we have unallocated disk space</a> 2015-08-31/2015-10-12<br>- Confirmed / High / fuel-python / 8.0<br>- [<i>covered-by-bp</i> <b>long-haul-testing</b> release-notes tricky]"
      ],
      "text/plain": [
       "<IPython.core.display.HTML at 0x116852c90>"
      ]
     },
     "metadata": {},
     "output_type": "display_data"
    },
    {
     "data": {
      "text/html": [
       "- <span style='background-color: lightgreen; color: black'>R 223453</span> stackforge/fuel-docs master MERGED <a href='https://review.openstack.org/223453'>Add disk allocation issue to relnotes</a> Evgeny Konstantinov 2015-09-15/2015-09-15"
      ],
      "text/plain": [
       "<IPython.core.display.HTML at 0x1168521d0>"
      ]
     },
     "metadata": {},
     "output_type": "display_data"
    },
    {
     "data": {
      "text/html": [
       "<span style='background-color: blue; color: white'>B 1439087</span> <a href=https://bugs.launchpad.net/bugs/1439087>We do not have documentation about enabling nova quota if cluster deployed without it.</a> <span style='background-color: red; color: white'>2015-04-01</span>/2015-10-14<br>- In Progress / Medium / evkonstantinov / 8.0<br>- [<i>docs</i> fuel-docs <b>support</b>]"
      ],
      "text/plain": [
       "<IPython.core.display.HTML at 0x112deb110>"
      ]
     },
     "metadata": {},
     "output_type": "display_data"
    },
    {
     "data": {
      "text/html": [
       "- <span style='background-color: lightgreen; color: black'>R 170821</span> stackforge/fuel-docs master NEW <a href='https://review.openstack.org/170821'>Adds instructions on enabling nova quota into OpsGuide</a> Irina 2015-04-06/<span style='background-color: red; color: white'>2015-09-18</span>"
      ],
      "text/plain": [
       "<IPython.core.display.HTML at 0x1166bc1d0>"
      ]
     },
     "metadata": {},
     "output_type": "display_data"
    },
    {
     "name": "stdout",
     "output_type": "stream",
     "text": [
      "Found 5 bugs\n"
     ]
    }
   ],
   "source": [
    "search_tags = list(important_tags)\n",
    "search_tags.remove('customer-found')\n",
    "collection = prj.searchTasks(milestone=cur_ms, status=open_statuses, tags=search_tags)\n",
    "i = 0\n",
    "for bt in collection:\n",
    "    if set(bt.bug.tags).intersection(excluded_tags):\n",
    "        display_bug(bt.bug)\n",
    "        i += 1\n",
    "print \"Found %s bugs\" % i"
   ]
  },
  {
   "cell_type": "markdown",
   "metadata": {},
   "source": [
    "## Find all covered-by-bp bugs"
   ]
  },
  {
   "cell_type": "code",
   "execution_count": 168,
   "metadata": {
    "collapsed": true
   },
   "outputs": [
    {
     "data": {
      "text/html": [
       "<span style='background-color: blue; color: white'>B 1306792</span> <a href=https://bugs.launchpad.net/bugs/1306792>[volumes-refactoring] Fuel Default Disk Partion Scheme is very sub-optimal</a> <span style='background-color: red; color: white'>2014-04-11</span>/2015-10-12<br>- Confirmed / High / fuel-python / 8.0<br>- [blocked-by-bp <i>covered-by-bp</i> <b>customer-found</b> module-volumes qa-agree-8.0]"
      ],
      "text/plain": [
       "<IPython.core.display.HTML at 0x1159a05d0>"
      ]
     },
     "metadata": {},
     "output_type": "display_data"
    },
    {
     "data": {
      "text/html": [
       "<span style='background-color: blue; color: white'>B 1350623</span> <a href=https://bugs.launchpad.net/bugs/1350623>network verification checker should test for ovs vlan issues</a> <span style='background-color: red; color: white'>2014-07-31</span>/2015-10-12<br>- Triaged / High / fuel-python / 8.0<br>- [<i>covered-by-bp</i> <b>customer-found</b> module-netcheck qa-agree-7.0]"
      ],
      "text/plain": [
       "<IPython.core.display.HTML at 0x1158f2710>"
      ]
     },
     "metadata": {},
     "output_type": "display_data"
    },
    {
     "data": {
      "text/html": [
       "<span style='background-color: blue; color: white'>B 1435610</span> <a href=https://bugs.launchpad.net/bugs/1435610>upload_cirros failed and marked all nodes failed</a> <span style='background-color: red; color: white'>2015-03-23</span>/2015-10-12<br>- Triaged / High / fuel-python / 8.0<br>- [<i>covered-by-bp</i> <i>feature</i> known-issue module-tasks qa-agree-8.0]"
      ],
      "text/plain": [
       "<IPython.core.display.HTML at 0x1159d6f50>"
      ]
     },
     "metadata": {},
     "output_type": "display_data"
    },
    {
     "data": {
      "text/html": [
       "<span style='background-color: blue; color: white'>B 1439776</span> <a href=https://bugs.launchpad.net/bugs/1439776>\"ready\" status while post_deploy tasks still running</a> <span style='background-color: red; color: white'>2015-04-02</span>/2015-09-14<br>- Confirmed / High / fuel-python / 8.0<br>- [<i>covered-by-bp</i> module-tasks qa-agree-8.0 release-notes]"
      ],
      "text/plain": [
       "<IPython.core.display.HTML at 0x115976b50>"
      ]
     },
     "metadata": {},
     "output_type": "display_data"
    },
    {
     "data": {
      "text/html": [
       "<span style='background-color: blue; color: white'>B 1445311</span> <a href=https://bugs.launchpad.net/bugs/1445311>Shotgun makes a second copy of a /var/log/remote while creating a snapshot</a> <span style='background-color: red; color: white'>2015-04-17</span>/<span style='background-color: red; color: white'>2015-10-06</span><br>- In Progress / High / a-gordeev / 8.0<br>- [<i>feature</i> module-shotgun <i>need-bp</i>]"
      ],
      "text/plain": [
       "<IPython.core.display.HTML at 0x115953650>"
      ]
     },
     "metadata": {},
     "output_type": "display_data"
    },
    {
     "data": {
      "text/html": [
       "- <span style='background-color: lightgreen; color: black'>R 231621</span> stackforge/fuel-web master NEW <a href='https://review.openstack.org/231621'>Create symlinks instead of full copying</a> Aleksandr Gordeev 2015-10-06/2015-10-15"
      ],
      "text/plain": [
       "<IPython.core.display.HTML at 0x10e611c90>"
      ]
     },
     "metadata": {},
     "output_type": "display_data"
    },
    {
     "data": {
      "text/html": [
       "- <span style='background-color: lightgreen; color: black'>R 231620</span> stackforge/fuel-web master NEW <a href='https://review.openstack.org/231620'>Ditch Subs</a> Aleksandr Gordeev 2015-10-06/2015-10-15"
      ],
      "text/plain": [
       "<IPython.core.display.HTML at 0x115953f50>"
      ]
     },
     "metadata": {},
     "output_type": "display_data"
    },
    {
     "data": {
      "text/html": [
       "<span style='background-color: blue; color: white'>B 1472303</span> <a href=https://bugs.launchpad.net/bugs/1472303>nodegroup ID/name missing under network tab</a> 2015-07-07/2015-10-14<br>- Confirmed / High / fuel-ui / 8.0<br>- [<i>covered-by-bp</i> <b>customer-found</b> feature-nodegroup ui]"
      ],
      "text/plain": [
       "<IPython.core.display.HTML at 0x1159531d0>"
      ]
     },
     "metadata": {},
     "output_type": "display_data"
    },
    {
     "data": {
      "text/html": [
       "<span style='background-color: blue; color: white'>B 1490597</span> <a href=https://bugs.launchpad.net/bugs/1490597>[volume allocation] Default disk partitioning logic is not optimal: we have unallocated disk space</a> 2015-08-31/2015-10-12<br>- Confirmed / High / fuel-python / 8.0<br>- [<i>covered-by-bp</i> <b>long-haul-testing</b> release-notes tricky]"
      ],
      "text/plain": [
       "<IPython.core.display.HTML at 0x11596a7d0>"
      ]
     },
     "metadata": {},
     "output_type": "display_data"
    },
    {
     "data": {
      "text/html": [
       "- <span style='background-color: lightgreen; color: black'>R 223453</span> stackforge/fuel-docs master MERGED <a href='https://review.openstack.org/223453'>Add disk allocation issue to relnotes</a> Evgeny Konstantinov 2015-09-15/2015-09-15"
      ],
      "text/plain": [
       "<IPython.core.display.HTML at 0x1166bc290>"
      ]
     },
     "metadata": {},
     "output_type": "display_data"
    },
    {
     "data": {
      "text/html": [
       "<span style='background-color: blue; color: white'>B 1491416</span> <a href=https://bugs.launchpad.net/bugs/1491416>fuel-createmirror: Creation of MOS mirror FAILED</a> 2015-09-02/<span style='background-color: red; color: white'>2015-09-29</span><br>- Triaged / High / bgaifullin / 8.0<br>- [<i>covered-by-bp</i> fuel-createmirror]"
      ],
      "text/plain": [
       "<IPython.core.display.HTML at 0x115976410>"
      ]
     },
     "metadata": {},
     "output_type": "display_data"
    },
    {
     "data": {
      "text/html": [
       "<span style='background-color: blue; color: white'>B 1497000</span> <a href=https://bugs.launchpad.net/bugs/1497000>Unusual behaviour of script fuel-createmirror is seen during local repo creation on a remote ubuntu machine</a> 2015-09-17/<span style='background-color: red; color: white'>2015-09-29</span><br>- Confirmed / High / bgaifullin / 8.0<br>- [<i>covered-by-bp</i> fuel-createmirror]"
      ],
      "text/plain": [
       "<IPython.core.display.HTML at 0x1157c39d0>"
      ]
     },
     "metadata": {},
     "output_type": "display_data"
    },
    {
     "data": {
      "text/html": [
       "<span style='background-color: blue; color: white'>B 1504338</span> <a href=https://bugs.launchpad.net/bugs/1504338>Plugin management code must be moved to Nailgun</a> 2015-10-08/2015-10-13<br>- Confirmed / High / fuel-python / 8.0<br>- [<i>covered-by-bp</i> module-client module-nailgun tech-debt]"
      ],
      "text/plain": [
       "<IPython.core.display.HTML at 0x1159a0790>"
      ]
     },
     "metadata": {},
     "output_type": "display_data"
    },
    {
     "data": {
      "text/html": [
       "<span style='background-color: blue; color: white'>B 1286203</span> <a href=https://bugs.launchpad.net/bugs/1286203>[nailgun] Roles assignment validation doesn't work on server-side</a> <span style='background-color: red; color: white'>2014-02-28</span>/<span style='background-color: red; color: white'>2015-10-12</span><br>- Triaged / Medium / vsharshov / 8.0<br>- [<i>feature</i> feature-validation known-issue low-hanging-fruit <i>need-bp</i> qa-agree-7.0]"
      ],
      "text/plain": [
       "<IPython.core.display.HTML at 0x11594e9d0>"
      ]
     },
     "metadata": {},
     "output_type": "display_data"
    },
    {
     "data": {
      "text/html": [
       "- <span style='background-color: lightgreen; color: black'>R 87209</span> stackforge/fuel-web master ABANDONED <a href='https://review.openstack.org/87209'>Roles assignment validation enabled on server-side</a> Alexander Kislitsky 2014-04-14/2014-05-26"
      ],
      "text/plain": [
       "<IPython.core.display.HTML at 0x11594ec50>"
      ]
     },
     "metadata": {},
     "output_type": "display_data"
    },
    {
     "data": {
      "text/html": [
       "<span style='background-color: blue; color: white'>B 1392387</span> <a href=https://bugs.launchpad.net/bugs/1392387>Incorrect status of progress bar on nodes from not default nodegroup</a> <span style='background-color: red; color: white'>2014-11-13</span>/<span style='background-color: red; color: white'>2015-10-01</span><br>- Triaged / Medium / vsharshov / 8.0<br>- [<i>covered-by-bp</i> <i>feature</i> feature-multi-l2 feature-nodegroup feature-progress-bar]"
      ],
      "text/plain": [
       "<IPython.core.display.HTML at 0x1161cee10>"
      ]
     },
     "metadata": {},
     "output_type": "display_data"
    },
    {
     "data": {
      "text/html": [
       "<span style='background-color: blue; color: white'>B 1397384</span> <a href=https://bugs.launchpad.net/bugs/1397384>Logs are difficult to understand after a 3-4 redeployments on the big env</a> <span style='background-color: red; color: white'>2014-11-28</span>/2015-10-12<br>- Confirmed / Medium / fuel-python / 8.0<br>- [known-issue module-shotgun <i>need-bp</i> qa-agree-7.0 scale]"
      ],
      "text/plain": [
       "<IPython.core.display.HTML at 0x115976b10>"
      ]
     },
     "metadata": {},
     "output_type": "display_data"
    },
    {
     "data": {
      "text/html": [
       "<span style='background-color: blue; color: white'>B 1403440</span> <a href=https://bugs.launchpad.net/bugs/1403440>[nailgun] gateway address should be validated during network setup</a> <span style='background-color: red; color: white'>2014-12-17</span>/2015-10-12<br>- Triaged / Medium / fuel-python / 8.0<br>- [<i>covered-by-bp</i> feature-advanced-networking feature-validation]"
      ],
      "text/plain": [
       "<IPython.core.display.HTML at 0x115906f50>"
      ]
     },
     "metadata": {},
     "output_type": "display_data"
    },
    {
     "data": {
      "text/html": [
       "<span style='background-color: blue; color: white'>B 1433243</span> <a href=https://bugs.launchpad.net/bugs/1433243>No  timestamps or wrong format of timestamps in logfiles under fuel-master:/var/log</a> <span style='background-color: red; color: white'>2015-03-17</span>/2015-10-12<br>- Confirmed / Medium / fuel-library / 8.0<br>- [<b>customer-found</b> <i>need-bp</i> qa-agree-7.0]"
      ],
      "text/plain": [
       "<IPython.core.display.HTML at 0x1158f29d0>"
      ]
     },
     "metadata": {},
     "output_type": "display_data"
    },
    {
     "data": {
      "text/html": [
       "<span style='background-color: blue; color: white'>B 1443808</span> <a href=https://bugs.launchpad.net/bugs/1443808>Web UI progress bar doesn't consider a fuel-plugin progress</a> <span style='background-color: red; color: white'>2015-04-14</span>/2015-10-12<br>- Confirmed / Medium / fuel-python / 8.0<br>- [<i>covered-by-bp</i> <b>customer-found</b> feature-progress-bar plugin release-notes]"
      ],
      "text/plain": [
       "<IPython.core.display.HTML at 0x115924790>"
      ]
     },
     "metadata": {},
     "output_type": "display_data"
    },
    {
     "data": {
      "text/html": [
       "- <span style='background-color: lightgreen; color: black'>R 173326</span> stackforge/fuel-docs master ABANDONED <a href='https://review.openstack.org/173326'>Release Notes 6.1 -- Known&Resolved issues (Fuel Plugins)</a> Irina 2015-04-14/2015-05-26"
      ],
      "text/plain": [
       "<IPython.core.display.HTML at 0x115924310>"
      ]
     },
     "metadata": {},
     "output_type": "display_data"
    },
    {
     "data": {
      "text/html": [
       "- <span style='background-color: lightgreen; color: black'>R 158596</span> stackforge/fuel-docs master MERGED <a href='https://review.openstack.org/158596'>Release Notes 6.1 -- Known/Resolved Issues (Mellanox)</a> Irina 2015-02-24/2015-06-17"
      ],
      "text/plain": [
       "<IPython.core.display.HTML at 0x115924b10>"
      ]
     },
     "metadata": {},
     "output_type": "display_data"
    },
    {
     "data": {
      "text/html": [
       "- <span style='background-color: lightgreen; color: black'>R 223463</span> stackforge/fuel-docs master MERGED <a href='https://review.openstack.org/223463'>Add plugin progress bar issue to relnotes</a> Evgeny Konstantinov 2015-09-15/2015-09-15"
      ],
      "text/plain": [
       "<IPython.core.display.HTML at 0x115924490>"
      ]
     },
     "metadata": {},
     "output_type": "display_data"
    },
    {
     "data": {
      "text/html": [
       "<span style='background-color: blue; color: white'>B 1449086</span> <a href=https://bugs.launchpad.net/bugs/1449086>Deploy button still shows \"Deploy Changes\" after provisioning was started from CLI</a> <span style='background-color: red; color: white'>2015-04-27</span>/2015-09-15<br>- Confirmed / Medium / fuel-python / 8.0<br>- [<i>covered-by-bp</i> known-issue module-nailgun release-notes ui]"
      ],
      "text/plain": [
       "<IPython.core.display.HTML at 0x1166acfd0>"
      ]
     },
     "metadata": {},
     "output_type": "display_data"
    },
    {
     "data": {
      "text/html": [
       "<span style='background-color: blue; color: white'>B 1453885</span> <a href=https://bugs.launchpad.net/bugs/1453885>It's possible to assign role(s) to a node that can't meet default disk allocation minimums</a> <span style='background-color: red; color: white'>2015-05-11</span>/2015-08-06<br>- Confirmed / Medium / fuel-python / 8.0<br>- [<i>covered-by-bp</i> <b>customer-found</b> module-nailgun module-volumes ui]"
      ],
      "text/plain": [
       "<IPython.core.display.HTML at 0x115906fd0>"
      ]
     },
     "metadata": {},
     "output_type": "display_data"
    },
    {
     "data": {
      "text/html": [
       "<span style='background-color: blue; color: white'>B 1454325</span> <a href=https://bugs.launchpad.net/bugs/1454325>Progress bar is broken for multiroles with operating system</a> <span style='background-color: red; color: white'>2015-05-12</span>/2015-09-15<br>- Confirmed / Medium / fuel-python / 8.0<br>- [<i>covered-by-bp</i> feature-progress-bar module-astute qa-agree-7.0]"
      ],
      "text/plain": [
       "<IPython.core.display.HTML at 0x1159d6450>"
      ]
     },
     "metadata": {},
     "output_type": "display_data"
    },
    {
     "data": {
      "text/html": [
       "<span style='background-color: blue; color: white'>B 1466428</span> <a href=https://bugs.launchpad.net/bugs/1466428>fuel 6.x ceph low disk space warning on controller</a> 2015-06-18/2015-08-05<br>- Confirmed / Medium / fuel-python / 8.0<br>- [ceph <i>covered-by-bp</i> module-volumes]"
      ],
      "text/plain": [
       "<IPython.core.display.HTML at 0x11683dbd0>"
      ]
     },
     "metadata": {},
     "output_type": "display_data"
    },
    {
     "data": {
      "text/html": [
       "<span style='background-color: blue; color: white'>B 1466431</span> <a href=https://bugs.launchpad.net/bugs/1466431>\"Stop deployment\" action works incorrectly at the end of deployment process</a> 2015-06-18/2015-09-24<br>- Confirmed / Medium / fuel-python / 8.0<br>- [<i>covered-by-bp</i> module-nailgun release-notes]"
      ],
      "text/plain": [
       "<IPython.core.display.HTML at 0x115976b10>"
      ]
     },
     "metadata": {},
     "output_type": "display_data"
    },
    {
     "data": {
      "text/html": [
       "<span style='background-color: blue; color: white'>B 1467403</span> <a href=https://bugs.launchpad.net/bugs/1467403>fuel-createmirror should support mos-updates repository for Centos the same as for Ubuntu</a> 2015-06-22/<span style='background-color: red; color: white'>2015-10-12</span><br>- Confirmed / Medium / bgaifullin / 8.0<br>- [<i>covered-by-bp</i> fuel-createmirror]"
      ],
      "text/plain": [
       "<IPython.core.display.HTML at 0x115958b90>"
      ]
     },
     "metadata": {},
     "output_type": "display_data"
    },
    {
     "data": {
      "text/html": [
       "<span style='background-color: blue; color: white'>B 1468764</span> <a href=https://bugs.launchpad.net/bugs/1468764>fuel-createmirror: wrong log level for \"fail messages\"</a> 2015-06-25/<span style='background-color: red; color: white'>2015-10-01</span><br>- Confirmed / Medium / bgaifullin / 8.0<br>- [<i>covered-by-bp</i> tech-debt]"
      ],
      "text/plain": [
       "<IPython.core.display.HTML at 0x115958dd0>"
      ]
     },
     "metadata": {},
     "output_type": "display_data"
    },
    {
     "data": {
      "text/html": [
       "<span style='background-color: blue; color: white'>B 1469236</span> <a href=https://bugs.launchpad.net/bugs/1469236>fuel-createmirror --dry-run prints not all commands required for manual execution</a> 2015-06-26/2015-09-30<br>- Confirmed / Medium / fuel-python / 8.0<br>- [<i>covered-by-bp</i> fuel-createmirror]"
      ],
      "text/plain": [
       "<IPython.core.display.HTML at 0x1159586d0>"
      ]
     },
     "metadata": {},
     "output_type": "display_data"
    },
    {
     "data": {
      "text/html": [
       "<span style='background-color: blue; color: white'>B 1473047</span> <a href=https://bugs.launchpad.net/bugs/1473047>not possible to share networks between nodegroups</a> 2015-07-09/2015-09-30<br>- Confirmed / Medium / fuel-python / 8.0<br>- [<i>covered-by-bp</i> <b>customer-found</b> feature-nodegroup module-networks]"
      ],
      "text/plain": [
       "<IPython.core.display.HTML at 0x115976090>"
      ]
     },
     "metadata": {},
     "output_type": "display_data"
    },
    {
     "data": {
      "text/html": [
       "- <span style='background-color: lightgreen; color: black'>R 115340</span> stackforge/fuel-specs master NEW <a href='https://review.openstack.org/115340'>Blueprint: granular-network-functions</a> Aleksey Kasatkin 2014-08-19/<span style='background-color: red; color: white'>2015-07-02</span>"
      ],
      "text/plain": [
       "<IPython.core.display.HTML at 0x1159d6e90>"
      ]
     },
     "metadata": {},
     "output_type": "display_data"
    },
    {
     "data": {
      "text/html": [
       "<span style='background-color: blue; color: white'>B 1480938</span> <a href=https://bugs.launchpad.net/bugs/1480938>[plugin] rpm/yum work incorrectly with Fuel plugins</a> 2015-08-03/2015-10-12<br>- Triaged / Medium / fuel-python / 8.0<br>- [<i>feature</i> feature-plugins <i>need-bp</i>]"
      ],
      "text/plain": [
       "<IPython.core.display.HTML at 0x115906a50>"
      ]
     },
     "metadata": {},
     "output_type": "display_data"
    },
    {
     "data": {
      "text/html": [
       "- <span style='background-color: lightgreen; color: black'>R 209498</span> stackforge/fuel-plugins master ABANDONED <a href='https://review.openstack.org/209498'>Add fuel plugins --sync to rpm packages spec files</a> Maciej Kwiek 2015-08-05/2015-08-06"
      ],
      "text/plain": [
       "<IPython.core.display.HTML at 0x1159d6150>"
      ]
     },
     "metadata": {},
     "output_type": "display_data"
    },
    {
     "data": {
      "text/html": [
       "<span style='background-color: blue; color: white'>B 1493568</span> <a href=https://bugs.launchpad.net/bugs/1493568>Deliver puppet modules on slave nodes using packages </a> 2015-09-08/<span style='background-color: red; color: white'>2015-10-06</span><br>- Confirmed / Medium / kozhukalov / 8.0<br>- [<i>need-bp</i>]"
      ],
      "text/plain": [
       "<IPython.core.display.HTML at 0x1157bb250>"
      ]
     },
     "metadata": {},
     "output_type": "display_data"
    },
    {
     "data": {
      "text/html": [
       "<span style='background-color: blue; color: white'>B 1494165</span> <a href=https://bugs.launchpad.net/bugs/1494165>100% progress bar during reinstall on primary-controller</a> 2015-09-10/2015-09-24<br>- Triaged / Medium / fuel-python / 8.0<br>- [<i>covered-by-bp</i> feature-progress-bar]"
      ],
      "text/plain": [
       "<IPython.core.display.HTML at 0x115924ad0>"
      ]
     },
     "metadata": {},
     "output_type": "display_data"
    },
    {
     "data": {
      "text/html": [
       "<span style='background-color: blue; color: white'>B 1500840</span> <a href=https://bugs.launchpad.net/bugs/1500840>fuel-createmirror fails to generate ubuntu repo on external host</a> 2015-09-29/2015-10-06<br>- Confirmed / Medium / fuel-python / 8.0<br>- [<i>covered-by-bp</i>]"
      ],
      "text/plain": [
       "<IPython.core.display.HTML at 0x1166ac550>"
      ]
     },
     "metadata": {},
     "output_type": "display_data"
    },
    {
     "data": {
      "text/html": [
       "<span style='background-color: blue; color: white'>B 1255426</span> <a href=https://bugs.launchpad.net/bugs/1255426>Progress shows 100% for deploy while there is one more task is in progress</a> <span style='background-color: red; color: white'>2013-11-27</span>/2015-09-15<br>- Confirmed / Low / fuel-python / 8.0<br>- [<i>covered-by-bp</i> feature-progress-bar module-astute]"
      ],
      "text/plain": [
       "<IPython.core.display.HTML at 0x115906bd0>"
      ]
     },
     "metadata": {},
     "output_type": "display_data"
    },
    {
     "data": {
      "text/html": [
       "<span style='background-color: blue; color: white'>B 1365395</span> <a href=https://bugs.launchpad.net/bugs/1365395>fuelmenu dhcp check should run once per interface</a> <span style='background-color: red; color: white'>2014-09-04</span>/2015-10-12<br>- Triaged / Low / fuel-python / 8.0<br>- [<i>feature</i> module-fuelmenu <i>need-bp</i>]"
      ],
      "text/plain": [
       "<IPython.core.display.HTML at 0x1159d6450>"
      ]
     },
     "metadata": {},
     "output_type": "display_data"
    },
    {
     "data": {
      "text/html": [
       "- <span style='background-color: lightgreen; color: black'>R 119014</span> stackforge/fuel-web master MERGED <a href='https://review.openstack.org/119014'>Add check for dhcp range overlap in fuelmenu</a> Matthew Mosesohn 2014-09-04/2014-10-15"
      ],
      "text/plain": [
       "<IPython.core.display.HTML at 0x115976fd0>"
      ]
     },
     "metadata": {},
     "output_type": "display_data"
    },
    {
     "data": {
      "text/html": [
       "<span style='background-color: blue; color: white'>B 1401676</span> <a href=https://bugs.launchpad.net/bugs/1401676>Deployment progress bar inaccurate</a> <span style='background-color: red; color: white'>2014-12-11</span>/2015-10-12<br>- Confirmed / Low / fuel-python / 8.0<br>- [<i>covered-by-bp</i> feature-progress-bar]"
      ],
      "text/plain": [
       "<IPython.core.display.HTML at 0x1168260d0>"
      ]
     },
     "metadata": {},
     "output_type": "display_data"
    },
    {
     "data": {
      "text/html": [
       "<span style='background-color: blue; color: white'>B 1412910</span> <a href=https://bugs.launchpad.net/bugs/1412910>nailgun agent filters multipath disks</a> <span style='background-color: red; color: white'>2015-01-20</span>/<span style='background-color: red; color: white'>2015-10-06</span><br>- Confirmed / Low / kozhukalov / 8.0<br>- [module-volumes <i>need-bp</i>]"
      ],
      "text/plain": [
       "<IPython.core.display.HTML at 0x11594e890>"
      ]
     },
     "metadata": {},
     "output_type": "display_data"
    },
    {
     "data": {
      "text/html": [
       "<span style='background-color: blue; color: white'>B 1432573</span> <a href=https://bugs.launchpad.net/bugs/1432573>[nailgun] Introduce the settings.yaml validation</a> <span style='background-color: red; color: white'>2015-03-16</span>/2015-10-12<br>- Triaged / Low / fuel-python / 8.0<br>- [<i>feature</i> feature-validation <i>need-bp</i>]"
      ],
      "text/plain": [
       "<IPython.core.display.HTML at 0x115958150>"
      ]
     },
     "metadata": {},
     "output_type": "display_data"
    },
    {
     "data": {
      "text/html": [
       "- <span style='background-color: lightgreen; color: black'>R 165488</span> stackforge/fuel-web master ABANDONED <a href='https://review.openstack.org/165488'>Fix release handler with empty feature_groups</a> Alexander Kislitsky 2015-03-18/2015-03-31"
      ],
      "text/plain": [
       "<IPython.core.display.HTML at 0x110588710>"
      ]
     },
     "metadata": {},
     "output_type": "display_data"
    },
    {
     "data": {
      "text/html": [
       "<span style='background-color: blue; color: white'>B 1458379</span> <a href=https://bugs.launchpad.net/bugs/1458379>progress bar immediately jumped to 42%</a> <span style='background-color: red; color: white'>2015-05-24</span>/2015-09-25<br>- Triaged / Low / fuel-python / 8.0<br>- [<i>covered-by-bp</i> <i>feature</i> feature-progress-bar module-astute]"
      ],
      "text/plain": [
       "<IPython.core.display.HTML at 0x11594ee90>"
      ]
     },
     "metadata": {},
     "output_type": "display_data"
    },
    {
     "data": {
      "text/html": [
       "<span style='background-color: blue; color: white'>B 1347540</span> <a href=https://bugs.launchpad.net/bugs/1347540>Multicast verification has failed if you configure bonding</a> <span style='background-color: red; color: white'>2014-07-23</span>/2015-10-05<br>- Confirmed / Wishlist / fuel-python / 8.0<br>- [<i>covered-by-bp</i> module-netcheck release-notes]"
      ],
      "text/plain": [
       "<IPython.core.display.HTML at 0x11594e990>"
      ]
     },
     "metadata": {},
     "output_type": "display_data"
    },
    {
     "data": {
      "text/html": [
       "- <span style='background-color: lightgreen; color: black'>R 108971</span> stackforge/fuel-web master ABANDONED <a href='https://review.openstack.org/108971'>Perform multicast verification for all slaves in bond</a> Dmitry Shulyak 2014-07-23/2015-07-16"
      ],
      "text/plain": [
       "<IPython.core.display.HTML at 0x10e611c90>"
      ]
     },
     "metadata": {},
     "output_type": "display_data"
    },
    {
     "data": {
      "text/html": [
       "<span style='background-color: blue; color: white'>B 1474644</span> <a href=https://bugs.launchpad.net/bugs/1474644>parallel nodes deploy</a> 2015-07-15/2015-10-12<br>- Confirmed / Wishlist / fuel-python / 8.0<br>- [<i>need-bp</i>]"
      ],
      "text/plain": [
       "<IPython.core.display.HTML at 0x115976550>"
      ]
     },
     "metadata": {},
     "output_type": "display_data"
    },
    {
     "data": {
      "text/html": [
       "<span style='background-color: blue; color: white'>B 1496123</span> <a href=https://bugs.launchpad.net/bugs/1496123>switch to percona packages instead of using our custom mysql packages</a> 2015-09-15/2015-10-05<br>- Confirmed / Wishlist / fuel-library / 8.0<br>- [<i>need-bp</i>]"
      ],
      "text/plain": [
       "<IPython.core.display.HTML at 0x1159d65d0>"
      ]
     },
     "metadata": {},
     "output_type": "display_data"
    },
    {
     "data": {
      "text/html": [
       "- <span style='background-color: lightgreen; color: black'>R 188454</span> stackforge/fuel-library master MERGED <a href='https://review.openstack.org/188454'>Initial Percona cluster support added</a> Nikita Koshikov 2015-06-04/2015-07-09"
      ],
      "text/plain": [
       "<IPython.core.display.HTML at 0x1166ace50>"
      ]
     },
     "metadata": {},
     "output_type": "display_data"
    },
    {
     "name": "stdout",
     "output_type": "stream",
     "text": [
      "Found 38 bugs\n"
     ]
    }
   ],
   "source": [
    "search_tags = ['covered-by-bp', 'need-bp', 'needs-bp']\n",
    "collection = prj.searchTasks(milestone=cur_ms, status=open_statuses, tags=search_tags)\n",
    "for bt in collection:\n",
    "    display_bug(bt.bug)\n",
    "print \"Found %s bugs\" % len(collection)"
   ]
  },
  {
   "cell_type": "markdown",
   "metadata": {},
   "source": [
    "## Top priority bugs"
   ]
  },
  {
   "cell_type": "code",
   "execution_count": 7,
   "metadata": {
    "collapsed": true
   },
   "outputs": [
    {
     "data": {
      "text/html": [
       "<span style='background-color: blue; color: white'>B 1333458</span> <a href=https://bugs.launchpad.net/bugs/1333458>[library] Docker loads images very slow</a> <span style='background-color: red; color: white'>2014-06-23</span>/2015-10-16<br>- Confirmed / High / amogylchenko / 8.0<br>- [<b>customer-found</b> qa-agree-7.0]"
      ],
      "text/plain": [
       "<IPython.core.display.HTML at 0x109d64250>"
      ]
     },
     "metadata": {},
     "output_type": "display_data"
    },
    {
     "data": {
      "text/html": [
       "- <span style='background-color: lightgreen; color: black'>R 177719</span> stackforge/fuel-main master ABANDONED <a href='https://review.openstack.org/177719'>Squash docker images so they load faster</a> Matthew Mosesohn 2015-04-27/2015-07-14"
      ],
      "text/plain": [
       "<IPython.core.display.HTML at 0x1080857d0>"
      ]
     },
     "metadata": {},
     "output_type": "display_data"
    },
    {
     "data": {
      "text/html": [
       "<span style='background-color: blue; color: white'>B 1479815</span> <a href=https://bugs.launchpad.net/bugs/1479815>Make OCF scripts tolerate rabbitmqctl timeouts to a certain degree. UX: rabbitmq node was stopped by pacemaker</a> 2015-07-30/2015-10-16<br>- Confirmed / High / dmitrymex / 8.0<br>- [<b>customer-found</b> rabbitmq release-notes-done scale]"
      ],
      "text/plain": [
       "<IPython.core.display.HTML at 0x109d4e550>"
      ]
     },
     "metadata": {},
     "output_type": "display_data"
    },
    {
     "data": {
      "text/html": [
       "- <span style='background-color: lightgreen; color: black'>R 221680</span> stackforge/fuel-docs master MERGED <a href='https://review.openstack.org/221680'>[OpsGuide]Make RabbitMQ OCF script tolerate timeouts</a> Alexander Adamov 2015-09-09/2015-09-15"
      ],
      "text/plain": [
       "<IPython.core.display.HTML at 0x108123c10>"
      ]
     },
     "metadata": {},
     "output_type": "display_data"
    },
    {
     "data": {
      "text/html": [
       "- <span style='background-color: lightgreen; color: black'>R 224556</span> stackforge/fuel-docs master ABANDONED <a href='https://review.openstack.org/224556'>Revert \"[OpsGuide]Make RabbitMQ OCF script tolerate timeouts\"</a> Dmitry Mescheryakov 2015-09-17/2015-09-22"
      ],
      "text/plain": [
       "<IPython.core.display.HTML at 0x108123c90>"
      ]
     },
     "metadata": {},
     "output_type": "display_data"
    },
    {
     "data": {
      "text/html": [
       "- <span style='background-color: lightgreen; color: black'>R 222614</span> stackforge/fuel-library stable/6.1 MERGED <a href='https://review.openstack.org/222614'>Make RabbitMQ OCF script tolerate rabbitmqctl timeouts</a> Michal Rostecki 2015-09-11/2015-10-06"
      ],
      "text/plain": [
       "<IPython.core.display.HTML at 0x109d64090>"
      ]
     },
     "metadata": {},
     "output_type": "display_data"
    },
    {
     "data": {
      "text/html": [
       "- <span style='background-color: lightgreen; color: black'>R 217738</span> stackforge/fuel-library master MERGED <a href='https://review.openstack.org/217738'>Make RabbitMQ OCF script tolerate rabbitmqctl timeouts</a> Dmitry Mescheryakov 2015-08-27/2015-09-04"
      ],
      "text/plain": [
       "<IPython.core.display.HTML at 0x109d4ec90>"
      ]
     },
     "metadata": {},
     "output_type": "display_data"
    },
    {
     "data": {
      "text/html": [
       "<span style='background-color: blue; color: white'>B 1479862</span> <a href=https://bugs.launchpad.net/bugs/1479862>[Ceph] Fuel must update (all) ceph.conf [mons] on ceph monitor re-deploy</a> 2015-07-30/2015-10-16<br>- Confirmed / High / fuel-library / 8.0<br>- [ceph <b>customer-found</b> <b>support</b>]"
      ],
      "text/plain": [
       "<IPython.core.display.HTML at 0x10811a110>"
      ]
     },
     "metadata": {},
     "output_type": "display_data"
    },
    {
     "name": "stdout",
     "output_type": "stream",
     "text": [
      "Needs to be moved to library or puppet team\n"
     ]
    },
    {
     "data": {
      "text/html": [
       "<span style='background-color: blue; color: white'>B 1484008</span> <a href=https://bugs.launchpad.net/bugs/1484008>Address space intersection error after creating a node group</a> 2015-08-12/2015-10-13<br>- Confirmed / High / fuel-python / 8.0<br>- [<b>customer-found</b> feature-nodegroup known-issue module-nailgun release-notes]"
      ],
      "text/plain": [
       "<IPython.core.display.HTML at 0x106bbca10>"
      ]
     },
     "metadata": {},
     "output_type": "display_data"
    },
    {
     "data": {
      "text/html": [
       "- <span style='background-color: lightgreen; color: black'>R 211889</span> stackforge/fuel-web master NEW <a href='https://review.openstack.org/211889'>Fix for address space intersection after creating a node group</a> Przemyslaw Kaminski 2015-08-12/<span style='background-color: red; color: white'>2015-08-13</span>"
      ],
      "text/plain": [
       "<IPython.core.display.HTML at 0x106ba4910>"
      ]
     },
     "metadata": {},
     "output_type": "display_data"
    },
    {
     "name": "stdout",
     "output_type": "stream",
     "text": [
      "Needs assignee from python team\n"
     ]
    },
    {
     "data": {
      "text/html": [
       "<span style='background-color: blue; color: white'>B 1486551</span> <a href=https://bugs.launchpad.net/bugs/1486551>fuel-bootstrap-image: support incomplete/broken mirrors</a> 2015-08-19/2015-10-15<br>- Triaged / High / fuel-build / 8.0<br>- [<b>customer-found</b>]"
      ],
      "text/plain": [
       "<IPython.core.display.HTML at 0x106ba4190>"
      ]
     },
     "metadata": {},
     "output_type": "display_data"
    },
    {
     "data": {
      "text/html": [
       "- <span style='background-color: lightgreen; color: black'>R 221297</span> stackforge/fuel-docs master MERGED <a href='https://review.openstack.org/221297'>[RN 7.0]fuel-bootstrap-image: support incomplete/broken mirrors</a> Alexander Adamov 2015-09-08/2015-09-10"
      ],
      "text/plain": [
       "<IPython.core.display.HTML at 0x106bbc7d0>"
      ]
     },
     "metadata": {},
     "output_type": "display_data"
    },
    {
     "data": {
      "text/html": [
       "- <span style='background-color: lightgreen; color: black'>R 216285</span> stackforge/fuel-web master NEW <a href='https://review.openstack.org/216285'>Use custom mirrors for ubuntu bootstrap</a> Vladimir Kozhukalov 2015-08-24/<span style='background-color: red; color: white'>2015-08-25</span>"
      ],
      "text/plain": [
       "<IPython.core.display.HTML at 0x106bbc750>"
      ]
     },
     "metadata": {},
     "output_type": "display_data"
    },
    {
     "data": {
      "text/html": [
       "- <span style='background-color: lightgreen; color: black'>R 216280</span> stackforge/fuel-main master NEW <a href='https://review.openstack.org/216280'>Use custom repos for Ubuntu bootstrap image</a> Vladimir Kozhukalov 2015-08-24/2015-10-13"
      ],
      "text/plain": [
       "<IPython.core.display.HTML at 0x106ba42d0>"
      ]
     },
     "metadata": {},
     "output_type": "display_data"
    },
    {
     "data": {
      "text/html": [
       "<span style='background-color: blue; color: white'>B 1487996</span> <a href=https://bugs.launchpad.net/bugs/1487996>Network verification passes successfully even if not enough IPs are allocated</a> 2015-08-24/2015-10-13<br>- In Progress / High / romcheg / 8.0<br>- [<b>customer-found</b> release-notes <b>support</b> tricky]"
      ],
      "text/plain": [
       "<IPython.core.display.HTML at 0x10811a490>"
      ]
     },
     "metadata": {},
     "output_type": "display_data"
    },
    {
     "data": {
      "text/html": [
       "- <span style='background-color: lightgreen; color: black'>R 217267</span> stackforge/fuel-web master NEW <a href='https://review.openstack.org/217267'>Check available IP addresses in public network</a> Roman Prykhodchenko 2015-08-26/2015-10-13"
      ],
      "text/plain": [
       "<IPython.core.display.HTML at 0x1077b35d0>"
      ]
     },
     "metadata": {},
     "output_type": "display_data"
    },
    {
     "data": {
      "text/html": [
       "- <span style='background-color: lightgreen; color: black'>R 223129</span> stackforge/fuel-docs master MERGED <a href='https://review.openstack.org/223129'>Add IP Range Issue to relnotes</a> Evgeny Konstantinov 2015-09-14/2015-09-15"
      ],
      "text/plain": [
       "<IPython.core.display.HTML at 0x10811ad10>"
      ]
     },
     "metadata": {},
     "output_type": "display_data"
    },
    {
     "data": {
      "text/html": [
       "<span style='background-color: blue; color: white'>B 1493391</span> <a href=https://bugs.launchpad.net/bugs/1493391>Network verification fails with networking template when adding new node to operational cluster: 'Some untagged networks are assigned to the same physical interface.'</a> 2015-09-08/2015-10-15<br>- In Progress / High / rmoe / 8.0<br>- [feature-network-template module-netcheck <b>swarm-blocker</b>]"
      ],
      "text/plain": [
       "<IPython.core.display.HTML at 0x108123150>"
      ]
     },
     "metadata": {},
     "output_type": "display_data"
    },
    {
     "data": {
      "text/html": [
       "- <span style='background-color: lightgreen; color: black'>R 221987</span> stackforge/fuel-qa master MERGED <a href='https://review.openstack.org/221987'>Test adding nodes to cloud with network template</a> Artem Panchenko 2015-09-09/2015-09-10"
      ],
      "text/plain": [
       "<IPython.core.display.HTML at 0x109d645d0>"
      ]
     },
     "metadata": {},
     "output_type": "display_data"
    },
    {
     "data": {
      "text/html": [
       "- <span style='background-color: lightgreen; color: black'>R 221542</span> stackforge/fuel-web master NEW <a href='https://review.openstack.org/221542'>Assign networks based on template</a> Ryan Moe 2015-09-08/2015-10-16"
      ],
      "text/plain": [
       "<IPython.core.display.HTML at 0x109d64fd0>"
      ]
     },
     "metadata": {},
     "output_type": "display_data"
    },
    {
     "data": {
      "text/html": [
       "<span style='background-color: blue; color: white'>B 1496000</span> <a href=https://bugs.launchpad.net/bugs/1496000>Volumes stays  in creating status  after node with keystone was shutdown</a> 2015-09-15/<span style='background-color: red; color: white'>2015-10-09</span><br>- Confirmed / High / dmitrymex / 8.0<br>- [cinder <b>customer-found</b> operations <b>support</b>]"
      ],
      "text/plain": [
       "<IPython.core.display.HTML at 0x109d28c50>"
      ]
     },
     "metadata": {},
     "output_type": "display_data"
    },
    {
     "data": {
      "text/html": [
       "- <a href='https://review.fuel-infra.org/12417'>https://review.fuel-infra.org/12417</a>"
      ],
      "text/plain": [
       "<IPython.core.display.HTML at 0x109d28c50>"
      ]
     },
     "metadata": {},
     "output_type": "display_data"
    },
    {
     "data": {
      "text/html": [
       "<span style='background-color: blue; color: white'>B 1497378</span> <a href=https://bugs.launchpad.net/bugs/1497378>Fuel deployment fails with nodegroups and isolated admin network</a> 2015-09-18/<span style='background-color: red; color: white'>2015-10-02</span><br>- In Progress / High / adidenko / 8.0<br>- [<b>customer-found</b> feature-nodegroup]"
      ],
      "text/plain": [
       "<IPython.core.display.HTML at 0x108123250>"
      ]
     },
     "metadata": {},
     "output_type": "display_data"
    },
    {
     "data": {
      "text/html": [
       "- <span style='background-color: lightgreen; color: black'>R 226568</span> stackforge/fuel-library master NEW <a href='https://review.openstack.org/226568'>Setup nginx proxy for packages</a> Aleksandr Didenko 2015-09-22/<span style='background-color: red; color: white'>2015-10-08</span>"
      ],
      "text/plain": [
       "<IPython.core.display.HTML at 0x10811a110>"
      ]
     },
     "metadata": {},
     "output_type": "display_data"
    },
    {
     "data": {
      "text/html": [
       "- <span style='background-color: lightgreen; color: black'>R 230379</span> stackforge/fuel-library master NEW <a href='https://review.openstack.org/230379'>Use nginx proxy for packages before netconfig</a> Aleksandr Didenko 2015-10-02/<span style='background-color: red; color: white'>2015-10-08</span>"
      ],
      "text/plain": [
       "<IPython.core.display.HTML at 0x106b9b8d0>"
      ]
     },
     "metadata": {},
     "output_type": "display_data"
    },
    {
     "data": {
      "text/html": [
       "- <span style='background-color: lightgreen; color: black'>R 225258</span> stackforge/fuel-library master NEW <a href='https://review.openstack.org/225258'>Remove unnided more packets</a> Sergey Vasilenko 2015-09-18/<span style='background-color: red; color: white'>2015-09-24</span>"
      ],
      "text/plain": [
       "<IPython.core.display.HTML at 0x106b9b850>"
      ]
     },
     "metadata": {},
     "output_type": "display_data"
    },
    {
     "data": {
      "text/html": [
       "<span style='background-color: blue; color: white'>B 1500494</span> <a href=https://bugs.launchpad.net/bugs/1500494>Novnc doesn't work when using nodegroups</a> 2015-09-28/2015-10-16<br>- In Progress / High / vsakharov / 8.0<br>- [<b>customer-found</b> feature-nodegroup]"
      ],
      "text/plain": [
       "<IPython.core.display.HTML at 0x10811a510>"
      ]
     },
     "metadata": {},
     "output_type": "display_data"
    },
    {
     "data": {
      "text/html": [
       "<span style='background-color: blue; color: white'>B 1501309</span> <a href=https://bugs.launchpad.net/bugs/1501309>Mellanox ethernet driver is not auto loaded </a> 2015-09-30/2015-10-16<br>- Confirmed / High / fuel-library / 8.0<br>- [<b>customer-found</b>]"
      ],
      "text/plain": [
       "<IPython.core.display.HTML at 0x106ba4350>"
      ]
     },
     "metadata": {},
     "output_type": "display_data"
    },
    {
     "data": {
      "text/html": [
       "<span style='background-color: blue; color: white'>B 1502195</span> <a href=https://bugs.launchpad.net/bugs/1502195>NVMe separator not considered during Ceph deployment</a> 2015-10-02/<span style='background-color: red; color: white'>2015-10-12</span><br>- In Progress / High / kgalanov / 8.0<br>- [<b>customer-found</b> <b>support</b>]"
      ],
      "text/plain": [
       "<IPython.core.display.HTML at 0x109d4ead0>"
      ]
     },
     "metadata": {},
     "output_type": "display_data"
    },
    {
     "data": {
      "text/html": [
       "- <span style='background-color: lightgreen; color: black'>R 233725</span> stackforge/fuel-library master NEW <a href='https://review.openstack.org/233725'>Add support for NVMe devices</a> Kyrylo Galanov 2015-10-12/2015-10-16"
      ],
      "text/plain": [
       "<IPython.core.display.HTML at 0x109d7e950>"
      ]
     },
     "metadata": {},
     "output_type": "display_data"
    },
    {
     "data": {
      "text/html": [
       "<span style='background-color: blue; color: white'>B 1502239</span> <a href=https://bugs.launchpad.net/bugs/1502239>[fuel-createmirror] Fails because of unmet dependencies for nova-scheduler</a> 2015-10-02/2015-10-16<br>- Triaged / High / unbelll / 8.0<br>- [<b>swarm-blocker</b>]"
      ],
      "text/plain": [
       "<IPython.core.display.HTML at 0x109d4ec10>"
      ]
     },
     "metadata": {},
     "output_type": "display_data"
    },
    {
     "data": {
      "text/html": [
       "<span style='background-color: blue; color: white'>B 1502295</span> <a href=https://bugs.launchpad.net/bugs/1502295>All nodes in error state after scaling because one compute node was unreachable</a> 2015-10-02/2015-10-14<br>- In Progress / High / maciej-iai / 8.0<br>- [<b>customer-found</b> tricky]"
      ],
      "text/plain": [
       "<IPython.core.display.HTML at 0x106bbc390>"
      ]
     },
     "metadata": {},
     "output_type": "display_data"
    },
    {
     "data": {
      "text/html": [
       "- <span style='background-color: lightgreen; color: black'>R 234657</span> stackforge/fuel-astute master NEW <a href='https://review.openstack.org/234657'>All offline nodes are removed as failed nodes</a> Maciej Kwiek 2015-10-14/2015-10-16"
      ],
      "text/plain": [
       "<IPython.core.display.HTML at 0x10811a0d0>"
      ]
     },
     "metadata": {},
     "output_type": "display_data"
    },
    {
     "data": {
      "text/html": [
       "- <span style='background-color: lightgreen; color: black'>R 233024</span> stackforge/fuel-web master ABANDONED <a href='https://review.openstack.org/233024'>Skip offline nodes in post deployment hooks</a> Maciej Kwiek 2015-10-09/2015-10-13"
      ],
      "text/plain": [
       "<IPython.core.display.HTML at 0x1077b35d0>"
      ]
     },
     "metadata": {},
     "output_type": "display_data"
    },
    {
     "data": {
      "text/html": [
       "<span style='background-color: blue; color: white'>B 1502936</span> <a href=https://bugs.launchpad.net/bugs/1502936>A lot of processes '/usr/bin/openstack' stuck on controllers during deployment, that leads to OOM</a> 2015-10-05/2015-10-14<br>- Confirmed / High / asilenkov / 8.0<br>- [<b>swarm-blocker</b>]"
      ],
      "text/plain": [
       "<IPython.core.display.HTML at 0x10811a650>"
      ]
     },
     "metadata": {},
     "output_type": "display_data"
    },
    {
     "data": {
      "text/html": [
       "<span style='background-color: blue; color: white'>B 1503725</span> <a href=https://bugs.launchpad.net/bugs/1503725>Neutron uses Admin endpoint instead of Public one</a> 2015-10-07/2015-10-16<br>- In Progress / High / sgolovatiuk / 8.0<br>- [70mu1-confirmed <b>customer-found</b>]"
      ],
      "text/plain": [
       "<IPython.core.display.HTML at 0x109d28fd0>"
      ]
     },
     "metadata": {},
     "output_type": "display_data"
    },
    {
     "data": {
      "text/html": [
       "- <span style='background-color: lightgreen; color: black'>R 234201</span> stackforge/fuel-library master NEW <a href='https://review.openstack.org/234201'>Use identity_uri instead of auth_uri parameter</a> Sergey Kolekonov 2015-10-13/2015-10-16"
      ],
      "text/plain": [
       "<IPython.core.display.HTML at 0x109d64410>"
      ]
     },
     "metadata": {},
     "output_type": "display_data"
    },
    {
     "data": {
      "text/html": [
       "<span style='background-color: blue; color: white'>B 1503987</span> <a href=https://bugs.launchpad.net/bugs/1503987>Fuel7.0 Deployment using multiple NMVe disks fails</a> 2015-10-08/2015-10-13<br>- Confirmed / High / fuel-python / 8.0<br>- [<b>customer-found</b> ibp module-nailgun]"
      ],
      "text/plain": [
       "<IPython.core.display.HTML at 0x109d28ed0>"
      ]
     },
     "metadata": {},
     "output_type": "display_data"
    },
    {
     "name": "stdout",
     "output_type": "stream",
     "text": [
      "Needs assignee from python team\n"
     ]
    },
    {
     "data": {
      "text/html": [
       "<span style='background-color: blue; color: white'>B 1504322</span> <a href=https://bugs.launchpad.net/bugs/1504322>Long enough network partitioning puts neutron-ovs-agent in unmanaged state</a> 2015-10-08/2015-10-14<br>- Triaged / High / skolekonov / 8.0<br>- [<b>customer-found</b>]"
      ],
      "text/plain": [
       "<IPython.core.display.HTML at 0x1081230d0>"
      ]
     },
     "metadata": {},
     "output_type": "display_data"
    },
    {
     "data": {
      "text/html": [
       "<span style='background-color: blue; color: white'>B 1505907</span> <a href=https://bugs.launchpad.net/bugs/1505907>OVS causes kernel oops SMP, unhandled paging request on one compute node. Fuel 7.0 HA neutron+gre deployment.</a> 2015-10-14/2015-10-16<br>- Confirmed / High / None / 8.0<br>- [<b>customer-found</b>]"
      ],
      "text/plain": [
       "<IPython.core.display.HTML at 0x106b9b910>"
      ]
     },
     "metadata": {},
     "output_type": "display_data"
    },
    {
     "name": "stdout",
     "output_type": "stream",
     "text": [
      "Waiting for help from Vasilenko\n"
     ]
    },
    {
     "data": {
      "text/html": [
       "<span style='background-color: blue; color: white'>B 1506624</span> <a href=https://bugs.launchpad.net/bugs/1506624>Example v3 plugin fail cluster deployment</a> 2015-10-15/2015-10-16<br>- In Progress / High / ikalnitsky / 8.0<br>- [module-astute <b>swarm-blocker</b>]"
      ],
      "text/plain": [
       "<IPython.core.display.HTML at 0x106bbc910>"
      ]
     },
     "metadata": {},
     "output_type": "display_data"
    },
    {
     "data": {
      "text/html": [
       "- <span style='background-color: lightgreen; color: black'>R 222149</span> stackforge/fuel-plugins master MERGED <a href='https://review.openstack.org/222149'>Add validation for 'retries' param in puppet task</a> Sebastian Kalinowski 2015-09-10/2015-09-28"
      ],
      "text/plain": [
       "<IPython.core.display.HTML at 0x109d64c50>"
      ]
     },
     "metadata": {},
     "output_type": "display_data"
    },
    {
     "data": {
      "text/html": [
       "- <span style='background-color: lightgreen; color: black'>R 235915</span> stackforge/fuel-plugins master NEW <a href='https://review.openstack.org/235915'>Explicitly specify 'puppet_modules' for tasks</a> Igor Kalnitsky 2015-10-16/2015-10-16"
      ],
      "text/plain": [
       "<IPython.core.display.HTML at 0x10b64d0d0>"
      ]
     },
     "metadata": {},
     "output_type": "display_data"
    },
    {
     "data": {
      "text/html": [
       "<span style='background-color: blue; color: white'>B 1506810</span> <a href=https://bugs.launchpad.net/bugs/1506810>Cannot find running container with name \"fuel-core-8.0-postgres\"</a> 2015-10-16/2015-10-16<br>- Confirmed / High / fuel-python / 8.0<br>- [<b>swarm-blocker</b>]"
      ],
      "text/plain": [
       "<IPython.core.display.HTML at 0x106ba4050>"
      ]
     },
     "metadata": {},
     "output_type": "display_data"
    },
    {
     "data": {
      "text/html": [
       "<span style='background-color: blue; color: white'>B 1506868</span> <a href=https://bugs.launchpad.net/bugs/1506868>Please add Oleksandr Bryndzii key to the servers</a> 2015-10-16/2015-10-16<br>- Confirmed / High / heos / 8.0<br>- [<b>support</b>]"
      ],
      "text/plain": [
       "<IPython.core.display.HTML at 0x109d7edd0>"
      ]
     },
     "metadata": {},
     "output_type": "display_data"
    },
    {
     "data": {
      "text/html": [
       "<span style='background-color: blue; color: white'>B 1420658</span> <a href=https://bugs.launchpad.net/bugs/1420658>Fuel can create several nodegroup with the same name for  the same environment.</a> <span style='background-color: red; color: white'>2015-02-11</span>/2015-10-16<br>- In Progress / Medium / atykhonov / 8.0<br>- [<b>customer-found</b> feature-multi-l2 feature-nodegroup low-hanging-fruit size-s <b>support</b>]"
      ],
      "text/plain": [
       "<IPython.core.display.HTML at 0x109d4ebd0>"
      ]
     },
     "metadata": {},
     "output_type": "display_data"
    },
    {
     "data": {
      "text/html": [
       "- <span style='background-color: lightgreen; color: black'>R 231594</span> stackforge/fuel-web master MERGED <a href='https://review.openstack.org/231594'>Don't allow to have duplicated nodegroups</a> Andrey Tykhonov 2015-10-06/2015-10-16"
      ],
      "text/plain": [
       "<IPython.core.display.HTML at 0x108095bd0>"
      ]
     },
     "metadata": {},
     "output_type": "display_data"
    },
    {
     "data": {
      "text/html": [
       "<span style='background-color: blue; color: white'>B 1438658</span> <a href=https://bugs.launchpad.net/bugs/1438658>Fuel setup menu doesn't have a support for serial interface</a> <span style='background-color: red; color: white'>2015-03-31</span>/<span style='background-color: red; color: white'>2015-10-12</span><br>- Confirmed / Medium / raytrac3r / 8.0<br>- [<b>customer-found</b> release-notes]"
      ],
      "text/plain": [
       "<IPython.core.display.HTML at 0x106bbc690>"
      ]
     },
     "metadata": {},
     "output_type": "display_data"
    },
    {
     "data": {
      "text/html": [
       "- <span style='background-color: lightgreen; color: black'>R 223460</span> stackforge/fuel-docs master MERGED <a href='https://review.openstack.org/223460'>Add fuelmenu on serial interface issue to relnotes</a> Evgeny Konstantinov 2015-09-15/2015-09-15"
      ],
      "text/plain": [
       "<IPython.core.display.HTML at 0x10811a710>"
      ]
     },
     "metadata": {},
     "output_type": "display_data"
    },
    {
     "data": {
      "text/html": [
       "<span style='background-color: blue; color: white'>B 1458361</span> <a href=https://bugs.launchpad.net/bugs/1458361>[Fuel CLI] Unclear deprecation warning</a> <span style='background-color: red; color: white'>2015-05-24</span>/2015-10-15<br>- In Progress / Medium / romcheg / 8.0<br>- [70mu1-confirmed <b>customer-found</b> known-issue module-client release-notes-done rn7-0]"
      ],
      "text/plain": [
       "<IPython.core.display.HTML at 0x108123310>"
      ]
     },
     "metadata": {},
     "output_type": "display_data"
    },
    {
     "data": {
      "text/html": [
       "- <span style='background-color: lightgreen; color: black'>R 222118</span> stackforge/fuel-library stable/7.0 NEW <a href='https://review.openstack.org/222118'>Fixed issue with deprecation warning</a> Timur Nurlygayanov 2015-09-10/2015-10-16"
      ],
      "text/plain": [
       "<IPython.core.display.HTML at 0x108085810>"
      ]
     },
     "metadata": {},
     "output_type": "display_data"
    },
    {
     "data": {
      "text/html": [
       "- <span style='background-color: lightgreen; color: black'>R 235171</span> stackforge/python-fuelclient master NEW <a href='https://review.openstack.org/235171'>Generate user settings file</a> Roman Prykhodchenko 2015-10-15/2015-10-16"
      ],
      "text/plain": [
       "<IPython.core.display.HTML at 0x109d64c50>"
      ]
     },
     "metadata": {},
     "output_type": "display_data"
    },
    {
     "data": {
      "text/html": [
       "- <span style='background-color: lightgreen; color: black'>R 224052</span> stackforge/fuel-docs master MERGED <a href='https://review.openstack.org/224052'>[RN 7.0] Deprecation warning in fuel client</a> Olga Gusarenko 2015-09-16/2015-09-17"
      ],
      "text/plain": [
       "<IPython.core.display.HTML at 0x109d28050>"
      ]
     },
     "metadata": {},
     "output_type": "display_data"
    },
    {
     "data": {
      "text/html": [
       "- <span style='background-color: lightgreen; color: black'>R 215115</span> stackforge/fuel-library master NEW <a href='https://review.openstack.org/215115'>Fix issue with deprecation warning</a> Timur Nurlygayanov 2015-08-20/2015-10-16"
      ],
      "text/plain": [
       "<IPython.core.display.HTML at 0x109d28290>"
      ]
     },
     "metadata": {},
     "output_type": "display_data"
    },
    {
     "data": {
      "text/html": [
       "- <span style='background-color: lightgreen; color: black'>R 215077</span> stackforge/python-fuelclient master ABANDONED <a href='https://review.openstack.org/215077'>Fixed issue with deprecation warning</a> Timur Nurlygayanov 2015-08-20/2015-08-24"
      ],
      "text/plain": [
       "<IPython.core.display.HTML at 0x108085810>"
      ]
     },
     "metadata": {},
     "output_type": "display_data"
    },
    {
     "data": {
      "text/html": [
       "<span style='background-color: blue; color: white'>B 1464656</span> <a href=https://bugs.launchpad.net/bugs/1464656>fuel overestimates ceph default value for pool placement groups number</a> <span style='background-color: red; color: white'>2015-06-12</span>/2015-10-16<br>- In Progress / Medium / kdanylov / 8.0<br>- [70mu1-confirmed ceph <b>customer-found</b> known-issue]"
      ],
      "text/plain": [
       "<IPython.core.display.HTML at 0x108123410>"
      ]
     },
     "metadata": {},
     "output_type": "display_data"
    },
    {
     "data": {
      "text/html": [
       "- <span style='background-color: lightgreen; color: black'>R 204814</span> stackforge/fuel-web master MERGED <a href='https://review.openstack.org/204814'>Ceph: fix PG count number</a> koder 2015-07-23/2015-10-15"
      ],
      "text/plain": [
       "<IPython.core.display.HTML at 0x107662450>"
      ]
     },
     "metadata": {},
     "output_type": "display_data"
    },
    {
     "data": {
      "text/html": [
       "- <span style='background-color: lightgreen; color: black'>R 190189</span> stackforge/fuel-library master MERGED <a href='https://review.openstack.org/190189'>Fix the problem with ceph deployment on scale lab</a> Stanislav Makar 2015-06-10/2015-06-16"
      ],
      "text/plain": [
       "<IPython.core.display.HTML at 0x10811a790>"
      ]
     },
     "metadata": {},
     "output_type": "display_data"
    },
    {
     "data": {
      "text/html": [
       "- <span style='background-color: lightgreen; color: black'>R 204811</span> stackforge/fuel-library master NEW <a href='https://review.openstack.org/204811'>Ceph: fix PG count number</a> koder 2015-07-23/2015-10-15"
      ],
      "text/plain": [
       "<IPython.core.display.HTML at 0x106b9b310>"
      ]
     },
     "metadata": {},
     "output_type": "display_data"
    },
    {
     "name": "stdout",
     "output_type": "stream",
     "text": [
      "Check that review is going fine\n"
     ]
    },
    {
     "data": {
      "text/html": [
       "<span style='background-color: blue; color: white'>B 1472401</span> <a href=https://bugs.launchpad.net/bugs/1472401>updated percona-xtrabackup package required</a> 2015-07-07/<span style='background-color: red; color: white'>2015-10-12</span><br>- Confirmed / Medium / mos-linux / 8.0<br>- [<b>customer-found</b> galera]"
      ],
      "text/plain": [
       "<IPython.core.display.HTML at 0x106bbc410>"
      ]
     },
     "metadata": {},
     "output_type": "display_data"
    },
    {
     "data": {
      "text/html": [
       "<span style='background-color: blue; color: white'>B 1472662</span> <a href=https://bugs.launchpad.net/bugs/1472662>no gateway in default network configuration of new nodegroup</a> 2015-07-08/2015-10-15<br>- In Progress / Medium / akuleshov / 8.0<br>- [70mu1-confirmed <b>customer-found</b> feature-nodegroup]"
      ],
      "text/plain": [
       "<IPython.core.display.HTML at 0x10b66b690>"
      ]
     },
     "metadata": {},
     "output_type": "display_data"
    },
    {
     "data": {
      "text/html": [
       "- <span style='background-color: lightgreen; color: black'>R 210033</span> stackforge/fuel-web master NEW <a href='https://review.openstack.org/210033'>Check gateways if non-default node groups are used</a> Alexander Kuleshov 2015-08-06/2015-10-16"
      ],
      "text/plain": [
       "<IPython.core.display.HTML at 0x109d4e1d0>"
      ]
     },
     "metadata": {},
     "output_type": "display_data"
    },
    {
     "data": {
      "text/html": [
       "- <span style='background-color: lightgreen; color: black'>R 213045</span> stackforge/python-fuelclient stable/6.1 NEW <a href='https://review.openstack.org/213045'>Properly parse returned task from network configuration</a> Alexander Kuleshov 2015-08-14/<span style='background-color: red; color: white'>2015-08-14</span>"
      ],
      "text/plain": [
       "<IPython.core.display.HTML at 0x109d64090>"
      ]
     },
     "metadata": {},
     "output_type": "display_data"
    },
    {
     "data": {
      "text/html": [
       "- <span style='background-color: lightgreen; color: black'>R 210034</span> stackforge/fuel-web master ABANDONED <a href='https://review.openstack.org/210034'>Return HTTP error if network config data is invalid</a> Alexander Kuleshov 2015-08-06/2015-08-14"
      ],
      "text/plain": [
       "<IPython.core.display.HTML at 0x106ba45d0>"
      ]
     },
     "metadata": {},
     "output_type": "display_data"
    },
    {
     "data": {
      "text/html": [
       "- <span style='background-color: lightgreen; color: black'>R 213064</span> stackforge/fuel-web stable/6.1 NEW <a href='https://review.openstack.org/213064'>Check gateways if non-default node groups are used</a> Alexander Kuleshov 2015-08-14/<span style='background-color: red; color: white'>2015-08-26</span>"
      ],
      "text/plain": [
       "<IPython.core.display.HTML at 0x10b66b510>"
      ]
     },
     "metadata": {},
     "output_type": "display_data"
    },
    {
     "data": {
      "text/html": [
       "- <span style='background-color: lightgreen; color: black'>R 209452</span> stackforge/fuel-web stable/6.1 ABANDONED <a href='https://review.openstack.org/209452'>Return HTTP error if network config data is invalid</a> Alexander Kuleshov 2015-08-05/2015-08-14"
      ],
      "text/plain": [
       "<IPython.core.display.HTML at 0x106ba4790>"
      ]
     },
     "metadata": {},
     "output_type": "display_data"
    },
    {
     "data": {
      "text/html": [
       "- <span style='background-color: lightgreen; color: black'>R 211126</span> stackforge/python-fuelclient master MERGED <a href='https://review.openstack.org/211126'>Properly parse returned task from network configuration</a> Przemyslaw Kaminski 2015-08-10/2015-08-13"
      ],
      "text/plain": [
       "<IPython.core.display.HTML at 0x106ba4e50>"
      ]
     },
     "metadata": {},
     "output_type": "display_data"
    },
    {
     "data": {
      "text/html": [
       "<span style='background-color: blue; color: white'>B 1496630</span> <a href=https://bugs.launchpad.net/bugs/1496630>Network configuration handlers should return object not task</a> 2015-09-16/2015-10-16<br>- In Progress / Medium / cutwater / 8.0<br>- [<b>customer-found</b> module-nailgun module-networks tech-debt]"
      ],
      "text/plain": [
       "<IPython.core.display.HTML at 0x106ba4ad0>"
      ]
     },
     "metadata": {},
     "output_type": "display_data"
    },
    {
     "data": {
      "text/html": [
       "- <span style='background-color: lightgreen; color: black'>R 232021</span> stackforge/fuel-web master NEW <a href='https://review.openstack.org/232021'>Network configuration handlers return network config</a> Alexander Saprykin 2015-10-07/2015-10-16"
      ],
      "text/plain": [
       "<IPython.core.display.HTML at 0x106ba4750>"
      ]
     },
     "metadata": {},
     "output_type": "display_data"
    },
    {
     "data": {
      "text/html": [
       "<span style='background-color: blue; color: white'>B 1498867</span> <a href=https://bugs.launchpad.net/bugs/1498867>Nova becomes slow after controller shutdown because 1 of memcached servers is unavailable</a> 2015-09-23/2015-10-16<br>- Confirmed / Medium / mos-nova / 8.0<br>- [<b>long-haul-testing</b> memcached nova]"
      ],
      "text/plain": [
       "<IPython.core.display.HTML at 0x106bbc7d0>"
      ]
     },
     "metadata": {},
     "output_type": "display_data"
    },
    {
     "data": {
      "text/html": [
       "<span style='background-color: blue; color: white'>B 1500871</span> <a href=https://bugs.launchpad.net/bugs/1500871>/etc/sysctl.conf values do not apply to haproxy namespace after a failover</a> 2015-09-29/2015-10-13<br>- In Progress / Medium / sbogatkin / 8.0<br>- [<b>customer-found</b>]"
      ],
      "text/plain": [
       "<IPython.core.display.HTML at 0x10811aa50>"
      ]
     },
     "metadata": {},
     "output_type": "display_data"
    },
    {
     "data": {
      "text/html": [
       "- <span style='background-color: lightgreen; color: black'>R 229367</span> stackforge/fuel-library master NEW <a href='https://review.openstack.org/229367'>Add sysctl call to set values in namespace</a> Stanislaw Bogatkin 2015-09-30/2015-10-15"
      ],
      "text/plain": [
       "<IPython.core.display.HTML at 0x108123050>"
      ]
     },
     "metadata": {},
     "output_type": "display_data"
    },
    {
     "data": {
      "text/html": [
       "<span style='background-color: blue; color: white'>B 1503753</span> <a href=https://bugs.launchpad.net/bugs/1503753>nova-admin-options-depreciated-in-neutron</a> 2015-10-07/2015-10-16<br>- In Progress / Medium / skolekonov / 8.0<br>- [<b>customer-found</b>]"
      ],
      "text/plain": [
       "<IPython.core.display.HTML at 0x109d7edd0>"
      ]
     },
     "metadata": {},
     "output_type": "display_data"
    },
    {
     "data": {
      "text/html": [
       "<span style='background-color: blue; color: white'>B 1503303</span> <a href=https://bugs.launchpad.net/bugs/1503303>Fuel 7.0 different output for \"state\" column  \"fuel release\" into CLI and UI</a> 2015-10-06/2015-10-13<br>- Confirmed / Low / maciej-iai / 8.0<br>- [<b>support</b>]"
      ],
      "text/plain": [
       "<IPython.core.display.HTML at 0x107934450>"
      ]
     },
     "metadata": {},
     "output_type": "display_data"
    },
    {
     "data": {
      "text/html": [
       "<span style='background-color: blue; color: white'>B 1503828</span> <a href=https://bugs.launchpad.net/bugs/1503828>fuel-master iptables wrong if pxe interface changed from eth0</a> 2015-10-07/2015-10-13<br>- Confirmed / Low / raytrac3r / 8.0<br>- [<b>customer-found</b>]"
      ],
      "text/plain": [
       "<IPython.core.display.HTML at 0x109d7ea90>"
      ]
     },
     "metadata": {},
     "output_type": "display_data"
    },
    {
     "data": {
      "text/html": [
       "<span style='background-color: blue; color: white'>B 1497425</span> <a href=https://bugs.launchpad.net/bugs/1497425>VirtualBox Scripts for MOS 6.1 do not work with VirtualBox 5.0.4 on Windows 10/8.1</a> 2015-09-18/2015-10-13<br>- Confirmed / Wishlist / fuel-qa / 8.0<br>- [<b>customer-found</b> release-notes <b>support</b>]"
      ],
      "text/plain": [
       "<IPython.core.display.HTML at 0x108123790>"
      ]
     },
     "metadata": {},
     "output_type": "display_data"
    },
    {
     "name": "stdout",
     "output_type": "stream",
     "text": [
      "Found 35 bugs\n"
     ]
    }
   ],
   "source": [
    "comments = {\n",
    "    1503987: 'Needs assignee from python team',\n",
    "    1484008: 'Needs assignee from python team',\n",
    "    1505907: 'Waiting for help from Vasilenko',\n",
    "    1479862: 'Needs to be moved to library or puppet team',\n",
    "    1464656: 'Check that review is going fine',\n",
    "    1479815: 'Will be delivered later'\n",
    "}\n",
    "collection = prj.searchTasks(milestone=cur_ms, status=open_statuses, tags=important_tags)\n",
    "i = 0\n",
    "for bt in collection:\n",
    "    if not set(bt.bug.tags).intersection(excluded_tags):\n",
    "        display_bug(bt.bug, True)\n",
    "        try:\n",
    "            print comments[bt.bug.id]\n",
    "        except KeyError:\n",
    "            pass\n",
    "        i += 1\n",
    "print \"Found %s bugs\" % i"
   ]
  },
  {
   "cell_type": "markdown",
   "metadata": {},
   "source": [
    "## Critical/High bugs"
   ]
  },
  {
   "cell_type": "code",
   "execution_count": 121,
   "metadata": {
    "collapsed": true
   },
   "outputs": [
    {
     "data": {
      "text/html": [
       "<span style='background-color: blue; color: white'>B 1493372</span> <a href=https://bugs.launchpad.net/bugs/1493372>Command: 'openstack service create --format shell identity --name keystone --description OpenStack Identity Service' has been running for more than 10 seconds!</a> 2015-09-08/<span style='background-color: red; color: white'>2015-10-09</span><br>- Confirmed / Critical / vsaienko / 8.0<br>- []"
      ],
      "text/plain": [
       "<IPython.core.display.HTML at 0x1167d50d0>"
      ]
     },
     "metadata": {},
     "output_type": "display_data"
    },
    {
     "data": {
      "text/html": [
       "- <span style='background-color: lightgreen; color: black'>R 223733</span> stackforge/fuel-library stable/7.0 ABANDONED <a href='https://review.openstack.org/223733'>tune restart apache command</a> Vasyl Saienko 2015-09-15/2015-09-16"
      ],
      "text/plain": [
       "<IPython.core.display.HTML at 0x113b58a90>"
      ]
     },
     "metadata": {},
     "output_type": "display_data"
    },
    {
     "data": {
      "text/html": [
       "- <span style='background-color: lightgreen; color: black'>R 223943</span> stackforge/fuel-library master ABANDONED <a href='https://review.openstack.org/223943'>add tweaks::apache to modular/apache/apache.pp</a> Vasyl Saienko 2015-09-16/2015-09-24"
      ],
      "text/plain": [
       "<IPython.core.display.HTML at 0x116e4b4d0>"
      ]
     },
     "metadata": {},
     "output_type": "display_data"
    },
    {
     "data": {
      "text/html": [
       "- <span style='background-color: lightgreen; color: black'>R 11574</span> packages/trusty/mod-wsgi 7.0 NEW <a href='https://review.fuel-infra.org/11574'>mod_wsgi bumped to upstream version</a> Artem Silenkov 2015-09-15/<span style='background-color: red; color: white'>2015-09-15</span>"
      ],
      "text/plain": [
       "<IPython.core.display.HTML at 0x1167d5390>"
      ]
     },
     "metadata": {},
     "output_type": "display_data"
    },
    {
     "data": {
      "text/html": [
       "- <span style='background-color: lightgreen; color: black'>R 223775</span> stackforge/fuel-library stable/7.0 ABANDONED <a href='https://review.openstack.org/223775'>add tweaks::apache to modular/apache/apache.pp</a> Vasyl Saienko 2015-09-15/2015-09-24"
      ],
      "text/plain": [
       "<IPython.core.display.HTML at 0x10ec421d0>"
      ]
     },
     "metadata": {},
     "output_type": "display_data"
    },
    {
     "data": {
      "text/html": [
       "- <span style='background-color: lightgreen; color: black'>R 12084</span> packages/trusty/mod-wsgi 8.0 MERGED <a href='https://review.fuel-infra.org/12084'>Force configure after graceful restart</a> Ivan Udovichenko 2015-09-24/2015-09-25"
      ],
      "text/plain": [
       "<IPython.core.display.HTML at 0x1161ce390>"
      ]
     },
     "metadata": {},
     "output_type": "display_data"
    },
    {
     "data": {
      "text/html": [
       "- <span style='background-color: lightgreen; color: black'>R 222362</span> stackforge/fuel-library stable/7.0 MERGED <a href='https://review.openstack.org/222362'>Add workaround for apache restart during deployment</a> Vladimir Kuklin 2015-09-10/2015-09-11"
      ],
      "text/plain": [
       "<IPython.core.display.HTML at 0x10ec42290>"
      ]
     },
     "metadata": {},
     "output_type": "display_data"
    },
    {
     "data": {
      "text/html": [
       "- <span style='background-color: lightgreen; color: black'>R 222360</span> stackforge/fuel-library master MERGED <a href='https://review.openstack.org/222360'>Add workaround for apache restart during deployment</a> Vladimir Kuklin 2015-09-10/2015-09-11"
      ],
      "text/plain": [
       "<IPython.core.display.HTML at 0x1161ce950>"
      ]
     },
     "metadata": {},
     "output_type": "display_data"
    },
    {
     "data": {
      "text/html": [
       "- <span style='background-color: lightgreen; color: black'>R 11896</span> packages/trusty/mod-wsgi 7.0 MERGED <a href='https://review.fuel-infra.org/11896'>Force configure after graceful restart</a> Ivan Udovichenko 2015-09-19/2015-09-19"
      ],
      "text/plain": [
       "<IPython.core.display.HTML at 0x1167d5f10>"
      ]
     },
     "metadata": {},
     "output_type": "display_data"
    },
    {
     "data": {
      "text/html": [
       "- <a href='https://review.fuel-infra.org/11572'>https://review.fuel-infra.org/11572</a>"
      ],
      "text/plain": [
       "<IPython.core.display.HTML at 0x10f7b16d0>"
      ]
     },
     "metadata": {},
     "output_type": "display_data"
    },
    {
     "data": {
      "text/html": [
       "<span style='background-color: blue; color: white'>B 1501348</span> <a href=https://bugs.launchpad.net/bugs/1501348>[osci] Gates are broken for 6.0-updates branch for most of the components</a> 2015-09-30/2015-10-12<br>- Confirmed / Critical / asilenkov / 8.0<br>- [osci]"
      ],
      "text/plain": [
       "<IPython.core.display.HTML at 0x114b6c7d0>"
      ]
     },
     "metadata": {},
     "output_type": "display_data"
    },
    {
     "data": {
      "text/html": [
       "- <a href='https://review.fuel-infra.org/10951'>https://review.fuel-infra.org/10951</a>"
      ],
      "text/plain": [
       "<IPython.core.display.HTML at 0x11618ed90>"
      ]
     },
     "metadata": {},
     "output_type": "display_data"
    },
    {
     "data": {
      "text/html": [
       "- <a href='https://review.fuel-infra.org/11191'>https://review.fuel-infra.org/11191</a>"
      ],
      "text/plain": [
       "<IPython.core.display.HTML at 0x11618ec50>"
      ]
     },
     "metadata": {},
     "output_type": "display_data"
    },
    {
     "data": {
      "text/html": [
       "- <a href='https://review.fuel-infra.org/9962'>https://review.fuel-infra.org/9962</a>"
      ],
      "text/plain": [
       "<IPython.core.display.HTML at 0x11618edd0>"
      ]
     },
     "metadata": {},
     "output_type": "display_data"
    },
    {
     "data": {
      "text/html": [
       "<span style='background-color: blue; color: white'>B 1504094</span> <a href=https://bugs.launchpad.net/bugs/1504094>Openvswitch 2.3.2  RPM failed to compile in PRSTRK. </a> 2015-10-08/2015-10-14<br>- In Progress / Critical / asilenkov / 8.0<br>- []"
      ],
      "text/plain": [
       "<IPython.core.display.HTML at 0x1134006d0>"
      ]
     },
     "metadata": {},
     "output_type": "display_data"
    },
    {
     "data": {
      "text/html": [
       "- <a href='https://review.fuel-infra.org/12791'>https://review.fuel-infra.org/12791</a>"
      ],
      "text/plain": [
       "<IPython.core.display.HTML at 0x1161b4310>"
      ]
     },
     "metadata": {},
     "output_type": "display_data"
    },
    {
     "data": {
      "text/html": [
       "- <span style='background-color: lightgreen; color: black'>R 12828</span> packages/centos7/openvswitch master MERGED <a href='https://review.fuel-infra.org/12828'>Add OVS 2.3.2 to MOS 8.0 scope</a> Artem Silenkov 2015-10-14/2015-10-14"
      ],
      "text/plain": [
       "<IPython.core.display.HTML at 0x1161b48d0>"
      ]
     },
     "metadata": {},
     "output_type": "display_data"
    },
    {
     "data": {
      "text/html": [
       "- <span style='background-color: lightgreen; color: black'>R 12328</span> packages/centos7/openvswitch master MERGED <a href='https://review.fuel-infra.org/12328'>Add OVS 2.3.2 to MOS 8.0 scope</a> Aleksandr Mogylchenko 2015-09-30/2015-10-14"
      ],
      "text/plain": [
       "<IPython.core.display.HTML at 0x1161b41d0>"
      ]
     },
     "metadata": {},
     "output_type": "display_data"
    },
    {
     "data": {
      "text/html": [
       "<span style='background-color: blue; color: white'>B 1349702</span> <a href=https://bugs.launchpad.net/bugs/1349702>Use more descriptive names for networks in Neutron</a> 2014-07-29/<span style='background-color: red; color: white'>2015-10-09</span><br>- In Progress / High / raytrac3r / 8.0<br>- [qa-agree-7.0 qa-agree-8.0 tricky]"
      ],
      "text/plain": [
       "<IPython.core.display.HTML at 0x113dfbed0>"
      ]
     },
     "metadata": {},
     "output_type": "display_data"
    },
    {
     "data": {
      "text/html": [
       "- <span style='background-color: lightgreen; color: black'>R 228552</span> stackforge/fuel-ostf master NEW <a href='https://review.openstack.org/228552'>Allow custom private network name</a> Matthew Mosesohn 2015-09-28/<span style='background-color: red; color: white'>2015-09-29</span>"
      ],
      "text/plain": [
       "<IPython.core.display.HTML at 0x113400410>"
      ]
     },
     "metadata": {},
     "output_type": "display_data"
    },
    {
     "data": {
      "text/html": [
       "- <span style='background-color: lightgreen; color: black'>R 228514</span> stackforge/fuel-library master MERGED <a href='https://review.openstack.org/228514'>Allow default neutron names to be configured</a> Matthew Mosesohn 2015-09-28/2015-10-09"
      ],
      "text/plain": [
       "<IPython.core.display.HTML at 0x113400590>"
      ]
     },
     "metadata": {},
     "output_type": "display_data"
    },
    {
     "data": {
      "text/html": [
       "<span style='background-color: blue; color: white'>B 1447488</span> <a href=https://bugs.launchpad.net/bugs/1447488>[system-tests] Enhance the logrotate testcase</a> 2015-04-23/2015-10-12<br>- Confirmed / High / fuel-qa / 8.0<br>- [logging non-release]"
      ],
      "text/plain": [
       "<IPython.core.display.HTML at 0x114b6c9d0>"
      ]
     },
     "metadata": {},
     "output_type": "display_data"
    },
    {
     "data": {
      "text/html": [
       "- <span style='background-color: lightgreen; color: black'>R 182667</span> stackforge/fuel-qa master ABANDONED <a href='https://review.openstack.org/182667'>Added test for checking logrotate</a> Vladimir Khlyunev 2015-05-13/2015-07-22"
      ],
      "text/plain": [
       "<IPython.core.display.HTML at 0x11336db90>"
      ]
     },
     "metadata": {},
     "output_type": "display_data"
    },
    {
     "data": {
      "text/html": [
       "<span style='background-color: blue; color: white'>B 1447957</span> <a href=https://bugs.launchpad.net/bugs/1447957>[QA] Add test to check that S3 API works out of the box</a> 2015-04-24/<span style='background-color: red; color: white'>2015-08-31</span><br>- Confirmed / High / mos-qa / 8.0<br>- [non-release]"
      ],
      "text/plain": [
       "<IPython.core.display.HTML at 0x1168a3310>"
      ]
     },
     "metadata": {},
     "output_type": "display_data"
    },
    {
     "data": {
      "text/html": [
       "<span style='background-color: blue; color: white'>B 1450100</span> <a href=https://bugs.launchpad.net/bugs/1450100>Disk configuration is not reset to default after changing Glance backend</a> 2015-04-29/2015-10-13<br>- Confirmed / High / fuel-python / 8.0<br>- [module-nailgun release-notes tricky]"
      ],
      "text/plain": [
       "<IPython.core.display.HTML at 0x1161ce390>"
      ]
     },
     "metadata": {},
     "output_type": "display_data"
    },
    {
     "data": {
      "text/html": [
       "- <span style='background-color: lightgreen; color: black'>R 178545</span> stackforge/fuel-web master MERGED <a href='https://review.openstack.org/178545'>Lock Glance storage setting in env with allocated controllers</a> Julia Aranovich 2015-04-29/2015-04-29"
      ],
      "text/plain": [
       "<IPython.core.display.HTML at 0x11619c410>"
      ]
     },
     "metadata": {},
     "output_type": "display_data"
    },
    {
     "data": {
      "text/html": [
       "- <span style='background-color: lightgreen; color: black'>R 223450</span> stackforge/fuel-docs master MERGED <a href='https://review.openstack.org/223450'>Add disk partitioning issue to relnotes</a> Evgeny Konstantinov 2015-09-15/2015-09-15"
      ],
      "text/plain": [
       "<IPython.core.display.HTML at 0x1168a3810>"
      ]
     },
     "metadata": {},
     "output_type": "display_data"
    },
    {
     "data": {
      "text/html": [
       "<span style='background-color: blue; color: white'>B 1450105</span> <a href=https://bugs.launchpad.net/bugs/1450105>Synchronization of mirrors is fail when short-time network issues had place during syncronization </a> 2015-04-29/<span style='background-color: red; color: white'>2015-07-29</span><br>- Triaged / High / mrasskazov / 8.0<br>- []"
      ],
      "text/plain": [
       "<IPython.core.display.HTML at 0x116abbe50>"
      ]
     },
     "metadata": {},
     "output_type": "display_data"
    },
    {
     "data": {
      "text/html": [
       "<span style='background-color: blue; color: white'>B 1455847</span> <a href=https://bugs.launchpad.net/bugs/1455847>fix fuel-library unit tests</a> 2015-05-17/<span style='background-color: red; color: white'>2015-10-09</span><br>- In Progress / High / adidenko / 8.0<br>- [tech-debt]"
      ],
      "text/plain": [
       "<IPython.core.display.HTML at 0x116abb5d0>"
      ]
     },
     "metadata": {},
     "output_type": "display_data"
    },
    {
     "data": {
      "text/html": [
       "- <span style='background-color: lightgreen; color: black'>R 219186</span> stackforge/fuel-library stable/6.1 NEW <a href='https://review.openstack.org/219186'>Fix unit tests for 6.1</a> Aleksandr Didenko 2015-09-01/2015-10-13"
      ],
      "text/plain": [
       "<IPython.core.display.HTML at 0x113b28a10>"
      ]
     },
     "metadata": {},
     "output_type": "display_data"
    },
    {
     "data": {
      "text/html": [
       "- <span style='background-color: lightgreen; color: black'>R 197041</span> stackforge/fuel-library master MERGED <a href='https://review.openstack.org/197041'>Fix unit tests for l23network module</a> Stanislav Makar 2015-06-30/2015-07-03"
      ],
      "text/plain": [
       "<IPython.core.display.HTML at 0x11619c7d0>"
      ]
     },
     "metadata": {},
     "output_type": "display_data"
    },
    {
     "data": {
      "text/html": [
       "- <span style='background-color: lightgreen; color: black'>R 9028</span> fuel-infra/jenkins-jobs master NEW <a href='https://review.fuel-infra.org/9028'>Switch fuellib-unit to voting mode</a> Alexander Didenko 2015-07-03/<span style='background-color: red; color: white'>2015-07-28</span>"
      ],
      "text/plain": [
       "<IPython.core.display.HTML at 0x11619cc90>"
      ]
     },
     "metadata": {},
     "output_type": "display_data"
    },
    {
     "data": {
      "text/html": [
       "- <span style='background-color: lightgreen; color: black'>R 195625</span> stackforge/fuel-library master MERGED <a href='https://review.openstack.org/195625'>Fix unit tests</a> Aleksandr Didenko 2015-06-25/2015-07-03"
      ],
      "text/plain": [
       "<IPython.core.display.HTML at 0x113b28690>"
      ]
     },
     "metadata": {},
     "output_type": "display_data"
    },
    {
     "data": {
      "text/html": [
       "<span style='background-color: blue; color: white'>B 1469045</span> <a href=https://bugs.launchpad.net/bugs/1469045>Align requirements in all projects to global-requirements</a> 2015-06-26/<span style='background-color: red; color: white'>2015-10-06</span><br>- Triaged / High / fuel-python / 8.0<br>- [qa-agree-8.0 tech-debt]"
      ],
      "text/plain": [
       "<IPython.core.display.HTML at 0x114c71cd0>"
      ]
     },
     "metadata": {},
     "output_type": "display_data"
    },
    {
     "data": {
      "text/html": [
       "<span style='background-color: blue; color: white'>B 1470408</span> <a href=https://bugs.launchpad.net/bugs/1470408>Wrong dependencies when building packages</a> 2015-07-01/<span style='background-color: red; color: white'>2015-08-20</span><br>- Triaged / High / asilenkov / 8.0<br>- []"
      ],
      "text/plain": [
       "<IPython.core.display.HTML at 0x1168a32d0>"
      ]
     },
     "metadata": {},
     "output_type": "display_data"
    },
    {
     "data": {
      "text/html": [
       "<span style='background-color: blue; color: white'>B 1470823</span> <a href=https://bugs.launchpad.net/bugs/1470823>Network is suffering slow speed and unreachable</a> 2015-07-02/<span style='background-color: red; color: white'>2015-08-20</span><br>- Triaged / High / asilenkov / 8.0<br>- []"
      ],
      "text/plain": [
       "<IPython.core.display.HTML at 0x113400f10>"
      ]
     },
     "metadata": {},
     "output_type": "display_data"
    },
    {
     "data": {
      "text/html": [
       "<span style='background-color: blue; color: white'>B 1474791</span> <a href=https://bugs.launchpad.net/bugs/1474791>[Testrail]Current procedure of publishing test results to TestRail needs to be re-configured</a> 2015-07-15/<span style='background-color: red; color: white'>2015-10-08</span><br>- In Progress / High / ishamrai / 8.0<br>- [non-release testrail]"
      ],
      "text/plain": [
       "<IPython.core.display.HTML at 0x113dfb2d0>"
      ]
     },
     "metadata": {},
     "output_type": "display_data"
    },
    {
     "data": {
      "text/html": [
       "- <span style='background-color: lightgreen; color: black'>R 10025</span> fuel-infra/jenkins-jobs master MERGED <a href='https://review.fuel-infra.org/10025'>Create empty testrun in Testrail after build ISO</a> Yuriy Shamray 2015-08-03/2015-08-03"
      ],
      "text/plain": [
       "<IPython.core.display.HTML at 0x1161b4dd0>"
      ]
     },
     "metadata": {},
     "output_type": "display_data"
    },
    {
     "data": {
      "text/html": [
       "- <span style='background-color: lightgreen; color: black'>R 10640</span> fuel-infra/jenkins-jobs master MERGED <a href='https://review.fuel-infra.org/10640'>Trigger reporting after each swarm test.</a> Yuriy Shamray 2015-08-21/2015-08-26"
      ],
      "text/plain": [
       "<IPython.core.display.HTML at 0x1161b48d0>"
      ]
     },
     "metadata": {},
     "output_type": "display_data"
    },
    {
     "data": {
      "text/html": [
       "- <span style='background-color: lightgreen; color: black'>R 10026</span> fuel-infra/jenkins-jobs master ABANDONED <a href='https://review.fuel-infra.org/10026'>Updated command-line options for Testrail script.</a> Yuriy Shamray 2015-08-03/2015-08-03"
      ],
      "text/plain": [
       "<IPython.core.display.HTML at 0x1161b4c10>"
      ]
     },
     "metadata": {},
     "output_type": "display_data"
    },
    {
     "data": {
      "text/html": [
       "- <span style='background-color: lightgreen; color: black'>R 10042</span> fuel-infra/jenkins-jobs master MERGED <a href='https://review.fuel-infra.org/10042'>Updated command-line options for Testrail script.</a> Yuriy Shamray 2015-08-03/2015-08-07"
      ],
      "text/plain": [
       "<IPython.core.display.HTML at 0x1161b44d0>"
      ]
     },
     "metadata": {},
     "output_type": "display_data"
    },
    {
     "data": {
      "text/html": [
       "- <span style='background-color: lightgreen; color: black'>R 11966</span> fuel-infra/jenkins-jobs master MERGED <a href='https://review.fuel-infra.org/11966'>Fix triggering option for system tests.</a> Yuriy Shamray 2015-09-22/2015-09-25"
      ],
      "text/plain": [
       "<IPython.core.display.HTML at 0x1161b4b10>"
      ]
     },
     "metadata": {},
     "output_type": "display_data"
    },
    {
     "data": {
      "text/html": [
       "<span style='background-color: blue; color: white'>B 1476565</span> <a href=https://bugs.launchpad.net/bugs/1476565>JS-related entries in fuel-web:nailgun.spec and  fuel-main:requirements-rpm.txt should be autogenerated</a> 2015-07-21/<span style='background-color: red; color: white'>2015-09-30</span><br>- Confirmed / High / asilenkov / 8.0<br>- [non-release]"
      ],
      "text/plain": [
       "<IPython.core.display.HTML at 0x1161b4790>"
      ]
     },
     "metadata": {},
     "output_type": "display_data"
    },
    {
     "data": {
      "text/html": [
       "<span style='background-color: blue; color: white'>B 1477223</span> <a href=https://bugs.launchpad.net/bugs/1477223>Please add virtualenv cleanup for python jobs on master branches</a> 2015-07-22/<span style='background-color: red; color: white'>2015-09-01</span><br>- Confirmed / High / fuel-ci / 8.0<br>- []"
      ],
      "text/plain": [
       "<IPython.core.display.HTML at 0x116e4bd90>"
      ]
     },
     "metadata": {},
     "output_type": "display_data"
    },
    {
     "data": {
      "text/html": [
       "<span style='background-color: blue; color: white'>B 1480224</span> <a href=https://bugs.launchpad.net/bugs/1480224>Add tests for python-fuelclient into BVT tests</a> 2015-07-31/<span style='background-color: red; color: white'>2015-08-31</span><br>- Confirmed / High / fuel-qa / 8.0<br>- [fuel-qa non-release]"
      ],
      "text/plain": [
       "<IPython.core.display.HTML at 0x1168cd410>"
      ]
     },
     "metadata": {},
     "output_type": "display_data"
    },
    {
     "data": {
      "text/html": [
       "<span style='background-color: blue; color: white'>B 1480294</span> <a href=https://bugs.launchpad.net/bugs/1480294>[cisco-aci-plugin] the network created during connectivity check test is not removed after test</a> 2015-07-31/<span style='background-color: red; color: white'>2015-10-08</span><br>- Confirmed / High / fuel-plugins-bugs / 8.0<br>- [non-release]"
      ],
      "text/plain": [
       "<IPython.core.display.HTML at 0x1168a39d0>"
      ]
     },
     "metadata": {},
     "output_type": "display_data"
    },
    {
     "data": {
      "text/html": [
       "<span style='background-color: blue; color: white'>B 1481299</span> <a href=https://bugs.launchpad.net/bugs/1481299>[devops] zabbix check when there is <7GB free memory on the slave</a> 2015-08-04/<span style='background-color: red; color: white'>2015-09-28</span><br>- Triaged / High / fuel-devops / 8.0<br>- [fuel-devops]"
      ],
      "text/plain": [
       "<IPython.core.display.HTML at 0x11619c910>"
      ]
     },
     "metadata": {},
     "output_type": "display_data"
    },
    {
     "data": {
      "text/html": [
       "<span style='background-color: blue; color: white'>B 1483286</span> <a href=https://bugs.launchpad.net/bugs/1483286>Update and purge YAML file sample in the noop tests</a> 2015-08-10/<span style='background-color: red; color: white'>2015-10-05</span><br>- Confirmed / High / idv1985 / 8.0<br>- [tech-debt]"
      ],
      "text/plain": [
       "<IPython.core.display.HTML at 0x116a9bb10>"
      ]
     },
     "metadata": {},
     "output_type": "display_data"
    },
    {
     "data": {
      "text/html": [
       "<span style='background-color: blue; color: white'>B 1484162</span> <a href=https://bugs.launchpad.net/bugs/1484162>package upstream puppet modules as build dependencies</a> 2015-08-12/<span style='background-color: red; color: white'>2015-09-23</span><br>- Triaged / High / mos-puppet / 8.0<br>- []"
      ],
      "text/plain": [
       "<IPython.core.display.HTML at 0x116a9b390>"
      ]
     },
     "metadata": {},
     "output_type": "display_data"
    },
    {
     "data": {
      "text/html": [
       "<span style='background-color: blue; color: white'>B 1484973</span> <a href=https://bugs.launchpad.net/bugs/1484973>Change assigned IP addresses representation from string</a> 2015-08-14/<span style='background-color: red; color: white'>2015-10-06</span><br>- Confirmed / High / smurashov / 8.0<br>- [module-nailgun tech-debt]"
      ],
      "text/plain": [
       "<IPython.core.display.HTML at 0x11619ce90>"
      ]
     },
     "metadata": {},
     "output_type": "display_data"
    },
    {
     "data": {
      "text/html": [
       "<span style='background-color: blue; color: white'>B 1486681</span> <a href=https://bugs.launchpad.net/bugs/1486681>[OSTF] Sahara test for launching a simple Vanilla2 cluster error</a> 2015-08-19/2015-10-13<br>- Confirmed / High / mos-sahara / 8.0<br>- [ostf sahara]"
      ],
      "text/plain": [
       "<IPython.core.display.HTML at 0x11336db90>"
      ]
     },
     "metadata": {},
     "output_type": "display_data"
    },
    {
     "data": {
      "text/html": [
       "<span style='background-color: blue; color: white'>B 1486992</span> <a href=https://bugs.launchpad.net/bugs/1486992>Put perestroika builder jobs in non-voting mode for stackforge/fuel packages</a> 2015-08-20/<span style='background-color: red; color: white'>2015-08-21</span><br>- Confirmed / High / fuel-ci / 8.0<br>- []"
      ],
      "text/plain": [
       "<IPython.core.display.HTML at 0x118f4e950>"
      ]
     },
     "metadata": {},
     "output_type": "display_data"
    },
    {
     "data": {
      "text/html": [
       "<span style='background-color: blue; color: white'>B 1487397</span> <a href=https://bugs.launchpad.net/bugs/1487397>Network verification stopped responding.</a> 2015-08-21/2015-10-14<br>- In Progress / High / vsharshov / 8.0<br>- [tricky]"
      ],
      "text/plain": [
       "<IPython.core.display.HTML at 0x11618ee90>"
      ]
     },
     "metadata": {},
     "output_type": "display_data"
    },
    {
     "data": {
      "text/html": [
       "- <span style='background-color: lightgreen; color: black'>R 220069</span> stackforge/fuel-astute master MERGED <a href='https://review.openstack.org/220069'>Revert \"Implement asynchronous logger for event callbacks\"</a> Igor Kalnitsky 2015-09-03/2015-09-03"
      ],
      "text/plain": [
       "<IPython.core.display.HTML at 0x113400290>"
      ]
     },
     "metadata": {},
     "output_type": "display_data"
    },
    {
     "data": {
      "text/html": [
       "- <span style='background-color: lightgreen; color: black'>R 217810</span> stackforge/fuel-astute master MERGED <a href='https://review.openstack.org/217810'>Implement asynchronous logger for event callbacks</a> Vladimir Sharshov 2015-08-27/2015-09-01"
      ],
      "text/plain": [
       "<IPython.core.display.HTML at 0x113dfb8d0>"
      ]
     },
     "metadata": {},
     "output_type": "display_data"
    },
    {
     "data": {
      "text/html": [
       "<span style='background-color: blue; color: white'>B 1487482</span> <a href=https://bugs.launchpad.net/bugs/1487482>[VIPs] VIPs names should be unique</a> 2015-08-21/2015-10-12<br>- In Progress / High / aroma-x / 8.0<br>- [feature-validation module-nailgun module-networks]"
      ],
      "text/plain": [
       "<IPython.core.display.HTML at 0x1161b4190>"
      ]
     },
     "metadata": {},
     "output_type": "display_data"
    },
    {
     "data": {
      "text/html": [
       "- <span style='background-color: lightgreen; color: black'>R 233714</span> stackforge/fuel-web master NEW <a href='https://review.openstack.org/233714'>Add check if VIP name already present in network config</a> Artem Roma 2015-10-12/2015-10-15"
      ],
      "text/plain": [
       "<IPython.core.display.HTML at 0x1161b4ed0>"
      ]
     },
     "metadata": {},
     "output_type": "display_data"
    },
    {
     "data": {
      "text/html": [
       "<span style='background-color: blue; color: white'>B 1490305</span> <a href=https://bugs.launchpad.net/bugs/1490305>vSphere cluster can't be added when new compute-vmware node was added to environment</a> 2015-08-30/2015-10-12<br>- Confirmed / High / fuel-partner-core / 8.0<br>- [vcenter]"
      ],
      "text/plain": [
       "<IPython.core.display.HTML at 0x1161b4f90>"
      ]
     },
     "metadata": {},
     "output_type": "display_data"
    },
    {
     "data": {
      "text/html": [
       "- <span style='background-color: lightgreen; color: black'>R 214656</span> stackforge/fuel-docs master MERGED <a href='https://review.openstack.org/214656'>[VMware] Compute VMware role</a> Olga Gusarenko 2015-08-19/2015-09-04"
      ],
      "text/plain": [
       "<IPython.core.display.HTML at 0x118f4ef10>"
      ]
     },
     "metadata": {},
     "output_type": "display_data"
    },
    {
     "data": {
      "text/html": [
       "<span style='background-color: blue; color: white'>B 1490536</span> <a href=https://bugs.launchpad.net/bugs/1490536>Network verification hangs with network template</a> 2015-08-31/2015-10-12<br>- Confirmed / High / fuel-python / 8.0<br>- [feature-network-template module-netcheck]"
      ],
      "text/plain": [
       "<IPython.core.display.HTML at 0x11618e910>"
      ]
     },
     "metadata": {},
     "output_type": "display_data"
    },
    {
     "data": {
      "text/html": [
       "- <span style='background-color: lightgreen; color: black'>R 219600</span> stackforge/fuel-web master ABANDONED <a href='https://review.openstack.org/219600'>Network verification after template is uploaded</a> Ivan Kliuk 2015-09-02/2015-09-03"
      ],
      "text/plain": [
       "<IPython.core.display.HTML at 0x114c71cd0>"
      ]
     },
     "metadata": {},
     "output_type": "display_data"
    },
    {
     "data": {
      "text/html": [
       "<span style='background-color: blue; color: white'>B 1490915</span> <a href=https://bugs.launchpad.net/bugs/1490915>[QA][TestImpact] Cover case with sevaral public floating ip ranges</a> 2015-09-01/<span style='background-color: red; color: white'>2015-10-08</span><br>- Confirmed / High / mos-qa / 8.0<br>- [non-release]"
      ],
      "text/plain": [
       "<IPython.core.display.HTML at 0x11021bc90>"
      ]
     },
     "metadata": {},
     "output_type": "display_data"
    },
    {
     "data": {
      "text/html": [
       "<span style='background-color: blue; color: white'>B 1491820</span> <a href=https://bugs.launchpad.net/bugs/1491820>[devops] VMs are not destroyed when tests job is terminated by timeout </a> 2015-09-03/<span style='background-color: red; color: white'>2015-10-08</span><br>- Confirmed / High / fuel-ci / 8.0<br>- []"
      ],
      "text/plain": [
       "<IPython.core.display.HTML at 0x1167d5450>"
      ]
     },
     "metadata": {},
     "output_type": "display_data"
    },
    {
     "data": {
      "text/html": [
       "<span style='background-color: blue; color: white'>B 1492199</span> <a href=https://bugs.launchpad.net/bugs/1492199> fuel-agent failed to apply new partitioning scheme if upgrade from 5.1 to 7.0 happened and partition preservation was enabled</a> 2015-09-04/2015-10-12<br>- Confirmed / High / fuel-octane / 8.0<br>- [feature-image-based feature-upgrade tricky]"
      ],
      "text/plain": [
       "<IPython.core.display.HTML at 0x116abb890>"
      ]
     },
     "metadata": {},
     "output_type": "display_data"
    },
    {
     "data": {
      "text/html": [
       "<span style='background-color: blue; color: white'>B 1492744</span> <a href=https://bugs.launchpad.net/bugs/1492744>Network templates are ignored by cluster_upgrade extension</a> 2015-09-06/<span style='background-color: red; color: white'>2015-09-14</span><br>- Confirmed / High / fuel-octane / 8.0<br>- [feature-advanced-networking feature-upgrade l23network]"
      ],
      "text/plain": [
       "<IPython.core.display.HTML at 0x116a9b1d0>"
      ]
     },
     "metadata": {},
     "output_type": "display_data"
    },
    {
     "data": {
      "text/html": [
       "<span style='background-color: blue; color: white'>B 1493297</span> <a href=https://bugs.launchpad.net/bugs/1493297>After rabbit not master node failover instance in error state with message in compute.log: NeutronClientException: Authentication required</a> 2015-09-08/2015-10-12<br>- Confirmed / High / bbobrov / 8.0<br>- []"
      ],
      "text/plain": [
       "<IPython.core.display.HTML at 0x116a9bed0>"
      ]
     },
     "metadata": {},
     "output_type": "display_data"
    },
    {
     "data": {
      "text/html": [
       "<span style='background-color: blue; color: white'>B 1494223</span> <a href=https://bugs.launchpad.net/bugs/1494223>Hard-coded interface names (ethX) is using in fuel-main code</a> 2015-09-10/<span style='background-color: red; color: white'>2015-10-07</span><br>- In Progress / High / asyriy / 8.0<br>- [module-fuelmenu module-master-node-installation module-networks mos-linux]"
      ],
      "text/plain": [
       "<IPython.core.display.HTML at 0x113c6b550>"
      ]
     },
     "metadata": {},
     "output_type": "display_data"
    },
    {
     "data": {
      "text/html": [
       "- <span style='background-color: lightgreen; color: black'>R 223939</span> stackforge/fuel-main master NEW <a href='https://review.openstack.org/223939'>Ethernet interfaces may not be named as ethX</a> Albert Syriy 2015-09-16/2015-10-13"
      ],
      "text/plain": [
       "<IPython.core.display.HTML at 0x11619cd50>"
      ]
     },
     "metadata": {},
     "output_type": "display_data"
    },
    {
     "data": {
      "text/html": [
       "<span style='background-color: blue; color: white'>B 1494274</span> <a href=https://bugs.launchpad.net/bugs/1494274>[infra] Sometimes tests fail because slave node is overloaded, need to increase CPU number</a> 2015-09-10/<span style='background-color: red; color: white'>2015-10-05</span><br>- Confirmed / High / fuel-ci / 8.0<br>- [non-release]"
      ],
      "text/plain": [
       "<IPython.core.display.HTML at 0x113c5ba90>"
      ]
     },
     "metadata": {},
     "output_type": "display_data"
    },
    {
     "data": {
      "text/html": [
       "<span style='background-color: blue; color: white'>B 1494280</span> <a href=https://bugs.launchpad.net/bugs/1494280>describe publishing release artifacts</a> 2015-09-10/<span style='background-color: red; color: white'>2015-10-08</span><br>- Confirmed / High / fuel-devops / 8.0<br>- [fuel-devops non-release]"
      ],
      "text/plain": [
       "<IPython.core.display.HTML at 0x116e4bf50>"
      ]
     },
     "metadata": {},
     "output_type": "display_data"
    },
    {
     "data": {
      "text/html": [
       "<span style='background-color: blue; color: white'>B 1494284</span> <a href=https://bugs.launchpad.net/bugs/1494284>Some packages must be updated in order to achieve py3 compatibility</a> 2015-09-10/<span style='background-color: red; color: white'>2015-09-24</span><br>- Triaged / High / amogylchenko / 8.0<br>- [module-build module-client module-nailgun]"
      ],
      "text/plain": [
       "<IPython.core.display.HTML at 0x1134008d0>"
      ]
     },
     "metadata": {},
     "output_type": "display_data"
    },
    {
     "data": {
      "text/html": [
       "- <span style='background-color: lightgreen; color: black'>R 222101</span> stackforge/python-fuelclient master MERGED <a href='https://review.openstack.org/222101'>Update unittest2 requirement</a> Victor Stinner 2015-09-10/2015-09-14"
      ],
      "text/plain": [
       "<IPython.core.display.HTML at 0x11618ed10>"
      ]
     },
     "metadata": {},
     "output_type": "display_data"
    },
    {
     "data": {
      "text/html": [
       "<span style='background-color: blue; color: white'>B 1494507</span> <a href=https://bugs.launchpad.net/bugs/1494507>New controller can not be added to the ready cluster</a> 2015-09-10/<span style='background-color: red; color: white'>2015-10-08</span><br>- In Progress / High / gelbuhos / 8.0<br>- [feature-upgrade module-octane]"
      ],
      "text/plain": [
       "<IPython.core.display.HTML at 0x1161b4b10>"
      ]
     },
     "metadata": {},
     "output_type": "display_data"
    },
    {
     "data": {
      "text/html": [
       "- <span style='background-color: lightgreen; color: black'>R 229305</span> stackforge/fuel-octane stable/7.0 MERGED <a href='https://review.openstack.org/229305'>Properly use deployment info in 7.0</a> Oleg Gelbukh 2015-09-30/2015-10-05"
      ],
      "text/plain": [
       "<IPython.core.display.HTML at 0x116aa97d0>"
      ]
     },
     "metadata": {},
     "output_type": "display_data"
    },
    {
     "data": {
      "text/html": [
       "<span style='background-color: blue; color: white'>B 1494684</span> <a href=https://bugs.launchpad.net/bugs/1494684>/var/log/upstart is masked by the mapping of /dev/mapper/logs-log on controllers</a> 2015-09-11/<span style='background-color: red; color: white'>2015-10-09</span><br>- Confirmed / High / kozhukalov / 8.0<br>- []"
      ],
      "text/plain": [
       "<IPython.core.display.HTML at 0x1161b4f50>"
      ]
     },
     "metadata": {},
     "output_type": "display_data"
    },
    {
     "data": {
      "text/html": [
       "- <span style='background-color: lightgreen; color: black'>R 224579</span> stackforge/fuel-agent master MERGED <a href='https://review.openstack.org/224579'>Temporary fix for lost upstart directory</a> Vladimir Kozhukalov 2015-09-17/2015-09-18"
      ],
      "text/plain": [
       "<IPython.core.display.HTML at 0x113dfb910>"
      ]
     },
     "metadata": {},
     "output_type": "display_data"
    },
    {
     "data": {
      "text/html": [
       "- <span style='background-color: lightgreen; color: black'>R 224581</span> stackforge/fuel-agent stable/7.0 MERGED <a href='https://review.openstack.org/224581'>Temporary fix for lost upstart directory</a> Vladimir Kozhukalov 2015-09-17/2015-09-18"
      ],
      "text/plain": [
       "<IPython.core.display.HTML at 0x113dfb710>"
      ]
     },
     "metadata": {},
     "output_type": "display_data"
    },
    {
     "data": {
      "text/html": [
       "- <span style='background-color: lightgreen; color: black'>R 224460</span> stackforge/fuel-agent stable/7.0 NEW <a href='https://review.openstack.org/224460'>Move files from mount points to actual file systems</a> Vladimir Kozhukalov 2015-09-17/<span style='background-color: red; color: white'>2015-09-23</span>"
      ],
      "text/plain": [
       "<IPython.core.display.HTML at 0x10f7b16d0>"
      ]
     },
     "metadata": {},
     "output_type": "display_data"
    },
    {
     "data": {
      "text/html": [
       "- <span style='background-color: lightgreen; color: black'>R 224347</span> stackforge/fuel-agent master NEW <a href='https://review.openstack.org/224347'>Move files from mount points to actual file systems</a> Vladimir Kozhukalov 2015-09-16/2015-10-13"
      ],
      "text/plain": [
       "<IPython.core.display.HTML at 0x118f4e690>"
      ]
     },
     "metadata": {},
     "output_type": "display_data"
    },
    {
     "data": {
      "text/html": [
       "<span style='background-color: blue; color: white'>B 1494779</span> <a href=https://bugs.launchpad.net/bugs/1494779>Setting passwords for openstack services in HEX string format breaks deployment: 'err: 12380245 is not a string. It looks to be a Fixnum'</a> 2015-09-11/2015-10-13<br>- Confirmed / High / fuel-library / 8.0<br>- [hiera module-astute release-notes ruby]"
      ],
      "text/plain": [
       "<IPython.core.display.HTML at 0x113400390>"
      ]
     },
     "metadata": {},
     "output_type": "display_data"
    },
    {
     "data": {
      "text/html": [
       "- <span style='background-color: lightgreen; color: black'>R 11489</span> packages/trusty/ruby-hiera 7.0 NEW <a href='https://review.fuel-infra.org/11489'>Use 'Syck' module for loading YAML files</a> Artem Panchenko 2015-09-11/<span style='background-color: red; color: white'>2015-09-17</span>"
      ],
      "text/plain": [
       "<IPython.core.display.HTML at 0x116e33710>"
      ]
     },
     "metadata": {},
     "output_type": "display_data"
    },
    {
     "data": {
      "text/html": [
       "<span style='background-color: blue; color: white'>B 1495699</span> <a href=https://bugs.launchpad.net/bugs/1495699>[Murano] Time limit exceeded while waiting for Check that needed ports are opened to finish</a> 2015-09-14/<span style='background-color: red; color: white'>2015-09-15</span><br>- Triaged / High / vryzhenkin / 8.0<br>- [ostf]"
      ],
      "text/plain": [
       "<IPython.core.display.HTML at 0x1168a3990>"
      ]
     },
     "metadata": {},
     "output_type": "display_data"
    },
    {
     "data": {
      "text/html": [
       "<span style='background-color: blue; color: white'>B 1495925</span> <a href=https://bugs.launchpad.net/bugs/1495925>Horizon doesn't show down state for vCenter</a> 2015-09-15/<span style='background-color: red; color: white'>2015-10-05</span><br>- Confirmed / High / fuel-partner-engineering / 8.0<br>- [vcenter]"
      ],
      "text/plain": [
       "<IPython.core.display.HTML at 0x11619cc10>"
      ]
     },
     "metadata": {},
     "output_type": "display_data"
    },
    {
     "data": {
      "text/html": [
       "<span style='background-color: blue; color: white'>B 1495987</span> <a href=https://bugs.launchpad.net/bugs/1495987>After cluster cloning management network rages are different </a> 2015-09-15/<span style='background-color: red; color: white'>2015-10-06</span><br>- Confirmed / High / akscram / 8.0<br>- []"
      ],
      "text/plain": [
       "<IPython.core.display.HTML at 0x116abbb10>"
      ]
     },
     "metadata": {},
     "output_type": "display_data"
    },
    {
     "data": {
      "text/html": [
       "<span style='background-color: blue; color: white'>B 1496009</span> <a href=https://bugs.launchpad.net/bugs/1496009>Cinder-vmware daemon does not restart if it can't connect to vCenter</a> 2015-09-15/<span style='background-color: red; color: white'>2015-10-05</span><br>- Confirmed / High / fuel-partner-engineering / 8.0<br>- [cinder-vmware vcenter]"
      ],
      "text/plain": [
       "<IPython.core.display.HTML at 0x11619cc10>"
      ]
     },
     "metadata": {},
     "output_type": "display_data"
    },
    {
     "data": {
      "text/html": [
       "<span style='background-color: blue; color: white'>B 1496072</span> <a href=https://bugs.launchpad.net/bugs/1496072>[Build] Correct CI-checks to verify projects.yaml</a> 2015-09-15/2015-10-13<br>- Triaged / High / fuel-ci / 8.0<br>- []"
      ],
      "text/plain": [
       "<IPython.core.display.HTML at 0x1168a31d0>"
      ]
     },
     "metadata": {},
     "output_type": "display_data"
    },
    {
     "data": {
      "text/html": [
       "<span style='background-color: blue; color: white'>B 1496279</span> <a href=https://bugs.launchpad.net/bugs/1496279>[nailgun] Bonding conf is inconsistent after cloud ops</a> 2015-09-16/<span style='background-color: red; color: white'>2015-10-06</span><br>- In Progress / High / mpolenchuk / 8.0<br>- []"
      ],
      "text/plain": [
       "<IPython.core.display.HTML at 0x1161ce850>"
      ]
     },
     "metadata": {},
     "output_type": "display_data"
    },
    {
     "data": {
      "text/html": [
       "- <span style='background-color: lightgreen; color: black'>R 223991</span> stackforge/fuel-nailgun-agent master NEW <a href='https://review.openstack.org/223991'>Return original interface mac</a> Michael Polenchuk 2015-09-16/2015-10-15"
      ],
      "text/plain": [
       "<IPython.core.display.HTML at 0x10f7b16d0>"
      ]
     },
     "metadata": {},
     "output_type": "display_data"
    },
    {
     "data": {
      "text/html": [
       "<span style='background-color: blue; color: white'>B 1496411</span> <a href=https://bugs.launchpad.net/bugs/1496411>Waiting timeout was reached but it value was from previous deploy</a> 2015-09-16/<span style='background-color: red; color: white'>2015-10-08</span><br>- Confirmed / High / vsharshov / 8.0<br>- [module-astute]"
      ],
      "text/plain": [
       "<IPython.core.display.HTML at 0x113400690>"
      ]
     },
     "metadata": {},
     "output_type": "display_data"
    },
    {
     "data": {
      "text/html": [
       "<span style='background-color: blue; color: white'>B 1496516</span> <a href=https://bugs.launchpad.net/bugs/1496516>Too few ceph pgs on rally tests</a> 2015-09-16/<span style='background-color: red; color: white'>2015-09-18</span><br>- Confirmed / High / mos-ceph / 8.0<br>- [scale]"
      ],
      "text/plain": [
       "<IPython.core.display.HTML at 0x116aa9b50>"
      ]
     },
     "metadata": {},
     "output_type": "display_data"
    },
    {
     "data": {
      "text/html": [
       "<span style='background-color: blue; color: white'>B 1496521</span> <a href=https://bugs.launchpad.net/bugs/1496521>[vcenter] deleting of compute-vmware node has failed with an error</a> 2015-09-16/<span style='background-color: red; color: white'>2015-10-05</span><br>- Confirmed / High / fuel-partner-engineering / 8.0<br>- [vcenter]"
      ],
      "text/plain": [
       "<IPython.core.display.HTML at 0x116a9b6d0>"
      ]
     },
     "metadata": {},
     "output_type": "display_data"
    },
    {
     "data": {
      "text/html": [
       "<span style='background-color: blue; color: white'>B 1496622</span> <a href=https://bugs.launchpad.net/bugs/1496622>Test against Ubuntu proposed build is broken</a> 2015-09-16/<span style='background-color: red; color: white'>2015-09-23</span><br>- In Progress / High / vparakhin / 8.0<br>- []"
      ],
      "text/plain": [
       "<IPython.core.display.HTML at 0x116a9bd90>"
      ]
     },
     "metadata": {},
     "output_type": "display_data"
    },
    {
     "data": {
      "text/html": [
       "- <span style='background-color: lightgreen; color: black'>R 12040</span> fuel-infra/jenkins-jobs master NEW <a href='https://review.fuel-infra.org/12040'>Add test against Ubuntu \"proposed\" channel</a> Vitaly Parakhin 2015-09-23/<span style='background-color: red; color: white'>2015-10-09</span>"
      ],
      "text/plain": [
       "<IPython.core.display.HTML at 0x116aa9f90>"
      ]
     },
     "metadata": {},
     "output_type": "display_data"
    },
    {
     "data": {
      "text/html": [
       "<span style='background-color: blue; color: white'>B 1496766</span> <a href=https://bugs.launchpad.net/bugs/1496766>Environment with vCenter only can't be created</a> 2015-09-17/<span style='background-color: red; color: white'>2015-10-05</span><br>- Confirmed / High / fuel-partner-engineering / 8.0<br>- [vcenter]"
      ],
      "text/plain": [
       "<IPython.core.display.HTML at 0x113dfb790>"
      ]
     },
     "metadata": {},
     "output_type": "display_data"
    },
    {
     "data": {
      "text/html": [
       "<span style='background-color: blue; color: white'>B 1497275</span> <a href=https://bugs.launchpad.net/bugs/1497275>[Packaging] Sync source packages from upstream to our Git repository</a> 2015-09-18/2015-10-13<br>- Confirmed / High / dkaiharodsev / 8.0<br>- [debian packaging prod-1079 ubuntu]"
      ],
      "text/plain": [
       "<IPython.core.display.HTML at 0x113400b90>"
      ]
     },
     "metadata": {},
     "output_type": "display_data"
    },
    {
     "data": {
      "text/html": [
       "<span style='background-color: blue; color: white'>B 1497467</span> <a href=https://bugs.launchpad.net/bugs/1497467>Horizon URL should use FQDN when HTTPS enabled</a> 2015-09-18/2015-10-14<br>- Confirmed / High / fuel-ui / 8.0<br>- [ui]"
      ],
      "text/plain": [
       "<IPython.core.display.HTML at 0x11618ef10>"
      ]
     },
     "metadata": {},
     "output_type": "display_data"
    },
    {
     "data": {
      "text/html": [
       "- <span style='background-color: lightgreen; color: black'>R 231046</span> stackforge/fuel-web master NEW <a href='https://review.openstack.org/231046'>Showing FQDN link to Horizon</a> Alexandra Morozova 2015-10-05/<span style='background-color: red; color: white'>2015-10-05</span>"
      ],
      "text/plain": [
       "<IPython.core.display.HTML at 0x114c71cd0>"
      ]
     },
     "metadata": {},
     "output_type": "display_data"
    },
    {
     "data": {
      "text/html": [
       "<span style='background-color: blue; color: white'>B 1498015</span> <a href=https://bugs.launchpad.net/bugs/1498015>We have a weird behavior of the lpassigner.py script</a> 2015-09-21/<span style='background-color: red; color: white'>2015-09-23</span><br>- Triaged / High / fuel-devops / 8.0<br>- []"
      ],
      "text/plain": [
       "<IPython.core.display.HTML at 0x11619c490>"
      ]
     },
     "metadata": {},
     "output_type": "display_data"
    },
    {
     "data": {
      "text/html": [
       "<span style='background-color: blue; color: white'>B 1498088</span> <a href=https://bugs.launchpad.net/bugs/1498088>Some manifests contain hard-coded bridge names</a> 2015-09-21/2015-10-12<br>- In Progress / High / rmoe / 8.0<br>- [library]"
      ],
      "text/plain": [
       "<IPython.core.display.HTML at 0x116abba90>"
      ]
     },
     "metadata": {},
     "output_type": "display_data"
    },
    {
     "data": {
      "text/html": [
       "- <span style='background-color: lightgreen; color: black'>R 225941</span> stackforge/fuel-library master NEW <a href='https://review.openstack.org/225941'>Find bridge information by network role</a> Ryan Moe 2015-09-21/<span style='background-color: red; color: white'>2015-10-06</span>"
      ],
      "text/plain": [
       "<IPython.core.display.HTML at 0x1168cd410>"
      ]
     },
     "metadata": {},
     "output_type": "display_data"
    },
    {
     "data": {
      "text/html": [
       "<span style='background-color: blue; color: white'>B 1498160</span> <a href=https://bugs.launchpad.net/bugs/1498160>[TestImpact][system-tests] Test change pacemaker parameter does not break RabbitMQ</a> 2015-09-21/<span style='background-color: red; color: white'>2015-09-21</span><br>- Confirmed / High / fuel-qa / 8.0<br>- []"
      ],
      "text/plain": [
       "<IPython.core.display.HTML at 0x118f4e950>"
      ]
     },
     "metadata": {},
     "output_type": "display_data"
    },
    {
     "data": {
      "text/html": [
       "<span style='background-color: blue; color: white'>B 1498365</span> <a href=https://bugs.launchpad.net/bugs/1498365>nailgun perfomance test fails due to ClusterOperationsLoadTest.test_put_deploy_selected_nodes taking too long</a> 2015-09-22/<span style='background-color: red; color: white'>2015-10-09</span><br>- In Progress / High / akislitsky / 8.0<br>- [module-nailgun tech-debt]"
      ],
      "text/plain": [
       "<IPython.core.display.HTML at 0x1161ceb50>"
      ]
     },
     "metadata": {},
     "output_type": "display_data"
    },
    {
     "data": {
      "text/html": [
       "- <span style='background-color: lightgreen; color: black'>R 232533</span> stackforge/fuel-web master NEW <a href='https://review.openstack.org/232533'>Performance test timeout increased for PUT of DeploySelectedNodes</a> Alexander Kislitsky 2015-10-08/<span style='background-color: red; color: white'>2015-10-09</span>"
      ],
      "text/plain": [
       "<IPython.core.display.HTML at 0x113dfb2d0>"
      ]
     },
     "metadata": {},
     "output_type": "display_data"
    },
    {
     "data": {
      "text/html": [
       "<span style='background-color: blue; color: white'>B 1499007</span> <a href=https://bugs.launchpad.net/bugs/1499007>nailgun-agent reports wrong _master_ip_and_mac on multirack envs</a> 2015-09-23/<span style='background-color: red; color: white'>2015-10-09</span><br>- In Progress / High / xenolog / 8.0<br>- [feature-nodegroup module-nailgun-agent]"
      ],
      "text/plain": [
       "<IPython.core.display.HTML at 0x113c6ba90>"
      ]
     },
     "metadata": {},
     "output_type": "display_data"
    },
    {
     "data": {
      "text/html": [
       "- <span style='background-color: lightgreen; color: black'>R 227052</span> stackforge/fuel-nailgun-agent master NEW <a href='https://review.openstack.org/227052'>Search IP--mac pair for mutli-rack deployments</a> Sergey Vasilenko 2015-09-23/2015-10-12"
      ],
      "text/plain": [
       "<IPython.core.display.HTML at 0x1161b4210>"
      ]
     },
     "metadata": {},
     "output_type": "display_data"
    },
    {
     "data": {
      "text/html": [
       "<span style='background-color: blue; color: white'>B 1499291</span> <a href=https://bugs.launchpad.net/bugs/1499291>Nailgun returns 500 if plugin's network roles has intersection by name or id</a> 2015-09-24/<span style='background-color: red; color: white'>2015-10-09</span><br>- Confirmed / High / fuel-python / 8.0<br>- [module-nailgun]"
      ],
      "text/plain": [
       "<IPython.core.display.HTML at 0x114b6c910>"
      ]
     },
     "metadata": {},
     "output_type": "display_data"
    },
    {
     "data": {
      "text/html": [
       "<span style='background-color: blue; color: white'>B 1499652</span> <a href=https://bugs.launchpad.net/bugs/1499652>Update the ISO that is used for fuel-library deployment tests</a> 2015-09-25/<span style='background-color: red; color: white'>2015-09-25</span><br>- In Progress / High / afedorova / 8.0<br>- []"
      ],
      "text/plain": [
       "<IPython.core.display.HTML at 0x1168a3990>"
      ]
     },
     "metadata": {},
     "output_type": "display_data"
    },
    {
     "data": {
      "text/html": [
       "- <span style='background-color: lightgreen; color: black'>R 227375</span> stackforge/fuel-main master MERGED <a href='https://review.openstack.org/227375'>Use PRODUCTION from astute.yaml when build_images=1 mode is active</a> Vladimir Kozhukalov 2015-09-24/2015-09-25"
      ],
      "text/plain": [
       "<IPython.core.display.HTML at 0x113400b10>"
      ]
     },
     "metadata": {},
     "output_type": "display_data"
    },
    {
     "data": {
      "text/html": [
       "<span style='background-color: blue; color: white'>B 1499659</span> <a href=https://bugs.launchpad.net/bugs/1499659>dependency version conflict in python-fuelclient</a> 2015-09-25/<span style='background-color: red; color: white'>2015-10-09</span><br>- In Progress / High / romcheg / 8.0<br>- [module-client tech-debt]"
      ],
      "text/plain": [
       "<IPython.core.display.HTML at 0x116abbdd0>"
      ]
     },
     "metadata": {},
     "output_type": "display_data"
    },
    {
     "data": {
      "text/html": [
       "- <span style='background-color: lightgreen; color: black'>R 227862</span> stackforge/python-fuelclient master NEW <a href='https://review.openstack.org/227862'>Allign requirements to Kilo</a> Roman Prykhodchenko 2015-09-25/2015-10-12"
      ],
      "text/plain": [
       "<IPython.core.display.HTML at 0x116abb6d0>"
      ]
     },
     "metadata": {},
     "output_type": "display_data"
    },
    {
     "data": {
      "text/html": [
       "- <span style='background-color: lightgreen; color: black'>R 227874</span> stackforge/python-fuelclient master MERGED <a href='https://review.openstack.org/227874'>Allign test requirements to Global Requirements</a> Roman Prykhodchenko 2015-09-25/2015-10-09"
      ],
      "text/plain": [
       "<IPython.core.display.HTML at 0x116abbd50>"
      ]
     },
     "metadata": {},
     "output_type": "display_data"
    },
    {
     "data": {
      "text/html": [
       "- <span style='background-color: lightgreen; color: black'>R 227895</span> stackforge/python-fuelclient master MERGED <a href='https://review.openstack.org/227895'>Use testrepository as the test runner</a> Roman Prykhodchenko 2015-09-25/2015-10-09"
      ],
      "text/plain": [
       "<IPython.core.display.HTML at 0x116abb150>"
      ]
     },
     "metadata": {},
     "output_type": "display_data"
    },
    {
     "data": {
      "text/html": [
       "<span style='background-color: blue; color: white'>B 1499690</span> <a href=https://bugs.launchpad.net/bugs/1499690>bash-completion must be added to mirrors and installed by default on master node</a> 2015-09-25/2015-10-15<br>- Confirmed / High / mos-linux / 8.0<br>- []"
      ],
      "text/plain": [
       "<IPython.core.display.HTML at 0x113400f10>"
      ]
     },
     "metadata": {},
     "output_type": "display_data"
    },
    {
     "data": {
      "text/html": [
       "<span style='background-color: blue; color: white'>B 1499696</span> <a href=https://bugs.launchpad.net/bugs/1499696>fuel-octane doesn't check if service up after upgrade-control</a> 2015-09-25/2015-10-12<br>- In Progress / High / gelbuhos / 8.0<br>- [feature-upgrade module-octane]"
      ],
      "text/plain": [
       "<IPython.core.display.HTML at 0x11618e310>"
      ]
     },
     "metadata": {},
     "output_type": "display_data"
    },
    {
     "data": {
      "text/html": [
       "- <span style='background-color: lightgreen; color: black'>R 231199</span> stackforge/fuel-octane stable/7.0 NEW <a href='https://review.openstack.org/231199'>Use more correct approach to detect resources status</a> Valyavskiy Viacheslav 2015-10-05/2015-10-14"
      ],
      "text/plain": [
       "<IPython.core.display.HTML at 0x1167d5f50>"
      ]
     },
     "metadata": {},
     "output_type": "display_data"
    },
    {
     "data": {
      "text/html": [
       "<span style='background-color: blue; color: white'>B 1500071</span> <a href=https://bugs.launchpad.net/bugs/1500071>Upate fuel-main README</a> 2015-09-26/2015-10-14<br>- Confirmed / High / fuel-build / 8.0<br>- [tech-debt]"
      ],
      "text/plain": [
       "<IPython.core.display.HTML at 0x114b6cb90>"
      ]
     },
     "metadata": {},
     "output_type": "display_data"
    },
    {
     "data": {
      "text/html": [
       "<span style='background-color: blue; color: white'>B 1500073</span> <a href=https://bugs.launchpad.net/bugs/1500073>fuel-stats should be tested by OpenStack Infra</a> 2015-09-26/<span style='background-color: red; color: white'>2015-10-05</span><br>- Confirmed / High / akislitsky / 8.0<br>- [tech-debt tricky]"
      ],
      "text/plain": [
       "<IPython.core.display.HTML at 0x1161b4b50>"
      ]
     },
     "metadata": {},
     "output_type": "display_data"
    },
    {
     "data": {
      "text/html": [
       "<span style='background-color: blue; color: white'>B 1500373</span> <a href=https://bugs.launchpad.net/bugs/1500373>Update cliff and oslo in the mirror</a> 2015-09-28/<span style='background-color: red; color: white'>2015-10-09</span><br>- Confirmed / High / mos-da / 8.0<br>- [module-build]"
      ],
      "text/plain": [
       "<IPython.core.display.HTML at 0x116e4b0d0>"
      ]
     },
     "metadata": {},
     "output_type": "display_data"
    },
    {
     "data": {
      "text/html": [
       "<span style='background-color: blue; color: white'>B 1500394</span> <a href=https://bugs.launchpad.net/bugs/1500394>Failed to start Fuel UI. Nailgun is not available</a> 2015-09-28/2015-10-15<br>- In Progress / High / fzhadaev / 8.0<br>- [feature-plugins]"
      ],
      "text/plain": [
       "<IPython.core.display.HTML at 0x116aa9e10>"
      ]
     },
     "metadata": {},
     "output_type": "display_data"
    },
    {
     "data": {
      "text/html": [
       "<span style='background-color: blue; color: white'>B 1501681</span> <a href=https://bugs.launchpad.net/bugs/1501681>Wrong fuel plugin can break nailgun</a> 2015-10-01/2015-10-12<br>- Triaged / High / fuel-python / 8.0<br>- []"
      ],
      "text/plain": [
       "<IPython.core.display.HTML at 0x116e4b0d0>"
      ]
     },
     "metadata": {},
     "output_type": "display_data"
    },
    {
     "data": {
      "text/html": [
       "<span style='background-color: blue; color: white'>B 1502261</span> <a href=https://bugs.launchpad.net/bugs/1502261>ceilometer/radowsgw_user task fails because ceilometer-agent-central can't be started</a> 2015-10-02/2015-10-12<br>- Confirmed / High / fuel-library / 8.0<br>- []"
      ],
      "text/plain": [
       "<IPython.core.display.HTML at 0x113dfb650>"
      ]
     },
     "metadata": {},
     "output_type": "display_data"
    },
    {
     "data": {
      "text/html": [
       "<span style='background-color: blue; color: white'>B 1502829</span> <a href=https://bugs.launchpad.net/bugs/1502829>nailgun does not allow to set floating IP range from non default nodegroup</a> 2015-10-05/<span style='background-color: red; color: white'>2015-10-06</span><br>- Confirmed / High / alekseyk-ru / 8.0<br>- [feature-nodegroup]"
      ],
      "text/plain": [
       "<IPython.core.display.HTML at 0x114b6cf50>"
      ]
     },
     "metadata": {},
     "output_type": "display_data"
    },
    {
     "data": {
      "text/html": [
       "<span style='background-color: blue; color: white'>B 1502908</span> <a href=https://bugs.launchpad.net/bugs/1502908>[nailgun] TestNeutronNetworkConfigurationValidatorProtocol.test_validation_passed fails sometimes</a> 2015-10-05/<span style='background-color: red; color: white'>2015-10-06</span><br>- Confirmed / High / fuel-python / 8.0<br>- [module-nailgun tech-debt]"
      ],
      "text/plain": [
       "<IPython.core.display.HTML at 0x1167d5090>"
      ]
     },
     "metadata": {},
     "output_type": "display_data"
    },
    {
     "data": {
      "text/html": [
       "<span style='background-color: blue; color: white'>B 1503663</span> <a href=https://bugs.launchpad.net/bugs/1503663>fuel 8.0 with Liberty Openstack provides Kilo as choice of Openstack</a> 2015-10-07/2015-10-13<br>- In Progress / High / gelbuhos / 8.0<br>- [low-hanging-fruit regression-8.0]"
      ],
      "text/plain": [
       "<IPython.core.display.HTML at 0x1168a36d0>"
      ]
     },
     "metadata": {},
     "output_type": "display_data"
    },
    {
     "data": {
      "text/html": [
       "- <span style='background-color: lightgreen; color: black'>R 234296</span> stackforge/fuel-web master NEW <a href='https://review.openstack.org/234296'>Change release version to Liberty in openstack.yaml</a> Oleg Gelbukh 2015-10-13/2015-10-15"
      ],
      "text/plain": [
       "<IPython.core.display.HTML at 0x116abb710>"
      ]
     },
     "metadata": {},
     "output_type": "display_data"
    },
    {
     "data": {
      "text/html": [
       "<span style='background-color: blue; color: white'>B 1503766</span> <a href=https://bugs.launchpad.net/bugs/1503766>[liberty] Cannot import name dispatcher</a> 2015-10-07/2015-10-12<br>- In Progress / High / skolekonov / 8.0<br>- [liberty]"
      ],
      "text/plain": [
       "<IPython.core.display.HTML at 0x116abbc90>"
      ]
     },
     "metadata": {},
     "output_type": "display_data"
    },
    {
     "data": {
      "text/html": [
       "- <span style='background-color: lightgreen; color: black'>R 12600</span> puppet-modules/puppet-keystone mos-8.0 MERGED <a href='https://review.fuel-infra.org/12600'>Pass necessary options to Apache when using WSGI</a> Sergey Kolekonov 2015-10-07/2015-10-08"
      ],
      "text/plain": [
       "<IPython.core.display.HTML at 0x116abb290>"
      ]
     },
     "metadata": {},
     "output_type": "display_data"
    },
    {
     "data": {
      "text/html": [
       "- <span style='background-color: lightgreen; color: black'>R 232557</span> stackforge/fuel-library master MERGED <a href='https://review.openstack.org/232557'>Update Puppet modules for Liberty</a> Ivan Berezovskiy 2015-10-08/2015-10-14"
      ],
      "text/plain": [
       "<IPython.core.display.HTML at 0x116abb7d0>"
      ]
     },
     "metadata": {},
     "output_type": "display_data"
    },
    {
     "data": {
      "text/html": [
       "<span style='background-color: blue; color: white'>B 1503770</span> <a href=https://bugs.launchpad.net/bugs/1503770>[liberty] Keystone didn't launch with 'ArgsAlreadyParsedError' and 'osrandom engine already registered'</a> 2015-10-07/2015-10-12<br>- In Progress / High / iberezovskiy / 8.0<br>- [liberty]"
      ],
      "text/plain": [
       "<IPython.core.display.HTML at 0x116abb950>"
      ]
     },
     "metadata": {},
     "output_type": "display_data"
    },
    {
     "data": {
      "text/html": [
       "- <span style='background-color: lightgreen; color: black'>R 232557</span> stackforge/fuel-library master MERGED <a href='https://review.openstack.org/232557'>Update Puppet modules for Liberty</a> Ivan Berezovskiy 2015-10-08/2015-10-14"
      ],
      "text/plain": [
       "<IPython.core.display.HTML at 0x113c5bd90>"
      ]
     },
     "metadata": {},
     "output_type": "display_data"
    },
    {
     "data": {
      "text/html": [
       "<span style='background-color: blue; color: white'>B 1504157</span> <a href=https://bugs.launchpad.net/bugs/1504157>copy_files task can not copy binary files</a> 2015-10-08/2015-10-14<br>- Confirmed / High / ivanzipfer / 8.0<br>- [module-astute]"
      ],
      "text/plain": [
       "<IPython.core.display.HTML at 0x1167d5c90>"
      ]
     },
     "metadata": {},
     "output_type": "display_data"
    },
    {
     "data": {
      "text/html": [
       "<span style='background-color: blue; color: white'>B 1504448</span> <a href=https://bugs.launchpad.net/bugs/1504448>verify-fuel-web job is broken for 6.1 release</a> 2015-10-09/<span style='background-color: red; color: white'>2015-10-09</span><br>- Confirmed / High / fuel-python / 8.0<br>- [jenkins maintenance tech-debt]"
      ],
      "text/plain": [
       "<IPython.core.display.HTML at 0x1161b4d10>"
      ]
     },
     "metadata": {},
     "output_type": "display_data"
    },
    {
     "data": {
      "text/html": [
       "<span style='background-color: blue; color: white'>B 1504493</span> <a href=https://bugs.launchpad.net/bugs/1504493>Task 'spawn_vms': ntpdate -u ...: shell timeout error: execution expired</a> 2015-10-09/2015-10-12<br>- In Progress / High / sgolovatiuk / 8.0<br>- [tricky]"
      ],
      "text/plain": [
       "<IPython.core.display.HTML at 0x113dfbe50>"
      ]
     },
     "metadata": {},
     "output_type": "display_data"
    },
    {
     "data": {
      "text/html": [
       "<span style='background-color: blue; color: white'>B 1504572</span> <a href=https://bugs.launchpad.net/bugs/1504572>[Nailgun] GET network_configuration throws error</a> 2015-10-09/<span style='background-color: red; color: white'>2015-10-09</span><br>- Confirmed / High / fuel-python / 8.0<br>- [feature-advanced-networking module-nailgun tricky]"
      ],
      "text/plain": [
       "<IPython.core.display.HTML at 0x116aa9290>"
      ]
     },
     "metadata": {},
     "output_type": "display_data"
    },
    {
     "data": {
      "text/html": [
       "<span style='background-color: blue; color: white'>B 1505162</span> <a href=https://bugs.launchpad.net/bugs/1505162>Update template of spec with more detailed information of testing impact</a> 2015-10-12/2015-10-12<br>- In Progress / High / aurlapova / 8.0<br>- [non-release]"
      ],
      "text/plain": [
       "<IPython.core.display.HTML at 0x116aa98d0>"
      ]
     },
     "metadata": {},
     "output_type": "display_data"
    },
    {
     "data": {
      "text/html": [
       "- <span style='background-color: lightgreen; color: black'>R 233599</span> stackforge/fuel-specs master NEW <a href='https://review.openstack.org/233599'>Added additional inforamtion in Test Impact section</a> Nastya Urlapova 2015-10-12/2015-10-12"
      ],
      "text/plain": [
       "<IPython.core.display.HTML at 0x11336db90>"
      ]
     },
     "metadata": {},
     "output_type": "display_data"
    },
    {
     "data": {
      "text/html": [
       "<span style='background-color: blue; color: white'>B 1505253</span> <a href=https://bugs.launchpad.net/bugs/1505253>Deleted export OS_TENANT_NAME='admin' from openrc</a> 2015-10-12/2015-10-12<br>- In Progress / High / iberezovskiy / 8.0<br>- [liberty]"
      ],
      "text/plain": [
       "<IPython.core.display.HTML at 0x116aa9e90>"
      ]
     },
     "metadata": {},
     "output_type": "display_data"
    },
    {
     "data": {
      "text/html": [
       "- <span style='background-color: lightgreen; color: black'>R 232557</span> stackforge/fuel-library master MERGED <a href='https://review.openstack.org/232557'>Update Puppet modules for Liberty</a> Ivan Berezovskiy 2015-10-08/2015-10-14"
      ],
      "text/plain": [
       "<IPython.core.display.HTML at 0x1161ce4d0>"
      ]
     },
     "metadata": {},
     "output_type": "display_data"
    },
    {
     "data": {
      "text/html": [
       "<span style='background-color: blue; color: white'>B 1505355</span> <a href=https://bugs.launchpad.net/bugs/1505355>Job with destructive scenarios has failed with jenkins's trace</a> 2015-10-12/2015-10-12<br>- Confirmed / High / fuel-devops / 8.0<br>- []"
      ],
      "text/plain": [
       "<IPython.core.display.HTML at 0x113dfb290>"
      ]
     },
     "metadata": {},
     "output_type": "display_data"
    },
    {
     "data": {
      "text/html": [
       "<span style='background-color: blue; color: white'>B 1505608</span> <a href=https://bugs.launchpad.net/bugs/1505608>fuel_agent: error when setting filesystem label</a> 2015-10-13/2015-10-13<br>- Triaged / High / fuel-python / 8.0<br>- []"
      ],
      "text/plain": [
       "<IPython.core.display.HTML at 0x114b6c750>"
      ]
     },
     "metadata": {},
     "output_type": "display_data"
    },
    {
     "data": {
      "text/html": [
       "<span style='background-color: blue; color: white'>B 1505621</span> <a href=https://bugs.launchpad.net/bugs/1505621>fuel_agent: when label is too long there is an error when creating xfs filesystem</a> 2015-10-13/2015-10-13<br>- Triaged / High / fuel-python / 8.0<br>- []"
      ],
      "text/plain": [
       "<IPython.core.display.HTML at 0x1161b4890>"
      ]
     },
     "metadata": {},
     "output_type": "display_data"
    },
    {
     "data": {
      "text/html": [
       "<span style='background-color: blue; color: white'>B 1505709</span> <a href=https://bugs.launchpad.net/bugs/1505709>ohai on bootstrap throws traceback</a> 2015-10-13/2015-10-14<br>- Confirmed / High / fuel-python / 8.0<br>- []"
      ],
      "text/plain": [
       "<IPython.core.display.HTML at 0x113c5b4d0>"
      ]
     },
     "metadata": {},
     "output_type": "display_data"
    },
    {
     "data": {
      "text/html": [
       "<span style='background-color: blue; color: white'>B 1505735</span> <a href=https://bugs.launchpad.net/bugs/1505735>Pacemaker tries to start mysql eternally</a> 2015-10-13/2015-10-14<br>- In Progress / High / sgolovatiuk / 8.0<br>- []"
      ],
      "text/plain": [
       "<IPython.core.display.HTML at 0x116abbc50>"
      ]
     },
     "metadata": {},
     "output_type": "display_data"
    },
    {
     "data": {
      "text/html": [
       "- <span style='background-color: lightgreen; color: black'>R 234314</span> stackforge/fuel-library master MERGED <a href='https://review.openstack.org/234314'>Check reelection need correctly</a> Ilya Shakhat 2015-10-13/2015-10-14"
      ],
      "text/plain": [
       "<IPython.core.display.HTML at 0x116a9b390>"
      ]
     },
     "metadata": {},
     "output_type": "display_data"
    },
    {
     "data": {
      "text/html": [
       "- <span style='background-color: lightgreen; color: black'>R 234999</span> stackforge/fuel-library master NEW <a href='https://review.openstack.org/234999'>Remove verification of exit code</a> Sergii Golovatiuk 2015-10-14/2015-10-15"
      ],
      "text/plain": [
       "<IPython.core.display.HTML at 0x114b6c710>"
      ]
     },
     "metadata": {},
     "output_type": "display_data"
    },
    {
     "data": {
      "text/html": [
       "<span style='background-color: blue; color: white'>B 1506008</span> <a href=https://bugs.launchpad.net/bugs/1506008>Cannot delete 'controller+ceph' node and strange work of notifications for this error</a> 2015-10-14/2015-10-14<br>- Confirmed / High / fuel-python / 8.0<br>- [ceph]"
      ],
      "text/plain": [
       "<IPython.core.display.HTML at 0x116a9b150>"
      ]
     },
     "metadata": {},
     "output_type": "display_data"
    },
    {
     "data": {
      "text/html": [
       "- <span style='background-color: lightgreen; color: black'>R 161045</span> stackforge/fuel-astute master MERGED <a href='https://review.openstack.org/161045'>Prevent deletion of nodes which have running OSD processes</a> Ryan Moe 2015-03-04/2015-03-17"
      ],
      "text/plain": [
       "<IPython.core.display.HTML at 0x116abb650>"
      ]
     },
     "metadata": {},
     "output_type": "display_data"
    },
    {
     "data": {
      "text/html": [
       "<span style='background-color: blue; color: white'>B 1506041</span> <a href=https://bugs.launchpad.net/bugs/1506041>[fuel-octane]Need to remove upgrade_levels from nova.conf after upgrade of  last compute</a> 2015-10-14/2015-10-14<br>- Confirmed / High / fuel-octane / 8.0<br>- [module-octane]"
      ],
      "text/plain": [
       "<IPython.core.display.HTML at 0x113c5ba10>"
      ]
     },
     "metadata": {},
     "output_type": "display_data"
    },
    {
     "data": {
      "text/html": [
       "<span style='background-color: blue; color: white'>B 1506112</span> <a href=https://bugs.launchpad.net/bugs/1506112>Scale deployment has failed on 200 nodes with 6.1 release iso version </a> 2015-10-14/2015-10-14<br>- Confirmed / High / fuel-python / 8.0<br>- []"
      ],
      "text/plain": [
       "<IPython.core.display.HTML at 0x11618e6d0>"
      ]
     },
     "metadata": {},
     "output_type": "display_data"
    },
    {
     "name": "stdout",
     "output_type": "stream",
     "text": [
      "Found 87 bugs\n"
     ]
    }
   ],
   "source": [
    "search_tags = map(lambda x: \"-\" + x, important_tags + excluded_tags)\n",
    "collection = prj.searchTasks(\n",
    "    milestone=cur_ms, status=open_statuses,\n",
    "    tags=search_tags, tags_combinator='All',\n",
    "    importance=high_priority)\n",
    "for bt in collection:\n",
    "    display_bug(bt.bug, True)\n",
    "print \"Found %s bugs\" % len(collection)"
   ]
  },
  {
   "cell_type": "markdown",
   "metadata": {},
   "source": [
    "## Medium/Low/Wishlist bugs (without tech-debt)"
   ]
  },
  {
   "cell_type": "code",
   "execution_count": 110,
   "metadata": {
    "collapsed": true
   },
   "outputs": [
    {
     "data": {
      "text/html": [
       "<span style='background-color: blue; color: white'>B 1295717</span> <a href=https://bugs.launchpad.net/bugs/1295717>[provision] Controller has unallocated space, by default,  using ceph as image backend</a> 2014-03-21/2015-08-05<br>- Confirmed / Medium / fuel-python / 8.0<br>- [ceph module-volumes qa-agree-7.0 release-notes]"
      ],
      "text/plain": [
       "<IPython.core.display.HTML at 0x10f7b1510>"
      ]
     },
     "metadata": {},
     "output_type": "display_data"
    },
    {
     "data": {
      "text/html": [
       "- <span style='background-color: lightgreen; color: black'>R 87284</span> stackforge/fuel-web master MERGED <a href='https://review.openstack.org/87284'>Fix os vg allocation on ubuntu</a> Dmitry Shulyak 2014-04-14/2014-04-16"
      ],
      "text/plain": [
       "<IPython.core.display.HTML at 0x111af6510>"
      ]
     },
     "metadata": {},
     "output_type": "display_data"
    },
    {
     "data": {
      "text/html": [
       "- <span style='background-color: lightgreen; color: black'>R 82283</span> stackforge/fuel-web master MERGED <a href='https://review.openstack.org/82283'>Allocate all free space to single volume group</a> Dmitry Shulyak 2014-03-22/2014-03-31"
      ],
      "text/plain": [
       "<IPython.core.display.HTML at 0x111af6950>"
      ]
     },
     "metadata": {},
     "output_type": "display_data"
    },
    {
     "data": {
      "text/html": [
       "<span style='background-color: blue; color: white'>B 1307495</span> <a href=https://bugs.launchpad.net/bugs/1307495>[devops] Recheck no bug doesn't retrigger Fuel CI</a> 2014-04-14/2015-08-10<br>- Confirmed / Medium / fuel-ci / 8.0<br>- [fuel-ci non-release]"
      ],
      "text/plain": [
       "<IPython.core.display.HTML at 0x114b8b790>"
      ]
     },
     "metadata": {},
     "output_type": "display_data"
    },
    {
     "data": {
      "text/html": [
       "<span style='background-color: blue; color: white'>B 1324297</span> <a href=https://bugs.launchpad.net/bugs/1324297>[provision] master iso smoke test failed with anaconda error</a> 2014-05-28/2015-10-12<br>- Confirmed / Medium / mos-linux / 8.0<br>- [mos-linux release-notes]"
      ],
      "text/plain": [
       "<IPython.core.display.HTML at 0x113400f90>"
      ]
     },
     "metadata": {},
     "output_type": "display_data"
    },
    {
     "data": {
      "text/html": [
       "<span style='background-color: blue; color: white'>B 1330875</span> <a href=https://bugs.launchpad.net/bugs/1330875>Create and sync DB entities only at primary-controller</a> 2014-06-17/2015-10-12<br>- Triaged / Medium / mos-puppet / 8.0<br>- [ha release-notes-done]"
      ],
      "text/plain": [
       "<IPython.core.display.HTML at 0x11357ded0>"
      ]
     },
     "metadata": {},
     "output_type": "display_data"
    },
    {
     "data": {
      "text/html": [
       "- <span style='background-color: lightgreen; color: black'>R 116895</span> stackforge/fuel-library master ABANDONED <a href='https://review.openstack.org/116895'>Create entities in Keystone only for Primary controller</a> Bogdan Dobrelya 2014-08-26/2015-07-10"
      ],
      "text/plain": [
       "<IPython.core.display.HTML at 0x1139ad390>"
      ]
     },
     "metadata": {},
     "output_type": "display_data"
    },
    {
     "data": {
      "text/html": [
       "- <span style='background-color: lightgreen; color: black'>R 100263</span> stackforge/fuel-library master MERGED <a href='https://review.openstack.org/100263'>more strong order in Neutron manifests</a> Sergey Vasilenko 2014-06-16/2014-06-17"
      ],
      "text/plain": [
       "<IPython.core.display.HTML at 0x113b58ed0>"
      ]
     },
     "metadata": {},
     "output_type": "display_data"
    },
    {
     "data": {
      "text/html": [
       "- <span style='background-color: lightgreen; color: black'>R 116906</span> stackforge/fuel-library master MERGED <a href='https://review.openstack.org/116906'>Fix user role removal idempotency</a> Vladimir Kuklin 2014-08-26/2014-08-26"
      ],
      "text/plain": [
       "<IPython.core.display.HTML at 0x113b58690>"
      ]
     },
     "metadata": {},
     "output_type": "display_data"
    },
    {
     "data": {
      "text/html": [
       "<span style='background-color: blue; color: white'>B 1331554</span> <a href=https://bugs.launchpad.net/bugs/1331554>[library] Raise max file descriptors and process file limits for radosgw</a> 2014-06-18/2015-10-12<br>- Triaged / Medium / mos-ceph / 8.0<br>- [ceph release-notes]"
      ],
      "text/plain": [
       "<IPython.core.display.HTML at 0x1134039d0>"
      ]
     },
     "metadata": {},
     "output_type": "display_data"
    },
    {
     "data": {
      "text/html": [
       "- <span style='background-color: lightgreen; color: black'>R 125971</span> stackforge/fuel-library master MERGED <a href='https://review.openstack.org/125971'>Increases the number of processes in CentOS 6.X</a> Oleksiy Molchanov 2014-10-03/2014-10-14"
      ],
      "text/plain": [
       "<IPython.core.display.HTML at 0x113589090>"
      ]
     },
     "metadata": {},
     "output_type": "display_data"
    },
    {
     "data": {
      "text/html": [
       "- <span style='background-color: lightgreen; color: black'>R 126254</span> stackforge/fuel-library stable/5.1 MERGED <a href='https://review.openstack.org/126254'>Increases the number of processes in CentOS 6.X </a> Oleksiy Molchanov 2014-10-06/2014-10-15"
      ],
      "text/plain": [
       "<IPython.core.display.HTML at 0x10ec424d0>"
      ]
     },
     "metadata": {},
     "output_type": "display_data"
    },
    {
     "data": {
      "text/html": [
       "<span style='background-color: blue; color: white'>B 1342684</span> <a href=https://bugs.launchpad.net/bugs/1342684>[ui] [settings] Invalid settings after Load Defaults</a> 2014-07-16/2015-10-12<br>- Confirmed / Medium / fuel-ui / 8.0<br>- [qa-agree-7.0 tricky ui]"
      ],
      "text/plain": [
       "<IPython.core.display.HTML at 0x10f7da210>"
      ]
     },
     "metadata": {},
     "output_type": "display_data"
    },
    {
     "data": {
      "text/html": [
       "- <span style='background-color: lightgreen; color: black'>R 207442</span> stackforge/fuel-web master ABANDONED <a href='https://review.openstack.org/207442'>Checking Load Defaults state on Settings tab</a> Alexandra Morozova 2015-07-30/2015-08-03"
      ],
      "text/plain": [
       "<IPython.core.display.HTML at 0x113400990>"
      ]
     },
     "metadata": {},
     "output_type": "display_data"
    },
    {
     "data": {
      "text/html": [
       "<span style='background-color: blue; color: white'>B 1349819</span> <a href=https://bugs.launchpad.net/bugs/1349819>Need to create some simple useful security groups  for each new Openstack cluster</a> 2014-07-29/<span style='background-color: red; color: white'>2015-09-30</span><br>- Confirmed / Medium / sbogatkin / 8.0<br>- [non-release qa-agree-7.0 tricky]"
      ],
      "text/plain": [
       "<IPython.core.display.HTML at 0x113400a50>"
      ]
     },
     "metadata": {},
     "output_type": "display_data"
    },
    {
     "data": {
      "text/html": [
       "- <span style='background-color: lightgreen; color: black'>R 136742</span> stackforge/fuel-library master ABANDONED <a href='https://review.openstack.org/136742'>Add security groups for nova.</a> Stanislaw Bogatkin 2014-11-24/2015-09-30"
      ],
      "text/plain": [
       "<IPython.core.display.HTML at 0x111af6510>"
      ]
     },
     "metadata": {},
     "output_type": "display_data"
    },
    {
     "data": {
      "text/html": [
       "<span style='background-color: blue; color: white'>B 1361358</span> <a href=https://bugs.launchpad.net/bugs/1361358>Install of Fuel fails on RAID 1 disk (C602 drive controller)</a> 2014-08-25/2015-08-06<br>- Confirmed / Medium / fuel-python / 8.0<br>- [ibp raid release-notes]"
      ],
      "text/plain": [
       "<IPython.core.display.HTML at 0x10f7b1790>"
      ]
     },
     "metadata": {},
     "output_type": "display_data"
    },
    {
     "data": {
      "text/html": [
       "<span style='background-color: blue; color: white'>B 1373471</span> <a href=https://bugs.launchpad.net/bugs/1373471>Fuel Env List outputs Json under Changes which breaks formatting</a> 2014-09-24/2015-10-08<br>- Confirmed / Medium / fuel-python / 8.0<br>- [known-issue module-client qa-agree-7.0]"
      ],
      "text/plain": [
       "<IPython.core.display.HTML at 0x113e13890>"
      ]
     },
     "metadata": {},
     "output_type": "display_data"
    },
    {
     "data": {
      "text/html": [
       "<span style='background-color: blue; color: white'>B 1375750</span> <a href=https://bugs.launchpad.net/bugs/1375750>Controller CPU/RAM are counted as cloud's capacity</a> 2014-09-30/2015-10-12<br>- Confirmed / Medium / fuel-ui / 8.0<br>- [qa-agree-7.0 ui]"
      ],
      "text/plain": [
       "<IPython.core.display.HTML at 0x116e4bd90>"
      ]
     },
     "metadata": {},
     "output_type": "display_data"
    },
    {
     "data": {
      "text/html": [
       "<span style='background-color: blue; color: white'>B 1384260</span> <a href=https://bugs.launchpad.net/bugs/1384260>You can click button \"Stop Tests\" many times and it's behaviour is strange</a> 2014-10-22/2015-10-12<br>- Confirmed / Medium / fuel-python / 8.0<br>- [module-nailgun ostf qa-agree-7.0 ui]"
      ],
      "text/plain": [
       "<IPython.core.display.HTML at 0x113400210>"
      ]
     },
     "metadata": {},
     "output_type": "display_data"
    },
    {
     "data": {
      "text/html": [
       "- <span style='background-color: lightgreen; color: black'>R 130837</span> stackforge/fuel-web master MERGED <a href='https://review.openstack.org/130837'>Added error server response handling on Healthcheck tab</a> Alexandra Morozova 2014-10-24/2014-10-28"
      ],
      "text/plain": [
       "<IPython.core.display.HTML at 0x114c71cd0>"
      ]
     },
     "metadata": {},
     "output_type": "display_data"
    },
    {
     "data": {
      "text/html": [
       "<span style='background-color: blue; color: white'>B 1386657</span> <a href=https://bugs.launchpad.net/bugs/1386657>    Added base classes for Load Tests and profiler</a> 2014-10-28/2015-10-08<br>- Triaged / Medium / fuel-docs / 8.0<br>- [fuel-web]"
      ],
      "text/plain": [
       "<IPython.core.display.HTML at 0x111b21e90>"
      ]
     },
     "metadata": {},
     "output_type": "display_data"
    },
    {
     "data": {
      "text/html": [
       "- <span style='background-color: lightgreen; color: black'>R 123967</span> stackforge/fuel-web master MERGED <a href='https://review.openstack.org/123967'>Added base classes for Load Tests and profiler</a> Kamil Sambor 2014-09-25/2014-10-28"
      ],
      "text/plain": [
       "<IPython.core.display.HTML at 0x10f7dac90>"
      ]
     },
     "metadata": {},
     "output_type": "display_data"
    },
    {
     "data": {
      "text/html": [
       "<span style='background-color: blue; color: white'>B 1387258</span> <a href=https://bugs.launchpad.net/bugs/1387258>Server errors sometimes are invisible for user</a> 2014-10-29/2015-10-13<br>- Confirmed / Medium / fuel-ui / 8.0<br>- [ui]"
      ],
      "text/plain": [
       "<IPython.core.display.HTML at 0x10cf5b310>"
      ]
     },
     "metadata": {},
     "output_type": "display_data"
    },
    {
     "data": {
      "text/html": [
       "- <span style='background-color: lightgreen; color: black'>R 179773</span> stackforge/fuel-web master ABANDONED <a href='https://review.openstack.org/179773'>Basic error handling</a> Alexandra Morozova 2015-05-04/2015-07-21"
      ],
      "text/plain": [
       "<IPython.core.display.HTML at 0x113be0b90>"
      ]
     },
     "metadata": {},
     "output_type": "display_data"
    },
    {
     "data": {
      "text/html": [
       "<span style='background-color: blue; color: white'>B 1390099</span> <a href=https://bugs.launchpad.net/bugs/1390099>Need to fix deprecated Puppet parameters</a> 2014-11-06/2015-10-12<br>- Confirmed / Medium / igajsin / 8.0<br>- []"
      ],
      "text/plain": [
       "<IPython.core.display.HTML at 0x113403610>"
      ]
     },
     "metadata": {},
     "output_type": "display_data"
    },
    {
     "data": {
      "text/html": [
       "- <span style='background-color: lightgreen; color: black'>R 203626</span> stackforge/fuel-library master ABANDONED <a href='https://review.openstack.org/203626'>Replaces deprecated parameters from glance</a> Igor Gajsin 2015-07-20/2015-08-25"
      ],
      "text/plain": [
       "<IPython.core.display.HTML at 0x11001cf90>"
      ]
     },
     "metadata": {},
     "output_type": "display_data"
    },
    {
     "data": {
      "text/html": [
       "- <a href='https://review.openstack.org/152467'>https://review.openstack.org/152467</a>"
      ],
      "text/plain": [
       "<IPython.core.display.HTML at 0x117716510>"
      ]
     },
     "metadata": {},
     "output_type": "display_data"
    },
    {
     "data": {
      "text/html": [
       "- <a href='https://review.openstack.org/139608'>https://review.openstack.org/139608</a>"
      ],
      "text/plain": [
       "<IPython.core.display.HTML at 0x118f62ed0>"
      ]
     },
     "metadata": {},
     "output_type": "display_data"
    },
    {
     "data": {
      "text/html": [
       "- <a href='https://review.openstack.org/139081'>https://review.openstack.org/139081</a>"
      ],
      "text/plain": [
       "<IPython.core.display.HTML at 0x114b97810>"
      ]
     },
     "metadata": {},
     "output_type": "display_data"
    },
    {
     "data": {
      "text/html": [
       "- <a href='https://review.openstack.org/137743'>https://review.openstack.org/137743</a>"
      ],
      "text/plain": [
       "<IPython.core.display.HTML at 0x113be0b90>"
      ]
     },
     "metadata": {},
     "output_type": "display_data"
    },
    {
     "data": {
      "text/html": [
       "- <a href='https://review.openstack.org/137744'>https://review.openstack.org/137744</a>"
      ],
      "text/plain": [
       "<IPython.core.display.HTML at 0x117716650>"
      ]
     },
     "metadata": {},
     "output_type": "display_data"
    },
    {
     "data": {
      "text/html": [
       "<span style='background-color: blue; color: white'>B 1391459</span> <a href=https://bugs.launchpad.net/bugs/1391459>IP address autocompletion feature is useless</a> 2014-11-11/2015-10-12<br>- Confirmed / Medium / fuel-ui / 8.0<br>- [qa-agree-7.0 ui ui-feature]"
      ],
      "text/plain": [
       "<IPython.core.display.HTML at 0x113e13450>"
      ]
     },
     "metadata": {},
     "output_type": "display_data"
    },
    {
     "data": {
      "text/html": [
       "<span style='background-color: blue; color: white'>B 1391481</span> <a href=https://bugs.launchpad.net/bugs/1391481>There are no descriptions for network parameters</a> 2014-11-11/2015-10-12<br>- Confirmed / Medium / fuel-ui / 8.0<br>- [ui]"
      ],
      "text/plain": [
       "<IPython.core.display.HTML at 0x10f7dab10>"
      ]
     },
     "metadata": {},
     "output_type": "display_data"
    },
    {
     "data": {
      "text/html": [
       "<span style='background-color: blue; color: white'>B 1392314</span> <a href=https://bugs.launchpad.net/bugs/1392314>Generation of diagnostic snapshot failed: \"exit code: 139 stderr: sh: line 1:   393 Segmentation fault\"</a> 2014-11-13/2015-08-04<br>- Confirmed / Medium / fuel-python / 8.0<br>- [module-shotgun size-l]"
      ],
      "text/plain": [
       "<IPython.core.display.HTML at 0x1134030d0>"
      ]
     },
     "metadata": {},
     "output_type": "display_data"
    },
    {
     "data": {
      "text/html": [
       "<span style='background-color: blue; color: white'>B 1393369</span> <a href=https://bugs.launchpad.net/bugs/1393369>default disk size for MongoDB is too small</a> 2014-11-17/2015-10-12<br>- Triaged / Medium / fuel-python / 8.0<br>- [feature-mongo module-volumes scale]"
      ],
      "text/plain": [
       "<IPython.core.display.HTML at 0x1134008d0>"
      ]
     },
     "metadata": {},
     "output_type": "display_data"
    },
    {
     "data": {
      "text/html": [
       "<span style='background-color: blue; color: white'>B 1393766</span> <a href=https://bugs.launchpad.net/bugs/1393766>    Basic profiling facilities for CLI</a> 2014-11-18/2015-10-08<br>- Triaged / Medium / fuel-docs / 8.0<br>- [fuel-web]"
      ],
      "text/plain": [
       "<IPython.core.display.HTML at 0x10f7b1e10>"
      ]
     },
     "metadata": {},
     "output_type": "display_data"
    },
    {
     "data": {
      "text/html": [
       "- <span style='background-color: lightgreen; color: black'>R 129900</span> stackforge/fuel-web master MERGED <a href='https://review.openstack.org/129900'>Basic profiling facilities for CLI</a> Roman Prykhodchenko 2014-10-21/2014-11-18"
      ],
      "text/plain": [
       "<IPython.core.display.HTML at 0x1139ad810>"
      ]
     },
     "metadata": {},
     "output_type": "display_data"
    },
    {
     "data": {
      "text/html": [
       "<span style='background-color: blue; color: white'>B 1394173</span> <a href=https://bugs.launchpad.net/bugs/1394173>    Do not fail if client config file is not readable</a> 2014-11-19/2015-10-08<br>- Triaged / Medium / fuel-docs / 8.0<br>- [fuel-web]"
      ],
      "text/plain": [
       "<IPython.core.display.HTML at 0x1139ad210>"
      ]
     },
     "metadata": {},
     "output_type": "display_data"
    },
    {
     "data": {
      "text/html": [
       "- <span style='background-color: lightgreen; color: black'>R 135039</span> stackforge/fuel-web master MERGED <a href='https://review.openstack.org/135039'>Do not fail if client config file is not readable</a> Dmitry Pyzhov 2014-11-17/2014-11-19"
      ],
      "text/plain": [
       "<IPython.core.display.HTML at 0x116e4b790>"
      ]
     },
     "metadata": {},
     "output_type": "display_data"
    },
    {
     "data": {
      "text/html": [
       "<span style='background-color: blue; color: white'>B 1396085</span> <a href=https://bugs.launchpad.net/bugs/1396085>dhcpcheck discover fails when there is no interface specified</a> 2014-11-25/2015-10-12<br>- Triaged / Medium / fuel-python / 8.0<br>- [module-netcheck]"
      ],
      "text/plain": [
       "<IPython.core.display.HTML at 0x114b8b610>"
      ]
     },
     "metadata": {},
     "output_type": "display_data"
    },
    {
     "data": {
      "text/html": [
       "<span style='background-color: blue; color: white'>B 1398221</span> <a href=https://bugs.launchpad.net/bugs/1398221>failure of a 'critical' role marks all role members as failed</a> 2014-12-02/2015-08-11<br>- Confirmed / Medium / fuel-python / 8.0<br>- [module-astute qa-agree-7.0]"
      ],
      "text/plain": [
       "<IPython.core.display.HTML at 0x11021bf50>"
      ]
     },
     "metadata": {},
     "output_type": "display_data"
    },
    {
     "data": {
      "text/html": [
       "<span style='background-color: blue; color: white'>B 1398816</span> <a href=https://bugs.launchpad.net/bugs/1398816>Move scale lab jenkins jobs</a> 2014-12-03/<span style='background-color: red; color: white'>2015-10-08</span><br>- In Progress / Medium / sgalkin / 8.0<br>- [jenkins non-release qa-agree-7.0]"
      ],
      "text/plain": [
       "<IPython.core.display.HTML at 0x113403ad0>"
      ]
     },
     "metadata": {},
     "output_type": "display_data"
    },
    {
     "data": {
      "text/html": [
       "<span style='background-color: blue; color: white'>B 1399154</span> <a href=https://bugs.launchpad.net/bugs/1399154>    Disable auto-reload</a> 2014-12-04/2015-10-08<br>- Triaged / Medium / fuel-docs / 8.0<br>- [fuel-web]"
      ],
      "text/plain": [
       "<IPython.core.display.HTML at 0x113403f10>"
      ]
     },
     "metadata": {},
     "output_type": "display_data"
    },
    {
     "data": {
      "text/html": [
       "- <span style='background-color: lightgreen; color: black'>R 138564</span> stackforge/fuel-web master MERGED <a href='https://review.openstack.org/138564'>Disable auto-reload</a> Roman Prykhodchenko 2014-12-02/2014-12-04"
      ],
      "text/plain": [
       "<IPython.core.display.HTML at 0x113e139d0>"
      ]
     },
     "metadata": {},
     "output_type": "display_data"
    },
    {
     "data": {
      "text/html": [
       "<span style='background-color: blue; color: white'>B 1399569</span> <a href=https://bugs.launchpad.net/bugs/1399569>Cant stop net_probe.py execution</a> 2014-12-05/2015-10-12<br>- Confirmed / Medium / fuel-python / 8.0<br>- [known-issue module-netcheck qa-agree-7.0]"
      ],
      "text/plain": [
       "<IPython.core.display.HTML at 0x113dfbe50>"
      ]
     },
     "metadata": {},
     "output_type": "display_data"
    },
    {
     "data": {
      "text/html": [
       "<span style='background-color: blue; color: white'>B 1399608</span> <a href=https://bugs.launchpad.net/bugs/1399608>Fuel CLI failed to execute 'fuel --fuel-version' if keystone password was changed from default</a> 2014-12-05/<span style='background-color: red; color: white'>2015-10-08</span><br>- Confirmed / Medium / vsharshov / 8.0<br>- [module-client release-notes]"
      ],
      "text/plain": [
       "<IPython.core.display.HTML at 0x113e13810>"
      ]
     },
     "metadata": {},
     "output_type": "display_data"
    },
    {
     "data": {
      "text/html": [
       "- <span style='background-color: lightgreen; color: black'>R 202049</span> stackforge/python-fuelclient master MERGED <a href='https://review.openstack.org/202049'>Fuel version as full action instead of option</a> Vladimir Sharshov 2015-07-15/2015-07-27"
      ],
      "text/plain": [
       "<IPython.core.display.HTML at 0x111bf3410>"
      ]
     },
     "metadata": {},
     "output_type": "display_data"
    },
    {
     "data": {
      "text/html": [
       "<span style='background-color: blue; color: white'>B 1401562</span> <a href=https://bugs.launchpad.net/bugs/1401562>Atop binary file corruption after the node recieved a hot shutdown</a> 2014-12-11/2015-10-08<br>- Triaged / Medium / fuel-docs / 8.0<br>- [release-notes]"
      ],
      "text/plain": [
       "<IPython.core.display.HTML at 0x113dfba10>"
      ]
     },
     "metadata": {},
     "output_type": "display_data"
    },
    {
     "data": {
      "text/html": [
       "<span style='background-color: blue; color: white'>B 1403036</span> <a href=https://bugs.launchpad.net/bugs/1403036>[docs] No Python version info in the documentation</a> 2014-12-16/2015-08-31<br>- Confirmed / Medium / fuel-qa / 8.0<br>- [non-release]"
      ],
      "text/plain": [
       "<IPython.core.display.HTML at 0x10f7da950>"
      ]
     },
     "metadata": {},
     "output_type": "display_data"
    },
    {
     "data": {
      "text/html": [
       "<span style='background-color: blue; color: white'>B 1404847</span> <a href=https://bugs.launchpad.net/bugs/1404847>Monitor jenkins connectivity with it's swarm slaves</a> 2014-12-22/2015-08-06<br>- Confirmed / Medium / fuel-ci / 8.0<br>- [jenkins monitoring non-release puppet]"
      ],
      "text/plain": [
       "<IPython.core.display.HTML at 0x113400190>"
      ]
     },
     "metadata": {},
     "output_type": "display_data"
    },
    {
     "data": {
      "text/html": [
       "<span style='background-color: blue; color: white'>B 1405265</span> <a href=https://bugs.launchpad.net/bugs/1405265>nailgun agent with multipath stops working</a> 2014-12-23/2015-10-12<br>- Confirmed / Medium / fuel-python / 8.0<br>- []"
      ],
      "text/plain": [
       "<IPython.core.display.HTML at 0x113400cd0>"
      ]
     },
     "metadata": {},
     "output_type": "display_data"
    },
    {
     "data": {
      "text/html": [
       "<span style='background-color: blue; color: white'>B 1405391</span> <a href=https://bugs.launchpad.net/bugs/1405391>[VBox] Boot failed: press a key to retry or wait to reset</a> 2014-12-24/<span style='background-color: red; color: white'>2015-09-26</span><br>- Confirmed / Medium / sovsianikov / 8.0<br>- []"
      ],
      "text/plain": [
       "<IPython.core.display.HTML at 0x1139ad850>"
      ]
     },
     "metadata": {},
     "output_type": "display_data"
    },
    {
     "data": {
      "text/html": [
       "- <span style='background-color: lightgreen; color: black'>R 149575</span> stackforge/fuel-main master MERGED <a href='https://review.openstack.org/149575'>Added the number of processor cores to fuel master node</a> Serhiy Ovsianikov 2015-01-23/2015-02-11"
      ],
      "text/plain": [
       "<IPython.core.display.HTML at 0x113df1fd0>"
      ]
     },
     "metadata": {},
     "output_type": "display_data"
    },
    {
     "data": {
      "text/html": [
       "<span style='background-color: blue; color: white'>B 1406313</span> <a href=https://bugs.launchpad.net/bugs/1406313>[doc] We should decribe how to manually recover ha cluster with 3 controllers if 2 of them die</a> 2014-12-29/2015-10-08<br>- Triaged / Medium / fuel-docs / 8.0<br>- []"
      ],
      "text/plain": [
       "<IPython.core.display.HTML at 0x111af6510>"
      ]
     },
     "metadata": {},
     "output_type": "display_data"
    },
    {
     "data": {
      "text/html": [
       "<span style='background-color: blue; color: white'>B 1407307</span> <a href=https://bugs.launchpad.net/bugs/1407307>Ceph backed openstack without selecting \"use qcow images\" still deploys cirros image in qcow format.</a> 2015-01-03/2015-10-12<br>- Confirmed / Medium / mos-ceph / 8.0<br>- []"
      ],
      "text/plain": [
       "<IPython.core.display.HTML at 0x114b8b4d0>"
      ]
     },
     "metadata": {},
     "output_type": "display_data"
    },
    {
     "data": {
      "text/html": [
       "<span style='background-color: blue; color: white'>B 1408792</span> <a href=https://bugs.launchpad.net/bugs/1408792>Gaps in the documentation regarding MOS security</a> 2015-01-08/2015-10-08<br>- Confirmed / Medium / fuel-docs / 8.0<br>- [qa-agree-7.0]"
      ],
      "text/plain": [
       "<IPython.core.display.HTML at 0x11021bfd0>"
      ]
     },
     "metadata": {},
     "output_type": "display_data"
    },
    {
     "data": {
      "text/html": [
       "<span style='background-color: blue; color: white'>B 1410316</span> <a href=https://bugs.launchpad.net/bugs/1410316>[ui] At least one controller is required to redeploy environment</a> 2015-01-13/2015-10-12<br>- Confirmed / Medium / fuel-ui / 8.0<br>- [qa-agree-7.0 release-notes ui]"
      ],
      "text/plain": [
       "<IPython.core.display.HTML at 0x10f7dab10>"
      ]
     },
     "metadata": {},
     "output_type": "display_data"
    },
    {
     "data": {
      "text/html": [
       "- <span style='background-color: lightgreen; color: black'>R 126930</span> stackforge/fuel-web master MERGED <a href='https://review.openstack.org/126930'>Fixes for YAML role restrictions definitions</a> Przemyslaw Kaminski 2014-10-08/2015-01-21"
      ],
      "text/plain": [
       "<IPython.core.display.HTML at 0x113b28690>"
      ]
     },
     "metadata": {},
     "output_type": "display_data"
    },
    {
     "data": {
      "text/html": [
       "<span style='background-color: blue; color: white'>B 1412828</span> <a href=https://bugs.launchpad.net/bugs/1412828>Create mirrors.</a> 2015-01-20/<span style='background-color: red; color: white'>2015-08-24</span><br>- Confirmed / Medium / mrasskazov / 8.0<br>- [mirrors non-release osci]"
      ],
      "text/plain": [
       "<IPython.core.display.HTML at 0x10f7da610>"
      ]
     },
     "metadata": {},
     "output_type": "display_data"
    },
    {
     "data": {
      "text/html": [
       "<span style='background-color: blue; color: white'>B 1413157</span> <a href=https://bugs.launchpad.net/bugs/1413157>Package iptstate is missing from CentOS repository</a> 2015-01-21/<span style='background-color: red; color: white'>2015-08-13</span><br>- Triaged / Medium / amogylchenko / 8.0<br>- [zabbix]"
      ],
      "text/plain": [
       "<IPython.core.display.HTML at 0x113e13e50>"
      ]
     },
     "metadata": {},
     "output_type": "display_data"
    },
    {
     "data": {
      "text/html": [
       "- <span style='background-color: lightgreen; color: black'>R 151576</span> stackforge/fuel-main master ABANDONED <a href='https://review.openstack.org/151576'>Add iptstate for requirements</a> Bogdan Dobrelya 2015-01-30/2015-01-30"
      ],
      "text/plain": [
       "<IPython.core.display.HTML at 0x113dfba50>"
      ]
     },
     "metadata": {},
     "output_type": "display_data"
    },
    {
     "data": {
      "text/html": [
       "<span style='background-color: blue; color: white'>B 1414034</span> <a href=https://bugs.launchpad.net/bugs/1414034>Packaging workflow - revert is not possible without manual intervention</a> 2015-01-23/2015-08-06<br>- Triaged / Medium / fuel-build / 8.0<br>- []"
      ],
      "text/plain": [
       "<IPython.core.display.HTML at 0x11001cf90>"
      ]
     },
     "metadata": {},
     "output_type": "display_data"
    },
    {
     "data": {
      "text/html": [
       "<span style='background-color: blue; color: white'>B 1415552</span> <a href=https://bugs.launchpad.net/bugs/1415552>Public still shows as a network in Configure Interfaces for Computes even when disabled in settings</a> 2015-01-28/2015-10-12<br>- Confirmed / Medium / fuel-python / 8.0<br>- [feature-advanced-networking known-issue qa-agree-7.0 release-notes]"
      ],
      "text/plain": [
       "<IPython.core.display.HTML at 0x113403c10>"
      ]
     },
     "metadata": {},
     "output_type": "display_data"
    },
    {
     "data": {
      "text/html": [
       "<span style='background-color: blue; color: white'>B 1417571</span> <a href=https://bugs.launchpad.net/bugs/1417571>Log formatters aren't applied when Syslog logging is enabled</a> 2015-02-03/2015-10-08<br>- Triaged / Medium / fuel-library / 8.0<br>- [feature-logging known-issue]"
      ],
      "text/plain": [
       "<IPython.core.display.HTML at 0x113403490>"
      ]
     },
     "metadata": {},
     "output_type": "display_data"
    },
    {
     "data": {
      "text/html": [
       "<span style='background-color: blue; color: white'>B 1417946</span> <a href=https://bugs.launchpad.net/bugs/1417946>    Add 'notifications' argument</a> 2015-02-04/2015-10-08<br>- Triaged / Medium / fuel-docs / 8.0<br>- [python-fuelclient]"
      ],
      "text/plain": [
       "<IPython.core.display.HTML at 0x116e333d0>"
      ]
     },
     "metadata": {},
     "output_type": "display_data"
    },
    {
     "data": {
      "text/html": [
       "- <span style='background-color: lightgreen; color: black'>R 150744</span> stackforge/python-fuelclient master MERGED <a href='https://review.openstack.org/150744'>Add 'notifications' argument</a> Przemyslaw Kaminski 2015-01-28/2015-02-04"
      ],
      "text/plain": [
       "<IPython.core.display.HTML at 0x113400710>"
      ]
     },
     "metadata": {},
     "output_type": "display_data"
    },
    {
     "data": {
      "text/html": [
       "<span style='background-color: blue; color: white'>B 1418409</span> <a href=https://bugs.launchpad.net/bugs/1418409>    Add 'token' option for easy token retrieval</a> 2015-02-05/2015-10-08<br>- Triaged / Medium / fuel-docs / 8.0<br>- [python-fuelclient]"
      ],
      "text/plain": [
       "<IPython.core.display.HTML at 0x10f7b1cd0>"
      ]
     },
     "metadata": {},
     "output_type": "display_data"
    },
    {
     "data": {
      "text/html": [
       "- <span style='background-color: lightgreen; color: black'>R 151566</span> stackforge/python-fuelclient master MERGED <a href='https://review.openstack.org/151566'>Add 'token' option for easy token retrieval</a> Przemyslaw Kaminski 2015-01-30/2015-02-05"
      ],
      "text/plain": [
       "<IPython.core.display.HTML at 0x116e4b050>"
      ]
     },
     "metadata": {},
     "output_type": "display_data"
    },
    {
     "data": {
      "text/html": [
       "<span style='background-color: blue; color: white'>B 1419201</span> <a href=https://bugs.launchpad.net/bugs/1419201>deploying single-controller-ha doesn't generate primary-controller in hiera</a> 2015-02-07/2015-10-12<br>- Triaged / Medium / fuel-python / 8.0<br>- [module-serialization release-notes]"
      ],
      "text/plain": [
       "<IPython.core.display.HTML at 0x113df1fd0>"
      ]
     },
     "metadata": {},
     "output_type": "display_data"
    },
    {
     "data": {
      "text/html": [
       "<span style='background-color: blue; color: white'>B 1419826</span> <a href=https://bugs.launchpad.net/bugs/1419826>[osci] Jenkins jobs doesn't exist in repo</a> 2015-02-09/<span style='background-color: red; color: white'>2015-08-06</span><br>- Triaged / Medium / asilenkov / 8.0<br>- [non-release osci]"
      ],
      "text/plain": [
       "<IPython.core.display.HTML at 0x10f7b1990>"
      ]
     },
     "metadata": {},
     "output_type": "display_data"
    },
    {
     "data": {
      "text/html": [
       "<span style='background-color: blue; color: white'>B 1420701</span> <a href=https://bugs.launchpad.net/bugs/1420701>Fuel CLI settings download/upload. File not parsed for syntax and data</a> 2015-02-11/2015-08-06<br>- Confirmed / Medium / fuel-python / 8.0<br>- [feature-validation known-issue module-client qa-agree-7.0 release-notes]"
      ],
      "text/plain": [
       "<IPython.core.display.HTML at 0x1139addd0>"
      ]
     },
     "metadata": {},
     "output_type": "display_data"
    },
    {
     "data": {
      "text/html": [
       "<span style='background-color: blue; color: white'>B 1421179</span> <a href=https://bugs.launchpad.net/bugs/1421179>Docs. No description of  heat-engine in reference-architecture.html#multi-node-with-ha-deployment</a> 2015-02-12/2015-10-08<br>- Triaged / Medium / fuel-docs / 8.0<br>- [ha]"
      ],
      "text/plain": [
       "<IPython.core.display.HTML at 0x113400bd0>"
      ]
     },
     "metadata": {},
     "output_type": "display_data"
    },
    {
     "data": {
      "text/html": [
       "<span style='background-color: blue; color: white'>B 1422435</span> <a href=https://bugs.launchpad.net/bugs/1422435>No feedback between fuel ui and granular deployment</a> 2015-02-16/2015-10-12<br>- Confirmed / Medium / fuel-python / 8.0<br>- [known-issue module-tasks qa-agree-7.0 release-notes]"
      ],
      "text/plain": [
       "<IPython.core.display.HTML at 0x10f7dab10>"
      ]
     },
     "metadata": {},
     "output_type": "display_data"
    },
    {
     "data": {
      "text/html": [
       "<span style='background-color: blue; color: white'>B 1423505</span> <a href=https://bugs.launchpad.net/bugs/1423505>    Added --tenant option for keystone authentication</a> 2015-02-19/2015-10-08<br>- Triaged / Medium / fuel-docs / 8.0<br>- [python-fuelclient]"
      ],
      "text/plain": [
       "<IPython.core.display.HTML at 0x1134030d0>"
      ]
     },
     "metadata": {},
     "output_type": "display_data"
    },
    {
     "data": {
      "text/html": [
       "- <span style='background-color: lightgreen; color: black'>R 156561</span> stackforge/python-fuelclient master MERGED <a href='https://review.openstack.org/156561'>Added --tenant option for keystone authentication</a> Przemyslaw Kaminski 2015-02-17/2015-02-19"
      ],
      "text/plain": [
       "<IPython.core.display.HTML at 0x118f4e910>"
      ]
     },
     "metadata": {},
     "output_type": "display_data"
    },
    {
     "data": {
      "text/html": [
       "<span style='background-color: blue; color: white'>B 1423846</span> <a href=https://bugs.launchpad.net/bugs/1423846>Include nailgun performance tests into BVT</a> 2015-02-20/2015-08-31<br>- Triaged / Medium / fuel-qa / 8.0<br>- [bvt fuel-ci non-release qa-agree-7.0]"
      ],
      "text/plain": [
       "<IPython.core.display.HTML at 0x113e13250>"
      ]
     },
     "metadata": {},
     "output_type": "display_data"
    },
    {
     "data": {
      "text/html": [
       "<span style='background-color: blue; color: white'>B 1424295</span> <a href=https://bugs.launchpad.net/bugs/1424295>granular graph re-runs completed tasks with multiple roles</a> 2015-02-22/2015-10-12<br>- Confirmed / Medium / fuel-python / 8.0<br>- [known-issue module-tasks qa-agree-7.0 release-notes]"
      ],
      "text/plain": [
       "<IPython.core.display.HTML at 0x1167d5ed0>"
      ]
     },
     "metadata": {},
     "output_type": "display_data"
    },
    {
     "data": {
      "text/html": [
       "<span style='background-color: blue; color: white'>B 1424654</span> <a href=https://bugs.launchpad.net/bugs/1424654>    Add way to run Python tests</a> 2015-02-23/2015-10-08<br>- Triaged / Medium / fuel-docs / 8.0<br>- [fuel-library]"
      ],
      "text/plain": [
       "<IPython.core.display.HTML at 0x114b97810>"
      ]
     },
     "metadata": {},
     "output_type": "display_data"
    },
    {
     "data": {
      "text/html": [
       "- <span style='background-color: lightgreen; color: black'>R 157319</span> stackforge/fuel-library master MERGED <a href='https://review.openstack.org/157319'>Add way to run Python tests</a> Sebastian Kalinowski 2015-02-19/2015-02-23"
      ],
      "text/plain": [
       "<IPython.core.display.HTML at 0x113e13610>"
      ]
     },
     "metadata": {},
     "output_type": "display_data"
    },
    {
     "data": {
      "text/html": [
       "<span style='background-color: blue; color: white'>B 1427563</span> <a href=https://bugs.launchpad.net/bugs/1427563>[ui] It is possible to get network verification result for the one node only</a> 2015-03-03/2015-10-12<br>- Confirmed / Medium / fuel-ui / 8.0<br>- [module-netcheck qa-agree-7.0 tricky ui]"
      ],
      "text/plain": [
       "<IPython.core.display.HTML at 0x10ec42490>"
      ]
     },
     "metadata": {},
     "output_type": "display_data"
    },
    {
     "data": {
      "text/html": [
       "<span style='background-color: blue; color: white'>B 1427569</span> <a href=https://bugs.launchpad.net/bugs/1427569>[ui] Unexpected deletion of network verification task result</a> 2015-03-03/2015-10-12<br>- Confirmed / Medium / fuel-ui / 8.0<br>- [module-netcheck qa-agree-7.0 tricky ui]"
      ],
      "text/plain": [
       "<IPython.core.display.HTML at 0x10f7dacd0>"
      ]
     },
     "metadata": {},
     "output_type": "display_data"
    },
    {
     "data": {
      "text/html": [
       "<span style='background-color: blue; color: white'>B 1427579</span> <a href=https://bugs.launchpad.net/bugs/1427579>[doc] Frontend part for verification tasks change</a> 2015-03-03/2015-10-08<br>- Triaged / Medium / fuel-docs / 8.0<br>- [fuel-web]"
      ],
      "text/plain": [
       "<IPython.core.display.HTML at 0x113c5b290>"
      ]
     },
     "metadata": {},
     "output_type": "display_data"
    },
    {
     "data": {
      "text/html": [
       "- <span style='background-color: lightgreen; color: black'>R 153962</span> stackforge/fuel-web master MERGED <a href='https://review.openstack.org/153962'>Frontend part for verification tasks change</a> Alexandra Morozova 2015-02-09/2015-03-03"
      ],
      "text/plain": [
       "<IPython.core.display.HTML at 0x113400b90>"
      ]
     },
     "metadata": {},
     "output_type": "display_data"
    },
    {
     "data": {
      "text/html": [
       "<span style='background-color: blue; color: white'>B 1427581</span> <a href=https://bugs.launchpad.net/bugs/1427581>It is need to create tests for post deploy vcenter hook</a> 2015-03-03/2015-10-12<br>- Confirmed / Medium / igajsin / 8.0<br>- [fuel-library non-release partner python script]"
      ],
      "text/plain": [
       "<IPython.core.display.HTML at 0x116e4be90>"
      ]
     },
     "metadata": {},
     "output_type": "display_data"
    },
    {
     "data": {
      "text/html": [
       "- <span style='background-color: lightgreen; color: black'>R 180225</span> stackforge/fuel-library master ABANDONED <a href='https://review.openstack.org/180225'>Create tests for post deploy vcenter hook</a> Igor Gajsin 2015-05-05/2015-05-06"
      ],
      "text/plain": [
       "<IPython.core.display.HTML at 0x1139ad290>"
      ]
     },
     "metadata": {},
     "output_type": "display_data"
    },
    {
     "data": {
      "text/html": [
       "- <span style='background-color: lightgreen; color: black'>R 155781</span> stackforge/fuel-library master MERGED <a href='https://review.openstack.org/155781'>Improve astute post-deploy task for vcenter</a> Stepan Rogov 2015-02-13/2015-04-23"
      ],
      "text/plain": [
       "<IPython.core.display.HTML at 0x1139ada10>"
      ]
     },
     "metadata": {},
     "output_type": "display_data"
    },
    {
     "data": {
      "text/html": [
       "- <span style='background-color: lightgreen; color: black'>R 178648</span> stackforge/fuel-library master ABANDONED <a href='https://review.openstack.org/178648'>Create tests for post deploy vcenter hook</a> Igor Gajsin 2015-04-29/2015-08-25"
      ],
      "text/plain": [
       "<IPython.core.display.HTML at 0x10f7b1f90>"
      ]
     },
     "metadata": {},
     "output_type": "display_data"
    },
    {
     "data": {
      "text/html": [
       "<span style='background-color: blue; color: white'>B 1428059</span> <a href=https://bugs.launchpad.net/bugs/1428059>[vbox] Time on nodes after deployment runs faster than ntp syncs with master node</a> 2015-03-04/2015-10-12<br>- Confirmed / Medium / sovsianikov / 8.0<br>- []"
      ],
      "text/plain": [
       "<IPython.core.display.HTML at 0x118f4ed90>"
      ]
     },
     "metadata": {},
     "output_type": "display_data"
    },
    {
     "data": {
      "text/html": [
       "<span style='background-color: blue; color: white'>B 1428559</span> <a href=https://bugs.launchpad.net/bugs/1428559>    Add api to operate Role object</a> 2015-03-05/2015-10-08<br>- Triaged / Medium / fuel-docs / 8.0<br>- [fuel-web]"
      ],
      "text/plain": [
       "<IPython.core.display.HTML at 0x113c5bd10>"
      ]
     },
     "metadata": {},
     "output_type": "display_data"
    },
    {
     "data": {
      "text/html": [
       "- <span style='background-color: lightgreen; color: black'>R 159754</span> stackforge/fuel-web master MERGED <a href='https://review.openstack.org/159754'>Add api to operate Role object</a> Dmitry Shulyak 2015-02-27/2015-03-05"
      ],
      "text/plain": [
       "<IPython.core.display.HTML at 0x114b8bdd0>"
      ]
     },
     "metadata": {},
     "output_type": "display_data"
    },
    {
     "data": {
      "text/html": [
       "<span style='background-color: blue; color: white'>B 1429217</span> <a href=https://bugs.launchpad.net/bugs/1429217>    Allow to provide pattern that will exclude certain files matched by it</a> 2015-03-06/2015-10-08<br>- Triaged / Medium / fuel-docs / 8.0<br>- [fuel-web]"
      ],
      "text/plain": [
       "<IPython.core.display.HTML at 0x116e33e50>"
      ]
     },
     "metadata": {},
     "output_type": "display_data"
    },
    {
     "data": {
      "text/html": [
       "- <span style='background-color: lightgreen; color: black'>R 155349</span> stackforge/fuel-web master MERGED <a href='https://review.openstack.org/155349'>Allow to provide pattern that will exclude certain files matched by it</a> Dmitry Shulyak 2015-02-12/2015-03-06"
      ],
      "text/plain": [
       "<IPython.core.display.HTML at 0x111be1f10>"
      ]
     },
     "metadata": {},
     "output_type": "display_data"
    },
    {
     "data": {
      "text/html": [
       "<span style='background-color: blue; color: white'>B 1430275</span> <a href=https://bugs.launchpad.net/bugs/1430275>    Add actions to operate on role entity</a> 2015-03-10/2015-10-08<br>- Triaged / Medium / fuel-docs / 8.0<br>- [python-fuelclient]"
      ],
      "text/plain": [
       "<IPython.core.display.HTML at 0x111b211d0>"
      ]
     },
     "metadata": {},
     "output_type": "display_data"
    },
    {
     "data": {
      "text/html": [
       "- <span style='background-color: lightgreen; color: black'>R 159820</span> stackforge/python-fuelclient master MERGED <a href='https://review.openstack.org/159820'>Add actions to operate on role entity</a> Dmitry Shulyak 2015-02-27/2015-03-10"
      ],
      "text/plain": [
       "<IPython.core.display.HTML at 0x10f7da190>"
      ]
     },
     "metadata": {},
     "output_type": "display_data"
    },
    {
     "data": {
      "text/html": [
       "<span style='background-color: blue; color: white'>B 1430330</span> <a href=https://bugs.launchpad.net/bugs/1430330>    Allow to specify multiple tests in run_tests.sh</a> 2015-03-10/2015-10-08<br>- Triaged / Medium / fuel-docs / 8.0<br>- [python-fuelclient]"
      ],
      "text/plain": [
       "<IPython.core.display.HTML at 0x10cf5b310>"
      ]
     },
     "metadata": {},
     "output_type": "display_data"
    },
    {
     "data": {
      "text/html": [
       "- <a href='https://review.openstack.org/155748'>https://review.openstack.org/155748</a>"
      ],
      "text/plain": [
       "<IPython.core.display.HTML at 0x1134039d0>"
      ]
     },
     "metadata": {},
     "output_type": "display_data"
    },
    {
     "data": {
      "text/html": [
       "<span style='background-color: blue; color: white'>B 1431240</span> <a href=https://bugs.launchpad.net/bugs/1431240>    Add commands to operate snapshot config</a> 2015-03-12/2015-10-08<br>- Triaged / Medium / fuel-docs / 8.0<br>- [module-shotgun python-fuelclient]"
      ],
      "text/plain": [
       "<IPython.core.display.HTML at 0x113e131d0>"
      ]
     },
     "metadata": {},
     "output_type": "display_data"
    },
    {
     "data": {
      "text/html": [
       "- <span style='background-color: lightgreen; color: black'>R 157738</span> stackforge/python-fuelclient master MERGED <a href='https://review.openstack.org/157738'>Add commands to operate snapshot config</a> Dmitry Shulyak 2015-02-20/2015-03-12"
      ],
      "text/plain": [
       "<IPython.core.display.HTML at 0x113dfbd10>"
      ]
     },
     "metadata": {},
     "output_type": "display_data"
    },
    {
     "data": {
      "text/html": [
       "<span style='background-color: blue; color: white'>B 1433137</span> <a href=https://bugs.launchpad.net/bugs/1433137>Status \"ready\" are not set for check_network taks in case of success</a> 2015-03-17/2015-10-12<br>- Confirmed / Medium / fuel-python / 8.0<br>- [low-hanging-fruit module-netcheck]"
      ],
      "text/plain": [
       "<IPython.core.display.HTML at 0x113dfb450>"
      ]
     },
     "metadata": {},
     "output_type": "display_data"
    },
    {
     "data": {
      "text/html": [
       "- <span style='background-color: lightgreen; color: black'>R 167182</span> stackforge/fuel-web master ABANDONED <a href='https://review.openstack.org/167182'>CheckNetworks task status set to ready</a> Maciej Kwiek 2015-03-24/2015-07-20"
      ],
      "text/plain": [
       "<IPython.core.display.HTML at 0x11357ded0>"
      ]
     },
     "metadata": {},
     "output_type": "display_data"
    },
    {
     "data": {
      "text/html": [
       "<span style='background-color: blue; color: white'>B 1433163</span> <a href=https://bugs.launchpad.net/bugs/1433163>    Remove memcached configuration from swift task</a> 2015-03-17/2015-10-08<br>- Triaged / Medium / fuel-docs / 8.0<br>- [fuel-library]"
      ],
      "text/plain": [
       "<IPython.core.display.HTML at 0x10f7da950>"
      ]
     },
     "metadata": {},
     "output_type": "display_data"
    },
    {
     "data": {
      "text/html": [
       "- <span style='background-color: lightgreen; color: black'>R 165025</span> stackforge/fuel-library master MERGED <a href='https://review.openstack.org/165025'>Remove memcached configuration from swift task</a> Aleksandr Didenko 2015-03-17/2015-03-17"
      ],
      "text/plain": [
       "<IPython.core.display.HTML at 0x118f4ec50>"
      ]
     },
     "metadata": {},
     "output_type": "display_data"
    },
    {
     "data": {
      "text/html": [
       "<span style='background-color: blue; color: white'>B 1433481</span> <a href=https://bugs.launchpad.net/bugs/1433481>    Use xz as compression tool for snapshot</a> 2015-03-18/2015-10-08<br>- Triaged / Medium / fuel-docs / 8.0<br>- [fuel-web module-shotgun]"
      ],
      "text/plain": [
       "<IPython.core.display.HTML at 0x113dfb390>"
      ]
     },
     "metadata": {},
     "output_type": "display_data"
    },
    {
     "data": {
      "text/html": [
       "- <span style='background-color: lightgreen; color: black'>R 157344</span> stackforge/fuel-web master MERGED <a href='https://review.openstack.org/157344'>Use xz as compression tool for snapshot</a> Dmitry Shulyak 2015-02-19/2015-03-18"
      ],
      "text/plain": [
       "<IPython.core.display.HTML at 0x118f62e90>"
      ]
     },
     "metadata": {},
     "output_type": "display_data"
    },
    {
     "data": {
      "text/html": [
       "<span style='background-color: blue; color: white'>B 1433482</span> <a href=https://bugs.launchpad.net/bugs/1433482>    Allow to overwrite timeout for snapshot generation</a> 2015-03-18/2015-10-08<br>- Triaged / Medium / fuel-docs / 8.0<br>- [fuel-web module-shotgun]"
      ],
      "text/plain": [
       "<IPython.core.display.HTML at 0x113403650>"
      ]
     },
     "metadata": {},
     "output_type": "display_data"
    },
    {
     "data": {
      "text/html": [
       "- <span style='background-color: lightgreen; color: black'>R 158237</span> stackforge/fuel-web master MERGED <a href='https://review.openstack.org/158237'>Allow to overwrite timeout for snapshot generation</a> Dmitry Shulyak 2015-02-23/2015-03-18"
      ],
      "text/plain": [
       "<IPython.core.display.HTML at 0x113403f90>"
      ]
     },
     "metadata": {},
     "output_type": "display_data"
    },
    {
     "data": {
      "text/html": [
       "<span style='background-color: blue; color: white'>B 1433600</span> <a href=https://bugs.launchpad.net/bugs/1433600>Stop deployment never completes</a> 2015-03-18/2015-10-12<br>- Confirmed / Medium / fuel-python / 8.0<br>- [feature-stop-deployment known-issue qa-agree-7.0 release-notes]"
      ],
      "text/plain": [
       "<IPython.core.display.HTML at 0x113e13250>"
      ]
     },
     "metadata": {},
     "output_type": "display_data"
    },
    {
     "data": {
      "text/html": [
       "<span style='background-color: blue; color: white'>B 1433971</span> <a href=https://bugs.launchpad.net/bugs/1433971>    Fault tolerance for provision</a> 2015-03-19/2015-10-08<br>- Triaged / Medium / fuel-docs / 8.0<br>- [fuel-web]"
      ],
      "text/plain": [
       "<IPython.core.display.HTML at 0x113e13d90>"
      ]
     },
     "metadata": {},
     "output_type": "display_data"
    },
    {
     "data": {
      "text/html": [
       "- <span style='background-color: lightgreen; color: black'>R 165144</span> stackforge/fuel-web master MERGED <a href='https://review.openstack.org/165144'>Fault tolerance for provision</a> Lukasz Oles 2015-03-17/2015-03-19"
      ],
      "text/plain": [
       "<IPython.core.display.HTML at 0x10f7b1a50>"
      ]
     },
     "metadata": {},
     "output_type": "display_data"
    },
    {
     "data": {
      "text/html": [
       "<span style='background-color: blue; color: white'>B 1434075</span> <a href=https://bugs.launchpad.net/bugs/1434075>    Cover all roles entities with schema</a> 2015-03-19/2015-10-08<br>- Triaged / Medium / fuel-docs / 8.0<br>- [fuel-web]"
      ],
      "text/plain": [
       "<IPython.core.display.HTML at 0x113400cd0>"
      ]
     },
     "metadata": {},
     "output_type": "display_data"
    },
    {
     "data": {
      "text/html": [
       "- <span style='background-color: lightgreen; color: black'>R 161653</span> stackforge/fuel-web master MERGED <a href='https://review.openstack.org/161653'>Cover all roles entities with schema</a> Dmitry Shulyak 2015-03-05/2015-03-19"
      ],
      "text/plain": [
       "<IPython.core.display.HTML at 0x113400cd0>"
      ]
     },
     "metadata": {},
     "output_type": "display_data"
    },
    {
     "data": {
      "text/html": [
       "<span style='background-color: blue; color: white'>B 1434456</span> <a href=https://bugs.launchpad.net/bugs/1434456>    Add the Ceph ready checking</a> 2015-03-20/2015-10-08<br>- Triaged / Medium / fuel-docs / 8.0<br>- [fuel-library]"
      ],
      "text/plain": [
       "<IPython.core.display.HTML at 0x113b28690>"
      ]
     },
     "metadata": {},
     "output_type": "display_data"
    },
    {
     "data": {
      "text/html": [
       "- <span style='background-color: lightgreen; color: black'>R 153338</span> stackforge/fuel-library master MERGED <a href='https://review.openstack.org/153338'>Add the Ceph ready checking</a> Stanislav Makar 2015-02-05/2015-03-20"
      ],
      "text/plain": [
       "<IPython.core.display.HTML at 0x111af6890>"
      ]
     },
     "metadata": {},
     "output_type": "display_data"
    },
    {
     "data": {
      "text/html": [
       "<span style='background-color: blue; color: white'>B 1434787</span> <a href=https://bugs.launchpad.net/bugs/1434787>    Set 0644 mode for ntp and dnsmasq services</a> 2015-03-21/2015-10-08<br>- Triaged / Medium / fuel-docs / 8.0<br>- [fuel-library]"
      ],
      "text/plain": [
       "<IPython.core.display.HTML at 0x10f7b1990>"
      ]
     },
     "metadata": {},
     "output_type": "display_data"
    },
    {
     "data": {
      "text/html": [
       "- <span style='background-color: lightgreen; color: black'>R 163841</span> stackforge/fuel-library master MERGED <a href='https://review.openstack.org/163841'>Set 0644 mode for ntp and dnsmasq services</a> Oleksiy Molchanov 2015-03-12/2015-03-21"
      ],
      "text/plain": [
       "<IPython.core.display.HTML at 0x113e13a50>"
      ]
     },
     "metadata": {},
     "output_type": "display_data"
    },
    {
     "data": {
      "text/html": [
       "<span style='background-color: blue; color: white'>B 1435603</span> <a href=https://bugs.launchpad.net/bugs/1435603>on failure of granular task, bad summary message</a> 2015-03-23/2015-10-12<br>- Confirmed / Medium / fuel-python / 8.0<br>- [known-issue module-tasks qa-agree-7.0]"
      ],
      "text/plain": [
       "<IPython.core.display.HTML at 0x113403ad0>"
      ]
     },
     "metadata": {},
     "output_type": "display_data"
    },
    {
     "data": {
      "text/html": [
       "- <span style='background-color: lightgreen; color: black'>R 185008</span> stackforge/fuel-astute master MERGED <a href='https://review.openstack.org/185008'>Improve shell task error message</a> Ryan Moe 2015-05-22/2015-05-27"
      ],
      "text/plain": [
       "<IPython.core.display.HTML at 0x118f622d0>"
      ]
     },
     "metadata": {},
     "output_type": "display_data"
    },
    {
     "data": {
      "text/html": [
       "<span style='background-color: blue; color: white'>B 1437239</span> <a href=https://bugs.launchpad.net/bugs/1437239>Building FUEL ISO: make clean && make iso leads to strange errors</a> 2015-03-27/2015-10-12<br>- Confirmed / Medium / fuel-build / 8.0<br>- [module-build non-release qa-agree-7.0]"
      ],
      "text/plain": [
       "<IPython.core.display.HTML at 0x116e33450>"
      ]
     },
     "metadata": {},
     "output_type": "display_data"
    },
    {
     "data": {
      "text/html": [
       "<span style='background-color: blue; color: white'>B 1439299</span> <a href=https://bugs.launchpad.net/bugs/1439299>Issue accessing review.fuel-infra.org git via SSH</a> 2015-04-01/<span style='background-color: red; color: white'>2015-09-08</span><br>- Confirmed / Medium / heos / 8.0<br>- [non-release]"
      ],
      "text/plain": [
       "<IPython.core.display.HTML at 0x113dfb850>"
      ]
     },
     "metadata": {},
     "output_type": "display_data"
    },
    {
     "data": {
      "text/html": [
       "<span style='background-color: blue; color: white'>B 1439586</span> <a href=https://bugs.launchpad.net/bugs/1439586>Add user story about using networks into user-guide</a> 2015-04-02/2015-10-08<br>- Triaged / Medium / fuel-docs / 8.0<br>- [fuel-docs]"
      ],
      "text/plain": [
       "<IPython.core.display.HTML at 0x111b211d0>"
      ]
     },
     "metadata": {},
     "output_type": "display_data"
    },
    {
     "data": {
      "text/html": [
       "<span style='background-color: blue; color: white'>B 1439652</span> <a href=https://bugs.launchpad.net/bugs/1439652>[ostf] Expand HA non destructive suite with ha proxy verification</a> 2015-04-02/<span style='background-color: red; color: white'>2015-09-17</span><br>- In Progress / Medium / dtyzhnenko / 8.0<br>- [module-ostf non-release qa-agree-7.0]"
      ],
      "text/plain": [
       "<IPython.core.display.HTML at 0x11336db90>"
      ]
     },
     "metadata": {},
     "output_type": "display_data"
    },
    {
     "data": {
      "text/html": [
       "- <span style='background-color: lightgreen; color: black'>R 195161</span> stackforge/fuel-ostf master NEW <a href='https://review.openstack.org/195161'>Add HAProxy checker into HA</a> Dmitry Tyzhnenko 2015-06-24/<span style='background-color: red; color: white'>2015-09-23</span>"
      ],
      "text/plain": [
       "<IPython.core.display.HTML at 0x10cfde150>"
      ]
     },
     "metadata": {},
     "output_type": "display_data"
    },
    {
     "data": {
      "text/html": [
       "<span style='background-color: blue; color: white'>B 1440081</span> <a href=https://bugs.launchpad.net/bugs/1440081>Notification \"Node is back online\" appears almost immediately after stopping deployment though nodes not in bootstrap yet</a> 2015-04-03/2015-10-12<br>- Confirmed / Medium / fuel-python / 8.0<br>- [known-issue module-nailgun-agent]"
      ],
      "text/plain": [
       "<IPython.core.display.HTML at 0x114b8bbd0>"
      ]
     },
     "metadata": {},
     "output_type": "display_data"
    },
    {
     "data": {
      "text/html": [
       "<span style='background-color: blue; color: white'>B 1440147</span> <a href=https://bugs.launchpad.net/bugs/1440147>[system-tests][TestImpact] Validate scenario with a large mount of disks  </a> 2015-04-03/2015-08-31<br>- Confirmed / Medium / fuel-qa / 8.0<br>- [non-release qa-agree-7.0]"
      ],
      "text/plain": [
       "<IPython.core.display.HTML at 0x113dfbad0>"
      ]
     },
     "metadata": {},
     "output_type": "display_data"
    },
    {
     "data": {
      "text/html": [
       "<span style='background-color: blue; color: white'>B 1441074</span> <a href=https://bugs.launchpad.net/bugs/1441074>Package with new tox is needed</a> 2015-04-07/<span style='background-color: red; color: white'>2015-08-06</span><br>- Triaged / Medium / asilenkov / 8.0<br>- [non-release]"
      ],
      "text/plain": [
       "<IPython.core.display.HTML at 0x113403d50>"
      ]
     },
     "metadata": {},
     "output_type": "display_data"
    },
    {
     "data": {
      "text/html": [
       "- <a href='https://review.fuel-infra.org/5647'>https://review.fuel-infra.org/5647</a>"
      ],
      "text/plain": [
       "<IPython.core.display.HTML at 0x111be1410>"
      ]
     },
     "metadata": {},
     "output_type": "display_data"
    },
    {
     "data": {
      "text/html": [
       "- <a href='https://review.fuel-infra.org/5367'>https://review.fuel-infra.org/5367</a>"
      ],
      "text/plain": [
       "<IPython.core.display.HTML at 0x113e13bd0>"
      ]
     },
     "metadata": {},
     "output_type": "display_data"
    },
    {
     "data": {
      "text/html": [
       "<span style='background-color: blue; color: white'>B 1441956</span> <a href=https://bugs.launchpad.net/bugs/1441956>Fuel snapshot rely on dns resolution on master node</a> 2015-04-09/2015-10-01<br>- Confirmed / Medium / fuel-python / 8.0<br>- [module-shotgun]"
      ],
      "text/plain": [
       "<IPython.core.display.HTML at 0x113b58550>"
      ]
     },
     "metadata": {},
     "output_type": "display_data"
    },
    {
     "data": {
      "text/html": [
       "<span style='background-color: blue; color: white'>B 1442241</span> <a href=https://bugs.launchpad.net/bugs/1442241>OSTF test \"Ceilometer test to check get Cinder notifications\" not failed when volume is in error status</a> 2015-04-09/<span style='background-color: red; color: white'>2015-10-05</span><br>- In Progress / Medium / vgusev / 8.0<br>- [qa-agree-7.0]"
      ],
      "text/plain": [
       "<IPython.core.display.HTML at 0x111af6e10>"
      ]
     },
     "metadata": {},
     "output_type": "display_data"
    },
    {
     "data": {
      "text/html": [
       "<span style='background-color: blue; color: white'>B 1444190</span> <a href=https://bugs.launchpad.net/bugs/1444190>fuel-devops dos.py --create ignores values in settings.py</a> 2015-04-14/2015-08-31<br>- Confirmed / Medium / fuel-qa / 8.0<br>- [2.9.9 fuel-devops non-release qa-agree-7.0]"
      ],
      "text/plain": [
       "<IPython.core.display.HTML at 0x113e13110>"
      ]
     },
     "metadata": {},
     "output_type": "display_data"
    },
    {
     "data": {
      "text/html": [
       "<span style='background-color: blue; color: white'>B 1445347</span> <a href=https://bugs.launchpad.net/bugs/1445347>    Add possibilities to skip subdirs in snapshots</a> 2015-04-17/2015-10-08<br>- Triaged / Medium / fuel-docs / 8.0<br>- [fuel-web]"
      ],
      "text/plain": [
       "<IPython.core.display.HTML at 0x116e333d0>"
      ]
     },
     "metadata": {},
     "output_type": "display_data"
    },
    {
     "data": {
      "text/html": [
       "- <span style='background-color: lightgreen; color: black'>R 172481</span> stackforge/fuel-web master MERGED <a href='https://review.openstack.org/172481'>Add possibilities to skip subdirs in snapshots</a> Kamil Sambor 2015-04-10/2015-04-17"
      ],
      "text/plain": [
       "<IPython.core.display.HTML at 0x113403390>"
      ]
     },
     "metadata": {},
     "output_type": "display_data"
    },
    {
     "data": {
      "text/html": [
       "<span style='background-color: blue; color: white'>B 1446645</span> <a href=https://bugs.launchpad.net/bugs/1446645>IPv6 has been disabled for apt-get</a> 2015-04-21/2015-10-08<br>- Confirmed / Medium / fuel-docs / 8.0<br>- []"
      ],
      "text/plain": [
       "<IPython.core.display.HTML at 0x113dfb3d0>"
      ]
     },
     "metadata": {},
     "output_type": "display_data"
    },
    {
     "data": {
      "text/html": [
       "- <span style='background-color: lightgreen; color: black'>R 175800</span> stackforge/fuel-library master MERGED <a href='https://review.openstack.org/175800'>Convince apt-get not to use IPv6 method</a> Sergii Golovatiuk 2015-04-21/2015-04-21"
      ],
      "text/plain": [
       "<IPython.core.display.HTML at 0x10cfde150>"
      ]
     },
     "metadata": {},
     "output_type": "display_data"
    },
    {
     "data": {
      "text/html": [
       "<span style='background-color: blue; color: white'>B 1448074</span> <a href=https://bugs.launchpad.net/bugs/1448074>Conntrackd doesn't work in ns under CentOS</a> 2015-04-24/2015-10-12<br>- Confirmed / Medium / mos-linux / 8.0<br>- []"
      ],
      "text/plain": [
       "<IPython.core.display.HTML at 0x118f4e390>"
      ]
     },
     "metadata": {},
     "output_type": "display_data"
    },
    {
     "data": {
      "text/html": [
       "<span style='background-color: blue; color: white'>B 1449128</span> <a href=https://bugs.launchpad.net/bugs/1449128>[TesImpact]q-agent-cleanup.py needs integration testing</a> 2015-04-27/2015-10-12<br>- Confirmed / Medium / fuel-qa / 8.0<br>- []"
      ],
      "text/plain": [
       "<IPython.core.display.HTML at 0x10f7da0d0>"
      ]
     },
     "metadata": {},
     "output_type": "display_data"
    },
    {
     "data": {
      "text/html": [
       "<span style='background-color: blue; color: white'>B 1449513</span> <a href=https://bugs.launchpad.net/bugs/1449513>[docs] Describe some basic logs filtering scenarios for out of box logging in Fuel</a> 2015-04-28/2015-10-08<br>- Confirmed / Medium / fuel-docs / 8.0<br>- []"
      ],
      "text/plain": [
       "<IPython.core.display.HTML at 0x113400790>"
      ]
     },
     "metadata": {},
     "output_type": "display_data"
    },
    {
     "data": {
      "text/html": [
       "<span style='background-color: blue; color: white'>B 1451876</span> <a href=https://bugs.launchpad.net/bugs/1451876>FMN web does not properly display disk after deployment</a> 2015-05-05/2015-10-12<br>- Confirmed / Medium / fuel-python / 8.0<br>- [ibp]"
      ],
      "text/plain": [
       "<IPython.core.display.HTML at 0x111b21e90>"
      ]
     },
     "metadata": {},
     "output_type": "display_data"
    },
    {
     "data": {
      "text/html": [
       "<span style='background-color: blue; color: white'>B 1452284</span> <a href=https://bugs.launchpad.net/bugs/1452284>Fix changelog file generation in make system</a> 2015-05-06/<span style='background-color: red; color: white'>2015-08-11</span><br>- Triaged / Medium / skulanov / 8.0<br>- [iso make]"
      ],
      "text/plain": [
       "<IPython.core.display.HTML at 0x10f7dacd0>"
      ]
     },
     "metadata": {},
     "output_type": "display_data"
    },
    {
     "data": {
      "text/html": [
       "- <span style='background-color: lightgreen; color: black'>R 184116</span> stackforge/fuel-main master NEW <a href='https://review.openstack.org/184116'>Fix packages changelog generation</a> Sergey Kulanov 2015-05-18/2015-10-13"
      ],
      "text/plain": [
       "<IPython.core.display.HTML at 0x10cfde150>"
      ]
     },
     "metadata": {},
     "output_type": "display_data"
    },
    {
     "data": {
      "text/html": [
       "- <span style='background-color: lightgreen; color: black'>R 211742</span> stackforge/fuel-main master NEW <a href='https://review.openstack.org/211742'>Fix make-changelog target</a> Sergey Kulanov 2015-08-11/<span style='background-color: red; color: white'>2015-08-14</span>"
      ],
      "text/plain": [
       "<IPython.core.display.HTML at 0x11336df10>"
      ]
     },
     "metadata": {},
     "output_type": "display_data"
    },
    {
     "data": {
      "text/html": [
       "- <span style='background-color: lightgreen; color: black'>R 6816</span> infra/mirrors master NEW <a href='https://review.fuel-infra.org/6816'>Change make target to mirror-pkgs-changelog</a> Sergey Otpuschennikov 2015-05-20/<span style='background-color: red; color: white'>2015-05-20</span>"
      ],
      "text/plain": [
       "<IPython.core.display.HTML at 0x116e4b1d0>"
      ]
     },
     "metadata": {},
     "output_type": "display_data"
    },
    {
     "data": {
      "text/html": [
       "<span style='background-color: blue; color: white'>B 1452800</span> <a href=https://bugs.launchpad.net/bugs/1452800>Mellanox Section in Fuel UI Settings tab has to be removed in Fuel 7.0</a> 2015-05-07/2015-10-12<br>- In Progress / Medium / aviramb / 8.0<br>- [feature-plugins release-notes ui]"
      ],
      "text/plain": [
       "<IPython.core.display.HTML at 0x113dfb710>"
      ]
     },
     "metadata": {},
     "output_type": "display_data"
    },
    {
     "data": {
      "text/html": [
       "- <span style='background-color: lightgreen; color: black'>R 218649</span> stackforge/fuel-web master NEW <a href='https://review.openstack.org/218649'>Remove Mellanox section from the upstream settings</a> Aviram Bar-Haim 2015-08-30/<span style='background-color: red; color: white'>2015-10-08</span>"
      ],
      "text/plain": [
       "<IPython.core.display.HTML at 0x116e33310>"
      ]
     },
     "metadata": {},
     "output_type": "display_data"
    },
    {
     "data": {
      "text/html": [
       "<span style='background-color: blue; color: white'>B 1454009</span> <a href=https://bugs.launchpad.net/bugs/1454009>Multiple Functional Health Checks Fail when the Network deployed is a Provider Network</a> 2015-05-12/2015-08-31<br>- Confirmed / Medium / fuel-qa / 8.0<br>- [health-checks]"
      ],
      "text/plain": [
       "<IPython.core.display.HTML at 0x113403390>"
      ]
     },
     "metadata": {},
     "output_type": "display_data"
    },
    {
     "data": {
      "text/html": [
       "<span style='background-color: blue; color: white'>B 1454701</span> <a href=https://bugs.launchpad.net/bugs/1454701>Wrong package version during package installation test</a> 2015-05-13/2015-10-13<br>- Triaged / Medium / fuel-ci / 8.0<br>- []"
      ],
      "text/plain": [
       "<IPython.core.display.HTML at 0x111af6e10>"
      ]
     },
     "metadata": {},
     "output_type": "display_data"
    },
    {
     "data": {
      "text/html": [
       "- <span style='background-color: lightgreen; color: black'>R 6497</span> openstack-build/nova-build openstack-ci/fuel-7.0/2015.1.0 MERGED <a href='https://review.fuel-infra.org/6497'>Add updated Nova source package [.deb]</a> Ivan Udovichenko 2015-05-08/2015-05-26"
      ],
      "text/plain": [
       "<IPython.core.display.HTML at 0x113e13c90>"
      ]
     },
     "metadata": {},
     "output_type": "display_data"
    },
    {
     "data": {
      "text/html": [
       "- <a href='https://review.fuel-infra.org/6659'>https://review.fuel-infra.org/6659</a>"
      ],
      "text/plain": [
       "<IPython.core.display.HTML at 0x113e13910>"
      ]
     },
     "metadata": {},
     "output_type": "display_data"
    },
    {
     "data": {
      "text/html": [
       "<span style='background-color: blue; color: white'>B 1455196</span> <a href=https://bugs.launchpad.net/bugs/1455196>Unable to compile plugin with fpb 2.x</a> 2015-05-14/2015-10-12<br>- Confirmed / Medium / aroma-x / 8.0<br>- [feature-plugins]"
      ],
      "text/plain": [
       "<IPython.core.display.HTML at 0x11021bcd0>"
      ]
     },
     "metadata": {},
     "output_type": "display_data"
    },
    {
     "data": {
      "text/html": [
       "- <span style='background-color: lightgreen; color: black'>R 227837</span> stackforge/fuel-plugins master MERGED <a href='https://review.openstack.org/227837'>Convert cli arguments to unicode objects</a> Artem Roma 2015-09-25/2015-10-01"
      ],
      "text/plain": [
       "<IPython.core.display.HTML at 0x111bf37d0>"
      ]
     },
     "metadata": {},
     "output_type": "display_data"
    },
    {
     "data": {
      "text/html": [
       "<span style='background-color: blue; color: white'>B 1455537</span> <a href=https://bugs.launchpad.net/bugs/1455537>When creating MClient in astute for action from malformed ddl file, astute does not log any error, it just stops execution.</a> 2015-05-15/2015-10-12<br>- Confirmed / Medium / fuel-python / 8.0<br>- []"
      ],
      "text/plain": [
       "<IPython.core.display.HTML at 0x113e13810>"
      ]
     },
     "metadata": {},
     "output_type": "display_data"
    },
    {
     "data": {
      "text/html": [
       "<span style='background-color: blue; color: white'>B 1456436</span> <a href=https://bugs.launchpad.net/bugs/1456436>Boot-delay for LACP bonds should be implemented by UI</a> 2015-05-19/2015-08-04<br>- Confirmed / Medium / fuel-python / 8.0<br>- [l23network]"
      ],
      "text/plain": [
       "<IPython.core.display.HTML at 0x1134037d0>"
      ]
     },
     "metadata": {},
     "output_type": "display_data"
    },
    {
     "data": {
      "text/html": [
       "- <span style='background-color: lightgreen; color: black'>R 184176</span> stackforge/fuel-library master MERGED <a href='https://review.openstack.org/184176'>Specify default delay while boot for LACP bonds.</a> Sergey Vasilenko 2015-05-19/2015-05-21"
      ],
      "text/plain": [
       "<IPython.core.display.HTML at 0x113df1d50>"
      ]
     },
     "metadata": {},
     "output_type": "display_data"
    },
    {
     "data": {
      "text/html": [
       "<span style='background-color: blue; color: white'>B 1456557</span> <a href=https://bugs.launchpad.net/bugs/1456557>Provsioning stucks after failure during re-deployment): Can't read file with logs: /var/log/remote/node-12.mirantis.com/bootstrap/fuel-agent.log</a> 2015-05-19/2015-10-12<br>- Triaged / Medium / fuel-python / 8.0<br>- [feature-image-based]"
      ],
      "text/plain": [
       "<IPython.core.display.HTML at 0x113dfbad0>"
      ]
     },
     "metadata": {},
     "output_type": "display_data"
    },
    {
     "data": {
      "text/html": [
       "<span style='background-color: blue; color: white'>B 1456577</span> <a href=https://bugs.launchpad.net/bugs/1456577>Fuel plugin builder: Privileges are not managed for plugin repositories</a> 2015-05-19/2015-10-08<br>- Confirmed / Medium / fuel-docs / 8.0<br>- [fuel-plugin-builder]"
      ],
      "text/plain": [
       "<IPython.core.display.HTML at 0x111be1410>"
      ]
     },
     "metadata": {},
     "output_type": "display_data"
    },
    {
     "data": {
      "text/html": [
       "<span style='background-color: blue; color: white'>B 1456721</span> <a href=https://bugs.launchpad.net/bugs/1456721>Create documentation page listing all test groups</a> 2015-05-19/2015-10-13<br>- Confirmed / Medium / fuel-qa / 8.0<br>- [non-release]"
      ],
      "text/plain": [
       "<IPython.core.display.HTML at 0x113400590>"
      ]
     },
     "metadata": {},
     "output_type": "display_data"
    },
    {
     "data": {
      "text/html": [
       "<span style='background-color: blue; color: white'>B 1457397</span> <a href=https://bugs.launchpad.net/bugs/1457397>Replace traceback usage on log.exception  everywhere in ostf</a> 2015-05-21/2015-08-31<br>- Confirmed / Medium / fuel-qa / 8.0<br>- [low-hanging-fruit module-ostf]"
      ],
      "text/plain": [
       "<IPython.core.display.HTML at 0x10f7b1710>"
      ]
     },
     "metadata": {},
     "output_type": "display_data"
    },
    {
     "data": {
      "text/html": [
       "<span style='background-color: blue; color: white'>B 1457478</span> <a href=https://bugs.launchpad.net/bugs/1457478>[virtualbox] Network verification does not work after deployment on CentOS</a> 2015-05-21/2015-08-06<br>- Confirmed / Medium / fuel-python / 8.0<br>- [known-issue release-notes]"
      ],
      "text/plain": [
       "<IPython.core.display.HTML at 0x113400990>"
      ]
     },
     "metadata": {},
     "output_type": "display_data"
    },
    {
     "data": {
      "text/html": [
       "- <span style='background-color: lightgreen; color: black'>R 194961</span> stackforge/fuel-docs stable/6.1 MERGED <a href='https://review.openstack.org/194961'>Merge branch 'master' into stable/6.1</a> Aleksandra Fedorova 2015-06-24/2015-06-24"
      ],
      "text/plain": [
       "<IPython.core.display.HTML at 0x118f4e710>"
      ]
     },
     "metadata": {},
     "output_type": "display_data"
    },
    {
     "data": {
      "text/html": [
       "- <span style='background-color: lightgreen; color: black'>R 173326</span> stackforge/fuel-docs master ABANDONED <a href='https://review.openstack.org/173326'>Release Notes 6.1 -- Known&Resolved issues (Fuel Plugins)</a> Irina 2015-04-14/2015-05-26"
      ],
      "text/plain": [
       "<IPython.core.display.HTML at 0x114b8bdd0>"
      ]
     },
     "metadata": {},
     "output_type": "display_data"
    },
    {
     "data": {
      "text/html": [
       "- <span style='background-color: lightgreen; color: black'>R 168347</span> stackforge/fuel-devops master MERGED <a href='https://review.openstack.org/168347'>Make default memory for slaves 2560 for both CentOS and Ubuntu</a> Andrey Sledzinskiy 2015-03-27/2015-05-22"
      ],
      "text/plain": [
       "<IPython.core.display.HTML at 0x114b8bf50>"
      ]
     },
     "metadata": {},
     "output_type": "display_data"
    },
    {
     "data": {
      "text/html": [
       "- <span style='background-color: lightgreen; color: black'>R 6992</span> packages/centos6/kmod-openvswitch 6.1 MERGED <a href='https://review.fuel-infra.org/6992'>Revert to original kmod-openvswitch</a> Artem Silenkov 2015-05-26/2015-05-26"
      ],
      "text/plain": [
       "<IPython.core.display.HTML at 0x1134008d0>"
      ]
     },
     "metadata": {},
     "output_type": "display_data"
    },
    {
     "data": {
      "text/html": [
       "<span style='background-color: blue; color: white'>B 1458619</span> <a href=https://bugs.launchpad.net/bugs/1458619>Error message on UI when malformed repository URL</a> 2015-05-25/2015-10-09<br>- Confirmed / Medium / fuel-python / 8.0<br>- [module-nailgun ui ux]"
      ],
      "text/plain": [
       "<IPython.core.display.HTML at 0x113dfb8d0>"
      ]
     },
     "metadata": {},
     "output_type": "display_data"
    },
    {
     "data": {
      "text/html": [
       "<span style='background-color: blue; color: white'>B 1460073</span> <a href=https://bugs.launchpad.net/bugs/1460073>Add test to check mcollective package version</a> 2015-05-29/<span style='background-color: red; color: white'>2015-09-23</span><br>- Confirmed / Medium / ddmitriev / 8.0<br>- [fuel-ci]"
      ],
      "text/plain": [
       "<IPython.core.display.HTML at 0x113403d90>"
      ]
     },
     "metadata": {},
     "output_type": "display_data"
    },
    {
     "data": {
      "text/html": [
       "<span style='background-color: blue; color: white'>B 1460480</span> <a href=https://bugs.launchpad.net/bugs/1460480>BUILD_PACKAGES flag doesn't work on make iso</a> 2015-05-31/<span style='background-color: red; color: white'>2015-09-28</span><br>- In Progress / Medium / skulanov / 8.0<br>- [iso make non-release]"
      ],
      "text/plain": [
       "<IPython.core.display.HTML at 0x113b58e90>"
      ]
     },
     "metadata": {},
     "output_type": "display_data"
    },
    {
     "data": {
      "text/html": [
       "- <span style='background-color: lightgreen; color: black'>R 187126</span> stackforge/fuel-main master ABANDONED <a href='https://review.openstack.org/187126'>Fix BUILD_PACKAGES flag usage</a> Sergey Kulanov 2015-06-01/2015-09-15"
      ],
      "text/plain": [
       "<IPython.core.display.HTML at 0x113b28690>"
      ]
     },
     "metadata": {},
     "output_type": "display_data"
    },
    {
     "data": {
      "text/html": [
       "- <span style='background-color: lightgreen; color: black'>R 228400</span> stackforge/fuel-main master NEW <a href='https://review.openstack.org/228400'>Fix BUILD_PACKAGES flag</a> Sergey Kulanov 2015-09-28/<span style='background-color: red; color: white'>2015-10-02</span>"
      ],
      "text/plain": [
       "<IPython.core.display.HTML at 0x113b583d0>"
      ]
     },
     "metadata": {},
     "output_type": "display_data"
    },
    {
     "data": {
      "text/html": [
       "<span style='background-color: blue; color: white'>B 1460572</span> <a href=https://bugs.launchpad.net/bugs/1460572>cli. Command parameter syntax is different from help entries</a> 2015-06-01/2015-10-08<br>- Confirmed / Medium / fuel-python / 8.0<br>- [known-issue release-notes]"
      ],
      "text/plain": [
       "<IPython.core.display.HTML at 0x113403d90>"
      ]
     },
     "metadata": {},
     "output_type": "display_data"
    },
    {
     "data": {
      "text/html": [
       "<span style='background-color: blue; color: white'>B 1461079</span> <a href=https://bugs.launchpad.net/bugs/1461079>Make --snapshot-name argument mandatory when creating snapshot</a> 2015-06-02/<span style='background-color: red; color: white'>2015-08-31</span><br>- Triaged / Medium / dtyzhnenko / 8.0<br>- []"
      ],
      "text/plain": [
       "<IPython.core.display.HTML at 0x118f4e650>"
      ]
     },
     "metadata": {},
     "output_type": "display_data"
    },
    {
     "data": {
      "text/html": [
       "<span style='background-color: blue; color: white'>B 1461485</span> <a href=https://bugs.launchpad.net/bugs/1461485>on puppet cinder module : type is not tested before creation</a> 2015-06-03/<span style='background-color: red; color: white'>2015-08-06</span><br>- Confirmed / Medium / myatsenko / 8.0<br>- [low-hanging-fruit]"
      ],
      "text/plain": [
       "<IPython.core.display.HTML at 0x10f7da210>"
      ]
     },
     "metadata": {},
     "output_type": "display_data"
    },
    {
     "data": {
      "text/html": [
       "<span style='background-color: blue; color: white'>B 1461562</span> <a href=https://bugs.launchpad.net/bugs/1461562>Failed to casting message to the nailgun. RabbitMQ was dead</a> 2015-06-03/2015-09-04<br>- Confirmed / Medium / fuel-python / 8.0<br>- [module-astute rabbitmq]"
      ],
      "text/plain": [
       "<IPython.core.display.HTML at 0x116e4bf50>"
      ]
     },
     "metadata": {},
     "output_type": "display_data"
    },
    {
     "data": {
      "text/html": [
       "- <span style='background-color: lightgreen; color: black'>R 220146</span> stackforge/fuel-astute master NEW <a href='https://review.openstack.org/220146'>More verbose AMQP logging</a> Igor Kalnitsky 2015-09-03/<span style='background-color: red; color: white'>2015-09-03</span>"
      ],
      "text/plain": [
       "<IPython.core.display.HTML at 0x113400f90>"
      ]
     },
     "metadata": {},
     "output_type": "display_data"
    },
    {
     "data": {
      "text/html": [
       "- <span style='background-color: lightgreen; color: black'>R 220196</span> stackforge/fuel-astute master MERGED <a href='https://review.openstack.org/220196'>Revert \"Specify heartbeat for connection to RabbitMQ\"</a> Igor Kalnitsky 2015-09-03/2015-09-03"
      ],
      "text/plain": [
       "<IPython.core.display.HTML at 0x10f7b1d50>"
      ]
     },
     "metadata": {},
     "output_type": "display_data"
    },
    {
     "data": {
      "text/html": [
       "<span style='background-color: blue; color: white'>B 1463886</span> <a href=https://bugs.launchpad.net/bugs/1463886>[upgrade] Run network verification request returns 400 http error on 6.0 envs after upgrade</a> 2015-06-10/2015-09-16<br>- Confirmed / Medium / fuel-python / 8.0<br>- [feature-upgrade]"
      ],
      "text/plain": [
       "<IPython.core.display.HTML at 0x11021bfd0>"
      ]
     },
     "metadata": {},
     "output_type": "display_data"
    },
    {
     "data": {
      "text/html": [
       "<span style='background-color: blue; color: white'>B 1464260</span> <a href=https://bugs.launchpad.net/bugs/1464260>Perestroika silently failed to publish merged package</a> 2015-06-11/<span style='background-color: red; color: white'>2015-08-06</span><br>- Triaged / Medium / asilenkov / 8.0<br>- []"
      ],
      "text/plain": [
       "<IPython.core.display.HTML at 0x113e13050>"
      ]
     },
     "metadata": {},
     "output_type": "display_data"
    },
    {
     "data": {
      "text/html": [
       "<span style='background-color: blue; color: white'>B 1466903</span> <a href=https://bugs.launchpad.net/bugs/1466903>After revert the snapshot 'prepare_ha_nova', pacemaker got a split brain</a> 2015-06-19/2015-08-31<br>- Confirmed / Medium / fuel-qa / 8.0<br>- []"
      ],
      "text/plain": [
       "<IPython.core.display.HTML at 0x11001ce90>"
      ]
     },
     "metadata": {},
     "output_type": "display_data"
    },
    {
     "data": {
      "text/html": [
       "<span style='background-color: blue; color: white'>B 1467212</span> <a href=https://bugs.launchpad.net/bugs/1467212>Fuel connects to internet when installing local plugin</a> 2015-06-21/2015-10-01<br>- Confirmed / Medium / fuel-python / 8.0<br>- [feature-plugins low-hanging-fruit]"
      ],
      "text/plain": [
       "<IPython.core.display.HTML at 0x111be1990>"
      ]
     },
     "metadata": {},
     "output_type": "display_data"
    },
    {
     "data": {
      "text/html": [
       "<span style='background-color: blue; color: white'>B 1467505</span> <a href=https://bugs.launchpad.net/bugs/1467505>Fuel web backend throws warning \"Invalid MAC is specified\" with nic bonding</a> 2015-06-22/2015-10-12<br>- Confirmed / Medium / fuel-python / 8.0<br>- []"
      ],
      "text/plain": [
       "<IPython.core.display.HTML at 0x118f4e750>"
      ]
     },
     "metadata": {},
     "output_type": "display_data"
    },
    {
     "data": {
      "text/html": [
       "<span style='background-color: blue; color: white'>B 1467579</span> <a href=https://bugs.launchpad.net/bugs/1467579>libguestfs doesn't work on Ubuntu without root permissions</a> 2015-06-22/<span style='background-color: red; color: white'>2015-10-08</span><br>- Confirmed / Medium / asheplyakov / 8.0<br>- []"
      ],
      "text/plain": [
       "<IPython.core.display.HTML at 0x116e33b90>"
      ]
     },
     "metadata": {},
     "output_type": "display_data"
    },
    {
     "data": {
      "text/html": [
       "<span style='background-color: blue; color: white'>B 1467829</span> <a href=https://bugs.launchpad.net/bugs/1467829>[DocImpact] Add creation date column to snapshot list</a> 2015-06-23/2015-10-08<br>- Confirmed / Medium / fuel-docs / 8.0<br>- [fuel-devops]"
      ],
      "text/plain": [
       "<IPython.core.display.HTML at 0x113403290>"
      ]
     },
     "metadata": {},
     "output_type": "display_data"
    },
    {
     "data": {
      "text/html": [
       "- <span style='background-color: lightgreen; color: black'>R 190042</span> stackforge/fuel-devops master MERGED <a href='https://review.openstack.org/190042'>Add creation date column to snapshot list</a> Sebastian Kalinowski 2015-06-10/2015-06-23"
      ],
      "text/plain": [
       "<IPython.core.display.HTML at 0x1139ade50>"
      ]
     },
     "metadata": {},
     "output_type": "display_data"
    },
    {
     "data": {
      "text/html": [
       "<span style='background-color: blue; color: white'>B 1468753</span> <a href=https://bugs.launchpad.net/bugs/1468753>Fuel install cluster with UNALLOCATED roles</a> 2015-06-25/2015-10-08<br>- Confirmed / Medium / fuel-python / 8.0<br>- [module-nailgun tricky]"
      ],
      "text/plain": [
       "<IPython.core.display.HTML at 0x1139ad910>"
      ]
     },
     "metadata": {},
     "output_type": "display_data"
    },
    {
     "data": {
      "text/html": [
       "<span style='background-color: blue; color: white'>B 1469188</span> <a href=https://bugs.launchpad.net/bugs/1469188>All Ceilometer OSTF tests skipped if there are no compute nodes in cluster </a> 2015-06-26/<span style='background-color: red; color: white'>2015-10-08</span><br>- In Progress / Medium / vgusev / 8.0<br>- [module-ostf non-release]"
      ],
      "text/plain": [
       "<IPython.core.display.HTML at 0x113403ad0>"
      ]
     },
     "metadata": {},
     "output_type": "display_data"
    },
    {
     "data": {
      "text/html": [
       "- <span style='background-color: lightgreen; color: black'>R 196077</span> stackforge/fuel-ostf master NEW <a href='https://review.openstack.org/196077'>[Ceilometer] Add check for compute existence</a> Vitaly Gusev 2015-06-26/<span style='background-color: red; color: white'>2015-10-08</span>"
      ],
      "text/plain": [
       "<IPython.core.display.HTML at 0x113df1d50>"
      ]
     },
     "metadata": {},
     "output_type": "display_data"
    },
    {
     "data": {
      "text/html": [
       "<span style='background-color: blue; color: white'>B 1470211</span> <a href=https://bugs.launchpad.net/bugs/1470211>[Fuel Plugins] Change deprecation warning on 6.0 Fuel Plugins into a more user-friendly and clear</a> 2015-06-30/2015-10-12<br>- Confirmed / Medium / fuel-python / 8.0<br>- [feature-plugins]"
      ],
      "text/plain": [
       "<IPython.core.display.HTML at 0x118f4e910>"
      ]
     },
     "metadata": {},
     "output_type": "display_data"
    },
    {
     "data": {
      "text/html": [
       "<span style='background-color: blue; color: white'>B 1470417</span> <a href=https://bugs.launchpad.net/bugs/1470417>hiera: code execution from the current directory</a> 2015-07-01/<span style='background-color: red; color: white'>2015-08-10</span><br>- Triaged / Medium / asheplyakov / 8.0<br>- []"
      ],
      "text/plain": [
       "<IPython.core.display.HTML at 0x10f7da890>"
      ]
     },
     "metadata": {},
     "output_type": "display_data"
    },
    {
     "data": {
      "text/html": [
       "<span style='background-color: blue; color: white'>B 1470465</span> <a href=https://bugs.launchpad.net/bugs/1470465>[ostf] [murano] Poor error logging in Murano OSTF tests</a> 2015-07-01/<span style='background-color: red; color: white'>2015-08-31</span><br>- Confirmed / Medium / sturivnyi / 8.0<br>- [module-ostf murano]"
      ],
      "text/plain": [
       "<IPython.core.display.HTML at 0x10f7b1d90>"
      ]
     },
     "metadata": {},
     "output_type": "display_data"
    },
    {
     "data": {
      "text/html": [
       "<span style='background-color: blue; color: white'>B 1470869</span> <a href=https://bugs.launchpad.net/bugs/1470869>When auth is disabled, notification popover is shifted</a> 2015-07-02/2015-10-12<br>- Confirmed / Medium / fuel-ui / 8.0<br>- [low-hanging-fruit ui]"
      ],
      "text/plain": [
       "<IPython.core.display.HTML at 0x111bf3410>"
      ]
     },
     "metadata": {},
     "output_type": "display_data"
    },
    {
     "data": {
      "text/html": [
       "<span style='background-color: blue; color: white'>B 1470896</span> <a href=https://bugs.launchpad.net/bugs/1470896>    Separate rpm specs for V2 and V3 added</a> 2015-07-02/2015-10-08<br>- Confirmed / Medium / fuel-docs / 8.0<br>- [fuel-plugins]"
      ],
      "text/plain": [
       "<IPython.core.display.HTML at 0x11021b790>"
      ]
     },
     "metadata": {},
     "output_type": "display_data"
    },
    {
     "data": {
      "text/html": [
       "- <span style='background-color: lightgreen; color: black'>R 197559</span> stackforge/fuel-plugins master MERGED <a href='https://review.openstack.org/197559'>Separate rpm specs for V2 and V3 added</a> Artem Roma 2015-07-01/2015-07-02"
      ],
      "text/plain": [
       "<IPython.core.display.HTML at 0x1167d5050>"
      ]
     },
     "metadata": {},
     "output_type": "display_data"
    },
    {
     "data": {
      "text/html": [
       "<span style='background-color: blue; color: white'>B 1471296</span> <a href=https://bugs.launchpad.net/bugs/1471296>Sometimes dropping of network to interface fails</a> 2015-07-03/2015-10-12<br>- Confirmed / Medium / fuel-ui / 8.0<br>- [ui]"
      ],
      "text/plain": [
       "<IPython.core.display.HTML at 0x113e13350>"
      ]
     },
     "metadata": {},
     "output_type": "display_data"
    },
    {
     "data": {
      "text/html": [
       "<span style='background-color: blue; color: white'>B 1471826</span> <a href=https://bugs.launchpad.net/bugs/1471826>Ceph near full OSD and full OSD not triggering any alarms in default Zabbix setup</a> 2015-07-06/2015-10-08<br>- Confirmed / Medium / fuel-plugin-zabbix / 8.0<br>- [feature-plugins non-release]"
      ],
      "text/plain": [
       "<IPython.core.display.HTML at 0x10cf5b310>"
      ]
     },
     "metadata": {},
     "output_type": "display_data"
    },
    {
     "data": {
      "text/html": [
       "<span style='background-color: blue; color: white'>B 1471881</span> <a href=https://bugs.launchpad.net/bugs/1471881>    Improve and fix syntax checks</a> 2015-07-06/2015-10-08<br>- Confirmed / Medium / fuel-docs / 8.0<br>- [fuel-library]"
      ],
      "text/plain": [
       "<IPython.core.display.HTML at 0x116e4bb50>"
      ]
     },
     "metadata": {},
     "output_type": "display_data"
    },
    {
     "data": {
      "text/html": [
       "- <span style='background-color: lightgreen; color: black'>R 198314</span> stackforge/fuel-library master MERGED <a href='https://review.openstack.org/198314'>Improve and fix syntax checks</a> Aleksandr Didenko 2015-07-03/2015-07-06"
      ],
      "text/plain": [
       "<IPython.core.display.HTML at 0x10f7da210>"
      ]
     },
     "metadata": {},
     "output_type": "display_data"
    },
    {
     "data": {
      "text/html": [
       "<span style='background-color: blue; color: white'>B 1472155</span> <a href=https://bugs.launchpad.net/bugs/1472155>    Allow to do not use CPU 'host-model'</a> 2015-07-07/2015-10-08<br>- Confirmed / Medium / fuel-docs / 8.0<br>- [fuel-devops]"
      ],
      "text/plain": [
       "<IPython.core.display.HTML at 0x118f4e9d0>"
      ]
     },
     "metadata": {},
     "output_type": "display_data"
    },
    {
     "data": {
      "text/html": [
       "- <span style='background-color: lightgreen; color: black'>R 190989</span> stackforge/fuel-devops master MERGED <a href='https://review.openstack.org/190989'>Allow to do not use CPU 'host-model'</a> Sebastian Kalinowski 2015-06-12/2015-07-07"
      ],
      "text/plain": [
       "<IPython.core.display.HTML at 0x10cfde150>"
      ]
     },
     "metadata": {},
     "output_type": "display_data"
    },
    {
     "data": {
      "text/html": [
       "<span style='background-color: blue; color: white'>B 1472196</span> <a href=https://bugs.launchpad.net/bugs/1472196>[Package] python-xstatic-font-awesome unknown source in 7.0 repository</a> 2015-07-07/2015-08-06<br>- Confirmed / Medium / fuel-build / 8.0<br>- [osci package python-xstatic-font-awesome version]"
      ],
      "text/plain": [
       "<IPython.core.display.HTML at 0x113dfba90>"
      ]
     },
     "metadata": {},
     "output_type": "display_data"
    },
    {
     "data": {
      "text/html": [
       "<span style='background-color: blue; color: white'>B 1472275</span> <a href=https://bugs.launchpad.net/bugs/1472275>(DataError) value too long for type character varying(100) for compact node</a> 2015-07-07/2015-10-13<br>- Confirmed / Medium / fuel-ui / 8.0<br>- [fuel-compact-mode]"
      ],
      "text/plain": [
       "<IPython.core.display.HTML at 0x113403c50>"
      ]
     },
     "metadata": {},
     "output_type": "display_data"
    },
    {
     "data": {
      "text/html": [
       "- <span style='background-color: lightgreen; color: black'>R 209427</span> stackforge/fuel-web master MERGED <a href='https://review.openstack.org/209427'>Limit node name length</a> Julia Aranovich 2015-08-05/2015-08-05"
      ],
      "text/plain": [
       "<IPython.core.display.HTML at 0x113be0710>"
      ]
     },
     "metadata": {},
     "output_type": "display_data"
    },
    {
     "data": {
      "text/html": [
       "<span style='background-color: blue; color: white'>B 1472943</span> <a href=https://bugs.launchpad.net/bugs/1472943>[feature-req] print snapshot timestamp in dos.py snapshot-list output</a> 2015-07-09/2015-08-31<br>- Confirmed / Medium / fuel-qa / 8.0<br>- [fuel-devops]"
      ],
      "text/plain": [
       "<IPython.core.display.HTML at 0x116e33e50>"
      ]
     },
     "metadata": {},
     "output_type": "display_data"
    },
    {
     "data": {
      "text/html": [
       "<span style='background-color: blue; color: white'>B 1473196</span> <a href=https://bugs.launchpad.net/bugs/1473196>[ui] network settings in Fuel UI are confusing</a> 2015-07-09/2015-10-14<br>- Confirmed / Medium / fuel-ui / 8.0<br>- [ui]"
      ],
      "text/plain": [
       "<IPython.core.display.HTML at 0x118f4e910>"
      ]
     },
     "metadata": {},
     "output_type": "display_data"
    },
    {
     "data": {
      "text/html": [
       "- <span style='background-color: lightgreen; color: black'>R 233034</span> stackforge/fuel-web master MERGED <a href='https://review.openstack.org/233034'>Removing Floating IP ranges from public network</a> Alexandra Morozova 2015-10-09/2015-10-12"
      ],
      "text/plain": [
       "<IPython.core.display.HTML at 0x111be1990>"
      ]
     },
     "metadata": {},
     "output_type": "display_data"
    },
    {
     "data": {
      "text/html": [
       "<span style='background-color: blue; color: white'>B 1473405</span> <a href=https://bugs.launchpad.net/bugs/1473405>rabbitmq logrotate doesn't work properly</a> 2015-07-10/<span style='background-color: red; color: white'>2015-10-08</span><br>- Confirmed / Medium / amogylchenko / 8.0<br>- [scale]"
      ],
      "text/plain": [
       "<IPython.core.display.HTML at 0x10f7da890>"
      ]
     },
     "metadata": {},
     "output_type": "display_data"
    },
    {
     "data": {
      "text/html": [
       "- <span style='background-color: lightgreen; color: black'>R 10372</span> packages/trusty/rabbitmq-server 7.0 NEW <a href='https://review.fuel-infra.org/10372'>Avoid using Rabbitmq's own logrotate functionality</a> Aleksandr Mogylchenko 2015-08-12/<span style='background-color: red; color: white'>2015-08-12</span>"
      ],
      "text/plain": [
       "<IPython.core.display.HTML at 0x113589090>"
      ]
     },
     "metadata": {},
     "output_type": "display_data"
    },
    {
     "data": {
      "text/html": [
       "<span style='background-color: blue; color: white'>B 1473445</span> <a href=https://bugs.launchpad.net/bugs/1473445>deployment of custom roles failed</a> 2015-07-10/2015-10-14<br>- Confirmed / Medium / fuel-python / 8.0<br>- [feature-plugins fuel-to-mos]"
      ],
      "text/plain": [
       "<IPython.core.display.HTML at 0x10f7b1c10>"
      ]
     },
     "metadata": {},
     "output_type": "display_data"
    },
    {
     "data": {
      "text/html": [
       "<span style='background-color: blue; color: white'>B 1473824</span> <a href=https://bugs.launchpad.net/bugs/1473824>3 out of 4 Ceph OSD nodes failing to deploy</a> 2015-07-13/2015-10-12<br>- Triaged / Medium / fuel-python / 8.0<br>- [ceph]"
      ],
      "text/plain": [
       "<IPython.core.display.HTML at 0x113e13350>"
      ]
     },
     "metadata": {},
     "output_type": "display_data"
    },
    {
     "data": {
      "text/html": [
       "<span style='background-color: blue; color: white'>B 1474897</span> <a href=https://bugs.launchpad.net/bugs/1474897>No way to revert cluster status if redeployment not started due to error</a> 2015-07-15/2015-10-12<br>- Confirmed / Medium / fuel-python / 8.0<br>- [module-nailgun tricky]"
      ],
      "text/plain": [
       "<IPython.core.display.HTML at 0x111be1410>"
      ]
     },
     "metadata": {},
     "output_type": "display_data"
    },
    {
     "data": {
      "text/html": [
       "<span style='background-color: blue; color: white'>B 1475310</span> <a href=https://bugs.launchpad.net/bugs/1475310>Caching does not allow to see new UI features</a> 2015-07-16/2015-10-12<br>- Confirmed / Medium / fuel-ui / 8.0<br>- [ui]"
      ],
      "text/plain": [
       "<IPython.core.display.HTML at 0x118f4ee50>"
      ]
     },
     "metadata": {},
     "output_type": "display_data"
    },
    {
     "data": {
      "text/html": [
       "- <span style='background-color: lightgreen; color: black'>R 231014</span> stackforge/fuel-docs stable/7.0 MERGED <a href='https://review.openstack.org/231014'>Add browser cache issue to Fuel 7.0 relnotes Related-Bug:#1475310</a> Evgeny Konstantinov 2015-10-05/2015-10-05"
      ],
      "text/plain": [
       "<IPython.core.display.HTML at 0x1167d55d0>"
      ]
     },
     "metadata": {},
     "output_type": "display_data"
    },
    {
     "data": {
      "text/html": [
       "- <span style='background-color: lightgreen; color: black'>R 231005</span> stackforge/fuel-docs master MERGED <a href='https://review.openstack.org/231005'>Add browser cache issue to Fuel 7.0 relnotes Related-Bug:#1475310</a> Evgeny Konstantinov 2015-10-05/2015-10-05"
      ],
      "text/plain": [
       "<IPython.core.display.HTML at 0x1167d5850>"
      ]
     },
     "metadata": {},
     "output_type": "display_data"
    },
    {
     "data": {
      "text/html": [
       "<span style='background-color: blue; color: white'>B 1475345</span> <a href=https://bugs.launchpad.net/bugs/1475345>    Make predefined_networks parameter optional</a> 2015-07-16/2015-10-08<br>- Confirmed / Medium / fuel-docs / 8.0<br>- [fuel-library]"
      ],
      "text/plain": [
       "<IPython.core.display.HTML at 0x113b58510>"
      ]
     },
     "metadata": {},
     "output_type": "display_data"
    },
    {
     "data": {
      "text/html": [
       "- <span style='background-color: lightgreen; color: black'>R 200530</span> stackforge/fuel-library master MERGED <a href='https://review.openstack.org/200530'>Make predefined_networks parameter optional</a> Oleg Gelbukh 2015-07-10/2015-07-16"
      ],
      "text/plain": [
       "<IPython.core.display.HTML at 0x116e4b790>"
      ]
     },
     "metadata": {},
     "output_type": "display_data"
    },
    {
     "data": {
      "text/html": [
       "<span style='background-color: blue; color: white'>B 1475360</span> <a href=https://bugs.launchpad.net/bugs/1475360>split fuel-agent into few packages</a> 2015-07-16/2015-08-06<br>- Confirmed / Medium / fuel-build / 8.0<br>- [feature-image-based ibp]"
      ],
      "text/plain": [
       "<IPython.core.display.HTML at 0x10ec42490>"
      ]
     },
     "metadata": {},
     "output_type": "display_data"
    },
    {
     "data": {
      "text/html": [
       "<span style='background-color: blue; color: white'>B 1475364</span> <a href=https://bugs.launchpad.net/bugs/1475364>Strange behaviour of 'pending_deletion' node and progress bar after clicking \"Deploy Changes\" button</a> 2015-07-16/2015-08-03<br>- Confirmed / Medium / fuel-python / 8.0<br>- [module-nailgun ui]"
      ],
      "text/plain": [
       "<IPython.core.display.HTML at 0x10f7dad90>"
      ]
     },
     "metadata": {},
     "output_type": "display_data"
    },
    {
     "data": {
      "text/html": [
       "<span style='background-color: blue; color: white'>B 1475948</span> <a href=https://bugs.launchpad.net/bugs/1475948>fuel-library version of puppetlabs-mongodb is out of sync with the upstream</a> 2015-07-19/<span style='background-color: red; color: white'>2015-09-21</span><br>- In Progress / Medium / iberezovskiy / 8.0<br>- []"
      ],
      "text/plain": [
       "<IPython.core.display.HTML at 0x113403950>"
      ]
     },
     "metadata": {},
     "output_type": "display_data"
    },
    {
     "data": {
      "text/html": [
       "- <span style='background-color: lightgreen; color: black'>R 207512</span> stackforge/fuel-library master MERGED <a href='https://review.openstack.org/207512'>Improvements for MongoDB replica set configuration</a> Ivan Berezovskiy 2015-07-30/2015-08-12"
      ],
      "text/plain": [
       "<IPython.core.display.HTML at 0x1134039d0>"
      ]
     },
     "metadata": {},
     "output_type": "display_data"
    },
    {
     "data": {
      "text/html": [
       "- <span style='background-color: lightgreen; color: black'>R 11065</span> puppet-modules/puppetlabs-mongodb 0.10.0-mos MERGED <a href='https://review.fuel-infra.org/11065'>Improvements for MongoDB replica set configuration</a> Denis Egorenko 2015-09-02/2015-09-21"
      ],
      "text/plain": [
       "<IPython.core.display.HTML at 0x113403650>"
      ]
     },
     "metadata": {},
     "output_type": "display_data"
    },
    {
     "data": {
      "text/html": [
       "<span style='background-color: blue; color: white'>B 1476140</span> <a href=https://bugs.launchpad.net/bugs/1476140>Nodegroup instructions improvement</a> 2015-07-20/2015-10-08<br>- Confirmed / Medium / fuel-docs / 8.0<br>- []"
      ],
      "text/plain": [
       "<IPython.core.display.HTML at 0x113403a10>"
      ]
     },
     "metadata": {},
     "output_type": "display_data"
    },
    {
     "data": {
      "text/html": [
       "<span style='background-color: blue; color: white'>B 1476154</span> <a href=https://bugs.launchpad.net/bugs/1476154>snapshots for kilo mirrors have different timestamps</a> 2015-07-20/<span style='background-color: red; color: white'>2015-08-06</span><br>- Confirmed / Medium / mrasskazov / 8.0<br>- [fuel-build fuel-ci]"
      ],
      "text/plain": [
       "<IPython.core.display.HTML at 0x10f7dad90>"
      ]
     },
     "metadata": {},
     "output_type": "display_data"
    },
    {
     "data": {
      "text/html": [
       "- <span style='background-color: lightgreen; color: black'>R 9426</span> fuel-infra/jenkins-jobs master MERGED <a href='https://review.fuel-infra.org/9426'>Fix MIRROR_URL based on location variable</a> Sergey Kulanov 2015-07-16/2015-07-17"
      ],
      "text/plain": [
       "<IPython.core.display.HTML at 0x113dfb610>"
      ]
     },
     "metadata": {},
     "output_type": "display_data"
    },
    {
     "data": {
      "text/html": [
       "<span style='background-color: blue; color: white'>B 1476274</span> <a href=https://bugs.launchpad.net/bugs/1476274>[OSTF] Add test to check swift</a> 2015-07-20/2015-08-13<br>- Confirmed / Medium / mos-qa / 8.0<br>- [module-ostf swift]"
      ],
      "text/plain": [
       "<IPython.core.display.HTML at 0x113b58a90>"
      ]
     },
     "metadata": {},
     "output_type": "display_data"
    },
    {
     "data": {
      "text/html": [
       "<span style='background-color: blue; color: white'>B 1476484</span> <a href=https://bugs.launchpad.net/bugs/1476484>Stop Tests button stuck</a> 2015-07-21/2015-10-12<br>- Triaged / Medium / fuel-python / 8.0<br>- [module-ostf]"
      ],
      "text/plain": [
       "<IPython.core.display.HTML at 0x113be0bd0>"
      ]
     },
     "metadata": {},
     "output_type": "display_data"
    },
    {
     "data": {
      "text/html": [
       "<span style='background-color: blue; color: white'>B 1476629</span> <a href=https://bugs.launchpad.net/bugs/1476629>Node label creation form should support autocompletion</a> 2015-07-21/2015-10-12<br>- Confirmed / Medium / fuel-ui / 8.0<br>- [feature-custom-node-labels ui ui-feature]"
      ],
      "text/plain": [
       "<IPython.core.display.HTML at 0x116e33750>"
      ]
     },
     "metadata": {},
     "output_type": "display_data"
    },
    {
     "data": {
      "text/html": [
       "<span style='background-color: blue; color: white'>B 1476726</span> <a href=https://bugs.launchpad.net/bugs/1476726>mysql-client-5.6 recommends mysql-wsrep-common-5.6</a> 2015-07-21/2015-10-12<br>- Triaged / Medium / mos-packaging / 8.0<br>- []"
      ],
      "text/plain": [
       "<IPython.core.display.HTML at 0x111be1310>"
      ]
     },
     "metadata": {},
     "output_type": "display_data"
    },
    {
     "data": {
      "text/html": [
       "- <span style='background-color: lightgreen; color: black'>R 9407</span> openstack-build/ceilometer-build openstack-ci/fuel-7.0/2015.1.0 MERGED <a href='https://review.fuel-infra.org/9407'>Remove patch from Ceilometer source package</a> Ivan Udovichenko 2015-07-16/2015-07-22"
      ],
      "text/plain": [
       "<IPython.core.display.HTML at 0x114b97810>"
      ]
     },
     "metadata": {},
     "output_type": "display_data"
    },
    {
     "data": {
      "text/html": [
       "<span style='background-color: blue; color: white'>B 1477189</span> <a href=https://bugs.launchpad.net/bugs/1477189>When hostname format validation fails the displayed message doesn't provide details what went wrong </a> 2015-07-22/2015-10-12<br>- Confirmed / Medium / fuel-python / 8.0<br>- []"
      ],
      "text/plain": [
       "<IPython.core.display.HTML at 0x111be14d0>"
      ]
     },
     "metadata": {},
     "output_type": "display_data"
    },
    {
     "data": {
      "text/html": [
       "- <span style='background-color: lightgreen; color: black'>R 207331</span> stackforge/fuel-web master ABANDONED <a href='https://review.openstack.org/207331'>Hostname validation moved from jsonschema</a> Fedor Zhadaev 2015-07-30/2015-08-06"
      ],
      "text/plain": [
       "<IPython.core.display.HTML at 0x1167d5910>"
      ]
     },
     "metadata": {},
     "output_type": "display_data"
    },
    {
     "data": {
      "text/html": [
       "<span style='background-color: blue; color: white'>B 1477215</span> <a href=https://bugs.launchpad.net/bugs/1477215>Remove openstack_version hardcode from fuel-library.spec</a> 2015-07-22/2015-10-12<br>- Confirmed / Medium / kozhukalov / 8.0<br>- [non-release]"
      ],
      "text/plain": [
       "<IPython.core.display.HTML at 0x116e33910>"
      ]
     },
     "metadata": {},
     "output_type": "display_data"
    },
    {
     "data": {
      "text/html": [
       "<span style='background-color: blue; color: white'>B 1477352</span> <a href=https://bugs.launchpad.net/bugs/1477352>    Implement the dumping of rabbitMQ definitions</a> 2015-07-23/2015-10-08<br>- Confirmed / Medium / fuel-docs / 8.0<br>- [fuel-library]"
      ],
      "text/plain": [
       "<IPython.core.display.HTML at 0x118f4e390>"
      ]
     },
     "metadata": {},
     "output_type": "display_data"
    },
    {
     "data": {
      "text/html": [
       "- <span style='background-color: lightgreen; color: black'>R 132967</span> stackforge/fuel-library master MERGED <a href='https://review.openstack.org/132967'>Implement the dumping of rabbitMQ definitions</a> Stanislav Makar 2014-11-06/2015-07-23"
      ],
      "text/plain": [
       "<IPython.core.display.HTML at 0x116e4bb10>"
      ]
     },
     "metadata": {},
     "output_type": "display_data"
    },
    {
     "data": {
      "text/html": [
       "<span style='background-color: blue; color: white'>B 1477694</span> <a href=https://bugs.launchpad.net/bugs/1477694>Need create sanity tests for erratum.yaml</a> 2015-07-23/<span style='background-color: red; color: white'>2015-08-31</span><br>- In Progress / Medium / vrovachev / 8.0<br>- []"
      ],
      "text/plain": [
       "<IPython.core.display.HTML at 0x10f7dac90>"
      ]
     },
     "metadata": {},
     "output_type": "display_data"
    },
    {
     "data": {
      "text/html": [
       "- <span style='background-color: lightgreen; color: black'>R 9837</span> tools/sustaining master MERGED <a href='https://review.fuel-infra.org/9837'>Add python script for validation erratum files Closes-Bug: #1477694</a> Vadim Rovachev 2015-07-24/2015-07-24"
      ],
      "text/plain": [
       "<IPython.core.display.HTML at 0x113dfb8d0>"
      ]
     },
     "metadata": {},
     "output_type": "display_data"
    },
    {
     "data": {
      "text/html": [
       "- <a href='https://review.fuel-infra.org/9828'>https://review.fuel-infra.org/9828</a>"
      ],
      "text/plain": [
       "<IPython.core.display.HTML at 0x113dfbb90>"
      ]
     },
     "metadata": {},
     "output_type": "display_data"
    },
    {
     "data": {
      "text/html": [
       "- <span style='background-color: lightgreen; color: black'>R 9836</span> fuel-infra/jenkins-jobs master MERGED <a href='https://review.fuel-infra.org/9836'>Add new job for erratum files validation</a> Vadim Rovachev 2015-07-24/2015-07-24"
      ],
      "text/plain": [
       "<IPython.core.display.HTML at 0x113dfb310>"
      ]
     },
     "metadata": {},
     "output_type": "display_data"
    },
    {
     "data": {
      "text/html": [
       "- <a href='https://review.fuel-infra.org/9835'>https://review.fuel-infra.org/9835</a>"
      ],
      "text/plain": [
       "<IPython.core.display.HTML at 0x10f7da350>"
      ]
     },
     "metadata": {},
     "output_type": "display_data"
    },
    {
     "data": {
      "text/html": [
       "<span style='background-color: blue; color: white'>B 1477967</span> <a href=https://bugs.launchpad.net/bugs/1477967>Replace deprecated parameter with actual ones in OpenStack configs</a> 2015-07-24/2015-10-07<br>- In Progress / Medium / mos-puppet / 8.0<br>- []"
      ],
      "text/plain": [
       "<IPython.core.display.HTML at 0x113400110>"
      ]
     },
     "metadata": {},
     "output_type": "display_data"
    },
    {
     "data": {
      "text/html": [
       "- <span style='background-color: lightgreen; color: black'>R 206983</span> stackforge/fuel-library master MERGED <a href='https://review.openstack.org/206983'>Remove deprecated parameter stack_user_domain</a> Denis Egorenko 2015-07-29/2015-08-03"
      ],
      "text/plain": [
       "<IPython.core.display.HTML at 0x1134035d0>"
      ]
     },
     "metadata": {},
     "output_type": "display_data"
    },
    {
     "data": {
      "text/html": [
       "- <span style='background-color: lightgreen; color: black'>R 207381</span> stackforge/fuel-library master MERGED <a href='https://review.openstack.org/207381'>Remove deprecated options for Neutron</a> Sergey Kolekonov 2015-07-30/2015-08-06"
      ],
      "text/plain": [
       "<IPython.core.display.HTML at 0x113403950>"
      ]
     },
     "metadata": {},
     "output_type": "display_data"
    },
    {
     "data": {
      "text/html": [
       "- <span style='background-color: lightgreen; color: black'>R 207088</span> openstack/puppet-neutron master MERGED <a href='https://review.openstack.org/207088'>Unset deprecated parameter use_namespaces by default</a> Sergey Kolekonov 2015-07-29/2015-09-04"
      ],
      "text/plain": [
       "<IPython.core.display.HTML at 0x113403c10>"
      ]
     },
     "metadata": {},
     "output_type": "display_data"
    },
    {
     "data": {
      "text/html": [
       "- <span style='background-color: lightgreen; color: black'>R 206121</span> stackforge/fuel-library master MERGED <a href='https://review.openstack.org/206121'>replace deprecated parameters</a> Vasyl Saienko 2015-07-27/2015-08-03"
      ],
      "text/plain": [
       "<IPython.core.display.HTML at 0x113403990>"
      ]
     },
     "metadata": {},
     "output_type": "display_data"
    },
    {
     "data": {
      "text/html": [
       "- <span style='background-color: lightgreen; color: black'>R 206977</span> stackforge/fuel-library master MERGED <a href='https://review.openstack.org/206977'>Update deprecated Glance parameters</a> Denis Egorenko 2015-07-29/2015-08-03"
      ],
      "text/plain": [
       "<IPython.core.display.HTML at 0x1134030d0>"
      ]
     },
     "metadata": {},
     "output_type": "display_data"
    },
    {
     "data": {
      "text/html": [
       "- <span style='background-color: lightgreen; color: black'>R 9946</span> openstack-build/glance-build openstack-ci/fuel-7.0/2015.1.0 MERGED <a href='https://review.fuel-infra.org/9946'>Remove .conf files with deprecated parameters</a> Mikhail Ivanov 2015-07-29/2015-07-31"
      ],
      "text/plain": [
       "<IPython.core.display.HTML at 0x113403a90>"
      ]
     },
     "metadata": {},
     "output_type": "display_data"
    },
    {
     "data": {
      "text/html": [
       "- <span style='background-color: lightgreen; color: black'>R 206351</span> stackforge/fuel-library master MERGED <a href='https://review.openstack.org/206351'>replace keystone deprecated parameters</a> Vasyl Saienko 2015-07-28/2015-08-03"
      ],
      "text/plain": [
       "<IPython.core.display.HTML at 0x113403a10>"
      ]
     },
     "metadata": {},
     "output_type": "display_data"
    },
    {
     "data": {
      "text/html": [
       "<span style='background-color: blue; color: white'>B 1478020</span> <a href=https://bugs.launchpad.net/bugs/1478020>Reset env reboots nodes twice</a> 2015-07-24/2015-08-03<br>- Confirmed / Medium / fuel-python / 8.0<br>- []"
      ],
      "text/plain": [
       "<IPython.core.display.HTML at 0x10ec428d0>"
      ]
     },
     "metadata": {},
     "output_type": "display_data"
    },
    {
     "data": {
      "text/html": [
       "<span style='background-color: blue; color: white'>B 1478304</span> <a href=https://bugs.launchpad.net/bugs/1478304>[fuel-docs] Incorrect commands at Enable/Disable Galera Cluster Autorebuild Mechanism</a> 2015-07-26/2015-10-08<br>- Confirmed / Medium / fuel-docs / 8.0<br>- []"
      ],
      "text/plain": [
       "<IPython.core.display.HTML at 0x113dfb850>"
      ]
     },
     "metadata": {},
     "output_type": "display_data"
    },
    {
     "data": {
      "text/html": [
       "<span style='background-color: blue; color: white'>B 1478554</span> <a href=https://bugs.launchpad.net/bugs/1478554>Detached  characters at the right side appears in fuel menu when notification about default keystone password uage appears</a> 2015-07-27/2015-10-08<br>- Confirmed / Medium / fuel-python / 8.0<br>- [low-hanging-fruit]"
      ],
      "text/plain": [
       "<IPython.core.display.HTML at 0x116e4b450>"
      ]
     },
     "metadata": {},
     "output_type": "display_data"
    },
    {
     "data": {
      "text/html": [
       "<span style='background-color: blue; color: white'>B 1478854</span> <a href=https://bugs.launchpad.net/bugs/1478854>    Add 'compute-vmware' granular deployment task</a> 2015-07-28/2015-10-08<br>- Confirmed / Medium / fuel-docs / 8.0<br>- [fuel-library]"
      ],
      "text/plain": [
       "<IPython.core.display.HTML at 0x113c5b610>"
      ]
     },
     "metadata": {},
     "output_type": "display_data"
    },
    {
     "data": {
      "text/html": [
       "- <span style='background-color: lightgreen; color: black'>R 196114</span> stackforge/fuel-library master MERGED <a href='https://review.openstack.org/196114'>Add 'compute-vmware' granular deployment task</a> Igor Zinovik 2015-06-26/2015-07-28"
      ],
      "text/plain": [
       "<IPython.core.display.HTML at 0x11001ce90>"
      ]
     },
     "metadata": {},
     "output_type": "display_data"
    },
    {
     "data": {
      "text/html": [
       "<span style='background-color: blue; color: white'>B 1478914</span> <a href=https://bugs.launchpad.net/bugs/1478914>[Reduced footprint] It is possible to assign VM spawned in env#1 to env#2</a> 2015-07-28/2015-10-12<br>- Confirmed / Medium / zynzel / 8.0<br>- [tricky]"
      ],
      "text/plain": [
       "<IPython.core.display.HTML at 0x10cfde150>"
      ]
     },
     "metadata": {},
     "output_type": "display_data"
    },
    {
     "data": {
      "text/html": [
       "<span style='background-color: blue; color: white'>B 1478924</span> <a href=https://bugs.launchpad.net/bugs/1478924>Nailgun API should validate Neutron segmentation type</a> 2015-07-28/2015-08-06<br>- Confirmed / Medium / fuel-python / 8.0<br>- [module-nailgun]"
      ],
      "text/plain": [
       "<IPython.core.display.HTML at 0x113e13650>"
      ]
     },
     "metadata": {},
     "output_type": "display_data"
    },
    {
     "data": {
      "text/html": [
       "<span style='background-color: blue; color: white'>B 1478955</span> <a href=https://bugs.launchpad.net/bugs/1478955>More then 50 nodes are in deploying status</a> 2015-07-28/2015-10-08<br>- Confirmed / Medium / fuel-python / 8.0<br>- [scale tricky]"
      ],
      "text/plain": [
       "<IPython.core.display.HTML at 0x111af6510>"
      ]
     },
     "metadata": {},
     "output_type": "display_data"
    },
    {
     "data": {
      "text/html": [
       "<span style='background-color: blue; color: white'>B 1478972</span> <a href=https://bugs.launchpad.net/bugs/1478972>    Do not land /boot on NVMe disks</a> 2015-07-28/2015-10-08<br>- Confirmed / Medium / fuel-docs / 8.0<br>- [fuel-agent]"
      ],
      "text/plain": [
       "<IPython.core.display.HTML at 0x118f4eed0>"
      ]
     },
     "metadata": {},
     "output_type": "display_data"
    },
    {
     "data": {
      "text/html": [
       "- <span style='background-color: lightgreen; color: black'>R 205193</span> stackforge/fuel-agent master MERGED <a href='https://review.openstack.org/205193'>Do not land /boot on NVMe disks</a> Aleksandr Gordeev 2015-07-23/2015-07-28"
      ],
      "text/plain": [
       "<IPython.core.display.HTML at 0x10c7db350>"
      ]
     },
     "metadata": {},
     "output_type": "display_data"
    },
    {
     "data": {
      "text/html": [
       "<span style='background-color: blue; color: white'>B 1479075</span> <a href=https://bugs.launchpad.net/bugs/1479075>ubuntu_installed_debs.txt is not wide enough</a> 2015-07-28/2015-08-03<br>- Confirmed / Medium / fuel-python / 8.0<br>- [low-hanging-fruit]"
      ],
      "text/plain": [
       "<IPython.core.display.HTML at 0x1167d5c90>"
      ]
     },
     "metadata": {},
     "output_type": "display_data"
    },
    {
     "data": {
      "text/html": [
       "<span style='background-color: blue; color: white'>B 1479317</span> <a href=https://bugs.launchpad.net/bugs/1479317>keystone::client should install python-openstackclient</a> 2015-07-29/2015-08-14<br>- Triaged / Medium / mos-puppet / 8.0<br>- [low-hanging-fruit]"
      ],
      "text/plain": [
       "<IPython.core.display.HTML at 0x10ec421d0>"
      ]
     },
     "metadata": {},
     "output_type": "display_data"
    },
    {
     "data": {
      "text/html": [
       "- <span style='background-color: lightgreen; color: black'>R 209965</span> openstack/puppet-keystone master MERGED <a href='https://review.openstack.org/209965'>Move openstackclient install to keystone::client</a> Matthew Mosesohn 2015-08-06/2015-08-13"
      ],
      "text/plain": [
       "<IPython.core.display.HTML at 0x10f7da610>"
      ]
     },
     "metadata": {},
     "output_type": "display_data"
    },
    {
     "data": {
      "text/html": [
       "<span style='background-color: blue; color: white'>B 1479366</span> <a href=https://bugs.launchpad.net/bugs/1479366>    Allow changing/deletion of template for any cluster state</a> 2015-07-29/2015-10-08<br>- Confirmed / Medium / fuel-docs / 8.0<br>- [fuel-web]"
      ],
      "text/plain": [
       "<IPython.core.display.HTML at 0x113400b50>"
      ]
     },
     "metadata": {},
     "output_type": "display_data"
    },
    {
     "data": {
      "text/html": [
       "- <span style='background-color: lightgreen; color: black'>R 206584</span> stackforge/fuel-web master MERGED <a href='https://review.openstack.org/206584'>Allow changing/deletion of template for any cluster state</a> Aleksey Kasatkin 2015-07-28/2015-07-29"
      ],
      "text/plain": [
       "<IPython.core.display.HTML at 0x113403a10>"
      ]
     },
     "metadata": {},
     "output_type": "display_data"
    },
    {
     "data": {
      "text/html": [
       "<span style='background-color: blue; color: white'>B 1479853</span> <a href=https://bugs.launchpad.net/bugs/1479853>mysql error \"[Warning] WSREP: Failed to report last committed ... (Interrupted system call)\"</a> 2015-07-30/2015-10-12<br>- Confirmed / Medium / sgolovatiuk / 8.0<br>- [scale]"
      ],
      "text/plain": [
       "<IPython.core.display.HTML at 0x11021b9d0>"
      ]
     },
     "metadata": {},
     "output_type": "display_data"
    },
    {
     "data": {
      "text/html": [
       "<span style='background-color: blue; color: white'>B 1480368</span> <a href=https://bugs.launchpad.net/bugs/1480368>Not all commands in fuel upgrade script has stderr redirection</a> 2015-07-31/2015-10-08<br>- Confirmed / Medium / fuel-python / 8.0<br>- [feature-upgrade low-hanging-fruit]"
      ],
      "text/plain": [
       "<IPython.core.display.HTML at 0x113403450>"
      ]
     },
     "metadata": {},
     "output_type": "display_data"
    },
    {
     "data": {
      "text/html": [
       "<span style='background-color: blue; color: white'>B 1480986</span> <a href=https://bugs.launchpad.net/bugs/1480986>Need verify affected packages in sanity tests for erratum.yaml</a> 2015-08-03/<span style='background-color: red; color: white'>2015-08-31</span><br>- Confirmed / Medium / vrovachev / 8.0<br>- []"
      ],
      "text/plain": [
       "<IPython.core.display.HTML at 0x113dfb2d0>"
      ]
     },
     "metadata": {},
     "output_type": "display_data"
    },
    {
     "data": {
      "text/html": [
       "- <span style='background-color: lightgreen; color: black'>R 10052</span> tools/sustaining master MERGED <a href='https://review.fuel-infra.org/10052'>Add check for affected packages for erratum file</a> Vadim Rovachev 2015-08-03/2015-08-12"
      ],
      "text/plain": [
       "<IPython.core.display.HTML at 0x116e4b710>"
      ]
     },
     "metadata": {},
     "output_type": "display_data"
    },
    {
     "data": {
      "text/html": [
       "<span style='background-color: blue; color: white'>B 1481214</span> <a href=https://bugs.launchpad.net/bugs/1481214>[mos-infra] Update cacti configuration</a> 2015-08-04/2015-08-11<br>- Confirmed / Medium / fuel-ci / 8.0<br>- [fuel-ci]"
      ],
      "text/plain": [
       "<IPython.core.display.HTML at 0x116e4b290>"
      ]
     },
     "metadata": {},
     "output_type": "display_data"
    },
    {
     "data": {
      "text/html": [
       "<span style='background-color: blue; color: white'>B 1481318</span> <a href=https://bugs.launchpad.net/bugs/1481318>[mos-infra] Add per-branch charts to http://status.mosi.mirantis.net/zuul/</a> 2015-08-04/2015-08-10<br>- Confirmed / Medium / fuel-ci / 8.0<br>- [fuel-ci]"
      ],
      "text/plain": [
       "<IPython.core.display.HTML at 0x118f4e510>"
      ]
     },
     "metadata": {},
     "output_type": "display_data"
    },
    {
     "data": {
      "text/html": [
       "<span style='background-color: blue; color: white'>B 1481678</span> <a href=https://bugs.launchpad.net/bugs/1481678>Need to move data loading to static fetchData method for VMware tab</a> 2015-08-05/2015-10-12<br>- Confirmed / Medium / azemlyanov / 8.0<br>- [ui]"
      ],
      "text/plain": [
       "<IPython.core.display.HTML at 0x114b8b4d0>"
      ]
     },
     "metadata": {},
     "output_type": "display_data"
    },
    {
     "data": {
      "text/html": [
       "- <span style='background-color: lightgreen; color: black'>R 197077</span> stackforge/fuel-web master ABANDONED <a href='https://review.openstack.org/197077'>Port VMware tab to fetchData method</a> Anton Zemlyanov 2015-06-30/2015-09-15"
      ],
      "text/plain": [
       "<IPython.core.display.HTML at 0x1167d5dd0>"
      ]
     },
     "metadata": {},
     "output_type": "display_data"
    },
    {
     "data": {
      "text/html": [
       "<span style='background-color: blue; color: white'>B 1482192</span> <a href=https://bugs.launchpad.net/bugs/1482192>missed option lock_path in cinder.conf breaks cinder-volume service</a> 2015-08-06/2015-10-12<br>- Confirmed / Medium / mos-cinder / 8.0<br>- [cinder]"
      ],
      "text/plain": [
       "<IPython.core.display.HTML at 0x113e13a50>"
      ]
     },
     "metadata": {},
     "output_type": "display_data"
    },
    {
     "data": {
      "text/html": [
       "- <span style='background-color: lightgreen; color: black'>R 209945</span> stackforge/fuel-library master MERGED <a href='https://review.openstack.org/209945'>add lock_path option for cinder</a> Vasyl Saienko 2015-08-06/2015-08-06"
      ],
      "text/plain": [
       "<IPython.core.display.HTML at 0x111b21e90>"
      ]
     },
     "metadata": {},
     "output_type": "display_data"
    },
    {
     "data": {
      "text/html": [
       "- <span style='background-color: lightgreen; color: black'>R 209216</span> openstack/puppet-cinder master MERGED <a href='https://review.openstack.org/209216'>Add lock_path to cinder config</a> Clayton O'Neill 2015-08-04/2015-08-06"
      ],
      "text/plain": [
       "<IPython.core.display.HTML at 0x111b211d0>"
      ]
     },
     "metadata": {},
     "output_type": "display_data"
    },
    {
     "data": {
      "text/html": [
       "<span style='background-color: blue; color: white'>B 1482215</span> <a href=https://bugs.launchpad.net/bugs/1482215>Syslog priority is broken for Ceph logs</a> 2015-08-06/2015-10-12<br>- Confirmed / Medium / pzhurba / 8.0<br>- [logging]"
      ],
      "text/plain": [
       "<IPython.core.display.HTML at 0x113e13290>"
      ]
     },
     "metadata": {},
     "output_type": "display_data"
    },
    {
     "data": {
      "text/html": [
       "<span style='background-color: blue; color: white'>B 1482639</span> <a href=https://bugs.launchpad.net/bugs/1482639>Need to limit node label key and value strings with 100 characters</a> 2015-08-07/2015-10-08<br>- Confirmed / Medium / fuel-python / 8.0<br>- [low-hanging-fruit module-client]"
      ],
      "text/plain": [
       "<IPython.core.display.HTML at 0x118f4e950>"
      ]
     },
     "metadata": {},
     "output_type": "display_data"
    },
    {
     "data": {
      "text/html": [
       "<span style='background-color: blue; color: white'>B 1483249</span> <a href=https://bugs.launchpad.net/bugs/1483249>rabbitmq epmd process running from user 'root'</a> 2015-08-10/2015-10-12<br>- In Progress / Medium / raytrac3r / 8.0<br>- []"
      ],
      "text/plain": [
       "<IPython.core.display.HTML at 0x1167d55d0>"
      ]
     },
     "metadata": {},
     "output_type": "display_data"
    },
    {
     "data": {
      "text/html": [
       "- <span style='background-color: lightgreen; color: black'>R 230479</span> stackforge/fuel-library master NEW <a href='https://review.openstack.org/230479'>Avoid starting rabbitmq server as root</a> Matthew Mosesohn 2015-10-02/2015-10-14"
      ],
      "text/plain": [
       "<IPython.core.display.HTML at 0x116e4bf10>"
      ]
     },
     "metadata": {},
     "output_type": "display_data"
    },
    {
     "data": {
      "text/html": [
       "<span style='background-color: blue; color: white'>B 1483261</span> <a href=https://bugs.launchpad.net/bugs/1483261>Inconsistency in closing renaming control in Fuel UI</a> 2015-08-10/2015-10-13<br>- In Progress / Medium / astepanchuk / 8.0<br>- [low-hanging-fruit ui]"
      ],
      "text/plain": [
       "<IPython.core.display.HTML at 0x10ec424d0>"
      ]
     },
     "metadata": {},
     "output_type": "display_data"
    },
    {
     "data": {
      "text/html": [
       "- <span style='background-color: lightgreen; color: black'>R 234059</span> stackforge/fuel-web master NEW <a href='https://review.openstack.org/234059'>Close renaming control on outer click  - added renamingCloseMixin</a> Alexandra Morozova 2015-10-13/2015-10-14"
      ],
      "text/plain": [
       "<IPython.core.display.HTML at 0x1167d5b90>"
      ]
     },
     "metadata": {},
     "output_type": "display_data"
    },
    {
     "data": {
      "text/html": [
       "<span style='background-color: blue; color: white'>B 1483365</span> <a href=https://bugs.launchpad.net/bugs/1483365>cli. After killing task, cli respond with empty  dict {}</a> 2015-08-10/2015-08-11<br>- Confirmed / Medium / fuel-python / 8.0<br>- [module-client]"
      ],
      "text/plain": [
       "<IPython.core.display.HTML at 0x10f7da190>"
      ]
     },
     "metadata": {},
     "output_type": "display_data"
    },
    {
     "data": {
      "text/html": [
       "<span style='background-color: blue; color: white'>B 1483571</span> <a href=https://bugs.launchpad.net/bugs/1483571>Fuel CLI task --delete affects only for first entry in list</a> 2015-08-11/2015-08-11<br>- Confirmed / Medium / fuel-python / 8.0<br>- []"
      ],
      "text/plain": [
       "<IPython.core.display.HTML at 0x113403c10>"
      ]
     },
     "metadata": {},
     "output_type": "display_data"
    },
    {
     "data": {
      "text/html": [
       "<span style='background-color: blue; color: white'>B 1483651</span> <a href=https://bugs.launchpad.net/bugs/1483651>User should be able to save networking changes during verification</a> 2015-08-11/<span style='background-color: red; color: white'>2015-10-08</span><br>- In Progress / Medium / kpimenova / 8.0<br>- [low-hanging-fruit ui]"
      ],
      "text/plain": [
       "<IPython.core.display.HTML at 0x10f7b1fd0>"
      ]
     },
     "metadata": {},
     "output_type": "display_data"
    },
    {
     "data": {
      "text/html": [
       "- <span style='background-color: lightgreen; color: black'>R 232499</span> stackforge/fuel-web master NEW <a href='https://review.openstack.org/232499'>User is able to save networking changes during verification</a> Kate Pimenova 2015-10-08/<span style='background-color: red; color: white'>2015-10-09</span>"
      ],
      "text/plain": [
       "<IPython.core.display.HTML at 0x113403810>"
      ]
     },
     "metadata": {},
     "output_type": "display_data"
    },
    {
     "data": {
      "text/html": [
       "<span style='background-color: blue; color: white'>B 1483704</span> <a href=https://bugs.launchpad.net/bugs/1483704>Network validation results are visible on Networks tab even after changes discarding</a> 2015-08-11/2015-08-11<br>- Confirmed / Medium / fuel-ui / 8.0<br>- [ui]"
      ],
      "text/plain": [
       "<IPython.core.display.HTML at 0x113403e90>"
      ]
     },
     "metadata": {},
     "output_type": "display_data"
    },
    {
     "data": {
      "text/html": [
       "<span style='background-color: blue; color: white'>B 1483773</span> <a href=https://bugs.launchpad.net/bugs/1483773>[nailgun]Clone environment doesn't clone environment 'ip_ranges' settings properly</a> 2015-08-11/<span style='background-color: red; color: white'>2015-08-11</span><br>- Confirmed / Medium / akscram / 8.0<br>- []"
      ],
      "text/plain": [
       "<IPython.core.display.HTML at 0x116e4b690>"
      ]
     },
     "metadata": {},
     "output_type": "display_data"
    },
    {
     "data": {
      "text/html": [
       "- <span style='background-color: lightgreen; color: black'>R 209892</span> stackforge/fuel-web master MERGED <a href='https://review.openstack.org/209892'>Allow modification of NetworkGroup.meta</a> Ivan Kliuk 2015-08-06/2015-08-14"
      ],
      "text/plain": [
       "<IPython.core.display.HTML at 0x113dfb690>"
      ]
     },
     "metadata": {},
     "output_type": "display_data"
    },
    {
     "data": {
      "text/html": [
       "<span style='background-color: blue; color: white'>B 1484480</span> <a href=https://bugs.launchpad.net/bugs/1484480>[fuel-devops] Devops classes should implement custom __repr__ method</a> 2015-08-13/2015-08-13<br>- Confirmed / Medium / fuel-qa / 8.0<br>- [fuel-devops]"
      ],
      "text/plain": [
       "<IPython.core.display.HTML at 0x113b58b10>"
      ]
     },
     "metadata": {},
     "output_type": "display_data"
    },
    {
     "data": {
      "text/html": [
       "<span style='background-color: blue; color: white'>B 1484591</span> <a href=https://bugs.launchpad.net/bugs/1484591>Problem with dos.py parsing in 7.0.mos-new.deploy-deb jobs</a> 2015-08-13/2015-08-13<br>- Confirmed / Medium / fuel-ci / 8.0<br>- [fuel-ci]"
      ],
      "text/plain": [
       "<IPython.core.display.HTML at 0x11001ce90>"
      ]
     },
     "metadata": {},
     "output_type": "display_data"
    },
    {
     "data": {
      "text/html": [
       "<span style='background-color: blue; color: white'>B 1484929</span> <a href=https://bugs.launchpad.net/bugs/1484929>Weak validation for network group update and delete</a> 2015-08-14/2015-08-28<br>- Confirmed / Medium / fuel-python / 8.0<br>- [feature-advanced-networking module-nailgun]"
      ],
      "text/plain": [
       "<IPython.core.display.HTML at 0x114b8b650>"
      ]
     },
     "metadata": {},
     "output_type": "display_data"
    },
    {
     "data": {
      "text/html": [
       "- <span style='background-color: lightgreen; color: black'>R 214932</span> stackforge/fuel-web master MERGED <a href='https://review.openstack.org/214932'>Make strengthened validation for NetworkGroupHandler</a> Elena Kosareva 2015-08-20/2015-08-25"
      ],
      "text/plain": [
       "<IPython.core.display.HTML at 0x113e13c10>"
      ]
     },
     "metadata": {},
     "output_type": "display_data"
    },
    {
     "data": {
      "text/html": [
       "<span style='background-color: blue; color: white'>B 1484978</span> <a href=https://bugs.launchpad.net/bugs/1484978>[CI] Please add 5 servers to Jenkins' as slaves</a> 2015-08-14/<span style='background-color: red; color: white'>2015-09-15</span><br>- Confirmed / Medium / afedorova / 8.0<br>- [fuel-ci non-release]"
      ],
      "text/plain": [
       "<IPython.core.display.HTML at 0x1139adc90>"
      ]
     },
     "metadata": {},
     "output_type": "display_data"
    },
    {
     "data": {
      "text/html": [
       "<span style='background-color: blue; color: white'>B 1485047</span> <a href=https://bugs.launchpad.net/bugs/1485047>Forcing CPU flags makes the guest kernel Oops</a> 2015-08-14/2015-08-17<br>- Confirmed / Medium / fuel-qa / 8.0<br>- []"
      ],
      "text/plain": [
       "<IPython.core.display.HTML at 0x111bf3f50>"
      ]
     },
     "metadata": {},
     "output_type": "display_data"
    },
    {
     "data": {
      "text/html": [
       "<span style='background-color: blue; color: white'>B 1485638</span> <a href=https://bugs.launchpad.net/bugs/1485638>Openstack client puppet provider should retry failed commands</a> 2015-08-17/<span style='background-color: red; color: white'>2015-08-19</span><br>- Confirmed / Medium / myatsenko / 8.0<br>- [puppet]"
      ],
      "text/plain": [
       "<IPython.core.display.HTML at 0x113c5b610>"
      ]
     },
     "metadata": {},
     "output_type": "display_data"
    },
    {
     "data": {
      "text/html": [
       "- <span style='background-color: lightgreen; color: black'>R 214321</span> stackforge/fuel-library master MERGED <a href='https://review.openstack.org/214321'>Increase connection backlogs for apache</a> Alex Schultz 2015-08-18/2015-08-19"
      ],
      "text/plain": [
       "<IPython.core.display.HTML at 0x118f4ed50>"
      ]
     },
     "metadata": {},
     "output_type": "display_data"
    },
    {
     "data": {
      "text/html": [
       "<span style='background-color: blue; color: white'>B 1485652</span> <a href=https://bugs.launchpad.net/bugs/1485652>Nova network available in 7.0 after upgrade from 6.1 with KVM/QEMU through CLI</a> 2015-08-17/2015-10-12<br>- Confirmed / Medium / fuel-python / 8.0<br>- [feature-upgrade nova]"
      ],
      "text/plain": [
       "<IPython.core.display.HTML at 0x118f4e790>"
      ]
     },
     "metadata": {},
     "output_type": "display_data"
    },
    {
     "data": {
      "text/html": [
       "<span style='background-color: blue; color: white'>B 1485997</span> <a href=https://bugs.launchpad.net/bugs/1485997>[IBP] Non-dynamic image</a> 2015-08-18/2015-09-15<br>- Confirmed / Medium / fuel-python / 8.0<br>- [feature-image-based ibp release-notes-done rn7-0]"
      ],
      "text/plain": [
       "<IPython.core.display.HTML at 0x10ec428d0>"
      ]
     },
     "metadata": {},
     "output_type": "display_data"
    },
    {
     "data": {
      "text/html": [
       "- <span style='background-color: lightgreen; color: black'>R 223584</span> stackforge/fuel-docs master MERGED <a href='https://review.openstack.org/223584'>[RN 7.0] Non-dynamic image issue</a> Olga Gusarenko 2015-09-15/2015-09-15"
      ],
      "text/plain": [
       "<IPython.core.display.HTML at 0x11357ded0>"
      ]
     },
     "metadata": {},
     "output_type": "display_data"
    },
    {
     "data": {
      "text/html": [
       "<span style='background-color: blue; color: white'>B 1486056</span> <a href=https://bugs.launchpad.net/bugs/1486056>OSTF fails trying to authenticate to HTTPS horizon</a> 2015-08-18/2015-10-12<br>- Confirmed / Medium / fuel-qa / 8.0<br>- [7.0 ostf release-notes-done]"
      ],
      "text/plain": [
       "<IPython.core.display.HTML at 0x113400490>"
      ]
     },
     "metadata": {},
     "output_type": "display_data"
    },
    {
     "data": {
      "text/html": [
       "- <span style='background-color: lightgreen; color: black'>R 216382</span> stackforge/fuel-ostf master ABANDONED <a href='https://review.openstack.org/216382'>Use ssl settings for horizon tests if enabled</a> Alex Schultz 2015-08-24/2015-09-29"
      ],
      "text/plain": [
       "<IPython.core.display.HTML at 0x10f7da0d0>"
      ]
     },
     "metadata": {},
     "output_type": "display_data"
    },
    {
     "data": {
      "text/html": [
       "- <span style='background-color: lightgreen; color: black'>R 218952</span> stackforge/fuel-ostf master MERGED <a href='https://review.openstack.org/218952'>Disable step auth to horizon over https</a> tatyana-leontovich 2015-08-31/2015-08-31"
      ],
      "text/plain": [
       "<IPython.core.display.HTML at 0x113400690>"
      ]
     },
     "metadata": {},
     "output_type": "display_data"
    },
    {
     "data": {
      "text/html": [
       "- <span style='background-color: lightgreen; color: black'>R 223643</span> stackforge/fuel-docs master MERGED <a href='https://review.openstack.org/223643'>[RN 7.0] OSTF test resolved isuue</a> Maria Zlatkova 2015-09-15/2015-09-16"
      ],
      "text/plain": [
       "<IPython.core.display.HTML at 0x113400490>"
      ]
     },
     "metadata": {},
     "output_type": "display_data"
    },
    {
     "data": {
      "text/html": [
       "<span style='background-color: blue; color: white'>B 1486952</span> <a href=https://bugs.launchpad.net/bugs/1486952>Node label validation issue</a> 2015-08-20/2015-08-20<br>- Confirmed / Medium / fuel-ui / 8.0<br>- [low-hanging-fruit ui]"
      ],
      "text/plain": [
       "<IPython.core.display.HTML at 0x116e4bdd0>"
      ]
     },
     "metadata": {},
     "output_type": "display_data"
    },
    {
     "data": {
      "text/html": [
       "<span style='background-color: blue; color: white'>B 1487019</span> <a href=https://bugs.launchpad.net/bugs/1487019>Range controls broken in IE browser</a> 2015-08-20/2015-08-20<br>- Confirmed / Medium / fuel-ui / 8.0<br>- [ui]"
      ],
      "text/plain": [
       "<IPython.core.display.HTML at 0x113c5b290>"
      ]
     },
     "metadata": {},
     "output_type": "display_data"
    },
    {
     "data": {
      "text/html": [
       "<span style='background-color: blue; color: white'>B 1487030</span> <a href=https://bugs.launchpad.net/bugs/1487030>Timeout during dumping diagnostic snapshot.</a> 2015-08-20/<span style='background-color: red; color: white'>2015-09-25</span><br>- Confirmed / Medium / akostrikov-mirantis / 8.0<br>- [fuel-ci]"
      ],
      "text/plain": [
       "<IPython.core.display.HTML at 0x114b97810>"
      ]
     },
     "metadata": {},
     "output_type": "display_data"
    },
    {
     "data": {
      "text/html": [
       "<span style='background-color: blue; color: white'>B 1487105</span> <a href=https://bugs.launchpad.net/bugs/1487105>Missing `nova-api` logs</a> 2015-08-20/2015-09-24<br>- Confirmed / Medium / fuel-python / 8.0<br>- [low-hanging-fruit ui]"
      ],
      "text/plain": [
       "<IPython.core.display.HTML at 0x1167d55d0>"
      ]
     },
     "metadata": {},
     "output_type": "display_data"
    },
    {
     "data": {
      "text/html": [
       "<span style='background-color: blue; color: white'>B 1487386</span> <a href=https://bugs.launchpad.net/bugs/1487386>    Allow gre along with vxlan segmentation type</a> 2015-08-21/2015-10-08<br>- Confirmed / Medium / fuel-docs / 8.0<br>- [fuel-library]"
      ],
      "text/plain": [
       "<IPython.core.display.HTML at 0x1139ad6d0>"
      ]
     },
     "metadata": {},
     "output_type": "display_data"
    },
    {
     "data": {
      "text/html": [
       "- <span style='background-color: lightgreen; color: black'>R 214129</span> stackforge/fuel-library master MERGED <a href='https://review.openstack.org/214129'>Allow gre along with vxlan segmentation type</a> Sergey Kolekonov 2015-08-18/2015-08-21"
      ],
      "text/plain": [
       "<IPython.core.display.HTML at 0x1139adb10>"
      ]
     },
     "metadata": {},
     "output_type": "display_data"
    },
    {
     "data": {
      "text/html": [
       "<span style='background-color: blue; color: white'>B 1487470</span> <a href=https://bugs.launchpad.net/bugs/1487470>Need to use more clear statuses for Tempest tests cases in TestRail</a> 2015-08-21/<span style='background-color: red; color: white'>2015-10-08</span><br>- In Progress / Medium / tnurlygayanov / 8.0<br>- [non-release testrail]"
      ],
      "text/plain": [
       "<IPython.core.display.HTML at 0x11021bf50>"
      ]
     },
     "metadata": {},
     "output_type": "display_data"
    },
    {
     "data": {
      "text/html": [
       "- <a href='https://review.fuel-infra.org/11082'>https://review.fuel-infra.org/11082</a>"
      ],
      "text/plain": [
       "<IPython.core.display.HTML at 0x11021b410>"
      ]
     },
     "metadata": {},
     "output_type": "display_data"
    },
    {
     "data": {
      "text/html": [
       "- <a href='https://review.fuel-infra.org/10642'>https://review.fuel-infra.org/10642</a>"
      ],
      "text/plain": [
       "<IPython.core.display.HTML at 0x11021bcd0>"
      ]
     },
     "metadata": {},
     "output_type": "display_data"
    },
    {
     "data": {
      "text/html": [
       "- <span style='background-color: lightgreen; color: black'>R 215631</span> stackforge/fuel-qa master MERGED <a href='https://review.openstack.org/215631'>Fixed logic for tempest tests reporting</a> Timur Nurlygayanov 2015-08-21/2015-08-26"
      ],
      "text/plain": [
       "<IPython.core.display.HTML at 0x11336db90>"
      ]
     },
     "metadata": {},
     "output_type": "display_data"
    },
    {
     "data": {
      "text/html": [
       "<span style='background-color: blue; color: white'>B 1489055</span> <a href=https://bugs.launchpad.net/bugs/1489055>The maximum number of DNS servers should be 3</a> 2015-08-26/2015-10-12<br>- Confirmed / Medium / fuel-python / 8.0<br>- [low-hanging-fruit ui]"
      ],
      "text/plain": [
       "<IPython.core.display.HTML at 0x1139adb90>"
      ]
     },
     "metadata": {},
     "output_type": "display_data"
    },
    {
     "data": {
      "text/html": [
       "<span style='background-color: blue; color: white'>B 1489470</span> <a href=https://bugs.launchpad.net/bugs/1489470>Move Perestroika code to stackforge/perestroika git repository</a> 2015-08-27/<span style='background-color: red; color: white'>2015-09-29</span><br>- Triaged / Medium / skulanov / 8.0<br>- []"
      ],
      "text/plain": [
       "<IPython.core.display.HTML at 0x1139ad290>"
      ]
     },
     "metadata": {},
     "output_type": "display_data"
    },
    {
     "data": {
      "text/html": [
       "<span style='background-color: blue; color: white'>B 1489506</span> <a href=https://bugs.launchpad.net/bugs/1489506>Re-work fuel-createmirror spec</a> 2015-08-27/<span style='background-color: red; color: white'>2015-09-22</span><br>- Triaged / Medium / kozhukalov / 8.0<br>- [fuel-createmirror]"
      ],
      "text/plain": [
       "<IPython.core.display.HTML at 0x113be0bd0>"
      ]
     },
     "metadata": {},
     "output_type": "display_data"
    },
    {
     "data": {
      "text/html": [
       "<span style='background-color: blue; color: white'>B 1489556</span> <a href=https://bugs.launchpad.net/bugs/1489556>Align config files in fuel-createmirror </a> 2015-08-27/2015-08-28<br>- Triaged / Medium / fuel-build / 8.0<br>- []"
      ],
      "text/plain": [
       "<IPython.core.display.HTML at 0x118f4e790>"
      ]
     },
     "metadata": {},
     "output_type": "display_data"
    },
    {
     "data": {
      "text/html": [
       "<span style='background-color: blue; color: white'>B 1489663</span> <a href=https://bugs.launchpad.net/bugs/1489663>Change the PDF title page</a> 2015-08-27/<span style='background-color: red; color: white'>2015-10-08</span><br>- Confirmed / Medium / skarslioglu / 8.0<br>- []"
      ],
      "text/plain": [
       "<IPython.core.display.HTML at 0x10ec42450>"
      ]
     },
     "metadata": {},
     "output_type": "display_data"
    },
    {
     "data": {
      "text/html": [
       "<span style='background-color: blue; color: white'>B 1490131</span> <a href=https://bugs.launchpad.net/bugs/1490131>increase logging verbosity for librarian-puppet downloads</a> 2015-08-29/2015-10-14<br>- Confirmed / Medium / kgalanov / 8.0<br>- [non-release]"
      ],
      "text/plain": [
       "<IPython.core.display.HTML at 0x113dfb4d0>"
      ]
     },
     "metadata": {},
     "output_type": "display_data"
    },
    {
     "data": {
      "text/html": [
       "<span style='background-color: blue; color: white'>B 1490550</span> <a href=https://bugs.launchpad.net/bugs/1490550>Load defaults button didn't affect range control on Node Disks screen</a> 2015-08-31/2015-08-31<br>- Confirmed / Medium / fuel-ui / 8.0<br>- [ui]"
      ],
      "text/plain": [
       "<IPython.core.display.HTML at 0x10f7b1c90>"
      ]
     },
     "metadata": {},
     "output_type": "display_data"
    },
    {
     "data": {
      "text/html": [
       "<span style='background-color: blue; color: white'>B 1490595</span> <a href=https://bugs.launchpad.net/bugs/1490595>Floating ip assigning failed with Error: (OperationalError) (1213, 'Deadlock found when trying to get lock; try restarting transaction') None None (HTTP 400)</a> 2015-08-31/2015-10-12<br>- Triaged / Medium / fuel-library / 8.0<br>- [galera]"
      ],
      "text/plain": [
       "<IPython.core.display.HTML at 0x116e4b890>"
      ]
     },
     "metadata": {},
     "output_type": "display_data"
    },
    {
     "data": {
      "text/html": [
       "<span style='background-color: blue; color: white'>B 1490949</span> <a href=https://bugs.launchpad.net/bugs/1490949>Strange output of 'node label set' command</a> 2015-09-01/2015-09-25<br>- Confirmed / Medium / fuel-python / 8.0<br>- [module-client]"
      ],
      "text/plain": [
       "<IPython.core.display.HTML at 0x113b58ed0>"
      ]
     },
     "metadata": {},
     "output_type": "display_data"
    },
    {
     "data": {
      "text/html": [
       "<span style='background-color: blue; color: white'>B 1491019</span> <a href=https://bugs.launchpad.net/bugs/1491019>I think user should be able to add new nodes even if there are selected nodes</a> 2015-09-01/2015-09-15<br>- Confirmed / Medium / fuel-ui / 8.0<br>- [ui]"
      ],
      "text/plain": [
       "<IPython.core.display.HTML at 0x113c5b510>"
      ]
     },
     "metadata": {},
     "output_type": "display_data"
    },
    {
     "data": {
      "text/html": [
       "<span style='background-color: blue; color: white'>B 1491294</span> <a href=https://bugs.launchpad.net/bugs/1491294>[OSTF] Need to refactor cloudvalidation test</a> 2015-09-02/2015-09-03<br>- Confirmed / Medium / fuel-qa / 8.0<br>- [module-ostf]"
      ],
      "text/plain": [
       "<IPython.core.display.HTML at 0x1167d5310>"
      ]
     },
     "metadata": {},
     "output_type": "display_data"
    },
    {
     "data": {
      "text/html": [
       "<span style='background-color: blue; color: white'>B 1491364</span> <a href=https://bugs.launchpad.net/bugs/1491364>[Reduced Footprint] Inconsistent state of vm after reset environment</a> 2015-09-02/<span style='background-color: red; color: white'>2015-10-09</span><br>- In Progress / Medium / cutwater / 8.0<br>- [module-nailgun]"
      ],
      "text/plain": [
       "<IPython.core.display.HTML at 0x1139add10>"
      ]
     },
     "metadata": {},
     "output_type": "display_data"
    },
    {
     "data": {
      "text/html": [
       "- <span style='background-color: lightgreen; color: black'>R 232936</span> stackforge/fuel-web master NEW <a href='https://review.openstack.org/232936'>Update VMs in the database on cluster reset.</a> Alexander Saprykin 2015-10-09/<span style='background-color: red; color: white'>2015-10-09</span>"
      ],
      "text/plain": [
       "<IPython.core.display.HTML at 0x113df1fd0>"
      ]
     },
     "metadata": {},
     "output_type": "display_data"
    },
    {
     "data": {
      "text/html": [
       "<span style='background-color: blue; color: white'>B 1491366</span> <a href=https://bugs.launchpad.net/bugs/1491366>Nodes aren't back online after reverting snapshot with upgraded master.</a> 2015-09-02/2015-09-24<br>- Confirmed / Medium / fuel-qa / 8.0<br>- [non-release]"
      ],
      "text/plain": [
       "<IPython.core.display.HTML at 0x113403fd0>"
      ]
     },
     "metadata": {},
     "output_type": "display_data"
    },
    {
     "data": {
      "text/html": [
       "<span style='background-color: blue; color: white'>B 1491368</span> <a href=https://bugs.launchpad.net/bugs/1491368>    Increase minimal requirement for MySQL partition</a> 2015-09-02/2015-10-08<br>- Confirmed / Medium / fuel-docs / 8.0<br>- [fuel-web]"
      ],
      "text/plain": [
       "<IPython.core.display.HTML at 0x10cfde150>"
      ]
     },
     "metadata": {},
     "output_type": "display_data"
    },
    {
     "data": {
      "text/html": [
       "- <span style='background-color: lightgreen; color: black'>R 218921</span> stackforge/fuel-web master MERGED <a href='https://review.openstack.org/218921'>Increase minimal requirement for MySQL partition</a> Sergii Golovatiuk 2015-08-31/2015-09-02"
      ],
      "text/plain": [
       "<IPython.core.display.HTML at 0x11021b790>"
      ]
     },
     "metadata": {},
     "output_type": "display_data"
    },
    {
     "data": {
      "text/html": [
       "<span style='background-color: blue; color: white'>B 1491373</span> <a href=https://bugs.launchpad.net/bugs/1491373>\"No nodes removed\" after successful node deletion</a> 2015-09-02/<span style='background-color: red; color: white'>2015-09-14</span><br>- Triaged / Medium / vsharshov / 8.0<br>- []"
      ],
      "text/plain": [
       "<IPython.core.display.HTML at 0x1139ade10>"
      ]
     },
     "metadata": {},
     "output_type": "display_data"
    },
    {
     "data": {
      "text/html": [
       "<span style='background-color: blue; color: white'>B 1491498</span> <a href=https://bugs.launchpad.net/bugs/1491498>Changing cluster name to already taken doesn't report any errors</a> 2015-09-02/<span style='background-color: red; color: white'>2015-10-09</span><br>- In Progress / Medium / astepanchuk / 8.0<br>- [low-hanging-fruit ui]"
      ],
      "text/plain": [
       "<IPython.core.display.HTML at 0x111be17d0>"
      ]
     },
     "metadata": {},
     "output_type": "display_data"
    },
    {
     "data": {
      "text/html": [
       "- <span style='background-color: lightgreen; color: black'>R 232943</span> stackforge/fuel-web master NEW <a href='https://review.openstack.org/232943'>Duplicate name errror is now visible for the user</a> Alexandra Morozova 2015-10-09/2015-10-14"
      ],
      "text/plain": [
       "<IPython.core.display.HTML at 0x116e33910>"
      ]
     },
     "metadata": {},
     "output_type": "display_data"
    },
    {
     "data": {
      "text/html": [
       "<span style='background-color: blue; color: white'>B 1491518</span> <a href=https://bugs.launchpad.net/bugs/1491518>ISCSI target is running on controllers even when Ceph is used as Cinder back end</a> 2015-09-02/2015-10-13<br>- In Progress / Medium / pzhurba / 8.0<br>- [cinder]"
      ],
      "text/plain": [
       "<IPython.core.display.HTML at 0x1167d5ed0>"
      ]
     },
     "metadata": {},
     "output_type": "display_data"
    },
    {
     "data": {
      "text/html": [
       "- <span style='background-color: lightgreen; color: black'>R 234021</span> stackforge/fuel-library master NEW <a href='https://review.openstack.org/234021'>Disable autostart for tgt and prevent it running</a> Peter Zhurba 2015-10-13/2015-10-13"
      ],
      "text/plain": [
       "<IPython.core.display.HTML at 0x118f4e650>"
      ]
     },
     "metadata": {},
     "output_type": "display_data"
    },
    {
     "data": {
      "text/html": [
       "<span style='background-color: blue; color: white'>B 1491750</span> <a href=https://bugs.launchpad.net/bugs/1491750>Devops slaves with nodegroup 2 are not discovered.</a> 2015-09-03/<span style='background-color: red; color: white'>2015-09-25</span><br>- In Progress / Medium / akostrikov-mirantis / 8.0<br>- [feature-advanced-networking non-release]"
      ],
      "text/plain": [
       "<IPython.core.display.HTML at 0x113403750>"
      ]
     },
     "metadata": {},
     "output_type": "display_data"
    },
    {
     "data": {
      "text/html": [
       "<span style='background-color: blue; color: white'>B 1492149</span> <a href=https://bugs.launchpad.net/bugs/1492149>Timeout waiting for HAProxy backend: 'keystone-1' status to become: 'up' after 90 seconds!</a> 2015-09-04/2015-10-13<br>- In Progress / Medium / kgalanov / 8.0<br>- []"
      ],
      "text/plain": [
       "<IPython.core.display.HTML at 0x113e135d0>"
      ]
     },
     "metadata": {},
     "output_type": "display_data"
    },
    {
     "data": {
      "text/html": [
       "<span style='background-color: blue; color: white'>B 1492188</span> <a href=https://bugs.launchpad.net/bugs/1492188>Nodes don't boot from PXE after environment reset</a> 2015-09-04/2015-09-10<br>- Confirmed / Medium / mos-linux / 8.0<br>- []"
      ],
      "text/plain": [
       "<IPython.core.display.HTML at 0x113e13e10>"
      ]
     },
     "metadata": {},
     "output_type": "display_data"
    },
    {
     "data": {
      "text/html": [
       "<span style='background-color: blue; color: white'>B 1492198</span> <a href=https://bugs.launchpad.net/bugs/1492198>Errors appear when you try to remove 'offline' node during resetting of env</a> 2015-09-04/2015-09-04<br>- Confirmed / Medium / fuel-python / 8.0<br>- []"
      ],
      "text/plain": [
       "<IPython.core.display.HTML at 0x118f4ed90>"
      ]
     },
     "metadata": {},
     "output_type": "display_data"
    },
    {
     "data": {
      "text/html": [
       "<span style='background-color: blue; color: white'>B 1492244</span> <a href=https://bugs.launchpad.net/bugs/1492244>500 Server Error in nodegroup assignment via cli</a> 2015-09-04/2015-10-08<br>- Triaged / Medium / fuel-python / 8.0<br>- [feature-nodegroup]"
      ],
      "text/plain": [
       "<IPython.core.display.HTML at 0x1167d5510>"
      ]
     },
     "metadata": {},
     "output_type": "display_data"
    },
    {
     "data": {
      "text/html": [
       "<span style='background-color: blue; color: white'>B 1492364</span> <a href=https://bugs.launchpad.net/bugs/1492364>fuel cli downloads crippled bond configuration</a> 2015-09-04/<span style='background-color: red; color: white'>2015-09-16</span><br>- In Progress / Medium / vkuklin / 8.0<br>- [feature-bonding module-nailgun]"
      ],
      "text/plain": [
       "<IPython.core.display.HTML at 0x11336df10>"
      ]
     },
     "metadata": {},
     "output_type": "display_data"
    },
    {
     "data": {
      "text/html": [
       "- <span style='background-color: lightgreen; color: black'>R 224160</span> stackforge/fuel-nailgun-agent stable/7.0 ABANDONED <a href='https://review.openstack.org/224160'>Return original interface mac address for Ethernet</a> Valyavskiy Viacheslav 2015-09-16/2015-09-16"
      ],
      "text/plain": [
       "<IPython.core.display.HTML at 0x111bf3e90>"
      ]
     },
     "metadata": {},
     "output_type": "display_data"
    },
    {
     "data": {
      "text/html": [
       "- <span style='background-color: lightgreen; color: black'>R 220831</span> stackforge/fuel-nailgun-agent master NEW <a href='https://review.openstack.org/220831'>Return original interface mac address for Ethernet</a> Vladimir Kuklin 2015-09-06/2015-10-14"
      ],
      "text/plain": [
       "<IPython.core.display.HTML at 0x111bf37d0>"
      ]
     },
     "metadata": {},
     "output_type": "display_data"
    },
    {
     "data": {
      "text/html": [
       "<span style='background-color: blue; color: white'>B 1492387</span> <a href=https://bugs.launchpad.net/bugs/1492387>Wrong and incomplete info about force SSL enable for master node at the docs</a> 2015-09-04/2015-10-08<br>- Confirmed / Medium / fuel-docs / 8.0<br>- []"
      ],
      "text/plain": [
       "<IPython.core.display.HTML at 0x117716650>"
      ]
     },
     "metadata": {},
     "output_type": "display_data"
    },
    {
     "data": {
      "text/html": [
       "- <span style='background-color: lightgreen; color: black'>R 210006</span> stackforge/fuel-library master MERGED <a href='https://review.openstack.org/210006'>Add option for force https on master node nginx</a> Stanislaw Bogatkin 2015-08-06/2015-08-19"
      ],
      "text/plain": [
       "<IPython.core.display.HTML at 0x113589090>"
      ]
     },
     "metadata": {},
     "output_type": "display_data"
    },
    {
     "data": {
      "text/html": [
       "<span style='background-color: blue; color: white'>B 1493275</span> <a href=https://bugs.launchpad.net/bugs/1493275>Need to delete host-only interfaces on cleanup</a> 2015-09-08/<span style='background-color: red; color: white'>2015-09-25</span><br>- In Progress / Medium / kromanenko / 8.0<br>- []"
      ],
      "text/plain": [
       "<IPython.core.display.HTML at 0x113be0b90>"
      ]
     },
     "metadata": {},
     "output_type": "display_data"
    },
    {
     "data": {
      "text/html": [
       "- <span style='background-color: lightgreen; color: black'>R 206980</span> stackforge/fuel-main master NEW <a href='https://review.openstack.org/206980'>Add script to delete host-only network interfaces</a> Kyrylo Romanenko 2015-07-29/2015-10-12"
      ],
      "text/plain": [
       "<IPython.core.display.HTML at 0x10c7db350>"
      ]
     },
     "metadata": {},
     "output_type": "display_data"
    },
    {
     "data": {
      "text/html": [
       "<span style='background-color: blue; color: white'>B 1493308</span> <a href=https://bugs.launchpad.net/bugs/1493308>No error shown if environment deletion failed</a> 2015-09-08/2015-09-08<br>- Confirmed / Medium / fuel-ui / 8.0<br>- [ui]"
      ],
      "text/plain": [
       "<IPython.core.display.HTML at 0x1139ad210>"
      ]
     },
     "metadata": {},
     "output_type": "display_data"
    },
    {
     "data": {
      "text/html": [
       "<span style='background-color: blue; color: white'>B 1493316</span> <a href=https://bugs.launchpad.net/bugs/1493316>[OSTF ] After replacement controller and redeploy test instace connectivity failed with message </a> 2015-09-08/2015-09-21<br>- Confirmed / Medium / fuel-qa / 8.0<br>- [module-ostf]"
      ],
      "text/plain": [
       "<IPython.core.display.HTML at 0x10f7b1510>"
      ]
     },
     "metadata": {},
     "output_type": "display_data"
    },
    {
     "data": {
      "text/html": [
       "<span style='background-color: blue; color: white'>B 1494200</span> <a href=https://bugs.launchpad.net/bugs/1494200>The hpsa driver update required to support PERC RAID H330/730/830 controllers on bootstrap </a> 2015-09-10/<span style='background-color: red; color: white'>2015-09-10</span><br>- Confirmed / Medium / asyriy / 8.0<br>- [mos-linux]"
      ],
      "text/plain": [
       "<IPython.core.display.HTML at 0x114b8bf10>"
      ]
     },
     "metadata": {},
     "output_type": "display_data"
    },
    {
     "data": {
      "text/html": [
       "<span style='background-color: blue; color: white'>B 1494246</span> <a href=https://bugs.launchpad.net/bugs/1494246>Sometimes repeatable provisioning test fails because slave node hangs after erase and doesn't go to reboot</a> 2015-09-10/2015-09-19<br>- Confirmed / Medium / fuel-python / 8.0<br>- []"
      ],
      "text/plain": [
       "<IPython.core.display.HTML at 0x1167d5490>"
      ]
     },
     "metadata": {},
     "output_type": "display_data"
    },
    {
     "data": {
      "text/html": [
       "<span style='background-color: blue; color: white'>B 1494384</span> <a href=https://bugs.launchpad.net/bugs/1494384>Too little disk spaces is allocated for cinder</a> 2015-09-10/2015-10-08<br>- Confirmed / Medium / fuel-python / 8.0<br>- []"
      ],
      "text/plain": [
       "<IPython.core.display.HTML at 0x1134037d0>"
      ]
     },
     "metadata": {},
     "output_type": "display_data"
    },
    {
     "data": {
      "text/html": [
       "<span style='background-color: blue; color: white'>B 1494502</span> <a href=https://bugs.launchpad.net/bugs/1494502>[ui] \"storage backends\" information is intersected with the \"add nodes\" buttons</a> 2015-09-10/<span style='background-color: red; color: white'>2015-10-09</span><br>- In Progress / Medium / astepanchuk / 8.0<br>- [ui]"
      ],
      "text/plain": [
       "<IPython.core.display.HTML at 0x116e4b5d0>"
      ]
     },
     "metadata": {},
     "output_type": "display_data"
    },
    {
     "data": {
      "text/html": [
       "- <span style='background-color: lightgreen; color: black'>R 233109</span> stackforge/fuel-web master NEW <a href='https://review.openstack.org/233109'>Fix for long values in Summary table on Dashboard tab</a> Alexandra Morozova 2015-10-09/2015-10-14"
      ],
      "text/plain": [
       "<IPython.core.display.HTML at 0x10f7dab10>"
      ]
     },
     "metadata": {},
     "output_type": "display_data"
    },
    {
     "data": {
      "text/html": [
       "<span style='background-color: blue; color: white'>B 1494725</span> <a href=https://bugs.launchpad.net/bugs/1494725>Field \"vSphere cluster\" can contain the space character after cluster name</a> 2015-09-11/<span style='background-color: red; color: white'>2015-09-11</span><br>- Confirmed / Medium / azemlyanov / 8.0<br>- [ui vcenter]"
      ],
      "text/plain": [
       "<IPython.core.display.HTML at 0x113e13710>"
      ]
     },
     "metadata": {},
     "output_type": "display_data"
    },
    {
     "data": {
      "text/html": [
       "<span style='background-color: blue; color: white'>B 1495406</span> <a href=https://bugs.launchpad.net/bugs/1495406>[8.0-pkg-pipeline-ubuntu][OS components] Build should fail in case of differend versions in changelog and last tag</a> 2015-09-14/2015-09-24<br>- Confirmed / Medium / fuel-ci / 8.0<br>- [build changelog debian tag]"
      ],
      "text/plain": [
       "<IPython.core.display.HTML at 0x113403090>"
      ]
     },
     "metadata": {},
     "output_type": "display_data"
    },
    {
     "data": {
      "text/html": [
       "<span style='background-color: blue; color: white'>B 1495506</span> <a href=https://bugs.launchpad.net/bugs/1495506>Networks are created without all necessary  fields, preventing update</a> 2015-09-14/<span style='background-color: red; color: white'>2015-09-30</span><br>- Confirmed / Medium / akostrikov-mirantis / 8.0<br>- [feature-advanced-networking]"
      ],
      "text/plain": [
       "<IPython.core.display.HTML at 0x1167d5710>"
      ]
     },
     "metadata": {},
     "output_type": "display_data"
    },
    {
     "data": {
      "text/html": [
       "<span style='background-color: blue; color: white'>B 1495980</span> <a href=https://bugs.launchpad.net/bugs/1495980>Floating ranges are not validated for Nova networking</a> 2015-09-15/2015-09-15<br>- Confirmed / Medium / fuel-ui / 8.0<br>- [ui]"
      ],
      "text/plain": [
       "<IPython.core.display.HTML at 0x10f7b1e90>"
      ]
     },
     "metadata": {},
     "output_type": "display_data"
    },
    {
     "data": {
      "text/html": [
       "<span style='background-color: blue; color: white'>B 1495994</span> <a href=https://bugs.launchpad.net/bugs/1495994>[ci-status.vm] Internal Server Error</a> 2015-09-15/<span style='background-color: red; color: white'>2015-09-15</span><br>- Confirmed / Medium / sotpuschennikov / 8.0<br>- [ci-status.vm error internal server]"
      ],
      "text/plain": [
       "<IPython.core.display.HTML at 0x113b58e90>"
      ]
     },
     "metadata": {},
     "output_type": "display_data"
    },
    {
     "data": {
      "text/html": [
       "<span style='background-color: blue; color: white'>B 1496046</span> <a href=https://bugs.launchpad.net/bugs/1496046>one node is in provisioning state during deployment task</a> 2015-09-15/2015-09-21<br>- Confirmed / Medium / fuel-python / 8.0<br>- [scale tricky]"
      ],
      "text/plain": [
       "<IPython.core.display.HTML at 0x113c5b510>"
      ]
     },
     "metadata": {},
     "output_type": "display_data"
    },
    {
     "data": {
      "text/html": [
       "<span style='background-color: blue; color: white'>B 1496321</span> <a href=https://bugs.launchpad.net/bugs/1496321>\"No module named netifaces\" in url checker</a> 2015-09-16/<span style='background-color: red; color: white'>2015-09-16</span><br>- Confirmed / Medium / sbrzeczkowski / 8.0<br>- [tricky]"
      ],
      "text/plain": [
       "<IPython.core.display.HTML at 0x113c5b290>"
      ]
     },
     "metadata": {},
     "output_type": "display_data"
    },
    {
     "data": {
      "text/html": [
       "<span style='background-color: blue; color: white'>B 1496328</span> <a href=https://bugs.launchpad.net/bugs/1496328>custom roles: \"limits: max\" constraint has an unpredictable behavior </a> 2015-09-16/2015-10-02<br>- Confirmed / Medium / fuel-ui / 8.0<br>- [lma ui]"
      ],
      "text/plain": [
       "<IPython.core.display.HTML at 0x11336dd10>"
      ]
     },
     "metadata": {},
     "output_type": "display_data"
    },
    {
     "data": {
      "text/html": [
       "<span style='background-color: blue; color: white'>B 1496335</span> <a href=https://bugs.launchpad.net/bugs/1496335>Broken sorting of bonds on interfaces configuration screen</a> 2015-09-16/2015-09-16<br>- Confirmed / Medium / fuel-ui / 8.0<br>- [ui]"
      ],
      "text/plain": [
       "<IPython.core.display.HTML at 0x116e33750>"
      ]
     },
     "metadata": {},
     "output_type": "display_data"
    },
    {
     "data": {
      "text/html": [
       "<span style='background-color: blue; color: white'>B 1496365</span> <a href=https://bugs.launchpad.net/bugs/1496365>Dashboard lacks top block (usually used to describe current state and next actions) in case of cluster error state</a> 2015-09-16/2015-10-14<br>- Confirmed / Medium / astepanchuk / 8.0<br>- [ui]"
      ],
      "text/plain": [
       "<IPython.core.display.HTML at 0x1167d51d0>"
      ]
     },
     "metadata": {},
     "output_type": "display_data"
    },
    {
     "data": {
      "text/html": [
       "<span style='background-color: blue; color: white'>B 1496407</span> <a href=https://bugs.launchpad.net/bugs/1496407>Security vulnerability in Fuel : Web Application Potentially Vulnerable to Clickjacking</a> 2015-09-16/2015-10-02<br>- Confirmed / Medium / fuel-plugin-zabbix / 8.0<br>- []"
      ],
      "text/plain": [
       "<IPython.core.display.HTML at 0x113403890>"
      ]
     },
     "metadata": {},
     "output_type": "display_data"
    },
    {
     "data": {
      "text/html": [
       "<span style='background-color: blue; color: white'>B 1496511</span> <a href=https://bugs.launchpad.net/bugs/1496511>[fuel-ci] Updating jenkins jobs through JJB can lead to unexpected results</a> 2015-09-16/2015-09-22<br>- Confirmed / Medium / fuel-ci / 8.0<br>- [fuel-ci non-release]"
      ],
      "text/plain": [
       "<IPython.core.display.HTML at 0x116e4b990>"
      ]
     },
     "metadata": {},
     "output_type": "display_data"
    },
    {
     "data": {
      "text/html": [
       "<span style='background-color: blue; color: white'>B 1496807</span> <a href=https://bugs.launchpad.net/bugs/1496807>Create pypi mirror in Czech DC</a> 2015-09-17/<span style='background-color: red; color: white'>2015-09-18</span><br>- In Progress / Medium / mmatuszkowiak / 8.0<br>- [fuel-ci]"
      ],
      "text/plain": [
       "<IPython.core.display.HTML at 0x113e13990>"
      ]
     },
     "metadata": {},
     "output_type": "display_data"
    },
    {
     "data": {
      "text/html": [
       "<span style='background-color: blue; color: white'>B 1496842</span> <a href=https://bugs.launchpad.net/bugs/1496842>Shotgun does not save whole of it's log in diagnostic snapshot</a> 2015-09-17/2015-09-21<br>- Confirmed / Medium / fuel-python / 8.0<br>- [logging]"
      ],
      "text/plain": [
       "<IPython.core.display.HTML at 0x113400250>"
      ]
     },
     "metadata": {},
     "output_type": "display_data"
    },
    {
     "data": {
      "text/html": [
       "<span style='background-color: blue; color: white'>B 1496967</span> <a href=https://bugs.launchpad.net/bugs/1496967>fuel plugin list cli show correct output with invalid parameters </a> 2015-09-17/2015-09-21<br>- Confirmed / Medium / fuel-python / 8.0<br>- [feature-plugins module-client]"
      ],
      "text/plain": [
       "<IPython.core.display.HTML at 0x116e4b390>"
      ]
     },
     "metadata": {},
     "output_type": "display_data"
    },
    {
     "data": {
      "text/html": [
       "<span style='background-color: blue; color: white'>B 1496987</span> <a href=https://bugs.launchpad.net/bugs/1496987>Automate view creation in jenkins</a> 2015-09-17/2015-09-17<br>- Confirmed / Medium / fuel-ci / 8.0<br>- [fuel-ci]"
      ],
      "text/plain": [
       "<IPython.core.display.HTML at 0x113e13e90>"
      ]
     },
     "metadata": {},
     "output_type": "display_data"
    },
    {
     "data": {
      "text/html": [
       "<span style='background-color: blue; color: white'>B 1497037</span> <a href=https://bugs.launchpad.net/bugs/1497037>IOError /var/log/glance/image-cache.log </a> 2015-09-17/2015-10-06<br>- Confirmed / Medium / fuel-library / 8.0<br>- []"
      ],
      "text/plain": [
       "<IPython.core.display.HTML at 0x118f4eed0>"
      ]
     },
     "metadata": {},
     "output_type": "display_data"
    },
    {
     "data": {
      "text/html": [
       "<span style='background-color: blue; color: white'>B 1497194</span> <a href=https://bugs.launchpad.net/bugs/1497194>Security vulnerability in Fuel : Web Application Potentially Vulnerable to Clickjacking</a> 2015-09-18/2015-09-25<br>- Confirmed / Medium / fuel-library / 8.0<br>- []"
      ],
      "text/plain": [
       "<IPython.core.display.HTML at 0x1167d5710>"
      ]
     },
     "metadata": {},
     "output_type": "display_data"
    },
    {
     "data": {
      "text/html": [
       "<span style='background-color: blue; color: white'>B 1497397</span> <a href=https://bugs.launchpad.net/bugs/1497397>Fuel UI should by default redirect to https port, not 8000 http</a> 2015-09-18/<span style='background-color: red; color: white'>2015-10-02</span><br>- Confirmed / Medium / sbogatkin / 8.0<br>- []"
      ],
      "text/plain": [
       "<IPython.core.display.HTML at 0x118f629d0>"
      ]
     },
     "metadata": {},
     "output_type": "display_data"
    },
    {
     "data": {
      "text/html": [
       "- <span style='background-color: lightgreen; color: black'>R 225938</span> stackforge/fuel-library master MERGED <a href='https://review.openstack.org/225938'>Redirect all but cobbler and api from port 80</a> Stanislaw Bogatkin 2015-09-21/2015-09-23"
      ],
      "text/plain": [
       "<IPython.core.display.HTML at 0x117716510>"
      ]
     },
     "metadata": {},
     "output_type": "display_data"
    },
    {
     "data": {
      "text/html": [
       "- <span style='background-color: lightgreen; color: black'>R 226653</span> stackforge/fuel-library stable/7.0 NEW <a href='https://review.openstack.org/226653'>Redirect all but cobbler and api from port 80</a> Stanislaw Bogatkin 2015-09-23/<span style='background-color: red; color: white'>2015-09-30</span>"
      ],
      "text/plain": [
       "<IPython.core.display.HTML at 0x111bf3e90>"
      ]
     },
     "metadata": {},
     "output_type": "display_data"
    },
    {
     "data": {
      "text/html": [
       "<span style='background-color: blue; color: white'>B 1497608</span> <a href=https://bugs.launchpad.net/bugs/1497608>rabbitmq zombie processes due to memory overcommit</a> 2015-09-19/2015-10-05<br>- Confirmed / Medium / fuel-devops / 8.0<br>- []"
      ],
      "text/plain": [
       "<IPython.core.display.HTML at 0x10ec42490>"
      ]
     },
     "metadata": {},
     "output_type": "display_data"
    },
    {
     "data": {
      "text/html": [
       "<span style='background-color: blue; color: white'>B 1497769</span> <a href=https://bugs.launchpad.net/bugs/1497769>[vcenter] the env with two vcenter-clusters with invalid datastore name has deployed without errors</a> 2015-09-20/2015-10-05<br>- Confirmed / Medium / fuel-partner-engineering / 8.0<br>- [vcenter]"
      ],
      "text/plain": [
       "<IPython.core.display.HTML at 0x116e33d50>"
      ]
     },
     "metadata": {},
     "output_type": "display_data"
    },
    {
     "data": {
      "text/html": [
       "<span style='background-color: blue; color: white'>B 1497891</span> <a href=https://bugs.launchpad.net/bugs/1497891>Inconsistent view of node changes on Dashboard</a> 2015-09-21/2015-10-14<br>- Confirmed / Medium / fuel-ui / 8.0<br>- [low-hanging-fruit ui]"
      ],
      "text/plain": [
       "<IPython.core.display.HTML at 0x1167d5a90>"
      ]
     },
     "metadata": {},
     "output_type": "display_data"
    },
    {
     "data": {
      "text/html": [
       "<span style='background-color: blue; color: white'>B 1497979</span> <a href=https://bugs.launchpad.net/bugs/1497979>Plugin deployment messages are out of style</a> 2015-09-21/2015-10-13<br>- In Progress / Medium / kpimenova / 8.0<br>- [ui]"
      ],
      "text/plain": [
       "<IPython.core.display.HTML at 0x113403a50>"
      ]
     },
     "metadata": {},
     "output_type": "display_data"
    },
    {
     "data": {
      "text/html": [
       "- <span style='background-color: lightgreen; color: black'>R 234295</span> stackforge/fuel-web master NEW <a href='https://review.openstack.org/234295'>Fixed styles for details block on dashboard</a> Kate Pimenova 2015-10-13/2015-10-14"
      ],
      "text/plain": [
       "<IPython.core.display.HTML at 0x113e13910>"
      ]
     },
     "metadata": {},
     "output_type": "display_data"
    },
    {
     "data": {
      "text/html": [
       "<span style='background-color: blue; color: white'>B 1498374</span> <a href=https://bugs.launchpad.net/bugs/1498374>5.1.2 ISO build failed due to a connectivity problem</a> 2015-09-22/2015-09-23<br>- Confirmed / Medium / fuel-ci / 8.0<br>- [fuel-ci non-release staging]"
      ],
      "text/plain": [
       "<IPython.core.display.HTML at 0x113e135d0>"
      ]
     },
     "metadata": {},
     "output_type": "display_data"
    },
    {
     "data": {
      "text/html": [
       "<span style='background-color: blue; color: white'>B 1498421</span> <a href=https://bugs.launchpad.net/bugs/1498421>Create a temporary symlink fuel/fuel-7.0/ to fuel/fuel-master on docs.mirantis.com</a> 2015-09-22/2015-10-07<br>- Triaged / Medium / fuel-devops / 8.0<br>- []"
      ],
      "text/plain": [
       "<IPython.core.display.HTML at 0x113dfbbd0>"
      ]
     },
     "metadata": {},
     "output_type": "display_data"
    },
    {
     "data": {
      "text/html": [
       "<span style='background-color: blue; color: white'>B 1498437</span> <a href=https://bugs.launchpad.net/bugs/1498437>Cron logs from nodes are not  included to fuel diagnostic snapshot</a> 2015-09-22/2015-09-22<br>- Confirmed / Medium / fuel-python / 8.0<br>- []"
      ],
      "text/plain": [
       "<IPython.core.display.HTML at 0x113400c50>"
      ]
     },
     "metadata": {},
     "output_type": "display_data"
    },
    {
     "data": {
      "text/html": [
       "<span style='background-color: blue; color: white'>B 1498438</span> <a href=https://bugs.launchpad.net/bugs/1498438>INVALID.log is present on fuel node in remote logs</a> 2015-09-22/2015-10-13<br>- In Progress / Medium / pzhurba / 8.0<br>- []"
      ],
      "text/plain": [
       "<IPython.core.display.HTML at 0x1139adf50>"
      ]
     },
     "metadata": {},
     "output_type": "display_data"
    },
    {
     "data": {
      "text/html": [
       "- <span style='background-color: lightgreen; color: black'>R 232613</span> stackforge/fuel-agent master NEW <a href='https://review.openstack.org/232613'>Fix cloud-init rsyslog format template</a> Peter Zhurba 2015-10-08/2015-10-13"
      ],
      "text/plain": [
       "<IPython.core.display.HTML at 0x113400150>"
      ]
     },
     "metadata": {},
     "output_type": "display_data"
    },
    {
     "data": {
      "text/html": [
       "- <span style='background-color: lightgreen; color: black'>R 233704</span> stackforge/fuel-library master NEW <a href='https://review.openstack.org/233704'>Fix log template for remote logs</a> Alex Schultz 2015-10-12/2015-10-13"
      ],
      "text/plain": [
       "<IPython.core.display.HTML at 0x113589090>"
      ]
     },
     "metadata": {},
     "output_type": "display_data"
    },
    {
     "data": {
      "text/html": [
       "<span style='background-color: blue; color: white'>B 1498440</span> <a href=https://bugs.launchpad.net/bugs/1498440>Limit JVM for Jenkins</a> 2015-09-22/2015-09-22<br>- Confirmed / Medium / fuel-devops / 8.0<br>- []"
      ],
      "text/plain": [
       "<IPython.core.display.HTML at 0x113dfb390>"
      ]
     },
     "metadata": {},
     "output_type": "display_data"
    },
    {
     "data": {
      "text/html": [
       "<span style='background-color: blue; color: white'>B 1498446</span> <a href=https://bugs.launchpad.net/bugs/1498446>fuel-menu allows using the same IP settings for different NICs</a> 2015-09-22/2015-09-22<br>- Confirmed / Medium / fuel-python / 8.0<br>- []"
      ],
      "text/plain": [
       "<IPython.core.display.HTML at 0x116e4b490>"
      ]
     },
     "metadata": {},
     "output_type": "display_data"
    },
    {
     "data": {
      "text/html": [
       "<span style='background-color: blue; color: white'>B 1498464</span> <a href=https://bugs.launchpad.net/bugs/1498464>Failed to complete plugins installation after environment reset</a> 2015-09-22/2015-09-22<br>- Confirmed / Medium / fuel-python / 8.0<br>- [feature-plugins]"
      ],
      "text/plain": [
       "<IPython.core.display.HTML at 0x1134031d0>"
      ]
     },
     "metadata": {},
     "output_type": "display_data"
    },
    {
     "data": {
      "text/html": [
       "<span style='background-color: blue; color: white'>B 1498557</span> <a href=https://bugs.launchpad.net/bugs/1498557>[devops] Broken links in PDF versions of docs when a different docset is linked</a> 2015-09-22/2015-09-23<br>- Triaged / Medium / fuel-devops / 8.0<br>- []"
      ],
      "text/plain": [
       "<IPython.core.display.HTML at 0x113403c10>"
      ]
     },
     "metadata": {},
     "output_type": "display_data"
    },
    {
     "data": {
      "text/html": [
       "<span style='background-color: blue; color: white'>B 1498561</span> <a href=https://bugs.launchpad.net/bugs/1498561>[devops] Line wrapping in PDF versions of docs</a> 2015-09-22/2015-09-23<br>- Triaged / Medium / fuel-devops / 8.0<br>- []"
      ],
      "text/plain": [
       "<IPython.core.display.HTML at 0x111be1550>"
      ]
     },
     "metadata": {},
     "output_type": "display_data"
    },
    {
     "data": {
      "text/html": [
       "<span style='background-color: blue; color: white'>B 1498916</span> <a href=https://bugs.launchpad.net/bugs/1498916>swift-dispersion-report does not work</a> 2015-09-23/2015-10-13<br>- In Progress / Medium / rlu / 8.0<br>- [swift]"
      ],
      "text/plain": [
       "<IPython.core.display.HTML at 0x1167d5350>"
      ]
     },
     "metadata": {},
     "output_type": "display_data"
    },
    {
     "data": {
      "text/html": [
       "- <span style='background-color: lightgreen; color: black'>R 234171</span> stackforge/fuel-library master NEW <a href='https://review.openstack.org/234171'>dispersion.conf added for swift-dispersion-report</a> Maciej Relewicz 2015-10-13/2015-10-13"
      ],
      "text/plain": [
       "<IPython.core.display.HTML at 0x10cf5bf90>"
      ]
     },
     "metadata": {},
     "output_type": "display_data"
    },
    {
     "data": {
      "text/html": [
       "<span style='background-color: blue; color: white'>B 1498927</span> <a href=https://bugs.launchpad.net/bugs/1498927>VNC console doesn't connect to vcenter instances after reboot DC</a> 2015-09-23/2015-10-05<br>- Confirmed / Medium / fuel-partner-engineering / 8.0<br>- [vcenter]"
      ],
      "text/plain": [
       "<IPython.core.display.HTML at 0x111be1990>"
      ]
     },
     "metadata": {},
     "output_type": "display_data"
    },
    {
     "data": {
      "text/html": [
       "<span style='background-color: blue; color: white'>B 1499301</span> <a href=https://bugs.launchpad.net/bugs/1499301>Failed job mirrors-local-msk-backup_js_dependencies_4T after remove of bower.json</a> 2015-09-24/2015-10-13<br>- Confirmed / Medium / mrasskazov / 8.0<br>- [osci]"
      ],
      "text/plain": [
       "<IPython.core.display.HTML at 0x114b8bfd0>"
      ]
     },
     "metadata": {},
     "output_type": "display_data"
    },
    {
     "data": {
      "text/html": [
       "<span style='background-color: blue; color: white'>B 1499375</span> <a href=https://bugs.launchpad.net/bugs/1499375>detach-keystone plugin with murano without SSL fails</a> 2015-09-24/2015-10-13<br>- In Progress / Medium / raytrac3r / 8.0<br>- []"
      ],
      "text/plain": [
       "<IPython.core.display.HTML at 0x113403050>"
      ]
     },
     "metadata": {},
     "output_type": "display_data"
    },
    {
     "data": {
      "text/html": [
       "- <span style='background-color: lightgreen; color: black'>R 234345</span> stackforge/fuel-library master NEW <a href='https://review.openstack.org/234345'>Fix keystone URL and realign keystone for sahara and murano</a> Matthew Mosesohn 2015-10-13/2015-10-14"
      ],
      "text/plain": [
       "<IPython.core.display.HTML at 0x113403c10>"
      ]
     },
     "metadata": {},
     "output_type": "display_data"
    },
    {
     "data": {
      "text/html": [
       "<span style='background-color: blue; color: white'>B 1499565</span> <a href=https://bugs.launchpad.net/bugs/1499565>Create a README for mirror.fuel-infra.org.</a> 2015-09-25/2015-09-25<br>- Triaged / Medium / fuel-build / 8.0<br>- []"
      ],
      "text/plain": [
       "<IPython.core.display.HTML at 0x116e4b4d0>"
      ]
     },
     "metadata": {},
     "output_type": "display_data"
    },
    {
     "data": {
      "text/html": [
       "<span style='background-color: blue; color: white'>B 1499727</span> <a href=https://bugs.launchpad.net/bugs/1499727>upgrade-env fails when LC_ALL is empty</a> 2015-09-25/2015-10-05<br>- Confirmed / Medium / fuel-octane / 8.0<br>- [module-octane]"
      ],
      "text/plain": [
       "<IPython.core.display.HTML at 0x113e13950>"
      ]
     },
     "metadata": {},
     "output_type": "display_data"
    },
    {
     "data": {
      "text/html": [
       "<span style='background-color: blue; color: white'>B 1499745</span> <a href=https://bugs.launchpad.net/bugs/1499745>Too much Offloading options in Fuel UI</a> 2015-09-25/2015-10-05<br>- Confirmed / Medium / fuel-ui / 8.0<br>- [ui]"
      ],
      "text/plain": [
       "<IPython.core.display.HTML at 0x10f7da710>"
      ]
     },
     "metadata": {},
     "output_type": "display_data"
    },
    {
     "data": {
      "text/html": [
       "<span style='background-color: blue; color: white'>B 1500370</span> <a href=https://bugs.launchpad.net/bugs/1500370>    Add validation for 'retries' param in puppet task</a> 2015-09-28/2015-09-28<br>- Confirmed / Medium / fuel-docs / 8.0<br>- [fuel-plugins]"
      ],
      "text/plain": [
       "<IPython.core.display.HTML at 0x1139ad490>"
      ]
     },
     "metadata": {},
     "output_type": "display_data"
    },
    {
     "data": {
      "text/html": [
       "- <span style='background-color: lightgreen; color: black'>R 222149</span> stackforge/fuel-plugins master MERGED <a href='https://review.openstack.org/222149'>Add validation for 'retries' param in puppet task</a> Sebastian Kalinowski 2015-09-10/2015-09-28"
      ],
      "text/plain": [
       "<IPython.core.display.HTML at 0x113df1d50>"
      ]
     },
     "metadata": {},
     "output_type": "display_data"
    },
    {
     "data": {
      "text/html": [
       "<span style='background-color: blue; color: white'>B 1500421</span> <a href=https://bugs.launchpad.net/bugs/1500421>    Add posibility to set debug/verbose per service</a> 2015-09-28/2015-09-28<br>- Confirmed / Medium / fuel-docs / 8.0<br>- [fuel-library]"
      ],
      "text/plain": [
       "<IPython.core.display.HTML at 0x1134001d0>"
      ]
     },
     "metadata": {},
     "output_type": "display_data"
    },
    {
     "data": {
      "text/html": [
       "- <a href='https://review.openstack.org/219029'>https://review.openstack.org/219029</a>"
      ],
      "text/plain": [
       "<IPython.core.display.HTML at 0x113400990>"
      ]
     },
     "metadata": {},
     "output_type": "display_data"
    },
    {
     "data": {
      "text/html": [
       "<span style='background-color: blue; color: white'>B 1500422</span> <a href=https://bugs.launchpad.net/bugs/1500422>    Add cluster health task with disk monitor</a> 2015-09-28/2015-09-28<br>- Confirmed / Medium / fuel-docs / 8.0<br>- [fuel-library]"
      ],
      "text/plain": [
       "<IPython.core.display.HTML at 0x10f7dab10>"
      ]
     },
     "metadata": {},
     "output_type": "display_data"
    },
    {
     "data": {
      "text/html": [
       "- <span style='background-color: lightgreen; color: black'>R 226062</span> stackforge/fuel-library master MERGED <a href='https://review.openstack.org/226062'>Add cluster health task with disk monitor</a> Alex Schultz 2015-09-21/2015-09-28"
      ],
      "text/plain": [
       "<IPython.core.display.HTML at 0x113dfb590>"
      ]
     },
     "metadata": {},
     "output_type": "display_data"
    },
    {
     "data": {
      "text/html": [
       "<span style='background-color: blue; color: white'>B 1500432</span> <a href=https://bugs.launchpad.net/bugs/1500432>[8.0-pkg-install-ubuntu ] Required packages are missed during installation</a> 2015-09-28/2015-09-28<br>- Confirmed / Medium / fuel-ci / 8.0<br>- []"
      ],
      "text/plain": [
       "<IPython.core.display.HTML at 0x116e4b990>"
      ]
     },
     "metadata": {},
     "output_type": "display_data"
    },
    {
     "data": {
      "text/html": [
       "- <span style='background-color: lightgreen; color: black'>R 11221</span> packages/trusty/python-requests-mock 8.0 NEW <a href='https://review.fuel-infra.org/11221'>Add python-requests-mock package to MOS 8.0 repository</a> Ivan Udovichenko 2015-09-06/<span style='background-color: red; color: white'>2015-09-26</span>"
      ],
      "text/plain": [
       "<IPython.core.display.HTML at 0x113e13d10>"
      ]
     },
     "metadata": {},
     "output_type": "display_data"
    },
    {
     "data": {
      "text/html": [
       "<span style='background-color: blue; color: white'>B 1500653</span> <a href=https://bugs.launchpad.net/bugs/1500653>Document and communicate the duties of a job owner</a> 2015-09-28/2015-09-30<br>- Confirmed / Medium / fuel-ci / 8.0<br>- [fuel-ci non-release]"
      ],
      "text/plain": [
       "<IPython.core.display.HTML at 0x113403210>"
      ]
     },
     "metadata": {},
     "output_type": "display_data"
    },
    {
     "data": {
      "text/html": [
       "<span style='background-color: blue; color: white'>B 1500667</span> <a href=https://bugs.launchpad.net/bugs/1500667>Changing gateway in fuelmenu changes gateway in bootstrap but not in deployment</a> 2015-09-29/2015-09-29<br>- Confirmed / Medium / fuel-python / 8.0<br>- []"
      ],
      "text/plain": [
       "<IPython.core.display.HTML at 0x114b8b4d0>"
      ]
     },
     "metadata": {},
     "output_type": "display_data"
    },
    {
     "data": {
      "text/html": [
       "<span style='background-color: blue; color: white'>B 1500841</span> <a href=https://bugs.launchpad.net/bugs/1500841>fuel-createmirror poor UX when run on external host</a> 2015-09-29/2015-09-29<br>- Confirmed / Medium / fuel-python / 8.0<br>- []"
      ],
      "text/plain": [
       "<IPython.core.display.HTML at 0x11336dcd0>"
      ]
     },
     "metadata": {},
     "output_type": "display_data"
    },
    {
     "data": {
      "text/html": [
       "<span style='background-color: blue; color: white'>B 1500952</span> <a href=https://bugs.launchpad.net/bugs/1500952>fuelmenu ignores existing resolvers in /etc/resolv.conf </a> 2015-09-29/2015-10-13<br>- In Progress / Medium / raytrac3r / 8.0<br>- [module-fuelmenu]"
      ],
      "text/plain": [
       "<IPython.core.display.HTML at 0x113b58a90>"
      ]
     },
     "metadata": {},
     "output_type": "display_data"
    },
    {
     "data": {
      "text/html": [
       "- <span style='background-color: lightgreen; color: black'>R 234327</span> stackforge/fuel-web master NEW <a href='https://review.openstack.org/234327'>Improve handling with existing DNS settings</a> Matthew Mosesohn 2015-10-13/2015-10-14"
      ],
      "text/plain": [
       "<IPython.core.display.HTML at 0x10c7db350>"
      ]
     },
     "metadata": {},
     "output_type": "display_data"
    },
    {
     "data": {
      "text/html": [
       "<span style='background-color: blue; color: white'>B 1501005</span> <a href=https://bugs.launchpad.net/bugs/1501005>Add implementation of plugin install/uninstall hook to Example_plugin_v3</a> 2015-09-29/2015-10-08<br>- Confirmed / Medium / fuel-python / 8.0<br>- [feature-plugins]"
      ],
      "text/plain": [
       "<IPython.core.display.HTML at 0x10f7b1a90>"
      ]
     },
     "metadata": {},
     "output_type": "display_data"
    },
    {
     "data": {
      "text/html": [
       "<span style='background-color: blue; color: white'>B 1501006</span> <a href=https://bugs.launchpad.net/bugs/1501006>[Doc] Plugin install/uninstall hook</a> 2015-09-29/2015-09-30<br>- Confirmed / Medium / fuel-docs / 8.0<br>- [feature-plugins]"
      ],
      "text/plain": [
       "<IPython.core.display.HTML at 0x1167d5cd0>"
      ]
     },
     "metadata": {},
     "output_type": "display_data"
    },
    {
     "data": {
      "text/html": [
       "<span style='background-color: blue; color: white'>B 1501506</span> <a href=https://bugs.launchpad.net/bugs/1501506>Create custom fuel-library deployment test job</a> 2015-09-30/2015-09-30<br>- Triaged / Medium / fuel-ci / 8.0<br>- []"
      ],
      "text/plain": [
       "<IPython.core.display.HTML at 0x113403d50>"
      ]
     },
     "metadata": {},
     "output_type": "display_data"
    },
    {
     "data": {
      "text/html": [
       "<span style='background-color: blue; color: white'>B 1501660</span> <a href=https://bugs.launchpad.net/bugs/1501660>Fuel 7.0 changing segmentation_type=gre FUEL CLI: change prohibited</a> 2015-10-01/2015-10-02<br>- Confirmed / Medium / fuel-python / 8.0<br>- []"
      ],
      "text/plain": [
       "<IPython.core.display.HTML at 0x113e13d10>"
      ]
     },
     "metadata": {},
     "output_type": "display_data"
    },
    {
     "data": {
      "text/html": [
       "<span style='background-color: blue; color: white'>B 1501769</span> <a href=https://bugs.launchpad.net/bugs/1501769>[fuelclient] Shlex does not accept unicode input prior to python 2.7.3</a> 2015-10-01/2015-10-01<br>- Confirmed / Medium / fuel-python / 8.0<br>- [module-client]"
      ],
      "text/plain": [
       "<IPython.core.display.HTML at 0x113dfb4d0>"
      ]
     },
     "metadata": {},
     "output_type": "display_data"
    },
    {
     "data": {
      "text/html": [
       "<span style='background-color: blue; color: white'>B 1501846</span> <a href=https://bugs.launchpad.net/bugs/1501846>L3-agent error \"DVR: Failed updating arp entry - no buffer space available\"</a> 2015-10-01/2015-10-04<br>- Triaged / Medium / fuel-library / 8.0<br>- [neutron scale]"
      ],
      "text/plain": [
       "<IPython.core.display.HTML at 0x1139ad490>"
      ]
     },
     "metadata": {},
     "output_type": "display_data"
    },
    {
     "data": {
      "text/html": [
       "<span style='background-color: blue; color: white'>B 1501970</span> <a href=https://bugs.launchpad.net/bugs/1501970>Improve TLS handling with Fuel (hash, upload mechanism)</a> 2015-10-02/2015-10-13<br>- Triaged / Medium / fuel-python / 8.0<br>- []"
      ],
      "text/plain": [
       "<IPython.core.display.HTML at 0x111af6510>"
      ]
     },
     "metadata": {},
     "output_type": "display_data"
    },
    {
     "data": {
      "text/html": [
       "<span style='background-color: blue; color: white'>B 1502086</span> <a href=https://bugs.launchpad.net/bugs/1502086>Misleading message after stop deploying.</a> 2015-10-02/2015-10-02<br>- Confirmed / Medium / fuel-python / 8.0<br>- [low-hanging-fruit ui]"
      ],
      "text/plain": [
       "<IPython.core.display.HTML at 0x113400710>"
      ]
     },
     "metadata": {},
     "output_type": "display_data"
    },
    {
     "data": {
      "text/html": [
       "<span style='background-color: blue; color: white'>B 1502100</span> <a href=https://bugs.launchpad.net/bugs/1502100>Wrong work of 'View logs' button</a> 2015-10-02/<span style='background-color: red; color: white'>2015-10-07</span><br>- In Progress / Medium / kpimenova / 8.0<br>- [ui]"
      ],
      "text/plain": [
       "<IPython.core.display.HTML at 0x116e4b810>"
      ]
     },
     "metadata": {},
     "output_type": "display_data"
    },
    {
     "data": {
      "text/html": [
       "- <span style='background-color: lightgreen; color: black'>R 232086</span> stackforge/fuel-web master NEW <a href='https://review.openstack.org/232086'>Logs links opening fix</a> Kate Pimenova 2015-10-07/<span style='background-color: red; color: white'>2015-10-07</span>"
      ],
      "text/plain": [
       "<IPython.core.display.HTML at 0x113e13410>"
      ]
     },
     "metadata": {},
     "output_type": "display_data"
    },
    {
     "data": {
      "text/html": [
       "<span style='background-color: blue; color: white'>B 1502135</span> <a href=https://bugs.launchpad.net/bugs/1502135>Remove fuel packages from fuel-main:requirements-rpm.txt</a> 2015-10-02/<span style='background-color: red; color: white'>2015-10-07</span><br>- In Progress / Medium / kozhukalov / 8.0<br>- []"
      ],
      "text/plain": [
       "<IPython.core.display.HTML at 0x113403610>"
      ]
     },
     "metadata": {},
     "output_type": "display_data"
    },
    {
     "data": {
      "text/html": [
       "- <span style='background-color: lightgreen; color: black'>R 230426</span> stackforge/fuel-main master ABANDONED <a href='https://review.openstack.org/230426'>Remove fuel packages from requirements-rpm.txt</a> Vladimir Kozhukalov 2015-10-02/2015-10-07"
      ],
      "text/plain": [
       "<IPython.core.display.HTML at 0x1134036d0>"
      ]
     },
     "metadata": {},
     "output_type": "display_data"
    },
    {
     "data": {
      "text/html": [
       "- <span style='background-color: lightgreen; color: black'>R 230043</span> stackforge/fuel-main master MERGED <a href='https://review.openstack.org/230043'>Build fuel-createmirror together with ISO</a> Vladimir Kozhukalov 2015-10-01/2015-10-07"
      ],
      "text/plain": [
       "<IPython.core.display.HTML at 0x113403590>"
      ]
     },
     "metadata": {},
     "output_type": "display_data"
    },
    {
     "data": {
      "text/html": [
       "<span style='background-color: blue; color: white'>B 1502198</span> <a href=https://bugs.launchpad.net/bugs/1502198>[nailgun-agent] ignores network interfaces unless they named as eth$N</a> 2015-10-02/2015-10-07<br>- Confirmed / Medium / fuel-python / 8.0<br>- []"
      ],
      "text/plain": [
       "<IPython.core.display.HTML at 0x114b8bd10>"
      ]
     },
     "metadata": {},
     "output_type": "display_data"
    },
    {
     "data": {
      "text/html": [
       "<span style='background-color: blue; color: white'>B 1503023</span> <a href=https://bugs.launchpad.net/bugs/1503023>Please allow uploading private trusted CA certificates when using TLS/SSL</a> 2015-10-05/2015-10-09<br>- Confirmed / Medium / fuel-library / 8.0<br>- [ssl]"
      ],
      "text/plain": [
       "<IPython.core.display.HTML at 0x11336de50>"
      ]
     },
     "metadata": {},
     "output_type": "display_data"
    },
    {
     "data": {
      "text/html": [
       "<span style='background-color: blue; color: white'>B 1503175</span> <a href=https://bugs.launchpad.net/bugs/1503175>    Restart rabbit if can't list queues or found memory alert</a> 2015-10-06/2015-10-07<br>- Confirmed / Medium / fuel-docs / 8.0<br>- [fuel-library]"
      ],
      "text/plain": [
       "<IPython.core.display.HTML at 0x111af6e10>"
      ]
     },
     "metadata": {},
     "output_type": "display_data"
    },
    {
     "data": {
      "text/html": [
       "- <span style='background-color: lightgreen; color: black'>R 222608</span> stackforge/fuel-library stable/6.1 MERGED <a href='https://review.openstack.org/222608'>Restart rabbit if can't list queues or found memory alert</a> Michal Rostecki 2015-09-11/2015-10-06"
      ],
      "text/plain": [
       "<IPython.core.display.HTML at 0x113400510>"
      ]
     },
     "metadata": {},
     "output_type": "display_data"
    },
    {
     "data": {
      "text/html": [
       "<span style='background-color: blue; color: white'>B 1503177</span> <a href=https://bugs.launchpad.net/bugs/1503177>    Make RabbitMQ OCF script tolerate rabbitmqctl timeouts</a> 2015-10-06/2015-10-07<br>- Confirmed / Medium / fuel-docs / 8.0<br>- [fuel-library]"
      ],
      "text/plain": [
       "<IPython.core.display.HTML at 0x114b8ba50>"
      ]
     },
     "metadata": {},
     "output_type": "display_data"
    },
    {
     "data": {
      "text/html": [
       "- <span style='background-color: lightgreen; color: black'>R 222614</span> stackforge/fuel-library stable/6.1 MERGED <a href='https://review.openstack.org/222614'>Make RabbitMQ OCF script tolerate rabbitmqctl timeouts</a> Michal Rostecki 2015-09-11/2015-10-06"
      ],
      "text/plain": [
       "<IPython.core.display.HTML at 0x113dfb610>"
      ]
     },
     "metadata": {},
     "output_type": "display_data"
    },
    {
     "data": {
      "text/html": [
       "<span style='background-color: blue; color: white'>B 1503243</span> <a href=https://bugs.launchpad.net/bugs/1503243>Implement system test for bug 1460166</a> 2015-10-06/2015-10-12<br>- In Progress / Medium / akurenyshev / 8.0<br>- [feature-qa]"
      ],
      "text/plain": [
       "<IPython.core.display.HTML at 0x1139ad210>"
      ]
     },
     "metadata": {},
     "output_type": "display_data"
    },
    {
     "data": {
      "text/html": [
       "- <span style='background-color: lightgreen; color: black'>R 233743</span> stackforge/fuel-qa master NEW <a href='https://review.openstack.org/233743'>Add test for cobbler refresh nodes This patch addes check for related bug to system tests</a> Alexander Kurenyshev 2015-10-12/2015-10-14"
      ],
      "text/plain": [
       "<IPython.core.display.HTML at 0x113400f90>"
      ]
     },
     "metadata": {},
     "output_type": "display_data"
    },
    {
     "data": {
      "text/html": [
       "<span style='background-color: blue; color: white'>B 1503253</span> <a href=https://bugs.launchpad.net/bugs/1503253>bump a release version in nailgun settings.yaml</a> 2015-10-06/2015-10-07<br>- Confirmed / Medium / fuel-python / 8.0<br>- [module-nailgun]"
      ],
      "text/plain": [
       "<IPython.core.display.HTML at 0x10f7b1990>"
      ]
     },
     "metadata": {},
     "output_type": "display_data"
    },
    {
     "data": {
      "text/html": [
       "<span style='background-color: blue; color: white'>B 1503278</span> <a href=https://bugs.launchpad.net/bugs/1503278>Need to package new NPM dependencies</a> 2015-10-06/<span style='background-color: red; color: white'>2015-10-09</span><br>- Confirmed / Medium / asilenkov / 8.0<br>- []"
      ],
      "text/plain": [
       "<IPython.core.display.HTML at 0x11001ce90>"
      ]
     },
     "metadata": {},
     "output_type": "display_data"
    },
    {
     "data": {
      "text/html": [
       "- <span style='background-color: lightgreen; color: black'>R 219036</span> stackforge/fuel-web master NEW <a href='https://review.openstack.org/219036'>Replace require.js loader/r.js builder with webpack</a> Vitaly Kramskikh 2015-08-31/<span style='background-color: red; color: white'>2015-10-08</span>"
      ],
      "text/plain": [
       "<IPython.core.display.HTML at 0x116e33850>"
      ]
     },
     "metadata": {},
     "output_type": "display_data"
    },
    {
     "data": {
      "text/html": [
       "<span style='background-color: blue; color: white'>B 1503324</span> <a href=https://bugs.launchpad.net/bugs/1503324>Resuming instance in suspend state clears out instance console.log</a> 2015-10-06/2015-10-08<br>- Confirmed / Medium / mos-nova / 8.0<br>- [nova]"
      ],
      "text/plain": [
       "<IPython.core.display.HTML at 0x118f4ef10>"
      ]
     },
     "metadata": {},
     "output_type": "display_data"
    },
    {
     "data": {
      "text/html": [
       "<span style='background-color: blue; color: white'>B 1503398</span> <a href=https://bugs.launchpad.net/bugs/1503398>Node NICs are not validated when using network templates</a> 2015-10-06/2015-10-12<br>- Confirmed / Medium / fuel-python / 8.0<br>- []"
      ],
      "text/plain": [
       "<IPython.core.display.HTML at 0x1167d5390>"
      ]
     },
     "metadata": {},
     "output_type": "display_data"
    },
    {
     "data": {
      "text/html": [
       "<span style='background-color: blue; color: white'>B 1503592</span> <a href=https://bugs.launchpad.net/bugs/1503592>[fuel-library] Ignore languages in apt-get</a> 2015-10-07/<span style='background-color: red; color: white'>2015-10-08</span><br>- In Progress / Medium / bpiotrowski / 8.0<br>- []"
      ],
      "text/plain": [
       "<IPython.core.display.HTML at 0x10ec424d0>"
      ]
     },
     "metadata": {},
     "output_type": "display_data"
    },
    {
     "data": {
      "text/html": [
       "- <a href='https://review.openstack.org/232420'>https://review.openstack.org/232420</a>"
      ],
      "text/plain": [
       "<IPython.core.display.HTML at 0x11001ce90>"
      ]
     },
     "metadata": {},
     "output_type": "display_data"
    },
    {
     "data": {
      "text/html": [
       "- <a href='https://review.openstack.org/231907'>https://review.openstack.org/231907</a>"
      ],
      "text/plain": [
       "<IPython.core.display.HTML at 0x10cf5b310>"
      ]
     },
     "metadata": {},
     "output_type": "display_data"
    },
    {
     "data": {
      "text/html": [
       "<span style='background-color: blue; color: white'>B 1503613</span> <a href=https://bugs.launchpad.net/bugs/1503613>murano dashboard configure application always returns to step 1</a> 2015-10-07/<span style='background-color: red; color: white'>2015-10-08</span><br>- In Progress / Medium / velovec / 8.0<br>- [murano]"
      ],
      "text/plain": [
       "<IPython.core.display.HTML at 0x113b58e50>"
      ]
     },
     "metadata": {},
     "output_type": "display_data"
    },
    {
     "data": {
      "text/html": [
       "<span style='background-color: blue; color: white'>B 1503616</span> <a href=https://bugs.launchpad.net/bugs/1503616>fuelmenu break  /etc/resolv.conf </a> 2015-10-07/2015-10-13<br>- In Progress / Medium / raytrac3r / 8.0<br>- [module-fuelmenu]"
      ],
      "text/plain": [
       "<IPython.core.display.HTML at 0x10f7da210>"
      ]
     },
     "metadata": {},
     "output_type": "display_data"
    },
    {
     "data": {
      "text/html": [
       "- <span style='background-color: lightgreen; color: black'>R 234327</span> stackforge/fuel-web master NEW <a href='https://review.openstack.org/234327'>Improve handling with existing DNS settings</a> Matthew Mosesohn 2015-10-13/2015-10-14"
      ],
      "text/plain": [
       "<IPython.core.display.HTML at 0x10f7b1a50>"
      ]
     },
     "metadata": {},
     "output_type": "display_data"
    },
    {
     "data": {
      "text/html": [
       "<span style='background-color: blue; color: white'>B 1503625</span> <a href=https://bugs.launchpad.net/bugs/1503625>mirros fuel key missing</a> 2015-10-07/2015-10-13<br>- Triaged / Medium / fuel-library / 8.0<br>- []"
      ],
      "text/plain": [
       "<IPython.core.display.HTML at 0x1139adc10>"
      ]
     },
     "metadata": {},
     "output_type": "display_data"
    },
    {
     "data": {
      "text/html": [
       "<span style='background-color: blue; color: white'>B 1503650</span> <a href=https://bugs.launchpad.net/bugs/1503650>Action when clicking Logs button on nodes tab should be changed</a> 2015-10-07/2015-10-07<br>- Confirmed / Medium / fuel-ui / 8.0<br>- [ui]"
      ],
      "text/plain": [
       "<IPython.core.display.HTML at 0x10c7db350>"
      ]
     },
     "metadata": {},
     "output_type": "display_data"
    },
    {
     "data": {
      "text/html": [
       "<span style='background-color: blue; color: white'>B 1504139</span> <a href=https://bugs.launchpad.net/bugs/1504139>OpenStack upgrade tool (fuel-octane) should be available from mos-updates repository</a> 2015-10-08/2015-10-13<br>- Confirmed / Medium / mos-maintenance / 8.0<br>- [feature-upgrade fuel-octane module-build]"
      ],
      "text/plain": [
       "<IPython.core.display.HTML at 0x11336db90>"
      ]
     },
     "metadata": {},
     "output_type": "display_data"
    },
    {
     "data": {
      "text/html": [
       "<span style='background-color: blue; color: white'>B 1504191</span> <a href=https://bugs.launchpad.net/bugs/1504191>Package etckeeper is missing on nodes</a> 2015-10-08/<span style='background-color: red; color: white'>2015-10-08</span><br>- Confirmed / Medium / idv1985 / 8.0<br>- []"
      ],
      "text/plain": [
       "<IPython.core.display.HTML at 0x117716510>"
      ]
     },
     "metadata": {},
     "output_type": "display_data"
    },
    {
     "data": {
      "text/html": [
       "<span style='background-color: blue; color: white'>B 1504199</span> <a href=https://bugs.launchpad.net/bugs/1504199>VIP names MUST be unique across environment</a> 2015-10-08/2015-10-08<br>- Confirmed / Medium / fuel-python / 8.0<br>- [l23network module-astute]"
      ],
      "text/plain": [
       "<IPython.core.display.HTML at 0x113dfb5d0>"
      ]
     },
     "metadata": {},
     "output_type": "display_data"
    },
    {
     "data": {
      "text/html": [
       "<span style='background-color: blue; color: white'>B 1504628</span> <a href=https://bugs.launchpad.net/bugs/1504628>Dead link in Reference Architecture - An Example of NIC Aggregation using Fuel CLI tools</a> 2015-10-09/2015-10-13<br>- Confirmed / Medium / skarslioglu / 8.0<br>- []"
      ],
      "text/plain": [
       "<IPython.core.display.HTML at 0x1139ad490>"
      ]
     },
     "metadata": {},
     "output_type": "display_data"
    },
    {
     "data": {
      "text/html": [
       "<span style='background-color: blue; color: white'>B 1504656</span> <a href=https://bugs.launchpad.net/bugs/1504656>verify-fuel-library-puppetfile doesn't work for older versions</a> 2015-10-09/<span style='background-color: red; color: white'>2015-10-09</span><br>- Confirmed / Medium / alex-schultz / 8.0<br>- [fuel-ci]"
      ],
      "text/plain": [
       "<IPython.core.display.HTML at 0x10f7b1c10>"
      ]
     },
     "metadata": {},
     "output_type": "display_data"
    },
    {
     "data": {
      "text/html": [
       "<span style='background-color: blue; color: white'>B 1504699</span> <a href=https://bugs.launchpad.net/bugs/1504699>[Fuel Installation Guide] Restructure and rewrite the Introduction and System Requirements sections</a> 2015-10-09/2015-10-13<br>- In Progress / Medium / skarslioglu / 8.0<br>- []"
      ],
      "text/plain": [
       "<IPython.core.display.HTML at 0x118f4ef90>"
      ]
     },
     "metadata": {},
     "output_type": "display_data"
    },
    {
     "data": {
      "text/html": [
       "- <span style='background-color: lightgreen; color: black'>R 233310</span> stackforge/fuel-docs master NEW <a href='https://review.openstack.org/233310'>Rewrote the Fuel introduction section</a> Svetlana Karslioglu 2015-10-09/<span style='background-color: red; color: white'>2015-10-10</span>"
      ],
      "text/plain": [
       "<IPython.core.display.HTML at 0x11001ce90>"
      ]
     },
     "metadata": {},
     "output_type": "display_data"
    },
    {
     "data": {
      "text/html": [
       "- <span style='background-color: lightgreen; color: black'>R 233826</span> stackforge/fuel-docs master NEW <a href='https://review.openstack.org/233826'>Added the Overview of Installation section</a> Svetlana Karslioglu 2015-10-12/2015-10-12"
      ],
      "text/plain": [
       "<IPython.core.display.HTML at 0x113b587d0>"
      ]
     },
     "metadata": {},
     "output_type": "display_data"
    },
    {
     "data": {
      "text/html": [
       "- <span style='background-color: lightgreen; color: black'>R 233853</span> stackforge/fuel-docs master NEW <a href='https://review.openstack.org/233853'>Added a section about the master node network reqs</a> Svetlana Karslioglu 2015-10-12/2015-10-12"
      ],
      "text/plain": [
       "<IPython.core.display.HTML at 0x116e33350>"
      ]
     },
     "metadata": {},
     "output_type": "display_data"
    },
    {
     "data": {
      "text/html": [
       "<span style='background-color: blue; color: white'>B 1505143</span> <a href=https://bugs.launchpad.net/bugs/1505143>[cli] cannot filter nodes by node group</a> 2015-10-12/2015-10-12<br>- Confirmed / Medium / fuel-python / 8.0<br>- [feature-nodegroup module-client]"
      ],
      "text/plain": [
       "<IPython.core.display.HTML at 0x1167d52d0>"
      ]
     },
     "metadata": {},
     "output_type": "display_data"
    },
    {
     "data": {
      "text/html": [
       "<span style='background-color: blue; color: white'>B 1505728</span> <a href=https://bugs.launchpad.net/bugs/1505728>script for creating new branches does not  have checks in code</a> 2015-10-13/2015-10-13<br>- Triaged / Medium / mrasskazov / 8.0<br>- []"
      ],
      "text/plain": [
       "<IPython.core.display.HTML at 0x113403590>"
      ]
     },
     "metadata": {},
     "output_type": "display_data"
    },
    {
     "data": {
      "text/html": [
       "<span style='background-color: blue; color: white'>B 1506071</span> <a href=https://bugs.launchpad.net/bugs/1506071>fuel-agent should retry if loop device allocation failed</a> 2015-10-14/2015-10-14<br>- Triaged / Medium / fuel-python / 8.0<br>- [ibp low-hanging-fruit]"
      ],
      "text/plain": [
       "<IPython.core.display.HTML at 0x116e4b510>"
      ]
     },
     "metadata": {},
     "output_type": "display_data"
    },
    {
     "data": {
      "text/html": [
       "<span style='background-color: blue; color: white'>B 1271070</span> <a href=https://bugs.launchpad.net/bugs/1271070>[ui] There is no validation of IP ranges intersections on the Networks tab</a> 2014-01-21/2015-10-12<br>- Confirmed / Low / fuel-ui / 8.0<br>- [ui]"
      ],
      "text/plain": [
       "<IPython.core.display.HTML at 0x113b58190>"
      ]
     },
     "metadata": {},
     "output_type": "display_data"
    },
    {
     "data": {
      "text/html": [
       "- <span style='background-color: lightgreen; color: black'>R 69371</span> stackforge/fuel-web master ABANDONED <a href='https://review.openstack.org/69371'>Networks validation (IP ranges intersections)</a> Julia Aranovich 2014-01-27/2014-04-07"
      ],
      "text/plain": [
       "<IPython.core.display.HTML at 0x116e33810>"
      ]
     },
     "metadata": {},
     "output_type": "display_data"
    },
    {
     "data": {
      "text/html": [
       "- <span style='background-color: lightgreen; color: black'>R 154793</span> stackforge/fuel-web master ABANDONED <a href='https://review.openstack.org/154793'>Frontend networks validation</a> Alexandra Morozova 2015-02-11/2015-07-21"
      ],
      "text/plain": [
       "<IPython.core.display.HTML at 0x118f4eb10>"
      ]
     },
     "metadata": {},
     "output_type": "display_data"
    },
    {
     "data": {
      "text/html": [
       "<span style='background-color: blue; color: white'>B 1286110</span> <a href=https://bugs.launchpad.net/bugs/1286110>Min level filter changes from ERROR to INFO for orchestrator logs</a> 2014-02-28/2015-10-12<br>- Confirmed / Low / fuel-library / 8.0<br>- [astute ui]"
      ],
      "text/plain": [
       "<IPython.core.display.HTML at 0x10f7b1a50>"
      ]
     },
     "metadata": {},
     "output_type": "display_data"
    },
    {
     "data": {
      "text/html": [
       "<span style='background-color: blue; color: white'>B 1303762</span> <a href=https://bugs.launchpad.net/bugs/1303762>[puppet] Fuel Library has dynamic lookup in templates</a> 2014-04-07/2015-10-12<br>- Confirmed / Low / fuel-library / 8.0<br>- []"
      ],
      "text/plain": [
       "<IPython.core.display.HTML at 0x1139ade50>"
      ]
     },
     "metadata": {},
     "output_type": "display_data"
    },
    {
     "data": {
      "text/html": [
       "<span style='background-color: blue; color: white'>B 1312238</span> <a href=https://bugs.launchpad.net/bugs/1312238>[provision] Kill installer on critical errors</a> 2014-04-24/2015-10-12<br>- Confirmed / Low / fuel-build / 8.0<br>- [non-release]"
      ],
      "text/plain": [
       "<IPython.core.display.HTML at 0x113b289d0>"
      ]
     },
     "metadata": {},
     "output_type": "display_data"
    },
    {
     "data": {
      "text/html": [
       "<span style='background-color: blue; color: white'>B 1348599</span> <a href=https://bugs.launchpad.net/bugs/1348599>ISO build requires sudo</a> 2014-07-25/2015-09-21<br>- Confirmed / Low / fuel-build / 8.0<br>- [module-build qa-agree-7.0]"
      ],
      "text/plain": [
       "<IPython.core.display.HTML at 0x111b211d0>"
      ]
     },
     "metadata": {},
     "output_type": "display_data"
    },
    {
     "data": {
      "text/html": [
       "- <span style='background-color: lightgreen; color: black'>R 128651</span> stackforge/fuel-main master ABANDONED <a href='https://review.openstack.org/128651'>Remove sudo from docker operations</a> Sergey Kulanov 2014-10-15/2015-07-13"
      ],
      "text/plain": [
       "<IPython.core.display.HTML at 0x10cfde150>"
      ]
     },
     "metadata": {},
     "output_type": "display_data"
    },
    {
     "data": {
      "text/html": [
       "- <span style='background-color: lightgreen; color: black'>R 129468</span> stackforge/fuel-main master ABANDONED <a href='https://review.openstack.org/129468'>[WIP] Implement rpm package building in mock env</a> Sergey Kulanov 2014-10-19/2015-07-13"
      ],
      "text/plain": [
       "<IPython.core.display.HTML at 0x11336db90>"
      ]
     },
     "metadata": {},
     "output_type": "display_data"
    },
    {
     "data": {
      "text/html": [
       "- <span style='background-color: lightgreen; color: black'>R 119638</span> stackforge/fuel-main master ABANDONED <a href='https://review.openstack.org/119638'>Remove sudo from make process (Makefile)</a> Sergey Kulanov 2014-09-07/2015-07-13"
      ],
      "text/plain": [
       "<IPython.core.display.HTML at 0x111b211d0>"
      ]
     },
     "metadata": {},
     "output_type": "display_data"
    },
    {
     "data": {
      "text/html": [
       "<span style='background-color: blue; color: white'>B 1372081</span> <a href=https://bugs.launchpad.net/bugs/1372081>ceph-osd failed to start if filesystem is recovered at mount time</a> 2014-09-21/2015-10-12<br>- Triaged / Low / mos-ceph / 8.0<br>- [ceph]"
      ],
      "text/plain": [
       "<IPython.core.display.HTML at 0x111be1310>"
      ]
     },
     "metadata": {},
     "output_type": "display_data"
    },
    {
     "data": {
      "text/html": [
       "<span style='background-color: blue; color: white'>B 1378032</span> <a href=https://bugs.launchpad.net/bugs/1378032>[library] Puppet Heat uses 2 templates</a> 2014-10-06/2015-10-12<br>- Confirmed / Low / mos-puppet / 8.0<br>- []"
      ],
      "text/plain": [
       "<IPython.core.display.HTML at 0x113dfbe10>"
      ]
     },
     "metadata": {},
     "output_type": "display_data"
    },
    {
     "data": {
      "text/html": [
       "- <span style='background-color: lightgreen; color: black'>R 126364</span> stackforge/fuel-library master ABANDONED <a href='https://review.openstack.org/126364'>Refactor templates for Heat</a> Sergii Golovatiuk 2014-10-06/2015-02-13"
      ],
      "text/plain": [
       "<IPython.core.display.HTML at 0x111b21e90>"
      ]
     },
     "metadata": {},
     "output_type": "display_data"
    },
    {
     "data": {
      "text/html": [
       "<span style='background-color: blue; color: white'>B 1379855</span> <a href=https://bugs.launchpad.net/bugs/1379855>    Run syntax check for OCF scripts</a> 2014-10-10/2015-10-08<br>- Confirmed / Low / fuel-docs / 8.0<br>- [fuel-library]"
      ],
      "text/plain": [
       "<IPython.core.display.HTML at 0x113c5b690>"
      ]
     },
     "metadata": {},
     "output_type": "display_data"
    },
    {
     "data": {
      "text/html": [
       "- <span style='background-color: lightgreen; color: black'>R 126841</span> stackforge/fuel-library master MERGED <a href='https://review.openstack.org/126841'>Run syntax check for OCF scripts</a> Aleksandr Didenko 2014-10-08/2014-10-10"
      ],
      "text/plain": [
       "<IPython.core.display.HTML at 0x10f7b1e10>"
      ]
     },
     "metadata": {},
     "output_type": "display_data"
    },
    {
     "data": {
      "text/html": [
       "<span style='background-color: blue; color: white'>B 1382539</span> <a href=https://bugs.launchpad.net/bugs/1382539>Set reserved_host_memory_mb to zero for vCenter deployment</a> 2014-10-17/2015-10-12<br>- Confirmed / Low / igajsin / 8.0<br>- [partner vcenter]"
      ],
      "text/plain": [
       "<IPython.core.display.HTML at 0x116e33c50>"
      ]
     },
     "metadata": {},
     "output_type": "display_data"
    },
    {
     "data": {
      "text/html": [
       "- <span style='background-color: lightgreen; color: black'>R 131140</span> stackforge/fuel-library master ABANDONED <a href='https://review.openstack.org/131140'>set `reserved_host_memory_mb' to zero for vCenter compute driver</a> Igor Zinovik 2014-10-27/2015-02-12"
      ],
      "text/plain": [
       "<IPython.core.display.HTML at 0x10ec42290>"
      ]
     },
     "metadata": {},
     "output_type": "display_data"
    },
    {
     "data": {
      "text/html": [
       "<span style='background-color: blue; color: white'>B 1390083</span> <a href=https://bugs.launchpad.net/bugs/1390083>[ui] it's impossible to customize cluster in wizard without mouse</a> 2014-11-06/2015-10-12<br>- Confirmed / Low / fuel-ui / 8.0<br>- [ui]"
      ],
      "text/plain": [
       "<IPython.core.display.HTML at 0x11021b210>"
      ]
     },
     "metadata": {},
     "output_type": "display_data"
    },
    {
     "data": {
      "text/html": [
       "<span style='background-color: blue; color: white'>B 1396154</span> <a href=https://bugs.launchpad.net/bugs/1396154>[plugins] User friendly error message instead of exception</a> 2014-11-25/2015-10-12<br>- Triaged / Low / fuel-python / 8.0<br>- [feature-plugins]"
      ],
      "text/plain": [
       "<IPython.core.display.HTML at 0x116e4bc50>"
      ]
     },
     "metadata": {},
     "output_type": "display_data"
    },
    {
     "data": {
      "text/html": [
       "<span style='background-color: blue; color: white'>B 1396327</span> <a href=https://bugs.launchpad.net/bugs/1396327>    Changed get_nodes method in DeploySelectedNodes</a> 2014-11-25/2015-10-08<br>- Triaged / Low / fuel-docs / 8.0<br>- [fuel-web]"
      ],
      "text/plain": [
       "<IPython.core.display.HTML at 0x113b584d0>"
      ]
     },
     "metadata": {},
     "output_type": "display_data"
    },
    {
     "data": {
      "text/html": [
       "- <span style='background-color: lightgreen; color: black'>R 136738</span> stackforge/fuel-web master MERGED <a href='https://review.openstack.org/136738'>Changed get_nodes method in DeploySelectedNodes</a> Vladimir Kozhukalov 2014-11-24/2014-11-25"
      ],
      "text/plain": [
       "<IPython.core.display.HTML at 0x1167d5e90>"
      ]
     },
     "metadata": {},
     "output_type": "display_data"
    },
    {
     "data": {
      "text/html": [
       "<span style='background-color: blue; color: white'>B 1418549</span> <a href=https://bugs.launchpad.net/bugs/1418549>It is possible to click \"Save Settings\" button on the settings tab when validation is performed</a> 2015-02-05/2015-10-12<br>- Confirmed / Low / fuel-ui / 8.0<br>- [ui]"
      ],
      "text/plain": [
       "<IPython.core.display.HTML at 0x118f4ef10>"
      ]
     },
     "metadata": {},
     "output_type": "display_data"
    },
    {
     "data": {
      "text/html": [
       "<span style='background-color: blue; color: white'>B 1418906</span> <a href=https://bugs.launchpad.net/bugs/1418906>Double 'Deployment successfully stopped' notification on fake UI</a> 2015-02-06/2015-08-03<br>- Confirmed / Low / fuel-python / 8.0<br>- [feature-demo-site feature-stop-deployment size-s ui]"
      ],
      "text/plain": [
       "<IPython.core.display.HTML at 0x113be0710>"
      ]
     },
     "metadata": {},
     "output_type": "display_data"
    },
    {
     "data": {
      "text/html": [
       "<span style='background-color: blue; color: white'>B 1432992</span> <a href=https://bugs.launchpad.net/bugs/1432992>[ui] Inconsistent network verification message</a> 2015-03-17/2015-09-23<br>- Confirmed / Low / fuel-python / 8.0<br>- [low-hanging-fruit module-nailgun size-s]"
      ],
      "text/plain": [
       "<IPython.core.display.HTML at 0x1139ada10>"
      ]
     },
     "metadata": {},
     "output_type": "display_data"
    },
    {
     "data": {
      "text/html": [
       "<span style='background-color: blue; color: white'>B 1434450</span> <a href=https://bugs.launchpad.net/bugs/1434450>Fuel 6.1 Add repository into IDN</a> 2015-03-20/2015-08-03<br>- Confirmed / Low / fuel-python / 8.0<br>- [feature-remote-repos]"
      ],
      "text/plain": [
       "<IPython.core.display.HTML at 0x114b8b4d0>"
      ]
     },
     "metadata": {},
     "output_type": "display_data"
    },
    {
     "data": {
      "text/html": [
       "<span style='background-color: blue; color: white'>B 1441953</span> <a href=https://bugs.launchpad.net/bugs/1441953>Shotgun doesn't allow specify same filename for different commands</a> 2015-04-09/2015-08-07<br>- Triaged / Low / fuel-python / 8.0<br>- [module-shotgun]"
      ],
      "text/plain": [
       "<IPython.core.display.HTML at 0x113df1cd0>"
      ]
     },
     "metadata": {},
     "output_type": "display_data"
    },
    {
     "data": {
      "text/html": [
       "<span style='background-color: blue; color: white'>B 1443508</span> <a href=https://bugs.launchpad.net/bugs/1443508>Many errors with dhclient[2561] in bootstrap/messages.log</a> 2015-04-13/2015-10-12<br>- Confirmed / Low / fuel-library / 8.0<br>- [qa-agree-7.0]"
      ],
      "text/plain": [
       "<IPython.core.display.HTML at 0x113403510>"
      ]
     },
     "metadata": {},
     "output_type": "display_data"
    },
    {
     "data": {
      "text/html": [
       "<span style='background-color: blue; color: white'>B 1444344</span> <a href=https://bugs.launchpad.net/bugs/1444344>network verification shows duplicate dhcp warning for each node</a> 2015-04-15/2015-10-12<br>- Confirmed / Low / fuel-python / 8.0<br>- [known-issue module-netcheck]"
      ],
      "text/plain": [
       "<IPython.core.display.HTML at 0x113400250>"
      ]
     },
     "metadata": {},
     "output_type": "display_data"
    },
    {
     "data": {
      "text/html": [
       "<span style='background-color: blue; color: white'>B 1445085</span> <a href=https://bugs.launchpad.net/bugs/1445085>Needless value  'cinder' presents in nailgun fixtures</a> 2015-04-16/2015-10-12<br>- Confirmed / Low / fuel-python / 8.0<br>- [low-hanging-fruit module-nailgun]"
      ],
      "text/plain": [
       "<IPython.core.display.HTML at 0x111be19d0>"
      ]
     },
     "metadata": {},
     "output_type": "display_data"
    },
    {
     "data": {
      "text/html": [
       "<span style='background-color: blue; color: white'>B 1448151</span> <a href=https://bugs.launchpad.net/bugs/1448151>consistently handle configuration parameters report_interval and [service|agent]_down_time</a> 2015-04-24/2015-08-06<br>- Confirmed / Low / fuel-library / 8.0<br>- [cinder low-hanging-fruit neutron nova]"
      ],
      "text/plain": [
       "<IPython.core.display.HTML at 0x1139adb50>"
      ]
     },
     "metadata": {},
     "output_type": "display_data"
    },
    {
     "data": {
      "text/html": [
       "<span style='background-color: blue; color: white'>B 1453181</span> <a href=https://bugs.launchpad.net/bugs/1453181>Bridge ports should have the same provider</a> 2015-05-08/2015-10-12<br>- Confirmed / Low / fuel-library / 8.0<br>- [l23network]"
      ],
      "text/plain": [
       "<IPython.core.display.HTML at 0x10f7dab10>"
      ]
     },
     "metadata": {},
     "output_type": "display_data"
    },
    {
     "data": {
      "text/html": [
       "<span style='background-color: blue; color: white'>B 1455264</span> <a href=https://bugs.launchpad.net/bugs/1455264>Horizon Console Inaccessible from Fuel when Operating System is CentOS 6.5</a> 2015-05-14/<span style='background-color: red; color: white'>2015-09-04</span><br>- Confirmed / Low / myatsenko / 8.0<br>- []"
      ],
      "text/plain": [
       "<IPython.core.display.HTML at 0x118f4e610>"
      ]
     },
     "metadata": {},
     "output_type": "display_data"
    },
    {
     "data": {
      "text/html": [
       "- <span style='background-color: lightgreen; color: black'>R 196075</span> stackforge/fuel-library master ABANDONED <a href='https://review.openstack.org/196075'>Update \"/dashboard\" URI to \"/horizon\"</a> Maksym Yatsenko 2015-06-26/2015-09-04"
      ],
      "text/plain": [
       "<IPython.core.display.HTML at 0x1167d5d50>"
      ]
     },
     "metadata": {},
     "output_type": "display_data"
    },
    {
     "data": {
      "text/html": [
       "<span style='background-color: blue; color: white'>B 1459330</span> <a href=https://bugs.launchpad.net/bugs/1459330>Send darmonize error output to puppet log</a> 2015-05-27/2015-08-03<br>- Triaged / Low / fuel-python / 8.0<br>- [qa-agree-7.0]"
      ],
      "text/plain": [
       "<IPython.core.display.HTML at 0x116e4b290>"
      ]
     },
     "metadata": {},
     "output_type": "display_data"
    },
    {
     "data": {
      "text/html": [
       "<span style='background-color: blue; color: white'>B 1466867</span> <a href=https://bugs.launchpad.net/bugs/1466867>Remove unneeded package subscription-manager from fuel-main</a> 2015-06-19/<span style='background-color: red; color: white'>2015-08-06</span><br>- Triaged / Low / asilenkov / 8.0<br>- []"
      ],
      "text/plain": [
       "<IPython.core.display.HTML at 0x10ec421d0>"
      ]
     },
     "metadata": {},
     "output_type": "display_data"
    },
    {
     "data": {
      "text/html": [
       "<span style='background-color: blue; color: white'>B 1470053</span> <a href=https://bugs.launchpad.net/bugs/1470053>Add checking JS code style to CI for fuel-stats</a> 2015-06-30/2015-10-12<br>- Confirmed / Low / fuel-ui / 8.0<br>- [feature-stats non-release ui ui-feature]"
      ],
      "text/plain": [
       "<IPython.core.display.HTML at 0x118f4ec90>"
      ]
     },
     "metadata": {},
     "output_type": "display_data"
    },
    {
     "data": {
      "text/html": [
       "<span style='background-color: blue; color: white'>B 1470602</span> <a href=https://bugs.launchpad.net/bugs/1470602>Implement timer in perestroika logs. </a> 2015-07-01/2015-08-06<br>- Triaged / Low / fuel-build / 8.0<br>- []"
      ],
      "text/plain": [
       "<IPython.core.display.HTML at 0x10f7b1950>"
      ]
     },
     "metadata": {},
     "output_type": "display_data"
    },
    {
     "data": {
      "text/html": [
       "<span style='background-color: blue; color: white'>B 1477903</span> <a href=https://bugs.launchpad.net/bugs/1477903>custom repo named 'rabbitmq' will not appear on nodes after deployment</a> 2015-07-24/2015-10-08<br>- Confirmed / Low / fuel-docs / 8.0<br>- [release-notes-done rn7.0 scale]"
      ],
      "text/plain": [
       "<IPython.core.display.HTML at 0x1139ad290>"
      ]
     },
     "metadata": {},
     "output_type": "display_data"
    },
    {
     "data": {
      "text/html": [
       "- <span style='background-color: lightgreen; color: black'>R 222658</span> stackforge/fuel-docs master MERGED <a href='https://review.openstack.org/222658'>[RN 7.0]Fuel install&deploy issues</a> Alexander Adamov 2015-09-11/2015-09-25"
      ],
      "text/plain": [
       "<IPython.core.display.HTML at 0x11357ded0>"
      ]
     },
     "metadata": {},
     "output_type": "display_data"
    },
    {
     "data": {
      "text/html": [
       "<span style='background-color: blue; color: white'>B 1478692</span> <a href=https://bugs.launchpad.net/bugs/1478692>Updating environment should display accurate messaging</a> 2015-07-27/2015-10-12<br>- Confirmed / Low / fuel-ui / 8.0<br>- [module-nailgun ui]"
      ],
      "text/plain": [
       "<IPython.core.display.HTML at 0x111be1650>"
      ]
     },
     "metadata": {},
     "output_type": "display_data"
    },
    {
     "data": {
      "text/html": [
       "<span style='background-color: blue; color: white'>B 1480918</span> <a href=https://bugs.launchpad.net/bugs/1480918>We can set vulnerability password for fuel user, use PAM on Fuel master</a> 2015-08-03/<span style='background-color: red; color: white'>2015-10-08</span><br>- In Progress / Low / bpiotrowski / 8.0<br>- []"
      ],
      "text/plain": [
       "<IPython.core.display.HTML at 0x113403a10>"
      ]
     },
     "metadata": {},
     "output_type": "display_data"
    },
    {
     "data": {
      "text/html": [
       "<span style='background-color: blue; color: white'>B 1481744</span> <a href=https://bugs.launchpad.net/bugs/1481744>Change pep8 jobs to compare number of errors before and after the request</a> 2015-08-05/2015-08-10<br>- Confirmed / Low / fuel-ci / 8.0<br>- [fuel-ci]"
      ],
      "text/plain": [
       "<IPython.core.display.HTML at 0x1134007d0>"
      ]
     },
     "metadata": {},
     "output_type": "display_data"
    },
    {
     "data": {
      "text/html": [
       "- <a href='https://review.fuel-infra.org/10094'>https://review.fuel-infra.org/10094</a>"
      ],
      "text/plain": [
       "<IPython.core.display.HTML at 0x1134001d0>"
      ]
     },
     "metadata": {},
     "output_type": "display_data"
    },
    {
     "data": {
      "text/html": [
       "<span style='background-color: blue; color: white'>B 1482161</span> <a href=https://bugs.launchpad.net/bugs/1482161>Missing docstrings in cluster_upgrade extension to nailgun</a> 2015-08-06/2015-08-10<br>- Confirmed / Low / fuel-octane / 8.0<br>- [module-nailgun]"
      ],
      "text/plain": [
       "<IPython.core.display.HTML at 0x113403ed0>"
      ]
     },
     "metadata": {},
     "output_type": "display_data"
    },
    {
     "data": {
      "text/html": [
       "<span style='background-color: blue; color: white'>B 1482276</span> <a href=https://bugs.launchpad.net/bugs/1482276>Use mysql-server-wsrep-5.6 in runtests.sh</a> 2015-08-06/2015-10-08<br>- Confirmed / Low / mos-packaging / 8.0<br>- []"
      ],
      "text/plain": [
       "<IPython.core.display.HTML at 0x1139adc90>"
      ]
     },
     "metadata": {},
     "output_type": "display_data"
    },
    {
     "data": {
      "text/html": [
       "- <span style='background-color: lightgreen; color: black'>R 9407</span> openstack-build/ceilometer-build openstack-ci/fuel-7.0/2015.1.0 MERGED <a href='https://review.fuel-infra.org/9407'>Remove patch from Ceilometer source package</a> Ivan Udovichenko 2015-07-16/2015-07-22"
      ],
      "text/plain": [
       "<IPython.core.display.HTML at 0x10f7b1a90>"
      ]
     },
     "metadata": {},
     "output_type": "display_data"
    },
    {
     "data": {
      "text/html": [
       "<span style='background-color: blue; color: white'>B 1483683</span> <a href=https://bugs.launchpad.net/bugs/1483683>Overlapping dialogs are shown on the networks tab when data saving failed</a> 2015-08-11/2015-10-14<br>- Confirmed / Low / vkramskikh / 8.0<br>- [ui]"
      ],
      "text/plain": [
       "<IPython.core.display.HTML at 0x10f7b1610>"
      ]
     },
     "metadata": {},
     "output_type": "display_data"
    },
    {
     "data": {
      "text/html": [
       "- <span style='background-color: lightgreen; color: black'>R 234308</span> stackforge/fuel-web master MERGED <a href='https://review.openstack.org/234308'>Don't leave promise pending in NetworkTab's applyChanges</a> Vitaly Kramskikh 2015-10-13/2015-10-14"
      ],
      "text/plain": [
       "<IPython.core.display.HTML at 0x10cf5bf90>"
      ]
     },
     "metadata": {},
     "output_type": "display_data"
    },
    {
     "data": {
      "text/html": [
       "<span style='background-color: blue; color: white'>B 1484468</span> <a href=https://bugs.launchpad.net/bugs/1484468>After clicking stop deployment button progress bars are displayed on some nodes</a> 2015-08-13/2015-09-17<br>- Confirmed / Low / fuel-python / 8.0<br>- [fuel-ui]"
      ],
      "text/plain": [
       "<IPython.core.display.HTML at 0x113b587d0>"
      ]
     },
     "metadata": {},
     "output_type": "display_data"
    },
    {
     "data": {
      "text/html": [
       "<span style='background-color: blue; color: white'>B 1487029</span> <a href=https://bugs.launchpad.net/bugs/1487029>May be we need to sort selected values for filtering</a> 2015-08-20/2015-08-20<br>- Confirmed / Low / fuel-ui / 8.0<br>- [ui]"
      ],
      "text/plain": [
       "<IPython.core.display.HTML at 0x116e4b490>"
      ]
     },
     "metadata": {},
     "output_type": "display_data"
    },
    {
     "data": {
      "text/html": [
       "<span style='background-color: blue; color: white'>B 1491068</span> <a href=https://bugs.launchpad.net/bugs/1491068>[DevOps] Fix rst2pdf to be compatible with Sphinx 1.3 and upgrade Sphinx 1.2 to 1.3</a> 2015-09-01/2015-09-03<br>- Confirmed / Low / fuel-devops / 8.0<br>- []"
      ],
      "text/plain": [
       "<IPython.core.display.HTML at 0x11021bc90>"
      ]
     },
     "metadata": {},
     "output_type": "display_data"
    },
    {
     "data": {
      "text/html": [
       "<span style='background-color: blue; color: white'>B 1493985</span> <a href=https://bugs.launchpad.net/bugs/1493985>fuel-library noop tests fails on OSX for Parameter ensure failed on Package[cloud-init]: Provider must have features 'purgeable' to set 'ensure' to 'purged'</a> 2015-09-09/2015-10-13<br>- Confirmed / Low / dszeluga / 8.0<br>- [low-hanging-fruit non-release]"
      ],
      "text/plain": [
       "<IPython.core.display.HTML at 0x1167d5a90>"
      ]
     },
     "metadata": {},
     "output_type": "display_data"
    },
    {
     "data": {
      "text/html": [
       "- <span style='background-color: lightgreen; color: black'>R 233260</span> stackforge/fuel-library master MERGED <a href='https://review.openstack.org/233260'>Revert \"Fix noop test on OS X\"</a> Alex Schultz 2015-10-09/2015-10-10"
      ],
      "text/plain": [
       "<IPython.core.display.HTML at 0x10f7da0d0>"
      ]
     },
     "metadata": {},
     "output_type": "display_data"
    },
    {
     "data": {
      "text/html": [
       "- <span style='background-color: lightgreen; color: black'>R 231934</span> stackforge/fuel-library master MERGED <a href='https://review.openstack.org/231934'>Fix noop test on OS X</a> Damian Szeluga 2015-10-07/2015-10-09"
      ],
      "text/plain": [
       "<IPython.core.display.HTML at 0x118f4eb10>"
      ]
     },
     "metadata": {},
     "output_type": "display_data"
    },
    {
     "data": {
      "text/html": [
       "<span style='background-color: blue; color: white'>B 1494309</span> <a href=https://bugs.launchpad.net/bugs/1494309>Could not retrieve ssh_client_version_full: undefined method `lines' for nil:NilClass</a> 2015-09-10/<span style='background-color: red; color: white'>2015-09-10</span><br>- In Progress / Low / skulanov / 8.0<br>- [fuel-library]"
      ],
      "text/plain": [
       "<IPython.core.display.HTML at 0x10f7b1610>"
      ]
     },
     "metadata": {},
     "output_type": "display_data"
    },
    {
     "data": {
      "text/html": [
       "- <span style='background-color: lightgreen; color: black'>R 222072</span> stackforge/fuel-library master NEW <a href='https://review.openstack.org/222072'>Fix ssh_client_version detection problem in docker env</a> Sergey Kulanov 2015-09-10/<span style='background-color: red; color: white'>2015-09-10</span>"
      ],
      "text/plain": [
       "<IPython.core.display.HTML at 0x11357ded0>"
      ]
     },
     "metadata": {},
     "output_type": "display_data"
    },
    {
     "data": {
      "text/html": [
       "<span style='background-color: blue; color: white'>B 1497960</span> <a href=https://bugs.launchpad.net/bugs/1497960>Add check that linux network subsystem is configured correctly in multiple networks tests</a> 2015-09-21/<span style='background-color: red; color: white'>2015-09-21</span><br>- Confirmed / Low / akostrikov-mirantis / 8.0<br>- [feature-advanced-networking]"
      ],
      "text/plain": [
       "<IPython.core.display.HTML at 0x113dfb210>"
      ]
     },
     "metadata": {},
     "output_type": "display_data"
    },
    {
     "data": {
      "text/html": [
       "<span style='background-color: blue; color: white'>B 1499461</span> <a href=https://bugs.launchpad.net/bugs/1499461>Not clear UX when dealing with long list of settings groups</a> 2015-09-24/2015-09-24<br>- Confirmed / Low / fuel-ui / 8.0<br>- [low-hanging-fruit ui]"
      ],
      "text/plain": [
       "<IPython.core.display.HTML at 0x111af6510>"
      ]
     },
     "metadata": {},
     "output_type": "display_data"
    },
    {
     "data": {
      "text/html": [
       "<span style='background-color: blue; color: white'>B 1500652</span> <a href=https://bugs.launchpad.net/bugs/1500652>Parametrize MOS version in all CI jobs</a> 2015-09-28/2015-10-05<br>- Confirmed / Low / fuel-ci / 8.0<br>- [fuel-ci non-release]"
      ],
      "text/plain": [
       "<IPython.core.display.HTML at 0x113400b10>"
      ]
     },
     "metadata": {},
     "output_type": "display_data"
    },
    {
     "data": {
      "text/html": [
       "<span style='background-color: blue; color: white'>B 1501368</span> <a href=https://bugs.launchpad.net/bugs/1501368>dockerctl config contains old version number</a> 2015-09-30/2015-10-12<br>- In Progress / Low / raytrac3r / 8.0<br>- [low-hanging-fruit module-fuelmenu]"
      ],
      "text/plain": [
       "<IPython.core.display.HTML at 0x113e13210>"
      ]
     },
     "metadata": {},
     "output_type": "display_data"
    },
    {
     "data": {
      "text/html": [
       "- <span style='background-color: lightgreen; color: black'>R 229877</span> stackforge/fuel-library master NEW <a href='https://review.openstack.org/229877'>Remove hardcoded version from dockerctl config</a> Kyrylo Galanov 2015-10-01/2015-10-12"
      ],
      "text/plain": [
       "<IPython.core.display.HTML at 0x113e13890>"
      ]
     },
     "metadata": {},
     "output_type": "display_data"
    },
    {
     "data": {
      "text/html": [
       "<span style='background-color: blue; color: white'>B 1502114</span> <a href=https://bugs.launchpad.net/bugs/1502114>[fuel-main] remove enabling vrde by default</a> 2015-10-02/2015-10-09<br>- Confirmed / Low / fuel-python / 8.0<br>- []"
      ],
      "text/plain": [
       "<IPython.core.display.HTML at 0x113b28690>"
      ]
     },
     "metadata": {},
     "output_type": "display_data"
    },
    {
     "data": {
      "text/html": [
       "<span style='background-color: blue; color: white'>B 1502851</span> <a href=https://bugs.launchpad.net/bugs/1502851>fuelmenu has incorrect link to MOS repo</a> 2015-10-05/<span style='background-color: red; color: white'>2015-10-09</span><br>- In Progress / Low / skulanov / 8.0<br>- [low-hanging-fruit]"
      ],
      "text/plain": [
       "<IPython.core.display.HTML at 0x113e13290>"
      ]
     },
     "metadata": {},
     "output_type": "display_data"
    },
    {
     "data": {
      "text/html": [
       "- <span style='background-color: lightgreen; color: black'>R 230829</span> stackforge/fuel-web master NEW <a href='https://review.openstack.org/230829'>Switch fuelmenu to MOS mirror 8.0</a> Sergey Kulanov 2015-10-04/2015-10-12"
      ],
      "text/plain": [
       "<IPython.core.display.HTML at 0x113e135d0>"
      ]
     },
     "metadata": {},
     "output_type": "display_data"
    },
    {
     "data": {
      "text/html": [
       "<span style='background-color: blue; color: white'>B 1506131</span> <a href=https://bugs.launchpad.net/bugs/1506131>Name 'Level' in Japanese incorrectly displays for some logs</a> 2015-10-14/2015-10-14<br>- Confirmed / Low / fuel-ui / 8.0<br>- [ui]"
      ],
      "text/plain": [
       "<IPython.core.display.HTML at 0x113dfbf90>"
      ]
     },
     "metadata": {},
     "output_type": "display_data"
    },
    {
     "data": {
      "text/html": [
       "<span style='background-color: blue; color: white'>B 1260268</span> <a href=https://bugs.launchpad.net/bugs/1260268>[iso] Customize Cirros image for include following software</a> 2013-12-12/2015-07-28<br>- Confirmed / Wishlist / mos-linux / 8.0<br>- []"
      ],
      "text/plain": [
       "<IPython.core.display.HTML at 0x113be0e90>"
      ]
     },
     "metadata": {},
     "output_type": "display_data"
    },
    {
     "data": {
      "text/html": [
       "<span style='background-color: blue; color: white'>B 1263046</span> <a href=https://bugs.launchpad.net/bugs/1263046>[nailgun] Wrong compute node status via deploy from RESTAPI</a> 2013-12-20/2015-08-03<br>- Confirmed / Wishlist / fuel-python / 8.0<br>- [module-tasks size-l]"
      ],
      "text/plain": [
       "<IPython.core.display.HTML at 0x10f7da610>"
      ]
     },
     "metadata": {},
     "output_type": "display_data"
    },
    {
     "data": {
      "text/html": [
       "<span style='background-color: blue; color: white'>B 1329410</span> <a href=https://bugs.launchpad.net/bugs/1329410>[ui] Make 'Error' a link on nodes selection screen</a> 2014-06-12/2015-08-04<br>- Confirmed / Wishlist / fuel-ui / 8.0<br>- [ui]"
      ],
      "text/plain": [
       "<IPython.core.display.HTML at 0x113b58e50>"
      ]
     },
     "metadata": {},
     "output_type": "display_data"
    },
    {
     "data": {
      "text/html": [
       "<span style='background-color: blue; color: white'>B 1345932</span> <a href=https://bugs.launchpad.net/bugs/1345932>[provision] Root credentials for the nodes</a> 2014-07-21/2015-10-12<br>- Confirmed / Wishlist / fuel-library / 8.0<br>- [provision]"
      ],
      "text/plain": [
       "<IPython.core.display.HTML at 0x116e4b590>"
      ]
     },
     "metadata": {},
     "output_type": "display_data"
    },
    {
     "data": {
      "text/html": [
       "<span style='background-color: blue; color: white'>B 1379011</span> <a href=https://bugs.launchpad.net/bugs/1379011>[library] add support for keystone ldap integration</a> 2014-10-08/2015-10-12<br>- Confirmed / Wishlist / fuel-library / 8.0<br>- []"
      ],
      "text/plain": [
       "<IPython.core.display.HTML at 0x11021b250>"
      ]
     },
     "metadata": {},
     "output_type": "display_data"
    },
    {
     "data": {
      "text/html": [
       "<span style='background-color: blue; color: white'>B 1384804</span> <a href=https://bugs.launchpad.net/bugs/1384804>add ability to use warning messages in settings tab</a> 2014-10-23/2015-09-24<br>- Confirmed / Wishlist / fuel-ui / 8.0<br>- [ui ui-feature]"
      ],
      "text/plain": [
       "<IPython.core.display.HTML at 0x118f4ef10>"
      ]
     },
     "metadata": {},
     "output_type": "display_data"
    },
    {
     "data": {
      "text/html": [
       "- <span style='background-color: lightgreen; color: black'>R 134473</span> stackforge/fuel-web master ABANDONED <a href='https://review.openstack.org/134473'>Non blocking warnings on Settings tab</a> Julia Aranovich 2014-11-14/2015-02-05"
      ],
      "text/plain": [
       "<IPython.core.display.HTML at 0x10f7da390>"
      ]
     },
     "metadata": {},
     "output_type": "display_data"
    },
    {
     "data": {
      "text/html": [
       "<span style='background-color: blue; color: white'>B 1418018</span> <a href=https://bugs.launchpad.net/bugs/1418018>[Improvement] Build server should allow building kernel modules for specific kernel version</a> 2015-02-04/<span style='background-color: red; color: white'>2015-08-30</span><br>- Triaged / Wishlist / dburmistrov / 8.0<br>- []"
      ],
      "text/plain": [
       "<IPython.core.display.HTML at 0x1139ad610>"
      ]
     },
     "metadata": {},
     "output_type": "display_data"
    },
    {
     "data": {
      "text/html": [
       "<span style='background-color: blue; color: white'>B 1451863</span> <a href=https://bugs.launchpad.net/bugs/1451863>Add rabbitmqadmin bash completion</a> 2015-05-05/2015-10-08<br>- Confirmed / Wishlist / mos-linux / 8.0<br>- [rabbitmq]"
      ],
      "text/plain": [
       "<IPython.core.display.HTML at 0x111be19d0>"
      ]
     },
     "metadata": {},
     "output_type": "display_data"
    },
    {
     "data": {
      "text/html": [
       "<span style='background-color: blue; color: white'>B 1462050</span> <a href=https://bugs.launchpad.net/bugs/1462050>fuel log rotation should be part of system log rotation schedule</a> 2015-06-04/2015-10-12<br>- Confirmed / Wishlist / fuel-library / 8.0<br>- [feature-logging]"
      ],
      "text/plain": [
       "<IPython.core.display.HTML at 0x113400090>"
      ]
     },
     "metadata": {},
     "output_type": "display_data"
    },
    {
     "data": {
      "text/html": [
       "<span style='background-color: blue; color: white'>B 1463750</span> <a href=https://bugs.launchpad.net/bugs/1463750>Run more tests on fuel community ISO</a> 2015-06-10/<span style='background-color: red; color: white'>2015-08-11</span><br>- Confirmed / Wishlist / afedorova / 8.0<br>- [jenkins]"
      ],
      "text/plain": [
       "<IPython.core.display.HTML at 0x113e13990>"
      ]
     },
     "metadata": {},
     "output_type": "display_data"
    },
    {
     "data": {
      "text/html": [
       "<span style='background-color: blue; color: white'>B 1468279</span> <a href=https://bugs.launchpad.net/bugs/1468279>It would be helpful to have 'Copy' button on Logs tab</a> 2015-06-24/2015-09-24<br>- Confirmed / Wishlist / fuel-ui / 8.0<br>- [ui ui-feature]"
      ],
      "text/plain": [
       "<IPython.core.display.HTML at 0x113b587d0>"
      ]
     },
     "metadata": {},
     "output_type": "display_data"
    },
    {
     "data": {
      "text/html": [
       "<span style='background-color: blue; color: white'>B 1470923</span> <a href=https://bugs.launchpad.net/bugs/1470923>OSTF proxy will not work in missing controller role case</a> 2015-07-02/2015-08-17<br>- Confirmed / Wishlist / fuel-qa / 8.0<br>- [module-ostf]"
      ],
      "text/plain": [
       "<IPython.core.display.HTML at 0x10f7b1d90>"
      ]
     },
     "metadata": {},
     "output_type": "display_data"
    },
    {
     "data": {
      "text/html": [
       "<span style='background-color: blue; color: white'>B 1470927</span> <a href=https://bugs.launchpad.net/bugs/1470927>OSTF tests can not use third-party keystone</a> 2015-07-02/2015-08-18<br>- Confirmed / Wishlist / fuel-qa / 8.0<br>- [module-ostf]"
      ],
      "text/plain": [
       "<IPython.core.display.HTML at 0x113e13c90>"
      ]
     },
     "metadata": {},
     "output_type": "display_data"
    },
    {
     "data": {
      "text/html": [
       "- <span style='background-color: lightgreen; color: black'>R 197945</span> stackforge/fuel-ostf master MERGED <a href='https://review.openstack.org/197945'>Use service_endpoint as endpoint for environment</a> Dmitry Shulyak 2015-07-02/2015-08-18"
      ],
      "text/plain": [
       "<IPython.core.display.HTML at 0x118f62e90>"
      ]
     },
     "metadata": {},
     "output_type": "display_data"
    },
    {
     "data": {
      "text/html": [
       "<span style='background-color: blue; color: white'>B 1474383</span> <a href=https://bugs.launchpad.net/bugs/1474383>[Docs] Create video tutorials</a> 2015-07-14/2015-10-08<br>- Confirmed / Wishlist / fuel-docs / 8.0<br>- []"
      ],
      "text/plain": [
       "<IPython.core.display.HTML at 0x113403b90>"
      ]
     },
     "metadata": {},
     "output_type": "display_data"
    },
    {
     "data": {
      "text/html": [
       "<span style='background-color: blue; color: white'>B 1482642</span> <a href=https://bugs.launchpad.net/bugs/1482642>[system-tests] Remove unused code</a> 2015-08-07/2015-08-11<br>- Confirmed / Wishlist / fuel-qa / 8.0<br>- []"
      ],
      "text/plain": [
       "<IPython.core.display.HTML at 0x113dfbed0>"
      ]
     },
     "metadata": {},
     "output_type": "display_data"
    },
    {
     "data": {
      "text/html": [
       "- <span style='background-color: lightgreen; color: black'>R 211463</span> stackforge/fuel-qa master ABANDONED <a href='https://review.openstack.org/211463'>Remove puppet module from doc</a> Maksym Strukov 2015-08-11/2015-08-11"
      ],
      "text/plain": [
       "<IPython.core.display.HTML at 0x113400dd0>"
      ]
     },
     "metadata": {},
     "output_type": "display_data"
    },
    {
     "data": {
      "text/html": [
       "- <span style='background-color: lightgreen; color: black'>R 211458</span> stackforge/fuel-qa master MERGED <a href='https://review.openstack.org/211458'>Fix verify-fuel-qa-docs for fuel-qa</a> Maksym Strukov 2015-08-11/2015-08-11"
      ],
      "text/plain": [
       "<IPython.core.display.HTML at 0x113dfbd10>"
      ]
     },
     "metadata": {},
     "output_type": "display_data"
    },
    {
     "data": {
      "text/html": [
       "- <span style='background-color: lightgreen; color: black'>R 210438</span> stackforge/fuel-qa master MERGED <a href='https://review.openstack.org/210438'>Remove puppet modules tests</a> Maksym Strukov 2015-08-07/2015-08-10"
      ],
      "text/plain": [
       "<IPython.core.display.HTML at 0x113dfb8d0>"
      ]
     },
     "metadata": {},
     "output_type": "display_data"
    },
    {
     "data": {
      "text/html": [
       "<span style='background-color: blue; color: white'>B 1486985</span> <a href=https://bugs.launchpad.net/bugs/1486985>I think we can change order of sorting for labels</a> 2015-08-20/2015-08-20<br>- Confirmed / Wishlist / fuel-ui / 8.0<br>- [ui]"
      ],
      "text/plain": [
       "<IPython.core.display.HTML at 0x118f4ed90>"
      ]
     },
     "metadata": {},
     "output_type": "display_data"
    },
    {
     "data": {
      "text/html": [
       "<span style='background-color: blue; color: white'>B 1492572</span> <a href=https://bugs.launchpad.net/bugs/1492572>Ability to specify external MySQL DB in Zabbix plugin</a> 2015-09-05/<span style='background-color: red; color: white'>2015-09-08</span><br>- Confirmed / Wishlist / sammiestoel / 8.0<br>- []"
      ],
      "text/plain": [
       "<IPython.core.display.HTML at 0x113400d50>"
      ]
     },
     "metadata": {},
     "output_type": "display_data"
    },
    {
     "data": {
      "text/html": [
       "<span style='background-color: blue; color: white'>B 1493258</span> <a href=https://bugs.launchpad.net/bugs/1493258>improve heat autoscaling test</a> 2015-09-08/<span style='background-color: red; color: white'>2015-09-10</span><br>- Confirmed / Wishlist / akuznetsova / 8.0<br>- [heat ostf]"
      ],
      "text/plain": [
       "<IPython.core.display.HTML at 0x113dfb210>"
      ]
     },
     "metadata": {},
     "output_type": "display_data"
    },
    {
     "data": {
      "text/html": [
       "<span style='background-color: blue; color: white'>B 1493898</span> <a href=https://bugs.launchpad.net/bugs/1493898>Add scroll_to_top button for Fuel UI</a> 2015-09-09/2015-09-24<br>- Confirmed / Wishlist / fuel-ui / 8.0<br>- [ui ui-feature]"
      ],
      "text/plain": [
       "<IPython.core.display.HTML at 0x113403a90>"
      ]
     },
     "metadata": {},
     "output_type": "display_data"
    },
    {
     "data": {
      "text/html": [
       "<span style='background-color: blue; color: white'>B 1495125</span> <a href=https://bugs.launchpad.net/bugs/1495125>Prefer duplicate messages delivery and reordering to data loss caused by the built-in RabbitMQ partitions recovery</a> 2015-09-12/2015-09-16<br>- Confirmed / Wishlist / fuel-library / 8.0<br>- [ha rabbitmq]"
      ],
      "text/plain": [
       "<IPython.core.display.HTML at 0x1139ad550>"
      ]
     },
     "metadata": {},
     "output_type": "display_data"
    },
    {
     "data": {
      "text/html": [
       "<span style='background-color: blue; color: white'>B 1497279</span> <a href=https://bugs.launchpad.net/bugs/1497279>[Packaging] Support of git-buildpackage and external mirrors during build</a> 2015-09-18/<span style='background-color: red; color: white'>2015-10-06</span><br>- Triaged / Wishlist / dburmistrov / 8.0<br>- [debian packaging prod-1079 ubuntu]"
      ],
      "text/plain": [
       "<IPython.core.display.HTML at 0x113e13d90>"
      ]
     },
     "metadata": {},
     "output_type": "display_data"
    },
    {
     "data": {
      "text/html": [
       "<span style='background-color: blue; color: white'>B 1501452</span> <a href=https://bugs.launchpad.net/bugs/1501452>[fuel-devops] Add possibility to run fuelmenu</a> 2015-09-30/<span style='background-color: red; color: white'>2015-09-30</span><br>- In Progress / Wishlist / mrostecki / 8.0<br>- []"
      ],
      "text/plain": [
       "<IPython.core.display.HTML at 0x10f7b17d0>"
      ]
     },
     "metadata": {},
     "output_type": "display_data"
    },
    {
     "data": {
      "text/html": [
       "- <span style='background-color: lightgreen; color: black'>R 229570</span> stackforge/fuel-devops master NEW <a href='https://review.openstack.org/229570'>Add possibility to run fuelmenu</a> Michal Rostecki 2015-09-30/<span style='background-color: red; color: white'>2015-10-02</span>"
      ],
      "text/plain": [
       "<IPython.core.display.HTML at 0x113589090>"
      ]
     },
     "metadata": {},
     "output_type": "display_data"
    },
    {
     "data": {
      "text/html": [
       "<span style='background-color: blue; color: white'>B 1503386</span> <a href=https://bugs.launchpad.net/bugs/1503386>Output traceback only when debug mode is turned on</a> 2015-10-06/<span style='background-color: red; color: white'>2015-10-08</span><br>- In Progress / Wishlist / atykhonov / 8.0<br>- [module-client]"
      ],
      "text/plain": [
       "<IPython.core.display.HTML at 0x116e33710>"
      ]
     },
     "metadata": {},
     "output_type": "display_data"
    },
    {
     "name": "stdout",
     "output_type": "stream",
     "text": [
      "Found 370 bugs\n"
     ]
    }
   ],
   "source": [
    "search_tags = map(lambda x: \"-\" + x, important_tags + excluded_tags + ['tech-debt'])\n",
    "collection = prj.searchTasks(\n",
    "    milestone=cur_ms, status=open_statuses,\n",
    "    tags=search_tags, tags_combinator='All',\n",
    "    importance=low_priority)\n",
    "for bt in collection:\n",
    "    display_bug(bt.bug)\n",
    "print \"Found %s bugs\" % len(collection)"
   ]
  },
  {
   "cell_type": "markdown",
   "metadata": {},
   "source": [
    "## Medium/Low/Wishlist tech-deb"
   ]
  },
  {
   "cell_type": "code",
   "execution_count": 113,
   "metadata": {
    "collapsed": false
   },
   "outputs": [
    {
     "data": {
      "text/html": [
       "<span style='background-color: blue; color: white'>B 1310646</span> <a href=https://bugs.launchpad.net/bugs/1310646>[library] unit-tests for l23network new resources not avalaible</a> 2014-04-21/<span style='background-color: red; color: white'>2015-09-28</span><br>- In Progress / Medium / xenolog / 8.0<br>- [l23network non-release tech-debt]"
      ],
      "text/plain": [
       "<IPython.core.display.HTML at 0x1167d5990>"
      ]
     },
     "metadata": {},
     "output_type": "display_data"
    },
    {
     "data": {
      "text/html": [
       "- <span style='background-color: lightgreen; color: black'>R 172133</span> stackforge/fuel-library master MERGED <a href='https://review.openstack.org/172133'>Spec-tests for l23network::l2::bond</a> Sergey Vasilenko 2015-04-09/2015-04-10"
      ],
      "text/plain": [
       "<IPython.core.display.HTML at 0x116e4b210>"
      ]
     },
     "metadata": {},
     "output_type": "display_data"
    },
    {
     "data": {
      "text/html": [
       "- <span style='background-color: lightgreen; color: black'>R 187558</span> stackforge/fuel-library master MERGED <a href='https://review.openstack.org/187558'>Workaround Ubuntu bug: ifup is not executed for OVS interfaces</a> Sergey Vasilenko 2015-06-02/2015-06-03"
      ],
      "text/plain": [
       "<IPython.core.display.HTML at 0x116e4bb50>"
      ]
     },
     "metadata": {},
     "output_type": "display_data"
    },
    {
     "data": {
      "text/html": [
       "- <span style='background-color: lightgreen; color: black'>R 166525</span> stackforge/fuel-library master MERGED <a href='https://review.openstack.org/166525'>Spec-tests for l23network::l2::port and l23network::l2::patch</a> Sergey Vasilenko 2015-03-21/2015-04-06"
      ],
      "text/plain": [
       "<IPython.core.display.HTML at 0x116e4b590>"
      ]
     },
     "metadata": {},
     "output_type": "display_data"
    },
    {
     "data": {
      "text/html": [
       "- <span style='background-color: lightgreen; color: black'>R 164027</span> stackforge/fuel-library master MERGED <a href='https://review.openstack.org/164027'>prepare env for use rspec for l23network</a> Sergey Vasilenko 2015-03-12/2015-03-27"
      ],
      "text/plain": [
       "<IPython.core.display.HTML at 0x116e4b5d0>"
      ]
     },
     "metadata": {},
     "output_type": "display_data"
    },
    {
     "data": {
      "text/html": [
       "- <span style='background-color: lightgreen; color: black'>R 172110</span> stackforge/fuel-library master MERGED <a href='https://review.openstack.org/172110'>Spec-tests for l23network::l2::bridge</a> Sergey Vasilenko 2015-04-09/2015-04-10"
      ],
      "text/plain": [
       "<IPython.core.display.HTML at 0x116e4bdd0>"
      ]
     },
     "metadata": {},
     "output_type": "display_data"
    },
    {
     "data": {
      "text/html": [
       "<span style='background-color: blue; color: white'>B 1365391</span> <a href=https://bugs.launchpad.net/bugs/1365391>FuelMenu: Write tests for it</a> 2014-09-04/<span style='background-color: red; color: white'>2015-10-02</span><br>- In Progress / Medium / prmtl / 8.0<br>- [module-fuelmenu size-l tech-debt]"
      ],
      "text/plain": [
       "<IPython.core.display.HTML at 0x113b289d0>"
      ]
     },
     "metadata": {},
     "output_type": "display_data"
    },
    {
     "data": {
      "text/html": [
       "- <span style='background-color: lightgreen; color: black'>R 227251</span> stackforge/fuel-web master MERGED <a href='https://review.openstack.org/227251'>Enable writing tests for fuelmenu</a> Sebastian Kalinowski 2015-09-24/2015-10-02"
      ],
      "text/plain": [
       "<IPython.core.display.HTML at 0x111be1990>"
      ]
     },
     "metadata": {},
     "output_type": "display_data"
    },
    {
     "data": {
      "text/html": [
       "<span style='background-color: blue; color: white'>B 1395674</span> <a href=https://bugs.launchpad.net/bugs/1395674>Change MAC representation in nailgun</a> 2014-11-24/2015-10-12<br>- Triaged / Medium / fuel-python / 8.0<br>- [module-networks tech-debt]"
      ],
      "text/plain": [
       "<IPython.core.display.HTML at 0x113be0e90>"
      ]
     },
     "metadata": {},
     "output_type": "display_data"
    },
    {
     "data": {
      "text/html": [
       "- <span style='background-color: lightgreen; color: black'>R 142244</span> stackforge/fuel-web master ABANDONED <a href='https://review.openstack.org/142244'>Use netaddr.EUI for representing mac address</a> Roman Prykhodchenko 2014-12-16/2015-07-21"
      ],
      "text/plain": [
       "<IPython.core.display.HTML at 0x1168cddd0>"
      ]
     },
     "metadata": {},
     "output_type": "display_data"
    },
    {
     "data": {
      "text/html": [
       "<span style='background-color: blue; color: white'>B 1398043</span> <a href=https://bugs.launchpad.net/bugs/1398043>[nailgun][tests] Teach Environment() methods to accept entities via parameters</a> 2014-12-01/2015-08-05<br>- Confirmed / Medium / fuel-python / 8.0<br>- [tech-debt]"
      ],
      "text/plain": [
       "<IPython.core.display.HTML at 0x1168cdcd0>"
      ]
     },
     "metadata": {},
     "output_type": "display_data"
    },
    {
     "data": {
      "text/html": [
       "<span style='background-color: blue; color: white'>B 1398052</span> <a href=https://bugs.launchpad.net/bugs/1398052>[nailgun][tests] Add path tracing into TestTasksLogging.check_keys_included</a> 2014-12-01/2015-09-23<br>- Confirmed / Medium / fuel-python / 8.0<br>- [qa-agree-7.0 tech-debt]"
      ],
      "text/plain": [
       "<IPython.core.display.HTML at 0x1167d5350>"
      ]
     },
     "metadata": {},
     "output_type": "display_data"
    },
    {
     "data": {
      "text/html": [
       "<span style='background-color: blue; color: white'>B 1406506</span> <a href=https://bugs.launchpad.net/bugs/1406506>Integration tests for Nailgun operate internal objects</a> 2014-12-30/2015-08-05<br>- Confirmed / Medium / fuel-python / 8.0<br>- [qa-agree-7.0 tech-debt]"
      ],
      "text/plain": [
       "<IPython.core.display.HTML at 0x113400b10>"
      ]
     },
     "metadata": {},
     "output_type": "display_data"
    },
    {
     "data": {
      "text/html": [
       "<span style='background-color: blue; color: white'>B 1410810</span> <a href=https://bugs.launchpad.net/bugs/1410810>Update hacking for Python projects</a> 2015-01-14/2015-10-12<br>- In Progress / Medium / maciej-iai / 8.0<br>- [low-hanging-fruit module-client tech-debt]"
      ],
      "text/plain": [
       "<IPython.core.display.HTML at 0x113dfb210>"
      ]
     },
     "metadata": {},
     "output_type": "display_data"
    },
    {
     "data": {
      "text/html": [
       "- <span style='background-color: lightgreen; color: black'>R 170521</span> stackforge/fuel-web master ABANDONED <a href='https://review.openstack.org/170521'>Changing hacking package version to \">=0.10.1\"</a> Nikolay Markov 2015-04-03/2015-08-18"
      ],
      "text/plain": [
       "<IPython.core.display.HTML at 0x1177b9f10>"
      ]
     },
     "metadata": {},
     "output_type": "display_data"
    },
    {
     "data": {
      "text/html": [
       "- <span style='background-color: lightgreen; color: black'>R 233001</span> stackforge/fuel-web master MERGED <a href='https://review.openstack.org/233001'>Upgrade hacking to 0.10 in fuel_upgrade_system</a> Maciej Kwiek 2015-10-09/2015-10-12"
      ],
      "text/plain": [
       "<IPython.core.display.HTML at 0x11336db90>"
      ]
     },
     "metadata": {},
     "output_type": "display_data"
    },
    {
     "data": {
      "text/html": [
       "- <span style='background-color: lightgreen; color: black'>R 232574</span> stackforge/fuel-web master MERGED <a href='https://review.openstack.org/232574'>Fix hacking 0.10 errors in shotgun</a> Maciej Kwiek 2015-10-08/2015-10-09"
      ],
      "text/plain": [
       "<IPython.core.display.HTML at 0x1139ad3d0>"
      ]
     },
     "metadata": {},
     "output_type": "display_data"
    },
    {
     "data": {
      "text/html": [
       "- <span style='background-color: lightgreen; color: black'>R 229462</span> stackforge/fuel-web master MERGED <a href='https://review.openstack.org/229462'>Fix hacking 0.10 errors in nailgun</a> Maciej Kwiek 2015-09-30/2015-10-08"
      ],
      "text/plain": [
       "<IPython.core.display.HTML at 0x1139ad050>"
      ]
     },
     "metadata": {},
     "output_type": "display_data"
    },
    {
     "data": {
      "text/html": [
       "- <span style='background-color: lightgreen; color: black'>R 232609</span> stackforge/fuel-web master NEW <a href='https://review.openstack.org/232609'>Fix hacking 0.10 in network-checker</a> Maciej Kwiek 2015-10-08/2015-10-12"
      ],
      "text/plain": [
       "<IPython.core.display.HTML at 0x11021bcd0>"
      ]
     },
     "metadata": {},
     "output_type": "display_data"
    },
    {
     "data": {
      "text/html": [
       "<span style='background-color: blue; color: white'>B 1414583</span> <a href=https://bugs.launchpad.net/bugs/1414583>Fix rspecs for custom pacemaker providers</a> 2015-01-26/<span style='background-color: red; color: white'>2015-09-24</span><br>- Confirmed / Medium / idv1985 / 8.0<br>- [tech-debt]"
      ],
      "text/plain": [
       "<IPython.core.display.HTML at 0x114b8ba50>"
      ]
     },
     "metadata": {},
     "output_type": "display_data"
    },
    {
     "data": {
      "text/html": [
       "<span style='background-color: blue; color: white'>B 1421599</span> <a href=https://bugs.launchpad.net/bugs/1421599>Remove fake mode from DeletionTask</a> 2015-02-13/2015-08-05<br>- Confirmed / Medium / fuel-python / 8.0<br>- [low-hanging-fruit qa-agree-7.0 tech-debt]"
      ],
      "text/plain": [
       "<IPython.core.display.HTML at 0x113dfb5d0>"
      ]
     },
     "metadata": {},
     "output_type": "display_data"
    },
    {
     "data": {
      "text/html": [
       "- <span style='background-color: lightgreen; color: black'>R 151648</span> stackforge/fuel-web master MERGED <a href='https://review.openstack.org/151648'>Refactoring of DeletionTask</a> Przemyslaw Kaminski 2015-01-30/2015-02-13"
      ],
      "text/plain": [
       "<IPython.core.display.HTML at 0x1139adc50>"
      ]
     },
     "metadata": {},
     "output_type": "display_data"
    },
    {
     "data": {
      "text/html": [
       "<span style='background-color: blue; color: white'>B 1423916</span> <a href=https://bugs.launchpad.net/bugs/1423916>[nailgun] Refactor network configuration handlers</a> 2015-02-20/2015-08-11<br>- Confirmed / Medium / fuel-python / 8.0<br>- [tech-debt]"
      ],
      "text/plain": [
       "<IPython.core.display.HTML at 0x113400d50>"
      ]
     },
     "metadata": {},
     "output_type": "display_data"
    },
    {
     "data": {
      "text/html": [
       "- <span style='background-color: lightgreen; color: black'>R 137642</span> stackforge/fuel-web master MERGED <a href='https://review.openstack.org/137642'>Wrap errors to JSON in Nailgun API</a> Nikolay Markov 2014-11-27/2015-03-04"
      ],
      "text/plain": [
       "<IPython.core.display.HTML at 0x1167d5350>"
      ]
     },
     "metadata": {},
     "output_type": "display_data"
    },
    {
     "data": {
      "text/html": [
       "<span style='background-color: blue; color: white'>B 1435229</span> <a href=https://bugs.launchpad.net/bugs/1435229>Expand test coverage for OSTF adapter</a> 2015-03-23/2015-10-13<br>- In Progress / Medium / aroma-x / 8.0<br>- [module-ostf tech-debt]"
      ],
      "text/plain": [
       "<IPython.core.display.HTML at 0x10f7b14d0>"
      ]
     },
     "metadata": {},
     "output_type": "display_data"
    },
    {
     "data": {
      "text/html": [
       "- <span style='background-color: lightgreen; color: black'>R 231898</span> stackforge/fuel-ostf master MERGED <a href='https://review.openstack.org/231898'>Add tests for methods of TestSet and TestRun models</a> Artem Roma 2015-10-07/2015-10-13"
      ],
      "text/plain": [
       "<IPython.core.display.HTML at 0x114b6cf10>"
      ]
     },
     "metadata": {},
     "output_type": "display_data"
    },
    {
     "data": {
      "text/html": [
       "- <span style='background-color: lightgreen; color: black'>R 223970</span> stackforge/fuel-ostf master MERGED <a href='https://review.openstack.org/223970'>Add tests for methods of Test model class</a> Artem Roma 2015-09-16/2015-09-30"
      ],
      "text/plain": [
       "<IPython.core.display.HTML at 0x116e4b810>"
      ]
     },
     "metadata": {},
     "output_type": "display_data"
    },
    {
     "data": {
      "text/html": [
       "<span style='background-color: blue; color: white'>B 1435236</span> <a href=https://bugs.launchpad.net/bugs/1435236>Refactor functional tests for ostf-adapter</a> 2015-03-23/2015-08-05<br>- Triaged / Medium / fuel-python / 8.0<br>- [module-ostf tech-debt]"
      ],
      "text/plain": [
       "<IPython.core.display.HTML at 0x113c5b790>"
      ]
     },
     "metadata": {},
     "output_type": "display_data"
    },
    {
     "data": {
      "text/html": [
       "<span style='background-color: blue; color: white'>B 1437232</span> <a href=https://bugs.launchpad.net/bugs/1437232>Random fails of TestTaskManagers.test_deployment_task_managers </a> 2015-03-27/2015-08-12<br>- Confirmed / Medium / fuel-python / 8.0<br>- [qa-agree-7.0 tech-debt]"
      ],
      "text/plain": [
       "<IPython.core.display.HTML at 0x111b211d0>"
      ]
     },
     "metadata": {},
     "output_type": "display_data"
    },
    {
     "data": {
      "text/html": [
       "<span style='background-color: blue; color: white'>B 1440671</span> <a href=https://bugs.launchpad.net/bugs/1440671>Get rid of fake tasks where they are not required</a> 2015-04-06/2015-10-12<br>- Confirmed / Medium / fuel-python / 8.0<br>- [module-nailgun qa-agree-7.0 tech-debt]"
      ],
      "text/plain": [
       "<IPython.core.display.HTML at 0x113403090>"
      ]
     },
     "metadata": {},
     "output_type": "display_data"
    },
    {
     "data": {
      "text/html": [
       "<span style='background-color: blue; color: white'>B 1440807</span> <a href=https://bugs.launchpad.net/bugs/1440807> deployment_mode with additional command and not passing it to create</a> 2015-04-06/2015-10-12<br>- Confirmed / Medium / fuel-python / 8.0<br>- [module-client qa-agree-7.0 tech-debt]"
      ],
      "text/plain": [
       "<IPython.core.display.HTML at 0x10ec42490>"
      ]
     },
     "metadata": {},
     "output_type": "display_data"
    },
    {
     "data": {
      "text/html": [
       "<span style='background-color: blue; color: white'>B 1441129</span> <a href=https://bugs.launchpad.net/bugs/1441129>fuelclient: ha and ha_compact misunderstanding</a> 2015-04-07/2015-10-12<br>- Confirmed / Medium / fuel-python / 8.0<br>- [module-client qa-agree-7.0 tech-debt]"
      ],
      "text/plain": [
       "<IPython.core.display.HTML at 0x113c5b5d0>"
      ]
     },
     "metadata": {},
     "output_type": "display_data"
    },
    {
     "data": {
      "text/html": [
       "<span style='background-color: blue; color: white'>B 1441282</span> <a href=https://bugs.launchpad.net/bugs/1441282>Port rabbitmq retry functions to upstream</a> 2015-04-07/<span style='background-color: red; color: white'>2015-10-02</span><br>- Confirmed / Medium / idv1985 / 8.0<br>- [non-release qa-agree-7.0 tech-debt]"
      ],
      "text/plain": [
       "<IPython.core.display.HTML at 0x116e4b4d0>"
      ]
     },
     "metadata": {},
     "output_type": "display_data"
    },
    {
     "data": {
      "text/html": [
       "- <span style='background-color: lightgreen; color: black'>R 170083</span> stackforge/fuel-library master MERGED <a href='https://review.openstack.org/170083'>Improve rabbitmq retry function</a> Dmitry Ilyin 2015-04-02/2015-04-08"
      ],
      "text/plain": [
       "<IPython.core.display.HTML at 0x1167d5390>"
      ]
     },
     "metadata": {},
     "output_type": "display_data"
    },
    {
     "data": {
      "text/html": [
       "<span style='background-color: blue; color: white'>B 1444090</span> <a href=https://bugs.launchpad.net/bugs/1444090>IBP Split do_build_image method into a set of smaller ones</a> 2015-04-14/2015-10-12<br>- Triaged / Medium / fuel-python / 8.0<br>- [feature-image-based ibp tech-debt]"
      ],
      "text/plain": [
       "<IPython.core.display.HTML at 0x116e33910>"
      ]
     },
     "metadata": {},
     "output_type": "display_data"
    },
    {
     "data": {
      "text/html": [
       "<span style='background-color: blue; color: white'>B 1445480</span> <a href=https://bugs.launchpad.net/bugs/1445480>Wrong http handler is called in test_add_delete_nodes test</a> 2015-04-17/2015-10-12<br>- Triaged / Medium / fuel-python / 8.0<br>- [module-nailgun tech-debt]"
      ],
      "text/plain": [
       "<IPython.core.display.HTML at 0x113dfb490>"
      ]
     },
     "metadata": {},
     "output_type": "display_data"
    },
    {
     "data": {
      "text/html": [
       "<span style='background-color: blue; color: white'>B 1449512</span> <a href=https://bugs.launchpad.net/bugs/1449512>Send cluster id for pre provision task obviously</a> 2015-04-28/2015-10-12<br>- Confirmed / Medium / fuel-python / 8.0<br>- [feature-image-based feature-progress-bar ibp tech-debt]"
      ],
      "text/plain": [
       "<IPython.core.display.HTML at 0x118f4eed0>"
      ]
     },
     "metadata": {},
     "output_type": "display_data"
    },
    {
     "data": {
      "text/html": [
       "- <span style='background-color: lightgreen; color: black'>R 171137</span> stackforge/fuel-astute master MERGED <a href='https://review.openstack.org/171137'>Progress bar for image based provisioning(IBP)</a> Vladimir Sharshov 2015-04-07/2015-04-28"
      ],
      "text/plain": [
       "<IPython.core.display.HTML at 0x111af6890>"
      ]
     },
     "metadata": {},
     "output_type": "display_data"
    },
    {
     "data": {
      "text/html": [
       "<span style='background-color: blue; color: white'>B 1449542</span> <a href=https://bugs.launchpad.net/bugs/1449542>MySQL RA OCF should use a timeout wrapper instead of sleep commands</a> 2015-04-28/2015-10-12<br>- Triaged / Medium / fuel-library / 8.0<br>- [ha tech-debt]"
      ],
      "text/plain": [
       "<IPython.core.display.HTML at 0x113e13350>"
      ]
     },
     "metadata": {},
     "output_type": "display_data"
    },
    {
     "data": {
      "text/html": [
       "<span style='background-color: blue; color: white'>B 1451903</span> <a href=https://bugs.launchpad.net/bugs/1451903>need to sync device filtering patterns in fuel-agent and nailgun-agent</a> 2015-05-05/2015-10-12<br>- Confirmed / Medium / fuel-python / 8.0<br>- [module-volumes tech-debt]"
      ],
      "text/plain": [
       "<IPython.core.display.HTML at 0x116e33d50>"
      ]
     },
     "metadata": {},
     "output_type": "display_data"
    },
    {
     "data": {
      "text/html": [
       "<span style='background-color: blue; color: white'>B 1453773</span> <a href=https://bugs.launchpad.net/bugs/1453773>Fix bad changes in corosync/pacemaker modules and contribute changes upstream</a> 2015-05-11/2015-10-12<br>- Confirmed / Medium / idv1985 / 8.0<br>- [corosync non-release pacemaker tech-debt]"
      ],
      "text/plain": [
       "<IPython.core.display.HTML at 0x10f7b1ad0>"
      ]
     },
     "metadata": {},
     "output_type": "display_data"
    },
    {
     "data": {
      "text/html": [
       "- <span style='background-color: lightgreen; color: black'>R 180669</span> stackforge/fuel-library master MERGED <a href='https://review.openstack.org/180669'>Fixes for pcmk_nodes and crm_node</a> Dmitry Ilyin 2015-05-06/2015-05-14"
      ],
      "text/plain": [
       "<IPython.core.display.HTML at 0x114b6cf10>"
      ]
     },
     "metadata": {},
     "output_type": "display_data"
    },
    {
     "data": {
      "text/html": [
       "- <span style='background-color: lightgreen; color: black'>R 150555</span> stackforge/fuel-library master ABANDONED <a href='https://review.openstack.org/150555'>Updated pacemaker providers</a> Dmitry Ilyin 2015-01-27/2015-09-21"
      ],
      "text/plain": [
       "<IPython.core.display.HTML at 0x1167d5a10>"
      ]
     },
     "metadata": {},
     "output_type": "display_data"
    },
    {
     "data": {
      "text/html": [
       "<span style='background-color: blue; color: white'>B 1454345</span> <a href=https://bugs.launchpad.net/bugs/1454345>[fuel-pythonclient] Can not pass parameters to APIclient __init__</a> 2015-05-12/2015-10-08<br>- Confirmed / Medium / fuel-python / 8.0<br>- [module-client tech-debt]"
      ],
      "text/plain": [
       "<IPython.core.display.HTML at 0x116e4b790>"
      ]
     },
     "metadata": {},
     "output_type": "display_data"
    },
    {
     "data": {
      "text/html": [
       "<span style='background-color: blue; color: white'>B 1454347</span> <a href=https://bugs.launchpad.net/bugs/1454347>[fuel-pythonclient] Client uses singletone for APIClient</a> 2015-05-12/2015-10-12<br>- Confirmed / Medium / fuel-python / 8.0<br>- [module-client tech-debt]"
      ],
      "text/plain": [
       "<IPython.core.display.HTML at 0x111bf37d0>"
      ]
     },
     "metadata": {},
     "output_type": "display_data"
    },
    {
     "data": {
      "text/html": [
       "<span style='background-color: blue; color: white'>B 1454377</span> <a href=https://bugs.launchpad.net/bugs/1454377>'check_ceph' parameter in orchestrator should be renamed</a> 2015-05-12/<span style='background-color: red; color: white'>2015-08-03</span><br>- Confirmed / Medium / rmoe / 8.0<br>- [module-astute module-nailgun tech-debt]"
      ],
      "text/plain": [
       "<IPython.core.display.HTML at 0x113403ed0>"
      ]
     },
     "metadata": {},
     "output_type": "display_data"
    },
    {
     "data": {
      "text/html": [
       "<span style='background-color: blue; color: white'>B 1455664</span> <a href=https://bugs.launchpad.net/bugs/1455664>zabbix in experimetnal doesn't deploy</a> 2015-05-15/2015-09-23<br>- Confirmed / Medium / fuel-python / 8.0<br>- [tech-debt]"
      ],
      "text/plain": [
       "<IPython.core.display.HTML at 0x1168a3cd0>"
      ]
     },
     "metadata": {},
     "output_type": "display_data"
    },
    {
     "data": {
      "text/html": [
       "- <span style='background-color: lightgreen; color: black'>R 182615</span> stackforge/fuel-library master ABANDONED <a href='https://review.openstack.org/182615'>remove Zabbix experimental feature because it has been moved to a fuel plugin</a> Piotr Misiak 2015-05-13/2015-08-11"
      ],
      "text/plain": [
       "<IPython.core.display.HTML at 0x118f622d0>"
      ]
     },
     "metadata": {},
     "output_type": "display_data"
    },
    {
     "data": {
      "text/html": [
       "- <span style='background-color: lightgreen; color: black'>R 221440</span> stackforge/fuel-library master MERGED <a href='https://review.openstack.org/221440'>Remove zabbix from fuel-library</a> Alex Schultz 2015-09-08/2015-09-23"
      ],
      "text/plain": [
       "<IPython.core.display.HTML at 0x1168a3e90>"
      ]
     },
     "metadata": {},
     "output_type": "display_data"
    },
    {
     "data": {
      "text/html": [
       "- <span style='background-color: lightgreen; color: black'>R 182682</span> stackforge/fuel-main master ABANDONED <a href='https://review.openstack.org/182682'>remove Zabbix experimental feature because it has been moved to a fuel plugin</a> Piotr Misiak 2015-05-13/2015-07-28"
      ],
      "text/plain": [
       "<IPython.core.display.HTML at 0x1168a3f90>"
      ]
     },
     "metadata": {},
     "output_type": "display_data"
    },
    {
     "data": {
      "text/html": [
       "- <span style='background-color: lightgreen; color: black'>R 182701</span> stackforge/fuel-web master ABANDONED <a href='https://review.openstack.org/182701'>remove Zabbix experimental feature because it has been moved to a fuel plugin</a> Piotr Misiak 2015-05-13/2015-08-11"
      ],
      "text/plain": [
       "<IPython.core.display.HTML at 0x1168a3b50>"
      ]
     },
     "metadata": {},
     "output_type": "display_data"
    },
    {
     "data": {
      "text/html": [
       "- <span style='background-color: lightgreen; color: black'>R 184017</span> stackforge/fuel-web master MERGED <a href='https://review.openstack.org/184017'>Do not allow to deploy Zabbix</a> Sebastian Kalinowski 2015-05-18/2015-05-18"
      ],
      "text/plain": [
       "<IPython.core.display.HTML at 0x10f7da150>"
      ]
     },
     "metadata": {},
     "output_type": "display_data"
    },
    {
     "data": {
      "text/html": [
       "<span style='background-color: blue; color: white'>B 1457887</span> <a href=https://bugs.launchpad.net/bugs/1457887>[fuel-astute][fuel-web] Don't use retries for puppet deployments by default</a> 2015-05-22/<span style='background-color: red; color: white'>2015-10-09</span><br>- In Progress / Medium / vsharshov / 8.0<br>- [module-astute tech-debt]"
      ],
      "text/plain": [
       "<IPython.core.display.HTML at 0x10ec42c90>"
      ]
     },
     "metadata": {},
     "output_type": "display_data"
    },
    {
     "data": {
      "text/html": [
       "- <span style='background-color: lightgreen; color: black'>R 226318</span> stackforge/fuel-astute master NEW <a href='https://review.openstack.org/226318'>Don't use retries for puppet deployments by default</a> Vladimir Sharshov 2015-09-22/2015-10-12"
      ],
      "text/plain": [
       "<IPython.core.display.HTML at 0x113403b10>"
      ]
     },
     "metadata": {},
     "output_type": "display_data"
    },
    {
     "data": {
      "text/html": [
       "<span style='background-color: blue; color: white'>B 1466121</span> <a href=https://bugs.launchpad.net/bugs/1466121>Refactor filtration of nodes private metadata </a> 2015-06-17/2015-10-12<br>- Confirmed / Medium / fuel-python / 8.0<br>- [feature-stats module-nailgun tech-debt]"
      ],
      "text/plain": [
       "<IPython.core.display.HTML at 0x113c5bfd0>"
      ]
     },
     "metadata": {},
     "output_type": "display_data"
    },
    {
     "data": {
      "text/html": [
       "<span style='background-color: blue; color: white'>B 1468343</span> <a href=https://bugs.launchpad.net/bugs/1468343>WARN: Cache retrieving from task with uuid ... failed due to deletion of corresponding row from db. Empty data will be provided for action log updating routine.</a> 2015-06-24/2015-10-12<br>- Confirmed / Medium / fuel-python / 8.0<br>- [module-nailgun tech-debt]"
      ],
      "text/plain": [
       "<IPython.core.display.HTML at 0x10f7b1690>"
      ]
     },
     "metadata": {},
     "output_type": "display_data"
    },
    {
     "data": {
      "text/html": [
       "<span style='background-color: blue; color: white'>B 1470026</span> <a href=https://bugs.launchpad.net/bugs/1470026>Remove deprecated attributes and values from Fuel Client</a> 2015-06-30/2015-08-05<br>- Confirmed / Medium / fuel-python / 8.0<br>- [module-client tech-debt]"
      ],
      "text/plain": [
       "<IPython.core.display.HTML at 0x116e33450>"
      ]
     },
     "metadata": {},
     "output_type": "display_data"
    },
    {
     "data": {
      "text/html": [
       "- <span style='background-color: lightgreen; color: black'>R 194561</span> stackforge/python-fuelclient master MERGED <a href='https://review.openstack.org/194561'>Return realistic data from mocked library</a> Roman Prykhodchenko 2015-06-23/2015-06-30"
      ],
      "text/plain": [
       "<IPython.core.display.HTML at 0x1167d5290>"
      ]
     },
     "metadata": {},
     "output_type": "display_data"
    },
    {
     "data": {
      "text/html": [
       "<span style='background-color: blue; color: white'>B 1471763</span> <a href=https://bugs.launchpad.net/bugs/1471763>Move Fuel UI to a separate repository fuel-ui</a> 2015-07-06/<span style='background-color: red; color: white'>2015-09-23</span><br>- Confirmed / Medium / kozhukalov / 8.0<br>- [tech-debt]"
      ],
      "text/plain": [
       "<IPython.core.display.HTML at 0x113dfb690>"
      ]
     },
     "metadata": {},
     "output_type": "display_data"
    },
    {
     "data": {
      "text/html": [
       "<span style='background-color: blue; color: white'>B 1472254</span> <a href=https://bugs.launchpad.net/bugs/1472254>Fuel Agent: Get rid of log module from oslo-incubator</a> 2015-07-07/2015-08-05<br>- Confirmed / Medium / fuel-python / 8.0<br>- [feature-image-based ibp tech-debt]"
      ],
      "text/plain": [
       "<IPython.core.display.HTML at 0x113400490>"
      ]
     },
     "metadata": {},
     "output_type": "display_data"
    },
    {
     "data": {
      "text/html": [
       "<span style='background-color: blue; color: white'>B 1475197</span> <a href=https://bugs.launchpad.net/bugs/1475197>[nailgun] use factory for objects</a> 2015-07-16/2015-09-18<br>- Confirmed / Medium / fuel-python / 8.0<br>- [module-nailgun tech-debt]"
      ],
      "text/plain": [
       "<IPython.core.display.HTML at 0x10f7b1590>"
      ]
     },
     "metadata": {},
     "output_type": "display_data"
    },
    {
     "data": {
      "text/html": [
       "- <span style='background-color: lightgreen; color: black'>R 205620</span> stackforge/fuel-web master ABANDONED <a href='https://review.openstack.org/205620'>Add service locator for nailgun.objects</a> Ivan Kliuk 2015-07-24/2015-08-03"
      ],
      "text/plain": [
       "<IPython.core.display.HTML at 0x116e4b950>"
      ]
     },
     "metadata": {},
     "output_type": "display_data"
    },
    {
     "data": {
      "text/html": [
       "<span style='background-color: blue; color: white'>B 1475219</span> <a href=https://bugs.launchpad.net/bugs/1475219>Move fuel_upgrade_system to a separate git repository</a> 2015-07-16/2015-10-12<br>- Confirmed / Medium / kozhukalov / 8.0<br>- [non-release tech-debt]"
      ],
      "text/plain": [
       "<IPython.core.display.HTML at 0x113c5bf10>"
      ]
     },
     "metadata": {},
     "output_type": "display_data"
    },
    {
     "data": {
      "text/html": [
       "- <span style='background-color: lightgreen; color: black'>R 205069</span> stackforge/fuel-main master ABANDONED <a href='https://review.openstack.org/205069'>Separate repository for Fuel upgrade script</a> Vladimir Kozhukalov 2015-07-23/2015-09-01"
      ],
      "text/plain": [
       "<IPython.core.display.HTML at 0x111b211d0>"
      ]
     },
     "metadata": {},
     "output_type": "display_data"
    },
    {
     "data": {
      "text/html": [
       "- <span style='background-color: lightgreen; color: black'>R 9701</span> fuel-infra/jenkins-jobs master MERGED <a href='https://review.fuel-infra.org/9701'>Build fuel-upgrade rpm package</a> Vladimir Kozhukalov 2015-07-21/2015-07-21"
      ],
      "text/plain": [
       "<IPython.core.display.HTML at 0x118f622d0>"
      ]
     },
     "metadata": {},
     "output_type": "display_data"
    },
    {
     "data": {
      "text/html": [
       "- <span style='background-color: lightgreen; color: black'>R 202541</span> openstack-infra/project-config master MERGED <a href='https://review.openstack.org/202541'>Add fuel-upgrade repo</a> Vladimir Kozhukalov 2015-07-16/2015-07-20"
      ],
      "text/plain": [
       "<IPython.core.display.HTML at 0x10cfde150>"
      ]
     },
     "metadata": {},
     "output_type": "display_data"
    },
    {
     "data": {
      "text/html": [
       "- <span style='background-color: lightgreen; color: black'>R 9430</span> fuel-infra/jenkins-jobs master MERGED <a href='https://review.fuel-infra.org/9430'>Add verification jobs for Fuel master upgrade</a> Vladimir Kozhukalov 2015-07-16/2015-07-21"
      ],
      "text/plain": [
       "<IPython.core.display.HTML at 0x113be0bd0>"
      ]
     },
     "metadata": {},
     "output_type": "display_data"
    },
    {
     "data": {
      "text/html": [
       "<span style='background-color: blue; color: white'>B 1475946</span> <a href=https://bugs.launchpad.net/bugs/1475946>fuel-library version of puppetlabs-haproxy is out of sync with the upstream</a> 2015-07-19/2015-10-12<br>- Confirmed / Medium / fuel-library / 8.0<br>- [non-release tech-debt]"
      ],
      "text/plain": [
       "<IPython.core.display.HTML at 0x1168cddd0>"
      ]
     },
     "metadata": {},
     "output_type": "display_data"
    },
    {
     "data": {
      "text/html": [
       "<span style='background-color: blue; color: white'>B 1476205</span> <a href=https://bugs.launchpad.net/bugs/1476205>[fuel-agent] Refactor code for partition preservation feature</a> 2015-07-20/2015-10-12<br>- Confirmed / Medium / asvechnikov / 8.0<br>- [feature-image-based ibp tech-debt]"
      ],
      "text/plain": [
       "<IPython.core.display.HTML at 0x1139addd0>"
      ]
     },
     "metadata": {},
     "output_type": "display_data"
    },
    {
     "data": {
      "text/html": [
       "<span style='background-color: blue; color: white'>B 1476807</span> <a href=https://bugs.launchpad.net/bugs/1476807>python-fuelclient should have an official OpenStack Infra python unit test jobs</a> 2015-07-21/<span style='background-color: red; color: white'>2015-09-23</span><br>- Confirmed / Medium / kozhukalov / 8.0<br>- [non-release tech-debt]"
      ],
      "text/plain": [
       "<IPython.core.display.HTML at 0x10ec42c90>"
      ]
     },
     "metadata": {},
     "output_type": "display_data"
    },
    {
     "data": {
      "text/html": [
       "<span style='background-color: blue; color: white'>B 1477231</span> <a href=https://bugs.launchpad.net/bugs/1477231>remove un-used parts of ceph module</a> 2015-07-22/2015-10-12<br>- Confirmed / Medium / fuel-library / 8.0<br>- [ceph tech-debt]"
      ],
      "text/plain": [
       "<IPython.core.display.HTML at 0x116e4b150>"
      ]
     },
     "metadata": {},
     "output_type": "display_data"
    },
    {
     "data": {
      "text/html": [
       "- <span style='background-color: lightgreen; color: black'>R 203857</span> stackforge/fuel-library master MERGED <a href='https://review.openstack.org/203857'>Ceph - remove un-used classes</a> Andrew Woodward 2015-07-20/2015-07-22"
      ],
      "text/plain": [
       "<IPython.core.display.HTML at 0x116e4b950>"
      ]
     },
     "metadata": {},
     "output_type": "display_data"
    },
    {
     "data": {
      "text/html": [
       "<span style='background-color: blue; color: white'>B 1477248</span> <a href=https://bugs.launchpad.net/bugs/1477248>fuel-devops needs to track uuid of some of the libvirt objcets</a> 2015-07-22/<span style='background-color: red; color: white'>2015-10-08</span><br>- In Progress / Medium / xarses / 8.0<br>- [fuel-devops non-release tech-debt]"
      ],
      "text/plain": [
       "<IPython.core.display.HTML at 0x1168a3910>"
      ]
     },
     "metadata": {},
     "output_type": "display_data"
    },
    {
     "data": {
      "text/html": [
       "- <span style='background-color: lightgreen; color: black'>R 153058</span> stackforge/fuel-devops master NEW <a href='https://review.openstack.org/153058'>Add uuid to node, volume, network if set</a> Andrew Woodward 2015-02-04/<span style='background-color: red; color: white'>2015-08-17</span>"
      ],
      "text/plain": [
       "<IPython.core.display.HTML at 0x1168a3310>"
      ]
     },
     "metadata": {},
     "output_type": "display_data"
    },
    {
     "data": {
      "text/html": [
       "<span style='background-color: blue; color: white'>B 1477648</span> <a href=https://bugs.launchpad.net/bugs/1477648>[nailgun] Fix comments in https://review.openstack.org/201217/</a> 2015-07-23/<span style='background-color: red; color: white'>2015-09-23</span><br>- Confirmed / Medium / alekseyk-ru / 8.0<br>- [module-nailgun tech-debt]"
      ],
      "text/plain": [
       "<IPython.core.display.HTML at 0x113403490>"
      ]
     },
     "metadata": {},
     "output_type": "display_data"
    },
    {
     "data": {
      "text/html": [
       "- <span style='background-color: lightgreen; color: black'>R 201217</span> stackforge/fuel-web master MERGED <a href='https://review.openstack.org/201217'>API for managing network groups</a> Ryan Moe 2015-07-13/2015-07-23"
      ],
      "text/plain": [
       "<IPython.core.display.HTML at 0x1139ad550>"
      ]
     },
     "metadata": {},
     "output_type": "display_data"
    },
    {
     "data": {
      "text/html": [
       "<span style='background-color: blue; color: white'>B 1479785</span> <a href=https://bugs.launchpad.net/bugs/1479785>Make fuel-plugins project restructuring </a> 2015-07-30/2015-10-08<br>- Confirmed / Medium / fuel-python / 8.0<br>- [feature-plugins tech-debt]"
      ],
      "text/plain": [
       "<IPython.core.display.HTML at 0x1139ad310>"
      ]
     },
     "metadata": {},
     "output_type": "display_data"
    },
    {
     "data": {
      "text/html": [
       "<span style='background-color: blue; color: white'>B 1480254</span> <a href=https://bugs.launchpad.net/bugs/1480254>Cleanup globals from duplicate values</a> 2015-07-31/2015-10-09<br>- Confirmed / Medium / fuel-library / 8.0<br>- [tech-debt]"
      ],
      "text/plain": [
       "<IPython.core.display.HTML at 0x1168cd4d0>"
      ]
     },
     "metadata": {},
     "output_type": "display_data"
    },
    {
     "data": {
      "text/html": [
       "- <span style='background-color: lightgreen; color: black'>R 192634</span> stackforge/fuel-library master NEW <a href='https://review.openstack.org/192634'>Cleanup globals values</a> Dmitry Ilyin 2015-06-17/<span style='background-color: red; color: white'>2015-09-21</span>"
      ],
      "text/plain": [
       "<IPython.core.display.HTML at 0x10f7b16d0>"
      ]
     },
     "metadata": {},
     "output_type": "display_data"
    },
    {
     "data": {
      "text/html": [
       "<span style='background-color: blue; color: white'>B 1480846</span> <a href=https://bugs.launchpad.net/bugs/1480846>Inconsistent implementation of setting networks ranges</a> 2015-08-03/2015-08-11<br>- Confirmed / Medium / fuel-python / 8.0<br>- [module-nailgun module-networks tech-debt]"
      ],
      "text/plain": [
       "<IPython.core.display.HTML at 0x113dfb0d0>"
      ]
     },
     "metadata": {},
     "output_type": "display_data"
    },
    {
     "data": {
      "text/html": [
       "<span style='background-color: blue; color: white'>B 1481297</span> <a href=https://bugs.launchpad.net/bugs/1481297>FA: align python requirements for oslo.config and oslo.serialization</a> 2015-08-04/2015-10-12<br>- Triaged / Medium / fuel-python / 8.0<br>- [feature-image-based ibp tech-debt]"
      ],
      "text/plain": [
       "<IPython.core.display.HTML at 0x10f7b1ad0>"
      ]
     },
     "metadata": {},
     "output_type": "display_data"
    },
    {
     "data": {
      "text/html": [
       "- <span style='background-color: lightgreen; color: black'>R 224592</span> stackforge/fuel-agent master MERGED <a href='https://review.openstack.org/224592'>Add test for requirements</a> Aleksandr Gordeev 2015-09-17/2015-09-17"
      ],
      "text/plain": [
       "<IPython.core.display.HTML at 0x1168cd290>"
      ]
     },
     "metadata": {},
     "output_type": "display_data"
    },
    {
     "data": {
      "text/html": [
       "<span style='background-color: blue; color: white'>B 1481419</span> <a href=https://bugs.launchpad.net/bugs/1481419>virtual_ips task should have noop tests</a> 2015-08-04/<span style='background-color: red; color: white'>2015-09-24</span><br>- Confirmed / Medium / idv1985 / 8.0<br>- [non-release tech-debt]"
      ],
      "text/plain": [
       "<IPython.core.display.HTML at 0x10f7da650>"
      ]
     },
     "metadata": {},
     "output_type": "display_data"
    },
    {
     "data": {
      "text/html": [
       "<span style='background-color: blue; color: white'>B 1481935</span> <a href=https://bugs.launchpad.net/bugs/1481935>pre-deployment actions moved to fuel-library are still in fuel-astute</a> 2015-08-05/2015-09-24<br>- Confirmed / Medium / fuel-python / 8.0<br>- [module-astute tech-debt]"
      ],
      "text/plain": [
       "<IPython.core.display.HTML at 0x113403d90>"
      ]
     },
     "metadata": {},
     "output_type": "display_data"
    },
    {
     "data": {
      "text/html": [
       "<span style='background-color: blue; color: white'>B 1482232</span> <a href=https://bugs.launchpad.net/bugs/1482232>Make dockerfiles more readable</a> 2015-08-06/2015-10-13<br>- In Progress / Medium / raytrac3r / 8.0<br>- [tech-debt]"
      ],
      "text/plain": [
       "<IPython.core.display.HTML at 0x116e4bf50>"
      ]
     },
     "metadata": {},
     "output_type": "display_data"
    },
    {
     "data": {
      "text/html": [
       "- <span style='background-color: lightgreen; color: black'>R 234174</span> stackforge/fuel-main master NEW <a href='https://review.openstack.org/234174'>Improve readability of dockerfiles and cleanup</a> Matthew Mosesohn 2015-10-13/2015-10-13"
      ],
      "text/plain": [
       "<IPython.core.display.HTML at 0x1139ada90>"
      ]
     },
     "metadata": {},
     "output_type": "display_data"
    },
    {
     "data": {
      "text/html": [
       "- <span style='background-color: lightgreen; color: black'>R 225665</span> stackforge/fuel-main master MERGED <a href='https://review.openstack.org/225665'>Improve readability of dockerfiles and cleanup</a> Matthew Mosesohn 2015-09-21/2015-10-02"
      ],
      "text/plain": [
       "<IPython.core.display.HTML at 0x10f7daa90>"
      ]
     },
     "metadata": {},
     "output_type": "display_data"
    },
    {
     "data": {
      "text/html": [
       "<span style='background-color: blue; color: white'>B 1482248</span> <a href=https://bugs.launchpad.net/bugs/1482248>Migrate pacemaker_wrappers to upstream module with librarian puppet</a> 2015-08-06/<span style='background-color: red; color: white'>2015-09-24</span><br>- Confirmed / Medium / idv1985 / 8.0<br>- [tech-debt]"
      ],
      "text/plain": [
       "<IPython.core.display.HTML at 0x113b583d0>"
      ]
     },
     "metadata": {},
     "output_type": "display_data"
    },
    {
     "data": {
      "text/html": [
       "<span style='background-color: blue; color: white'>B 1482515</span> <a href=https://bugs.launchpad.net/bugs/1482515>Do not get parser directly from ShowOne in fuel2 client</a> 2015-08-07/2015-08-07<br>- Confirmed / Medium / fuel-python / 8.0<br>- [module-client tech-debt]"
      ],
      "text/plain": [
       "<IPython.core.display.HTML at 0x117716510>"
      ]
     },
     "metadata": {},
     "output_type": "display_data"
    },
    {
     "data": {
      "text/html": [
       "- <span style='background-color: lightgreen; color: black'>R 207398</span> stackforge/python-fuelclient master MERGED <a href='https://review.openstack.org/207398'>Add network groups support for v2</a> Alexander Saprykin 2015-07-30/2015-08-07"
      ],
      "text/plain": [
       "<IPython.core.display.HTML at 0x10c7db350>"
      ]
     },
     "metadata": {},
     "output_type": "display_data"
    },
    {
     "data": {
      "text/html": [
       "<span style='background-color: blue; color: white'>B 1483284</span> <a href=https://bugs.launchpad.net/bugs/1483284>Rspec Noop test are cosuming a lot of memory</a> 2015-08-10/<span style='background-color: red; color: white'>2015-10-02</span><br>- Confirmed / Medium / idv1985 / 8.0<br>- [non-release tech-debt]"
      ],
      "text/plain": [
       "<IPython.core.display.HTML at 0x113c5bfd0>"
      ]
     },
     "metadata": {},
     "output_type": "display_data"
    },
    {
     "data": {
      "text/html": [
       "<span style='background-color: blue; color: white'>B 1483539</span> <a href=https://bugs.launchpad.net/bugs/1483539>Unused schema in nailgun objects adding to technical debt of code</a> 2015-08-11/2015-08-11<br>- Confirmed / Medium / fuel-python / 8.0<br>- [module-nailgun nailgun tech-debt]"
      ],
      "text/plain": [
       "<IPython.core.display.HTML at 0x116e4b2d0>"
      ]
     },
     "metadata": {},
     "output_type": "display_data"
    },
    {
     "data": {
      "text/html": [
       "<span style='background-color: blue; color: white'>B 1486928</span> <a href=https://bugs.launchpad.net/bugs/1486928>Package repository locations are hardcoded in many Fuel components and build scripts</a> 2015-08-20/<span style='background-color: red; color: white'>2015-08-20</span><br>- Confirmed / Medium / kozhukalov / 8.0<br>- [non-release tech-debt]"
      ],
      "text/plain": [
       "<IPython.core.display.HTML at 0x1168a3d10>"
      ]
     },
     "metadata": {},
     "output_type": "display_data"
    },
    {
     "data": {
      "text/html": [
       "<span style='background-color: blue; color: white'>B 1488883</span> <a href=https://bugs.launchpad.net/bugs/1488883>If unkown version of Ceph is used, assert exception is raised</a> 2015-08-26/2015-10-08<br>- Confirmed / Medium / fuel-python / 8.0<br>- [module-nailgun tech-debt]"
      ],
      "text/plain": [
       "<IPython.core.display.HTML at 0x1139adb10>"
      ]
     },
     "metadata": {},
     "output_type": "display_data"
    },
    {
     "data": {
      "text/html": [
       "- <span style='background-color: lightgreen; color: black'>R 204814</span> stackforge/fuel-web master MERGED <a href='https://review.openstack.org/204814'>Ceph: fix PG count number</a> koder 2015-07-23/2015-08-26"
      ],
      "text/plain": [
       "<IPython.core.display.HTML at 0x10f7da390>"
      ]
     },
     "metadata": {},
     "output_type": "display_data"
    },
    {
     "data": {
      "text/html": [
       "<span style='background-color: blue; color: white'>B 1488945</span> <a href=https://bugs.launchpad.net/bugs/1488945>Ceph get_pool_pg_count calculation requires refactoring</a> 2015-08-26/2015-09-23<br>- Triaged / Medium / fuel-python / 8.0<br>- [module-nailgun tech-debt]"
      ],
      "text/plain": [
       "<IPython.core.display.HTML at 0x1168cd150>"
      ]
     },
     "metadata": {},
     "output_type": "display_data"
    },
    {
     "data": {
      "text/html": [
       "- <span style='background-color: lightgreen; color: black'>R 204814</span> stackforge/fuel-web master MERGED <a href='https://review.openstack.org/204814'>Ceph: fix PG count number</a> koder 2015-07-23/2015-08-26"
      ],
      "text/plain": [
       "<IPython.core.display.HTML at 0x111be17d0>"
      ]
     },
     "metadata": {},
     "output_type": "display_data"
    },
    {
     "data": {
      "text/html": [
       "<span style='background-color: blue; color: white'>B 1488980</span> <a href=https://bugs.launchpad.net/bugs/1488980>[nailgun] Refactor generate_network_scheme methods in orchestrator serializer</a> 2015-08-26/2015-09-23<br>- Confirmed / Medium / fuel-python / 8.0<br>- [module-nailgun module-networks tech-debt]"
      ],
      "text/plain": [
       "<IPython.core.display.HTML at 0x10f7b1c90>"
      ]
     },
     "metadata": {},
     "output_type": "display_data"
    },
    {
     "data": {
      "text/html": [
       "- <span style='background-color: lightgreen; color: black'>R 211349</span> stackforge/fuel-web master MERGED <a href='https://review.openstack.org/211349'>Added generate_network_scheme for 7.0</a> Andrey Shestakov 2015-08-10/2015-08-26"
      ],
      "text/plain": [
       "<IPython.core.display.HTML at 0x113dfb510>"
      ]
     },
     "metadata": {},
     "output_type": "display_data"
    },
    {
     "data": {
      "text/html": [
       "<span style='background-color: blue; color: white'>B 1491805</span> <a href=https://bugs.launchpad.net/bugs/1491805>Provided by user SSL certificates should be saved into filesystem</a> 2015-09-03/2015-10-08<br>- Confirmed / Medium / fuel-python / 8.0<br>- [feature-stats module-nailgun tech-debt]"
      ],
      "text/plain": [
       "<IPython.core.display.HTML at 0x116e33750>"
      ]
     },
     "metadata": {},
     "output_type": "display_data"
    },
    {
     "data": {
      "text/html": [
       "<span style='background-color: blue; color: white'>B 1491821</span> <a href=https://bugs.launchpad.net/bugs/1491821>Enable SSL validation in stats collectors</a> 2015-09-03/2015-10-08<br>- Triaged / Medium / fuel-python / 8.0<br>- [feature-stats module-nailgun tech-debt]"
      ],
      "text/plain": [
       "<IPython.core.display.HTML at 0x113dfbb90>"
      ]
     },
     "metadata": {},
     "output_type": "display_data"
    },
    {
     "data": {
      "text/html": [
       "<span style='background-color: blue; color: white'>B 1492243</span> <a href=https://bugs.launchpad.net/bugs/1492243>[ibp] non removed yaml with data about target images after env removal</a> 2015-09-04/2015-10-08<br>- Confirmed / Medium / fuel-python / 8.0<br>- [feature-image-based ibp low-hanging-fruit tech-debt]"
      ],
      "text/plain": [
       "<IPython.core.display.HTML at 0x10f7da190>"
      ]
     },
     "metadata": {},
     "output_type": "display_data"
    },
    {
     "data": {
      "text/html": [
       "<span style='background-color: blue; color: white'>B 1493061</span> <a href=https://bugs.launchpad.net/bugs/1493061> Switch to use package mock of version 1.1.0 or greater</a> 2015-09-07/2015-09-25<br>- Confirmed / Medium / fuel-python / 8.0<br>- [tech-debt]"
      ],
      "text/plain": [
       "<IPython.core.display.HTML at 0x113403050>"
      ]
     },
     "metadata": {},
     "output_type": "display_data"
    },
    {
     "data": {
      "text/html": [
       "<span style='background-color: blue; color: white'>B 1493738</span> <a href=https://bugs.launchpad.net/bugs/1493738>Different input data types in network validators</a> 2015-09-09/2015-09-23<br>- Confirmed / Medium / fuel-python / 8.0<br>- [module-nailgun tech-debt]"
      ],
      "text/plain": [
       "<IPython.core.display.HTML at 0x1168a3650>"
      ]
     },
     "metadata": {},
     "output_type": "display_data"
    },
    {
     "data": {
      "text/html": [
       "<span style='background-color: blue; color: white'>B 1498382</span> <a href=https://bugs.launchpad.net/bugs/1498382>Remove NoCacheQuery from nailgun</a> 2015-09-22/2015-09-22<br>- Confirmed / Medium / fuel-python / 8.0<br>- [tech-debt]"
      ],
      "text/plain": [
       "<IPython.core.display.HTML at 0x113c5bc10>"
      ]
     },
     "metadata": {},
     "output_type": "display_data"
    },
    {
     "data": {
      "text/html": [
       "<span style='background-color: blue; color: white'>B 1500825</span> <a href=https://bugs.launchpad.net/bugs/1500825>mounts fact should be an array</a> 2015-09-29/<span style='background-color: red; color: white'>2015-10-09</span><br>- In Progress / Medium / bpiotrowski / 8.0<br>- [regression-8.0 tech-debt]"
      ],
      "text/plain": [
       "<IPython.core.display.HTML at 0x111b211d0>"
      ]
     },
     "metadata": {},
     "output_type": "display_data"
    },
    {
     "data": {
      "text/html": [
       "- <a href='https://review.openstack.org/228851'>https://review.openstack.org/228851</a>"
      ],
      "text/plain": [
       "<IPython.core.display.HTML at 0x10c7db350>"
      ]
     },
     "metadata": {},
     "output_type": "display_data"
    },
    {
     "data": {
      "text/html": [
       "- <span style='background-color: lightgreen; color: black'>R 226062</span> stackforge/fuel-library master MERGED <a href='https://review.openstack.org/226062'>Add cluster health task with disk monitor</a> Alex Schultz 2015-09-21/2015-09-28"
      ],
      "text/plain": [
       "<IPython.core.display.HTML at 0x10c7db350>"
      ]
     },
     "metadata": {},
     "output_type": "display_data"
    },
    {
     "data": {
      "text/html": [
       "<span style='background-color: blue; color: white'>B 1500872</span> <a href=https://bugs.launchpad.net/bugs/1500872>version.yaml should be a relative link</a> 2015-09-29/<span style='background-color: red; color: white'>2015-10-09</span><br>- In Progress / Medium / kozhukalov / 8.0<br>- [tech-debt]"
      ],
      "text/plain": [
       "<IPython.core.display.HTML at 0x113c5b890>"
      ]
     },
     "metadata": {},
     "output_type": "display_data"
    },
    {
     "data": {
      "text/html": [
       "- <span style='background-color: lightgreen; color: black'>R 228896</span> stackforge/fuel-main master NEW <a href='https://review.openstack.org/228896'>/etc/fuel/version.yaml is a relative symlink</a> Vladimir Kozhukalov 2015-09-29/<span style='background-color: red; color: white'>2015-09-29</span>"
      ],
      "text/plain": [
       "<IPython.core.display.HTML at 0x1167d5310>"
      ]
     },
     "metadata": {},
     "output_type": "display_data"
    },
    {
     "data": {
      "text/html": [
       "<span style='background-color: blue; color: white'>B 1500879</span> <a href=https://bugs.launchpad.net/bugs/1500879>Fix autocompletion file generation in fuel2 complete utility</a> 2015-09-29/2015-09-29<br>- Confirmed / Medium / fuel-python / 8.0<br>- [module-client tech-debt]"
      ],
      "text/plain": [
       "<IPython.core.display.HTML at 0x116e4b390>"
      ]
     },
     "metadata": {},
     "output_type": "display_data"
    },
    {
     "data": {
      "text/html": [
       "- <span style='background-color: lightgreen; color: black'>R 226764</span> stackforge/python-fuelclient master NEW <a href='https://review.openstack.org/226764'>Install autocompletion for python-fuelclient</a> Maciej Kwiek 2015-09-23/2015-10-14"
      ],
      "text/plain": [
       "<IPython.core.display.HTML at 0x11001ce90>"
      ]
     },
     "metadata": {},
     "output_type": "display_data"
    },
    {
     "data": {
      "text/html": [
       "<span style='background-color: blue; color: white'>B 1502047</span> <a href=https://bugs.launchpad.net/bugs/1502047>fuelmenu do not have \"network_checker\" specified as a requirement</a> 2015-10-02/2015-10-13<br>- Confirmed / Medium / fuel-python / 8.0<br>- [low-hanging-fruit module-fuelmenu tech-debt]"
      ],
      "text/plain": [
       "<IPython.core.display.HTML at 0x1168a3150>"
      ]
     },
     "metadata": {},
     "output_type": "display_data"
    },
    {
     "data": {
      "text/html": [
       "<span style='background-color: blue; color: white'>B 1503637</span> <a href=https://bugs.launchpad.net/bugs/1503637>Add detailed description on deadlock detection</a> 2015-10-07/2015-10-13<br>- Confirmed / Medium / akislitsky / 8.0<br>- [tech-debt]"
      ],
      "text/plain": [
       "<IPython.core.display.HTML at 0x113403350>"
      ]
     },
     "metadata": {},
     "output_type": "display_data"
    },
    {
     "data": {
      "text/html": [
       "<span style='background-color: blue; color: white'>B 1504352</span> <a href=https://bugs.launchpad.net/bugs/1504352>PEP8 exclusions must be removed</a> 2015-10-08/2015-10-09<br>- Confirmed / Medium / fuel-python / 8.0<br>- [low-hanging-fruit module-client tech-debt]"
      ],
      "text/plain": [
       "<IPython.core.display.HTML at 0x1168cde10>"
      ]
     },
     "metadata": {},
     "output_type": "display_data"
    },
    {
     "data": {
      "text/html": [
       "<span style='background-color: blue; color: white'>B 1505232</span> <a href=https://bugs.launchpad.net/bugs/1505232>AttributeError: 'NoneType' object has no attribute 'uuid'</a> 2015-10-12/2015-10-13<br>- Confirmed / Medium / fuel-python / 8.0<br>- [low-hanging-fruit tech-debt]"
      ],
      "text/plain": [
       "<IPython.core.display.HTML at 0x10f7b1810>"
      ]
     },
     "metadata": {},
     "output_type": "display_data"
    },
    {
     "data": {
      "text/html": [
       "<span style='background-color: blue; color: white'>B 1505604</span> <a href=https://bugs.launchpad.net/bugs/1505604>remove hardcoded network roles from manifests</a> 2015-10-13/2015-10-14<br>- Confirmed / Medium / fuel-library / 8.0<br>- [feature-advanced-networking tech-debt]"
      ],
      "text/plain": [
       "<IPython.core.display.HTML at 0x116e33e50>"
      ]
     },
     "metadata": {},
     "output_type": "display_data"
    },
    {
     "data": {
      "text/html": [
       "<span style='background-color: blue; color: white'>B 1506040</span> <a href=https://bugs.launchpad.net/bugs/1506040>Log debug option for deadlocks</a> 2015-10-14/2015-10-14<br>- Confirmed / Medium / akislitsky / 8.0<br>- [tech-debt]"
      ],
      "text/plain": [
       "<IPython.core.display.HTML at 0x111be1410>"
      ]
     },
     "metadata": {},
     "output_type": "display_data"
    },
    {
     "data": {
      "text/html": [
       "<span style='background-color: blue; color: white'>B 1506073</span> <a href=https://bugs.launchpad.net/bugs/1506073>tenant is missing for most keystone-* tasks</a> 2015-10-14/2015-10-14<br>- Triaged / Medium / raytrac3r / 8.0<br>- [tech-debt]"
      ],
      "text/plain": [
       "<IPython.core.display.HTML at 0x118f629d0>"
      ]
     },
     "metadata": {},
     "output_type": "display_data"
    },
    {
     "data": {
      "text/html": [
       "<span style='background-color: blue; color: white'>B 1393789</span> <a href=https://bugs.launchpad.net/bugs/1393789>[upgrade] Refactoring of fuel_upgrade.config.Config</a> 2014-11-18/2015-08-03<br>- Confirmed / Low / fuel-python / 8.0<br>- [size-l tech-debt]"
      ],
      "text/plain": [
       "<IPython.core.display.HTML at 0x1139adc90>"
      ]
     },
     "metadata": {},
     "output_type": "display_data"
    },
    {
     "data": {
      "text/html": [
       "<span style='background-color: blue; color: white'>B 1404866</span> <a href=https://bugs.launchpad.net/bugs/1404866>OSTF should use enums for constant values</a> 2014-12-22/2015-08-03<br>- Triaged / Low / fuel-python / 8.0<br>- [low-hanging-fruit module-ostf size-s tech-debt]"
      ],
      "text/plain": [
       "<IPython.core.display.HTML at 0x113403410>"
      ]
     },
     "metadata": {},
     "output_type": "display_data"
    },
    {
     "data": {
      "text/html": [
       "<span style='background-color: blue; color: white'>B 1408274</span> <a href=https://bugs.launchpad.net/bugs/1408274>Update tox in Python modules/projects</a> 2015-01-07/2015-08-18<br>- Confirmed / Low / fuel-python / 8.0<br>- [low-hanging-fruit size-s tech-debt]"
      ],
      "text/plain": [
       "<IPython.core.display.HTML at 0x1168a33d0>"
      ]
     },
     "metadata": {},
     "output_type": "display_data"
    },
    {
     "data": {
      "text/html": [
       "- <span style='background-color: lightgreen; color: black'>R 171108</span> stackforge/fuel-web master ABANDONED <a href='https://review.openstack.org/171108'>Update tox version for all projects in fuel-web</a> Nikolay Markov 2015-04-07/2015-08-18"
      ],
      "text/plain": [
       "<IPython.core.display.HTML at 0x1177b9f10>"
      ]
     },
     "metadata": {},
     "output_type": "display_data"
    },
    {
     "data": {
      "text/html": [
       "<span style='background-color: blue; color: white'>B 1413200</span> <a href=https://bugs.launchpad.net/bugs/1413200>Use env vars to controll performance tests in nailgun</a> 2015-01-21/2015-08-03<br>- Confirmed / Low / fuel-python / 8.0<br>- [non-release performance size-s tech-debt]"
      ],
      "text/plain": [
       "<IPython.core.display.HTML at 0x10ec42450>"
      ]
     },
     "metadata": {},
     "output_type": "display_data"
    },
    {
     "data": {
      "text/html": [
       "<span style='background-color: blue; color: white'>B 1415688</span> <a href=https://bugs.launchpad.net/bugs/1415688>Outdated README.md in virtualbox scripts folder</a> 2015-01-29/2015-10-12<br>- Confirmed / Low / sovsianikov / 8.0<br>- [tech-debt]"
      ],
      "text/plain": [
       "<IPython.core.display.HTML at 0x113400bd0>"
      ]
     },
     "metadata": {},
     "output_type": "display_data"
    },
    {
     "data": {
      "text/html": [
       "<span style='background-color: blue; color: white'>B 1453039</span> <a href=https://bugs.launchpad.net/bugs/1453039>Do not use fixed timeouts for image building</a> 2015-05-08/2015-10-06<br>- Triaged / Low / fuel-python / 8.0<br>- [feature-image-based ibp tech-debt]"
      ],
      "text/plain": [
       "<IPython.core.display.HTML at 0x113c5b890>"
      ]
     },
     "metadata": {},
     "output_type": "display_data"
    },
    {
     "data": {
      "text/html": [
       "<span style='background-color: blue; color: white'>B 1471805</span> <a href=https://bugs.launchpad.net/bugs/1471805>[Nailgun] Get rid of SQL queries in migration tests</a> 2015-07-06/2015-09-17<br>- Triaged / Low / fuel-python / 8.0<br>- [module-nailgun tech-debt]"
      ],
      "text/plain": [
       "<IPython.core.display.HTML at 0x1168a3f10>"
      ]
     },
     "metadata": {},
     "output_type": "display_data"
    },
    {
     "data": {
      "text/html": [
       "<span style='background-color: blue; color: white'>B 1482658</span> <a href=https://bugs.launchpad.net/bugs/1482658>JSON field doesn't update field after partial update of dict</a> 2015-08-07/2015-08-07<br>- Triaged / Low / fuel-python / 8.0<br>- [module-nailgun tech-debt]"
      ],
      "text/plain": [
       "<IPython.core.display.HTML at 0x113403e50>"
      ]
     },
     "metadata": {},
     "output_type": "display_data"
    },
    {
     "data": {
      "text/html": [
       "<span style='background-color: blue; color: white'>B 1488518</span> <a href=https://bugs.launchpad.net/bugs/1488518>DRY code in network validation tests</a> 2015-08-25/2015-09-23<br>- Confirmed / Low / fuel-python / 8.0<br>- [tech-debt]"
      ],
      "text/plain": [
       "<IPython.core.display.HTML at 0x1139ad550>"
      ]
     },
     "metadata": {},
     "output_type": "display_data"
    },
    {
     "data": {
      "text/html": [
       "<span style='background-color: blue; color: white'>B 1488946</span> <a href=https://bugs.launchpad.net/bugs/1488946>Refactor url_access_checker/api.py to use idiomatic python instead of list of tuples.</a> 2015-08-26/2015-09-23<br>- Confirmed / Low / fuel-python / 8.0<br>- [module-netcheck tech-debt]"
      ],
      "text/plain": [
       "<IPython.core.display.HTML at 0x1168cdc10>"
      ]
     },
     "metadata": {},
     "output_type": "display_data"
    },
    {
     "data": {
      "text/html": [
       "<span style='background-color: blue; color: white'>B 1489984</span> <a href=https://bugs.launchpad.net/bugs/1489984>fuel-package-updates should pull fuel version from api</a> 2015-08-28/2015-09-23<br>- Confirmed / Low / fuel-python / 8.0<br>- [tech-debt]"
      ],
      "text/plain": [
       "<IPython.core.display.HTML at 0x116e33ed0>"
      ]
     },
     "metadata": {},
     "output_type": "display_data"
    },
    {
     "data": {
      "text/html": [
       "<span style='background-color: blue; color: white'>B 1498989</span> <a href=https://bugs.launchpad.net/bugs/1498989>Move top level config to service hash in hiera</a> 2015-09-23/2015-10-01<br>- Confirmed / Low / fuel-library / 8.0<br>- [module-library puppet tech-debt]"
      ],
      "text/plain": [
       "<IPython.core.display.HTML at 0x113df1cd0>"
      ]
     },
     "metadata": {},
     "output_type": "display_data"
    },
    {
     "data": {
      "text/html": [
       "<span style='background-color: blue; color: white'>B 1502110</span> <a href=https://bugs.launchpad.net/bugs/1502110>fuelmenu saveonly should share class vars with main app</a> 2015-10-02/<span style='background-color: red; color: white'>2015-10-08</span><br>- Confirmed / Low / raytrac3r / 8.0<br>- [tech-debt]"
      ],
      "text/plain": [
       "<IPython.core.display.HTML at 0x1168cd4d0>"
      ]
     },
     "metadata": {},
     "output_type": "display_data"
    },
    {
     "data": {
      "text/html": [
       "<span style='background-color: blue; color: white'>B 1502844</span> <a href=https://bugs.launchpad.net/bugs/1502844>Remove default repo configuration from fuelmenu</a> 2015-10-05/2015-10-12<br>- Confirmed / Low / fuel-python / 8.0<br>- [module-fuelmenu tech-debt]"
      ],
      "text/plain": [
       "<IPython.core.display.HTML at 0x10f7da850>"
      ]
     },
     "metadata": {},
     "output_type": "display_data"
    },
    {
     "data": {
      "text/html": [
       "<span style='background-color: blue; color: white'>B 1268278</span> <a href=https://bugs.launchpad.net/bugs/1268278>[nailgun] Provide more debugging info for nailgun model entities</a> 2014-01-12/2015-08-03<br>- Confirmed / Wishlist / fuel-python / 8.0<br>- [size-s tech-debt]"
      ],
      "text/plain": [
       "<IPython.core.display.HTML at 0x113403a50>"
      ]
     },
     "metadata": {},
     "output_type": "display_data"
    },
    {
     "data": {
      "text/html": [
       "<span style='background-color: blue; color: white'>B 1322073</span> <a href=https://bugs.launchpad.net/bugs/1322073>[nailgun] Need to redefine network ext_net_data property</a> 2014-05-22/<span style='background-color: red; color: white'>2015-08-03</span><br>- Confirmed / Wishlist / alekseyk-ru / 8.0<br>- [size-s tech-debt]"
      ],
      "text/plain": [
       "<IPython.core.display.HTML at 0x1168a3b10>"
      ]
     },
     "metadata": {},
     "output_type": "display_data"
    },
    {
     "data": {
      "text/html": [
       "<span style='background-color: blue; color: white'>B 1459678</span> <a href=https://bugs.launchpad.net/bugs/1459678>Revise ns related OCF</a> 2015-05-28/2015-10-12<br>- Confirmed / Wishlist / fuel-library / 8.0<br>- [non-release tech-debt]"
      ],
      "text/plain": [
       "<IPython.core.display.HTML at 0x1168a32d0>"
      ]
     },
     "metadata": {},
     "output_type": "display_data"
    },
    {
     "data": {
      "text/html": [
       "- <span style='background-color: lightgreen; color: black'>R 189721</span> stackforge/fuel-library master ABANDONED <a href='https://review.openstack.org/189721'>Revise of ns-related OCF scripts</a> Oleksiy Molchanov 2015-06-09/2015-09-15"
      ],
      "text/plain": [
       "<IPython.core.display.HTML at 0x114b6cf10>"
      ]
     },
     "metadata": {},
     "output_type": "display_data"
    },
    {
     "data": {
      "text/html": [
       "<span style='background-color: blue; color: white'>B 1461091</span> <a href=https://bugs.launchpad.net/bugs/1461091>[Fuel-OSTF] 'assert' in test.py is needless</a> 2015-06-02/<span style='background-color: red; color: white'>2015-10-09</span><br>- Confirmed / Wishlist / tnurlygayanov / 8.0<br>- [tech-debt]"
      ],
      "text/plain": [
       "<IPython.core.display.HTML at 0x113400690>"
      ]
     },
     "metadata": {},
     "output_type": "display_data"
    },
    {
     "data": {
      "text/html": [
       "- <span style='background-color: lightgreen; color: black'>R 200576</span> stackforge/fuel-ostf master ABANDONED <a href='https://review.openstack.org/200576'>Fixed issue with extra assert</a> Timur Nurlygayanov 2015-07-10/2015-09-09"
      ],
      "text/plain": [
       "<IPython.core.display.HTML at 0x111b211d0>"
      ]
     },
     "metadata": {},
     "output_type": "display_data"
    },
    {
     "data": {
      "text/html": [
       "<span style='background-color: blue; color: white'>B 1462339</span> <a href=https://bugs.launchpad.net/bugs/1462339>Need support _.property callback style for collection methods</a> 2015-06-05/2015-10-12<br>- Confirmed / Wishlist / fuel-ui / 8.0<br>- [tech-debt ui]"
      ],
      "text/plain": [
       "<IPython.core.display.HTML at 0x113400690>"
      ]
     },
     "metadata": {},
     "output_type": "display_data"
    },
    {
     "data": {
      "text/html": [
       "<span style='background-color: blue; color: white'>B 1494689</span> <a href=https://bugs.launchpad.net/bugs/1494689>Refactor FPB tests</a> 2015-09-11/2015-09-23<br>- Confirmed / Wishlist / fuel-python / 8.0<br>- [fuel-plugin-builder tech-debt]"
      ],
      "text/plain": [
       "<IPython.core.display.HTML at 0x116e4b290>"
      ]
     },
     "metadata": {},
     "output_type": "display_data"
    },
    {
     "data": {
      "text/html": [
       "<span style='background-color: blue; color: white'>B 1499468</span> <a href=https://bugs.launchpad.net/bugs/1499468>remove bootstrap_admin_node.sh (not docker one)</a> 2015-09-24/<span style='background-color: red; color: white'>2015-09-24</span><br>- Confirmed / Wishlist / raytrac3r / 8.0<br>- [tech-debt]"
      ],
      "text/plain": [
       "<IPython.core.display.HTML at 0x1168a3b50>"
      ]
     },
     "metadata": {},
     "output_type": "display_data"
    },
    {
     "name": "stdout",
     "output_type": "stream",
     "text": [
      "Found 93 bugs\n"
     ]
    }
   ],
   "source": [
    "search_tags = map(lambda x: \"-\" + x, important_tags + excluded_tags) + ['tech-debt']\n",
    "collection = prj.searchTasks(milestone=cur_ms, status=open_statuses, tags=search_tags, tags_combinator='All', importance=low_priority)\n",
    "for bt in collection:\n",
    "    display_bug(bt.bug)\n",
    "print \"Found %s bugs\" % len(collection)"
   ]
  },
  {
   "cell_type": "markdown",
   "metadata": {},
   "source": [
    "## Bugs and reviews of particular persons"
   ]
  },
  {
   "cell_type": "code",
   "execution_count": 122,
   "metadata": {
    "collapsed": false
   },
   "outputs": [
    {
     "name": "stdout",
     "output_type": "stream",
     "text": [
      "dpyzhov\n",
      "mmosesohn\n"
     ]
    },
    {
     "data": {
      "text/html": [
       "<span style='background-color: blue; color: white'>B 1349702</span> <a href=https://bugs.launchpad.net/bugs/1349702>Use more descriptive names for networks in Neutron</a> 2014-07-29/<span style='background-color: red; color: white'>2015-10-09</span><br>- In Progress / High / raytrac3r / 8.0<br>- [qa-agree-7.0 qa-agree-8.0 tricky]"
      ],
      "text/plain": [
       "<IPython.core.display.HTML at 0x113dfb0d0>"
      ]
     },
     "metadata": {},
     "output_type": "display_data"
    },
    {
     "data": {
      "text/html": [
       "- <span style='background-color: lightgreen; color: black'>R 228552</span> stackforge/fuel-ostf master NEW <a href='https://review.openstack.org/228552'>Allow custom private network name</a> Matthew Mosesohn 2015-09-28/<span style='background-color: red; color: white'>2015-09-29</span>"
      ],
      "text/plain": [
       "<IPython.core.display.HTML at 0x1161ce1d0>"
      ]
     },
     "metadata": {},
     "output_type": "display_data"
    },
    {
     "data": {
      "text/html": [
       "- <span style='background-color: lightgreen; color: black'>R 228514</span> stackforge/fuel-library master MERGED <a href='https://review.openstack.org/228514'>Allow default neutron names to be configured</a> Matthew Mosesohn 2015-09-28/2015-10-09"
      ],
      "text/plain": [
       "<IPython.core.display.HTML at 0x1161ce2d0>"
      ]
     },
     "metadata": {},
     "output_type": "display_data"
    },
    {
     "data": {
      "text/html": [
       "<span style='background-color: blue; color: white'>B 1438658</span> <a href=https://bugs.launchpad.net/bugs/1438658>Fuel setup menu doesn't have a support for serial interface</a> 2015-03-31/2015-10-12<br>- Confirmed / Medium / raytrac3r / 8.0<br>- [<b>customer-found</b> release-notes]"
      ],
      "text/plain": [
       "<IPython.core.display.HTML at 0x10ec421d0>"
      ]
     },
     "metadata": {},
     "output_type": "display_data"
    },
    {
     "data": {
      "text/html": [
       "- <span style='background-color: lightgreen; color: black'>R 223460</span> stackforge/fuel-docs master MERGED <a href='https://review.openstack.org/223460'>Add fuelmenu on serial interface issue to relnotes</a> Evgeny Konstantinov 2015-09-15/2015-09-15"
      ],
      "text/plain": [
       "<IPython.core.display.HTML at 0x116e4b0d0>"
      ]
     },
     "metadata": {},
     "output_type": "display_data"
    },
    {
     "data": {
      "text/html": [
       "<span style='background-color: blue; color: white'>B 1482232</span> <a href=https://bugs.launchpad.net/bugs/1482232>Make dockerfiles more readable</a> 2015-08-06/2015-10-13<br>- In Progress / Medium / raytrac3r / 8.0<br>- [tech-debt]"
      ],
      "text/plain": [
       "<IPython.core.display.HTML at 0x113dfb0d0>"
      ]
     },
     "metadata": {},
     "output_type": "display_data"
    },
    {
     "data": {
      "text/html": [
       "- <span style='background-color: lightgreen; color: black'>R 234174</span> stackforge/fuel-main master NEW <a href='https://review.openstack.org/234174'>Improve readability of dockerfiles and cleanup</a> Matthew Mosesohn 2015-10-13/2015-10-15"
      ],
      "text/plain": [
       "<IPython.core.display.HTML at 0x10cf5b310>"
      ]
     },
     "metadata": {},
     "output_type": "display_data"
    },
    {
     "data": {
      "text/html": [
       "- <span style='background-color: lightgreen; color: black'>R 225665</span> stackforge/fuel-main master MERGED <a href='https://review.openstack.org/225665'>Improve readability of dockerfiles and cleanup</a> Matthew Mosesohn 2015-09-21/2015-10-02"
      ],
      "text/plain": [
       "<IPython.core.display.HTML at 0x1161ce810>"
      ]
     },
     "metadata": {},
     "output_type": "display_data"
    },
    {
     "data": {
      "text/html": [
       "<span style='background-color: blue; color: white'>B 1483249</span> <a href=https://bugs.launchpad.net/bugs/1483249>rabbitmq epmd process running from user 'root'</a> 2015-08-10/2015-10-12<br>- In Progress / Medium / raytrac3r / 8.0<br>- []"
      ],
      "text/plain": [
       "<IPython.core.display.HTML at 0x11618eed0>"
      ]
     },
     "metadata": {},
     "output_type": "display_data"
    },
    {
     "data": {
      "text/html": [
       "- <span style='background-color: lightgreen; color: black'>R 230479</span> stackforge/fuel-library master NEW <a href='https://review.openstack.org/230479'>Avoid starting rabbitmq server as root</a> Matthew Mosesohn 2015-10-02/2015-10-15"
      ],
      "text/plain": [
       "<IPython.core.display.HTML at 0x111bf3f50>"
      ]
     },
     "metadata": {},
     "output_type": "display_data"
    },
    {
     "data": {
      "text/html": [
       "<span style='background-color: blue; color: white'>B 1499375</span> <a href=https://bugs.launchpad.net/bugs/1499375>detach-keystone plugin with murano without SSL fails</a> 2015-09-24/2015-10-13<br>- In Progress / Medium / raytrac3r / 8.0<br>- []"
      ],
      "text/plain": [
       "<IPython.core.display.HTML at 0x110024bd0>"
      ]
     },
     "metadata": {},
     "output_type": "display_data"
    },
    {
     "data": {
      "text/html": [
       "- <span style='background-color: lightgreen; color: black'>R 234345</span> stackforge/fuel-library master NEW <a href='https://review.openstack.org/234345'>Fix keystone URL and realign keystone for sahara and murano</a> Matthew Mosesohn 2015-10-13/2015-10-14"
      ],
      "text/plain": [
       "<IPython.core.display.HTML at 0x1167d50d0>"
      ]
     },
     "metadata": {},
     "output_type": "display_data"
    },
    {
     "data": {
      "text/html": [
       "<span style='background-color: blue; color: white'>B 1499468</span> <a href=https://bugs.launchpad.net/bugs/1499468>remove bootstrap_admin_node.sh (not docker one)</a> 2015-09-24/<span style='background-color: red; color: white'>2015-09-24</span><br>- Confirmed / Wishlist / raytrac3r / 8.0<br>- [tech-debt]"
      ],
      "text/plain": [
       "<IPython.core.display.HTML at 0x116abb6d0>"
      ]
     },
     "metadata": {},
     "output_type": "display_data"
    },
    {
     "data": {
      "text/html": [
       "<span style='background-color: blue; color: white'>B 1500952</span> <a href=https://bugs.launchpad.net/bugs/1500952>fuelmenu ignores existing resolvers in /etc/resolv.conf </a> 2015-09-29/2015-10-13<br>- In Progress / Medium / raytrac3r / 8.0<br>- [module-fuelmenu]"
      ],
      "text/plain": [
       "<IPython.core.display.HTML at 0x116a9bdd0>"
      ]
     },
     "metadata": {},
     "output_type": "display_data"
    },
    {
     "data": {
      "text/html": [
       "- <span style='background-color: lightgreen; color: black'>R 234327</span> stackforge/fuel-web master NEW <a href='https://review.openstack.org/234327'>Improve handling with existing DNS settings</a> Matthew Mosesohn 2015-10-13/2015-10-15"
      ],
      "text/plain": [
       "<IPython.core.display.HTML at 0x116aa95d0>"
      ]
     },
     "metadata": {},
     "output_type": "display_data"
    },
    {
     "data": {
      "text/html": [
       "<span style='background-color: blue; color: white'>B 1501368</span> <a href=https://bugs.launchpad.net/bugs/1501368>dockerctl config contains old version number</a> 2015-09-30/2015-10-12<br>- In Progress / Low / raytrac3r / 8.0<br>- [low-hanging-fruit module-fuelmenu]"
      ],
      "text/plain": [
       "<IPython.core.display.HTML at 0x11619c810>"
      ]
     },
     "metadata": {},
     "output_type": "display_data"
    },
    {
     "data": {
      "text/html": [
       "- <span style='background-color: lightgreen; color: black'>R 229877</span> stackforge/fuel-library master NEW <a href='https://review.openstack.org/229877'>Remove hardcoded version from dockerctl config</a> Kyrylo Galanov 2015-10-01/2015-10-15"
      ],
      "text/plain": [
       "<IPython.core.display.HTML at 0x117716650>"
      ]
     },
     "metadata": {},
     "output_type": "display_data"
    },
    {
     "data": {
      "text/html": [
       "<span style='background-color: blue; color: white'>B 1502110</span> <a href=https://bugs.launchpad.net/bugs/1502110>fuelmenu saveonly should share class vars with main app</a> 2015-10-02/<span style='background-color: red; color: white'>2015-10-08</span><br>- Confirmed / Low / raytrac3r / 8.0<br>- [tech-debt]"
      ],
      "text/plain": [
       "<IPython.core.display.HTML at 0x116aa9cd0>"
      ]
     },
     "metadata": {},
     "output_type": "display_data"
    },
    {
     "data": {
      "text/html": [
       "<span style='background-color: blue; color: white'>B 1503616</span> <a href=https://bugs.launchpad.net/bugs/1503616>fuelmenu break  /etc/resolv.conf </a> 2015-10-07/2015-10-13<br>- In Progress / Medium / raytrac3r / 8.0<br>- [module-fuelmenu]"
      ],
      "text/plain": [
       "<IPython.core.display.HTML at 0x116abbbd0>"
      ]
     },
     "metadata": {},
     "output_type": "display_data"
    },
    {
     "data": {
      "text/html": [
       "- <span style='background-color: lightgreen; color: black'>R 234327</span> stackforge/fuel-web master NEW <a href='https://review.openstack.org/234327'>Improve handling with existing DNS settings</a> Matthew Mosesohn 2015-10-13/2015-10-15"
      ],
      "text/plain": [
       "<IPython.core.display.HTML at 0x116abb8d0>"
      ]
     },
     "metadata": {},
     "output_type": "display_data"
    },
    {
     "data": {
      "text/html": [
       "<span style='background-color: blue; color: white'>B 1503828</span> <a href=https://bugs.launchpad.net/bugs/1503828>fuel-master iptables wrong if pxe interface changed from eth0</a> 2015-10-07/2015-10-13<br>- Confirmed / Low / raytrac3r / 8.0<br>- [<b>customer-found</b>]"
      ],
      "text/plain": [
       "<IPython.core.display.HTML at 0x113400410>"
      ]
     },
     "metadata": {},
     "output_type": "display_data"
    },
    {
     "data": {
      "text/html": [
       "<span style='background-color: blue; color: white'>B 1506073</span> <a href=https://bugs.launchpad.net/bugs/1506073>tenant is missing for most keystone-* tasks</a> 2015-10-14/2015-10-14<br>- Triaged / Medium / raytrac3r / 8.0<br>- [tech-debt]"
      ],
      "text/plain": [
       "<IPython.core.display.HTML at 0x11618ec90>"
      ]
     },
     "metadata": {},
     "output_type": "display_data"
    },
    {
     "name": "stdout",
     "output_type": "stream",
     "text": [
      "sbogatkin\n"
     ]
    },
    {
     "data": {
      "text/html": [
       "<span style='background-color: blue; color: white'>B 1349819</span> <a href=https://bugs.launchpad.net/bugs/1349819>Need to create some simple useful security groups  for each new Openstack cluster</a> 2014-07-29/<span style='background-color: red; color: white'>2015-09-30</span><br>- Confirmed / Medium / sbogatkin / 8.0<br>- [non-release qa-agree-7.0 tricky]"
      ],
      "text/plain": [
       "<IPython.core.display.HTML at 0x113dfb910>"
      ]
     },
     "metadata": {},
     "output_type": "display_data"
    },
    {
     "data": {
      "text/html": [
       "- <span style='background-color: lightgreen; color: black'>R 136742</span> stackforge/fuel-library master ABANDONED <a href='https://review.openstack.org/136742'>Add security groups for nova.</a> Stanislaw Bogatkin 2014-11-24/2015-09-30"
      ],
      "text/plain": [
       "<IPython.core.display.HTML at 0x116e4bf50>"
      ]
     },
     "metadata": {},
     "output_type": "display_data"
    },
    {
     "data": {
      "text/html": [
       "<span style='background-color: blue; color: white'>B 1500871</span> <a href=https://bugs.launchpad.net/bugs/1500871>/etc/sysctl.conf values do not apply to haproxy namespace after a failover</a> 2015-09-29/2015-10-13<br>- In Progress / Medium / sbogatkin / 8.0<br>- [<b>customer-found</b>]"
      ],
      "text/plain": [
       "<IPython.core.display.HTML at 0x1161ce610>"
      ]
     },
     "metadata": {},
     "output_type": "display_data"
    },
    {
     "data": {
      "text/html": [
       "- <span style='background-color: lightgreen; color: black'>R 229367</span> stackforge/fuel-library master NEW <a href='https://review.openstack.org/229367'>Add sysctl call to set values in namespace</a> Stanislaw Bogatkin 2015-09-30/2015-10-14"
      ],
      "text/plain": [
       "<IPython.core.display.HTML at 0x114b6c710>"
      ]
     },
     "metadata": {},
     "output_type": "display_data"
    },
    {
     "name": "stdout",
     "output_type": "stream",
     "text": [
      "kgalanov\n"
     ]
    },
    {
     "data": {
      "text/html": [
       "<span style='background-color: blue; color: white'>B 1490131</span> <a href=https://bugs.launchpad.net/bugs/1490131>increase logging verbosity for librarian-puppet downloads</a> 2015-08-29/2015-10-14<br>- Confirmed / Medium / kgalanov / 8.0<br>- [non-release]"
      ],
      "text/plain": [
       "<IPython.core.display.HTML at 0x1161b4b10>"
      ]
     },
     "metadata": {},
     "output_type": "display_data"
    },
    {
     "data": {
      "text/html": [
       "<span style='background-color: blue; color: white'>B 1498368</span> <a href=https://bugs.launchpad.net/bugs/1498368>Swift can't find an image object after deletion of controllers</a> 2015-09-22/<span style='background-color: red; color: white'>2015-10-08</span><br>- Confirmed / High / kgalanov / 8.0<br>- [<i>docs</i> release-notes swift]"
      ],
      "text/plain": [
       "<IPython.core.display.HTML at 0x113c5b890>"
      ]
     },
     "metadata": {},
     "output_type": "display_data"
    },
    {
     "data": {
      "text/html": [
       "- <span style='background-color: lightgreen; color: black'>R 228360</span> stackforge/fuel-docs master MERGED <a href='https://review.openstack.org/228360'>Add the \"Swift did not finish copying data\" issue to relnotes 7.0</a> Evgeny Konstantinov 2015-09-28/2015-09-28"
      ],
      "text/plain": [
       "<IPython.core.display.HTML at 0x116abb610>"
      ]
     },
     "metadata": {},
     "output_type": "display_data"
    },
    {
     "data": {
      "text/html": [
       "<span style='background-color: blue; color: white'>B 1502195</span> <a href=https://bugs.launchpad.net/bugs/1502195>NVMe separator not considered during Ceph deployment</a> 2015-10-02/2015-10-12<br>- In Progress / High / kgalanov / 8.0<br>- [<b>customer-found</b> <b>support</b>]"
      ],
      "text/plain": [
       "<IPython.core.display.HTML at 0x116a9bf10>"
      ]
     },
     "metadata": {},
     "output_type": "display_data"
    },
    {
     "data": {
      "text/html": [
       "- <span style='background-color: lightgreen; color: black'>R 233725</span> stackforge/fuel-library master NEW <a href='https://review.openstack.org/233725'>Add support for NVMe devices</a> Kyrylo Galanov 2015-10-12/2015-10-13"
      ],
      "text/plain": [
       "<IPython.core.display.HTML at 0x11619ce50>"
      ]
     },
     "metadata": {},
     "output_type": "display_data"
    },
    {
     "name": "stdout",
     "output_type": "stream",
     "text": [
      "mmalchuk\n",
      "akislitsky\n"
     ]
    },
    {
     "data": {
      "text/html": [
       "<span style='background-color: blue; color: white'>B 1498365</span> <a href=https://bugs.launchpad.net/bugs/1498365>nailgun perfomance test fails due to ClusterOperationsLoadTest.test_put_deploy_selected_nodes taking too long</a> 2015-09-22/<span style='background-color: red; color: white'>2015-10-09</span><br>- In Progress / High / akislitsky / 8.0<br>- [module-nailgun tech-debt]"
      ],
      "text/plain": [
       "<IPython.core.display.HTML at 0x116aa92d0>"
      ]
     },
     "metadata": {},
     "output_type": "display_data"
    },
    {
     "data": {
      "text/html": [
       "- <span style='background-color: lightgreen; color: black'>R 232533</span> stackforge/fuel-web master NEW <a href='https://review.openstack.org/232533'>Performance test timeout increased for PUT of DeploySelectedNodes</a> Alexander Kislitsky 2015-10-08/<span style='background-color: red; color: white'>2015-10-09</span>"
      ],
      "text/plain": [
       "<IPython.core.display.HTML at 0x116a9b390>"
      ]
     },
     "metadata": {},
     "output_type": "display_data"
    },
    {
     "data": {
      "text/html": [
       "<span style='background-color: blue; color: white'>B 1498827</span> <a href=https://bugs.launchpad.net/bugs/1498827>stop deployment doesn't work if started before start provisioning</a> 2015-09-23/2015-10-13<br>- In Progress / High / akislitsky / 8.0<br>- [<i>feature</i> module-astute module-nailgun module-tasks release-notes tricky]"
      ],
      "text/plain": [
       "<IPython.core.display.HTML at 0x116abbbd0>"
      ]
     },
     "metadata": {},
     "output_type": "display_data"
    },
    {
     "data": {
      "text/html": [
       "- <span style='background-color: lightgreen; color: black'>R 229921</span> stackforge/fuel-astute master NEW <a href='https://review.openstack.org/229921'>Sending confirmation to Nailgun on task dispatching</a> Alexander Kislitsky 2015-10-01/<span style='background-color: red; color: white'>2015-10-08</span>"
      ],
      "text/plain": [
       "<IPython.core.display.HTML at 0x113400690>"
      ]
     },
     "metadata": {},
     "output_type": "display_data"
    },
    {
     "data": {
      "text/html": [
       "- <span style='background-color: lightgreen; color: black'>R 229953</span> stackforge/fuel-web master NEW <a href='https://review.openstack.org/229953'>Receiving of task processing confirmation from astute handled</a> Alexander Kislitsky 2015-10-01/2015-10-13"
      ],
      "text/plain": [
       "<IPython.core.display.HTML at 0x113be0b90>"
      ]
     },
     "metadata": {},
     "output_type": "display_data"
    },
    {
     "data": {
      "text/html": [
       "- <span style='background-color: lightgreen; color: black'>R 230747</span> stackforge/fuel-web master ABANDONED <a href='https://review.openstack.org/230747'>Stop deployment task based on status in orchestrator</a> Alexander Kislitsky 2015-10-03/2015-10-13"
      ],
      "text/plain": [
       "<IPython.core.display.HTML at 0x113be07d0>"
      ]
     },
     "metadata": {},
     "output_type": "display_data"
    },
    {
     "data": {
      "text/html": [
       "<span style='background-color: blue; color: white'>B 1500073</span> <a href=https://bugs.launchpad.net/bugs/1500073>fuel-stats should be tested by OpenStack Infra</a> 2015-09-26/<span style='background-color: red; color: white'>2015-10-05</span><br>- Confirmed / High / akislitsky / 8.0<br>- [tech-debt tricky]"
      ],
      "text/plain": [
       "<IPython.core.display.HTML at 0x113400350>"
      ]
     },
     "metadata": {},
     "output_type": "display_data"
    },
    {
     "data": {
      "text/html": [
       "<span style='background-color: blue; color: white'>B 1503637</span> <a href=https://bugs.launchpad.net/bugs/1503637>Add detailed description on deadlock detection</a> 2015-10-07/2015-10-13<br>- Confirmed / Medium / akislitsky / 8.0<br>- [tech-debt]"
      ],
      "text/plain": [
       "<IPython.core.display.HTML at 0x11618ecd0>"
      ]
     },
     "metadata": {},
     "output_type": "display_data"
    },
    {
     "data": {
      "text/html": [
       "<span style='background-color: blue; color: white'>B 1506040</span> <a href=https://bugs.launchpad.net/bugs/1506040>Log debug option for deadlocks detector</a> 2015-10-14/2015-10-15<br>- Confirmed / Medium / akislitsky / 8.0<br>- [tech-debt]"
      ],
      "text/plain": [
       "<IPython.core.display.HTML at 0x10ec428d0>"
      ]
     },
     "metadata": {},
     "output_type": "display_data"
    },
    {
     "name": "stdout",
     "output_type": "stream",
     "text": [
      "ikalnitsky\n"
     ]
    },
    {
     "data": {
      "text/html": [
       "<span style='background-color: blue; color: white'>B 1506380</span> <a href=https://bugs.launchpad.net/bugs/1506380>Upgrade from 7.0->8.0 failed</a> 2015-10-15/2015-10-15<br>- In Progress / High / ikalnitsky / 8.0<br>- [<b>swarm-blocker</b>]"
      ],
      "text/plain": [
       "<IPython.core.display.HTML at 0x114d52c90>"
      ]
     },
     "metadata": {},
     "output_type": "display_data"
    },
    {
     "data": {
      "text/html": [
       "- <span style='background-color: lightgreen; color: black'>R 235223</span> stackforge/fuel-web master NEW <a href='https://review.openstack.org/235223'>Meke possible to upgrade Fuel 7.0 to Fuel 8.0</a> Igor Kalnitsky 2015-10-15/2015-10-15"
      ],
      "text/plain": [
       "<IPython.core.display.HTML at 0x114c71cd0>"
      ]
     },
     "metadata": {},
     "output_type": "display_data"
    },
    {
     "name": "stdout",
     "output_type": "stream",
     "text": [
      "rprikhodchenko\n"
     ]
    },
    {
     "data": {
      "text/html": [
       "<span style='background-color: blue; color: white'>B 1458361</span> <a href=https://bugs.launchpad.net/bugs/1458361>[Fuel CLI] Unclear deprecation warning</a> 2015-05-24/2015-10-15<br>- In Progress / Medium / romcheg / 8.0<br>- [70mu1-confirmed <b>customer-found</b> known-issue module-client release-notes-done rn7-0]"
      ],
      "text/plain": [
       "<IPython.core.display.HTML at 0x113dfbb90>"
      ]
     },
     "metadata": {},
     "output_type": "display_data"
    },
    {
     "data": {
      "text/html": [
       "- <span style='background-color: lightgreen; color: black'>R 222118</span> stackforge/fuel-library stable/7.0 NEW <a href='https://review.openstack.org/222118'>Fixed issue with deprecation warning</a> Timur Nurlygayanov 2015-09-10/2015-10-12"
      ],
      "text/plain": [
       "<IPython.core.display.HTML at 0x113be07d0>"
      ]
     },
     "metadata": {},
     "output_type": "display_data"
    },
    {
     "data": {
      "text/html": [
       "- <span style='background-color: lightgreen; color: black'>R 235171</span> stackforge/python-fuelclient master NEW <a href='https://review.openstack.org/235171'>Generate user settings file</a> Roman Prykhodchenko 2015-10-15/2015-10-15"
      ],
      "text/plain": [
       "<IPython.core.display.HTML at 0x11021b410>"
      ]
     },
     "metadata": {},
     "output_type": "display_data"
    },
    {
     "data": {
      "text/html": [
       "- <span style='background-color: lightgreen; color: black'>R 224052</span> stackforge/fuel-docs master MERGED <a href='https://review.openstack.org/224052'>[RN 7.0] Deprecation warning in fuel client</a> Olga Gusarenko 2015-09-16/2015-09-17"
      ],
      "text/plain": [
       "<IPython.core.display.HTML at 0x11618e6d0>"
      ]
     },
     "metadata": {},
     "output_type": "display_data"
    },
    {
     "data": {
      "text/html": [
       "- <span style='background-color: lightgreen; color: black'>R 215115</span> stackforge/fuel-library master NEW <a href='https://review.openstack.org/215115'>Fixed issue with deprecation warning</a> Timur Nurlygayanov 2015-08-20/2015-10-13"
      ],
      "text/plain": [
       "<IPython.core.display.HTML at 0x113be0b90>"
      ]
     },
     "metadata": {},
     "output_type": "display_data"
    },
    {
     "data": {
      "text/html": [
       "- <span style='background-color: lightgreen; color: black'>R 215077</span> stackforge/python-fuelclient master ABANDONED <a href='https://review.openstack.org/215077'>Fixed issue with deprecation warning</a> Timur Nurlygayanov 2015-08-20/2015-08-24"
      ],
      "text/plain": [
       "<IPython.core.display.HTML at 0x113be0710>"
      ]
     },
     "metadata": {},
     "output_type": "display_data"
    },
    {
     "data": {
      "text/html": [
       "<span style='background-color: blue; color: white'>B 1487996</span> <a href=https://bugs.launchpad.net/bugs/1487996>Network verification passes successfully even if not enough IPs are allocated</a> 2015-08-24/2015-10-13<br>- In Progress / High / romcheg / 8.0<br>- [<b>customer-found</b> release-notes <b>support</b> tricky]"
      ],
      "text/plain": [
       "<IPython.core.display.HTML at 0x113400890>"
      ]
     },
     "metadata": {},
     "output_type": "display_data"
    },
    {
     "data": {
      "text/html": [
       "- <span style='background-color: lightgreen; color: black'>R 217267</span> stackforge/fuel-web master NEW <a href='https://review.openstack.org/217267'>Check available IP addresses in public network</a> Roman Prykhodchenko 2015-08-26/2015-10-13"
      ],
      "text/plain": [
       "<IPython.core.display.HTML at 0x116abb7d0>"
      ]
     },
     "metadata": {},
     "output_type": "display_data"
    },
    {
     "data": {
      "text/html": [
       "- <span style='background-color: lightgreen; color: black'>R 223129</span> stackforge/fuel-docs master MERGED <a href='https://review.openstack.org/223129'>Add IP Range Issue to relnotes</a> Evgeny Konstantinov 2015-09-14/2015-09-15"
      ],
      "text/plain": [
       "<IPython.core.display.HTML at 0x116abbf50>"
      ]
     },
     "metadata": {},
     "output_type": "display_data"
    },
    {
     "data": {
      "text/html": [
       "<span style='background-color: blue; color: white'>B 1499659</span> <a href=https://bugs.launchpad.net/bugs/1499659>dependency version conflict in python-fuelclient</a> 2015-09-25/<span style='background-color: red; color: white'>2015-10-09</span><br>- In Progress / High / romcheg / 8.0<br>- [module-client tech-debt]"
      ],
      "text/plain": [
       "<IPython.core.display.HTML at 0x116a9ba10>"
      ]
     },
     "metadata": {},
     "output_type": "display_data"
    },
    {
     "data": {
      "text/html": [
       "- <span style='background-color: lightgreen; color: black'>R 227862</span> stackforge/python-fuelclient master NEW <a href='https://review.openstack.org/227862'>Allign requirements to Kilo</a> Roman Prykhodchenko 2015-09-25/2015-10-12"
      ],
      "text/plain": [
       "<IPython.core.display.HTML at 0x116a9b390>"
      ]
     },
     "metadata": {},
     "output_type": "display_data"
    },
    {
     "data": {
      "text/html": [
       "- <span style='background-color: lightgreen; color: black'>R 227874</span> stackforge/python-fuelclient master MERGED <a href='https://review.openstack.org/227874'>Allign test requirements to Global Requirements</a> Roman Prykhodchenko 2015-09-25/2015-10-09"
      ],
      "text/plain": [
       "<IPython.core.display.HTML at 0x116a9b710>"
      ]
     },
     "metadata": {},
     "output_type": "display_data"
    },
    {
     "data": {
      "text/html": [
       "- <span style='background-color: lightgreen; color: black'>R 227895</span> stackforge/python-fuelclient master MERGED <a href='https://review.openstack.org/227895'>Use testrepository as the test runner</a> Roman Prykhodchenko 2015-09-25/2015-10-09"
      ],
      "text/plain": [
       "<IPython.core.display.HTML at 0x116a9b210>"
      ]
     },
     "metadata": {},
     "output_type": "display_data"
    },
    {
     "name": "stdout",
     "output_type": "stream",
     "text": [
      "mkwiek\n"
     ]
    },
    {
     "data": {
      "text/html": [
       "<span style='background-color: blue; color: white'>B 1352854</span> <a href=https://bugs.launchpad.net/bugs/1352854>[astute] Pretty debug output</a> 2014-08-05/<span style='background-color: red; color: white'>2015-10-09</span><br>- Triaged / Medium / maciej-iai / 8.0<br>- [<i>feature</i> module-astute]"
      ],
      "text/plain": [
       "<IPython.core.display.HTML at 0x113be07d0>"
      ]
     },
     "metadata": {},
     "output_type": "display_data"
    },
    {
     "data": {
      "text/html": [
       "- <span style='background-color: lightgreen; color: black'>R 111972</span> stackforge/fuel-astute master ABANDONED <a href='https://review.openstack.org/111972'>Pretty debug logs</a> Vladimir Sharshov 2014-08-05/2015-03-10"
      ],
      "text/plain": [
       "<IPython.core.display.HTML at 0x118f4e950>"
      ]
     },
     "metadata": {},
     "output_type": "display_data"
    },
    {
     "data": {
      "text/html": [
       "- <span style='background-color: lightgreen; color: black'>R 220973</span> stackforge/fuel-astute master MERGED <a href='https://review.openstack.org/220973'>Change inspect to pretty_inspect in logs</a> Maciej Kwiek 2015-09-07/2015-09-15"
      ],
      "text/plain": [
       "<IPython.core.display.HTML at 0x1177b9f10>"
      ]
     },
     "metadata": {},
     "output_type": "display_data"
    },
    {
     "data": {
      "text/html": [
       "<span style='background-color: blue; color: white'>B 1410810</span> <a href=https://bugs.launchpad.net/bugs/1410810>Update hacking for Python projects</a> 2015-01-14/2015-10-15<br>- In Progress / Medium / maciej-iai / 8.0<br>- [low-hanging-fruit module-client tech-debt]"
      ],
      "text/plain": [
       "<IPython.core.display.HTML at 0x113dfb3d0>"
      ]
     },
     "metadata": {},
     "output_type": "display_data"
    },
    {
     "data": {
      "text/html": [
       "- <span style='background-color: lightgreen; color: black'>R 170521</span> stackforge/fuel-web master ABANDONED <a href='https://review.openstack.org/170521'>Changing hacking package version to \">=0.10.1\"</a> Nikolay Markov 2015-04-03/2015-08-18"
      ],
      "text/plain": [
       "<IPython.core.display.HTML at 0x10cf5b310>"
      ]
     },
     "metadata": {},
     "output_type": "display_data"
    },
    {
     "data": {
      "text/html": [
       "- <span style='background-color: lightgreen; color: black'>R 233001</span> stackforge/fuel-web master MERGED <a href='https://review.openstack.org/233001'>Upgrade hacking to 0.10 in fuel_upgrade_system</a> Maciej Kwiek 2015-10-09/2015-10-12"
      ],
      "text/plain": [
       "<IPython.core.display.HTML at 0x114c71cd0>"
      ]
     },
     "metadata": {},
     "output_type": "display_data"
    },
    {
     "data": {
      "text/html": [
       "- <span style='background-color: lightgreen; color: black'>R 232574</span> stackforge/fuel-web master MERGED <a href='https://review.openstack.org/232574'>Fix hacking 0.10 errors in shotgun</a> Maciej Kwiek 2015-10-08/2015-10-09"
      ],
      "text/plain": [
       "<IPython.core.display.HTML at 0x11618e850>"
      ]
     },
     "metadata": {},
     "output_type": "display_data"
    },
    {
     "data": {
      "text/html": [
       "- <span style='background-color: lightgreen; color: black'>R 229462</span> stackforge/fuel-web master MERGED <a href='https://review.openstack.org/229462'>Fix hacking 0.10 errors in nailgun</a> Maciej Kwiek 2015-09-30/2015-10-08"
      ],
      "text/plain": [
       "<IPython.core.display.HTML at 0x116e33710>"
      ]
     },
     "metadata": {},
     "output_type": "display_data"
    },
    {
     "data": {
      "text/html": [
       "- <span style='background-color: lightgreen; color: black'>R 232609</span> stackforge/fuel-web master MERGED <a href='https://review.openstack.org/232609'>Fix hacking 0.10 in network-checker</a> Maciej Kwiek 2015-10-08/2015-10-15"
      ],
      "text/plain": [
       "<IPython.core.display.HTML at 0x114b6c710>"
      ]
     },
     "metadata": {},
     "output_type": "display_data"
    },
    {
     "data": {
      "text/html": [
       "<span style='background-color: blue; color: white'>B 1480260</span> <a href=https://bugs.launchpad.net/bugs/1480260>[devops] add to monitoring http://fuel-gauge.mirantis.com/ site</a> 2015-07-31/<span style='background-color: red; color: white'>2015-08-28</span><br>- Confirmed / Medium / maciej-iai / 8.0<br>- [<i>devops</i> non-release]"
      ],
      "text/plain": [
       "<IPython.core.display.HTML at 0x114d527d0>"
      ]
     },
     "metadata": {},
     "output_type": "display_data"
    },
    {
     "data": {
      "text/html": [
       "- <span style='background-color: lightgreen; color: black'>R 10032</span> fuel-infra/puppet-manifests master ABANDONED <a href='https://review.fuel-infra.org/10032'>Add fuel-gauge items / config to zabbix monitoring</a> Mateusz Matuszkowiak 2015-08-03/2015-08-07"
      ],
      "text/plain": [
       "<IPython.core.display.HTML at 0x114d52510>"
      ]
     },
     "metadata": {},
     "output_type": "display_data"
    },
    {
     "data": {
      "text/html": [
       "<span style='background-color: blue; color: white'>B 1502295</span> <a href=https://bugs.launchpad.net/bugs/1502295>All nodes in error state after scaling because one compute node was unreachable</a> 2015-10-02/2015-10-14<br>- In Progress / High / maciej-iai / 8.0<br>- [<b>customer-found</b> tricky]"
      ],
      "text/plain": [
       "<IPython.core.display.HTML at 0x114d52490>"
      ]
     },
     "metadata": {},
     "output_type": "display_data"
    },
    {
     "data": {
      "text/html": [
       "- <span style='background-color: lightgreen; color: black'>R 234657</span> stackforge/fuel-astute master NEW <a href='https://review.openstack.org/234657'>All offline nodes are removed as failed nodes</a> Maciej Kwiek 2015-10-14/2015-10-15"
      ],
      "text/plain": [
       "<IPython.core.display.HTML at 0x10f7b16d0>"
      ]
     },
     "metadata": {},
     "output_type": "display_data"
    },
    {
     "data": {
      "text/html": [
       "- <span style='background-color: lightgreen; color: black'>R 233024</span> stackforge/fuel-web master ABANDONED <a href='https://review.openstack.org/233024'>Skip offline nodes in post deployment hooks</a> Maciej Kwiek 2015-10-09/2015-10-13"
      ],
      "text/plain": [
       "<IPython.core.display.HTML at 0x11021b410>"
      ]
     },
     "metadata": {},
     "output_type": "display_data"
    },
    {
     "data": {
      "text/html": [
       "<span style='background-color: blue; color: white'>B 1503303</span> <a href=https://bugs.launchpad.net/bugs/1503303>Fuel 7.0 different output for \"state\" column  \"fuel release\" into CLI and UI</a> 2015-10-06/2015-10-13<br>- Confirmed / Low / maciej-iai / 8.0<br>- [<b>support</b>]"
      ],
      "text/plain": [
       "<IPython.core.display.HTML at 0x113e13a90>"
      ]
     },
     "metadata": {},
     "output_type": "display_data"
    },
    {
     "name": "stdout",
     "output_type": "stream",
     "text": [
      "aroma\n"
     ]
    },
    {
     "data": {
      "text/html": [
       "<span style='background-color: blue; color: white'>B 1435229</span> <a href=https://bugs.launchpad.net/bugs/1435229>Expand test coverage for OSTF adapter</a> 2015-03-23/2015-10-13<br>- In Progress / Medium / aroma-x / 8.0<br>- [module-ostf tech-debt]"
      ],
      "text/plain": [
       "<IPython.core.display.HTML at 0x113dfbf50>"
      ]
     },
     "metadata": {},
     "output_type": "display_data"
    },
    {
     "data": {
      "text/html": [
       "- <span style='background-color: lightgreen; color: black'>R 231898</span> stackforge/fuel-ostf master MERGED <a href='https://review.openstack.org/231898'>Add tests for methods of TestSet and TestRun models</a> Artem Roma 2015-10-07/2015-10-13"
      ],
      "text/plain": [
       "<IPython.core.display.HTML at 0x113400d50>"
      ]
     },
     "metadata": {},
     "output_type": "display_data"
    },
    {
     "data": {
      "text/html": [
       "- <span style='background-color: lightgreen; color: black'>R 223970</span> stackforge/fuel-ostf master MERGED <a href='https://review.openstack.org/223970'>Add tests for methods of Test model class</a> Artem Roma 2015-09-16/2015-09-30"
      ],
      "text/plain": [
       "<IPython.core.display.HTML at 0x1134006d0>"
      ]
     },
     "metadata": {},
     "output_type": "display_data"
    },
    {
     "data": {
      "text/html": [
       "<span style='background-color: blue; color: white'>B 1455196</span> <a href=https://bugs.launchpad.net/bugs/1455196>Unable to compile plugin with fpb 2.x</a> 2015-05-14/2015-10-12<br>- Confirmed / Medium / aroma-x / 8.0<br>- [feature-plugins]"
      ],
      "text/plain": [
       "<IPython.core.display.HTML at 0x116a9b390>"
      ]
     },
     "metadata": {},
     "output_type": "display_data"
    },
    {
     "data": {
      "text/html": [
       "- <span style='background-color: lightgreen; color: black'>R 227837</span> stackforge/fuel-plugins master MERGED <a href='https://review.openstack.org/227837'>Convert cli arguments to unicode objects</a> Artem Roma 2015-09-25/2015-10-01"
      ],
      "text/plain": [
       "<IPython.core.display.HTML at 0x116a9b7d0>"
      ]
     },
     "metadata": {},
     "output_type": "display_data"
    },
    {
     "data": {
      "text/html": [
       "<span style='background-color: blue; color: white'>B 1487482</span> <a href=https://bugs.launchpad.net/bugs/1487482>[VIPs] VIPs names should be unique</a> 2015-08-21/2015-10-12<br>- In Progress / High / aroma-x / 8.0<br>- [feature-validation module-nailgun module-networks]"
      ],
      "text/plain": [
       "<IPython.core.display.HTML at 0x1161b4b50>"
      ]
     },
     "metadata": {},
     "output_type": "display_data"
    },
    {
     "data": {
      "text/html": [
       "- <span style='background-color: lightgreen; color: black'>R 233714</span> stackforge/fuel-web master NEW <a href='https://review.openstack.org/233714'>Add check if VIP name already present in network config</a> Artem Roma 2015-10-12/2015-10-15"
      ],
      "text/plain": [
       "<IPython.core.display.HTML at 0x116aa9390>"
      ]
     },
     "metadata": {},
     "output_type": "display_data"
    },
    {
     "data": {
      "text/html": [
       "<span style='background-color: blue; color: white'>B 1502970</span> <a href=https://bugs.launchpad.net/bugs/1502970>Fuel start to redeploy nodes in Ready state</a> 2015-10-05/2015-10-15<br>- Confirmed / Medium / aroma-x / 8.0<br>- [<b>support</b>]"
      ],
      "text/plain": [
       "<IPython.core.display.HTML at 0x116aa9650>"
      ]
     },
     "metadata": {},
     "output_type": "display_data"
    },
    {
     "name": "stdout",
     "output_type": "stream",
     "text": [
      "atykhonov\n"
     ]
    },
    {
     "data": {
      "text/html": [
       "<span style='background-color: blue; color: white'>B 1420658</span> <a href=https://bugs.launchpad.net/bugs/1420658>Fuel can create several nodegroup with the same name for  the same environment.</a> 2015-02-11/2015-10-13<br>- In Progress / Medium / atykhonov / 8.0<br>- [<b>customer-found</b> feature-multi-l2 feature-nodegroup low-hanging-fruit size-s <b>support</b>]"
      ],
      "text/plain": [
       "<IPython.core.display.HTML at 0x11618e5d0>"
      ]
     },
     "metadata": {},
     "output_type": "display_data"
    },
    {
     "data": {
      "text/html": [
       "- <span style='background-color: lightgreen; color: black'>R 231594</span> stackforge/fuel-web master NEW <a href='https://review.openstack.org/231594'>Don't allow to have duplicated nodegroups</a> Andrey Tykhonov 2015-10-06/2015-10-15"
      ],
      "text/plain": [
       "<IPython.core.display.HTML at 0x116aa9f10>"
      ]
     },
     "metadata": {},
     "output_type": "display_data"
    },
    {
     "data": {
      "text/html": [
       "<span style='background-color: blue; color: white'>B 1503386</span> <a href=https://bugs.launchpad.net/bugs/1503386>Output traceback only when debug mode is turned on</a> 2015-10-06/<span style='background-color: red; color: white'>2015-10-08</span><br>- In Progress / Wishlist / atykhonov / 8.0<br>- [module-client]"
      ],
      "text/plain": [
       "<IPython.core.display.HTML at 0x1161b4cd0>"
      ]
     },
     "metadata": {},
     "output_type": "display_data"
    },
    {
     "name": "stdout",
     "output_type": "stream",
     "text": [
      "ogelbukh\n"
     ]
    },
    {
     "data": {
      "text/html": [
       "<span style='background-color: blue; color: white'>B 1494507</span> <a href=https://bugs.launchpad.net/bugs/1494507>New controller can not be added to the ready cluster</a> 2015-09-10/<span style='background-color: red; color: white'>2015-10-08</span><br>- In Progress / High / gelbuhos / 8.0<br>- [feature-upgrade module-octane]"
      ],
      "text/plain": [
       "<IPython.core.display.HTML at 0x116a9bfd0>"
      ]
     },
     "metadata": {},
     "output_type": "display_data"
    },
    {
     "data": {
      "text/html": [
       "- <span style='background-color: lightgreen; color: black'>R 229305</span> stackforge/fuel-octane stable/7.0 MERGED <a href='https://review.openstack.org/229305'>Properly use deployment info in 7.0</a> Oleg Gelbukh 2015-09-30/2015-10-05"
      ],
      "text/plain": [
       "<IPython.core.display.HTML at 0x113400a90>"
      ]
     },
     "metadata": {},
     "output_type": "display_data"
    },
    {
     "data": {
      "text/html": [
       "<span style='background-color: blue; color: white'>B 1499696</span> <a href=https://bugs.launchpad.net/bugs/1499696>fuel-octane doesn't check if service up after upgrade-control</a> 2015-09-25/2015-10-12<br>- In Progress / High / gelbuhos / 8.0<br>- [feature-upgrade module-octane]"
      ],
      "text/plain": [
       "<IPython.core.display.HTML at 0x113dfbb90>"
      ]
     },
     "metadata": {},
     "output_type": "display_data"
    },
    {
     "data": {
      "text/html": [
       "- <span style='background-color: lightgreen; color: black'>R 231199</span> stackforge/fuel-octane stable/7.0 NEW <a href='https://review.openstack.org/231199'>Use more correct approach to detect resources status</a> Valyavskiy Viacheslav 2015-10-05/2015-10-14"
      ],
      "text/plain": [
       "<IPython.core.display.HTML at 0x1168cd410>"
      ]
     },
     "metadata": {},
     "output_type": "display_data"
    },
    {
     "data": {
      "text/html": [
       "<span style='background-color: blue; color: white'>B 1503663</span> <a href=https://bugs.launchpad.net/bugs/1503663>fuel 8.0 with Liberty Openstack provides Kilo as choice of Openstack</a> 2015-10-07/2015-10-15<br>- In Progress / High / gelbuhos / 8.0<br>- [low-hanging-fruit regression-8.0]"
      ],
      "text/plain": [
       "<IPython.core.display.HTML at 0x116e4bb50>"
      ]
     },
     "metadata": {},
     "output_type": "display_data"
    },
    {
     "data": {
      "text/html": [
       "- <span style='background-color: lightgreen; color: black'>R 235254</span> stackforge/fuel-library master NEW <a href='https://review.openstack.org/235254'>Read openstack_version from fuel_openstack_version file</a> Oleg Gelbukh 2015-10-15/2015-10-15"
      ],
      "text/plain": [
       "<IPython.core.display.HTML at 0x114c71cd0>"
      ]
     },
     "metadata": {},
     "output_type": "display_data"
    },
    {
     "data": {
      "text/html": [
       "- <span style='background-color: lightgreen; color: black'>R 234296</span> stackforge/fuel-web master NEW <a href='https://review.openstack.org/234296'>Change release version to Liberty in openstack.yaml</a> Oleg Gelbukh 2015-10-13/2015-10-15"
      ],
      "text/plain": [
       "<IPython.core.display.HTML at 0x114c71cd0>"
      ]
     },
     "metadata": {},
     "output_type": "display_data"
    },
    {
     "name": "stdout",
     "output_type": "stream",
     "text": [
      "sryabin\n"
     ]
    },
    {
     "data": {
      "text/html": [
       "<span style='background-color: blue; color: white'>B 1398113</span> <a href=https://bugs.launchpad.net/bugs/1398113>Add postgresql monitoring to zabbix (for anonymous statistics)</a> 2014-12-01/<span style='background-color: red; color: white'>2015-10-08</span><br>- In Progress / High / sryabin / 8.0<br>- [<i>devops</i> non-release]"
      ],
      "text/plain": [
       "<IPython.core.display.HTML at 0x113dfbe10>"
      ]
     },
     "metadata": {},
     "output_type": "display_data"
    },
    {
     "name": "stdout",
     "output_type": "stream",
     "text": [
      "ikharin\n"
     ]
    },
    {
     "data": {
      "text/html": [
       "<span style='background-color: blue; color: white'>B 1483773</span> <a href=https://bugs.launchpad.net/bugs/1483773>[nailgun]Clone environment doesn't clone environment 'ip_ranges' settings properly</a> 2015-08-11/<span style='background-color: red; color: white'>2015-08-11</span><br>- Confirmed / Medium / akscram / 8.0<br>- []"
      ],
      "text/plain": [
       "<IPython.core.display.HTML at 0x113400c10>"
      ]
     },
     "metadata": {},
     "output_type": "display_data"
    },
    {
     "data": {
      "text/html": [
       "- <span style='background-color: lightgreen; color: black'>R 209892</span> stackforge/fuel-web master MERGED <a href='https://review.openstack.org/209892'>Allow modification of NetworkGroup.meta</a> Ivan Kliuk 2015-08-06/2015-08-14"
      ],
      "text/plain": [
       "<IPython.core.display.HTML at 0x1177b9f10>"
      ]
     },
     "metadata": {},
     "output_type": "display_data"
    },
    {
     "data": {
      "text/html": [
       "<span style='background-color: blue; color: white'>B 1495987</span> <a href=https://bugs.launchpad.net/bugs/1495987>After cluster cloning management network rages are different </a> 2015-09-15/<span style='background-color: red; color: white'>2015-10-06</span><br>- Confirmed / High / akscram / 8.0<br>- []"
      ],
      "text/plain": [
       "<IPython.core.display.HTML at 0x1167d52d0>"
      ]
     },
     "metadata": {},
     "output_type": "display_data"
    },
    {
     "name": "stdout",
     "output_type": "stream",
     "text": [
      "smurashov\n"
     ]
    },
    {
     "data": {
      "text/html": [
       "<span style='background-color: blue; color: white'>B 1484973</span> <a href=https://bugs.launchpad.net/bugs/1484973>Change assigned IP addresses representation from string</a> 2015-08-14/<span style='background-color: red; color: white'>2015-10-06</span><br>- Confirmed / High / smurashov / 8.0<br>- [module-nailgun tech-debt]"
      ],
      "text/plain": [
       "<IPython.core.display.HTML at 0x116aa9d90>"
      ]
     },
     "metadata": {},
     "output_type": "display_data"
    },
    {
     "name": "stdout",
     "output_type": "stream",
     "text": [
      "yorik-sar\n"
     ]
    },
    {
     "data": {
      "text/html": [
       "<span style='background-color: blue; color: white'>B 1486886</span> <a href=https://bugs.launchpad.net/bugs/1486886>Intermittent errors on Gerrit side </a> 2015-08-20/<span style='background-color: red; color: white'>2015-10-08</span><br>- Confirmed / High / yorik-sar / 8.0<br>- [<i>devops</i>]"
      ],
      "text/plain": [
       "<IPython.core.display.HTML at 0x113b58f10>"
      ]
     },
     "metadata": {},
     "output_type": "display_data"
    },
    {
     "name": "stdout",
     "output_type": "stream",
     "text": [
      "dklenov\n",
      "iponomarev\n"
     ]
    },
    {
     "data": {
      "text/html": [
       "<span style='background-color: blue; color: white'>B 1504157</span> <a href=https://bugs.launchpad.net/bugs/1504157>copy_files task can not copy binary files</a> 2015-10-08/2015-10-14<br>- Confirmed / High / ivanzipfer / 8.0<br>- [module-astute]"
      ],
      "text/plain": [
       "<IPython.core.display.HTML at 0x113b58090>"
      ]
     },
     "metadata": {},
     "output_type": "display_data"
    },
    {
     "name": "stdout",
     "output_type": "stream",
     "text": [
      "vsakharov\n"
     ]
    },
    {
     "data": {
      "text/html": [
       "<span style='background-color: blue; color: white'>B 1500494</span> <a href=https://bugs.launchpad.net/bugs/1500494>Novnc doesn't work when using nodegroups</a> 2015-09-28/2015-10-13<br>- In Progress / High / vsakharov / 8.0<br>- [<b>customer-found</b> feature-nodegroup]"
      ],
      "text/plain": [
       "<IPython.core.display.HTML at 0x11618ed10>"
      ]
     },
     "metadata": {},
     "output_type": "display_data"
    },
    {
     "name": "stdout",
     "output_type": "stream",
     "text": [
      "vvalyavskiy\n",
      "mpolenchuk\n"
     ]
    },
    {
     "data": {
      "text/html": [
       "<span style='background-color: blue; color: white'>B 1496279</span> <a href=https://bugs.launchpad.net/bugs/1496279>[nailgun] Bonding conf is inconsistent after cloud ops</a> 2015-09-16/<span style='background-color: red; color: white'>2015-10-06</span><br>- In Progress / High / mpolenchuk / 8.0<br>- []"
      ],
      "text/plain": [
       "<IPython.core.display.HTML at 0x1161b4a90>"
      ]
     },
     "metadata": {},
     "output_type": "display_data"
    },
    {
     "data": {
      "text/html": [
       "- <span style='background-color: lightgreen; color: black'>R 223991</span> stackforge/fuel-nailgun-agent master NEW <a href='https://review.openstack.org/223991'>Return original interface mac</a> Michael Polenchuk 2015-09-16/2015-10-15"
      ],
      "text/plain": [
       "<IPython.core.display.HTML at 0x1167d58d0>"
      ]
     },
     "metadata": {},
     "output_type": "display_data"
    },
    {
     "name": "stdout",
     "output_type": "stream",
     "text": [
      "asvechnikov\n"
     ]
    },
    {
     "data": {
      "text/html": [
       "<span style='background-color: blue; color: white'>B 1476205</span> <a href=https://bugs.launchpad.net/bugs/1476205>[fuel-agent] Refactor code for partition preservation feature</a> 2015-07-20/2015-10-12<br>- Confirmed / Medium / asvechnikov / 8.0<br>- [feature-image-based ibp tech-debt]"
      ],
      "text/plain": [
       "<IPython.core.display.HTML at 0x113400890>"
      ]
     },
     "metadata": {},
     "output_type": "display_data"
    },
    {
     "name": "stdout",
     "output_type": "stream",
     "text": [
      "fzhadaev\n"
     ]
    },
    {
     "data": {
      "text/html": [
       "<span style='background-color: blue; color: white'>B 1500394</span> <a href=https://bugs.launchpad.net/bugs/1500394>Failed to start Fuel UI. Nailgun is not available</a> 2015-09-28/2015-10-15<br>- In Progress / High / fzhadaev / 8.0<br>- [feature-plugins]"
      ],
      "text/plain": [
       "<IPython.core.display.HTML at 0x113dfb850>"
      ]
     },
     "metadata": {},
     "output_type": "display_data"
    },
    {
     "data": {
      "text/html": [
       "<span style='background-color: blue; color: white'>B 1502842</span> <a href=https://bugs.launchpad.net/bugs/1502842>Need to re-configure routing after we add a new nodegroup (rack)</a> 2015-10-05/2015-10-13<br>- Triaged / High / fzhadaev / 8.0<br>- [<i>feature</i> feature-nodegroup]"
      ],
      "text/plain": [
       "<IPython.core.display.HTML at 0x114d52ed0>"
      ]
     },
     "metadata": {},
     "output_type": "display_data"
    },
    {
     "name": "stdout",
     "output_type": "stream",
     "text": [
      "sbanka\n",
      "bkupidura\n"
     ]
    },
    {
     "data": {
      "text/html": [
       "<span style='background-color: blue; color: white'>B 1478914</span> <a href=https://bugs.launchpad.net/bugs/1478914>[Reduced footprint] It is possible to assign VM spawned in env#1 to env#2</a> 2015-07-28/2015-10-12<br>- Confirmed / Medium / zynzel / 8.0<br>- [tricky]"
      ],
      "text/plain": [
       "<IPython.core.display.HTML at 0x116e4bd90>"
      ]
     },
     "metadata": {},
     "output_type": "display_data"
    },
    {
     "data": {
      "text/html": [
       "<span style='background-color: blue; color: white'>B 1505141</span> <a href=https://bugs.launchpad.net/bugs/1505141>[Doc]Reduced footprint typos/bad json formatting</a> 2015-10-12/2015-10-14<br>- Confirmed / Low / zynzel / 8.0<br>- [<i>docs</i>]"
      ],
      "text/plain": [
       "<IPython.core.display.HTML at 0x113dfb990>"
      ]
     },
     "metadata": {},
     "output_type": "display_data"
    },
    {
     "data": {
      "text/html": [
       "<span style='background-color: blue; color: white'>B 1505147</span> <a href=https://bugs.launchpad.net/bugs/1505147>[Doc]Partition preservation doesn't covert reduced-footprint</a> 2015-10-12/2015-10-14<br>- Confirmed / Low / zynzel / 8.0<br>- [<i>docs</i>]"
      ],
      "text/plain": [
       "<IPython.core.display.HTML at 0x1167d5b90>"
      ]
     },
     "metadata": {},
     "output_type": "display_data"
    },
    {
     "name": "stdout",
     "output_type": "stream",
     "text": [
      "dszeluga\n"
     ]
    },
    {
     "data": {
      "text/html": [
       "<span style='background-color: blue; color: white'>B 1493985</span> <a href=https://bugs.launchpad.net/bugs/1493985>fuel-library noop tests fails on OSX for Parameter ensure failed on Package[cloud-init]: Provider must have features 'purgeable' to set 'ensure' to 'purged'</a> 2015-09-09/2015-10-13<br>- Confirmed / Low / dszeluga / 8.0<br>- [low-hanging-fruit non-release]"
      ],
      "text/plain": [
       "<IPython.core.display.HTML at 0x1161b4190>"
      ]
     },
     "metadata": {},
     "output_type": "display_data"
    },
    {
     "data": {
      "text/html": [
       "- <span style='background-color: lightgreen; color: black'>R 233260</span> stackforge/fuel-library master MERGED <a href='https://review.openstack.org/233260'>Revert \"Fix noop test on OS X\"</a> Alex Schultz 2015-10-09/2015-10-10"
      ],
      "text/plain": [
       "<IPython.core.display.HTML at 0x116aa9290>"
      ]
     },
     "metadata": {},
     "output_type": "display_data"
    },
    {
     "data": {
      "text/html": [
       "- <span style='background-color: lightgreen; color: black'>R 231934</span> stackforge/fuel-library master MERGED <a href='https://review.openstack.org/231934'>Fix noop test on OS X</a> Damian Szeluga 2015-10-07/2015-10-09"
      ],
      "text/plain": [
       "<IPython.core.display.HTML at 0x116aa9390>"
      ]
     },
     "metadata": {},
     "output_type": "display_data"
    },
    {
     "name": "stdout",
     "output_type": "stream",
     "text": [
      "azvyagintsev\n",
      "pzhurba\n"
     ]
    },
    {
     "data": {
      "text/html": [
       "<span style='background-color: blue; color: white'>B 1482215</span> <a href=https://bugs.launchpad.net/bugs/1482215>Syslog priority is broken for Ceph logs</a> 2015-08-06/2015-10-12<br>- Confirmed / Medium / pzhurba / 8.0<br>- [logging]"
      ],
      "text/plain": [
       "<IPython.core.display.HTML at 0x11618ef10>"
      ]
     },
     "metadata": {},
     "output_type": "display_data"
    },
    {
     "data": {
      "text/html": [
       "<span style='background-color: blue; color: white'>B 1491518</span> <a href=https://bugs.launchpad.net/bugs/1491518>ISCSI target is running on controllers even when Ceph is used as Cinder back end</a> 2015-09-02/2015-10-13<br>- In Progress / Medium / pzhurba / 8.0<br>- [cinder]"
      ],
      "text/plain": [
       "<IPython.core.display.HTML at 0x11619c850>"
      ]
     },
     "metadata": {},
     "output_type": "display_data"
    },
    {
     "data": {
      "text/html": [
       "- <span style='background-color: lightgreen; color: black'>R 234021</span> stackforge/fuel-library master NEW <a href='https://review.openstack.org/234021'>Disable autostart for tgt and prevent it running</a> Peter Zhurba 2015-10-13/2015-10-13"
      ],
      "text/plain": [
       "<IPython.core.display.HTML at 0x11619ca50>"
      ]
     },
     "metadata": {},
     "output_type": "display_data"
    },
    {
     "data": {
      "text/html": [
       "<span style='background-color: blue; color: white'>B 1498438</span> <a href=https://bugs.launchpad.net/bugs/1498438>INVALID.log is present on fuel node in remote logs</a> 2015-09-22/2015-10-13<br>- In Progress / Medium / pzhurba / 8.0<br>- []"
      ],
      "text/plain": [
       "<IPython.core.display.HTML at 0x11021bcd0>"
      ]
     },
     "metadata": {},
     "output_type": "display_data"
    },
    {
     "data": {
      "text/html": [
       "- <span style='background-color: lightgreen; color: black'>R 232613</span> stackforge/fuel-agent master NEW <a href='https://review.openstack.org/232613'>Fix cloud-init rsyslog format template</a> Peter Zhurba 2015-10-08/2015-10-15"
      ],
      "text/plain": [
       "<IPython.core.display.HTML at 0x116abb290>"
      ]
     },
     "metadata": {},
     "output_type": "display_data"
    },
    {
     "data": {
      "text/html": [
       "- <span style='background-color: lightgreen; color: black'>R 233704</span> stackforge/fuel-library master NEW <a href='https://review.openstack.org/233704'>Fix log template for remote logs</a> Alex Schultz 2015-10-12/2015-10-15"
      ],
      "text/plain": [
       "<IPython.core.display.HTML at 0x116abbb90>"
      ]
     },
     "metadata": {},
     "output_type": "display_data"
    },
    {
     "name": "stdout",
     "output_type": "stream",
     "text": [
      "rlu\n"
     ]
    },
    {
     "data": {
      "text/html": [
       "<span style='background-color: blue; color: white'>B 1498916</span> <a href=https://bugs.launchpad.net/bugs/1498916>swift-dispersion-report does not work</a> 2015-09-23/2015-10-13<br>- In Progress / Medium / rlu / 8.0<br>- [swift]"
      ],
      "text/plain": [
       "<IPython.core.display.HTML at 0x116aa9210>"
      ]
     },
     "metadata": {},
     "output_type": "display_data"
    },
    {
     "data": {
      "text/html": [
       "- <span style='background-color: lightgreen; color: black'>R 234171</span> stackforge/fuel-library master NEW <a href='https://review.openstack.org/234171'>dispersion.conf added for swift-dispersion-report</a> Maciej Relewicz 2015-10-13/2015-10-15"
      ],
      "text/plain": [
       "<IPython.core.display.HTML at 0x1177b9f10>"
      ]
     },
     "metadata": {},
     "output_type": "display_data"
    },
    {
     "name": "stdout",
     "output_type": "stream",
     "text": [
      "asaprykin\n"
     ]
    },
    {
     "data": {
      "text/html": [
       "<span style='background-color: blue; color: white'>B 1491364</span> <a href=https://bugs.launchpad.net/bugs/1491364>[Reduced Footprint] Inconsistent state of vm after reset environment</a> 2015-09-02/<span style='background-color: red; color: white'>2015-10-09</span><br>- In Progress / Medium / cutwater / 8.0<br>- [module-nailgun]"
      ],
      "text/plain": [
       "<IPython.core.display.HTML at 0x116aa9910>"
      ]
     },
     "metadata": {},
     "output_type": "display_data"
    },
    {
     "data": {
      "text/html": [
       "- <span style='background-color: lightgreen; color: black'>R 232936</span> stackforge/fuel-web master NEW <a href='https://review.openstack.org/232936'>Update VMs in the database on cluster reset.</a> Alexander Saprykin 2015-10-09/<span style='background-color: red; color: white'>2015-10-09</span>"
      ],
      "text/plain": [
       "<IPython.core.display.HTML at 0x117716650>"
      ]
     },
     "metadata": {},
     "output_type": "display_data"
    },
    {
     "data": {
      "text/html": [
       "<span style='background-color: blue; color: white'>B 1496630</span> <a href=https://bugs.launchpad.net/bugs/1496630>Network configuration handlers should return object not task</a> 2015-09-16/<span style='background-color: red; color: white'>2015-10-07</span><br>- In Progress / Medium / cutwater / 8.0<br>- [<b>customer-found</b> module-nailgun module-networks tech-debt]"
      ],
      "text/plain": [
       "<IPython.core.display.HTML at 0x116a9b590>"
      ]
     },
     "metadata": {},
     "output_type": "display_data"
    },
    {
     "data": {
      "text/html": [
       "- <span style='background-color: lightgreen; color: black'>R 232021</span> stackforge/fuel-web master NEW <a href='https://review.openstack.org/232021'>Network configuration handlers return network config</a> Alexander Saprykin 2015-10-07/2015-10-14"
      ],
      "text/plain": [
       "<IPython.core.display.HTML at 0x116a9bf50>"
      ]
     },
     "metadata": {},
     "output_type": "display_data"
    }
   ],
   "source": [
    "users = (\n",
    "    \"dpyzhov mmosesohn sbogatkin kgalanov mmalchuk akislitsky ikalnitsky rprikhodchenko mkwiek aroma atykhonov\".split() +\n",
    "    \"ogelbukh sryabin ikharin smurashov yorik-sar\".split() + #yorik-sar=>ytaraday\n",
    "    \"dklenov iponomarev vsakharov vvalyavskiy mpolenchuk asvechnikov fzhadaev\".split() +\n",
    "    \"sbanka bkupidura dszeluga azvyagintsev pzhurba rlu asaprykin\".split()) #rlu=>mrelewicz\n",
    "\n",
    "for user in users:\n",
    "    print user\n",
    "    p = lp.people.getByEmail(email=\"%s@mirantis.com\" % user)\n",
    "    if p is None:\n",
    "        p = lp.people[user]\n",
    "    collection = p.searchTasks(milestone=cur_ms, status=open_statuses, assignee=p)\n",
    "    for bt in collection:\n",
    "        display_bug(bt.bug)"
   ]
  },
  {
   "cell_type": "code",
   "execution_count": 148,
   "metadata": {
    "collapsed": false
   },
   "outputs": [
    {
     "name": "stdout",
     "output_type": "stream",
     "text": [
      "Not Found\n"
     ]
    }
   ],
   "source": [
    "import urllib, yaml\n",
    "params = {\n",
    "    \"p\": \"tools/lp-reports.git\",\n",
    "    \"a\": \"blob_plain\",\n",
    "    \"f\": \"config/teams.yaml\",\n",
    "    \"hb\": \"refs/heads/master\"}\n",
    "print urllib.urlopen(\"https://review.fuel-infra.org/gitweb?p=tools/lp-reports.git;a=blob_plain;f=config/teams.yaml;hb=refs/heads/master\").read()\n",
    "#teams_config"
   ]
  },
  {
   "cell_type": "markdown",
   "metadata": {},
   "source": [
    "## Graphs playground"
   ]
  },
  {
   "cell_type": "code",
   "execution_count": null,
   "metadata": {
    "collapsed": true
   },
   "outputs": [],
   "source": [
    "x = np.linspace(0, 2*np.pi, 200)"
   ]
  },
  {
   "cell_type": "code",
   "execution_count": null,
   "metadata": {
    "collapsed": true
   },
   "outputs": [],
   "source": [
    "%matplotlib inline\n",
    "fig = plt.figure()\n",
    "axes = fig.add_axes([0.1, 0.1, 0.8, 0.8])\n",
    "axes.set_xlabel('x')\n",
    "axes.set_ylabel('y')\n",
    "axes.set_title('title')\n",
    "#axes.plot(x, np.sin(x), 'r')\n",
    "#axes.plot(x, np.cos(x), 'g')\n",
    "axes.plot(x, np.sin(x)**2, 'b')\n",
    "axes.plot(x, np.cos(x)**2, 'y')\n",
    "axes.plot(x, np.abs(np.sin(x)), 'g')\n",
    "axes.plot(x, np.abs(np.cos(x)), 'p')\n",
    "axes.plot(x, np.sin(x)**2 + np.cos(x)**2, 'r')"
   ]
  },
  {
   "cell_type": "code",
   "execution_count": null,
   "metadata": {
    "collapsed": true
   },
   "outputs": [],
   "source": [
    "fig = plt.figure(figsize=(20,20))\n",
    "ax = fig.add_axes([0.0, 0.0, .6, .6], polar=True)\n",
    "for i in range(0, 9):\n",
    "    n = 2**i\n",
    "    size = np.pi / (i / 2 + 1) ** 2\n",
    "    size = np.pi / n\n",
    "    shift = size / 2\n",
    "    t1 = np.linspace(i + 2, i+2, 5)\n",
    "    for j in range (0, n):\n",
    "        t = np.linspace(0 + shift+size*2*j, size*(2*j+1) + shift, 5)\n",
    "        ax.plot(t, t1, color='blue', lw=3);\n",
    "t1 = np.linspace(1, 1, 5)\n",
    "t = np.linspace(0, np.pi, 5)\n",
    "ax.plot(t, t1, color='blue', lw=3);\n",
    "# fig.savefig('graph.png')"
   ]
  },
  {
   "cell_type": "markdown",
   "metadata": {},
   "source": [
    "## Pandas playground"
   ]
  },
  {
   "cell_type": "code",
   "execution_count": 154,
   "metadata": {
    "collapsed": false
   },
   "outputs": [],
   "source": [
    "import pandas as pd\n",
    "import numpy as p"
   ]
  },
  {
   "cell_type": "code",
   "execution_count": 10,
   "metadata": {
    "collapsed": true
   },
   "outputs": [
    {
     "data": {
      "text/html": [
       "<div style=\"max-height:1000px;max-width:1500px;overflow:auto;\">\n",
       "<table border=\"1\" class=\"dataframe\">\n",
       "  <thead>\n",
       "    <tr style=\"text-align: right;\">\n",
       "      <th></th>\n",
       "      <th>owner</th>\n",
       "      <th>8.0_status</th>\n",
       "      <th>tags</th>\n",
       "      <th>8.0_importance</th>\n",
       "      <th>8.0_assignee</th>\n",
       "    </tr>\n",
       "  </thead>\n",
       "  <tbody>\n",
       "    <tr>\n",
       "      <th>1310646</th>\n",
       "      <td>   xenolog</td>\n",
       "      <td> In Progress</td>\n",
       "      <td>              [l23network, non-release, tech-debt]</td>\n",
       "      <td> Medium</td>\n",
       "      <td>        xenolog</td>\n",
       "    </tr>\n",
       "    <tr>\n",
       "      <th>1442532</th>\n",
       "      <td> dklepikov</td>\n",
       "      <td>   Confirmed</td>\n",
       "      <td>                     [docs, qa-agree-7.0, support]</td>\n",
       "      <td>   High</td>\n",
       "      <td> evkonstantinov</td>\n",
       "    </tr>\n",
       "    <tr>\n",
       "      <th>1454325</th>\n",
       "      <td>  apalkina</td>\n",
       "      <td>   Confirmed</td>\n",
       "      <td> [covered-by-bp, feature-progress-bar, module-a...</td>\n",
       "      <td> Medium</td>\n",
       "      <td>    fuel-python</td>\n",
       "    </tr>\n",
       "  </tbody>\n",
       "</table>\n",
       "</div>"
      ],
      "text/plain": [
       "             owner   8.0_status  \\\n",
       "1310646    xenolog  In Progress   \n",
       "1442532  dklepikov    Confirmed   \n",
       "1454325   apalkina    Confirmed   \n",
       "\n",
       "                                                      tags 8.0_importance  \\\n",
       "1310646               [l23network, non-release, tech-debt]         Medium   \n",
       "1442532                      [docs, qa-agree-7.0, support]           High   \n",
       "1454325  [covered-by-bp, feature-progress-bar, module-a...         Medium   \n",
       "\n",
       "           8.0_assignee  \n",
       "1310646         xenolog  \n",
       "1442532  evkonstantinov  \n",
       "1454325     fuel-python  "
      ]
     },
     "execution_count": 10,
     "metadata": {},
     "output_type": "execute_result"
    }
   ],
   "source": [
    "bug_ids = [1454325, 1442532, 1310646]\n",
    "text_fields = [\n",
    "    'title', 'heat', 'message_count', 'tags', 'private', 'security_related',\n",
    "    'users_affected_count', 'number_of_duplicates',\n",
    "    'users_unaffected_count', 'users_affected_count_with_dupes']\n",
    "person_fields = ['owner']\n",
    "date_fields = ['date_created', 'date_last_updated']\n",
    "collection_size_fields = ['activity_collection', 'attachments_collection', 'bug_tasks_collection',\n",
    "    'bug_watches_collection', 'cves_collection' ]\n",
    "\n",
    "bt_text_fields = ['importance', 'status', 'is_complete']\n",
    "bt_person_fields = ['assignee'] #, 'owner']\n",
    "bt_date_fields = ['date_assigned', 'date_closed', 'date_confirmed', 'date_created', 'date_fix_committed',\n",
    "    'date_fix_released', 'date_in_progress', 'date_incomplete', 'date_left_closed', 'date_left_new',\n",
    "    'date_triaged']\n",
    "                                            \n",
    "df = pd.DataFrame(columns=text_fields + person_fields + date_fields + map(lambda x: x + '_size', collection_size_fields))\n",
    "ms_df = {}\n",
    "def collect_bug(bug):\n",
    "    id = bug.id\n",
    "    df.loc[id] = float('nan')\n",
    "    for f in text_fields:\n",
    "        df.loc[id][f] = getattr(bug, f)\n",
    "    for f in date_fields:\n",
    "        df.loc[id][f] = getattr(bug, f)\n",
    "    for f in person_fields:\n",
    "        if getattr(bug, f) is None:\n",
    "            df.loc[id][f] = None\n",
    "        else:\n",
    "            df.loc[id][f] = getattr(bug, f).name\n",
    "    for f in collection_size_fields:\n",
    "        df.loc[id][f + '_size'] = len(getattr(bug, f))\n",
    "    for bt in bug.bug_tasks:\n",
    "        if bt.milestone is None:\n",
    "            ms = 'Untargeted_'\n",
    "        else:\n",
    "            ms = bt.milestone.name + '_'\n",
    "        try:\n",
    "            dfx = ms_df[ms]\n",
    "        except KeyError:\n",
    "            dfx = pd.DataFrame(columns=map(lambda x: ms + x, bt_text_fields + bt_person_fields))\n",
    "            ms_df[ms] = dfx\n",
    "        dfx.loc[id] = float('nan')\n",
    "        for f in bt_text_fields:\n",
    "            dfx.loc[id][ms + f] = getattr(bt, f)\n",
    "        for f in bt_person_fields:\n",
    "            if getattr(bt, f) is None:\n",
    "                dfx.loc[id][ms + f] = None\n",
    "            else:\n",
    "                dfx.loc[id][ms + f] = getattr(bt, f).name\n",
    "\n",
    "for bug_id in bug_ids:\n",
    "    collect_bug(lp.bugs[bug_id])\n",
    "\n",
    "df = pd.concat([df] + ms_df.values(), axis=1)\n",
    "\n",
    "df[['owner', '8.0_status', 'tags', '8.0_importance', '8.0_assignee']]"
   ]
  },
  {
   "cell_type": "code",
   "execution_count": 308,
   "metadata": {
    "collapsed": false
   },
   "outputs": [
    {
     "data": {
      "text/html": [
       "<div style=\"max-height:1000px;max-width:1500px;overflow:auto;\">\n",
       "<table border=\"1\" class=\"dataframe\">\n",
       "  <thead>\n",
       "    <tr style=\"text-align: right;\">\n",
       "      <th></th>\n",
       "      <th>owner</th>\n",
       "      <th>8.0_status</th>\n",
       "      <th>tags</th>\n",
       "      <th>8.0_importance</th>\n",
       "      <th>8.0_assignee</th>\n",
       "    </tr>\n",
       "  </thead>\n",
       "  <tbody>\n",
       "    <tr>\n",
       "      <th>1310646</th>\n",
       "      <td> xenolog</td>\n",
       "      <td> In Progress</td>\n",
       "      <td> [l23network, non-release, tech-debt]</td>\n",
       "      <td> Medium</td>\n",
       "      <td> xenolog</td>\n",
       "    </tr>\n",
       "  </tbody>\n",
       "</table>\n",
       "</div>"
      ],
      "text/plain": [
       "           owner   8.0_status                                  tags  \\\n",
       "1310646  xenolog  In Progress  [l23network, non-release, tech-debt]   \n",
       "\n",
       "        8.0_importance 8.0_assignee  \n",
       "1310646         Medium      xenolog  "
      ]
     },
     "execution_count": 308,
     "metadata": {},
     "output_type": "execute_result"
    }
   ],
   "source": []
  },
  {
   "cell_type": "code",
   "execution_count": 11,
   "metadata": {
    "collapsed": false
   },
   "outputs": [
    {
     "name": "stdout",
     "output_type": "stream",
     "text": [
      "1/914 1493372\n",
      "2/914 1496614\n",
      "3/914 1499905\n",
      "4/914 1501348\n",
      "5/914 1504094\n",
      "6/914 1506405\n",
      "7/914 1252730\n",
      "8/914 1262313\n",
      "9/914 1263895\n",
      "10/914 1286151\n",
      "11/914 1306792\n",
      "12/914 1333458\n",
      "13/914 1349702\n",
      "14/914 1350623\n",
      "15/914 1354803\n",
      "16/914 1391481\n",
      "17/914 1398113\n",
      "18/914 1404373\n",
      "19/914 1410207\n",
      "20/914 1423328\n",
      "21/914 1423511\n",
      "22/914 1427198\n",
      "23/914 1427468\n",
      "24/914 1428129\n",
      "25/914 1434015\n",
      "26/914 1435610\n",
      "27/914 1435827\n",
      "28/914 1439417\n",
      "29/914 1439776\n",
      "30/914 1440046\n",
      "31/914 1442532\n",
      "32/914 1445311\n",
      "33/914 1446668\n",
      "34/914 1447488\n",
      "35/914 1447604\n",
      "36/914 1447957\n",
      "37/914 1450100\n",
      "38/914 1451837\n",
      "39/914 1454296\n",
      "40/914 1455847\n",
      "41/914 1460169\n",
      "42/914 1464640\n",
      "43/914 1466897\n",
      "44/914 1468807\n",
      "45/914 1469045\n",
      "46/914 1470408\n",
      "47/914 1470468\n",
      "48/914 1470545\n",
      "49/914 1470823\n",
      "50/914 1470846\n",
      "51/914 1471172\n",
      "52/914 1472303\n",
      "53/914 1472927\n",
      "54/914 1473146\n",
      "55/914 1474362\n",
      "56/914 1474791\n",
      "57/914 1475322\n",
      "58/914 1475972\n",
      "59/914 1476565\n",
      "60/914 1476957\n",
      "61/914 1477223\n",
      "62/914 1477748\n",
      "63/914 1478572\n",
      "64/914 1478984\n",
      "65/914 1479299\n",
      "66/914 1479403\n",
      "67/914 1479742\n",
      "68/914 1479813\n",
      "69/914 1479815\n",
      "70/914 1479862\n",
      "71/914 1479875\n",
      "72/914 1480224\n",
      "73/914 1480229\n",
      "74/914 1480294\n",
      "75/914 1480930\n",
      "76/914 1481299\n",
      "77/914 1482203\n",
      "78/914 1482399\n",
      "79/914 1483286\n",
      "80/914 1483288\n",
      "81/914 1483636\n",
      "82/914 1483766\n",
      "83/914 1483803\n",
      "84/914 1483968\n",
      "85/914 1484008\n",
      "86/914 1484080\n",
      "87/914 1484162\n",
      "88/914 1484554\n",
      "89/914 1484604\n",
      "90/914 1484824\n",
      "91/914 1484973\n",
      "92/914 1484985\n",
      "93/914 1485505\n",
      "94/914 1485546\n",
      "95/914 1485600\n",
      "96/914 1485614\n",
      "97/914 1486551\n",
      "98/914 1486586\n",
      "99/914 1486681\n",
      "100/914 1486886\n",
      "101/914 1486992\n",
      "102/914 1487011\n",
      "103/914 1487077\n",
      "104/914 1487397\n",
      "105/914 1487482\n",
      "106/914 1487996\n",
      "107/914 1489152\n",
      "108/914 1489862\n",
      "109/914 1490305\n",
      "110/914 1490536\n",
      "111/914 1490597\n",
      "112/914 1490619\n",
      "113/914 1490915\n",
      "114/914 1490943\n",
      "115/914 1491028\n",
      "116/914 1491327\n",
      "117/914 1491416\n",
      "118/914 1491475\n",
      "119/914 1491814\n",
      "120/914 1491820\n",
      "121/914 1491858\n",
      "122/914 1492199\n",
      "123/914 1492744\n",
      "124/914 1493289\n",
      "125/914 1493297\n",
      "126/914 1493391\n",
      "127/914 1494223\n",
      "128/914 1494274\n",
      "129/914 1494280\n",
      "130/914 1494284\n",
      "131/914 1494507\n",
      "132/914 1494684\n",
      "133/914 1494779\n",
      "134/914 1495593\n",
      "135/914 1495690\n",
      "136/914 1495699\n",
      "137/914 1495925\n",
      "138/914 1495987\n",
      "139/914 1496000\n",
      "140/914 1496009\n",
      "141/914 1496072\n",
      "142/914 1496279\n",
      "143/914 1496328\n",
      "144/914 1496382\n",
      "145/914 1496399\n",
      "146/914 1496411\n",
      "147/914 1496499\n",
      "148/914 1496516\n",
      "149/914 1496521\n",
      "150/914 1496622\n",
      "151/914 1496766\n",
      "152/914 1496945\n",
      "153/914 1497000\n",
      "154/914 1497275\n",
      "155/914 1497378\n",
      "156/914 1497467\n",
      "157/914 1497655\n",
      "158/914 1498015\n",
      "159/914 1498088\n",
      "160/914 1498160\n",
      "161/914 1498365\n",
      "162/914 1498368\n",
      "163/914 1498389\n",
      "164/914 1498827\n",
      "165/914 1498847\n",
      "166/914 1498878\n",
      "167/914 1499007\n",
      "168/914 1499072\n",
      "169/914 1499291\n",
      "170/914 1499659\n",
      "171/914 1499690\n",
      "172/914 1499696\n",
      "173/914 1499745\n",
      "174/914 1500071\n",
      "175/914 1500073\n",
      "176/914 1500373\n",
      "177/914 1500401\n",
      "178/914 1500414\n",
      "179/914 1500446\n",
      "180/914 1500494\n",
      "181/914 1500657\n",
      "182/914 1500852\n",
      "183/914 1500853\n",
      "184/914 1501309\n",
      "185/914 1501459\n",
      "186/914 1501681\n",
      "187/914 1502100\n",
      "188/914 1502195\n",
      "189/914 1502239\n",
      "190/914 1502261\n",
      "191/914 1502295\n",
      "192/914 1502829\n",
      "193/914 1502842\n",
      "194/914 1502908\n",
      "195/914 1502936\n",
      "196/914 1502939\n",
      "197/914 1503210\n",
      "198/914 1503663\n",
      "199/914 1503725\n",
      "200/914 1503752\n",
      "201/914 1503766\n",
      "202/914 1503987\n",
      "203/914 1504157\n",
      "204/914 1504322\n",
      "205/914 1504338\n",
      "206/914 1504446\n",
      "207/914 1504448\n",
      "208/914 1504493\n",
      "209/914 1504572\n",
      "210/914 1504640\n",
      "211/914 1505138\n",
      "212/914 1505162\n",
      "213/914 1505186\n",
      "214/914 1505355\n",
      "215/914 1505608\n",
      "216/914 1505621\n",
      "217/914 1505709\n",
      "218/914 1505735\n",
      "219/914 1505907\n",
      "220/914 1506008\n",
      "221/914 1506041\n",
      "222/914 1506112\n",
      "223/914 1506398\n",
      "224/914 1506407\n",
      "225/914 1506440\n",
      "226/914 1506449\n",
      "227/914 1506624\n",
      "228/914 1506755\n",
      "229/914 1506765\n",
      "230/914 1506810\n",
      "231/914 1506820\n",
      "232/914 1506870\n",
      "233/914 1264494\n",
      "234/914 1273006\n",
      "235/914 1283222\n",
      "236/914 1284120\n",
      "237/914 1286203\n",
      "238/914 1292486\n",
      "239/914 1295717\n",
      "240/914 1307495\n",
      "241/914 1310646\n",
      "242/914 1321473\n",
      "243/914 1322114\n",
      "244/914 1323555\n",
      "245/914 1324297\n",
      "246/914 1325150\n",
      "247/914 1325153\n",
      "248/914 1325154\n",
      "249/914 1326109\n",
      "250/914 1326546\n",
      "251/914 1330875\n",
      "252/914 1331554\n",
      "253/914 1336374\n",
      "254/914 1342684\n",
      "255/914 1349388\n",
      "256/914 1349819\n",
      "257/914 1352854\n",
      "258/914 1354317\n",
      "259/914 1361358\n",
      "260/914 1365391\n",
      "261/914 1367256\n",
      "262/914 1367259\n",
      "263/914 1369000\n",
      "264/914 1371363\n",
      "265/914 1372466\n",
      "266/914 1373471\n",
      "267/914 1374239\n",
      "268/914 1374968\n",
      "269/914 1375750\n",
      "270/914 1375913\n",
      "271/914 1376174\n",
      "272/914 1376654\n",
      "273/914 1380633\n",
      "274/914 1382008\n",
      "275/914 1383931\n",
      "276/914 1384260\n",
      "277/914 1386578\n",
      "278/914 1386657\n",
      "279/914 1387258\n",
      "280/914 1387999\n",
      "281/914 1390099\n",
      "282/914 1391459\n",
      "283/914 1392242\n",
      "284/914 1392314\n",
      "285/914 1392387\n",
      "286/914 1393148\n",
      "287/914 1393369\n",
      "288/914 1393766\n",
      "289/914 1394173\n",
      "290/914 1395542\n",
      "291/914 1395674\n",
      "292/914 1395766\n",
      "293/914 1396085\n",
      "294/914 1397038\n",
      "295/914 1397384\n",
      "296/914 1398043\n",
      "297/914 1398052\n",
      "298/914 1398221\n",
      "299/914 1398816\n",
      "300/914 1399154\n",
      "301/914 1399161\n",
      "302/914 1399569\n",
      "303/914 1399608\n",
      "304/914 1399785\n",
      "305/914 1400776\n",
      "306/914 1401562\n",
      "307/914 1401661\n",
      "308/914 1401898\n",
      "309/914 1403036\n",
      "310/914 1403440\n",
      "311/914 1404847\n",
      "312/914 1405265\n",
      "313/914 1405391\n",
      "314/914 1405603\n",
      "315/914 1406313\n",
      "316/914 1406506\n",
      "317/914 1407307\n",
      "318/914 1408792\n",
      "319/914 1410287\n",
      "320/914 1410316\n",
      "321/914 1410810\n",
      "322/914 1413157\n",
      "323/914 1414034\n",
      "324/914 1414583\n",
      "325/914 1414671\n",
      "326/914 1415552\n",
      "327/914 1417571\n",
      "328/914 1417946\n",
      "329/914 1418409\n",
      "330/914 1418638\n",
      "331/914 1419201\n",
      "332/914 1419826\n",
      "333/914 1420491\n",
      "334/914 1420517\n",
      "335/914 1420658\n",
      "336/914 1420701\n",
      "337/914 1421145\n",
      "338/914 1421179\n",
      "339/914 1421599\n",
      "340/914 1422435\n",
      "341/914 1422684\n",
      "342/914 1422819\n",
      "343/914 1423236\n",
      "344/914 1423505\n",
      "345/914 1423846\n",
      "346/914 1423916\n",
      "347/914 1424295\n",
      "348/914 1424654\n",
      "349/914 1425006\n",
      "350/914 1425442\n",
      "351/914 1425462\n",
      "352/914 1425579\n",
      "353/914 1427563\n",
      "354/914 1427569\n",
      "355/914 1427579\n",
      "356/914 1427581\n",
      "357/914 1427751\n",
      "358/914 1428059\n",
      "359/914 1428362\n",
      "360/914 1428559\n",
      "361/914 1428644\n",
      "362/914 1429072\n",
      "363/914 1429217\n",
      "364/914 1429692\n",
      "365/914 1430275\n",
      "366/914 1430330\n",
      "367/914 1430419\n",
      "368/914 1431240\n",
      "369/914 1431386\n",
      "370/914 1431828\n",
      "371/914 1433046\n",
      "372/914 1433078\n",
      "373/914 1433137\n",
      "374/914 1433163\n",
      "375/914 1433218\n",
      "376/914 1433243\n",
      "377/914 1433481\n",
      "378/914 1433482\n",
      "379/914 1433600\n",
      "380/914 1433970\n",
      "381/914 1433971\n",
      "382/914 1434075\n",
      "383/914 1434456\n",
      "384/914 1434513\n",
      "385/914 1434787\n",
      "386/914 1435229\n",
      "387/914 1435236\n",
      "388/914 1435603\n",
      "389/914 1437232\n",
      "390/914 1437239\n",
      "391/914 1438658\n",
      "392/914 1438712\n",
      "393/914 1439087\n",
      "394/914 1439116\n",
      "395/914 1439153\n",
      "396/914 1439299\n",
      "397/914 1439317\n",
      "398/914 1439586\n",
      "399/914 1439652\n",
      "400/914 1440081\n",
      "401/914 1440147\n",
      "402/914 1440671\n",
      "403/914 1440807\n",
      "404/914 1441074\n",
      "405/914 1441102\n",
      "406/914 1441129\n",
      "407/914 1441282\n",
      "408/914 1441956\n",
      "409/914 1442068\n",
      "410/914 1442241\n",
      "411/914 1443808\n",
      "412/914 1444090\n",
      "413/914 1444190\n",
      "414/914 1444343\n",
      "415/914 1444935\n",
      "416/914 1445002\n",
      "417/914 1445314\n",
      "418/914 1445347\n",
      "419/914 1445359\n",
      "420/914 1445440\n",
      "421/914 1445480\n",
      "422/914 1445500\n",
      "423/914 1446559\n",
      "424/914 1446645\n",
      "425/914 1448074\n",
      "426/914 1449086\n",
      "427/914 1449128\n",
      "428/914 1449512\n",
      "429/914 1449513\n",
      "430/914 1449542\n",
      "431/914 1450183\n",
      "432/914 1450522\n",
      "433/914 1450533\n",
      "434/914 1451876\n",
      "435/914 1451903\n",
      "436/914 1452284\n",
      "437/914 1452474\n",
      "438/914 1452800\n",
      "439/914 1453773\n",
      "440/914 1453885\n",
      "441/914 1454009\n",
      "442/914 1454325\n",
      "443/914 1454345\n",
      "444/914 1454347\n",
      "445/914 1454349\n",
      "446/914 1454377\n",
      "447/914 1454701\n",
      "448/914 1455015\n",
      "449/914 1455196\n",
      "450/914 1455357\n",
      "451/914 1455537\n",
      "452/914 1455664\n",
      "453/914 1456096\n",
      "454/914 1456383\n",
      "455/914 1456436\n",
      "456/914 1456557\n",
      "457/914 1456577\n",
      "458/914 1456721\n",
      "459/914 1457397\n",
      "460/914 1457478\n",
      "461/914 1457887\n",
      "462/914 1458361\n",
      "463/914 1458469\n",
      "464/914 1458619\n",
      "465/914 1458858\n",
      "466/914 1458860\n",
      "467/914 1460073\n",
      "468/914 1460480\n",
      "469/914 1460572\n",
      "470/914 1461079\n",
      "471/914 1461485\n",
      "472/914 1461562\n",
      "473/914 1463041\n",
      "474/914 1463886\n",
      "475/914 1464260\n",
      "476/914 1464656\n",
      "477/914 1466121\n",
      "478/914 1466428\n",
      "479/914 1466431\n",
      "480/914 1466903\n",
      "481/914 1467212\n",
      "482/914 1467403\n",
      "483/914 1467505\n",
      "484/914 1467579\n",
      "485/914 1467829\n",
      "486/914 1468343\n",
      "487/914 1468371\n",
      "488/914 1468753\n",
      "489/914 1468764\n",
      "490/914 1469188\n",
      "491/914 1469236\n",
      "492/914 1470026\n",
      "493/914 1470211\n",
      "494/914 1470417\n",
      "495/914 1470465\n",
      "496/914 1470896\n",
      "497/914 1471296\n",
      "498/914 1471568\n",
      "499/914 1471710\n",
      "500/914 1471763\n",
      "501/914 1471826\n",
      "502/914 1471881\n",
      "503/914 1472155\n",
      "504/914 1472196\n",
      "505/914 1472249\n",
      "506/914 1472254\n",
      "507/914 1472275\n",
      "508/914 1472401\n",
      "509/914 1472662\n",
      "510/914 1472943\n",
      "511/914 1472976\n",
      "512/914 1472997\n",
      "513/914 1473015\n",
      "514/914 1473047\n",
      "515/914 1473173\n",
      "516/914 1473196\n",
      "517/914 1473307\n",
      "518/914 1473387\n",
      "519/914 1473405\n",
      "520/914 1473445\n",
      "521/914 1473824\n",
      "522/914 1474255\n",
      "523/914 1474645\n",
      "524/914 1474897\n",
      "525/914 1475197\n",
      "526/914 1475197\n",
      "527/914 1475219\n",
      "528/914 1475310\n",
      "529/914 1475345\n",
      "530/914 1475360\n",
      "531/914 1475364\n",
      "532/914 1475946\n",
      "533/914 1475948\n",
      "534/914 1476140\n",
      "535/914 1476174\n",
      "536/914 1476185\n",
      "537/914 1476205\n",
      "538/914 1476222\n",
      "539/914 1476250\n",
      "540/914 1476274\n",
      "541/914 1476484\n",
      "542/914 1476629\n",
      "543/914 1476726\n",
      "544/914 1476807\n",
      "545/914 1477189\n",
      "546/914 1477215\n",
      "547/914 1477231\n",
      "548/914 1477248\n",
      "549/914 1477352\n",
      "550/914 1477648\n",
      "551/914 1477694\n",
      "552/914 1477884\n",
      "553/914 1477967\n",
      "554/914 1478020\n",
      "555/914 1478304\n",
      "556/914 1478554\n",
      "557/914 1478854\n",
      "558/914 1478914\n",
      "559/914 1478924\n",
      "560/914 1478955\n",
      "561/914 1478972\n",
      "562/914 1479075\n",
      "563/914 1479317\n",
      "564/914 1479366\n",
      "565/914 1479731\n",
      "566/914 1479785\n",
      "567/914 1479853\n",
      "568/914 1480254\n",
      "569/914 1480260\n",
      "570/914 1480368\n",
      "571/914 1480846\n",
      "572/914 1480938\n",
      "573/914 1480986\n",
      "574/914 1481214\n",
      "575/914 1481297\n",
      "576/914 1481318\n",
      "577/914 1481419\n",
      "578/914 1481521\n",
      "579/914 1481678\n",
      "580/914 1481935\n",
      "581/914 1482192\n",
      "582/914 1482215\n",
      "583/914 1482248\n",
      "584/914 1482515\n",
      "585/914 1482639\n",
      "586/914 1483261\n",
      "587/914 1483284\n",
      "588/914 1483329\n",
      "589/914 1483365\n",
      "590/914 1483539\n",
      "591/914 1483571\n",
      "592/914 1483629\n",
      "593/914 1483651\n",
      "594/914 1483704\n",
      "595/914 1483773\n",
      "596/914 1483827\n",
      "597/914 1484480\n",
      "598/914 1484591\n",
      "599/914 1484929\n",
      "600/914 1484978\n",
      "601/914 1485047\n",
      "602/914 1485638\n",
      "603/914 1485652\n",
      "604/914 1485997\n",
      "605/914 1486056\n",
      "606/914 1486928\n",
      "607/914 1486952\n",
      "608/914 1487019\n",
      "609/914 1487030\n",
      "610/914 1487105\n",
      "611/914 1487386\n",
      "612/914 1487470\n",
      "613/914 1488883\n",
      "614/914 1488945\n",
      "615/914 1488980\n",
      "616/914 1489055\n",
      "617/914 1489070\n",
      "618/914 1489470\n",
      "619/914 1489506\n",
      "620/914 1489556\n",
      "621/914 1489663\n",
      "622/914 1490131\n",
      "623/914 1490499\n",
      "624/914 1490515\n",
      "625/914 1490550\n",
      "626/914 1490578\n",
      "627/914 1490595\n",
      "628/914 1490612\n",
      "629/914 1490949\n",
      "630/914 1491019\n",
      "631/914 1491294\n",
      "632/914 1491364\n",
      "633/914 1491366\n",
      "634/914 1491368\n",
      "635/914 1491373\n",
      "636/914 1491518\n",
      "637/914 1491750\n",
      "638/914 1491805\n",
      "639/914 1491821\n",
      "640/914 1492188\n",
      "641/914 1492198\n",
      "642/914 1492243\n",
      "643/914 1492244\n",
      "644/914 1492364\n",
      "645/914 1492387\n",
      "646/914 1493061\n",
      "647/914 1493275\n",
      "648/914 1493308\n",
      "649/914 1493316\n",
      "650/914 1493568\n",
      "651/914 1493738\n",
      "652/914 1494165\n",
      "653/914 1494200\n",
      "654/914 1494246\n",
      "655/914 1494384\n",
      "656/914 1494502\n",
      "657/914 1494725\n",
      "658/914 1494957\n",
      "659/914 1495406\n",
      "660/914 1495466\n",
      "661/914 1495506\n",
      "662/914 1495709\n",
      "663/914 1495859\n",
      "664/914 1495980\n",
      "665/914 1495994\n",
      "666/914 1496046\n",
      "667/914 1496321\n",
      "668/914 1496335\n",
      "669/914 1496365\n",
      "670/914 1496407\n",
      "671/914 1496511\n",
      "672/914 1496630\n",
      "673/914 1496749\n",
      "674/914 1496807\n",
      "675/914 1496842\n",
      "676/914 1496884\n",
      "677/914 1496967\n",
      "678/914 1496987\n",
      "679/914 1497037\n",
      "680/914 1497191\n",
      "681/914 1497194\n",
      "682/914 1497384\n",
      "683/914 1497608\n",
      "684/914 1497769\n",
      "685/914 1497891\n",
      "686/914 1498374\n",
      "687/914 1498382\n",
      "688/914 1498421\n",
      "689/914 1498437\n",
      "690/914 1498440\n",
      "691/914 1498446\n",
      "692/914 1498464\n",
      "693/914 1498523\n",
      "694/914 1498557\n",
      "695/914 1498561\n",
      "696/914 1498867\n",
      "697/914 1498927\n",
      "698/914 1499375\n",
      "699/914 1499565\n",
      "700/914 1499727\n",
      "701/914 1500370\n",
      "702/914 1500421\n",
      "703/914 1500422\n",
      "704/914 1500432\n",
      "705/914 1500653\n",
      "706/914 1500667\n",
      "707/914 1500801\n",
      "708/914 1500825\n",
      "709/914 1500840\n",
      "710/914 1500841\n",
      "711/914 1500871\n",
      "712/914 1500872\n",
      "713/914 1500879\n",
      "714/914 1501005\n",
      "715/914 1501006\n",
      "716/914 1501506\n",
      "717/914 1501660\n",
      "718/914 1501769\n",
      "719/914 1501846\n",
      "720/914 1501970\n",
      "721/914 1502047\n",
      "722/914 1502086\n",
      "723/914 1502198\n",
      "724/914 1503009\n",
      "725/914 1503023\n",
      "726/914 1503175\n",
      "727/914 1503177\n",
      "728/914 1503253\n",
      "729/914 1503278\n",
      "730/914 1503324\n",
      "731/914 1503398\n",
      "732/914 1503592\n",
      "733/914 1503613\n",
      "734/914 1503625\n",
      "735/914 1503637\n",
      "736/914 1503753\n",
      "737/914 1504139\n",
      "738/914 1504191\n",
      "739/914 1504199\n",
      "740/914 1504352\n",
      "741/914 1504628\n",
      "742/914 1504656\n",
      "743/914 1504699\n",
      "744/914 1505143\n",
      "745/914 1505232\n",
      "746/914 1505285\n",
      "747/914 1505604\n",
      "748/914 1505728\n",
      "749/914 1505740\n",
      "750/914 1505820\n",
      "751/914 1506040\n",
      "752/914 1506071\n",
      "753/914 1506073\n",
      "754/914 1506377\n",
      "755/914 1506401\n",
      "756/914 1506423\n",
      "757/914 1506522\n",
      "758/914 1506542\n",
      "759/914 1506557\n",
      "760/914 1506828\n",
      "761/914 1506885\n",
      "762/914 1506894\n",
      "763/914 1506896\n",
      "764/914 1506915\n",
      "765/914 1255426\n",
      "766/914 1263202\n",
      "767/914 1271070\n",
      "768/914 1286110\n",
      "769/914 1293028\n",
      "770/914 1303762\n",
      "771/914 1312238\n",
      "772/914 1323845\n",
      "773/914 1326605\n",
      "774/914 1338669\n",
      "775/914 1347542\n",
      "776/914 1348599\n",
      "777/914 1365395\n",
      "778/914 1372081\n",
      "779/914 1375965\n",
      "780/914 1376756\n",
      "781/914 1378032\n",
      "782/914 1379855\n",
      "783/914 1382539\n",
      "784/914 1390083\n",
      "785/914 1393789\n",
      "786/914 1396154\n",
      "787/914 1396327\n",
      "788/914 1398110\n",
      "789/914 1401676\n",
      "790/914 1404866\n",
      "791/914 1408274\n",
      "792/914 1412910\n",
      "793/914 1413200\n",
      "794/914 1413301\n",
      "795/914 1415688\n",
      "796/914 1418549\n",
      "797/914 1418906\n",
      "798/914 1427606\n",
      "799/914 1428095\n",
      "800/914 1430418\n",
      "801/914 1432573\n",
      "802/914 1432992\n",
      "803/914 1434450\n",
      "804/914 1441094\n",
      "805/914 1441953\n",
      "806/914 1443508\n",
      "807/914 1444344\n",
      "808/914 1445085\n",
      "809/914 1445317\n",
      "810/914 1448151\n",
      "811/914 1449030\n",
      "812/914 1453039\n",
      "813/914 1453181\n",
      "814/914 1455264\n",
      "815/914 1455473\n",
      "816/914 1456723\n",
      "817/914 1457189\n",
      "818/914 1458379\n",
      "819/914 1459330\n",
      "820/914 1466867\n",
      "821/914 1469155\n",
      "822/914 1470053\n",
      "823/914 1470602\n",
      "824/914 1471805\n",
      "825/914 1474155\n",
      "826/914 1474652\n",
      "827/914 1477605\n",
      "828/914 1477903\n",
      "829/914 1478692\n",
      "830/914 1479987\n",
      "831/914 1479989\n",
      "832/914 1479991\n",
      "833/914 1480918\n",
      "834/914 1481744\n",
      "835/914 1482161\n",
      "836/914 1482276\n",
      "837/914 1482658\n",
      "838/914 1483351\n",
      "839/914 1483683\n",
      "840/914 1484468\n",
      "841/914 1487029\n",
      "842/914 1488518\n",
      "843/914 1488946\n",
      "844/914 1489984\n",
      "845/914 1491068\n",
      "846/914 1491198\n",
      "847/914 1493985\n",
      "848/914 1494309\n",
      "849/914 1495133\n",
      "850/914 1497363\n",
      "851/914 1497960\n",
      "852/914 1498989\n",
      "853/914 1499461\n",
      "854/914 1499803\n",
      "855/914 1500652\n",
      "856/914 1502110\n",
      "857/914 1502114\n",
      "858/914 1502844\n",
      "859/914 1502851\n",
      "860/914 1503303\n",
      "861/914 1503355\n",
      "862/914 1503828\n",
      "863/914 1504471\n",
      "864/914 1505141\n",
      "865/914 1505147\n",
      "866/914 1506131\n",
      "867/914 1506506\n",
      "868/914 1260268\n",
      "869/914 1263046\n",
      "870/914 1268278\n",
      "871/914 1279371\n",
      "872/914 1322073\n",
      "873/914 1323600\n",
      "874/914 1329410\n",
      "875/914 1345932\n",
      "876/914 1347540\n",
      "877/914 1379011\n",
      "878/914 1384804\n",
      "879/914 1389066\n",
      "880/914 1418018\n",
      "881/914 1430705\n",
      "882/914 1439681\n",
      "883/914 1451863\n",
      "884/914 1452654\n",
      "885/914 1454234\n",
      "886/914 1459678\n",
      "887/914 1461091\n",
      "888/914 1462050\n",
      "889/914 1462339\n",
      "890/914 1462400\n",
      "891/914 1463750\n",
      "892/914 1468279\n",
      "893/914 1470923\n",
      "894/914 1470927\n",
      "895/914 1471902\n",
      "896/914 1474383\n",
      "897/914 1474644\n",
      "898/914 1482642\n",
      "899/914 1482643\n",
      "900/914 1486985\n",
      "901/914 1492572\n",
      "902/914 1493258\n",
      "903/914 1493898\n",
      "904/914 1494369\n",
      "905/914 1494689\n",
      "906/914 1495125\n",
      "907/914 1496123\n",
      "908/914 1497279\n",
      "909/914 1497425\n",
      "910/914 1499468\n",
      "911/914 1501452\n",
      "912/914 1503386\n",
      "913/914 1493290\n",
      "914/914 1501315\n",
      "915/914 1501737\n",
      "Found 915 bugs\n"
     ]
    }
   ],
   "source": [
    "# Download all open bugs\n",
    "collection = prj.searchTasks(milestone=cur_ms, status=open_statuses)\n",
    "\n",
    "df = pd.DataFrame(columns=text_fields + person_fields + date_fields + map(lambda x: x + '_size', collection_size_fields))\n",
    "ms_df = {}\n",
    "\n",
    "s = len(collection)\n",
    "i = 0\n",
    "for bt in collection:\n",
    "    i += 1\n",
    "    print \"%d/%d %s\" % (i, s, bt.bug.id)\n",
    "    collect_bug(bt.bug)\n",
    "\n",
    "df = pd.concat([df] + ms_df.values(), axis=1)\n",
    "\n",
    "print \"Found %s bugs\" % len(collection)"
   ]
  },
  {
   "cell_type": "code",
   "execution_count": 43,
   "metadata": {
    "collapsed": false
   },
   "outputs": [
    {
     "name": "stdout",
     "output_type": "stream",
     "text": [
      "E: None\n",
      "fuel-octane\n",
      "fuel-partner-core\n",
      "mos-da\n",
      "fuel-maintainers\n"
     ]
    },
    {
     "data": {
      "text/plain": [
       "['mos-ceilometer',\n",
       " 'mos-cinder',\n",
       " 'mos-glance',\n",
       " 'mos-heat',\n",
       " 'mos-horizon',\n",
       " 'mos-ironic',\n",
       " 'mos-keystone',\n",
       " 'mos-kernel-virt',\n",
       " 'mos-kernel-networking',\n",
       " 'mos-kernel-storage',\n",
       " 'mos-murano',\n",
       " 'mos-neutron',\n",
       " 'mos-nova',\n",
       " 'mos-oslo',\n",
       " 'mos-packaging',\n",
       " 'mos-puppet',\n",
       " 'mos-sahara',\n",
       " 'mos-scale',\n",
       " 'mos-swift',\n",
       " 'fuel-python',\n",
       " 'fuel-ui',\n",
       " 'fuel-library',\n",
       " 'mos-maintenance',\n",
       " 'mos-linux',\n",
       " 'mos-ceph',\n",
       " 'fuel-plugin-calico',\n",
       " 'fuel-plugin-cisco-aci',\n",
       " 'fuel-plugin-external-glusterfs',\n",
       " 'fuel-plugin-cinder-netapp',\n",
       " 'fuel-plugin-zabbix',\n",
       " 'fuel-plugins-bugs',\n",
       " 'fuel-plugins-docs',\n",
       " 'mos-lma-toolchain',\n",
       " 'fuel-partner-engineering',\n",
       " 'fuel-plugin-contrail',\n",
       " 'fuel-plugin-vmware-dvs',\n",
       " 'fuel-docs',\n",
       " 'fuel-build',\n",
       " 'fuel-ci',\n",
       " 'fuel-devops',\n",
       " 'fuel-qa',\n",
       " 'mos-qa',\n",
       " 'mos-security',\n",
       " 'fuel-security',\n",
       " u'fuel-octane',\n",
       " u'fuel-partner-core',\n",
       " u'mos-da',\n",
       " u'fuel-maintainers']"
      ]
     },
     "execution_count": 43,
     "metadata": {},
     "output_type": "execute_result"
    }
   ],
   "source": [
    "#df[['owner', 'title', '8.0_status', 'tags', '8.0_importance', '8.0_assignee']]\n",
    "\n",
    "# teams taken from here: https://review.fuel-infra.org/gitweb?p=tools/lp-reports.git;a=blob_plain;f=config/teams.yaml;hb=refs/heads/master\n",
    "teams = \"\"\"\n",
    "mos-ceilometer\n",
    "mos-cinder\n",
    "mos-glance\n",
    "mos-heat\n",
    "mos-horizon\n",
    "mos-ironic\n",
    "mos-keystone\n",
    "mos-kernel-virt\n",
    "mos-kernel-networking\n",
    "mos-kernel-storage\n",
    "mos-murano\n",
    "mos-neutron\n",
    "mos-nova\n",
    "mos-oslo\n",
    "mos-packaging\n",
    "mos-puppet\n",
    "mos-sahara\n",
    "mos-scale\n",
    "mos-swift\n",
    "fuel-python\n",
    "fuel-ui\n",
    "fuel-library\n",
    "mos-maintenance\n",
    "mos-linux\n",
    "mos-ceph\n",
    "fuel-plugin-calico\n",
    "fuel-plugin-cisco-aci\n",
    "fuel-plugin-external-glusterfs\n",
    "fuel-plugin-cinder-netapp\n",
    "fuel-plugin-zabbix\n",
    "fuel-plugins-bugs\n",
    "fuel-plugins-docs\n",
    "mos-lma-toolchain\n",
    "fuel-partner-engineering\n",
    "fuel-plugin-contrail\n",
    "fuel-plugin-vmware-dvs\n",
    "fuel-docs\n",
    "fuel-build\n",
    "fuel-ci\n",
    "fuel-devops\n",
    "fuel-qa\n",
    "mos-qa\n",
    "mos-security\n",
    "fuel-security\n",
    "\"\"\".split()\n",
    "\n",
    "cols_with_people = filter(lambda x: x.count('assignee'), df.columns) + ['owner']\n",
    "for id in pd.Series(df[cols_with_people].values.ravel()).unique():\n",
    "    try:\n",
    "        if lp.people[id].is_team:\n",
    "            if not id in teams:\n",
    "                teams += [id]\n",
    "                print id\n",
    "    except:\n",
    "        print \"E: %s\" % id\n",
    "\n",
    "teams"
   ]
  },
  {
   "cell_type": "code",
   "execution_count": 306,
   "metadata": {
    "collapsed": false
   },
   "outputs": [
    {
     "name": "stdout",
     "output_type": "stream",
     "text": [
      "{u'person_link': u'https://api.launchpad.net/devel/~alexbozhenko', u'web_link': u'https://bugs.launchpad.net/bugs/1445311/activity', u'http_etag': u'\"a49c6e9caa0b60eb6eba9bc22eaaeaa54dd82593-c607ca46c77b9673130a54553f81fd2595304c96\"', u'oldvalue': None, u'bug_link': u'https://api.launchpad.net/devel/bugs/1445311', u'self_link': u'https://api.launchpad.net/devel/bugs/1445311/activity', u'whatchanged': u'bug', u'message': u'added bug', u'datechanged': u'2015-04-17T03:30:01.412361+00:00', u'resource_type_link': u'https://api.launchpad.net/devel/#bug_activity', u'newvalue': None}\n",
      "{u'person_link': u'https://api.launchpad.net/devel/~alexbozhenko', u'web_link': u'https://bugs.launchpad.net/bugs/1445311/activity', u'http_etag': u'\"d82bb97ab5ad0332f68a486bf7b064bb56329459-c607ca46c77b9673130a54553f81fd2595304c96\"', u'oldvalue': u'mos', u'bug_link': u'https://api.launchpad.net/devel/bugs/1445311', u'self_link': u'https://api.launchpad.net/devel/bugs/1445311/activity', u'whatchanged': u'affects', u'message': None, u'datechanged': u'2015-04-17T03:38:56.138411+00:00', u'resource_type_link': u'https://api.launchpad.net/devel/#bug_activity', u'newvalue': u'fuel'}\n",
      "{u'person_link': u'https://api.launchpad.net/devel/~ksambor', u'web_link': u'https://bugs.launchpad.net/bugs/1445311/activity', u'http_etag': u'\"bced8c3852a12a4d6a74001180dc78e9e01a30f7-c607ca46c77b9673130a54553f81fd2595304c96\"', u'oldvalue': u'Undecided', u'bug_link': u'https://api.launchpad.net/devel/bugs/1445311', u'self_link': u'https://api.launchpad.net/devel/bugs/1445311/activity', u'whatchanged': u'fuel: importance', u'message': None, u'datechanged': u'2015-04-17T08:15:21.662931+00:00', u'resource_type_link': u'https://api.launchpad.net/devel/#bug_activity', u'newvalue': u'High'}\n",
      "{u'person_link': u'https://api.launchpad.net/devel/~ksambor', u'web_link': u'https://bugs.launchpad.net/bugs/1445311/activity', u'http_etag': u'\"c00a770f034a249c94544cf918f3f91e935c5c08-c607ca46c77b9673130a54553f81fd2595304c96\"', u'oldvalue': None, u'bug_link': u'https://api.launchpad.net/devel/bugs/1445311', u'self_link': u'https://api.launchpad.net/devel/bugs/1445311/activity', u'whatchanged': u'fuel: assignee', u'message': None, u'datechanged': u'2015-04-17T08:15:30.452320+00:00', u'resource_type_link': u'https://api.launchpad.net/devel/#bug_activity', u'newvalue': u'Kamil Sambor (ksambor)'}\n",
      "{u'person_link': u'https://api.launchpad.net/devel/~ksambor', u'web_link': u'https://bugs.launchpad.net/bugs/1445311/activity', u'http_etag': u'\"d00c06c80406a1aeafbdfd928605a78db1d80641-c607ca46c77b9673130a54553f81fd2595304c96\"', u'oldvalue': u'New', u'bug_link': u'https://api.launchpad.net/devel/bugs/1445311', u'self_link': u'https://api.launchpad.net/devel/bugs/1445311/activity', u'whatchanged': u'fuel: status', u'message': None, u'datechanged': u'2015-04-17T08:15:40.114901+00:00', u'resource_type_link': u'https://api.launchpad.net/devel/#bug_activity', u'newvalue': u'Confirmed'}\n",
      "{u'person_link': u'https://api.launchpad.net/devel/~ksambor', u'web_link': u'https://bugs.launchpad.net/bugs/1445311/activity', u'http_etag': u'\"d035b92b278eb43478be934cfda6833b7b0c6ac1-c607ca46c77b9673130a54553f81fd2595304c96\"', u'oldvalue': u'Confirmed', u'bug_link': u'https://api.launchpad.net/devel/bugs/1445311', u'self_link': u'https://api.launchpad.net/devel/bugs/1445311/activity', u'whatchanged': u'fuel: status', u'message': None, u'datechanged': u'2015-04-20T12:51:42.465260+00:00', u'resource_type_link': u'https://api.launchpad.net/devel/#bug_activity', u'newvalue': u'In Progress'}\n",
      "{u'person_link': u'https://api.launchpad.net/devel/~dpyzhov', u'web_link': u'https://bugs.launchpad.net/bugs/1445311/activity', u'http_etag': u'\"6f6cc822068b0658eeb938ca783a211d00c29ee5-c607ca46c77b9673130a54553f81fd2595304c96\"', u'oldvalue': None, u'bug_link': u'https://api.launchpad.net/devel/bugs/1445311', u'self_link': u'https://api.launchpad.net/devel/bugs/1445311/activity', u'whatchanged': u'fuel: milestone', u'message': None, u'datechanged': u'2015-04-20T15:17:39.849064+00:00', u'resource_type_link': u'https://api.launchpad.net/devel/#bug_activity', u'newvalue': u'6.1'}\n",
      "{u'person_link': u'https://api.launchpad.net/devel/~tzn', u'web_link': u'https://bugs.launchpad.net/bugs/1445311/activity', u'http_etag': u'\"056afe32d87e41f53f11e3e740f42161dcdc0a44-c607ca46c77b9673130a54553f81fd2595304c96\"', u'oldvalue': u'High', u'bug_link': u'https://api.launchpad.net/devel/bugs/1445311', u'self_link': u'https://api.launchpad.net/devel/bugs/1445311/activity', u'whatchanged': u'fuel: importance', u'message': None, u'datechanged': u'2015-04-21T10:27:27.620849+00:00', u'resource_type_link': u'https://api.launchpad.net/devel/#bug_activity', u'newvalue': u'Medium'}\n",
      "{u'person_link': u'https://api.launchpad.net/devel/~tzn', u'web_link': u'https://bugs.launchpad.net/bugs/1445311/activity', u'http_etag': u'\"3528b463ccd3414ca2f27951e1e430139b383ed2-c607ca46c77b9673130a54553f81fd2595304c96\"', u'oldvalue': u'6.1', u'bug_link': u'https://api.launchpad.net/devel/bugs/1445311', u'self_link': u'https://api.launchpad.net/devel/bugs/1445311/activity', u'whatchanged': u'fuel: milestone', u'message': None, u'datechanged': u'2015-04-21T10:27:31.475360+00:00', u'resource_type_link': u'https://api.launchpad.net/devel/#bug_activity', u'newvalue': u'7.0'}\n",
      "{u'person_link': u'https://api.launchpad.net/devel/~tzn', u'web_link': u'https://bugs.launchpad.net/bugs/1445311/activity', u'http_etag': u'\"55791e09c071deae2aa6fe9bc079c836fd0a936a-c607ca46c77b9673130a54553f81fd2595304c96\"', u'oldvalue': u'module-shotgun', u'bug_link': u'https://api.launchpad.net/devel/bugs/1445311', u'self_link': u'https://api.launchpad.net/devel/bugs/1445311/activity', u'whatchanged': u'tags', u'message': None, u'datechanged': u'2015-04-21T10:27:46.445110+00:00', u'resource_type_link': u'https://api.launchpad.net/devel/#bug_activity', u'newvalue': u'feature-request module-shotgun'}\n",
      "{u'person_link': u'https://api.launchpad.net/devel/~tzn', u'web_link': u'https://bugs.launchpad.net/bugs/1445311/activity', u'http_etag': u'\"042acd3ada572626ee631354a1529cc2877b565f-c607ca46c77b9673130a54553f81fd2595304c96\"', u'oldvalue': u'feature-request module-shotgun', u'bug_link': u'https://api.launchpad.net/devel/bugs/1445311', u'self_link': u'https://api.launchpad.net/devel/bugs/1445311/activity', u'whatchanged': u'tags', u'message': None, u'datechanged': u'2015-04-21T10:27:55.073113+00:00', u'resource_type_link': u'https://api.launchpad.net/devel/#bug_activity', u'newvalue': u'feature-request module-shotgun needs-bp'}\n",
      "{u'person_link': u'https://api.launchpad.net/devel/~ksambor', u'web_link': u'https://bugs.launchpad.net/bugs/1445311/activity', u'http_etag': u'\"f13467b280b0a89053081b0463d8b7e06baef5c8-c607ca46c77b9673130a54553f81fd2595304c96\"', u'oldvalue': u'Kamil Sambor (ksambor)', u'bug_link': u'https://api.launchpad.net/devel/bugs/1445311', u'self_link': u'https://api.launchpad.net/devel/bugs/1445311/activity', u'whatchanged': u'fuel: assignee', u'message': None, u'datechanged': u'2015-04-21T10:53:32.322274+00:00', u'resource_type_link': u'https://api.launchpad.net/devel/#bug_activity', u'newvalue': u'Fuel Python Team (fuel-python)'}\n",
      "{u'person_link': u'https://api.launchpad.net/devel/~dpyzhov', u'web_link': u'https://bugs.launchpad.net/bugs/1445311/activity', u'http_etag': u'\"10dd68e742f4a2996c637c12c0c9f7edc51ec0f6-c607ca46c77b9673130a54553f81fd2595304c96\"', u'oldvalue': u'feature-request module-shotgun needs-bp', u'bug_link': u'https://api.launchpad.net/devel/bugs/1445311', u'self_link': u'https://api.launchpad.net/devel/bugs/1445311/activity', u'whatchanged': u'tags', u'message': None, u'datechanged': u'2015-04-21T16:12:26.943087+00:00', u'resource_type_link': u'https://api.launchpad.net/devel/#bug_activity', u'newvalue': u'feature module-shotgun needs-bp'}\n",
      "{u'person_link': u'https://api.launchpad.net/devel/~akislitsky', u'web_link': u'https://bugs.launchpad.net/bugs/1445311/activity', u'http_etag': u'\"45351c742fc08c027cfeb06598075d9788c6ac27-c607ca46c77b9673130a54553f81fd2595304c96\"', u'oldvalue': u'In Progress', u'bug_link': u'https://api.launchpad.net/devel/bugs/1445311', u'self_link': u'https://api.launchpad.net/devel/bugs/1445311/activity', u'whatchanged': u'fuel: status', u'message': None, u'datechanged': u'2015-07-17T13:49:29.205027+00:00', u'resource_type_link': u'https://api.launchpad.net/devel/#bug_activity', u'newvalue': u'Confirmed'}\n",
      "{u'person_link': u'https://api.launchpad.net/devel/~vsharshov', u'web_link': u'https://bugs.launchpad.net/bugs/1445311/activity', u'http_etag': u'\"765f2b5cb94e161c990d802afcacc4a0fe1cc0ca-c607ca46c77b9673130a54553f81fd2595304c96\"', u'oldvalue': None, u'bug_link': u'https://api.launchpad.net/devel/bugs/1445311', u'self_link': u'https://api.launchpad.net/devel/bugs/1445311/activity', u'whatchanged': u'nominated for series', u'message': None, u'datechanged': u'2015-08-06T11:23:08.014908+00:00', u'resource_type_link': u'https://api.launchpad.net/devel/#bug_activity', u'newvalue': u'fuel/8.0'}\n",
      "{u'person_link': u'https://api.launchpad.net/devel/~vsharshov', u'web_link': u'https://bugs.launchpad.net/bugs/1445311/activity', u'http_etag': u'\"e29933eb63f4042043c9e91d84f6014a0739369f-c607ca46c77b9673130a54553f81fd2595304c96\"', u'oldvalue': None, u'bug_link': u'https://api.launchpad.net/devel/bugs/1445311', u'self_link': u'https://api.launchpad.net/devel/bugs/1445311/activity', u'whatchanged': u'bug task added', u'message': None, u'datechanged': u'2015-08-06T11:23:08.014908+00:00', u'resource_type_link': u'https://api.launchpad.net/devel/#bug_activity', u'newvalue': u'fuel/8.0'}\n",
      "{u'person_link': u'https://api.launchpad.net/devel/~vsharshov', u'web_link': u'https://bugs.launchpad.net/bugs/1445311/activity', u'http_etag': u'\"972c830088c5f98cc1af705840fcdae61c70b519-c607ca46c77b9673130a54553f81fd2595304c96\"', u'oldvalue': u'New', u'bug_link': u'https://api.launchpad.net/devel/bugs/1445311', u'self_link': u'https://api.launchpad.net/devel/bugs/1445311/activity', u'whatchanged': u'fuel/8.0: status', u'message': None, u'datechanged': u'2015-08-06T11:23:14.042983+00:00', u'resource_type_link': u'https://api.launchpad.net/devel/#bug_activity', u'newvalue': u'Confirmed'}\n",
      "{u'person_link': u'https://api.launchpad.net/devel/~vsharshov', u'web_link': u'https://bugs.launchpad.net/bugs/1445311/activity', u'http_etag': u'\"083cdd6ada9b1b4e2c4ad06cdcf68c7aef562da0-c607ca46c77b9673130a54553f81fd2595304c96\"', u'oldvalue': u'Undecided', u'bug_link': u'https://api.launchpad.net/devel/bugs/1445311', u'self_link': u'https://api.launchpad.net/devel/bugs/1445311/activity', u'whatchanged': u'fuel/8.0: importance', u'message': None, u'datechanged': u'2015-08-06T11:23:16.072267+00:00', u'resource_type_link': u'https://api.launchpad.net/devel/#bug_activity', u'newvalue': u'Medium'}\n",
      "{u'person_link': u'https://api.launchpad.net/devel/~vsharshov', u'web_link': u'https://bugs.launchpad.net/bugs/1445311/activity', u'http_etag': u'\"74ea521bb60f298e314bb83384e5c2d8817d617d-c607ca46c77b9673130a54553f81fd2595304c96\"', u'oldvalue': None, u'bug_link': u'https://api.launchpad.net/devel/bugs/1445311', u'self_link': u'https://api.launchpad.net/devel/bugs/1445311/activity', u'whatchanged': u'fuel/8.0: assignee', u'message': None, u'datechanged': u'2015-08-06T11:23:20.904387+00:00', u'resource_type_link': u'https://api.launchpad.net/devel/#bug_activity', u'newvalue': u'Fuel Python Team (fuel-python)'}\n",
      "{u'person_link': u'https://api.launchpad.net/devel/~vsharshov', u'web_link': u'https://bugs.launchpad.net/bugs/1445311/activity', u'http_etag': u'\"64f497a4ded05f9525c9ee0b1ab9e55d4dd037f1-c607ca46c77b9673130a54553f81fd2595304c96\"', u'oldvalue': None, u'bug_link': u'https://api.launchpad.net/devel/bugs/1445311', u'self_link': u'https://api.launchpad.net/devel/bugs/1445311/activity', u'whatchanged': u'fuel/8.0: milestone', u'message': None, u'datechanged': u'2015-08-06T11:23:23.394649+00:00', u'resource_type_link': u'https://api.launchpad.net/devel/#bug_activity', u'newvalue': u'8.0'}\n",
      "{u'person_link': u'https://api.launchpad.net/devel/~vsharshov', u'web_link': u'https://bugs.launchpad.net/bugs/1445311/activity', u'http_etag': u'\"6a3b9da1940c933d753a3e22f29cc598ea23d11d-c607ca46c77b9673130a54553f81fd2595304c96\"', u'oldvalue': u'Confirmed', u'bug_link': u'https://api.launchpad.net/devel/bugs/1445311', u'self_link': u'https://api.launchpad.net/devel/bugs/1445311/activity', u'whatchanged': u'fuel: status', u'message': None, u'datechanged': u'2015-08-06T11:23:40.409501+00:00', u'resource_type_link': u'https://api.launchpad.net/devel/#bug_activity', u'newvalue': u\"Won't Fix\"}\n",
      "{u'person_link': u'https://api.launchpad.net/devel/~vsharshov', u'web_link': u'https://bugs.launchpad.net/bugs/1445311/activity', u'http_etag': u'\"b7995256af73b4cc805e760cd49293c61c481895-c607ca46c77b9673130a54553f81fd2595304c96\"', u'oldvalue': u'Medium', u'bug_link': u'https://api.launchpad.net/devel/bugs/1445311', u'self_link': u'https://api.launchpad.net/devel/bugs/1445311/activity', u'whatchanged': u'fuel/8.0: importance', u'message': None, u'datechanged': u'2015-08-06T11:24:13.294496+00:00', u'resource_type_link': u'https://api.launchpad.net/devel/#bug_activity', u'newvalue': u'Wishlist'}\n",
      "{u'person_link': u'https://api.launchpad.net/devel/~vsharshov', u'web_link': u'https://bugs.launchpad.net/bugs/1445311/activity', u'http_etag': u'\"95e1f18dbb4ab1688781bc129311166c6f3145a4-c607ca46c77b9673130a54553f81fd2595304c96\"', u'oldvalue': u'Medium', u'bug_link': u'https://api.launchpad.net/devel/bugs/1445311', u'self_link': u'https://api.launchpad.net/devel/bugs/1445311/activity', u'whatchanged': u'fuel: importance', u'message': None, u'datechanged': u'2015-08-06T11:24:27.008917+00:00', u'resource_type_link': u'https://api.launchpad.net/devel/#bug_activity', u'newvalue': u'Wishlist'}\n",
      "{u'person_link': u'https://api.launchpad.net/devel/~ashtokolov', u'web_link': u'https://bugs.launchpad.net/bugs/1445311/activity', u'http_etag': u'\"17e9c1e42211c2a316e8afd032f13972199a689e-c607ca46c77b9673130a54553f81fd2595304c96\"', u'oldvalue': u'Confirmed', u'bug_link': u'https://api.launchpad.net/devel/bugs/1445311', u'self_link': u'https://api.launchpad.net/devel/bugs/1445311/activity', u'whatchanged': u'fuel/8.0.x: status', u'message': None, u'datechanged': u'2015-09-18T10:23:07.963777+00:00', u'resource_type_link': u'https://api.launchpad.net/devel/#bug_activity', u'newvalue': u'Triaged'}\n",
      "{u'person_link': u'https://api.launchpad.net/devel/~ashtokolov', u'web_link': u'https://bugs.launchpad.net/bugs/1445311/activity', u'http_etag': u'\"3b33116a83e571d40cbd01e033965b4e8d361b27-c607ca46c77b9673130a54553f81fd2595304c96\"', u'oldvalue': u'Wishlist', u'bug_link': u'https://api.launchpad.net/devel/bugs/1445311', u'self_link': u'https://api.launchpad.net/devel/bugs/1445311/activity', u'whatchanged': u'fuel/8.0.x: importance', u'message': None, u'datechanged': u'2015-09-18T10:23:10.536379+00:00', u'resource_type_link': u'https://api.launchpad.net/devel/#bug_activity', u'newvalue': u'High'}\n",
      "{u'person_link': u'https://api.launchpad.net/devel/~dmitrymex', u'web_link': u'https://bugs.launchpad.net/bugs/1445311/activity', u'http_etag': u'\"07d98fcda26e993b201c4805df32998e9900d793-c607ca46c77b9673130a54553f81fd2595304c96\"', u'oldvalue': u'Triaged', u'bug_link': u'https://api.launchpad.net/devel/bugs/1445311', u'self_link': u'https://api.launchpad.net/devel/bugs/1445311/activity', u'whatchanged': u'fuel/8.0.x: status', u'message': None, u'datechanged': u'2015-09-18T10:45:30.855334+00:00', u'resource_type_link': u'https://api.launchpad.net/devel/#bug_activity', u'newvalue': u\"Won't Fix\"}\n",
      "{u'person_link': u'https://api.launchpad.net/devel/~dmitrymex', u'web_link': u'https://bugs.launchpad.net/bugs/1445311/activity', u'http_etag': u'\"b91d3cab112419143980fec9d8a39299dedb3f41-c607ca46c77b9673130a54553f81fd2595304c96\"', u'oldvalue': None, u'bug_link': u'https://api.launchpad.net/devel/bugs/1445311', u'self_link': u'https://api.launchpad.net/devel/bugs/1445311/activity', u'whatchanged': u'nominated for series', u'message': None, u'datechanged': u'2015-09-18T10:45:50.920143+00:00', u'resource_type_link': u'https://api.launchpad.net/devel/#bug_activity', u'newvalue': u'fuel/7.0.x'}\n",
      "{u'person_link': u'https://api.launchpad.net/devel/~dmitrymex', u'web_link': u'https://bugs.launchpad.net/bugs/1445311/activity', u'http_etag': u'\"9b0198caab6495f584345dc85776c9ca27084a47-c607ca46c77b9673130a54553f81fd2595304c96\"', u'oldvalue': None, u'bug_link': u'https://api.launchpad.net/devel/bugs/1445311', u'self_link': u'https://api.launchpad.net/devel/bugs/1445311/activity', u'whatchanged': u'bug task added', u'message': None, u'datechanged': u'2015-09-18T10:45:50.920143+00:00', u'resource_type_link': u'https://api.launchpad.net/devel/#bug_activity', u'newvalue': u'fuel/7.0.x'}\n",
      "{u'person_link': u'https://api.launchpad.net/devel/~dmitrymex', u'web_link': u'https://bugs.launchpad.net/bugs/1445311/activity', u'http_etag': u'\"1f43bbf4187beee53839fc0d1b3c2aeb79cd80c3-c607ca46c77b9673130a54553f81fd2595304c96\"', u'oldvalue': None, u'bug_link': u'https://api.launchpad.net/devel/bugs/1445311', u'self_link': u'https://api.launchpad.net/devel/bugs/1445311/activity', u'whatchanged': u'fuel/7.0.x: milestone', u'message': None, u'datechanged': u'2015-09-18T10:46:00.970478+00:00', u'resource_type_link': u'https://api.launchpad.net/devel/#bug_activity', u'newvalue': u'7.0'}\n",
      "{u'person_link': u'https://api.launchpad.net/devel/~dmitrymex', u'web_link': u'https://bugs.launchpad.net/bugs/1445311/activity', u'http_etag': u'\"b158bc86d27608e7958ab309e98b15b023977d64-c607ca46c77b9673130a54553f81fd2595304c96\"', u'oldvalue': None, u'bug_link': u'https://api.launchpad.net/devel/bugs/1445311', u'self_link': u'https://api.launchpad.net/devel/bugs/1445311/activity', u'whatchanged': u'fuel/7.0.x: assignee', u'message': None, u'datechanged': u'2015-09-18T10:46:07.147529+00:00', u'resource_type_link': u'https://api.launchpad.net/devel/#bug_activity', u'newvalue': u'Fuel Python Team (fuel-python)'}\n",
      "{u'person_link': u'https://api.launchpad.net/devel/~dmitrymex', u'web_link': u'https://bugs.launchpad.net/bugs/1445311/activity', u'http_etag': u'\"41ec32986c90967e69c123d2c721821ba3524a46-c607ca46c77b9673130a54553f81fd2595304c96\"', u'oldvalue': u'Undecided', u'bug_link': u'https://api.launchpad.net/devel/bugs/1445311', u'self_link': u'https://api.launchpad.net/devel/bugs/1445311/activity', u'whatchanged': u'fuel/7.0.x: importance', u'message': None, u'datechanged': u'2015-09-18T10:46:09.952599+00:00', u'resource_type_link': u'https://api.launchpad.net/devel/#bug_activity', u'newvalue': u'High'}\n",
      "{u'person_link': u'https://api.launchpad.net/devel/~dmitrymex', u'web_link': u'https://bugs.launchpad.net/bugs/1445311/activity', u'http_etag': u'\"8d14fc37d1bcc908e7b4c79b3c86aa3b98eae83c-c607ca46c77b9673130a54553f81fd2595304c96\"', u'oldvalue': u'New', u'bug_link': u'https://api.launchpad.net/devel/bugs/1445311', u'self_link': u'https://api.launchpad.net/devel/bugs/1445311/activity', u'whatchanged': u'fuel/7.0.x: status', u'message': None, u'datechanged': u'2015-09-18T10:46:12.226757+00:00', u'resource_type_link': u'https://api.launchpad.net/devel/#bug_activity', u'newvalue': u\"Won't Fix\"}\n",
      "{u'person_link': u'https://api.launchpad.net/devel/~dmitrymex', u'web_link': u'https://bugs.launchpad.net/bugs/1445311/activity', u'http_etag': u'\"bdb41c99b24f053ebafd75da68fea617a20bfdb3-c607ca46c77b9673130a54553f81fd2595304c96\"', u'oldvalue': u'7.0', u'bug_link': u'https://api.launchpad.net/devel/bugs/1445311', u'self_link': u'https://api.launchpad.net/devel/bugs/1445311/activity', u'whatchanged': u'fuel: milestone', u'message': None, u'datechanged': u'2015-09-18T10:46:18.672922+00:00', u'resource_type_link': u'https://api.launchpad.net/devel/#bug_activity', u'newvalue': u'8.0'}\n",
      "{u'person_link': u'https://api.launchpad.net/devel/~dmitrymex', u'web_link': u'https://bugs.launchpad.net/bugs/1445311/activity', u'http_etag': u'\"706cca4dfe25e65b20a2e5e6598ec27a7072e4a7-c607ca46c77b9673130a54553f81fd2595304c96\"', u'oldvalue': u\"Won't Fix\", u'bug_link': u'https://api.launchpad.net/devel/bugs/1445311', u'self_link': u'https://api.launchpad.net/devel/bugs/1445311/activity', u'whatchanged': u'fuel/8.0.x: status', u'message': None, u'datechanged': u'2015-09-18T10:46:23.208756+00:00', u'resource_type_link': u'https://api.launchpad.net/devel/#bug_activity', u'newvalue': u'Triaged'}\n",
      "{u'person_link': u'https://api.launchpad.net/devel/~a-gordeev', u'web_link': u'https://bugs.launchpad.net/bugs/1445311/activity', u'http_etag': u'\"3545a12af7051184ef3c78fbcf40252d47d58af2-c607ca46c77b9673130a54553f81fd2595304c96\"', u'oldvalue': u'Fuel Python Team (fuel-python)', u'bug_link': u'https://api.launchpad.net/devel/bugs/1445311', u'self_link': u'https://api.launchpad.net/devel/bugs/1445311/activity', u'whatchanged': u'fuel/8.0.x: assignee', u'message': None, u'datechanged': u'2015-09-23T11:21:20.265458+00:00', u'resource_type_link': u'https://api.launchpad.net/devel/#bug_activity', u'newvalue': u'Alexander Gordeev (a-gordeev)'}\n",
      "{u'person_link': u'https://api.launchpad.net/devel/~dpyzhov', u'web_link': u'https://bugs.launchpad.net/bugs/1445311/activity', u'http_etag': u'\"8620525ee0c77e4655b4ded9f7c10f0e97006d29-c607ca46c77b9673130a54553f81fd2595304c96\"', u'oldvalue': u'feature module-shotgun needs-bp', u'bug_link': u'https://api.launchpad.net/devel/bugs/1445311', u'self_link': u'https://api.launchpad.net/devel/bugs/1445311/activity', u'whatchanged': u'tags', u'message': None, u'datechanged': u'2015-09-28T13:32:43.233756+00:00', u'resource_type_link': u'https://api.launchpad.net/devel/#bug_activity', u'newvalue': u'feature module-shotgun need-bp'}\n",
      "{u'person_link': u'https://api.launchpad.net/devel/~hudson-openstack', u'web_link': u'https://bugs.launchpad.net/bugs/1445311/activity', u'http_etag': u'\"f5e41965afdaf9f4820f3d10a3c82324a5954fcf-c607ca46c77b9673130a54553f81fd2595304c96\"', u'oldvalue': u'Triaged', u'bug_link': u'https://api.launchpad.net/devel/bugs/1445311', u'self_link': u'https://api.launchpad.net/devel/bugs/1445311/activity', u'whatchanged': u'fuel: status', u'message': None, u'datechanged': u'2015-10-06T17:33:58.913480+00:00', u'resource_type_link': u'https://api.launchpad.net/devel/#bug_activity', u'newvalue': u'In Progress'}\n",
      "{u'person_link': u'https://api.launchpad.net/devel/~dpyzhov', u'web_link': u'https://bugs.launchpad.net/bugs/1445311/activity', u'http_etag': u'\"d97a9149bfe1fe8d78361729961b358d794feaf2-c607ca46c77b9673130a54553f81fd2595304c96\"', u'oldvalue': u'fuel/8.0.x', u'bug_link': u'https://api.launchpad.net/devel/bugs/1445311', u'self_link': u'https://api.launchpad.net/devel/bugs/1445311/activity', u'whatchanged': u'bug task deleted', u'message': None, u'datechanged': u'2015-10-12T16:26:27.487521+00:00', u'resource_type_link': u'https://api.launchpad.net/devel/#bug_activity', u'newvalue': None}\n"
     ]
    }
   ],
   "source": [
    "bug = lp.bugs[1445311] # https://bugs.launchpad.net/fuel/+bug/1445311/+activity\n",
    "ba = bug.activity\n",
    "for a in ba:\n",
    "    print a._wadl_resource.representation"
   ]
  },
  {
   "cell_type": "code",
   "execution_count": 289,
   "metadata": {
    "collapsed": false
   },
   "outputs": [
    {
     "data": {
      "text/html": [
       "<div style=\"max-height:1000px;max-width:1500px;overflow:auto;\">\n",
       "<table border=\"1\" class=\"dataframe\">\n",
       "  <thead>\n",
       "    <tr style=\"text-align: right;\">\n",
       "      <th></th>\n",
       "      <th>owner</th>\n",
       "      <th>age</th>\n",
       "    </tr>\n",
       "  </thead>\n",
       "  <tbody>\n",
       "    <tr>\n",
       "      <th>Audi</th>\n",
       "      <td> Peter</td>\n",
       "      <td> 1</td>\n",
       "    </tr>\n",
       "    <tr>\n",
       "      <th>Nissan</th>\n",
       "      <td>  Olga</td>\n",
       "      <td> 4</td>\n",
       "    </tr>\n",
       "    <tr>\n",
       "      <th>Volvo</th>\n",
       "      <td> Peter</td>\n",
       "      <td> 2</td>\n",
       "    </tr>\n",
       "  </tbody>\n",
       "</table>\n",
       "</div>"
      ],
      "text/plain": [
       "        owner age\n",
       "Audi    Peter   1\n",
       "Nissan   Olga   4\n",
       "Volvo   Peter   2"
      ]
     },
     "execution_count": 289,
     "metadata": {},
     "output_type": "execute_result"
    }
   ],
   "source": [
    "df1 = pd.DataFrame({'Ivan': ['M', 25], 'Peter': ['M', 30], 'Oleg': ['M', 28], 'Olga': ['W', 32]}, index=['sex', 'age']).transpose()\n",
    "df2 = pd.DataFrame({'Volvo': ['Peter', 2], 'Audi': ['Peter', 1], 'Nissan': ['Olga', 4]}, index=['owner', 'age']).transpose()\n",
    "df2"
   ]
  },
  {
   "cell_type": "code",
   "execution_count": 51,
   "metadata": {
    "collapsed": false
   },
   "outputs": [],
   "source": [
    "teams_map = {}\n",
    "for t in teams:\n",
    "    for p in lp.people[t].members:\n",
    "        try:\n",
    "            teams_map[t] += [p.name]\n",
    "        except KeyError:\n",
    "            teams_map[t] = [p.name]"
   ]
  },
  {
   "cell_type": "code",
   "execution_count": 52,
   "metadata": {
    "collapsed": false
   },
   "outputs": [
    {
     "data": {
      "text/plain": [
       "{'fuel-build': [u'r0mikiam',\n",
       "  u'sotpuschennikov',\n",
       "  u'mrasskazov',\n",
       "  u'vparakhin',\n",
       "  u'dburmistrov',\n",
       "  u'skulanov',\n",
       "  u'kozhukalov'],\n",
       " 'fuel-ci': [u'akaszuba',\n",
       "  u'aevseev-h',\n",
       "  u'dkaiharodsev',\n",
       "  u'ibelikov',\n",
       "  u'afedorova'],\n",
       " 'fuel-devops': [u'heos',\n",
       "  u'teran',\n",
       "  u'pbrzozowski',\n",
       "  u'mmatuszkowiak',\n",
       "  u'skulanov',\n",
       "  u'acharykov'],\n",
       " 'fuel-docs': [u'evkonstantinov',\n",
       "  u'aadamov',\n",
       "  u'mzlatkova',\n",
       "  u'ologvinova',\n",
       "  u'ogusarenko',\n",
       "  u'skarslioglu',\n",
       "  u'tzn',\n",
       "  u'fsoppelsa',\n",
       "  u'dborodaenko',\n",
       "  u'ipovolotskaya',\n",
       "  u'eshumakher'],\n",
       " 'fuel-library': [u'mmalchuk',\n",
       "  u'kgalanov',\n",
       "  u'zynzel',\n",
       "  u'ashtokolov',\n",
       "  u'alex-schultz',\n",
       "  u'sbogatkin',\n",
       "  u'bpiotrowski',\n",
       "  u'tzn',\n",
       "  u'smakar',\n",
       "  u'omolchanov',\n",
       "  u'sgolovatiuk',\n",
       "  u'adidenko',\n",
       "  u'bogdando',\n",
       "  u'raytrac3r',\n",
       "  u'xenolog',\n",
       "  u'dborodaenko',\n",
       "  u'xarses',\n",
       "  u'idv1985',\n",
       "  u'vkuklin'],\n",
       " u'fuel-maintainers': [u'afedorova'],\n",
       " u'fuel-octane': [u'sryabin',\n",
       "  u'smurashov',\n",
       "  u'yorik-sar',\n",
       "  u'akscram',\n",
       "  u'gelbuhos'],\n",
       " u'fuel-partner-core': [u'ipolliul',\n",
       "  u'jjainschigg-r',\n",
       "  u'omandryka',\n",
       "  u'popovych-andrey',\n",
       "  u'aarzhanov',\n",
       "  u'otsvigun',\n",
       "  u'ibumarskov',\n",
       "  u'rkhozinov',\n",
       "  u'omartsyniuk',\n",
       "  u'anoga',\n",
       "  u'igajsin',\n",
       "  u'gcon-monolake',\n",
       "  u'ekorekin',\n",
       "  u'okosse',\n",
       "  u'azemlyanov',\n",
       "  u'izinovik',\n",
       "  u'srogov',\n",
       "  u'eshumakher'],\n",
       " 'fuel-partner-engineering': [u'anoga',\n",
       "  u'fuel-partner-eng-qa',\n",
       "  u'fuel-partner-eng-dev'],\n",
       " 'fuel-plugin-calico': [u'neil-jerram', u'emma-0'],\n",
       " 'fuel-plugin-cinder-netapp': [u'samuel-bartel', u'dukov', u'prmtl'],\n",
       " 'fuel-plugin-cisco-aci': [u'bose', u'dhami', u'slevchenko'],\n",
       " 'fuel-plugin-contrail': [u'ipolliul', u'ivovk', u'anoga', u'omartsyniuk'],\n",
       " 'fuel-plugin-external-glusterfs': [u'sbogatkin', u'prmtl'],\n",
       " 'fuel-plugin-vmware-dvs': [u'vtabolin', u'igajsin', u'otsvigun'],\n",
       " 'fuel-plugin-zabbix': [u'simon-pasquier',\n",
       "  u'swann-w',\n",
       "  u'patrick-michel-petit',\n",
       "  u'rlu',\n",
       "  u'zynzel',\n",
       "  u'zatserklyany'],\n",
       " 'fuel-plugins-bugs': [u'rlu',\n",
       "  u'srogov',\n",
       "  u'carmela-rubinos',\n",
       "  u'aurlapova',\n",
       "  u'guillaume-thouvenin',\n",
       "  u'devvesa',\n",
       "  u'aignatov',\n",
       "  u'skolekonov',\n",
       "  u'rkhozinov',\n",
       "  u'ibumarskov',\n",
       "  u'sbogatkin',\n",
       "  u'ivovk',\n",
       "  u'igajsin',\n",
       "  u'otsvigun',\n",
       "  u'sbanka',\n",
       "  u'aepifanov',\n",
       "  u'emma-0',\n",
       "  u'omartsyniuk',\n",
       "  u'simon-pasquier',\n",
       "  u'omandryka',\n",
       "  u'ipovolotskaya'],\n",
       " 'fuel-plugins-docs': [u'ipovolotskaya'],\n",
       " 'fuel-python': [u'bgaifullin',\n",
       "  u'atykhonov',\n",
       "  u'xmig',\n",
       "  u'sergey.vilgelm',\n",
       "  u'lefremova',\n",
       "  u'abochkarev',\n",
       "  u'ipukha',\n",
       "  u'slava-val-al',\n",
       "  u'asvechnikov',\n",
       "  u'fzhadaev',\n",
       "  u'pkaminski',\n",
       "  u'ekosareva',\n",
       "  u'cutwater',\n",
       "  u'romcheg',\n",
       "  u'rmoe',\n",
       "  u'thomas-goirand',\n",
       "  u'dpyzhov',\n",
       "  u'vsharshov',\n",
       "  u'sbrzeczkowski',\n",
       "  u'maciej-iai',\n",
       "  u'popovych-andrey',\n",
       "  u'loles',\n",
       "  u'a-gordeev',\n",
       "  u'akislitsky',\n",
       "  u'okosse',\n",
       "  u'ivankliuk',\n",
       "  u'chenh1987',\n",
       "  u'kozhukalov',\n",
       "  u'prmtl',\n",
       "  u'aroma-x',\n",
       "  u'dshulyak',\n",
       "  u'ksambor',\n",
       "  u'ikalnitsky',\n",
       "  u'rustyrobot',\n",
       "  u'alekseyk-ru'],\n",
       " 'fuel-qa': [u'akostrikov-mirantis',\n",
       "  u'vkhlyunev',\n",
       "  u'kdemina',\n",
       "  u'aarzhanov',\n",
       "  u'akurenyshev',\n",
       "  u'ishamrai',\n",
       "  u'agrechanichenko',\n",
       "  u'vgorin',\n",
       "  u'unbelll',\n",
       "  u'mykhaylo-slobodyan',\n",
       "  u'dtyzhnenko',\n",
       "  u'tdubyk',\n",
       "  u'komelchenko',\n",
       "  u'ddmitriev',\n",
       "  u'apanchenko-8',\n",
       "  u'asledzinskiy',\n",
       "  u'ykotko',\n",
       "  u'anaboikina',\n",
       "  u'apalkina',\n",
       "  u'teran',\n",
       "  u'tatyana-leontovich',\n",
       "  u'aurlapova'],\n",
       " 'fuel-security': [u'acharykov',\n",
       "  u'dpyzhov',\n",
       "  u'mirantisbot',\n",
       "  u'bpiotrowski',\n",
       "  u'apanchenko-8',\n",
       "  u'zynzel',\n",
       "  u'aheczko-mirantis',\n",
       "  u'ebogdanov',\n",
       "  u'maximov',\n",
       "  u'sgolovatiuk',\n",
       "  u'bogdando',\n",
       "  u'adidenko',\n",
       "  u'vsharshov',\n",
       "  u'idv1985',\n",
       "  u'raytrac3r',\n",
       "  u'omolchanov',\n",
       "  u'smakar',\n",
       "  u'sbogatkin',\n",
       "  u'imarnat',\n",
       "  u'kozhukalov',\n",
       "  u'ielterman',\n",
       "  u'amogylchenko',\n",
       "  u'asheplyakov',\n",
       "  u'tzn',\n",
       "  u'dmitrymex',\n",
       "  u'msemenov',\n",
       "  u'fuel-drivers',\n",
       "  u'afedorova'],\n",
       " 'fuel-ui': [u'kpimenova',\n",
       "  u'vkramskikh',\n",
       "  u'bdudko',\n",
       "  u'astepanchuk',\n",
       "  u'jkirnosova'],\n",
       " 'mos-ceilometer': [u'ityaptin',\n",
       "  u'iberezovskiy',\n",
       "  u'idegtiarov',\n",
       "  u'nprivalova'],\n",
       " 'mos-ceph': [u'aclamk',\n",
       "  u'ifedotov',\n",
       "  u'hnarkaytis',\n",
       "  u'asheplyakov',\n",
       "  u'vsolovei',\n",
       "  u'akiselyova',\n",
       "  u'rzarzynski',\n",
       "  u'mgolub',\n",
       "  u'kdanylov'],\n",
       " 'mos-cinder': [u'serge-kovaleff', u'ynesenenko', u'aarefiev', u'e0ne'],\n",
       " u'mos-da': [u'isuzdal',\n",
       "  u'thomas-goirand',\n",
       "  u'mzawadzki-f',\n",
       "  u'iyozhikov',\n",
       "  u'iudovichenko',\n",
       "  u'vsaienko',\n",
       "  u'myatsenko',\n",
       "  u'mivanov',\n",
       "  u'dtrishkin',\n",
       "  u'iberezovskiy',\n",
       "  u'degorenko',\n",
       "  u'skolekonov'],\n",
       " 'mos-glance': [u'kkushaev',\n",
       "  u'dshakhray',\n",
       "  u'ivasilevskaya',\n",
       "  u'mfedosin',\n",
       "  u'ruhe',\n",
       "  u'ativelkov'],\n",
       " 'mos-heat': [u'ochuprykov',\n",
       "  u'skraynev',\n",
       "  u'prazumovsky',\n",
       "  u'ruhe',\n",
       "  u'pshchelo'],\n",
       " 'mos-horizon': [u'serge-kovaleff', u'vokhrimenko', u'pkarikh', u'tsufiev-x'],\n",
       " 'mos-ironic': [u'sturivnyi',\n",
       "  u'ipukha',\n",
       "  u'vsaienko',\n",
       "  u'yyekovenko',\n",
       "  u'aarefiev',\n",
       "  u'kromanenko',\n",
       "  u'ashestakov',\n",
       "  u'serge-kovaleff',\n",
       "  u'svasheka',\n",
       "  u'myatsenko',\n",
       "  u'vdrok',\n",
       "  u'yzveryanskyy',\n",
       "  u'pshchelo'],\n",
       " 'mos-kernel-networking': [u'fuel-drivers', u'alexander-duyck', u'smatov'],\n",
       " 'mos-kernel-storage': [u'fuel-drivers', u'ifedotov', u'hnarkaytis'],\n",
       " 'mos-kernel-virt': [u'fuel-drivers', u'pboldin'],\n",
       " 'mos-keystone': [u'serge-kovaleff', u'bbobrov', u'amakarov'],\n",
       " 'mos-linux': [u'isuzdal',\n",
       "  u'amogylchenko',\n",
       "  u'teselkin-d',\n",
       "  u'asyriy',\n",
       "  u'msemenov'],\n",
       " 'mos-lma-toolchain': [u'guillaume-thouvenin',\n",
       "  u'swann-w',\n",
       "  u'simon-pasquier',\n",
       "  u'patrick-michel-petit'],\n",
       " 'mos-maintenance': [u'srizvan',\n",
       "  u'dpuchkin',\n",
       "  u'dmeltsaykin',\n",
       "  u'akhivin',\n",
       "  u'anevenchannyy',\n",
       "  u'vsedelnik',\n",
       "  u'aermolov'],\n",
       " 'mos-murano': [u'ddovbii',\n",
       "  u'tlashchova',\n",
       "  u'starodubcevna',\n",
       "  u'smelikyan',\n",
       "  u'ativelkov',\n",
       "  u'kzaitsev',\n",
       "  u'efedorova',\n",
       "  u'slagun',\n",
       "  u'ruhe'],\n",
       " 'mos-neutron': [u'sbelous',\n",
       "  u'scollins',\n",
       "  u'kevinbenton',\n",
       "  u'alashai8',\n",
       "  u'shakhat',\n",
       "  u'skolekonov',\n",
       "  u'eezhova',\n",
       "  u'akamyshnikova',\n",
       "  u'aepifanov',\n",
       "  u'enikanorov',\n",
       "  u'obondarev',\n",
       "  u'aignatov'],\n",
       " 'mos-nova': [u'mhorban',\n",
       "  u'tdurakov',\n",
       "  u'pkholkin',\n",
       "  u'snikitin',\n",
       "  u'andreykurilin',\n",
       "  u'rpodolyaka'],\n",
       " 'mos-oslo': [u'dukhlov',\n",
       "  u'dmitrymex',\n",
       "  u'serge-kovaleff',\n",
       "  u'ozamiatin',\n",
       "  u'dims-v'],\n",
       " 'mos-packaging': [u'skolekonov',\n",
       "  u'thomas-goirand',\n",
       "  u'iudovichenko',\n",
       "  u'mzawadzki-f',\n",
       "  u'iyozhikov',\n",
       "  u'mivanov',\n",
       "  u'dtrishkin'],\n",
       " 'mos-puppet': [u'mzawadzki-f',\n",
       "  u'velovec',\n",
       "  u'skolekonov',\n",
       "  u'myatsenko',\n",
       "  u'vsaienko',\n",
       "  u'degorenko',\n",
       "  u'iberezovskiy'],\n",
       " 'mos-qa': [u'apetrov-n',\n",
       "  u'gluk12189',\n",
       "  u'yyekovenko',\n",
       "  u'sturivnyi',\n",
       "  u'ababich',\n",
       "  u'tnurlygayanov',\n",
       "  u'agalkin',\n",
       "  u'svasheka',\n",
       "  u'kkuznetsova',\n",
       "  u'vgusev',\n",
       "  u'vryzhenkin',\n",
       "  u'esikachev',\n",
       "  u'obutenko',\n",
       "  u'kromanenko',\n",
       "  u'ogubanov',\n",
       "  u'akuznetsova',\n",
       "  u'vrovachev',\n",
       "  u'ylobankov'],\n",
       " 'mos-sahara': [u'esikachev',\n",
       "  u'apavlov-n',\n",
       "  u'vgridnev',\n",
       "  u'nkonovalov',\n",
       "  u'sreshetniak',\n",
       "  u'slukjanov',\n",
       "  u'ruhe'],\n",
       " 'mos-scale': [u'dbelova', u'listomin', u'sgalkin'],\n",
       " 'mos-security': [u'kkushaev',\n",
       "  u'mirantisbot',\n",
       "  u'tnurlygayanov',\n",
       "  u'aheczko-mirantis',\n",
       "  u'mzawadzki-f',\n",
       "  u'ebogdanov',\n",
       "  u'smelikyan',\n",
       "  u'maximov',\n",
       "  u'dborodaenko',\n",
       "  u'teran',\n",
       "  u'mfedosin',\n",
       "  u'vsedelnik',\n",
       "  u'tzn',\n",
       "  u'eshumakher',\n",
       "  u'ielterman',\n",
       "  u'ralekseenkov',\n",
       "  u'asheplyakov',\n",
       "  u'amogylchenko',\n",
       "  u'amakarov',\n",
       "  u'vkuklin',\n",
       "  u'pchekin',\n",
       "  u'msemenov',\n",
       "  u'tsufiev-x',\n",
       "  u'e0ne',\n",
       "  u'ativelkov',\n",
       "  u'dbelova',\n",
       "  u'skraynev',\n",
       "  u'dmitrymex',\n",
       "  u'rpodolyaka',\n",
       "  u'r0mikiam',\n",
       "  u'aignatov',\n",
       "  u'mihgen',\n",
       "  u'ruhe',\n",
       "  u'imarnat',\n",
       "  u'afedorova'],\n",
       " 'mos-swift': [u'akhivin']}"
      ]
     },
     "execution_count": 52,
     "metadata": {},
     "output_type": "execute_result"
    }
   ],
   "source": [
    "teams_map"
   ]
  },
  {
   "cell_type": "code",
   "execution_count": 54,
   "metadata": {
    "collapsed": false
   },
   "outputs": [],
   "source": [
    "df.to_csv('open_fuel_8_0.csv', encoding='utf-8')"
   ]
  },
  {
   "cell_type": "code",
   "execution_count": 55,
   "metadata": {
    "collapsed": false
   },
   "outputs": [],
   "source": [
    "import yaml\n",
    "with open('teams.yml', 'w') as outfile:\n",
    "    outfile.write(yaml.dump(teams_map) )"
   ]
  },
  {
   "cell_type": "code",
   "execution_count": null,
   "metadata": {
    "collapsed": false
   },
   "outputs": [],
   "source": []
  }
 ],
 "metadata": {
  "kernelspec": {
   "display_name": "Python 2",
   "language": "python",
   "name": "python2"
  },
  "language_info": {
   "codemirror_mode": {
    "name": "ipython",
    "version": 2
   },
   "file_extension": ".py",
   "mimetype": "text/x-python",
   "name": "python",
   "nbconvert_exporter": "python",
   "pygments_lexer": "ipython2",
   "version": "2.7.10"
  }
 },
 "nbformat": 4,
 "nbformat_minor": 0
}
